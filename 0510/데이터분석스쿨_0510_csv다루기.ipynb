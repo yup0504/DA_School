{
  "nbformat": 4,
  "nbformat_minor": 0,
  "metadata": {
    "colab": {
      "provenance": []
    },
    "kernelspec": {
      "name": "python3",
      "display_name": "Python 3"
    },
    "language_info": {
      "name": "python"
    }
  },
  "cells": [
    {
      "cell_type": "markdown",
      "source": [
        "#1. 파일\n",
        "\n",
        "* 파일은 컴퓨터를 실행할때 가장 기본이 되는 단위.\n",
        "* 보통 프로그램실행할때 파일 실행한다.\n",
        "* 그 중의 우리는 CSV, Excel, Txt, .py 파일"
      ],
      "metadata": {
        "id": "i2gByXjryvVK"
      }
    },
    {
      "cell_type": "code",
      "execution_count": null,
      "metadata": {
        "colab": {
          "base_uri": "https://localhost:8080/"
        },
        "id": "es_SNWe4wz3g",
        "outputId": "30dcf2a7-0d0e-465a-a79c-dc877ac99eec"
      },
      "outputs": [
        {
          "output_type": "execute_result",
          "data": {
            "text/plain": [
              "429"
            ]
          },
          "metadata": {},
          "execution_count": 2
        }
      ],
      "source": [
        "# 1. 파일 읽기 예제\n",
        "\n",
        "#f = open(\"파일명\" , \"파일 열기 모드\")\n",
        "#f.close()\n",
        "\n",
        "# 파일 여는 모드는 읽기, 쓰기, 추가 등등이 있음\n",
        "# 읽기모드 -> r / 쓰기 w / 추가 a\n",
        "\n",
        "f = open('song.txt', 'w')\n",
        "f.write('''\n",
        "이윽고 내가 한눈에 너를 알아봤을 때\n",
        "모든 건 분명 달라지고 있었어\n",
        "내 세상은 널 알기 전과 후로 나뉘어\n",
        "니가 숨 쉬면 따스한 바람이 불어와\n",
        "니가 웃으면 눈부신 햇살이 비춰\n",
        "거기 있어줘서 그게 너라서\n",
        "가끔 내 어깨에 가만히 기대주어서\n",
        "나는 있잖아 정말 빈틈없이 행복해\n",
        "너를 따라서 시간은 흐르고 멈춰\n",
        "물끄러미 너를 들여다 보곤 해\n",
        "그것 말고는 아무것도 할 수 없어서\n",
        "너의 모든 순간 그게 나였으면 좋겠다\n",
        "생각만 해도 가슴이 차올라 나는 온통 너로\n",
        "보고 있으면 왠지 꿈처럼 아득한 것\n",
        "몇 광년 동안 날 향해 날아온 별빛 또 지금의 너\n",
        "*거기 있어줘서 그게 너라서\n",
        "가끔 나에게 조용하게 안겨주어서\n",
        "나는 있잖아 정말 남김없이 고마워\n",
        "너를 따라서 시간은 흐르고 멈춰\n",
        "물끄러미 너를 들여다보곤 해\n",
        "너를 보는 게 나에게는 사랑이니까\n",
        "너의 모든 순간 그게 나였으면 좋겠다...\n",
        "''')"
      ]
    },
    {
      "cell_type": "code",
      "source": [
        "f.close()"
      ],
      "metadata": {
        "id": "LVsdvGnAzLkh"
      },
      "execution_count": null,
      "outputs": []
    },
    {
      "cell_type": "code",
      "source": [
        "f = open('song.txt', 'r')\n",
        "contents = f.read()\n",
        "print(contents)\n",
        "f.close()\n",
        "\n",
        "# 1행에서 open()함수 다음에 파일명 다음에 읽기 모드 r을 입력해서 파일에 대한 값을 f에 저장\n",
        "# 2행에서 f를 이용하여 Read()함수를 실행하면 해당 파일의 텍스트들이 contents에 할당이 되고"
      ],
      "metadata": {
        "colab": {
          "base_uri": "https://localhost:8080/"
        },
        "id": "mcQsLLp_zNDx",
        "outputId": "3627e708-e3ad-460e-c603-96424e04af2e"
      },
      "execution_count": null,
      "outputs": [
        {
          "output_type": "stream",
          "name": "stdout",
          "text": [
            "\n",
            "이윽고 내가 한눈에 너를 알아봤을 때\n",
            "모든 건 분명 달라지고 있었어\n",
            "내 세상은 널 알기 전과 후로 나뉘어\n",
            "니가 숨 쉬면 따스한 바람이 불어와\n",
            "니가 웃으면 눈부신 햇살이 비춰\n",
            "거기 있어줘서 그게 너라서\n",
            "가끔 내 어깨에 가만히 기대주어서\n",
            "나는 있잖아 정말 빈틈없이 행복해\n",
            "너를 따라서 시간은 흐르고 멈춰\n",
            "물끄러미 너를 들여다 보곤 해\n",
            "그것 말고는 아무것도 할 수 없어서\n",
            "너의 모든 순간 그게 나였으면 좋겠다\n",
            "생각만 해도 가슴이 차올라 나는 온통 너로\n",
            "보고 있으면 왠지 꿈처럼 아득한 것\n",
            "몇 광년 동안 날 향해 날아온 별빛 또 지금의 너\n",
            "*거기 있어줘서 그게 너라서\n",
            "가끔 나에게 조용하게 안겨주어서\n",
            "나는 있잖아 정말 남김없이 고마워\n",
            "너를 따라서 시간은 흐르고 멈춰\n",
            "물끄러미 너를 들여다보곤 해\n",
            "너를 보는 게 나에게는 사랑이니까\n",
            "너의 모든 순간 그게 나였으면 좋겠다...\n",
            "\n"
          ]
        }
      ]
    },
    {
      "cell_type": "code",
      "source": [
        "# with문\n",
        "\n",
        "# with을 활용해서 Open()함수를 대체할 수 있다.\n",
        "## with문은 들여쓰기를 잘해야한다. 함수 if\n",
        "# 결론적으로 close()문을 안쓰는 편리함이 있고,\n",
        "\n",
        "with open('song.txt', 'r') as my_song_list:\n",
        "  content = my_song_list.read()\n",
        "  print(content)"
      ],
      "metadata": {
        "id": "L67f0P6pzc7t"
      },
      "execution_count": null,
      "outputs": []
    },
    {
      "cell_type": "code",
      "source": [
        "# 한줄로 읽어오는 방법\n",
        "# 파일 전체의 텍스트를 문자열로 반환하는 read()대신에 readlines()함수를 사용하면 \n",
        "# 한줄의 기준은 \\n\n",
        "\n",
        "with open('song.txt', 'r') as my_song_list:\n",
        "  content_list = my_song_list.readlines()\n",
        "  print(content_list)"
      ],
      "metadata": {
        "id": "acT1VMF21xhQ"
      },
      "execution_count": null,
      "outputs": []
    },
    {
      "cell_type": "code",
      "source": [
        "content_list[2]"
      ],
      "metadata": {
        "id": "9jGRPtz71xfh"
      },
      "execution_count": null,
      "outputs": []
    },
    {
      "cell_type": "code",
      "source": [
        "with open('song.txt', 'r') as my_song_list:\n",
        "  i = 0\n",
        "  while True:\n",
        "    line = my_song_list.readline()\n",
        "    if not line:\n",
        "      break\n",
        "    print(line.replace(\"\\n\", \"\"))\n",
        "    i = i + 1"
      ],
      "metadata": {
        "id": "E1cCrwrX1xdK"
      },
      "execution_count": null,
      "outputs": []
    },
    {
      "cell_type": "code",
      "source": [
        "song_list_new = []\n",
        "\n",
        "with open('song.txt', 'r') as my_song_list:\n",
        "  i = 0\n",
        "  while True:\n",
        "    line = my_song_list.readline()\n",
        "    if not line:\n",
        "      break\n",
        "    song_list_new.append(line.replace(\"\\n\", \"\"))\n",
        "    i = i + 1"
      ],
      "metadata": {
        "id": "GIA_tWsd1xbA"
      },
      "execution_count": null,
      "outputs": []
    },
    {
      "cell_type": "code",
      "source": [
        "song_list_new"
      ],
      "metadata": {
        "id": "tfI-_QkR1xY7"
      },
      "execution_count": null,
      "outputs": []
    },
    {
      "cell_type": "code",
      "source": [
        "with open('song.txt','r') as my_song_list:\n",
        "  contents = my_song_list.read()\n",
        "  word_list = contents.split(\" \")\n",
        "  line_list = contents.split(\"\\n\")\n",
        "\n",
        "print(f\"총 글자수는 {len(contents)}입니다.\")\n",
        "print(f\"총 단어수는 {len(word_list)}입니다.\")\n",
        "print(f\"총 줄수는 {len(line_list)}입니다.\")"
      ],
      "metadata": {
        "id": "pHKVOnR71xWn"
      },
      "execution_count": null,
      "outputs": []
    },
    {
      "cell_type": "code",
      "source": [
        "### 파일쓰기\n",
        "\n",
        "# 앞서 파일쓰기 중에서 인코딩 utf-8 / cp949 / euc-kr \n",
        "\n",
        "# 인코딩 실습\n",
        "\n",
        "f = open(\"count_list.txt\", 'w', encoding = 'utf8')"
      ],
      "metadata": {
        "id": "eH5eyAWR1xUd"
      },
      "execution_count": null,
      "outputs": []
    },
    {
      "cell_type": "code",
      "source": [
        "for i in range(1, 11):\n",
        "  data = f'{i}번째입니다.'\n",
        "  f.write(data)\n",
        "f.close()\n"
      ],
      "metadata": {
        "id": "iTLXb92R49QW"
      },
      "execution_count": null,
      "outputs": []
    },
    {
      "cell_type": "code",
      "source": [
        "with open('count_list_new.txt', 'w', encoding = 'utf8') as f:\n",
        "  for i in range(1,11):\n",
        "    data = f'{i}번째입니다.'\n",
        "    f.write(data)"
      ],
      "metadata": {
        "id": "llC8LpIH49OS"
      },
      "execution_count": null,
      "outputs": []
    },
    {
      "cell_type": "code",
      "source": [
        "# Pickle 모듈\n",
        "\n",
        "파이썬 프로그램을 실행할때마다 변수 객체를 메모리에 저장하고, \n",
        "컴퓨터를 껐다가 켜면 모두 날라가죠\n",
        "\n",
        "파이썬은 pickle모듈을 제공합니다.\n",
        "\n",
        "메모리에 로딩된 객체들을 연속적으로 사용할 수 있게 \n",
        "\n",
        "예를 들어 데이터, 클래스, 함수, 프로그램 \n",
        "향후 대기업, 관련 빅데이터 플랫폼 활용 "
      ],
      "metadata": {
        "id": "W2kP4OmU49MD"
      },
      "execution_count": null,
      "outputs": []
    },
    {
      "cell_type": "code",
      "source": [
        "# pickle 모듈을 사용하려면 import 저장하고자하는 객체를 넘기면됩니다.\n",
        "\n",
        "# 파일 열때 r 파일쓸때 w\n",
        "# pickle에서는 파일을 열때 rb 파일을 쓸때 wb \n",
        "\n",
        "import pickle"
      ],
      "metadata": {
        "id": "wBnDjF-849J0"
      },
      "execution_count": null,
      "outputs": []
    },
    {
      "cell_type": "code",
      "source": [
        "# pickle로 파일 만들기\n",
        "\n",
        "f = open('list.pickle' , 'wb')\n",
        "test = [1,2,3,4,5]\n",
        "pickle.dump(test, f)\n",
        "f.close()"
      ],
      "metadata": {
        "id": "8QD5RT3G5Dx9"
      },
      "execution_count": null,
      "outputs": []
    },
    {
      "cell_type": "code",
      "source": [
        "# pickle로 파일 불러오기? 읽기?\n",
        "\n",
        "f = open('list.pickle', 'rb')\n",
        "test_pickle = pickle.load(f)\n",
        "print(test_pickle)"
      ],
      "metadata": {
        "colab": {
          "base_uri": "https://localhost:8080/"
        },
        "id": "ij3vY7Ne49HV",
        "outputId": "7a306993-d87e-4d48-801c-5bd003dee588"
      },
      "execution_count": null,
      "outputs": [
        {
          "output_type": "stream",
          "name": "stdout",
          "text": [
            "[1, 2, 3, 4, 5]\n"
          ]
        }
      ]
    },
    {
      "cell_type": "code",
      "source": [
        "# pickle은 클래스도 저장가능하다.\n",
        "\n",
        "class Multiply(object):\n",
        "  def __init__(self, multi):\n",
        "    self.multi = 5\n",
        "  def multiply(self, number):\n",
        "    return number * self.multi\n",
        "\n",
        "multi_test = Multiply(5)\n",
        "multi_test.multiply(10)"
      ],
      "metadata": {
        "id": "haLLj-R549Em"
      },
      "execution_count": null,
      "outputs": []
    },
    {
      "cell_type": "code",
      "source": [
        "f = open('multiply_object.pickle', 'wb')\n",
        "pickle.dump(multi_test, f)\n",
        "f.close()"
      ],
      "metadata": {
        "id": "pzQJpr5nCV_i"
      },
      "execution_count": null,
      "outputs": []
    },
    {
      "cell_type": "code",
      "source": [
        "f = open('multiply_object.pickle', 'rb')\n",
        "multi_test = pickle.load(f)"
      ],
      "metadata": {
        "id": "oJIptmxSCV9o"
      },
      "execution_count": null,
      "outputs": []
    },
    {
      "cell_type": "code",
      "source": [
        "multi_test.multiply(10)"
      ],
      "metadata": {
        "id": "i4iwFz9xCV7i"
      },
      "execution_count": null,
      "outputs": []
    },
    {
      "cell_type": "markdown",
      "source": [
        "# CSV 데이터\n",
        "\n",
        "* 데이터 분석의 대부분은 통계프로그램이 아니라 엑셀 작업을 주로 해요\n",
        "* 그만큼 우리는 스트레드시트 데이터를 많이보게되고\n",
        "* Excel 잘 다뤄도 -> 데이터분석 잘한다."
      ],
      "metadata": {
        "id": "oaRlnzXfCeGY"
      }
    },
    {
      "cell_type": "markdown",
      "source": [
        "* CSV 쉼표로 나누진 데이터인데\n",
        "* 1,2,3,4,5 -> test.csv / txt\n",
        "* .xlsx -> .csv\n",
        "* 읽기에도 좋고, 용량도 excel파일보다 작고, 콤마로 구분되어서 사용하기 편하거나 전처리하기 좋다.\n",
        "* Python -> excel -> python"
      ],
      "metadata": {
        "id": "nhXLlTx_Cg5z"
      }
    },
    {
      "cell_type": "code",
      "source": [
        "import csv\n",
        "import os #경로 지정"
      ],
      "metadata": {
        "id": "nWTsrdyTCV41"
      },
      "execution_count": null,
      "outputs": []
    },
    {
      "cell_type": "code",
      "source": [
        "# 경로 지정\n",
        "\n",
        "os.chdir('/content/sample_data')"
      ],
      "metadata": {
        "id": "irZAy4u_CV2y"
      },
      "execution_count": null,
      "outputs": []
    },
    {
      "cell_type": "code",
      "source": [
        "f = open('song.txt', 'w')\n",
        "f.write('''\n",
        "이윽고 내가 한눈에 너를 알아봤을 때\n",
        "모든 건 분명 달라지고 있었어\n",
        "내 세상은 널 알기 전과 후로 나뉘어\n",
        "니가 숨 쉬면 따스한 바람이 불어와\n",
        "니가 웃으면 눈부신 햇살이 비춰\n",
        "거기 있어줘서 그게 너라서\n",
        "가끔 내 어깨에 가만히 기대주어서\n",
        "나는 있잖아 정말 빈틈없이 행복해\n",
        "너를 따라서 시간은 흐르고 멈춰\n",
        "물끄러미 너를 들여다 보곤 해\n",
        "그것 말고는 아무것도 할 수 없어서\n",
        "너의 모든 순간 그게 나였으면 좋겠다\n",
        "생각만 해도 가슴이 차올라 나는 온통 너로\n",
        "보고 있으면 왠지 꿈처럼 아득한 것\n",
        "몇 광년 동안 날 향해 날아온 별빛 또 지금의 너\n",
        "*거기 있어줘서 그게 너라서\n",
        "가끔 나에게 조용하게 안겨주어서\n",
        "나는 있잖아 정말 남김없이 고마워\n",
        "너를 따라서 시간은 흐르고 멈춰\n",
        "물끄러미 너를 들여다보곤 해\n",
        "너를 보는 게 나에게는 사랑이니까\n",
        "너의 모든 순간 그게 나였으면 좋겠다...\n",
        "''')\n",
        "f.close()"
      ],
      "metadata": {
        "id": "LCKG9omzCVwS"
      },
      "execution_count": null,
      "outputs": []
    },
    {
      "cell_type": "code",
      "source": [
        "# open\n",
        "\n",
        "f = open('test.csv', 'r', encoding = 'utf-8')\n",
        "\n",
        "f"
      ],
      "metadata": {
        "colab": {
          "base_uri": "https://localhost:8080/"
        },
        "id": "3pIyTF74C_F_",
        "outputId": "989ab54f-404a-476b-e47b-b8d05ff01570"
      },
      "execution_count": null,
      "outputs": [
        {
          "output_type": "execute_result",
          "data": {
            "text/plain": [
              "<_io.TextIOWrapper name='test.csv' mode='r' encoding='utf-8'>"
            ]
          },
          "metadata": {},
          "execution_count": 3
        }
      ]
    },
    {
      "cell_type": "code",
      "source": [
        "new = csv.reader(f)\n",
        "new"
      ],
      "metadata": {
        "colab": {
          "base_uri": "https://localhost:8080/"
        },
        "id": "v6s114XMClub",
        "outputId": "af06b8f1-8389-4952-b7cd-8f60adeb71e1"
      },
      "execution_count": null,
      "outputs": [
        {
          "output_type": "execute_result",
          "data": {
            "text/plain": [
              "<_csv.reader at 0x7fe96b4aceb0>"
            ]
          },
          "metadata": {},
          "execution_count": 4
        }
      ]
    },
    {
      "cell_type": "code",
      "source": [
        "# csv파일 출력하기\n",
        "\n",
        "a_list = []\n",
        "for i in new:\n",
        "  print(i)\n",
        "  a_list.append(i)"
      ],
      "metadata": {
        "colab": {
          "base_uri": "https://localhost:8080/"
        },
        "id": "BZ49PKcmClsK",
        "outputId": "370cae98-8fd1-4a21-f0ea-490282704037"
      },
      "execution_count": null,
      "outputs": [
        {
          "output_type": "stream",
          "name": "stdout",
          "text": [
            "['국어', '영어', '수학', '', '', '', '']\n",
            "['50', '80', '90', '', '', '', '']\n"
          ]
        }
      ]
    },
    {
      "cell_type": "code",
      "source": [
        "# 함수화 하기  위에서 파일을 여는 방법과 거의 동일한 문장을 사용\n",
        "\n",
        "def opencsv(filename):\n",
        "  f = open(filename, 'r')\n",
        "  reader = csv.reader(f)\n",
        "  output = []\n",
        "  for i in reader:\n",
        "    output.append(i)\n",
        "  return output"
      ],
      "metadata": {
        "id": "1qA6LXkzClp4"
      },
      "execution_count": null,
      "outputs": []
    },
    {
      "cell_type": "code",
      "source": [
        "opencsv('test.csv')"
      ],
      "metadata": {
        "id": "8xLWeszUClnZ"
      },
      "execution_count": null,
      "outputs": []
    },
    {
      "cell_type": "code",
      "source": [
        "# 새로운 데이터 읽기 예제\n",
        "\n",
        "a = [['구', '전체', '내국인', '외국인'], \n",
        "     ['관악구','519864','502089','17775'], \n",
        "     ['강남구','547602','542498','5104'], \n",
        "     ['송파구','686181', '679247', '6934'], \n",
        "     ['강동구','428547','424235','4312']]"
      ],
      "metadata": {
        "id": "MlUYelmsClk2"
      },
      "execution_count": null,
      "outputs": []
    },
    {
      "cell_type": "code",
      "source": [
        "a"
      ],
      "metadata": {
        "colab": {
          "base_uri": "https://localhost:8080/"
        },
        "id": "YWVb4PtkClhg",
        "outputId": "baeb1631-12b5-479e-a243-f7a5a178ffff"
      },
      "execution_count": null,
      "outputs": [
        {
          "output_type": "execute_result",
          "data": {
            "text/plain": [
              "[['구', '전체', '내국인', '외국인'],\n",
              " ['관악구', '519864', '502089', '17775'],\n",
              " ['강남구', '547602', '542498', '5104'],\n",
              " ['송파구', '686181', '679247', '6934'],\n",
              " ['강동구', '428547', '424235', '4312']]"
            ]
          },
          "metadata": {},
          "execution_count": 9
        }
      ]
    },
    {
      "cell_type": "code",
      "source": [
        "f = open('abc.csv', 'w', newline = '')"
      ],
      "metadata": {
        "id": "u9MqkUK_FUEl"
      },
      "execution_count": null,
      "outputs": []
    },
    {
      "cell_type": "code",
      "source": [
        "new_csv = csv.writer(f, delimiter = ',')"
      ],
      "metadata": {
        "id": "I-JuUp6FFUCi"
      },
      "execution_count": null,
      "outputs": []
    },
    {
      "cell_type": "code",
      "source": [
        "new_csv.writerows(a)   # a자료를 csv파일에 넣기\n",
        "f.close()"
      ],
      "metadata": {
        "id": "JPVT49W2FT_8"
      },
      "execution_count": null,
      "outputs": []
    },
    {
      "cell_type": "code",
      "source": [
        "# 새로운 데이터 쓰기 예제\n",
        "\n",
        "b = [['구', '전체', '내국인', '외국인'], \n",
        "     ['관악구','519864','502089','17775'], \n",
        "     ['강남구','547602','542498','5104'], \n",
        "     ['송파구','686181', '679247', '6934'], \n",
        "     ['강동구','428547','424235','4312']]"
      ],
      "metadata": {
        "id": "VPydyKC3FT9c"
      },
      "execution_count": null,
      "outputs": []
    },
    {
      "cell_type": "code",
      "source": [
        "# 함수화 하기\n",
        "\n",
        "def writecsv(filename, list):\n",
        "  with open(filename, 'w', newline = '') as f:\n",
        "    a = csv.writer(f, delimiter = ',')\n",
        "    a.writerows(list)"
      ],
      "metadata": {
        "id": "p-WtdbA6GdOU"
      },
      "execution_count": null,
      "outputs": []
    },
    {
      "cell_type": "code",
      "source": [
        "writecsv('new_a')"
      ],
      "metadata": {
        "id": "Q308G8U_GeaE"
      },
      "execution_count": null,
      "outputs": []
    },
    {
      "cell_type": "code",
      "source": [
        "import os\n",
        "os.chdir('/content/sample_data/')"
      ],
      "metadata": {
        "id": "MvarYu5FWOT7"
      },
      "execution_count": null,
      "outputs": []
    },
    {
      "cell_type": "code",
      "source": [
        "import csv"
      ],
      "metadata": {
        "id": "gcH17c8iXC4E"
      },
      "execution_count": null,
      "outputs": []
    },
    {
      "cell_type": "code",
      "source": [
        "# 함수화 하기\n",
        "def opencsv(filename):\n",
        "  f = open(filename, 'r')\n",
        "  reader = csv.reader(f)\n",
        "  output = []\n",
        "  for i in reader:\n",
        "    output.append(i)\n",
        "  return output"
      ],
      "metadata": {
        "id": "p4KhIowiXKBd"
      },
      "execution_count": null,
      "outputs": []
    },
    {
      "cell_type": "code",
      "source": [
        "total = opencsv('seoul.csv')\n",
        "total"
      ],
      "metadata": {
        "colab": {
          "base_uri": "https://localhost:8080/"
        },
        "id": "sJHrnMSEXExg",
        "outputId": "fb68524a-ff03-4aa4-e55b-0f614bbfc50e"
      },
      "execution_count": null,
      "outputs": [
        {
          "output_type": "execute_result",
          "data": {
            "text/plain": [
              "[['Gu', 'Korean', 'Foreigner', 'Senior'],\n",
              " ['Total', '9,740,398', '285,529', '1,468,146'],\n",
              " ['Jongrogu', '151,767', '11,093', '27,394'],\n",
              " ['Jongru', '126,409', '10,254', '23,025'],\n",
              " ['Yongsangu', '228,830', '16,159', '38,531'],\n",
              " ['Seongdonggu', '303,158', '8,132', '43,662'],\n",
              " ['Kwangjingu', '352,692', '15,645', '47,347'],\n",
              " ['Dongdaemoongu', '346,551', '17,228', '58,764'],\n",
              " ['Jungranggu', '398,812', '4,964', '64,449'],\n",
              " ['Seongbukgu', '441,590', '12,524', '70,204'],\n",
              " ['Gangbukgu', '314,090', '3,785', '59,808'],\n",
              " ['Dobonggu', '335,280', '2,314', '58,070'],\n",
              " ['Nowonggu', '535,282', '4,547', '79,968'],\n",
              " ['Eunpyonggu', '481,663', '4,496', '79,957'],\n",
              " ['Seodaemungu', '310,069', '14,020', '51,708'],\n",
              " ['Mapogu', '373,629', '11,976', '51,961'],\n",
              " ['Yangcheongu', '459,849', '4,082', '60,487'],\n",
              " ['Gangseogu', '593,708', '6,532', '82,937'],\n",
              " ['Gurogu', '406,748', '33,102', '64,952'],\n",
              " ['Guemcheongu', '233,371', '19,497', '37,191'],\n",
              " ['Youngdeungpogu', '368,402', '34,076', '57,350'],\n",
              " ['Dongjakgu', '397,618', '12,869', '61,607'],\n",
              " ['Kwanakgu', '502,117', '17,836', '74,518'],\n",
              " ['Seoucheogu', '431,027', '4,231', '56,455'],\n",
              " ['Gangnamgu', '544,028', '5,015', '70,029'],\n",
              " ['Songpagu', '677,489', '6,849', '86,062'],\n",
              " ['Gangdonggu', '426,219', '4,303', '61,710']]"
            ]
          },
          "metadata": {},
          "execution_count": 8
        }
      ]
    },
    {
      "cell_type": "code",
      "source": [
        "# 상위 5개 파일 불러오기 head() 상위 5개 불러오기\n",
        "for i in total [:5]:\n",
        "  print(i)"
      ],
      "metadata": {
        "colab": {
          "base_uri": "https://localhost:8080/"
        },
        "id": "k8s8l2k3X0Dp",
        "outputId": "e524fcb8-68b1-4cd8-cf4a-1be48d303dd9"
      },
      "execution_count": null,
      "outputs": [
        {
          "output_type": "stream",
          "name": "stdout",
          "text": [
            "['Gu', 'Korean', 'Foreigner', 'Senior']\n",
            "['Total', '9,740,398', '285,529', '1,468,146']\n",
            "['Jongrogu', '151,767', '11,093', '27,394']\n",
            "['Jongru', '126,409', '10,254', '23,025']\n",
            "['Yongsangu', '228,830', '16,159', '38,531']\n"
          ]
        }
      ]
    },
    {
      "cell_type": "code",
      "source": [
        "# 숫자형이 문자형으로 되어있는것\n",
        "# '9,740,398'\n",
        "# 9740398 -> 회계 9,740,398\n",
        "\n",
        "i = '123'\n",
        "float(i)"
      ],
      "metadata": {
        "id": "G-cdjh2cZTI0"
      },
      "execution_count": null,
      "outputs": []
    },
    {
      "cell_type": "code",
      "source": [
        "#문자형을 실수형으로 바꿀때 ,가 있으면 에러가 납니다.\n",
        "float('123,456')"
      ],
      "metadata": {
        "id": "lyCZ7NaqZTG7"
      },
      "execution_count": null,
      "outputs": []
    },
    {
      "cell_type": "code",
      "source": [
        "import re"
      ],
      "metadata": {
        "id": "fbJvhKCvZTEv"
      },
      "execution_count": null,
      "outputs": []
    },
    {
      "cell_type": "code",
      "source": [
        "# substring -> 슬라이싱\n",
        "\n",
        "# sub -> 대체 -> 바꾼다\n",
        "\n",
        "j = '123,456'\n",
        "float(re.sub(',', '', j))   # sub(바꿔야하는거 , 바꿀것, 데이터)"
      ],
      "metadata": {
        "colab": {
          "base_uri": "https://localhost:8080/"
        },
        "id": "bZxdb_wSZTCh",
        "outputId": "57545483-a9bd-41ab-ef97-682a915a996a"
      },
      "execution_count": null,
      "outputs": [
        {
          "output_type": "execute_result",
          "data": {
            "text/plain": [
              "123456.0"
            ]
          },
          "metadata": {},
          "execution_count": 13
        }
      ]
    },
    {
      "cell_type": "code",
      "source": [
        "int(re.sub(',','',j))"
      ],
      "metadata": {
        "colab": {
          "base_uri": "https://localhost:8080/"
        },
        "id": "uODXjuo9Zhs5",
        "outputId": "dda87841-068c-4c77-8565-889df509e6b6"
      },
      "execution_count": null,
      "outputs": [
        {
          "output_type": "execute_result",
          "data": {
            "text/plain": [
              "123456"
            ]
          },
          "metadata": {},
          "execution_count": 14
        }
      ]
    },
    {
      "cell_type": "code",
      "source": [
        "# 슬라이싱 \n",
        "total [:5]:"
      ],
      "metadata": {
        "id": "PkexY-4QZwOG"
      },
      "execution_count": null,
      "outputs": []
    },
    {
      "cell_type": "code",
      "source": [
        "# 인덱싱\n",
        "i = total[2]\n",
        "i"
      ],
      "metadata": {
        "id": "cMGQij9hZz9V"
      },
      "execution_count": null,
      "outputs": []
    },
    {
      "cell_type": "code",
      "source": [
        "# 정규표현식 -> "
      ],
      "metadata": {
        "id": "Qp_ibI97u6Jd"
      },
      "execution_count": null,
      "outputs": []
    },
    {
      "cell_type": "code",
      "source": [
        "# 한번 작성해보세요~ \n",
        "# 리스트안에 숫자가 1개라도 있으면 ',' -> ''으로 변경\n",
        "\n",
        "k = []\n",
        "for j in i:\n",
        "  if re.search('\\d', j): #j에서 숫자를 1개라도 찾았다면 \n",
        "    k.append(int(re.sub(',' , '', j)))\n",
        "  else:\n",
        "    k.append(j)    "
      ],
      "metadata": {
        "id": "erlKp2WKu6_p"
      },
      "execution_count": null,
      "outputs": []
    },
    {
      "cell_type": "code",
      "source": [
        "# 만약, 문자와 숫자가섞여있다면?\n",
        "# 데이터가 밀리는 경우는 부지기수.\n",
        "\n",
        "p = ['123강남구', '456종로구', '11,093', '27,394']\n",
        "k = []\n",
        "a = []\n",
        "for j in p:\n",
        "  if re.search('[a-z가-힣]', j): #j에서 소문자 알파벳(a-z) 또는 한글 문자(가-힣)가 있다면\n",
        "    k.append(j)\n",
        "  else:\n",
        "    a.append(float(re.sub(',' , '', j))) "
      ],
      "metadata": {
        "id": "-QhDFoOMZz7E"
      },
      "execution_count": null,
      "outputs": []
    },
    {
      "cell_type": "code",
      "source": [
        "k   # 문자는 k로"
      ],
      "metadata": {
        "colab": {
          "base_uri": "https://localhost:8080/"
        },
        "id": "2FqaDRbXZz42",
        "outputId": "66285d0e-98bc-4847-de21-960c80136f48"
      },
      "execution_count": null,
      "outputs": [
        {
          "output_type": "execute_result",
          "data": {
            "text/plain": [
              "['123강남구', '456종로구']"
            ]
          },
          "metadata": {},
          "execution_count": 21
        }
      ]
    },
    {
      "cell_type": "code",
      "source": [
        "a  # 문자가 포함되어있지 않으면 a로"
      ],
      "metadata": {
        "colab": {
          "base_uri": "https://localhost:8080/"
        },
        "id": "neJLW9tnZz01",
        "outputId": "8efda7a1-2cb7-44a7-9276-958355bacb68"
      },
      "execution_count": null,
      "outputs": [
        {
          "output_type": "execute_result",
          "data": {
            "text/plain": [
              "[11093.0, 27394.0]"
            ]
          },
          "metadata": {},
          "execution_count": 22
        }
      ]
    },
    {
      "cell_type": "code",
      "source": [
        "# 만약 특수문자가 있다면??\n",
        "\n",
        "p = ['123강남구@@', '456종로구!!', '11,093', '27,394']\n",
        "k = []\n",
        "for j in p:\n",
        "  if re.search('[a-z가-힣!@]', j): \n",
        "    k.append(j)\n",
        "  else:\n",
        "    k.append(float(re.sub(',' , '', j))) "
      ],
      "metadata": {
        "id": "ErvCrNRXwwH3"
      },
      "execution_count": null,
      "outputs": []
    },
    {
      "cell_type": "code",
      "source": [
        "# 예외처리\n",
        "# try - except try 실행해보고, 오류가 나면 except를 실행해라"
      ],
      "metadata": {
        "id": "8uZNAKmpwxgs"
      },
      "execution_count": null,
      "outputs": []
    },
    {
      "cell_type": "code",
      "source": [
        "try:\n",
        "  p = ['123강남구@@', '456종로구!!', '11,093', '27,394']\n",
        "  k = []\n",
        "  for j in p:\n",
        "    if re.search('[a-z가-힣!@]', j): \n",
        "      k.append(j)\n",
        "    else:\n",
        "      k.append(float(re.sub(',' , '', j))) \n",
        "except:\n",
        "  pass"
      ],
      "metadata": {
        "id": "-pzmr8mAwzL4"
      },
      "execution_count": null,
      "outputs": []
    },
    {
      "cell_type": "code",
      "source": [
        "# 많은 데이터를 처리할 수 있는 함수 만들기\n",
        "\n",
        "def switch(listname):\n",
        "  for i in listname:\n",
        "    print(i)   # 어떤 식으로 실행되는지 궁금할 때\n",
        "    # ['Jongrogu', 151767, 11093, 27394]\n",
        "    for j in i:  # 리스트에 있는 요소를 받아와서\n",
        "      print(j)\n",
        "      try:      # 여기 해당되는건 바꾸고 (, 문자형을 숫자형으로 바꾸고)\n",
        "        i[i.index(j)] = float(re.sub(',','',j))\n",
        "      except:   # 해당되지 않으면 바꾸지 말아라 (숫자가 없는 문자형은 넘어가기)\n",
        "        pass\n",
        "  return listname"
      ],
      "metadata": {
        "id": "LFIZoVSSwzJ-"
      },
      "execution_count": null,
      "outputs": []
    },
    {
      "cell_type": "code",
      "source": [
        "# 함수화 하기\n",
        "def opencsv(filename):\n",
        "  f = open(filename, 'r')\n",
        "  reader = csv.reader(f)\n",
        "  output = []\n",
        "  for i in reader:\n",
        "    output.append(i)\n",
        "  return output"
      ],
      "metadata": {
        "id": "Lz92mU9jyO3Z"
      },
      "execution_count": null,
      "outputs": []
    },
    {
      "cell_type": "code",
      "source": [
        "import os\n",
        "import re\n",
        "import csv\n",
        "\n",
        "# 경로 불러오기\n",
        "os.chdir('/content/sample_data/')\n",
        "\n",
        "# csv데이터 불러오기\n",
        "total = opencsv('seoul.csv')"
      ],
      "metadata": {
        "id": "tdA3NduxwzHj"
      },
      "execution_count": null,
      "outputs": []
    },
    {
      "cell_type": "code",
      "source": [
        "total"
      ],
      "metadata": {
        "id": "lC9R4U6wwzFO"
      },
      "execution_count": null,
      "outputs": []
    },
    {
      "cell_type": "code",
      "source": [
        "# 많은 데이터를 처리할 수 있는 함수 만들기\n",
        "\n",
        "def switch(listname):\n",
        "  for i in listname: #이중 리스트안에 있는 리스트 1개를 가져오고\n",
        "    for j in i: #리스트에 있는 요소를 받아와서\n",
        "      try: # 여기 해당되는건 바꾸고 (, 문자형을 숫자형으로)\n",
        "        i[i.index(j)] = float(re.sub(',','',j))\n",
        "      except: # 해당되지 않으면 바꾸지 말아라(숫자가 없는 문자형은 넘어가라)\n",
        "        pass\n",
        "  return listname"
      ],
      "metadata": {
        "id": "xwORMvzCzFQo"
      },
      "execution_count": null,
      "outputs": []
    },
    {
      "cell_type": "code",
      "source": [
        "sample = switch(total)"
      ],
      "metadata": {
        "id": "531jkCoWy12I"
      },
      "execution_count": null,
      "outputs": []
    },
    {
      "cell_type": "code",
      "source": [
        "sample"
      ],
      "metadata": {
        "id": "93lOWu-pzYd-"
      },
      "execution_count": null,
      "outputs": []
    },
    {
      "cell_type": "code",
      "source": [
        "print(sample[:4])"
      ],
      "metadata": {
        "colab": {
          "base_uri": "https://localhost:8080/"
        },
        "id": "_QuKIWrwzYb5",
        "outputId": "3af87a60-9956-4811-a0c3-cd41daaa99fd"
      },
      "execution_count": null,
      "outputs": [
        {
          "output_type": "stream",
          "name": "stdout",
          "text": [
            "[['Gu', 'Korean', 'Foreigner', 'Senior'], ['Total', 9740398.0, 285529.0, 1468146.0], ['Jongrogu', 151767.0, 11093.0, 27394.0], ['Jongru', 126409.0, 10254.0, 23025.0]]\n"
          ]
        }
      ]
    },
    {
      "cell_type": "code",
      "source": [
        "# 첫번째 행(제목 지정하기)\n",
        "\n",
        "title = [['구','한국인','외국인','외국인 비율(%)']]"
      ],
      "metadata": {
        "id": "aKjnExZ0zYZb"
      },
      "execution_count": null,
      "outputs": []
    },
    {
      "cell_type": "code",
      "source": [
        "i = ['Jongrogu', '151,767', '11,093', '27,394']"
      ],
      "metadata": {
        "id": "9SPetvgM0FrK"
      },
      "execution_count": null,
      "outputs": []
    },
    {
      "cell_type": "code",
      "source": [
        "title.append([i[0],i[1],i[2],i[3]])"
      ],
      "metadata": {
        "id": "0k6x22u4zyvs"
      },
      "execution_count": null,
      "outputs": []
    },
    {
      "cell_type": "code",
      "source": [
        "title"
      ],
      "metadata": {
        "colab": {
          "base_uri": "https://localhost:8080/"
        },
        "id": "RRi8YRRdz7z7",
        "outputId": "1f109910-2e1c-4fb5-a3e9-b7db7d1be9d4"
      },
      "execution_count": null,
      "outputs": [
        {
          "output_type": "execute_result",
          "data": {
            "text/plain": [
              "[['구', '한국인', '외국인', '외국인 비율(%)']]"
            ]
          },
          "metadata": {},
          "execution_count": 49
        }
      ]
    },
    {
      "cell_type": "code",
      "source": [
        "# 반복작업 각 구의 외국인 비율 구하기\n",
        "# 외국인 숫자 / 한국인 숫자 = 외국인 비율\n",
        "\n",
        "for i in sample:\n",
        "  foreign = 0\n",
        "  try:\n",
        "    foreign = round(i[2] / i[1] * 100, 1)\n",
        "    print(i[0], foreign)\n",
        "  except:\n",
        "    pass"
      ],
      "metadata": {
        "colab": {
          "base_uri": "https://localhost:8080/"
        },
        "id": "7akqtqzC0Wh4",
        "outputId": "2043996f-20ae-4e74-a764-81cc8f17170d"
      },
      "execution_count": null,
      "outputs": [
        {
          "output_type": "stream",
          "name": "stdout",
          "text": [
            "Total 2.9\n",
            "Jongrogu 7.3\n",
            "Jongru 8.1\n",
            "Yongsangu 7.1\n",
            "Seongdonggu 2.7\n",
            "Kwangjingu 4.4\n",
            "Dongdaemoongu 5.0\n",
            "Jungranggu 1.2\n",
            "Seongbukgu 2.8\n",
            "Gangbukgu 1.2\n",
            "Dobonggu 0.7\n",
            "Nowonggu 0.8\n",
            "Eunpyonggu 0.9\n",
            "Seodaemungu 4.5\n",
            "Mapogu 3.2\n",
            "Yangcheongu 0.9\n",
            "Gangseogu 1.1\n",
            "Gurogu 8.1\n",
            "Guemcheongu 8.4\n",
            "Youngdeungpogu 9.2\n",
            "Dongjakgu 3.2\n",
            "Kwanakgu 3.6\n",
            "Seoucheogu 1.0\n",
            "Gangnamgu 0.9\n",
            "Songpagu 1.0\n",
            "Gangdonggu 1.0\n"
          ]
        }
      ]
    },
    {
      "cell_type": "code",
      "source": [
        "# 외국인 비율 3% 이상인 대상만 추출\n",
        "# 문제 풀이 \n",
        "\n",
        "for i in sample:\n",
        "  foreign = 0\n",
        "  try:\n",
        "    foreign = round(i[2] / i[1] * 100, 1)\n",
        "    if foreign >= 3:\n",
        "      print(i[0], foreign)\n",
        "    elif i[0] == 'Total':\n",
        "      print(i[0], foreign)\n",
        "  except:\n",
        "    pass"
      ],
      "metadata": {
        "id": "NO20a_bm1LxD"
      },
      "execution_count": null,
      "outputs": []
    },
    {
      "cell_type": "code",
      "source": [
        "# 새로운 CSV 파일 생성 외국인 비율 3% 이상인 것만\n",
        "new_file = [['행정구역', '한국인', '외국인' , '외국인 비율(%)']]\n",
        "\n",
        "for i in sample:\n",
        "  foreign = 0\n",
        "  try:\n",
        "    foreign = round(i[2] / i[1] * 100, 1)\n",
        "    if foreign > 3:\n",
        "      new_file.append([i[0], i[1], i[2], foreign])\n",
        "  except:\n",
        "    pass\n",
        "\n",
        "new_file"
      ],
      "metadata": {
        "id": "P5S0Fdu155DI"
      },
      "execution_count": null,
      "outputs": []
    },
    {
      "cell_type": "code",
      "source": [
        "# 함수화 하기\n",
        "# csv를 넣지 않아도 생성은 된다.\n",
        "\n",
        "def writecsv(filename, the_list):\n",
        "  with open(filename, 'w', newline = '') as f:\n",
        "    a = csv.writer(f, delimiter = ',')\n",
        "    a.writerows(the_list)"
      ],
      "metadata": {
        "id": "SuPflL616Xft"
      },
      "execution_count": null,
      "outputs": []
    },
    {
      "cell_type": "code",
      "source": [
        "writecsv('seoul_new.csv', new_file)"
      ],
      "metadata": {
        "id": "-LbwB1Ll5-im"
      },
      "execution_count": null,
      "outputs": []
    },
    {
      "cell_type": "code",
      "source": [
        "# 부동산 \n",
        "\n",
        "import os\n",
        "import re\n",
        "\n",
        "apt = switch(opencsv('data_school_utf8.csv'))"
      ],
      "metadata": {
        "id": "nhYMHCxT7Ux8"
      },
      "execution_count": null,
      "outputs": []
    },
    {
      "cell_type": "code",
      "source": [
        "apt[0]"
      ],
      "metadata": {
        "colab": {
          "base_uri": "https://localhost:8080/"
        },
        "id": "1Ak4loW-707r",
        "outputId": "53e3a5d6-7255-418b-b5f3-79dc35ced9d8"
      },
      "execution_count": null,
      "outputs": [
        {
          "output_type": "execute_result",
          "data": {
            "text/plain": [
              "list"
            ]
          },
          "metadata": {},
          "execution_count": 91
        }
      ]
    },
    {
      "cell_type": "code",
      "source": [
        "# 처음 5개 데이터의 시/군/구만 출력\n",
        "\n",
        "for i in apt[:6]: # 0-5\n",
        "  print(i[0])"
      ],
      "metadata": {
        "colab": {
          "base_uri": "https://localhost:8080/"
        },
        "id": "_gmfoMaz8y-w",
        "outputId": "a6b13097-15d8-413f-dde9-2a537231b78b"
      },
      "execution_count": null,
      "outputs": [
        {
          "output_type": "stream",
          "name": "stdout",
          "text": [
            "﻿﻿시군구\n",
            "강원도 강릉시 견소동\n",
            "강원도 강릉시 견소동\n",
            "강원도 강릉시 견소동\n",
            "강원도 강릉시 견소동\n",
            "강원도 강릉시 교동\n"
          ]
        }
      ]
    },
    {
      "cell_type": "code",
      "source": [
        "# 처음 5개 데이터의 시/군/구, 면적, 거래금액(만원) 출력\n",
        "for i in apt[:6]: # 0-5\n",
        "  print(i[0], i[5], i[8])"
      ],
      "metadata": {
        "colab": {
          "base_uri": "https://localhost:8080/"
        },
        "id": "j5bffz4587_j",
        "outputId": "a41fb67f-5882-4838-d0a1-a442b02a3f45"
      },
      "execution_count": null,
      "outputs": [
        {
          "output_type": "stream",
          "name": "stdout",
          "text": [
            "﻿﻿시군구 전용면적(㎡) 거래금액(만원)\n",
            "강원도 강릉시 견소동 59.8 19000.0\n",
            "강원도 강릉시 견소동 84.93 25500.0\n",
            "강원도 강릉시 견소동 84.93 26400.0\n",
            "강원도 강릉시 견소동 59.8 19500.0\n",
            "강원도 강릉시 교동 84.9964 36300.0\n"
          ]
        }
      ]
    },
    {
      "cell_type": "code",
      "source": [
        "# 강원도에 120m2 이상 3억원 이하 아파트 검색하기\n",
        "\n",
        "for i in apt:\n",
        "  try:\n",
        "    if i[5] > 120 and i[8] <= 30000 and re.match('강원', i[0]):\n",
        "      print(i[0], i[5], i[8])\n",
        "  except:\n",
        "    pass"
      ],
      "metadata": {
        "colab": {
          "base_uri": "https://localhost:8080/"
        },
        "id": "mKhUNRYN9TAt",
        "outputId": "eff798ab-5b30-4ee4-d157-f873effdc521"
      },
      "execution_count": null,
      "outputs": [
        {
          "output_type": "stream",
          "name": "stdout",
          "text": [
            "강원도 강릉시 포남동 136.14 30000.0\n",
            "강원도 동해시 천곡동 123.48 14500.0\n",
            "강원도 원주시 단구동 134.97 22500.0\n",
            "강원도 원주시 태장동 127.11 15400.0\n",
            "강원도 춘천시 석사동 134.34 30000.0\n",
            "강원도 춘천시 우두동 122.13 29000.0\n",
            "강원도 춘천시 후평동 135.0 27000.0\n"
          ]
        }
      ]
    },
    {
      "cell_type": "code",
      "source": [
        "# 여러분이 관심있어하는 지역의 원하는 평수 가격대\n",
        "# 데이터를 5개 정도만 출력해서 채팅창에 올려주세요\n",
        "\n",
        "for i in apt:\n",
        "  try:\n",
        "    if i[5] > 66 and i[8] <= 50000 and re.match('경기도 남양주시 다산', i[0]):\n",
        "      print(i[0], i[5], i[8])\n",
        "  except:\n",
        "    pass"
      ],
      "metadata": {
        "colab": {
          "base_uri": "https://localhost:8080/"
        },
        "id": "G3ypfTgr972Z",
        "outputId": "cd520412-4748-4555-dbf4-8e5191e09e51"
      },
      "execution_count": null,
      "outputs": [
        {
          "output_type": "stream",
          "name": "stdout",
          "text": [
            "경기도 남양주시 다산동 84.74 50000.0\n",
            "경기도 남양주시 다산동 84.95 48000.0\n"
          ]
        }
      ]
    },
    {
      "cell_type": "code",
      "source": [
        "# 임장가기 위해서 프린트 \n",
        "# CSV파일로 내보내기\n",
        "\n",
        "new_apt_list = []\n",
        "\n",
        "for i in apt:\n",
        "  try:\n",
        "    if i[5] > 84 and i[8] <= 60000 and re.match('경기', i[0]):\n",
        "      new_apt_list.append([i[0], i[4], i[5], i])\n",
        "  except:\n",
        "    pass"
      ],
      "metadata": {
        "id": "6N63N4FE_g8k"
      },
      "execution_count": null,
      "outputs": []
    },
    {
      "cell_type": "code",
      "source": [
        "new_apt_list"
      ],
      "metadata": {
        "id": "zIiCKnAB_phe"
      },
      "execution_count": null,
      "outputs": []
    },
    {
      "cell_type": "code",
      "source": [
        "writecsv('new_apt_list.csv', new_apt_list)"
      ],
      "metadata": {
        "id": "UvtiPYbG_pdi"
      },
      "execution_count": null,
      "outputs": []
    },
    {
      "cell_type": "code",
      "source": [
        "# 평균 기온 데이터 csv 데이터 실습\n",
        "\n",
        "import csv\n",
        "f = open('CSV_example2_data.csv')\n",
        "\n",
        "data = csv.reader(f, delimiter = ',')\n",
        "\n",
        "for row in data:\n",
        "  print(row)\n",
        "f.close()"
      ],
      "metadata": {
        "id": "Ga40tZOoGkHm"
      },
      "execution_count": null,
      "outputs": []
    },
    {
      "cell_type": "code",
      "source": [
        "######## 추가 데이터\n",
        "\n",
        "# 예제파일 1개 더 Import\n",
        "\n",
        "test_dataset = open(\"/content/sample_data/example_4_each.csv\")\n",
        "\n",
        "# 년도 리스트\n",
        "years = []\n",
        "# 인구수 리스트\n",
        "populations = []\n",
        "\n",
        "for line in test_dataset: \n",
        "  (year, population) = line.split(',')\n",
        "  if year != \"구분\":\n",
        "    years.append(int(year))\n",
        "    populations.append(int(population))\n",
        "\n",
        "test_dataset.close()"
      ],
      "metadata": {
        "id": "ZGUuryGYGkCo"
      },
      "execution_count": null,
      "outputs": []
    },
    {
      "cell_type": "code",
      "source": [
        "print(years)\n",
        "print(populations)"
      ],
      "metadata": {
        "colab": {
          "base_uri": "https://localhost:8080/"
        },
        "id": "pYvA00NTGj8-",
        "outputId": "d5d23c34-5daa-4888-938d-25d91e312df5"
      },
      "execution_count": null,
      "outputs": [
        {
          "output_type": "stream",
          "name": "stdout",
          "text": [
            "[1949, 1955, 1960, 1966, 1970, 1975, 1980, 1985, 1990, 1995, 2000, 2005, 2010, 2015, 2020]\n",
            "[1437670, 1568746, 2445402, 3793280, 5525262, 6879262, 8335616, 9625755, 10603250, 10217177, 9853972, 9762546, 9631482, 9643432, 9540443]\n"
          ]
        }
      ]
    },
    {
      "cell_type": "code",
      "source": [
        "# 1. 해더의 정보를 빼고 출력\n",
        "\n",
        "# next() 첫번째 데이터 행을 읽어오면서 데이터의 탐색위치를 다음행으로 이동시키는 명령어\n",
        "import csv\n",
        "f = open('CSV_example2_data.csv')\n",
        "data = csv.reader(f)\n",
        "\n",
        "header = next(data)"
      ],
      "metadata": {
        "id": "w0cnLRRcGj4a"
      },
      "execution_count": null,
      "outputs": []
    },
    {
      "cell_type": "code",
      "source": [
        "for row in data:\n",
        "  print(row)\n",
        "f.close()"
      ],
      "metadata": {
        "id": "Yhg-TyOzGjzZ"
      },
      "execution_count": null,
      "outputs": []
    },
    {
      "cell_type": "code",
      "source": [
        "header = next(data)"
      ],
      "metadata": {
        "id": "A1aXp8ZRI-EU"
      },
      "execution_count": null,
      "outputs": []
    },
    {
      "cell_type": "code",
      "source": [
        "# 가장 더웠던 날을 출력해보자!!\n",
        "import csv\n",
        "f = open('CSV_example2_data.csv')\n",
        "data = csv.reader(f)\n",
        "max_temp = 0\n",
        "header = next(data)\n",
        "for row in data:\n",
        "  row[4] = float(row[4])  # 문자형 데이터를 숫자형으로 바꾸고\n",
        "  \n",
        "  if max_temp < row[4]: # 만약 지금까지 최고 기온값보다 현재 값의 최고기온 값이 더 크다면\n",
        "    max_temp = row[4]   # 최고기온\n",
        "    max_data = row[0]   # 날짜\n",
        "f.close()"
      ],
      "metadata": {
        "id": "nJ3wrv7gIspW"
      },
      "execution_count": null,
      "outputs": []
    },
    {
      "cell_type": "code",
      "source": [
        "print(max_temp, max_data)"
      ],
      "metadata": {
        "colab": {
          "base_uri": "https://localhost:8080/"
        },
        "id": "4pZ6cYB5J-GZ",
        "outputId": "316d8889-aba2-4711-da50-8a61753295fa"
      },
      "execution_count": null,
      "outputs": [
        {
          "output_type": "stream",
          "name": "stdout",
          "text": [
            "28.4 2023-04-19\n"
          ]
        }
      ]
    },
    {
      "cell_type": "code",
      "source": [
        "# 기본 그래프 그리기\n",
        "\n",
        "import matplotlib.pyplot as plt\n",
        "plt.plot([10,20,30,40])\n",
        "plt.show()"
      ],
      "metadata": {
        "id": "MEqy10baKstU"
      },
      "execution_count": null,
      "outputs": []
    },
    {
      "cell_type": "code",
      "source": [
        "# 첫번째 리스트가 x축 두번째 리스트가 y축\n",
        "\n",
        "import matplotlib.pyplot as plt\n",
        "plt.plot([1,2,3,4], [12,43,25,15])#첫번째 리스트가 x축, 두번째 리스트가 y축\n",
        "plt.show()"
      ],
      "metadata": {
        "id": "IU_iMLVPLWn7"
      },
      "execution_count": null,
      "outputs": []
    },
    {
      "cell_type": "code",
      "source": [
        "# 그래프 이름 넣기\n",
        "\n",
        "plt.title('plotting')#그래프의 타이틀\n",
        "plt.plot([10,20,30,40])\n",
        "plt.show()"
      ],
      "metadata": {
        "id": "DfGNa9MxLmH0"
      },
      "execution_count": null,
      "outputs": []
    },
    {
      "cell_type": "code",
      "source": [
        "# 범례 지정\n",
        "\n",
        "plt.title('legend')#타이틀은 legend 로 지정\n",
        "plt.plot([10,20,30,40], label = 'asc') #상승라인은 asc로 지정\n",
        "plt.plot([40,30,20,10], label = 'desc') #하강라인은 desc로 지정\n",
        "plt.legend()#범례표시 호출\n",
        "plt.show()"
      ],
      "metadata": {
        "id": "GiCFh8WtLmBe"
      },
      "execution_count": null,
      "outputs": []
    },
    {
      "cell_type": "code",
      "source": [
        "# 그래프 컬러 지정 \n",
        "plt.title('color')\n",
        "plt.plot([10,20,30,40], label = 'skyblue',  color = 'skyblue')  # label, color는 순서가 상관없는듯\n",
        "plt.plot([40,30,20,10], 'pink', label = 'pink')\n",
        "plt.legend()#범례표시 호출\n",
        "plt.show()"
      ],
      "metadata": {
        "id": "YQjNX3qTMCs7"
      },
      "execution_count": null,
      "outputs": []
    },
    {
      "cell_type": "code",
      "source": [
        "# 라인 스타일 변경\n",
        "\n",
        "plt.title('linestyle')\n",
        "plt.plot([10,20,30,40], color = 'r', linestyle = '--', label = 'dashed')\n",
        "plt.plot([40,30,20,10], 'g', ls = ':', label = 'dotted')\n",
        "plt.legend()#범례표시 호출\n",
        "plt.show()"
      ],
      "metadata": {
        "id": "Pr_pp5XYMNWg"
      },
      "execution_count": null,
      "outputs": []
    },
    {
      "cell_type": "code",
      "source": [
        "# 그래프 마커 모양 표시\n",
        "plt.title('marker')\n",
        "plt.plot([10,20,30,40], 'r.--', label = 'circle')#색상, 마커모양, 선모양(r.--)\n",
        "plt.plot([40,30,20,10], 'g^', label = 'triangle up')\n",
        "plt.legend()#범례표시 호출\n",
        "plt.show()"
      ],
      "metadata": {
        "id": "8yiXnnr9MepR"
      },
      "execution_count": null,
      "outputs": []
    },
    {
      "cell_type": "code",
      "source": [
        "print(years)\n",
        "print(populations)"
      ],
      "metadata": {
        "id": "Ejrx7vivMfoH"
      },
      "execution_count": null,
      "outputs": []
    },
    {
      "cell_type": "code",
      "source": [
        "######## 추가 데이터\n",
        "\n",
        "# 그래프를 그릴 도화지 준비하기\n",
        "fig = plt.figure()\n",
        "ax = fig.add_subplot(1, 1, 1)\n",
        "\n",
        "# x축에 년도, y축에 인구수가 있는 선 그래프 만들기\n",
        "plt.plot(years, populations, color='green', marker='o', linestyle='solid')\n",
        "\n",
        "# 제목 더하기\n",
        "plt.title(\"Seoul Population Change\")\n",
        "\n",
        "# y축에 레이블 추가하기\n",
        "plt.ylabel(\"10Million\")\n",
        "plt.show()"
      ],
      "metadata": {
        "id": "CgU-FkO6Mr6S"
      },
      "execution_count": null,
      "outputs": []
    },
    {
      "cell_type": "code",
      "source": [
        "# 최고 기온 데이터\n",
        "\n",
        "# 가장 더웠던 날을 출력해보자!!\n",
        "import csv\n",
        "f = open('CSV_example2_data.csv')\n",
        "data = csv.reader(f)\n",
        "next(data)\n",
        "\n",
        "result = []\n",
        "\n",
        "for row in data:\n",
        "  result.append(float(row[4]))\n",
        "f.close()"
      ],
      "metadata": {
        "id": "pvyhMwXLNayc"
      },
      "execution_count": null,
      "outputs": []
    },
    {
      "cell_type": "code",
      "source": [
        "plt.figure(figsize = (10,2)) #가로길이 10 세로길이 2\n",
        "plt.plot(result, 'r') # 컬러는 레드\n",
        "plt.show()"
      ],
      "metadata": {
        "colab": {
          "base_uri": "https://localhost:8080/",
          "height": 214
        },
        "id": "BGYNc81iN29J",
        "outputId": "2c334e2b-8ef5-4086-c661-98eb9fc89340"
      },
      "execution_count": null,
      "outputs": [
        {
          "output_type": "display_data",
          "data": {
            "text/plain": [
              "<Figure size 1000x200 with 1 Axes>"
            ],
            "image/png": "[encoded data removed]"
          },
          "metadata": {}
        }
      ]
    },
    {
      "cell_type": "code",
      "source": [
        "# 최고 4월 5월 데이터를 비교하는 그래프\n",
        "import csv\n",
        "f = open('CSV_example2_data.csv')\n",
        "data = csv.reader(f)\n",
        "next(data)\n",
        "\n",
        "result_04 = [] #최고 기온 데이터 저장할 리스트 생성\n",
        "result_05 = [] \n",
        "\n",
        "for row in data:    \n",
        "  month = row[0].split('-')[1]\n",
        "  if month == '04':\n",
        "    result_04.append(float(row[4])) \n",
        "  if month == '05': #5월만해도 됨\n",
        "    result_05.append(float(row[4]))       \n",
        "f.close()"
      ],
      "metadata": {
        "id": "ElHYJ9agOnd1"
      },
      "execution_count": null,
      "outputs": []
    },
    {
      "cell_type": "code",
      "source": [
        "plt.plot(result_04, 'pink', label = 'month_04')\n",
        "plt.plot(result_05, 'blue', label = 'month_05')\n",
        "plt.show()"
      ],
      "metadata": {
        "colab": {
          "base_uri": "https://localhost:8080/",
          "height": 430
        },
        "id": "A5ZTTqwwPtEN",
        "outputId": "3174a34e-356b-4438-88e7-a883543340d8"
      },
      "execution_count": null,
      "outputs": [
        {
          "output_type": "display_data",
          "data": {
            "text/plain": [
              "<Figure size 640x480 with 1 Axes>"
            ],
            "image/png": "[encoded data removed]"
          },
          "metadata": {}
        }
      ]
    },
    {
      "cell_type": "markdown",
      "source": [
        "# Matplotlib에 대해 알아보기"
      ],
      "metadata": {
        "id": "j-y_Of9EBz4L"
      }
    },
    {
      "cell_type": "code",
      "source": [
        "# 01. Matplotlib 기본 사용방법\n",
        "\n",
        "matplotlib.pyplot 모듈은 MATLAB과 비슷하게 명령어 스타일로 동작하는 함수의 모음입니다.\n",
        "\n",
        "matplotlib.pyplot 모듈의 각각의 함수를 사용해서 간편하게 그래프를 만들고 변화를 줄 수 있습니다.\n",
        "\n",
        "예를 들어, 그래프 영역을 만들고, 몇 개의 선을 표현하고, 레이블로 꾸미는 등의 일을 할 수 있습니다."
      ],
      "metadata": {
        "id": "bUSxC8UuB4aB"
      },
      "execution_count": null,
      "outputs": []
    },
    {
      "cell_type": "code",
      "source": [
        "# as 새로운 이름 지정할때 사용합니다.\n",
        "\n",
        "import matplotlib.pyplot as plt \n",
        "\n",
        "plt.plot([1, 2, 3, 4])\n",
        "plt.show() # print()\n",
        "\n",
        "# pyplot.plot() 함수에 하나의 숫자 리스트를 입력함으로써 아래와 같은 그래프가 그려집니다.\n",
        "# \n",
        "# plot() 함수는 리스트의 값들이 y 값들이라고 가정하고, x 값 [0, 1, 2, 3]을 자동으로 만들어냅니다.\n",
        "# \n",
        "# matplotlib.pyplot 모듈의 show() 함수는 그래프를 화면에 나타나도록 합니다."
      ],
      "metadata": {
        "id": "hnlGDL5EB51d"
      },
      "execution_count": null,
      "outputs": []
    },
    {
      "cell_type": "code",
      "source": [
        "# x축 y축 지정하기\n",
        "import matplotlib.pyplot as plt\n",
        "\n",
        "plt.plot([1, 2, 3, 4], [1, 4, 9, 16])   # (x축, y축)\n",
        "plt.show()"
      ],
      "metadata": {
        "id": "TwSjSruOCnwf"
      },
      "execution_count": null,
      "outputs": []
    },
    {
      "cell_type": "code",
      "source": [
        "# x, y 값 인자에 대해 선의 색상과 형태를 지정하는 포맷 문자열 (Format string)을 세번째 인자에 입력할 수 있습니다.\n",
        "# 포맷 문자열 ‘ro’는 빨간색 (‘red’)의 원형 (‘o’) 마커를 의미합니다.\n",
        "# 또한, 예를 들어 ‘b-‘는 파란색 (‘blue’)의 실선 (‘-‘)을 의미합니다.\n",
        "# matplotlib.pyplot 모듈의 axis() 함수를 이용해서 축의 범위 [xmin, xmax, ymin, ymax]를 지정했습니다.\n",
        "# 결과는 아래와 같습니다.\n",
        "\n",
        "import matplotlib.pyplot as plt\n",
        "\n",
        "plt.plot([1, 2, 3, 4], [1, 4, 9, 16], 'ro')\n",
        "plt.axis([0, 6, 0, 20])   # 그래프 상자? 크기\n",
        "plt.show()"
      ],
      "metadata": {
        "id": "O_5pEdtTCr9b"
      },
      "execution_count": null,
      "outputs": []
    },
    {
      "cell_type": "code",
      "source": [
        "# 여러개의 그래프를 그리는 방법\n",
        "\n",
        "import matplotlib.pyplot as plt\n",
        "import numpy as np\n",
        "\n",
        "# 200ms 간격으로 균일하게 샘플된 시간\n",
        "t = np.arange(0., 5., 0.2)\n",
        "\n",
        "# 빨간 대쉬, 파란 사각형, 녹색 삼각형\n",
        "plt.plot(t, t, 'r--', t, t**2, 'bs', t, t**3, 'g^')\n",
        "plt.show()"
      ],
      "metadata": {
        "id": "g0MJSyKpDMgc"
      },
      "execution_count": null,
      "outputs": []
    },
    {
      "cell_type": "code",
      "source": [
        "# 숫자 입력하기\n",
        "\n",
        "import matplotlib.pyplot as plt\n",
        "\n",
        "plt.plot((2, 3, 5, 10))   # 리스트형태([2, 3, 5, 10])도 같은 결과\n",
        "plt.show()\n",
        "\n",
        "#이 세 줄의 코드는 간단한 그래프를 하나 띄웁니다.\n",
        "#plot([2, 3, 5, 10])와 같이 하나의 리스트 형태로 값들을 입력하면 y 값으로 인식합니다.\n",
        "#plot((2, 3, 5, 10)) 파이썬 튜플로 데이터를 입력할 수 있습니다.\n",
        "#x 값은 기본적으로 [0, 1, 2, 3]이 되어서, 점 (0, 2), (1, 3), (2, 5), (3, 10)를 잇는 아래와 같은 꺾은선 그래프가 나타납니다."
      ],
      "metadata": {
        "id": "6zvNOH59EAGI"
      },
      "execution_count": null,
      "outputs": []
    },
    {
      "cell_type": "code",
      "source": [
        "# 레이블이 있는 데이터 사용하기\n",
        "\n",
        "import matplotlib.pyplot as plt\n",
        "\n",
        "data_dict = {'data_x': [1, 2, 3, 4, 5], 'data_y': [2, 3, 5, 10, 8]}\n",
        "\n",
        "plt.plot('data_x', 'data_y',data=data_dict)   # 마지막에 값을 지정해주는거?\n",
        "plt.show()"
      ],
      "metadata": {
        "id": "_dkInDQUEADh"
      },
      "execution_count": null,
      "outputs": []
    },
    {
      "cell_type": "code",
      "source": [
        "# Matplotlib 레이블 설정하기\n",
        "\n",
        "import matplotlib.pyplot as plt\n",
        "\n",
        "plt.plot([1, 2, 3, 4], [1, 4, 9, 16])\n",
        "plt.xlabel('X-Label')\n",
        "plt.ylabel('Y-Label')\n",
        "plt.show()"
      ],
      "metadata": {
        "id": "lCXwKYv7EABA"
      },
      "execution_count": null,
      "outputs": []
    },
    {
      "cell_type": "code",
      "source": [
        "import matplotlib.pyplot as plt\n",
        "\n",
        "plt.plot([1, 2, 3, 4], [2, 3, 5, 10])\n",
        "plt.xlabel('X-Axis', labelpad=15)   # labelpad -> 축 레이블의 여백 설정\n",
        "plt.ylabel('Y-Axis', labelpad=20)\n",
        "plt.show()"
      ],
      "metadata": {
        "id": "PDfVx12-D_-t"
      },
      "execution_count": null,
      "outputs": []
    },
    {
      "cell_type": "code",
      "source": [
        "# 1\n",
        "import matplotlib.pyplot as plt\n",
        "\n",
        "plt.plot([1, 2, 3, 4], [2, 3, 5, 10])\n",
        "plt.xlabel('X-Axis', labelpad=15, fontdict={'family': 'serif', 'color': 'b', 'weight': 'bold', 'size': 14})\n",
        "plt.ylabel('Y-Axis', labelpad=20, fontdict={'family': 'fantasy', 'color': 'deeppink', 'weight': 'normal', 'size': 'xx-large'})\n",
        "plt.show()\n",
        "\n",
        "#xlabel(), ylabel() 함수의 fontdict 파라미터를 사용하면 축 레이블의 폰트 스타일을 설정할 수 있습니다.\n",
        "#예제에서는 ‘family’, ‘color’, ‘weight’, ‘size’와 같은 속성을 사용해서 축 레이블 텍스트를 설정했습니다.\n",
        "#아래와 같이 작성하면 폰트 스타일을 편리하게 재사용할 수 있습니다."
      ],
      "metadata": {
        "id": "3A56GvD2D_5F"
      },
      "execution_count": null,
      "outputs": []
    },
    {
      "cell_type": "code",
      "source": [
        "# 2\n",
        "import matplotlib.pyplot as plt\n",
        "\n",
        "font1 = {'family': 'serif',\n",
        "         'color': 'b',\n",
        "         'weight': 'bold',\n",
        "         'size': 14\n",
        "         }\n",
        "\n",
        "font2 = {'family': 'fantasy',\n",
        "         'color': 'deeppink',\n",
        "         'weight': 'normal',\n",
        "         'size': 'xx-large'\n",
        "         }\n",
        "\n",
        "plt.plot([1, 2, 3, 4], [2, 3, 5, 10])\n",
        "plt.xlabel('X-Axis', labelpad=15, fontdict=font1)\n",
        "plt.ylabel('Y-Axis', labelpad=20, fontdict=font2)\n",
        "plt.show()"
      ],
      "metadata": {
        "id": "0VusnG5BD_0o"
      },
      "execution_count": null,
      "outputs": []
    },
    {
      "cell_type": "code",
      "source": [
        "import matplotlib.pyplot as plt\n",
        "\n",
        "plt.plot([1, 2, 3, 4], [2, 3, 5, 10])\n",
        "plt.xlabel('X-Axis', loc='right')  # loc -> 레이블의 위치  left, center, right\n",
        "plt.ylabel('Y-Axis', loc='top')    # loc -> 레이블의 위치  bottom, center, top\n",
        "plt.show()"
      ],
      "metadata": {
        "id": "PX9W1nXYHZb_"
      },
      "execution_count": null,
      "outputs": []
    },
    {
      "cell_type": "code",
      "source": [
        "# 범례 다루기\n",
        "\n",
        "import matplotlib.pyplot as plt\n",
        "\n",
        "plt.plot([1, 2, 3, 4], [2, 3, 5, 10], label='Price ($)')  # x, y축 뒤에 label = '범례 이름' \n",
        "plt.xlabel('X-Axis')\n",
        "plt.ylabel('Y-Axis')\n",
        "plt.legend()   # 범례 쓸 때 써야됨\n",
        "\n",
        "plt.show()"
      ],
      "metadata": {
        "id": "076fga4zH4CD"
      },
      "execution_count": null,
      "outputs": []
    },
    {
      "cell_type": "code",
      "source": [
        "import matplotlib.pyplot as plt\n",
        "\n",
        "plt.plot([1, 2, 3, 4], [2, 3, 5, 10], label='Price ($)')\n",
        "plt.xlabel('X-Axis')         # label의 위치를 정할 땐 label에\n",
        "plt.ylabel('Y-Axis')\n",
        "# plt.legend(loc=(0.0, 0.0))  loc=(0.0, 0.0)은 데이터 영역의 왼쪽 아래\n",
        "# plt.legend(loc=(0.5, 0.5))  loc=(1.0, 1.0)은 데이터 영역의 오른쪽 위 위치\n",
        "plt.legend(loc=(1.0, 0.0))   # 범례 위치를 정할 땐 legend에\n",
        "\n",
        "plt.show()"
      ],
      "metadata": {
        "id": "Y8OT7cu2H_KI"
      },
      "execution_count": null,
      "outputs": []
    },
    {
      "cell_type": "code",
      "source": [
        "# 범례 2개 그리기\n",
        "\n",
        "import matplotlib.pyplot as plt\n",
        "\n",
        "plt.plot([1, 2, 3, 4], [2, 3, 5, 10], label='Price ($)')\n",
        "plt.plot([1, 2, 3, 4], [3, 5, 9, 7], label='Demand (#)')\n",
        "plt.xlabel('X-Axis')\n",
        "plt.ylabel('Y-Axis')\n",
        "# plt.legend(loc='best')          # ncol = 1   -> 두줄로\n",
        "plt.legend(loc='best', ncol=2)    # ncol = 2   -> 한줄로 loc = 'best' -> 알아서 위치 배정\n",
        "\n",
        "plt.show()"
      ],
      "metadata": {
        "id": "Rt-JYwjOH_Fk"
      },
      "execution_count": null,
      "outputs": []
    },
    {
      "cell_type": "code",
      "source": [
        "import matplotlib.pyplot as plt\n",
        "\n",
        "plt.plot([1, 2, 3, 4], [2, 3, 5, 10], label='Price ($)')\n",
        "plt.plot([1, 2, 3, 4], [3, 5, 9, 7], label='Demand (#)')\n",
        "plt.xlabel('X-Axis')\n",
        "plt.ylabel('Y-Axis')\n",
        "# plt.legend(loc='best')\n",
        "plt.legend(loc='best', ncol=2, fontsize=14)   # fontsize=14 -> 범례의 크기 지정\n",
        "\n",
        "plt.show()"
      ],
      "metadata": {
        "id": "iO1ojkWHH_Cg"
      },
      "execution_count": null,
      "outputs": []
    },
    {
      "cell_type": "code",
      "source": [
        "# 축 범위 지정하기\n",
        "\n",
        "import matplotlib.pyplot as plt\n",
        "\n",
        "plt.plot([1, 2, 3, 4], [2, 3, 5, 10])\n",
        "plt.xlabel('X-Axis')\n",
        "plt.ylabel('Y-Axis')\n",
        "plt.xlim([0, 5])      # X축의 범위: [xmin, xmax]\n",
        "plt.ylim([0, 20])     # Y축의 범위: [ymin, ymax]\n",
        "\n",
        "plt.show()"
      ],
      "metadata": {
        "id": "_DQ8uWeoO_05"
      },
      "execution_count": null,
      "outputs": []
    },
    {
      "cell_type": "code",
      "source": [
        "import matplotlib.pyplot as plt\n",
        "\n",
        "plt.plot([1, 2, 3, 4], [2, 3, 5, 10])\n",
        "plt.xlabel('X-Axis')\n",
        "plt.ylabel('Y-Axis')\n",
        "plt.axis([0, 5, 0, 20])  # X, Y축의 범위: [xmin, xmax, ymin, ymax]\n",
        "\n",
        "plt.show()"
      ],
      "metadata": {
        "id": "rRgNHxanO_xo"
      },
      "execution_count": null,
      "outputs": []
    },
    {
      "cell_type": "code",
      "source": [
        "# 축 범위 얻기 \n",
        "# xlim(), ylim() 함수는 그래프 영역에 표시되는 X축, Y축의 범위를 각각 반환합니다.\n",
        "# axis() 함수는 그래프 영역에 표시되는 X, Y축의 범위를 반환합니다.\n",
        "\n",
        "import matplotlib.pyplot as plt\n",
        "\n",
        "plt.plot([1, 2, 3, 4], [2, 3, 5, 10])\n",
        "plt.xlabel('X-Axis')\n",
        "plt.ylabel('Y-Axis')\n",
        "\n",
        "x_range, y_range = plt.xlim(), plt.ylim()\n",
        "print(x_range, y_range)         # x, y 축의 범위 \n",
        "\n",
        "axis_range = plt.axis('scaled')   \n",
        "# axis('on' | 'off' | 'equal' | 'scaled' | 'tight' | 'auto' | 'normal' | 'image' | 'square )  축의 범위 종류\n",
        "print(axis_range)\n",
        "\n",
        "plt.show()"
      ],
      "metadata": {
        "id": "e72n9KUAO_uw"
      },
      "execution_count": null,
      "outputs": []
    },
    {
      "cell_type": "code",
      "source": [
        "# 선 종류 지정하기\n",
        "\n",
        "import matplotlib.pyplot as plt\n",
        "\n",
        "plt.plot([1, 2, 3], [4, 4, 4], '-', color='C0', label='Solid')\n",
        "plt.plot([1, 2, 3], [3, 3, 3], '--', color='C0', label='Dashed')\n",
        "plt.plot([1, 2, 3], [2, 2, 2], ':', color='C0', label='Dotted')\n",
        "plt.plot([1, 2, 3], [1, 1, 1], '-.', color='C0', label='Dash-dot')\n",
        "plt.xlabel('X-Axis')\n",
        "plt.ylabel('Y-Axis')\n",
        "plt.axis([0.8, 3.2, 0.5, 5.0])\n",
        "plt.legend(loc='upper right', ncol=4)\n",
        "plt.show()\n"
      ],
      "metadata": {
        "id": "3eKBb8XzH--c"
      },
      "execution_count": null,
      "outputs": []
    },
    {
      "cell_type": "code",
      "source": [
        "import matplotlib.pyplot as plt\n",
        "\n",
        "plt.plot([1, 2, 3], [4, 4, 4], linestyle='solid', color='C0', label=\"'solid'\")\n",
        "plt.plot([1, 2, 3], [3, 3, 3], linestyle='dashed', color='C0', label=\"'dashed'\")\n",
        "plt.plot([1, 2, 3], [2, 2, 2], linestyle='dotted', color='C0', label=\"'dotted'\")\n",
        "plt.plot([1, 2, 3], [1, 1, 1], linestyle='dashdot', color='C0', label=\"'dashdot'\")\n",
        "plt.xlabel('X-Axis')\n",
        "plt.ylabel('Y-Axis')\n",
        "plt.axis([0.8, 3.2, 0.5, 5.0])\n",
        "plt.legend(loc='upper right', ncol=4)\n",
        "plt.tight_layout()    # 서브 플롯간(지금은 아니지만)에 올바른 간격을 자동으로 유지합니다.\n",
        "plt.show()"
      ],
      "metadata": {
        "id": "dRf7XOv4Rwtq"
      },
      "execution_count": null,
      "outputs": []
    },
    {
      "cell_type": "code",
      "source": [
        "# 튜플을 사용해서 선의 종류를 커스터마이즈할 수 있습니다.\n",
        "# 예를 들어, (0, (1, 1))은 ‘dotted’와 같고, (0, (5, 5))는 ‘dashed’와 같습니다.\n",
        "# 또한 (0, (3, 5, 1, 5))는 ‘dashdotted’와 같습니다.\n",
        "# 숫자를 바꿔가면서 다양한 선의 종류를 만들어보세요.\n",
        "# 결과는 아래와 같습니다.\n",
        "import matplotlib.pyplot as plt\n",
        "\n",
        "plt.plot([1, 2, 3], [4, 4, 4], linestyle=(0, (1, 1)), color='C0', label='(0, (1, 1))')\n",
        "plt.plot([1, 2, 3], [3, 3, 3], linestyle=(0, (1, 5)), color='C0', label='(0, (1, 5))')\n",
        "plt.plot([1, 2, 3], [2, 2, 2], linestyle=(0, (5, 1)), color='C0', label='(0, (5, 1))')\n",
        "plt.plot([1, 2, 3], [1, 1, 1], linestyle=(0, (3, 5, 1, 5)), color='C0', label='(0, (3, 5, 1, 5))')\n",
        "plt.xlabel('X-Axis')\n",
        "plt.ylabel('Y-Axis')\n",
        "plt.axis([0.8, 3.2, 0.5, 5.0])\n",
        "plt.legend(loc='upper right', ncol=2)\n",
        "plt.tight_layout()\n",
        "plt.show()"
      ],
      "metadata": {
        "id": "OEFiSqRfRwo8"
      },
      "execution_count": null,
      "outputs": []
    },
    {
      "cell_type": "code",
      "source": [
        "# 선 끝 모양 지정하기\n",
        "import matplotlib.pyplot as plt\n",
        "\n",
        "plt.plot([1, 2, 3], [4, 4, 4], linestyle='solid', linewidth=5,\n",
        "      solid_capstyle='butt', color='C0', label='solid+butt')\n",
        "plt.plot([1, 2, 3], [3, 3, 3], linestyle='solid', linewidth=5,\n",
        "      solid_capstyle='round', color='C0', label='solid+round')\n",
        "\n",
        "plt.plot([1, 2, 3], [2, 2, 2], linestyle='dashed', linewidth=10,\n",
        "      dash_capstyle='butt', color='C1', label='dashed+butt')\n",
        "plt.plot([1, 2, 3], [1, 1, 1], linestyle='dashed', linewidth=10,\n",
        "      dash_capstyle='round', color='C1', label='dashed+round')\n",
        "\n",
        "\n",
        "plt.xlabel('X-Axis')\n",
        "plt.ylabel('Y-Axis')\n",
        "plt.axis([0.8, 3.2, 0.5, 5.0])\n",
        "plt.legend(loc='upper right', ncol=2)\n",
        "plt.tight_layout()\n",
        "plt.show()"
      ],
      "metadata": {
        "id": "bsbFuSMBRwmY"
      },
      "execution_count": null,
      "outputs": []
    },
    {
      "cell_type": "code",
      "source": [
        "# 처음으로 돌아와서\n",
        "# 마커모양 지정하기\n",
        "\n",
        "import matplotlib.pyplot as plt\n",
        "\n",
        "plt.plot([1, 2, 3, 4], [2, 3, 5, 10], 'bo')\n",
        "plt.xlabel('X-Axis')\n",
        "plt.ylabel('Y-Axis')\n",
        "plt.show()"
      ],
      "metadata": {
        "id": "dGbQsjEfSLzw"
      },
      "execution_count": null,
      "outputs": []
    },
    {
      "cell_type": "code",
      "source": [
        "# 마커 표시 형식1\n",
        "\n",
        "import matplotlib.pyplot as plt\n",
        "\n",
        "# plt.plot([1, 2, 3, 4], [2, 3, 5, 10], 'bo-')    # 파란색 + 마커 + 실선\n",
        "plt.plot([1, 2, 3, 4], [2, 3, 5, 10], 'bo--')     # 파란색 + 마커 + 점선\n",
        "plt.xlabel('X-Axis')\n",
        "plt.ylabel('Y-Axis')\n",
        "plt.show()"
      ],
      "metadata": {
        "id": "PZGCV8vqSLw3"
      },
      "execution_count": null,
      "outputs": []
    },
    {
      "cell_type": "code",
      "source": [
        "# 마커 표시 형식2\n",
        "\n",
        "import matplotlib.pyplot as plt\n",
        "\n",
        "plt.plot([4, 5, 6], marker=\"H\")\n",
        "plt.plot([3, 4, 5], marker=\"d\")\n",
        "plt.plot([2, 3, 4], marker=\"x\")\n",
        "plt.plot([1, 2, 3], marker=11)\n",
        "plt.plot([0, 1, 2], marker='$Z$')\n",
        "plt.show()"
      ],
      "metadata": {
        "id": "dhH-4UBPToK-"
      },
      "execution_count": null,
      "outputs": []
    },
    {
      "cell_type": "code",
      "source": [
        "# 색상 지정하기 \n",
        "\n",
        "import matplotlib.pyplot as plt\n",
        "\n",
        "plt.plot([1, 2, 3, 4], [2.0, 3.0, 5.0, 10.0], 'r')\n",
        "plt.plot([1, 2, 3, 4], [2.0, 2.8, 4.3, 6.5], 'g')\n",
        "plt.plot([1, 2, 3, 4], [2.0, 2.5, 3.3, 4.5], 'b')\n",
        "plt.xlabel('X-Axis')\n",
        "plt.ylabel('Y-Axis')\n",
        "\n",
        "plt.show()"
      ],
      "metadata": {
        "id": "gULsLheSTpNo"
      },
      "execution_count": null,
      "outputs": []
    },
    {
      "cell_type": "code",
      "source": [
        "# 색상 지정하기 키워드 인자 (예쁜색)\n",
        "\n",
        "import matplotlib.pyplot as plt\n",
        "\n",
        "plt.plot([1, 2, 3, 4], [2.0, 3.0, 5.0, 10.0], color='limegreen')\n",
        "plt.plot([1, 2, 3, 4], [2.0, 2.8, 4.3, 6.5], color='violet')\n",
        "plt.plot([1, 2, 3, 4], [2.0, 2.5, 3.3, 4.5], color='dodgerblue')\n",
        "plt.xlabel('X-Axis')\n",
        "plt.ylabel('Y-Axis')\n",
        "\n",
        "plt.show()"
      ],
      "metadata": {
        "id": "zeTGaY3yVVPg"
      },
      "execution_count": null,
      "outputs": []
    },
    {
      "cell_type": "code",
      "source": [
        "# 그래프의 영역을 나타내기 \n",
        "# fill_between() 함수에 x[1:3], y[1:3]를 순서대로 입력하면,\n",
        "# 네 점 (x[1], y[1]), (x[2], y[2]), (x[1], 0), (x[2], 0)을 잇는 영역이 채워집니다.\n",
        "\n",
        "import matplotlib.pyplot as plt\n",
        "\n",
        "x = [1, 2, 3, 4]\n",
        "y = [2, 3, 5, 10]\n",
        "\n",
        "plt.plot(x, y)\n",
        "plt.xlabel('X-Axis')\n",
        "plt.ylabel('Y-Axis')\n",
        "plt.fill_between(x[1:3], y[1:3], alpha=0.1)   # alpha -> 투명도\n",
        "#plt.fill_betweenx(y[2:4], x[2:4], alpha=0.5)\n",
        "#plt.fill_between(x[1:3], y1[1:3], y2[1:3], color='lightgray', alpha=0.5)  두 그래프 사이 채우기\n",
        "\n",
        "plt.show()"
      ],
      "metadata": {
        "id": "weX0Edd2VbAI"
      },
      "execution_count": null,
      "outputs": []
    },
    {
      "cell_type": "code",
      "source": [
        "# 여러 곡선 그리기\n",
        "\n",
        "import matplotlib.pyplot as plt\n",
        "import numpy as np\n",
        "\n",
        "x = np.arange(0, 2, 0.2) #range [0. 0.2 0.4 0.6 0.8 1. 1.2 1.4 1.6 1.8]\n",
        "\n",
        "plt.plot(x, x, 'r--', x, x**2, 'bo', x, x**3, 'g-.')\n",
        "plt.show()"
      ],
      "metadata": {
        "id": "KRmfmkW-Vd0c"
      },
      "execution_count": null,
      "outputs": []
    },
    {
      "cell_type": "code",
      "source": [
        "# 그리드 설정하기 \n",
        "\n",
        "import matplotlib.pyplot as plt\n",
        "import numpy as np\n",
        "\n",
        "x = np.arange(0, 2, 0.2)\n",
        "\n",
        "plt.plot(x, x, 'bo')\n",
        "plt.plot(x, x**2, color='#e35f62', marker='*', linewidth=2)\n",
        "plt.plot(x, x**3, color='springgreen', marker='^', markersize=9)\n",
        "\n",
        "# 그리드 설정하기\n",
        "plt.grid(True)\n",
        "\n",
        "# plt.grid(True, axis='y') 가로 방향의 그리드만 표시\n",
        "\n",
        "plt.show()"
      ],
      "metadata": {
        "id": "K703RlLtV7vP"
      },
      "execution_count": null,
      "outputs": []
    },
    {
      "cell_type": "code",
      "source": [
        "# 눈금 지정하기\n",
        "\n",
        "import numpy as np\n",
        "\n",
        "x = np.arange(0, 2, 0.2)\n",
        "\n",
        "plt.plot(x, x, 'bo')\n",
        "plt.plot(x, x**2, color='#e35f62', marker='*', linewidth=2)\n",
        "plt.plot(x, x**3, color='forestgreen', marker='^', markersize=9)\n",
        "plt.xticks([0, 1, 2])   # x축 0,1,2\n",
        "plt.yticks(np.arange(1, 6)) #range(1,6) y축 1~5\n",
        "\n",
        "plt.show()"
      ],
      "metadata": {
        "id": "3VJRPEY6WTf3"
      },
      "execution_count": null,
      "outputs": []
    },
    {
      "cell_type": "code",
      "source": [
        "import matplotlib.pyplot as plt\n",
        "import numpy as np\n",
        "\n",
        "x = np.arange(0, 2, 0.2)\n",
        "\n",
        "plt.plot(x, x, 'bo')\n",
        "plt.plot(x, x**2, color='#e35f62', marker='*', linewidth=2)\n",
        "plt.plot(x, x**3, color='springgreen', marker='^', markersize=9)\n",
        "\n",
        "# 입력해준 눈금의 개수와 같은 개수의 레이블을 지정\n",
        "plt.xticks(np.arange(0, 2, 0.2), labels=['Jan', '', 'Feb', '', 'Mar', '', 'May', '', 'June', ''])\n",
        "plt.yticks(np.arange(0, 7), ('0', '1GB', '2GB', '3GB', '4GB', '5GB', '6GB'))\n",
        "\n",
        "plt.show()"
      ],
      "metadata": {
        "id": "WSLq7sY7bcLM"
      },
      "execution_count": null,
      "outputs": []
    },
    {
      "cell_type": "code",
      "source": [
        "# 분석 내용 타이틀 그리기\n",
        "\n",
        "import matplotlib.pyplot as plt\n",
        "import numpy as np\n",
        "\n",
        "x = np.arange(0, 2, 0.2)\n",
        "\n",
        "plt.plot(x, x, 'bo')\n",
        "plt.plot(x, x**2, color='#e35f62', marker='*', linewidth=2)\n",
        "plt.plot(x, x**3, color='forestgreen', marker='^', markersize=9)\n",
        "\n",
        "plt.title('Title')  # 타이틀\n",
        "# plt.title('Graph Title', loc='right', pad=20)  loc -> left, center, right,  pad ->  타이틀과 그래프와의 간격\n",
        "\n",
        "plt.show()"
      ],
      "metadata": {
        "id": "yiHKHUJabdL8"
      },
      "execution_count": null,
      "outputs": []
    },
    {
      "cell_type": "code",
      "source": [
        "# 1. 막대그래프 그리기\n",
        "\n",
        "import matplotlib.pyplot as plt\n",
        "import numpy as np\n",
        "\n",
        "x = [0,1,2]\n",
        "years = ['2018', '2019', '2020']\n",
        "values = [100, 400, 900]\n",
        "\n",
        "plt.bar(x, values)     # values가 y축에 들어가면 bar에 입력\n",
        "plt.xticks(x, years)   # year가 x축에 들어갈거면 xticks에 입력\n",
        "\n",
        "plt.show()"
      ],
      "metadata": {
        "id": "1bu-eswzbebh"
      },
      "execution_count": null,
      "outputs": []
    },
    {
      "cell_type": "code",
      "source": [
        "# 이 예제는 연도별로 변화하는 값을 갖는 데이터를 막대 그래프로 나타냅니다.\n",
        "# [0,1,2] 주어진 범위와 간격에 따라 균일한 값을 갖는 리스트를 만들었습니다.\n",
        "# years는 X축에 표시될 연도이고, values는 막대 그래프의 y 값 입니다.\n",
        "# 먼저 plt.bar() 함수에 x 값 [0, 1, 2]와 y 값 [100, 400, 900]를 입력해주고,\n",
        "# xticks()에 x와 years를 입력해주면, X축의 눈금 레이블에 ‘2018’, ‘2019’, ‘2020’이 순서대로 표시됩니다.\n",
        "# 결과는 아래와 같습니다."
      ],
      "metadata": {
        "id": "WdIrhVfzxUXy"
      },
      "execution_count": null,
      "outputs": []
    },
    {
      "cell_type": "code",
      "source": [
        "# 막대그래프에 색 넣기\n",
        "\n",
        "import matplotlib.pyplot as plt\n",
        "import numpy as np\n",
        "\n",
        "x = [0,1,2]\n",
        "years = ['2018', '2019', '2020']\n",
        "values = [100, 400, 900]\n",
        "\n",
        "plt.bar(x, values, color='y')\n",
        "# plt.bar(x, values, color='dodgerblue')\n",
        "# plt.bar(x, values, color='C2')\n",
        "# plt.bar(x, values, color='#e35f62')\n",
        "plt.xticks(x, years)\n",
        "\n",
        "plt.show()"
      ],
      "metadata": {
        "id": "FFHZNI1acGCH"
      },
      "execution_count": null,
      "outputs": []
    },
    {
      "cell_type": "code",
      "source": [
        "# 값별로 색상 다르게 하기\n",
        "\n",
        "import matplotlib.pyplot as plt\n",
        "import numpy as np\n",
        "\n",
        "x = np.arange(3)\n",
        "years = ['name1', 'name2', 'name3']\n",
        "values = [100, 400, 900]\n",
        "colors = ['y', 'dodgerblue', 'C2']\n",
        "\n",
        "plt.bar(x, values, color=colors)\n",
        "plt.xticks(x, years)\n",
        "\n",
        "plt.show()"
      ],
      "metadata": {
        "id": "9Khb4Je7dDaV"
      },
      "execution_count": null,
      "outputs": []
    },
    {
      "cell_type": "code",
      "source": [
        "# 막대그래프 폭 변경하기 \n",
        "\n",
        "import matplotlib.pyplot as plt\n",
        "import numpy as np\n",
        "\n",
        "x = np.arange(3)\n",
        "years = ['name1', 'name2', 'name3']\n",
        "values = [100, 400, 900]\n",
        "\n",
        "# plt.bar(x, values, width=0.4)   -> width 로 폭 지정\n",
        "# plt.bar(x, values, width=0.6)\n",
        "# plt.bar(x, values, width=0.8)\n",
        "plt.bar(x, values, width=0.5)\n",
        "plt.xticks(x, years)\n",
        "\n",
        "plt.show()"
      ],
      "metadata": {
        "id": "yt_tQvxzdGrR"
      },
      "execution_count": null,
      "outputs": []
    },
    {
      "cell_type": "code",
      "source": [
        "# 엣지 표시하기 \n",
        "import matplotlib.pyplot as plt\n",
        "import numpy as np\n",
        "\n",
        "x = np.arange(3)\n",
        "years = ['2018', '2019', '2020']\n",
        "values = [100, 400, 900]\n",
        "\n",
        "plt.bar(x, values, align='edge', edgecolor='lightgray',\n",
        "        linewidth=5, tick_label=years)\n",
        "\n",
        "plt.show()"
      ],
      "metadata": {
        "id": "S8wgwyaNdsjR"
      },
      "execution_count": null,
      "outputs": []
    },
    {
      "cell_type": "code",
      "source": [
        "# 세로로 막대그래프 그리기\n",
        "\n",
        "import matplotlib.pyplot as plt\n",
        "import numpy as np\n",
        "\n",
        "x = [0,1,2]\n",
        "years = ['2018', '2019', '2020']\n",
        "values = [100, 400, 900]\n",
        "\n",
        "plt.bar(x, values) \n",
        "plt.xticks(x, years)\n",
        "\n",
        "plt.show()"
      ],
      "metadata": {
        "id": "RB2iHtZFdzHA"
      },
      "execution_count": null,
      "outputs": []
    },
    {
      "cell_type": "code",
      "source": [
        "# 가로로 막대그래프 그리기\n",
        "\n",
        "import matplotlib.pyplot as plt\n",
        "import numpy as np\n",
        "\n",
        "y = [0,1,2]\n",
        "years = ['2018', '2019', '2020']\n",
        "values = [100, 400, 900]\n",
        "\n",
        "plt.barh(y, values)    # bar 가 아니라 barh\n",
        "plt.yticks(y, years)\n",
        "\n",
        "plt.show()"
      ],
      "metadata": {
        "id": "G6Gi7CW3dwMD"
      },
      "execution_count": null,
      "outputs": []
    },
    {
      "cell_type": "code",
      "source": [
        "# 산점도 그리기 \n",
        "\n",
        "import matplotlib.pyplot as plt\n",
        "\n",
        "x = [1,2,3,4,5]\n",
        "y = [1,2,3,4,5]\n",
        "\n",
        "# 산점도 그리는 함수 scatter()\n",
        "plt.scatter(x, y)\n",
        "plt.show()"
      ],
      "metadata": {
        "id": "xssrNynDgSfB"
      },
      "execution_count": null,
      "outputs": []
    },
    {
      "cell_type": "code",
      "source": [
        "import matplotlib.pyplot as plt\n",
        "import numpy as np\n",
        "\n",
        "np.random.seed(0)\n",
        "\n",
        "n = 50\n",
        "x = np.random.rand(n)\n",
        "y = np.random.rand(n)\n",
        "\n",
        "plt.scatter(x, y)\n",
        "plt.show()"
      ],
      "metadata": {
        "id": "EphFPB7mgSa4"
      },
      "execution_count": null,
      "outputs": []
    },
    {
      "cell_type": "code",
      "source": [
        "# 산점도 그리기 -> 색상 넣어보기\n",
        "\n",
        "import matplotlib.pyplot as plt\n",
        "import numpy as np\n",
        "\n",
        "n = 5\n",
        "x = [1,2,3,4,5]\n",
        "y = [1,2,3,4,5]\n",
        "colors = np.random.rand(n)\n",
        "\n",
        "\n",
        "# 산점도 그리는 함수 scatter()  plt.scatter(x, y, s=area, c=colors)  s -> 크기, c -> 색상\n",
        "plt.scatter(x, y,  c = colors)\n",
        "plt.show()"
      ],
      "metadata": {
        "id": "o6ZZ3-yHgSTO"
      },
      "execution_count": null,
      "outputs": []
    },
    {
      "cell_type": "code",
      "source": [
        "# 히스토그램 그려보기 \n",
        "import matplotlib.pyplot as plt\n",
        "\n",
        "weight = [10,20,30,20,10,40,30,20]\n",
        "\n",
        "# 히스토그램 그리는 함수\n",
        "plt.hist(weight)\n",
        "\n",
        "plt.show()"
      ],
      "metadata": {
        "id": "Agq9grXShxw3"
      },
      "execution_count": null,
      "outputs": []
    },
    {
      "cell_type": "code",
      "source": [
        "# 히스토그램 구간 개수 지정\n",
        "\n",
        "import matplotlib.pyplot as plt\n",
        "\n",
        "weight = [68, 81, 64, 56, 78, 74, 61, 77, 66, 68, 59, 71,\n",
        "          80, 59, 67, 81, 69, 73, 69, 74, 70, 65]\n",
        "\n",
        "plt.hist(weight, label='bins=10') # 두꺼운 느낌\n",
        "#plt.hist(weight, bins=30, label='bins=30') # 얆은 느낌  bin의 크기에 따라 그래프 모양이 바뀜\n",
        "plt.legend()\n",
        "plt.show()"
      ],
      "metadata": {
        "id": "k3ORF2pAhxsP"
      },
      "execution_count": null,
      "outputs": []
    },
    {
      "cell_type": "code",
      "source": [
        "# 파이 차트 \n",
        "\n",
        "import matplotlib.pyplot as plt\n",
        "\n",
        "ratio = [34, 32, 16, 18] # 퍼센트\n",
        "labels = ['Apple', 'Banana', 'Melon', 'Grapes'] #항목\n",
        "\n",
        "plt.pie(ratio, labels=labels, autopct='%.1f%%') # autopct 부채꼴의 표시 숫자형식 autopct='%.1f%%' -> 소수점 한자리\n",
        "plt.show()"
      ],
      "metadata": {
        "id": "XUlXfB9dhxoH"
      },
      "execution_count": null,
      "outputs": []
    },
    {
      "cell_type": "code",
      "source": [
        "# 박스플롯 - \n",
        "\n",
        "import random\n",
        "x1 = []\n",
        "for i in range(10):\n",
        "  x1.append(random.random())"
      ],
      "metadata": {
        "id": "-XMhvGJehxji"
      },
      "execution_count": null,
      "outputs": []
    },
    {
      "cell_type": "code",
      "source": [
        "import matplotlib.pyplot as plt\n",
        "\n",
        "# 1. 기본 스타일 설정 \n",
        "plt.style.use('default')\n",
        "plt.rcParams['figure.figsize'] = (4, 3)\n",
        "plt.rcParams['font.size'] = 12\n",
        "\n",
        "# 2. 데이터 준비\n",
        "\n",
        "import random\n",
        "x1 = []\n",
        "for i in range(10):\n",
        "  x1.append(random.random())\n",
        "\n",
        "# 3. 그래프 그리기\n",
        "fig, ax = plt.subplots()\n",
        "\n",
        "ax.boxplot(x1)\n",
        "ax.set_ylim(0, 1.0)\n",
        "ax.set_xlabel('Data Type')\n",
        "ax.set_ylabel('Value')\n",
        "\n",
        "plt.show()"
      ],
      "metadata": {
        "id": "ExDUNYl15jyb"
      },
      "execution_count": null,
      "outputs": []
    },
    {
      "cell_type": "code",
      "source": [
        "import matplotlib.pyplot as plt\n",
        "\n",
        "fig, ax = plt.subplots()\n",
        "\n",
        "fruits = ['apple', 'blueberry', 'cherry', 'orange']\n",
        "counts = [40, 100, 30, 55]\n",
        "bar_labels = ['red', 'blue', '_red', 'orange']\n",
        "bar_colors = ['tab:red', 'tab:blue', 'tab:red', 'tab:orange']\n",
        "\n",
        "ax.bar(fruits, counts, label=bar_labels, color=bar_colors)\n",
        "\n",
        "ax.set_ylabel('fruit supply')\n",
        "ax.set_title('Fruit supply by kind and color')\n",
        "ax.legend(title='Fruit color')\n",
        "\n",
        "plt.show()"
      ],
      "metadata": {
        "id": "p3id8n9khxfH"
      },
      "execution_count": null,
      "outputs": []
    },
    {
      "cell_type": "code",
      "source": [
        "# 1. 히스트그램 기본\n",
        "\n",
        "import matplotlib.pyplot as plt\n",
        "\n",
        "plt.hist([1,1,2,3,4,5,6,7,8,10])\n",
        "plt.show()"
      ],
      "metadata": {
        "id": "j2KFLQT95m62"
      },
      "execution_count": null,
      "outputs": []
    },
    {
      "cell_type": "code",
      "source": [
        "#문제: 주사위를 100번 굴리시오 히스트그램으로 그래프를 그려보기 (내 풀이)\n",
        "\n",
        "import random\n",
        "x1 = []\n",
        "for i in range(100):\n",
        "  x1.append(random.randint(1,6))\n",
        "\n",
        "import matplotlib.pyplot as plt\n",
        "\n",
        "plt.hist(x1)\n",
        "plt.xlim([0, 7])      # X축의 범위: [xmin, xmax]\n",
        "plt.ylim([0, 30])     # Y축의 범위: [ymin, ymax]\n",
        "\n",
        "plt.show()"
      ],
      "metadata": {
        "id": "pyPhZlyj5m2W"
      },
      "execution_count": null,
      "outputs": []
    },
    {
      "cell_type": "code",
      "source": [
        "#문제 1: 주사위를 100번 굴리시오 히스트그램으로 그래프를 그려보세요!! (강사님 풀이)\n",
        "\n",
        "import matplotlib.pyplot as plt\n",
        "import random\n",
        "\n",
        "dice = []\n",
        "\n",
        "for i in range(100):\n",
        "  num = random.randint(1,6)\n",
        "\n",
        "plt.hist([1,1,2,3,4,5,6])\n",
        "plt.show()"
      ],
      "metadata": {
        "id": "eOf1t3_Z6jvz"
      },
      "execution_count": null,
      "outputs": []
    },
    {
      "cell_type": "code",
      "source": [
        "#수집된 서울의 기온 데이터를 히스토그램으로 표시하시오.\n",
        "#색은 빨간색\n",
        "#구간은 100개로 나누시오.\n",
        "\n",
        "import csv\n",
        "\n",
        "f = open('/content/CSV_example2_data.csv', 'r') #csv를 리드 모드로 불러옴\n",
        "data = csv.reader(f)\n",
        "next(data)\n",
        "\n",
        "result = [] \n",
        "\n",
        "for row in data: \n",
        "  result.append(float(row[-1]))      \n",
        "f.close()\n",
        "\n",
        "import matplotlib.pyplot as plt\n",
        "\n",
        "#plt.figure(figsize = (10, 2)) #그래프의 가로길이를 10인치 세로를 2인치로 설정\n",
        "plt.hist(result,color = 'r', bins = 10) #데이터의 분포를 나타냄 bins는 구간을 100으로 현재 나눈 상태\n",
        "plt.show()"
      ],
      "metadata": {
        "id": "J4A4_iyb5muQ"
      },
      "execution_count": null,
      "outputs": []
    },
    {
      "cell_type": "code",
      "source": [
        "# 실습 1. 4월 5월 데이터를 중첩해서 그려보기 -  split 활용\n",
        "\n",
        "import os\n",
        "os.chdir('/content/')\n",
        "\n",
        "import csv\n",
        "\n",
        "f = open('/content/CSV_example2_data.csv', 'r') #csv를 리드 모드로 불러옴\n",
        "data = csv.reader(f)\n",
        "next(data)\n",
        "\n",
        "result_04 = [] \n",
        "result_05 = []\n",
        "\n",
        "for row in data:    \n",
        "  month = row[0].split('-')[1]\n",
        "  if month == '04':\n",
        "    result_04.append(float(row[4])) \n",
        "  if month == '05': \n",
        "    result_05.append(float(row[4]))       \n",
        "f.close()\n",
        "\n",
        "import matplotlib.pyplot as plt\n",
        "\n",
        "#plt.figure(figsize = (10, 2)) #그래프의 가로길이를 10인치 세로를 2인치로 설정\n",
        "plt.hist(result_04,color = 'r', bins = 10) #데이터의 분포를 나타냄 bins는 구간을 100으로 현재 나눈 상태\n",
        "plt.hist(result_05,color = 'b', bins = 10)\n",
        "plt.show()"
      ],
      "metadata": {
        "id": "B5iZC7mb_lik"
      },
      "execution_count": null,
      "outputs": []
    },
    {
      "cell_type": "code",
      "source": [
        "#수집된 서울의 기온 데이터를 히스토그램으로 표시하시오.\n",
        "#색은 빨간색\n",
        "#구간은 100개로 나누시오.\n",
        "import os\n",
        "os.chdir('/content/')\n",
        "\n",
        "import csv\n",
        "\n",
        "f = open('/content/CSV_example2_data.csv', 'r') #csv를 리드 모드로 불러옴\n",
        "data = csv.reader(f)\n",
        "next(data)\n",
        "\n",
        "result = [] \n",
        "\n",
        "for row in data: \n",
        "  result.append(float(row[-1]))      \n",
        "f.close()\n",
        "\n",
        "import matplotlib.pyplot as plt\n",
        "\n",
        "#plt.figure(figsize = (10, 2)) #그래프의 가로길이를 10인치 세로를 2인치로 설정\n",
        "plt.boxplot(result)\n",
        "plt.show()"
      ],
      "metadata": {
        "id": "0jiiC01u_lN-"
      },
      "execution_count": null,
      "outputs": []
    },
    {
      "cell_type": "code",
      "source": [
        "import os\n",
        "os.chdir('/content/')\n",
        "\n",
        "import csv\n",
        "\n",
        "f = open('/content/CSV_example2_data.csv', 'r') #csv를 리드 모드로 불러옴\n",
        "data = csv.reader(f)\n",
        "next(data)\n",
        "\n",
        "# 4,5월 데이터 리스트\n",
        "result_04 = [] \n",
        "result_05 = []\n",
        "\n",
        "for row in data: \n",
        "  # 월만 뽑아오기\n",
        "  month = row[0].split('-')[1] # 0 연도 1 월 2 일\n",
        "  if month == '04':\n",
        "    result_04.append(float(row[-1]))  \n",
        "  if month == '05':\n",
        "    result_05.append(float(row[-1]))  \n",
        "f.close()\n",
        "\n",
        "import matplotlib.pyplot as plt\n",
        "\n",
        "#plt.figure(figsize = (10, 2)) #그래프의 가로길이를 10인치 세로를 2인치로 설정\n",
        "plt.boxplot([result_04, result_05]) \n",
        "plt.show()\n"
      ],
      "metadata": {
        "id": "TwJHtz-HGYiR"
      },
      "execution_count": null,
      "outputs": []
    },
    {
      "cell_type": "markdown",
      "source": [
        "# 두번째 데이터 실습"
      ],
      "metadata": {
        "id": "yyRXg-8kGeYQ"
      }
    },
    {
      "cell_type": "code",
      "source": [
        "import csv\n",
        "\n",
        "f = open('/content/example3_dataset.csv')\n",
        "data = csv.reader(f)\n",
        "for row in data:\n",
        "  print(row)\n",
        "\n",
        "f.close()  # 열었으면 잘 닫기"
      ],
      "metadata": {
        "id": "KD-liq1ZG08D"
      },
      "execution_count": null,
      "outputs": []
    },
    {
      "cell_type": "code",
      "source": [
        "# 서울특별시만 가져오기\n",
        "\n",
        "import csv\n",
        "f = open('/content/example3_dataset.csv')\n",
        "data = csv.reader(f)\n",
        "\n",
        "for row in data:\n",
        "  if '서울특별시' == row[0]:\n",
        "    print(row)\n",
        "f.close()    "
      ],
      "metadata": {
        "colab": {
          "base_uri": "https://localhost:8080/"
        },
        "id": "yo9VZXjBJAaS",
        "outputId": "ef981d5f-2a6b-4ab5-d07f-430fa3ebf043"
      },
      "execution_count": 62,
      "outputs": [
        {
          "output_type": "stream",
          "name": "stdout",
          "text": [
            "['서울특별시', '9,422,710', '4,465,391', '2.11', '4,563,512', '4,859,198', '0.94']\n"
          ]
        }
      ]
    },
    {
      "cell_type": "code",
      "source": [
        "# 서울 특별시 0세부터 100세까지의 연령에 따른 선 그래프 그리기\n",
        "\n",
        "import csv\n",
        "f = open('/content/sample_data/dataset_example3_new.csv')\n",
        "data = csv.reader(f)\n",
        "\n",
        "seoul = []\n",
        "for row in data:\n",
        "  if '경기도' == row[0]: #서울특별시를 포함한 것을 찾기\n",
        "    for i in row[3:14]: # 0~100세까지 산출\n",
        "      i = i.replace(\",\",\"\") # 대체\n",
        "      seoul.append(int(i))\n",
        "f.close()"
      ],
      "metadata": {
        "id": "Lg1hv8NjLcns"
      },
      "execution_count": null,
      "outputs": []
    },
    {
      "cell_type": "code",
      "source": [
        "plt.plot(seoul)\n",
        "plt.show()"
      ],
      "metadata": {
        "id": "HZVOTJrcLcTZ"
      },
      "execution_count": null,
      "outputs": []
    },
    {
      "cell_type": "code",
      "source": [
        "plt.bar(range(11),seoul)\n",
        "plt.show()"
      ],
      "metadata": {
        "id": "l1CA0GvILb-x"
      },
      "execution_count": null,
      "outputs": []
    },
    {
      "cell_type": "code",
      "source": [
        "import csv\n",
        "f = open('/content/sample_data/dataset_example3_new.csv')\n",
        "data = csv.reader(f)\n",
        "\n",
        "female = [] #여성 인구정보를 담을 리스트\n",
        "male = [] #남성 인구정보를 담을 리스트\n",
        "\n",
        "for row in data:\n",
        "  if '제주특별자치도' in row[0]:\n",
        "    for i in row[16:27]:#1에서 100까지\n",
        "      i = i.replace(\",\", \"\")\n",
        "      male.append(-int(i)) #남성데이터는 15~27,  barh 는 값 중 하나는 -(음수)여야함\n",
        "    for i in row[29:]:\n",
        "      i = i.replace(\",\", \"\")\n",
        "      female.append(int(i)) #여성데이터는 30~번까지\n",
        "\n",
        "import matplotlib.pyplot as plt\n",
        "\n",
        "plt.barh(range(11), male)      # barh -> 아래 그래프처럼 나오게 할 때\n",
        "plt.barh(range(11), female)\n",
        "plt.legend()\n",
        "plt.show()\n",
        "f.close()"
      ],
      "metadata": {
        "id": "z5nEWRsJLbr0"
      },
      "execution_count": null,
      "outputs": []
    },
    {
      "cell_type": "code",
      "source": [
        "# 4번 예제\n",
        "# example_4_all\n",
        "\n",
        "import csv\n",
        "f = open('/content/example_4_all.csv')\n",
        "data = csv.reader(f)\n",
        "\n",
        "for row in data:\n",
        "  print(row)\n",
        "\n",
        "f.close()  # 열었으면 잘 닫기"
      ],
      "metadata": {
        "id": "S2Mx6Kc-SOxm"
      },
      "execution_count": null,
      "outputs": []
    },
    {
      "cell_type": "code",
      "source": [
        "# 마지막 연습문제\n",
        "# 리스트를 3개를 만들어서 -> 연도, 서울, 수도권\n",
        "# 리스트로 값을 저장하는 쿼리를 작성\n",
        "\n",
        "import csv\n",
        "f = open('/content/example_4_all.csv')\n",
        "data = csv.reader(f)\n",
        "\n",
        "header = next(data)\n",
        "\n",
        "year = []\n",
        "seoul = []\n",
        "nseoul = []\n",
        "\n",
        "for row in data:\n",
        "    year.append(row[0])\n",
        "    seoul.append(float(row[1]))\n",
        "    nseoul.append(float(row[2]))\n",
        "\n",
        "f.close()\n",
        "\n",
        "print(year)\n",
        "print(seoul)\n",
        "print(nseoul)"
      ],
      "metadata": {
        "colab": {
          "base_uri": "https://localhost:8080/"
        },
        "id": "pjTLiP2sTDiv",
        "outputId": "cd56e1da-3dd9-4ace-c673-eb9f56c9489d"
      },
      "execution_count": 87,
      "outputs": [
        {
          "output_type": "stream",
          "name": "stdout",
          "text": [
            "['1949-1955', '1955-1960', '1960-1966', '1966-1970', '1970-1975', '1975-1980', '1980–1985', '1985-1990', '1990-1995', '1995-2000', '2000-2005', '2005-2010', '2010-2015', '2015-2020']\n",
            "[9.12, 55.88, 55.12, 45.66, 24.51, 21.38, 15.27, 10.15, -3.64, -3.55, -0.93, -1.34, -2.34, -4.32]\n",
            "[-5.83, 32.22, 32.76, 28.75, 22.93, 21.69, 18.99, 17.53, 8.43, 5.45, 6.41, 3.71, 2.31, 2.55]\n"
          ]
        }
      ]
    },
    {
      "cell_type": "code",
      "source": [
        "# 그래프 연습문제 마지막\n",
        "\n",
        "# year가 x축의 이름\n",
        "# seoul nseoul를 2개의 그래프를 그리는 연습문제입니다.\n",
        "\n",
        "plt.plot(range(len(seoul)), seoul, label='seoul')\n",
        "plt.plot(range(len(nseoul)), nseoul, label='nseoul')\n",
        "plt.xticks(range(len(seoul)), year,  rotation = 45)\n",
        "\n",
        "plt.legend()\n",
        "plt.show()"
      ],
      "metadata": {
        "colab": {
          "base_uri": "https://localhost:8080/",
          "height": 481
        },
        "id": "ymKSFq7OWAwl",
        "outputId": "1220166e-8e6a-4161-e806-fc65f337527c"
      },
      "execution_count": 100,
      "outputs": [
        {
          "output_type": "display_data",
          "data": {
            "text/plain": [
              "<Figure size 640x480 with 1 Axes>"
            ],
            "image/png": "[encoded data removed]"
          },
          "metadata": {}
        }
      ]
    },
    {
      "cell_type": "code",
      "source": [],
      "metadata": {
        "id": "g7zx7H9NYGuW"
      },
      "execution_count": null,
      "outputs": []
    },
    {
      "cell_type": "code",
      "source": [],
      "metadata": {
        "id": "fAQyVLX5YGI7"
      },
      "execution_count": null,
      "outputs": []
    },
    {
      "cell_type": "code",
      "source": [],
      "metadata": {
        "id": "Xuguh_84YFmQ"
      },
      "execution_count": null,
      "outputs": []
    }
  ]
}