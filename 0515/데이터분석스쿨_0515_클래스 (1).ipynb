{
  "nbformat": 4,
  "nbformat_minor": 0,
  "metadata": {
    "colab": {
      "provenance": []
    },
    "kernelspec": {
      "name": "python3",
      "display_name": "Python 3"
    },
    "language_info": {
      "name": "python"
    }
  },
  "cells": [
    {
      "cell_type": "markdown",
      "source": [
        "#1. 왜 클래스 같은 객체지향 프로그래밍이 필요할까?"
      ],
      "metadata": {
        "id": "GWsogwR8OEje"
      }
    },
    {
      "cell_type": "markdown",
      "source": [
        "객체 지향 프로그래밍은 프로그래밍을 좀 더 효율적이고 유지보수가 용이하게 하는 방법 중 하나입니다. 이 방법은 실생활에 존재하는 물건이나 개념을 객체로 정의하고, 이러한 객체들 간의 상호작용으로 프로그램을 만드는 것입니다. 이러한 방법을 사용하면 프로그램을 작게 쪼개서 개발하고, 각 객체 간의 관계를 명확히 하여 유지보수가 쉬워집니다. 또한 코드의 재사용성이 높아지고, 확장성 또한 높아집니다. 따라서 객체 지향 프로그래밍은 대규모 프로그램 개발에 적합합니다.\n",
        "\n",
        "왜 함수를 사용할까? 유지보수의 편리성 / 협업의 편리성등을 얘기했는데 다른 사람이 만든 코드를 재사용하고 싶을때 사용하는 대표적인 방법이라고 생각하면 편리할 것 같다.\n",
        "\n",
        "함수 처럼 어떤 기능을 함수 코드로 묶어 두는 것이 아닌 어떤 기능을 수행하는 하나의 단일 프로그램을 객체라고 하는 코드로 만들어 다른 프로그래머가 재사용 할 수 있도록 한다.\n",
        "\n",
        "사실 객체 지향 프로그래밍은 제가 설명하기에는 고 수준의 지식이라고 생각하지만  저는 데이터 분석 스쿨에 맞게 기본적인 특성에 대해서만 다루고 여러 모로 파이썬 구현 방법에 대해서 배울것 입니다."
      ],
      "metadata": {
        "id": "Vu3WN17MOEeu"
      }
    },
    {
      "cell_type": "markdown",
      "source": [
        "## 1.1 객체와 클래스에 대해서 알아봅시다."
      ],
      "metadata": {
        "id": "LRnfRKtIOEYz"
      }
    },
    {
      "cell_type": "markdown",
      "source": [
        "C를 제외한 모든 프로그래밍 언어는 객체지향프로그래밍 언어라고 합니다.\n",
        "객체 지향 프로그래밍이란 객체를 우선으로 생각해서 프로그래밍한다는 의미\n",
        "\n",
        "* 결론적으로 클래스 라는 것을 기반으로 객체를 만들고, \n",
        "그러한 객체를 우선으로 하는 프로그래밍을 해야함\n",
        "\n",
        "[객체]\n",
        "\n",
        "데이터와 기능을 한데 모은것으로, 변수에 대입해서 다룰수 있습니다. \n",
        "객체가 가지는 데이터를 인스턴스변수라 하고, \n",
        "객체가 가지는 함수와 같은 기능을 메서드라고 부릅니다. \n",
        "\n",
        "* 실생활에 존재하는 물건이나 존재, 속성과 행동으로 구분\n",
        "* 속성은 변수로 정의\n",
        "* 행동은 함수로 정의\n",
        "\n",
        "축구 게임에서 \n",
        "* 객체는 선수, 팀 \n",
        "* 속성은 선수의 이름, 소속팀, 포지션 \n",
        "* 행동은 공을 차거나 골을 넣는것"
      ],
      "metadata": {
        "id": "Vi6Na5l4OJay"
      }
    },
    {
      "cell_type": "markdown",
      "source": [
        "[클래스]\n",
        "\n",
        "기본적인 데이터는 내장 객체만으로도 사용하는데 문제가 없으나, 복잡한 데이터를 다루기 시작하면서 데이터와 기능을 모으는 모아진 객체가 필요한 경우가 있습니다. 객체의 내용을 결정하는 정의가 필요하고 이 정의의 모음이 클래스라고 합니다. 클래스로 부터 객체를 만들면 객체 생성 또는 인스턴스 생성이라고 합니다.\n",
        "\n",
        "보통 많이 표현하는게 붕어빵 기계입니다.\n",
        "\n",
        "어느 붕어빵이 나와도 클래스 코드 같은 붕어빵 기계가 있다면 재료만 바꾸면 되는것처럼\n",
        "\n",
        "우리도 클래스를 통해 다양한 붕어빵을 만들수 있음"
      ],
      "metadata": {
        "id": "n34HY2GvOKpp"
      }
    },
    {
      "cell_type": "markdown",
      "source": [
        "# 1.2 클래스 기초\n",
        "\n",
        "클래스는 기본적으로 다음과 같이 사용합니다. 클래스는 다음과 같이 class를 지정하고, :을 붙인 뒤 다음 줄부터 클래스를 정의하는 구문 또는 함수등으로 채웁니다.\n",
        "\n",
        "클래스 이름은 변수와 동일하고, 대문자로 시작합니다. 그리고 들여쓰기를 주의해야합니다.\n",
        "\n",
        "특히 매서드의 첫번째 매개변수는 self로 지정해야합니다."
      ],
      "metadata": {
        "id": "5UaiChWCRwq4"
      }
    },
    {
      "cell_type": "code",
      "execution_count": null,
      "metadata": {
        "id": "MC6scKxhtiLh"
      },
      "outputs": [],
      "source": [
        "# 클래스 정의\n",
        "\n",
        "class 클래스명():\n",
        "  클래스 정의"
      ]
    },
    {
      "cell_type": "code",
      "source": [
        "class Test(self, var1, var2):\n",
        "  print(\"축구선수를 생성합니다.\")\n",
        "  self.name = name\n",
        "  self.team = team"
      ],
      "metadata": {
        "id": "VSSHeIVw1M33"
      },
      "execution_count": null,
      "outputs": []
    },
    {
      "cell_type": "code",
      "source": [
        "# 클래스 정의 - 함수 사용\n",
        "class 클래스 이름:\n",
        "  \n",
        "  print(\"축구선수를 생성합니다.\")\n",
        "  self.name = name\n",
        "  self.team = team\n",
        "\n",
        "\tdef 메서드(self):\n",
        "\t\t코드"
      ],
      "metadata": {
        "id": "-aeRDts1RzrS"
      },
      "execution_count": null,
      "outputs": []
    },
    {
      "cell_type": "code",
      "source": [
        "# 클래스 정의 - 함수 사용 예시\n",
        "\n",
        "# person > greeting > print\n",
        "\n",
        "class Person:\n",
        "\tdef greeting(self):\n",
        "\t\tprint('hello')\n",
        "\n",
        "#1. Person이라는 클래스를 other넣으면 other = Person 클래스\n",
        "other = Person()\n",
        "\n",
        "#2. other.greeting = Person.greeting\n",
        "# hello를 출력하는 함수가 실행이되서\n",
        "other.greeting()\n",
        "# hello"
      ],
      "metadata": {
        "id": "LVOCgflyR0kd"
      },
      "execution_count": null,
      "outputs": []
    },
    {
      "cell_type": "code",
      "source": [
        "a = int(10)\n",
        "a\n",
        "\n",
        "b = list(range(10))\n",
        "b\n",
        "\n",
        "c = dict(x=10, y=20)\n",
        "c"
      ],
      "metadata": {
        "id": "mVBLfbB4R5R_"
      },
      "execution_count": null,
      "outputs": []
    },
    {
      "cell_type": "markdown",
      "source": [
        "int 클래스에 10을 넣어서 인스턴스 a를 만들었습니다. 마찬가지로 list 클래스에 range(10)을 넣어서 인스턴스 b를 만들고, dict 클래스에 x=10, y=20을 넣어서 인스턴스 c를 만들었습니다. 잘 보면 Person으로 인스턴스를 만드는 방법과 똑같습니다.\n",
        "\n",
        "물론 정수는 매우 자주 사용하므로 int를 생략하고 10을 바로 넣습니다. 그리고 리스트와 딕셔너리도 자주 사용하므로 축약된 문법인 [ ]과 { }를 제공하지만 클래스인 것은 같습니다.\n",
        "\n",
        "다음과 같이 리스트를 조작할 때 메서드를 사용했었죠? 인스턴스 b에서 메서드 append를 호출해서 값을 추가합니다. 이 부분도 지금까지 메서드를 만들고 사용한 것과 같은 방식입니다."
      ],
      "metadata": {
        "id": "U2_d3KOqR3gu"
      }
    },
    {
      "cell_type": "code",
      "source": [
        "a = 10\n",
        "\n",
        "type(a)\n",
        "\n",
        "# <class 'int'>"
      ],
      "metadata": {
        "id": "ai4P_fpuR8vy"
      },
      "execution_count": null,
      "outputs": []
    },
    {
      "cell_type": "markdown",
      "source": [
        "## 1.3 인스턴스와 객체는 무슨 차이가 있을까?"
      ],
      "metadata": {
        "id": "gL5ufxgWR90t"
      }
    },
    {
      "cell_type": "markdown",
      "source": [
        "클래스는 객체를 표현하는 문법이라고 했는데, 클래스로 인스턴스를 만든다고 하니 좀 헷갈리죠? 사실 인스턴스와 객체는 같은 것을 뜻합니다. 보통 객체만 지칭할 때는 그냥 객체(object)라고 부릅니다. 하지만 클래스와 연관지어서 말할 때는 인스턴스(instance)라고 부릅니다. \n",
        "\n",
        "그래서 다음과 같이 리스트 변수 a, b가 있으면 a, b는 객체입니다. 그리고 a와 b는 list 클래스의 인스턴스입니다."
      ],
      "metadata": {
        "id": "__n4H0h-R_DJ"
      }
    },
    {
      "cell_type": "code",
      "source": [
        "a = list(range(10))\n",
        "b = list(range(20))\n",
        "\n",
        "print(a)"
      ],
      "metadata": {
        "id": "i-xB7mDySABo"
      },
      "execution_count": null,
      "outputs": []
    },
    {
      "cell_type": "code",
      "source": [
        "# 빈 클래스 만들기\n",
        "\n",
        "class Person:\n",
        "  pass"
      ],
      "metadata": {
        "id": "wwrNhPMMSCoG"
      },
      "execution_count": null,
      "outputs": []
    },
    {
      "cell_type": "code",
      "source": [
        "# 메서드 안에서 메서드를 호출하기\n",
        "\n",
        "class Person:\n",
        "  def greeting(self):\n",
        "    print('Hello')\n",
        "\n",
        "  def hello(self):\n",
        "    self.greeting() # self.메서드() 형식으로 클래스 안의 메서드를 호출\n",
        "\n",
        "james = Person()\n",
        "james.greeting()"
      ],
      "metadata": {
        "id": "FcIema7bSF-B"
      },
      "execution_count": null,
      "outputs": []
    },
    {
      "cell_type": "code",
      "source": [
        "james.hello() # Hello"
      ],
      "metadata": {
        "id": "mYgyNUdZSHJu"
      },
      "execution_count": null,
      "outputs": []
    },
    {
      "cell_type": "code",
      "source": [
        "메서드를 정의할때는 함수와 같이 def문을 사용합니다. 클래스를 많이 보시면 다음과 같이 __init__이라는 초기화용 메서드를 입력합니다.\n",
        "\n",
        "init은 인스턴스 변수 정의 등 초기화 처리를 하게 되는데\n",
        "메서드의 첫번째 인수에는 기본값이 자신을 가리키는 self라는 객체를 사용하고 이는 자동 반영됩니다."
      ],
      "metadata": {
        "id": "hiHTqG0mS6Br"
      },
      "execution_count": null,
      "outputs": []
    },
    {
      "cell_type": "markdown",
      "source": [
        "#2. 파이썬 클래스의 속성\n",
        "\n",
        "파이썬 클래스에서 속성을 사용하기 위해서는 다음과 같이 __init 메서드 안에서 self.속성으로 값을 할당하면 됩니다."
      ],
      "metadata": {
        "id": "zsrFdqPxnRK3"
      }
    },
    {
      "cell_type": "code",
      "source": [
        "# 초기화 메서드\n",
        "\n",
        "def __init__(self, 인수1, 인수2):\n",
        "  self.인수1 = 초기 값1\n",
        "  self.인수2 = 초기 값2\n",
        "\n",
        "def __init__(self, name, team):\n",
        "    self.name = name\n",
        "    self.team = team"
      ],
      "metadata": {
        "id": "rnTlPhrznYnd"
      },
      "execution_count": null,
      "outputs": []
    },
    {
      "cell_type": "code",
      "source": [
        "# _의 쓰임 \n",
        "\n",
        "# 1) 변수명 name_team_select\n",
        "# 보통 변수이름이 길때 구분을 위해서 사용하는 경우를 많이 봄\n",
        "\n",
        "# 2)\n",
        "## 앞에 사용이 되게 되고 \n",
        "## _ 1개는 이후로 쓰이지 않을 변수에 특별한 이름을 부여하고 싶지 않을때 사용\n",
        "\n",
        "# Chat GPT Time\n",
        "\n",
        "## 예를 들어 다음과 같다\n",
        "\n",
        "for _ in range(10):\n",
        "  print(\"Hello world\")"
      ],
      "metadata": {
        "id": "CZaTOkoFoRVa"
      },
      "execution_count": null,
      "outputs": []
    },
    {
      "cell_type": "code",
      "source": [
        "# 그러면 __2개를 사용하면 무엇일까?\n",
        "\n",
        "# 대표적으로 __str__ __init__()등으로 사용되는데\n",
        "# 이는 특수한 예약함수나 변수를 뜻한다.\n",
        "# __str__() 함수의 경우 클래스로 인스턴스를 생성했을때, 그 인스턴스 자체를 pinrt()함수로 화면에 출력하면 나오는 값을 뜻한다.\n",
        "# __init__() 는 앞서 봤듯이 클래스에서 시작할때에 초기 생성하는 것으로 알아두면 좋다.\n",
        "```"
      ],
      "metadata": {
        "id": "Hg3_Jv2Boll2"
      },
      "execution_count": null,
      "outputs": []
    },
    {
      "cell_type": "markdown",
      "source": [
        "#2.1 속성의 선언 및 사용예시"
      ],
      "metadata": {
        "id": "MZvPd4Q0qC7S"
      }
    },
    {
      "cell_type": "code",
      "source": [
        "class BaseballPlayer():\n",
        "  def __init__(self, name, position, team, team_score):\n",
        "    self.name = name\n",
        "    self.position = position\n",
        "    self.team = team\n",
        "    self.team_score = team_score\n",
        "\n",
        "  def change_team(self, new_team):\n",
        "    print(\"선수가 이적할 팀을 선택해주세요\")\n",
        "    self.team = new_team\n",
        "\n",
        "  def __str__(self):\n",
        "    return f\"안녕하세요. 저는 {self.team}팀의 {self.name}입니다. 저희 팀 순위는 {self.team_score}위 입니다.\""
      ],
      "metadata": {
        "id": "7sFaHfSRp-Nl"
      },
      "execution_count": null,
      "outputs": []
    },
    {
      "cell_type": "code",
      "source": [
        "nosihwan = BaseballPlayer(\"노시환\",\"타자\",\"한화\",10)\n",
        "print(nosihwan)"
      ],
      "metadata": {
        "colab": {
          "base_uri": "https://localhost:8080/"
        },
        "id": "JWxrtmUbqOMS",
        "outputId": "cf97f751-baae-4b13-b8bd-c5ee279cc7c7"
      },
      "execution_count": null,
      "outputs": [
        {
          "output_type": "stream",
          "name": "stdout",
          "text": [
            "안녕하세요. 저는 한화팀의 노시환입니다. 저희 팀 순위는 10위 입니다.\n"
          ]
        }
      ]
    },
    {
      "cell_type": "code",
      "source": [
        "# 소속팀을 변경하고 싶다.\n",
        "nosihwan.change_team(\"SSG\")\n",
        "print(nosihwan)"
      ],
      "metadata": {
        "id": "mJnhagFlrC35"
      },
      "execution_count": null,
      "outputs": []
    },
    {
      "cell_type": "markdown",
      "source": [
        "클래스 선언의 기본을 알았으니 이제 속성을 통해 야구선수 클래스를 구성해보도록 할텐데요. 먼저 클래스의 속성을 추가하는 선언에 대해 알아보겠습니다.\n",
        "\n",
        "__init__()이 바로 선언을 위한 예약함수인데요. 위에 배웠었죠 파이썬에서 대표적인 예약함수이고, 이러한 함수들은 약속한 형태의 작업을 수행합니다.\n",
        "\n",
        "__init__() 함수는 이 클래스에서 사용할 변수를 정의하는 함수 입니다.\n",
        "\n",
        "__init__() 함수의 첫번째 매개변수는 반드시!!!!! self 변수를 사용해야한다.\n",
        "\n",
        "self변수는 클래스에서 생성된 인스턴스에 접근하는 예약어이고,\n",
        "\n",
        "   self.name = name\n",
        "    self.position = position\n",
        "    self.team = team\n",
        "    self.team_score = team_score\n",
        "\n",
        "다음과 같은 변수들이 인스턴스 변수입니다.\n",
        "\n",
        "약간 딕셔너리와 비슷하죠? 생성된 인스턴스에 있는 각 변수들에 매개변수인 self.변수명에 값이 할당됩니다.\n",
        "\n",
        "클래스의 변수는 self.변수이름으로 사용되는데 __init__()함수에서는 언제든 마음껏 만들수 있습니다.\n",
        "\n",
        "물론 다른데에서도 만들수는 있지만 데이터 분석에서는 흔하지 않으니 넘어가도록 하겠습니다."
      ],
      "metadata": {
        "id": "h-pV_p7Cr0L_"
      }
    },
    {
      "cell_type": "markdown",
      "source": [
        "self에 대해 대략은 알거같은데 좀더 살펴볼게요. \n",
        "\n",
        "self는 인스턴스 자기 자신을 의미합니다. 다음 코드가 있습니다.\n",
        "\n",
        "class Person:\n",
        "\n",
        "def __init__(self):\n",
        "\n",
        "self.hello = ‘안녕하세요’\n",
        "\n",
        "여기서 self.hello에 ‘안녕하세요’라는 속성을 추가했는데요. 결론적으로 (self)는 Person과 동일하다고 생각하시면 되고, self.hello는 Person().hello라고 생각하시면 self에 대한 이해가 쉽다고 생각합니다. \n",
        "\n",
        "그래도 이해가 잘 안되신다면.. 우리가 게임 캐릭터를 새로 생성할때 초기 능력치가 고정적으로 부여된다고 했을때, 언제 어디서 어느나라에서 만들던지 똑같은 캐릭터에는 똑같은 초기 능력치가 생성되고, 그에 대한 초기 능력치를 입력하는 것이 위의 구문이라고 생각하시면 될것 같습니다.\n",
        "\n",
        "조금 더 나아가는 예시로 속성을 살펴보겠습니다. 다음은 이름과 나이 주소를 입력받는 클래스이고, greeting함수를 사용해서 자기소개를 하네요"
      ],
      "metadata": {
        "id": "-XHlEhXcsFUi"
      }
    },
    {
      "cell_type": "code",
      "source": [
        "class Person():\n",
        "  def __init__(self, var1, var2):\n",
        "    self.hello = ‘안녕하세요’\n",
        "    self.var1 = var1\n",
        "    self.var2 = var2\n",
        "\n",
        "Person(var1, var2)"
      ],
      "metadata": {
        "id": "xVYQT8O_tAgh"
      },
      "execution_count": null,
      "outputs": []
    },
    {
      "cell_type": "code",
      "source": [
        "# 조금 더 나아가는 예시로 속성을 살펴보겠습니다. \n",
        "# 다음은 이름과 나이 주소를 입력받는 클래스이고, greeting함수를 사용해서 자기소개를 하네요"
      ],
      "metadata": {
        "id": "MDrZfPe_tC9D"
      },
      "execution_count": null,
      "outputs": []
    },
    {
      "cell_type": "code",
      "source": [
        "class Person:\n",
        "  def __init__(self, name, age, address):\n",
        "    self.hello = '안녕하세요.'\n",
        "    self.name = name  # 홍길동\n",
        "    self.age = age  # 20\n",
        "    self.address = address # 제주특별자치도 서귀포시\n",
        "\n",
        "\t\t#위의 속성에 접근할때는 self 함수가 필요\n",
        "  def greeting(self):\n",
        "    print(f'{self.hello} 저는 {self.name}입니다.')\n",
        "\n",
        "hong = Person('홍길동', 20, '제주특별자치도 서귀포시')\n",
        "hong.greeting()# 안녕하세요. 저는 홍길동입니다.\n",
        "\n",
        "print('이름:', hong.name)# 홍길동\n",
        "print('나이:', hong.age) # 20\n",
        "print('주소:', hong.address) # 제주특별자치도 서귀포시"
      ],
      "metadata": {
        "colab": {
          "base_uri": "https://localhost:8080/"
        },
        "id": "I4ap34E2tC6Q",
        "outputId": "b2e5ffb2-a768-4c55-ed14-4b9ffc7a6ec0"
      },
      "execution_count": null,
      "outputs": [
        {
          "output_type": "stream",
          "name": "stdout",
          "text": [
            "안녕하세요. 저는 홍길동입니다.\n",
            "이름: 홍길동\n",
            "나이: 20\n",
            "주소: 제주특별자치도 서귀포시\n"
          ]
        }
      ]
    },
    {
      "cell_type": "code",
      "source": [
        "결국 홍길동이 = name에 들어가고 \n",
        "그 name → self.name이 되어서 class 내에서 self라는것이 있을때 어디서든 불러와서 사용할 수 있는 변수가 된 것 입니다."
      ],
      "metadata": {
        "id": "1vPFnaBcuAqE"
      },
      "execution_count": null,
      "outputs": []
    },
    {
      "cell_type": "code",
      "source": [
        "# [실습!!!] *args와 **kwargs를 사용하여 코드를 수정해보시오.\n",
        "\n",
        "class Person:\n",
        "  def __init__(self, *arg, **kwarg):\n",
        "    self.hello = '안녕하세요.'\n",
        "    self.name = arg[0]\n",
        "    self.age = arg[1]\n",
        "    self.address = kwarg[\"address\"]\n",
        "\n",
        "  def greeting(self):\n",
        "    print(f'{self.hello} 저는 {self.name}입니다.')\n",
        "\n",
        "hong = Person('임꺽정', 30, address = '서울특별시')\n",
        "hong.greeting()\n",
        "\n",
        "print('이름:', hong.name)\n",
        "print('나이:', hong.age)\n",
        "print('주소:', hong.address)"
      ],
      "metadata": {
        "id": "1GwSIU2wuN4S"
      },
      "execution_count": null,
      "outputs": []
    },
    {
      "cell_type": "code",
      "source": [
        "# *arg예시 \n",
        "\n",
        "class Person:\n",
        "  def __init__(self, *args): \n",
        "    self.hello = '안녕하세요'\n",
        "    self.name,  = args[0]\n",
        "    self.age = args[1]\n",
        "    self.address = args[2]\n",
        "\n",
        "#위의 속성에 접근할때는 self 함수가 필요\n",
        "  def greeting(self):\n",
        "    print(f'{self.hello} 저는 {self.name}입니다.')\n",
        "\n",
        "hong = Person('홍길동', 20, '제주도')\n",
        "hong.greeting()"
      ],
      "metadata": {
        "id": "D4p85EdI0wY2"
      },
      "execution_count": null,
      "outputs": []
    },
    {
      "cell_type": "code",
      "source": [
        "class Person:\n",
        "  def __init__(self, **kwargs):    # 키워드 인수\n",
        "    self.hello = '안녕하세요'\n",
        "    self.name = kwargs['name']\n",
        "    self.age = kwargs['age']\n",
        "    self.address = kwargs['address']\n",
        "\n",
        "#위의 속성에 접근할때는 self 함수가 필요\n",
        "  def greeting(self):\n",
        "    print(f'{self.hello} 저는 {self.name}입니다.')\n",
        "\n",
        "hong = Person(**{'name': 'hong', 'age': 20, 'address': '제주도'})\n",
        "hong.greeting()"
      ],
      "metadata": {
        "id": "CccYQ_SU00t7"
      },
      "execution_count": null,
      "outputs": []
    },
    {
      "cell_type": "markdown",
      "source": [
        "## 2.2 클래스를 사용하는 이유"
      ],
      "metadata": {
        "id": "_mNgM_s-44Pd"
      }
    },
    {
      "cell_type": "markdown",
      "source": [
        "다시한번 말하지만 핵심은 자신이 만든 코드를 다른 사람이 손쉽게 사용할 수 있도록 설계 → 그렇게 설계가 되었다면 자신도 사용하기 더 편할것\n",
        "\n",
        "사실 단순히 데이터를 저장하는 수단으로만 사용하거나 분석만을 한다면 이차원 리스트나 함수형태로 분석을 하거나 함수도 안쓰는 경우도 있음"
      ],
      "metadata": {
        "id": "KDjr9nwS45Vk"
      }
    },
    {
      "cell_type": "markdown",
      "source": [
        "예시로 다음과 같이 코드를 짜서 데이터를 구성한다고 생각해보자\n",
        "\n",
        "이 코드를 통해 데이터를 받고 → 데이터를 정제하고 class를 통해\n",
        "\n",
        "1. 데이터가 들어오는 곳과 \n",
        "2. 기능을 정의하는 곳\n",
        "3. 무언가를 출력하는 것이 구별되어 가독성이 좋다 라는 느낌을 받는다."
      ],
      "metadata": {
        "id": "CD2Xno9e46hD"
      }
    },
    {
      "cell_type": "code",
      "source": [
        "#데이터\n",
        "names = [\"Messi\", \"Ramos\", \"Ronaldo\", \"Park\", \"Buffon\"]\n",
        "positions = [\"MF\", \"DF\", \"CF\", \"WF\", \"GK\"]\n",
        "numbers = [10, 4, 7, 13, 1]\n",
        "\n",
        "#이차원 리스트\n",
        "players = [[name, position, number] for name, position, number in zip(names, positions, numbers)]\n",
        "print(players)\n",
        "print(players[0])\n",
        "\n",
        "#전체 SoccerPlayer 코드\n",
        "class SoccerPlayer(object):\n",
        "    def __init__(self, name, position, back_number):\n",
        "        self.name = name\n",
        "        self.position = position\n",
        "        self.back_number = back_number\n",
        "    def change_back_number(self, new_number):\n",
        "      \n",
        "        print(\"선수의 등 번호를 변경한다: From %d to %d\" % (self.back_number, new_number))\n",
        "        self.back_number = new_number\n",
        "    def __str__(self):\n",
        "        return \"Hello, My name is %s. I play in %s in center.\" % (self.name, self.position)\n",
        "\n",
        "# 클래스-인스턴스\n",
        "player_objects = [SoccerPlayer(name, position, number) for name, position, number in zip(names, positions, numbers)]\n",
        "print(player_objects[0])"
      ],
      "metadata": {
        "id": "zlaoKfrA47q_"
      },
      "execution_count": null,
      "outputs": []
    },
    {
      "cell_type": "markdown",
      "source": [
        "#3. 노트 클래스문을 한번 만들어볼텐데!! - 일단 만들어보자"
      ],
      "metadata": {
        "id": "sxdi9w2d49Jz"
      }
    },
    {
      "cell_type": "code",
      "source": [
        "클래스를 다루는 순간부터 객체지향 프로그래밍을 할 수 있다라고 하기도 한다.\n",
        "이것을 할때 생각해봐야할것은?\n",
        "\n",
        "1. 이 프로그램에 필요한 것은?\n",
        "2. 어떤 기능을 넣을 것인지?\n",
        "3. 어떤 데이터를 저장할 것인지? # 우리한테 핵심 -> 데이터가 저장되야 분석! -> 제안하거나 추가적으로 데이터를 얻을 수 있게 해야한다.\n",
        "4. 기능은 몇개나 필요한지? # 기능 분석 \n",
        "5. (고객관점) 어떤 연령층이 사용할 것인지? # \n",
        "6. 기타 등등\n",
        "\n",
        "# -> 향후 전산요청서 / 전산개발서 같은것을들 작성할때가 있을 것임 "
      ],
      "metadata": {
        "id": "vadoEK8148vN"
      },
      "execution_count": null,
      "outputs": []
    },
    {
      "cell_type": "code",
      "source": [
        "간단한게 보면 노트앱의 필요는 다음과 같다.\n",
        "\n",
        "1. 노트는 뭐든 쓸수 있어야 한다. - 어떤 단어든 사용가능\n",
        "2. 사용자가 사용할 수 있어야 한다. - 비사용자는 접근 불가 ?\n",
        "3. 노트북은 제목이나 소제목등을 쓸수도 있다.\n",
        "4. 트위터 같은 경우는 300자 / 그외에 한 페이지당 쓸수 있는 제한을 둘수 도 있다.\n",
        "5. 노트는 노트북에 사용된다.\n",
        "6. 노트가 300페이지가 이상이 되면 더 추가할수 없다."
      ],
      "metadata": {
        "id": "J5WaRCWM48oh"
      },
      "execution_count": null,
      "outputs": []
    },
    {
      "cell_type": "code",
      "source": [
        "[그러면 필요한 것들을 생각해보자]\n",
        "\n",
        "1. 객체 -  사용자, 노트, 노트북\n",
        "* 사용자 정보는 얼마나 받을건지?\n",
        "* 노트 -> 지우거나 추가하는 기능 필요\n",
        "# * 300페이지 정의\n",
        "* 수정기능도 필요하지 않을까 등등\n",
        "\n",
        "노트기능 클래스로 만들기 "
      ],
      "metadata": {
        "id": "MXpjtaha6vGm"
      },
      "execution_count": null,
      "outputs": []
    },
    {
      "cell_type": "code",
      "source": [
        "# 노트 기능 중에서 노트!!\n",
        "\n",
        "# 노트 -> 무언가를 쓰는 기능\n",
        "# 맨처음 시작될때 구성\n",
        "# 노트는 노트북의 일부\n",
        "\n",
        "class Note():\n",
        "  '''맨처음은 초기화를 시켜야하기 때문에 write = none'''\n",
        "  def __init__(self, write = None):\n",
        "    self.write = write\n",
        "  ''' 쓰는 기능 추가 '''\n",
        "  def write_function(self, write):\n",
        "    self.write = write\n",
        "  '''모두 지우는 기능 추가'''\n",
        "  def remove_all(self):\n",
        "    self.write = \"\"\n",
        "  ''' 작성된 내용을 볼 수 있게'''\n",
        "  def __str__(self):\n",
        "    return self.write\n"
      ],
      "metadata": {
        "id": "YlQEmHk56vf0"
      },
      "execution_count": 12,
      "outputs": []
    },
    {
      "cell_type": "code",
      "source": [
        "# 노트북은 노트보다 조금 더 어렵죠? 한번 따라가면서 볼게요\n",
        "\n",
        "# 노트북의 기능은 ?\n",
        "\n",
        "# 1) 노트북의 제목\n",
        "# 2) 페이지수 \n",
        "# 3) 노트의 저장\n",
        "\n",
        "class NoteBook():\n",
        "  '''모든 기능을 저장하기 위해 다음과 같이 init에 모두 입력'''\n",
        "  def __init__(self, title):\n",
        "    self.title = title\n",
        "    self.page_number = 1\n",
        "    self.notes = {} # 딕셔너리 형으로 선언 Note Page Number를 Key로 설정해서 쉽게 찾기 위함\n",
        "\n",
        "  ''' 새로운 노트를 노트북에 추가하는 함수'''\n",
        "  ''' 지금은 되게 기본 기능만 추가했지만 실제 기능구현시 많은 것을 고려해야함 '''\n",
        "  ''' 7페이지면 8페이지에 추가되는 형태로 일단 구현'''\n",
        "  def add_note(self, note, page = 0):\n",
        "    if self.page_number < 300:\n",
        "      if page == 0:\n",
        "        self.note[self.page_number] = note\n",
        "        self.page_number += 1\n",
        "\n",
        "      else:\n",
        "        self.notes = {page : note}\n",
        "        self.page_number += 1\n",
        "    else:\n",
        "      print(\"페이지가 300페이지가 넘어서 추가할 수 없어요\")\n",
        "\n",
        "  ''' 특정 페이지 번호에 있는 노트를 제거하는 함수'''\n",
        "  # 딕셔너리의 Key가 있는 지확인하고, 있다면 삭제 없으면 프린트문 사용해서 경고문장 출력\n",
        "  def remove_note(self, page_number):\n",
        "    if page_number in self.notes.keys():\n",
        "      return self.notes.pop(page_number)\n",
        "    else:\n",
        "      print(\"삭제된 노트입니다.\")\n",
        "\n",
        "  # 현재 노트 페이지 출력\n",
        "  def get_number_of_page(self):\n",
        "    return len(self.notes.keys())\n",
        "\n",
        "####### 실습 종료      #########\n",
        "##############################"
      ],
      "metadata": {
        "id": "52w2autC6vdb"
      },
      "execution_count": 17,
      "outputs": []
    },
    {
      "cell_type": "code",
      "source": [
        "import os\n",
        "os.chdir('/content/')"
      ],
      "metadata": {
        "id": "jouyWr1XiLE2"
      },
      "execution_count": 14,
      "outputs": []
    },
    {
      "cell_type": "code",
      "source": [
        "from notebook import Note\n",
        "from notebook import NoteBook"
      ],
      "metadata": {
        "id": "EzuN0uBUiMUj"
      },
      "execution_count": 15,
      "outputs": []
    },
    {
      "cell_type": "code",
      "source": [
        "note_book_01 = Note(\"안녕하세요 김진환입니다.\")\n",
        "print(note_book_01)"
      ],
      "metadata": {
        "id": "vGoX2-rWiN8S"
      },
      "execution_count": null,
      "outputs": []
    },
    {
      "cell_type": "code",
      "source": [
        "note_book_02 = Note(\"저는 축구를 좋아합니다.\")\n",
        "print(note_book_02)"
      ],
      "metadata": {
        "id": "2XWIt1u9iN5k"
      },
      "execution_count": null,
      "outputs": []
    },
    {
      "cell_type": "code",
      "source": [
        "note_book_02.remove_all()\n",
        "print(note_book_02)"
      ],
      "metadata": {
        "id": "vy46SIo_iN2o"
      },
      "execution_count": null,
      "outputs": []
    },
    {
      "cell_type": "code",
      "source": [
        "# 노트북 사용하기\n",
        "# 넘어가겠습니다.\n",
        "my_story = NoteBook(\"나의 이야기\")"
      ],
      "metadata": {
        "id": "mNRU7FwdiWw9"
      },
      "execution_count": 18,
      "outputs": []
    },
    {
      "cell_type": "code",
      "source": [
        "my_story.add_note(note_book_01)"
      ],
      "metadata": {
        "colab": {
          "base_uri": "https://localhost:8080/",
          "height": 174
        },
        "id": "8_H9BHzSiWs4",
        "outputId": "6e2aa476-62e1-451e-d7ad-2013f65425ef"
      },
      "execution_count": 19,
      "outputs": [
        {
          "output_type": "error",
          "ename": "NameError",
          "evalue": "ignored",
          "traceback": [
            "\u001b[0;31m---------------------------------------------------------------------------\u001b[0m",
            "\u001b[0;31mNameError\u001b[0m                                 Traceback (most recent call last)",
            "\u001b[0;32m<ipython-input-19-8ea9ae64af71>\u001b[0m in \u001b[0;36m<cell line: 1>\u001b[0;34m()\u001b[0m\n\u001b[0;32m----> 1\u001b[0;31m \u001b[0mmy_story\u001b[0m\u001b[0;34m.\u001b[0m\u001b[0madd_note\u001b[0m\u001b[0;34m(\u001b[0m\u001b[0mnote_book_01\u001b[0m\u001b[0;34m)\u001b[0m\u001b[0;34m\u001b[0m\u001b[0;34m\u001b[0m\u001b[0m\n\u001b[0m",
            "\u001b[0;31mNameError\u001b[0m: name 'note_book_01' is not defined"
          ]
        }
      ]
    },
    {
      "cell_type": "markdown",
      "source": [
        "#4. 클래스의 요소에 대해서 좀더 점검해보자!"
      ],
      "metadata": {
        "id": "g6BLR9lVK7-u"
      }
    },
    {
      "cell_type": "code",
      "source": [
        "# 클래스 기본 \n",
        "\n",
        "class SoccerPlayer(object): \n",
        "#클래스를 사용한 다음 단어의 앞글자가 대문자가 되도록 클래스 이름을 작성한뒤 object를 괄호 안에 넣는다."
      ],
      "metadata": {
        "id": "lG3lgTHyK9Ea"
      },
      "execution_count": null,
      "outputs": []
    },
    {
      "cell_type": "code",
      "source": [
        "# 빈 클래스 만들기\n",
        "class empty_class:\n",
        "  pass"
      ],
      "metadata": {
        "id": "4HFtQSckK-Nz"
      },
      "execution_count": null,
      "outputs": []
    },
    {
      "cell_type": "code",
      "source": [
        "# 클래스 실행 예시 1\n",
        "\n",
        "class Singer:\n",
        "  def sing(self):\n",
        "    return \"Ditto\"\n",
        "\n",
        "new_jeans = Singer()\n",
        "new_jeans.sing() # Singer라는 클래스 안에 있는 sing 함수를 불러온 것"
      ],
      "metadata": {
        "id": "veptaRRbK_Ox"
      },
      "execution_count": null,
      "outputs": []
    },
    {
      "cell_type": "code",
      "source": [
        "#4.2 커스텀 클래스 활용"
      ],
      "metadata": {
        "id": "WW6UN7SlLAim"
      },
      "execution_count": null,
      "outputs": []
    },
    {
      "cell_type": "code",
      "source": [
        "# [커스텀 클래스 활용 예시 1]\n",
        "\n",
        "# 여러분들이 회원가입을 위한 것이나 데이터 처리를 할 경우 유저 데이터에 대해서 새롭게 쌓으려고 한다면\n",
        "# 이름, 성별, 나이 등등 필요할 것 -> self.이를 인스턴스 변수라 칭하자!!\n",
        "\n",
        "# 만약에 데이터 마트를 구축한다. 라고 하면 이를 가지고 사용자 정보를 출력하거나\n",
        "# 그리고 만약 마케팅을 한다라고 하면 다음과 같은 기능들이 있어야 할것이다.\n",
        "# * 사용자에게 나이에 맞게 메일을 보낸다.\n",
        "\n",
        "### 구글 폼 -> 마케팅 -> 정보를 받아서 -> 추첨 -> 공지 -> \n",
        "\n",
        "# * 사용자에게 특정시간에 어떠한 마케팅을 한다.\n",
        "\n",
        "### -> 분석 준비 x "
      ],
      "metadata": {
        "id": "r0NVcP8qLAQF"
      },
      "execution_count": null,
      "outputs": []
    },
    {
      "cell_type": "code",
      "source": [
        "# 클래스 정의\n",
        "class User:\n",
        "  \"\"\" 사용자 클래스 \"\"\"\n",
        "\n",
        "  def __init__(self, name, mail):\n",
        "    \"\"\" 초기화 처리 \"\"\"\n",
        "    self.name = name\n",
        "    self.mail = mail\n",
        "\n",
        "  def print_user_info(self):\n",
        "    \"\"\" 사용자 정보를 print로 출력 \"\"\"\n",
        "    print(\" \" + self.name)\n",
        "    print(\" \" + self.mail)\n",
        "\n",
        "# User 타입 객체 생성\n",
        "user1 = User(\"User1\", \"User1@naver.kr\")\n",
        "\n",
        "# User 타입 객체 생성\n",
        "print(user1.name)\n",
        "\n",
        "# User 타입 객체 생성\n",
        "user1.print_user_info()\n",
        "\n",
        "# User 타입 객체 생성\n",
        "user1.mail = \"new_user1@naver.com\"\n",
        "\n",
        "# 메서드\n",
        "user1.print_user_info()"
      ],
      "metadata": {
        "id": "o4ZdfLg-LBvy"
      },
      "execution_count": null,
      "outputs": []
    },
    {
      "cell_type": "code",
      "source": [
        "# 커스텀 클래스 예시 2\n",
        "\n",
        "class Pokemon_pi:\n",
        "  # 피카츄의 능력치 \n",
        "  strength = 20\n",
        "  dexterity = 25\n",
        "  vitality = 20\n",
        "  energy = 15\n",
        "  volt = 100\n",
        "\n",
        "  def attact(self):\n",
        "    return 'GiGiGic'\n",
        "\n",
        "#만약 이 파일을 Nintendo.py라는 곳에 저장한뒤에 불러올수 있다.\n",
        "\n",
        "#import Nintendo\n",
        "#Jiwoo = Nintendo.Pokemon_pi\n",
        "#JinHwan = Nintendo.Pokemon_pi\n",
        "\n",
        "# 지우도 피카츄를 가지고 나도 피카츄를 가지게 된 상황\n",
        "# 마약 공격을 하려면\n",
        "\n",
        "Jiwoo = Pokemon_pi()\n",
        "JinHwan = Pokemon_pi()\n",
        "\n",
        "print(Jiwoo.attact())\n",
        "\n",
        "pika = [Jiwoo.strength,Jiwoo.volt] \n",
        "print(pika)"
      ],
      "metadata": {
        "id": "U1NUkO4fLDvj"
      },
      "execution_count": null,
      "outputs": []
    },
    {
      "cell_type": "code",
      "source": [
        "# 피카츄 레벨 업!!\n",
        "pika_level2 = Pokemon_pi()\n",
        "pika_level2.level_up()\n",
        "pika_level2_stat = [pika_level2.strength, pika_level2.dexterity, pika_level2.vitality, pika_level2.energy, pika_level2.volt] \n",
        "print(pika_level2_stat)"
      ],
      "metadata": {
        "id": "F6c12g_TLFN3"
      },
      "execution_count": null,
      "outputs": []
    },
    {
      "cell_type": "code",
      "source": [
        "#3. self\n",
        "\n",
        "# self는 바로 그 클래스의 객체를 나타낸다. \n",
        "# 한마디로 메서드를 정의할때는 항상 self라는 인자를 써준다고 생각하면 됩니다. -> x "
      ],
      "metadata": {
        "id": "eWTm-bjaLGDP"
      },
      "execution_count": null,
      "outputs": []
    },
    {
      "cell_type": "code",
      "source": [
        "# Self.name과 name의 차이 \n",
        "\n",
        "class ClassExample:\n",
        "    @staticmethod\n",
        "    def call(self, name):  # 함수\n",
        "        self.name = \"self\" + name  # self.name으로 파라미터와 구분\n",
        "        print(\"self : \" + self.name + \" param : \" + name)\n",
        "\n",
        "\n",
        "a = ClassExample()  # 객체화 (ClassExample의 정보를 a에 담음)\n",
        "a.call(a, \"철수\")"
      ],
      "metadata": {
        "id": "uPF5cgHDLGcW"
      },
      "execution_count": null,
      "outputs": []
    },
    {
      "cell_type": "code",
      "source": [
        "# 4. init 생성자\n",
        "\n",
        "# 생성자는 따로 호출되지 않아도 자동으로 호출되는 메서드로 초기화 메서드라고도 함"
      ],
      "metadata": {
        "id": "EWAeKYijLGaP"
      },
      "execution_count": null,
      "outputs": []
    },
    {
      "cell_type": "code",
      "source": [
        "# 생성자는 호출만 되어도 자동으로 수행된다.\n",
        "class Person:\n",
        "    def __init__(self):\n",
        "        print(\"태어남..\")\n",
        "\n",
        "p = Person()"
      ],
      "metadata": {
        "id": "oEsasSMeLGYP"
      },
      "execution_count": null,
      "outputs": []
    },
    {
      "cell_type": "code",
      "source": [
        "class MyClass:\n",
        "    count = 0\n",
        "\n",
        "    def __init__(self):\n",
        "        MyClass.count += 1\n",
        "\n",
        "    def get_count(self):\n",
        "        return MyClass.count\n",
        "\n",
        "a = MyClass()\n",
        "b = MyClass()\n",
        "c = MyClass()\n",
        "\n",
        "print(a.get_count()) #3번 호출되었기 때문에 3이 나오게 된다.\n",
        "\n",
        "print(MyClass.count) #직접 호출도 가능하다."
      ],
      "metadata": {
        "id": "_7cHER-ALGWB"
      },
      "execution_count": null,
      "outputs": []
    },
    {
      "cell_type": "code",
      "source": [
        "# 4.5 str 생성자\n",
        "\n",
        "class text_bot:\n",
        "  def __init__(self, name, job):\n",
        "    self.name = name\n",
        "    self.job = job\n",
        "\n",
        "  def __str__(self):\n",
        "    return \"내 이름은 %s이고, 내 직업은 %s 입니다.\"%(self.name, self.job)\n",
        "\n",
        "introduce = text_bot(\"김진환\",\"데이터 분석가\")\n",
        "print(introduce)"
      ],
      "metadata": {
        "id": "ephuhztwLGT6"
      },
      "execution_count": null,
      "outputs": []
    },
    {
      "cell_type": "code",
      "source": [
        "#4.6 인스턴스 변수"
      ],
      "metadata": {
        "id": "x3zwB9A9LGRy"
      },
      "execution_count": null,
      "outputs": []
    },
    {
      "cell_type": "code",
      "source": [
        "#인스턴스 변수 예시\n",
        "\n",
        "class pokamon_select:\n",
        "  def __init__(self, name, hp, damage):\n",
        "    self.name = name\n",
        "    self.hp = hp\n",
        "    self.damage = damage\n",
        "\n",
        "#인스턴스 변수 사용하기\n",
        "\n",
        "pokamon_1 = pokamon_select(\"피카츄\", 40, 5) # 피카츄만의 인스턴스 변수 정의\n",
        "pokamon_2 = pokamon_select(\"이상해씨\", 20, 2) # 이상해씨만의 인스터스 변수 정의\n"
      ],
      "metadata": {
        "id": "pRd6CiZnLGPT"
      },
      "execution_count": null,
      "outputs": []
    },
    {
      "cell_type": "code",
      "source": [
        "pokamon_1.name"
      ],
      "metadata": {
        "id": "_QMSc7YvLOsc"
      },
      "execution_count": null,
      "outputs": []
    },
    {
      "cell_type": "code",
      "source": [
        "# [클래스 속성과 인스턴스 속성의 차이점]"
      ],
      "metadata": {
        "id": "ghP7RXe4LOqn"
      },
      "execution_count": null,
      "outputs": []
    },
    {
      "cell_type": "code",
      "source": [
        "## 클래스 속성과 인스턴스 속성의 차이점\n",
        "\n",
        "# 클래스 속성 사용시 누적이 됨\n",
        "class Person:\n",
        "    bag = []\n",
        " \n",
        "    def put_bag(self, stuff):\n",
        "        self.bag.append(stuff)\n",
        " \n",
        "james = Person()\n",
        "james.put_bag('책')\n",
        " \n",
        "maria = Person()\n",
        "maria.put_bag('열쇠')\n",
        " \n",
        "print(james.bag)\n",
        "print(maria.bag)"
      ],
      "metadata": {
        "id": "a8RFX0TjLOom"
      },
      "execution_count": null,
      "outputs": []
    },
    {
      "cell_type": "code",
      "source": [
        "#인스턴스 속성 사용시 각자 구성이 됨\n",
        "\n",
        "class Person:\n",
        "    def __init__(self):\n",
        "        self.bag = []\n",
        " \n",
        "    def put_bag(self, stuff):\n",
        "        self.bag.append(stuff)\n",
        " \n",
        "james = Person()\n",
        "james.put_bag('책')\n",
        " \n",
        "maria = Person()\n",
        "maria.put_bag('열쇠')\n",
        " \n",
        "print(james.bag)\n",
        "print(maria.bag)\n",
        "\n",
        "# ['책']\n",
        "# ['열쇠']"
      ],
      "metadata": {
        "id": "ocLaMHWLLOmP"
      },
      "execution_count": null,
      "outputs": []
    },
    {
      "cell_type": "code",
      "source": [],
      "metadata": {
        "id": "CqCWkv-7LOj6"
      },
      "execution_count": null,
      "outputs": []
    },
    {
      "cell_type": "code",
      "source": [],
      "metadata": {
        "id": "cGw1S7JZLOhx"
      },
      "execution_count": null,
      "outputs": []
    }
  ]
}