{
  "nbformat": 4,
  "nbformat_minor": 0,
  "metadata": {
    "colab": {
      "provenance": []
    },
    "kernelspec": {
      "name": "python3",
      "display_name": "Python 3"
    },
    "language_info": {
      "name": "python"
    }
  },
  "cells": [
    {
      "cell_type": "markdown",
      "source": [
        "# 크롤링"
      ],
      "metadata": {
        "id": "UsjsDIAJSpl9"
      }
    },
    {
      "cell_type": "code",
      "execution_count": null,
      "metadata": {
        "id": "I7951YCCSflQ"
      },
      "outputs": [],
      "source": [
        "from bs4 import BeautifulSoup\n",
        "import requests   # 요청하기 기능\n",
        "from datetime import datetime\n",
        "\n",
        "url = \"http://www.daum.net/\"\n",
        "response = requests.get(url)   # url의 내용 요청에 대한 응답을 response에 저장?\n",
        "soup = BeautifulSoup(response.text, 'html.parser')\n",
        "rank = 1\n",
        "\n",
        "results = soup.findAll('a','link_favorsch')\n",
        "\n",
        "print(datetime.today().strftime(\"%Y년 %m월 %d일의 실시간 검색어 순위입니다.\\n\"))\n",
        "\n",
        "for result in results:\n",
        "    print(rank,\"위 : \",result.get_text(),\"\\n\")\n",
        "    rank += 1"
      ]
    },
    {
      "cell_type": "code",
      "source": [
        "# requests.get(url) -> url 정보 요청\n",
        "# return requests.response -> url 정보 응답값?\n",
        "# response = requests.get(url)  -> 응갑값을 response에 저장?\n",
        "\n",
        "# https://requests.readthedocs.io/en/latest/api/#requests.Response\n",
        "\n",
        "# print(response.text) -> 응답값에 있는 text 출력\n",
        "# print(response.url) \n",
        "# print(response.content)\n",
        "# print(response.encoding)   -> encoding 방식?\n",
        "# print(response.headers)\n",
        "# print(response.json)\n",
        "# print(response.links)\n",
        "# print(response.ok)\n",
        "# print(response.status_code)"
      ],
      "metadata": {
        "id": "nB2ctQq-SsWV"
      },
      "execution_count": null,
      "outputs": []
    },
    {
      "cell_type": "markdown",
      "source": [
        "# API"
      ],
      "metadata": {
        "id": "sOjGyBdSSsqe"
      }
    },
    {
      "cell_type": "code",
      "source": [
        "# 날씨 확인하기\n",
        "\n",
        "import requests\n",
        "import json\n",
        "\n",
        "city = \"Seoul\"\n",
        "apikey = \"################################\"  # 나의 api key 입력\n",
        "lang = \"kr\"\n",
        "api = f\"\"\"http://api.openweathermap.org/data/2.5/\\\n",
        "weather?q={city}&appid={apikey}&lang={lang}&units=metric\"\"\"\n",
        "# api = f\"주소?파라미터&파라미터\n",
        "# lang={lang} -> 값을 한국어로?\n",
        "# units=metric -> 화씨를 섭씨\n",
        "\n",
        "result = requests.get(api)\n",
        "# print(result.text)\n",
        "\n",
        "data = json.loads(result.text)\n",
        "\n",
        "# 지역 : name\n",
        "print(data[\"name\"],\"의 날씨입니다.\")\n",
        "# 자세한 날씨 : weather - description\n",
        "print(\"날씨는 \",data[\"weather\"][0][\"description\"],\"입니다.\")\n",
        "# 현재 온도 : main - temp\n",
        "print(\"현재 온도는 \",data[\"main\"][\"temp\"],\"입니다.\")\n",
        "# 체감 온도 : main - feels_like\n",
        "print(\"하지만 체감 온도는 \",data[\"main\"][\"feels_like\"],\"입니다.\")\n",
        "# 최저 기온 : main - temp_min\n",
        "print(\"최저 기온은 \",data[\"main\"][\"temp_min\"],\"입니다.\")\n",
        "# 최고 기온 : main - temp_max\n",
        "print(\"최고 기온은 \",data[\"main\"][\"temp_max\"],\"입니다.\")\n",
        "# 습도 : main - humidity\n",
        "print(\"습도는 \",data[\"main\"][\"humidity\"],\"입니다.\")\n",
        "# 기압 : main - pressure\n",
        "print(\"기압은 \",data[\"main\"][\"pressure\"],\"입니다.\")\n",
        "# 풍향 : wind - deg\n",
        "print(\"풍향은 \",data[\"wind\"][\"deg\"],\"입니다.\")\n",
        "# 풍속 : wind - speed\n",
        "print(\"풍속은 \",data[\"wind\"][\"speed\"],\"입니다.\")"
      ],
      "metadata": {
        "id": "QolssVaPSu0R"
      },
      "execution_count": null,
      "outputs": []
    },
    {
      "cell_type": "code",
      "source": [
        "# 번역기\n",
        "\n",
        "from googletrans import Translator\n",
        "\n",
        "translator = Translator()\n",
        "\n",
        "# sentence = \"안녕하세요 코드라이언입니다.\"\n",
        "sentence = input(\"번역할 문장을 입력해주세요 : \")\n",
        "\n",
        "detected = translator.detect(sentence)        # 번역할 문장이 어떤 언어인지 확인\n",
        "# print(detected.lang)\n",
        "\n",
        "result = translator.translate(sentence,'en')  # sentence를 영어(en)로 번역\n",
        "\n",
        "# translator.translate(text/번역할 문장, dest/번역할 언어, src/생략가능)\n",
        "# https://py-googletrans.readthedocs.io/en/latest/  번역 가능한 언어 확인 주소\n",
        "translator.translate(sentence,'en')\n",
        "\n",
        "print(detected.lang,\":\",sentence)\n",
        "#print(번역할 언어 : 번역할 문장)\n",
        "\n",
        "print(result.dest,\":\",result.text)\n",
        "#print(변역한 언어 : 번역한 문장)"
      ],
      "metadata": {
        "id": "GKpjJwCUj3Oi"
      },
      "execution_count": null,
      "outputs": []
    },
    {
      "cell_type": "code",
      "source": [
        "# 메일 보내기\n",
        "\n",
        "import smtplib                          # smtp mail서버로 쉽게 보내게 해주는 기능\n",
        "from email.message import EmailMessage  # 우리가 작성하고싶은 email 내용을 mime type으로 변환시켜주는 기능\n",
        "# email.message 모듈에서 EmailMessage 기능을 불러옴\n",
        "\n",
        "SMTP_SERVER = \"smtp.gmail.com\"   # google mail 서버 주소?\n",
        "SMTP_PORT = 465                  # 고정값 변경x 465번 문으로만 전송?\n",
        "\n",
        "message = EmailMessage()       # mime 형식의 message 저장하는 message 통을 만듬\n",
        "# email 부분의 content에 들어갈 내용이라 그냥 괄호 사용?\n",
        "\n",
        "message.set_content(\"코드라이언 수업중입니다.\")  # 본문 내용\n",
        "\n",
        "# email 부분의 header에 들어갈 내용이라 대괄호 사용?\n",
        "message[\"Subject\"] = \"이것은 제목입니다.\"        # 제목\n",
        "message[\"From\"] = \"###@gmail.com\"                # 보내는사람\n",
        "message[\"To\"] = \"###@gmail.com\"                  # 받는사람\n",
        "\n",
        "smtp = smtplib.SMTP_SSL(SMTP_SERVER,SMTP_PORT) # smtp mail 서버에 연결\n",
        "print(smtp.login(\"###@gmail.com\",\"######\"))   # 서버에 로그인 login(id / pw)\n",
        "smtp.send_message(message)   # email 보내기\n",
        "smtp.quit()    # 서버와 연결 끊기"
      ],
      "metadata": {
        "id": "fn-ul1Pmm3Ih"
      },
      "execution_count": null,
      "outputs": []
    },
    {
      "cell_type": "code",
      "source": [
        "# 메일에 사진 첨부하기\n",
        "\n",
        "import smtplib                          # smtp mail서버로 쉽게 보내게 해주는 기능\n",
        "from email.message import EmailMessage  # 우리가 작성하고싶은 email 내용을 mime type으로 변환시켜주는 기능\n",
        "# email.message 모듈에서 EmailMessage 기능을 불러옴\n",
        "import imghdr  # image의 확장자 파악 png, jpg ,,, 어떤건지 확인해주는거\n",
        "\n",
        "SMTP_SERVER = \"smtp.gmail.com\"   # google mail 서버 주소?\n",
        "SMTP_PORT = 465                  # 고정값 변경x 465번 문으로만 전송?\n",
        "\n",
        "message = EmailMessage()       # mime 형식의 message 저장하는 message 통을 만듬\n",
        "# email 부분의 content에 들어갈 내용이라 그냥 괄호 사용?\n",
        "\n",
        "message.set_content(\"코드라이언 수업중입니다.\")  # 본문 내용\n",
        "\n",
        "message[\"Subject\"] = \"이것은 제목입니다.\"        # 제목\n",
        "message[\"From\"] = \"###@gmail.com\"                # 보내는사람\n",
        "message[\"To\"] = \"###@gmail.com\"                  # 받는사람\n",
        "\n",
        "# 방법 1. \n",
        "# image = open(\"codelion.png\", \"rb\")  # open() - codelion.png / rb   -> 파일명 / rb (읽기모드?)\n",
        "\n",
        "# 방법 2.\n",
        "with open(\"codelion.png\", \"rb\") as image:   # with를 사용하여 파일 열기\n",
        "  image_file = image.read()\n",
        "\n",
        "image_type = imghdr.what('codelion',image_file)\n",
        "message.add_attachment(image_file, maintype='image', subtype=image_type)   # subtype을 imgdhr을 이용하여 자동으로 확인\n",
        "# message.add_attachment(image_file, maintype='image', subtype='png')\n",
        "# maintype='이미지면 이미지 비디오면 비디오', subtype='png, jpg' 등)\n",
        "\n",
        "\n",
        "# 파일을 읽어서 출력\n",
        "print(image.read())\n",
        "\n",
        "# smtp = smtplib.SMTP_SSL(SMTP_SERVER,SMTP_PORT) # smtp mail 서버에 연결\n",
        "# print(smtp.login(\"###@gmail.com\",\"######\"))   # 서버에 로그인 login(id / pw)\n",
        "# smtp.send_message(message)   # email 보내기\n",
        "# smtp.quit()    # 서버와 연결 끊기"
      ],
      "metadata": {
        "id": "qXFRR8AmzLZ5"
      },
      "execution_count": null,
      "outputs": []
    },
    {
      "cell_type": "code",
      "source": [
        "# 정규표현식 기능 사용하기\n",
        "import re\n",
        "\n",
        "# 정규표현식\n",
        "^[a-zA-Z0-9.+_-]+@[a-zA-Z0-9]+\\.[a-zA-Z]{2,3}$\n",
        "\n",
        "# ^, $ -> 문장의 시작과 끝에 붙인다.\n",
        "# [a-zA-Z0-9.+-] -> a~z, A~Z, 0~9, \".\", \"+\", \"_\", \"-\" 가 포함되는 한글자   ex) a\n",
        "# [a-zA-Z0-9.+-]+ -> a~z, A~Z, 0~9, \".\", \"+\", \"_\", \"-\" 가 포함되는 여러글자 ex) ab05\n",
        "# +를 붙이지 않으면 한글자만 부합\n",
        "\n",
        "# \\. <- .만 사용하면 개행문자를 제외한 모든 문자가 부합하므로 \\를 붙여서 .만 부합하게 함\n",
        "# [a-zA-Z]{2,3} -> a~z, A~Z로 구성된 2글자 또는 3글자가 부합"
      ],
      "metadata": {
        "id": "ufBwPo0i4bQD"
      },
      "execution_count": null,
      "outputs": []
    },
    {
      "cell_type": "code",
      "source": [
        "# 유효성 검사하기\n",
        "# 메일 보내기 함수화\n",
        "\n",
        "import smtplib\n",
        "from email.message import EmailMessage\n",
        "import imghdr\n",
        "import re\n",
        "\n",
        "SMTP_SERVER = \"smtp.gmail.com\"\n",
        "SMTP_PORT = 465\n",
        "\n",
        "  # 유효성검사를 통해 email 형식이 알맞으면 보내고 아니면 안보내기\n",
        "def sendEmail(addr):\n",
        "    reg = \"^[a-zA-Z0-9.+_-]+@[a-zA-Z0-9]+\\.[a-zA-Z]{2,3}$\"\n",
        "    if bool(re.match(reg,addr)):\n",
        "        smtp.send_message(message)\n",
        "        print(\"정상적으로 메일이 발송되었습니다.\")\n",
        "    else:\n",
        "        print(\"유효한 이메일 주소가 아닙니다.\")\n",
        "\n",
        "message = EmailMessage()\n",
        "message.set_content(\"코드라이언 수업중입니다.\")\n",
        "\n",
        "message[\"Subject\"] = \"이것은 제목입니다.\"\n",
        "message[\"From\"] = \"###@gmail.com\"\n",
        "message[\"To\"] = \"###@gmail.com\"\n",
        "\n",
        "with open(\"codelion.png\",\"rb\") as image:\n",
        "    image_file = image.read()\n",
        "\n",
        "image_type = imghdr.what('codelion',image_file)\n",
        "message.add_attachment(image_file,maintype='image',subtype=image_type)\n",
        "\n",
        "smtp = smtplib.SMTP_SSL(SMTP_SERVER,SMTP_PORT)\n",
        "smtp.login(\"###@gmail.com\",\"######\")\n",
        "\n",
        "# 메일을 보내는 sendEmail 함수를 호출해서 실행해보기\n",
        "sendEmail(\"hsangyup9069@gamil.com\")\n",
        "\n",
        "smtp.quit()"
      ],
      "metadata": {
        "id": "Ndhoq-5w8uT-"
      },
      "execution_count": null,
      "outputs": []
    }
  ]
}