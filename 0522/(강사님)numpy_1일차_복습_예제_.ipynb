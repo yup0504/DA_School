{
  "nbformat": 4,
  "nbformat_minor": 0,
  "metadata": {
    "colab": {
      "provenance": []
    },
    "kernelspec": {
      "name": "python3",
      "display_name": "Python 3"
    },
    "language_info": {
      "name": "python"
    }
  },
  "cells": [
    {
      "cell_type": "markdown",
      "source": [
        "### 1. array()\n",
        "차원별 배열 생성"
      ],
      "metadata": {
        "id": "OKrwU24p-ppP"
      }
    },
    {
      "cell_type": "code",
      "execution_count": null,
      "metadata": {
        "colab": {
          "base_uri": "https://localhost:8080/"
        },
        "id": "GoiLD1x28yGB",
        "outputId": "55a619f7-194c-4372-a968-f037a72e7150"
      },
      "outputs": [
        {
          "output_type": "stream",
          "name": "stdout",
          "text": [
            "[1 2 3 4 5]\n"
          ]
        }
      ],
      "source": [
        "arr_1d = np.array([1, 2, 3, 4, 5])\n",
        "print(arr_1d)"
      ]
    },
    {
      "cell_type": "code",
      "source": [
        "arr_1d = np.array([i for i in range(1,10, 2)])\n",
        "print(arr_1d)"
      ],
      "metadata": {
        "colab": {
          "base_uri": "https://localhost:8080/"
        },
        "id": "sVu-3iLC-6I_",
        "outputId": "6c080def-4e53-49ae-8078-5d0e608f7143"
      },
      "execution_count": null,
      "outputs": [
        {
          "output_type": "stream",
          "name": "stdout",
          "text": [
            "[1 3 5 7 9]\n"
          ]
        }
      ]
    },
    {
      "cell_type": "code",
      "source": [
        "print(np.array(range(10)))\n",
        "print(np.array(range(1, 11)))\n",
        "print(np.array(range(2, 11, 2)))\n",
        "print(np.array(range(10, 2, -1)))"
      ],
      "metadata": {
        "colab": {
          "base_uri": "https://localhost:8080/"
        },
        "id": "KQdFjlHuusuc",
        "outputId": "6bb70a54-3e51-43fc-b2e0-3caa1ebafb04"
      },
      "execution_count": null,
      "outputs": [
        {
          "output_type": "stream",
          "name": "stdout",
          "text": [
            "[0 1 2 3 4 5 6 7 8 9]\n",
            "[ 1  2  3  4  5  6  7  8  9 10]\n",
            "[ 2  4  6  8 10]\n",
            "[10  9  8  7  6  5  4  3]\n"
          ]
        }
      ]
    },
    {
      "cell_type": "code",
      "source": [
        "arr_1d = np.array([1, 2, 3, 4, 5],dtype='f')\n",
        "print(arr_1d)"
      ],
      "metadata": {
        "colab": {
          "base_uri": "https://localhost:8080/"
        },
        "id": "-mznTH8bCANx",
        "outputId": "39849957-e267-4d4e-c31e-c1f01fa22775"
      },
      "execution_count": null,
      "outputs": [
        {
          "output_type": "stream",
          "name": "stdout",
          "text": [
            "[1. 2. 3. 4. 5.]\n"
          ]
        }
      ]
    },
    {
      "cell_type": "code",
      "source": [
        "arr_2d = np.array([[1, 2, 3], [4, 5, 6]])\n",
        "print(arr_2d)"
      ],
      "metadata": {
        "colab": {
          "base_uri": "https://localhost:8080/"
        },
        "id": "EXBINYxu-BfQ",
        "outputId": "849f2a3b-0cd7-4fea-8a02-5a9d9d53abb7"
      },
      "execution_count": null,
      "outputs": [
        {
          "output_type": "stream",
          "name": "stdout",
          "text": [
            "[[1 2 3]\n",
            " [4 5 6]]\n"
          ]
        }
      ]
    },
    {
      "cell_type": "code",
      "source": [
        "arr_2d = np.array(range(1,13, 2)).reshape(2,3)\n",
        "print(arr_2d)"
      ],
      "metadata": {
        "colab": {
          "base_uri": "https://localhost:8080/"
        },
        "id": "AdaDZRQoBmvp",
        "outputId": "d13ee7e6-9f7b-48e0-b4f0-2fd39b39b61a"
      },
      "execution_count": null,
      "outputs": [
        {
          "output_type": "stream",
          "name": "stdout",
          "text": [
            "[[ 1  3  5]\n",
            " [ 7  9 11]]\n"
          ]
        }
      ]
    },
    {
      "cell_type": "code",
      "source": [
        "# Error : 요소의 개수가 reshape의 행렬 개수에 맞게 설정해야 합니다.\n",
        "arr_2d = np.array(range(1,13, 2)).reshape(2,4)\n",
        "print(arr_2d)"
      ],
      "metadata": {
        "colab": {
          "base_uri": "https://localhost:8080/",
          "height": 211
        },
        "id": "eRPXW44YDS_h",
        "outputId": "6d40107b-8dae-4fe3-e39c-31ca5fad6bd1"
      },
      "execution_count": null,
      "outputs": [
        {
          "output_type": "error",
          "ename": "ValueError",
          "evalue": "ignored",
          "traceback": [
            "\u001b[0;31m---------------------------------------------------------------------------\u001b[0m",
            "\u001b[0;31mValueError\u001b[0m                                Traceback (most recent call last)",
            "\u001b[0;32m<ipython-input-20-5be7b854a160>\u001b[0m in \u001b[0;36m<cell line: 2>\u001b[0;34m()\u001b[0m\n\u001b[1;32m      1\u001b[0m \u001b[0;31m# Error : 요소의 개수가 reshape의 행렬 개수에 맞게 설정해야 합니다.\u001b[0m\u001b[0;34m\u001b[0m\u001b[0;34m\u001b[0m\u001b[0m\n\u001b[0;32m----> 2\u001b[0;31m \u001b[0marr_2d\u001b[0m \u001b[0;34m=\u001b[0m \u001b[0mnp\u001b[0m\u001b[0;34m.\u001b[0m\u001b[0marray\u001b[0m\u001b[0;34m(\u001b[0m\u001b[0mrange\u001b[0m\u001b[0;34m(\u001b[0m\u001b[0;36m1\u001b[0m\u001b[0;34m,\u001b[0m\u001b[0;36m13\u001b[0m\u001b[0;34m,\u001b[0m \u001b[0;36m2\u001b[0m\u001b[0;34m)\u001b[0m\u001b[0;34m)\u001b[0m\u001b[0;34m.\u001b[0m\u001b[0mreshape\u001b[0m\u001b[0;34m(\u001b[0m\u001b[0;36m2\u001b[0m\u001b[0;34m,\u001b[0m\u001b[0;36m4\u001b[0m\u001b[0;34m)\u001b[0m\u001b[0;34m\u001b[0m\u001b[0;34m\u001b[0m\u001b[0m\n\u001b[0m\u001b[1;32m      3\u001b[0m \u001b[0mprint\u001b[0m\u001b[0;34m(\u001b[0m\u001b[0marr_2d\u001b[0m\u001b[0;34m)\u001b[0m\u001b[0;34m\u001b[0m\u001b[0;34m\u001b[0m\u001b[0m\n",
            "\u001b[0;31mValueError\u001b[0m: cannot reshape array of size 6 into shape (2,4)"
          ]
        }
      ]
    },
    {
      "cell_type": "code",
      "source": [
        "arr_3d = np.array([[[1, 2], [3, 4]], [[5, 6], [7, 8]]])\n",
        "print(arr_3d)"
      ],
      "metadata": {
        "colab": {
          "base_uri": "https://localhost:8080/"
        },
        "id": "_wuQCTN_-CvX",
        "outputId": "0e6c0ce1-6b9c-4cfa-a231-7d6aa2cbfe11"
      },
      "execution_count": null,
      "outputs": [
        {
          "output_type": "stream",
          "name": "stdout",
          "text": [
            "[[[1 2]\n",
            "  [3 4]]\n",
            "\n",
            " [[5 6]\n",
            "  [7 8]]]\n"
          ]
        }
      ]
    },
    {
      "cell_type": "markdown",
      "source": [
        "### 2. arange()"
      ],
      "metadata": {
        "id": "D1Q02kHm_4fH"
      }
    },
    {
      "cell_type": "code",
      "source": [
        "print(np.array(range(10)))\n",
        "print(np.array(range(1, 11)))\n",
        "print(np.array(range(2, 11, 2)))\n",
        "print(np.array(range(2, 11, 0.5)))\n",
        "print(np.array(range(10, 2, -1)))\n",
        "print(np.array(range(10, 2, -0.5)))"
      ],
      "metadata": {
        "colab": {
          "base_uri": "https://localhost:8080/",
          "height": 303
        },
        "id": "Nhhq83Nx_7N5",
        "outputId": "f124bbf6-e662-402a-8920-41e6818ec24e"
      },
      "execution_count": null,
      "outputs": [
        {
          "output_type": "stream",
          "name": "stdout",
          "text": [
            "[0 1 2 3 4 5 6 7 8 9]\n",
            "[ 1  2  3  4  5  6  7  8  9 10]\n",
            "[ 2  4  6  8 10]\n"
          ]
        },
        {
          "output_type": "error",
          "ename": "TypeError",
          "evalue": "ignored",
          "traceback": [
            "\u001b[0;31m---------------------------------------------------------------------------\u001b[0m",
            "\u001b[0;31mTypeError\u001b[0m                                 Traceback (most recent call last)",
            "\u001b[0;32m<ipython-input-21-3f0c47cb27f3>\u001b[0m in \u001b[0;36m<cell line: 4>\u001b[0;34m()\u001b[0m\n\u001b[1;32m      2\u001b[0m \u001b[0mprint\u001b[0m\u001b[0;34m(\u001b[0m\u001b[0mnp\u001b[0m\u001b[0;34m.\u001b[0m\u001b[0marray\u001b[0m\u001b[0;34m(\u001b[0m\u001b[0mrange\u001b[0m\u001b[0;34m(\u001b[0m\u001b[0;36m1\u001b[0m\u001b[0;34m,\u001b[0m \u001b[0;36m11\u001b[0m\u001b[0;34m)\u001b[0m\u001b[0;34m)\u001b[0m\u001b[0;34m)\u001b[0m\u001b[0;34m\u001b[0m\u001b[0;34m\u001b[0m\u001b[0m\n\u001b[1;32m      3\u001b[0m \u001b[0mprint\u001b[0m\u001b[0;34m(\u001b[0m\u001b[0mnp\u001b[0m\u001b[0;34m.\u001b[0m\u001b[0marray\u001b[0m\u001b[0;34m(\u001b[0m\u001b[0mrange\u001b[0m\u001b[0;34m(\u001b[0m\u001b[0;36m2\u001b[0m\u001b[0;34m,\u001b[0m \u001b[0;36m11\u001b[0m\u001b[0;34m,\u001b[0m \u001b[0;36m2\u001b[0m\u001b[0;34m)\u001b[0m\u001b[0;34m)\u001b[0m\u001b[0;34m)\u001b[0m\u001b[0;34m\u001b[0m\u001b[0;34m\u001b[0m\u001b[0m\n\u001b[0;32m----> 4\u001b[0;31m \u001b[0mprint\u001b[0m\u001b[0;34m(\u001b[0m\u001b[0mnp\u001b[0m\u001b[0;34m.\u001b[0m\u001b[0marray\u001b[0m\u001b[0;34m(\u001b[0m\u001b[0mrange\u001b[0m\u001b[0;34m(\u001b[0m\u001b[0;36m2\u001b[0m\u001b[0;34m,\u001b[0m \u001b[0;36m11\u001b[0m\u001b[0;34m,\u001b[0m \u001b[0;36m0.5\u001b[0m\u001b[0;34m)\u001b[0m\u001b[0;34m)\u001b[0m\u001b[0;34m)\u001b[0m\u001b[0;34m\u001b[0m\u001b[0;34m\u001b[0m\u001b[0m\n\u001b[0m\u001b[1;32m      5\u001b[0m \u001b[0mprint\u001b[0m\u001b[0;34m(\u001b[0m\u001b[0mnp\u001b[0m\u001b[0;34m.\u001b[0m\u001b[0marray\u001b[0m\u001b[0;34m(\u001b[0m\u001b[0mrange\u001b[0m\u001b[0;34m(\u001b[0m\u001b[0;36m10\u001b[0m\u001b[0;34m,\u001b[0m \u001b[0;36m2\u001b[0m\u001b[0;34m,\u001b[0m \u001b[0;34m-\u001b[0m\u001b[0;36m1\u001b[0m\u001b[0;34m)\u001b[0m\u001b[0;34m)\u001b[0m\u001b[0;34m)\u001b[0m\u001b[0;34m\u001b[0m\u001b[0;34m\u001b[0m\u001b[0m\n\u001b[1;32m      6\u001b[0m \u001b[0mprint\u001b[0m\u001b[0;34m(\u001b[0m\u001b[0mnp\u001b[0m\u001b[0;34m.\u001b[0m\u001b[0marray\u001b[0m\u001b[0;34m(\u001b[0m\u001b[0mrange\u001b[0m\u001b[0;34m(\u001b[0m\u001b[0;36m10\u001b[0m\u001b[0;34m,\u001b[0m \u001b[0;36m2\u001b[0m\u001b[0;34m,\u001b[0m \u001b[0;34m-\u001b[0m\u001b[0;36m0.5\u001b[0m\u001b[0;34m)\u001b[0m\u001b[0;34m)\u001b[0m\u001b[0;34m)\u001b[0m\u001b[0;34m\u001b[0m\u001b[0;34m\u001b[0m\u001b[0m\n",
            "\u001b[0;31mTypeError\u001b[0m: 'float' object cannot be interpreted as an integer"
          ]
        }
      ]
    },
    {
      "cell_type": "code",
      "source": [
        "print(np.arange(10))\n",
        "print(np.arange(1, 11))\n",
        "print(np.arange(2, 11, 2))\n",
        "print(np.arange(2, 11, .5))\n",
        "print(np.arange(10, 2, -1))\n",
        "print(np.arange(10, 2, -.5))"
      ],
      "metadata": {
        "colab": {
          "base_uri": "https://localhost:8080/"
        },
        "id": "nR-vKbu2ABuP",
        "outputId": "f5e891c1-5541-4f87-e5cd-050fc0d65f9f"
      },
      "execution_count": null,
      "outputs": [
        {
          "output_type": "stream",
          "name": "stdout",
          "text": [
            "[0 1 2 3 4 5 6 7 8 9]\n",
            "[ 1  2  3  4  5  6  7  8  9 10]\n",
            "[ 2  4  6  8 10]\n",
            "[ 2.   2.5  3.   3.5  4.   4.5  5.   5.5  6.   6.5  7.   7.5  8.   8.5\n",
            "  9.   9.5 10.  10.5]\n",
            "[10  9  8  7  6  5  4  3]\n",
            "[10.   9.5  9.   8.5  8.   7.5  7.   6.5  6.   5.5  5.   4.5  4.   3.5\n",
            "  3.   2.5]\n"
          ]
        }
      ]
    },
    {
      "cell_type": "markdown",
      "source": [
        "### 3. 다양한 배열 만들기\n"
      ],
      "metadata": {
        "id": "mlx1kAeq_8HH"
      }
    },
    {
      "cell_type": "code",
      "source": [
        "# 일차원으로 변경\n",
        "arr_3d.ravel()"
      ],
      "metadata": {
        "id": "oSXKycIDCguh",
        "colab": {
          "base_uri": "https://localhost:8080/"
        },
        "outputId": "88a24df3-678f-4884-8ffd-f5f166d86162"
      },
      "execution_count": null,
      "outputs": [
        {
          "output_type": "execute_result",
          "data": {
            "text/plain": [
              "array([1, 2, 3, 4, 5, 6, 7, 8])"
            ]
          },
          "metadata": {},
          "execution_count": 18
        }
      ]
    },
    {
      "cell_type": "code",
      "source": [
        "# 0으로 채워진 배열 생성\n",
        "z = np.zeros((2,2))\n",
        "z"
      ],
      "metadata": {
        "colab": {
          "base_uri": "https://localhost:8080/"
        },
        "id": "LKMFELo-BFCI",
        "outputId": "f6aaefa0-0a2c-4744-d0fb-81f6fcde6ca3"
      },
      "execution_count": null,
      "outputs": [
        {
          "output_type": "execute_result",
          "data": {
            "text/plain": [
              "array([[0., 0.],\n",
              "       [0., 0.]])"
            ]
          },
          "metadata": {},
          "execution_count": 3
        }
      ]
    },
    {
      "cell_type": "code",
      "source": [
        "# 1로 채워진 배열 생성\n",
        "one1 = np.ones((2,2))\n",
        "one1"
      ],
      "metadata": {
        "colab": {
          "base_uri": "https://localhost:8080/"
        },
        "id": "IIDbbKb-BPAJ",
        "outputId": "bdcfc81f-3799-4735-a5d9-291e6905a012"
      },
      "execution_count": null,
      "outputs": [
        {
          "output_type": "execute_result",
          "data": {
            "text/plain": [
              "array([[1., 1.],\n",
              "       [1., 1.]])"
            ]
          },
          "metadata": {},
          "execution_count": 4
        }
      ]
    },
    {
      "cell_type": "code",
      "source": [
        "# 내가 원하는 값으로 채워진 배열 생성\n",
        "f = np.full((2,2),10)\n",
        "f"
      ],
      "metadata": {
        "colab": {
          "base_uri": "https://localhost:8080/"
        },
        "id": "h0cowFaDBV0w",
        "outputId": "4032cb01-fb47-4833-b90f-98c542f25ee6"
      },
      "execution_count": null,
      "outputs": [
        {
          "output_type": "execute_result",
          "data": {
            "text/plain": [
              "array([[10, 10],\n",
              "       [10, 10]])"
            ]
          },
          "metadata": {},
          "execution_count": 6
        }
      ]
    },
    {
      "cell_type": "code",
      "source": [
        "# 단위행렬\n",
        "e = np.eye(3)\n",
        "e"
      ],
      "metadata": {
        "colab": {
          "base_uri": "https://localhost:8080/"
        },
        "id": "sngp8s9gBdBE",
        "outputId": "ce8963e5-d0d8-4632-eb91-421ef933f196"
      },
      "execution_count": null,
      "outputs": [
        {
          "output_type": "execute_result",
          "data": {
            "text/plain": [
              "array([[1., 0., 0.],\n",
              "       [0., 1., 0.],\n",
              "       [0., 0., 1.]])"
            ]
          },
          "metadata": {},
          "execution_count": 7
        }
      ]
    },
    {
      "cell_type": "markdown",
      "source": [
        "### 4. 넘파이 함수를 이용해서 문제풀기\n"
      ],
      "metadata": {
        "id": "7kmDdEn0CEua"
      }
    },
    {
      "cell_type": "markdown",
      "source": [
        "4.1 주어진 여러 개의 1차원 배열을 연결하여 하나의 큰 1차원 배열로 반환하세요."
      ],
      "metadata": {
        "id": "3NY4GW0gFcV8"
      }
    },
    {
      "cell_type": "code",
      "source": [
        "import numpy as np"
      ],
      "metadata": {
        "id": "7r9EG0GJSEst"
      },
      "execution_count": null,
      "outputs": []
    },
    {
      "cell_type": "code",
      "source": [
        "arr1 = np.array([1, 2, 3])\n",
        "arr2 = np.array([4, 5, 6])\n",
        "arr3 = np.array([7, 8, 9, 10])\n",
        "\n",
        "# concat 함수\n",
        "\n",
        "arr_a = np.concat(arr1, arr2, arr3)"
      ],
      "metadata": {
        "id": "Vkl7fwFAFb6H"
      },
      "execution_count": null,
      "outputs": []
    },
    {
      "cell_type": "markdown",
      "source": [
        "4.2 주어진 2차원 배열에서 각 열의 평균값을 계산하여 새로운 1차원 배열로 나타내세요."
      ],
      "metadata": {
        "id": "wSUEHCtZDv3d"
      }
    },
    {
      "cell_type": "code",
      "source": [
        "arr = np.array([[1, 2, 3],\n",
        "                [4, 5, 6],\n",
        "                [7, 8, 9]])\n",
        "\n",
        "# mean() 함수 응용하기"
      ],
      "metadata": {
        "id": "AVTW0JoFDISj"
      },
      "execution_count": null,
      "outputs": []
    },
    {
      "cell_type": "markdown",
      "source": [
        "4.3 주어진 2차원 배열에서 각 행의 최대값을 구하여 1차원 배열로 반환하세요."
      ],
      "metadata": {
        "id": "MXErZvfKF2ab"
      }
    },
    {
      "cell_type": "code",
      "source": [
        "# np.max()"
      ],
      "metadata": {
        "id": "4KWotBvVEUZz"
      },
      "execution_count": null,
      "outputs": []
    },
    {
      "cell_type": "code",
      "source": [],
      "metadata": {
        "id": "NtvFK2S8YYby"
      },
      "execution_count": null,
      "outputs": []
    },
    {
      "cell_type": "markdown",
      "source": [
        "4.4 0에서 1사이의 값으로 크기 10개의 1차원 배열을 만들어주세요."
      ],
      "metadata": {
        "id": "-D_U06VjF5HQ"
      }
    },
    {
      "cell_type": "code",
      "source": [
        "# linspace()"
      ],
      "metadata": {
        "id": "P-hokyldDCNR"
      },
      "execution_count": null,
      "outputs": []
    },
    {
      "cell_type": "markdown",
      "source": [
        "4.5 주어진 1차원 배열에서 짝수인 요소들의 합을 계산하는 함수 sum_of_evens를 작성하세요.\n",
        "\n",
        "- \n",
        "def sum_of_evens(arr: np.ndarray) -> int:\n"
      ],
      "metadata": {
        "id": "YACcR5G5C51Y"
      }
    },
    {
      "cell_type": "code",
      "source": [
        "arr = np.array([1, 2, 3, 4, 5, 6, 7, 8, 9, 10])\n",
        "\n",
        "print(sum_of_evens(arr))"
      ],
      "metadata": {
        "id": "61DYHP7DCDy0"
      },
      "execution_count": null,
      "outputs": []
    },
    {
      "cell_type": "markdown",
      "source": [
        "4.6 수평분할, 수직분할, 수평 스택, 수직 스택 문제를 풀어봅시다."
      ],
      "metadata": {
        "id": "FXJdaDw1Jv0B"
      }
    },
    {
      "cell_type": "code",
      "source": [
        "# 분할할 배열 생성\n",
        "arr = np.arange(1, 13).reshape((3, 4))\n",
        "print(\"원본 배열:\")\n",
        "print(arr)"
      ],
      "metadata": {
        "id": "QLOHcFY9DIPc"
      },
      "execution_count": null,
      "outputs": []
    },
    {
      "cell_type": "code",
      "source": [
        "# 1. 수평분할하기 -> 다시 원본으로 스택쌓기\n",
        "\n",
        "# 2. 수직분할하기 -> 다시 원본으로 스택쌓기"
      ],
      "metadata": {
        "id": "iHCtoZJ2DIMz"
      },
      "execution_count": null,
      "outputs": []
    },
    {
      "cell_type": "markdown",
      "source": [
        "4.7 배열에서 조건에 맞는 값 반환하는 문제를 풀어봅시다."
      ],
      "metadata": {
        "id": "EA_dQ9HtKv_6"
      }
    },
    {
      "cell_type": "code",
      "source": [
        "# 조건 : 값을 10으로 나누었을 때 나머지가 0이면 원래 값 출력, 아니면 0으로 출력하세요.\n",
        "arr = np.arange(0, 100, 5).reshape((5,4))"
      ],
      "metadata": {
        "id": "Cdx6vcjhLb7w"
      },
      "execution_count": null,
      "outputs": []
    },
    {
      "cell_type": "markdown",
      "source": [
        "4.8 [3x3]배열 lst 중 짝수만 뽑아내는 부울린 인덱싱 배열(numpy 배열)을 사용하여 짝수 배열 n 을 만드시오"
      ],
      "metadata": {
        "id": "bdkTldLZNgkk"
      }
    },
    {
      "cell_type": "code",
      "source": [
        "lst = [\n",
        "    [1, 2, 3],\n",
        "    [4, 5, 6],\n",
        "    [7, 8, 9]\n",
        "]\n",
        "a = np.array(lst)"
      ],
      "metadata": {
        "id": "c2c-M8MbNMSc"
      },
      "execution_count": null,
      "outputs": []
    },
    {
      "cell_type": "markdown",
      "source": [
        "4.9 각도를 이용해서 삼각함수를 만들어봅시다."
      ],
      "metadata": {
        "id": "gppC3bXIOvg1"
      }
    },
    {
      "cell_type": "code",
      "source": [
        "angle = np.pi / 3 # 라디안 표기 = 60도 \n",
        "# 360도는 2라디안 으로, 180도는 1라디안으로 표현합니다.\n",
        "\n",
        "angle"
      ],
      "metadata": {
        "id": "Wz5tCit9OvP9"
      },
      "execution_count": null,
      "outputs": []
    },
    {
      "cell_type": "markdown",
      "source": [
        "4.10 조건함수를 사용해서  짝수조건을 만족하는 요소의 값이 2배로 만드는 배열을 만드시오."
      ],
      "metadata": {
        "id": "JbaHd9nGPqfV"
      }
    },
    {
      "cell_type": "code",
      "source": [
        "arr = np.array([1, 2, 3, 4, 5])"
      ],
      "metadata": {
        "id": "oh6_e4zvOvIa"
      },
      "execution_count": null,
      "outputs": []
    },
    {
      "cell_type": "code",
      "source": [],
      "metadata": {
        "id": "MFvQvXVHQQA6"
      },
      "execution_count": null,
      "outputs": []
    },
    {
      "cell_type": "code",
      "source": [],
      "metadata": {
        "id": "4G5-H0xFTjYQ"
      },
      "execution_count": null,
      "outputs": []
    },
    {
      "cell_type": "code",
      "source": [],
      "metadata": {
        "id": "ysRHkucuDIKG"
      },
      "execution_count": null,
      "outputs": []
    },
    {
      "cell_type": "code",
      "source": [],
      "metadata": {
        "id": "AqHStSn0DIHp"
      },
      "execution_count": null,
      "outputs": []
    },
    {
      "cell_type": "code",
      "source": [],
      "metadata": {
        "id": "S9oFG7mXDID9"
      },
      "execution_count": null,
      "outputs": []
    },
    {
      "cell_type": "code",
      "source": [],
      "metadata": {
        "id": "Rmq6JUn3DIBf"
      },
      "execution_count": null,
      "outputs": []
    },
    {
      "cell_type": "code",
      "source": [
        "# 4.1 정답\n",
        "arr1 = np.array([1, 2, 3])\n",
        "arr2 = np.array([4, 5, 6])\n",
        "arr3 = np.array([7, 8, 9, 10])\n",
        "np.concatenate([arr1,arr2,arr3])"
      ],
      "metadata": {
        "colab": {
          "base_uri": "https://localhost:8080/"
        },
        "id": "tvIgycjtFDlu",
        "outputId": "facbf53a-339d-422d-bf19-57b4cff8b8a3"
      },
      "execution_count": null,
      "outputs": [
        {
          "output_type": "execute_result",
          "data": {
            "text/plain": [
              "array([ 1,  2,  3,  4,  5,  6,  7,  8,  9, 10])"
            ]
          },
          "metadata": {},
          "execution_count": 8
        }
      ]
    },
    {
      "cell_type": "code",
      "source": [
        "# 4.2 정답\n",
        "\n",
        "np.mean(arr, axis=0) \n"
      ],
      "metadata": {
        "id": "YEyTtnStDNAH"
      },
      "execution_count": null,
      "outputs": []
    },
    {
      "cell_type": "code",
      "source": [
        "# 4.3 정답\n",
        "\n",
        "np.max(arr, axis=1)"
      ],
      "metadata": {
        "colab": {
          "base_uri": "https://localhost:8080/"
        },
        "id": "xnFXQTA5F7CI",
        "outputId": "7935917a-b290-42b5-ed4e-4a9a92bf9c28"
      },
      "execution_count": null,
      "outputs": [
        {
          "output_type": "execute_result",
          "data": {
            "text/plain": [
              "array([3, 6, 9])"
            ]
          },
          "metadata": {},
          "execution_count": 12
        }
      ]
    },
    {
      "cell_type": "code",
      "source": [
        "# 4.4 정답\n",
        "np.linspace(0,1,10)"
      ],
      "metadata": {
        "colab": {
          "base_uri": "https://localhost:8080/"
        },
        "id": "NHNR5TUqIAqR",
        "outputId": "e61dfdb2-4506-4d69-ba8c-aa75a80e161d"
      },
      "execution_count": null,
      "outputs": [
        {
          "output_type": "execute_result",
          "data": {
            "text/plain": [
              "array([0.        , 0.11111111, 0.22222222, 0.33333333, 0.44444444,\n",
              "       0.55555556, 0.66666667, 0.77777778, 0.88888889, 1.        ])"
            ]
          },
          "metadata": {},
          "execution_count": 15
        }
      ]
    },
    {
      "cell_type": "code",
      "source": [
        "# 4.5 정답\n",
        "\n",
        "def sum_of_evens(arr: np.ndarray) -> int:\n",
        "    evens = arr[arr % 2 == 0]  # 짝수인 요소 선택\n",
        "    return np.sum(evens)  # 짝수인 요소들의 합 반환"
      ],
      "metadata": {
        "id": "Idq_UTrDDH_L"
      },
      "execution_count": null,
      "outputs": []
    },
    {
      "cell_type": "code",
      "source": [
        "# 4.6 정답\n",
        "arr_split = np.hsplit(arr, 2)\n",
        "print(\"수평 분할 결과:\")\n",
        "print(arr_split)\n",
        "\n",
        "arr_1 = arr_split[0]\n",
        "arr_2 = arr_split[1]\n",
        "arr_stack = np.hstack((arr_1, arr_2))\n",
        "print(arr_stack)"
      ],
      "metadata": {
        "colab": {
          "base_uri": "https://localhost:8080/"
        },
        "id": "Ky1MRS6cFLvC",
        "outputId": "5339bdaf-c788-44fc-cb58-7362b82a8fe5"
      },
      "execution_count": null,
      "outputs": [
        {
          "output_type": "stream",
          "name": "stdout",
          "text": [
            "수평 분할 결과:\n",
            "[array([[ 1,  2],\n",
            "       [ 5,  6],\n",
            "       [ 9, 10]]), array([[ 3,  4],\n",
            "       [ 7,  8],\n",
            "       [11, 12]])]\n",
            "[[ 1  2  3  4]\n",
            " [ 5  6  7  8]\n",
            " [ 9 10 11 12]]\n"
          ]
        }
      ]
    },
    {
      "cell_type": "code",
      "source": [
        "# 수직 분할\n",
        "arr_split = np.vsplit(arr, 3)\n",
        "print(\"수직 분할 결과:\")\n",
        "print(arr_split)\n",
        "\n",
        "arr_1 = arr_split[0]\n",
        "arr_2 = arr_split[1]\n",
        "arr_3 = arr_split[2]\n",
        "arr_stack = np.vstack((arr_1, arr_2, arr_3))\n",
        "print(arr_stack)"
      ],
      "metadata": {
        "colab": {
          "base_uri": "https://localhost:8080/"
        },
        "id": "hZp1aS22J77P",
        "outputId": "7944e9ce-5fc6-4db8-ea3d-ebf118e999c8"
      },
      "execution_count": null,
      "outputs": [
        {
          "output_type": "stream",
          "name": "stdout",
          "text": [
            "수직 분할 결과:\n",
            "[array([[1, 2, 3, 4]]), array([[5, 6, 7, 8]]), array([[ 9, 10, 11, 12]])]\n",
            "[[ 1  2  3  4]\n",
            " [ 5  6  7  8]\n",
            " [ 9 10 11 12]]\n"
          ]
        }
      ]
    },
    {
      "cell_type": "code",
      "source": [
        "# 4.7 정답\n",
        "# 조건 : 값을 10으로 나누었을 때 나머지가 0이면 원래 값 출력, 아니면 0으로 출력하세요.\n",
        "arr = np.arange(0, 100, 5).reshape((5,4))\n",
        "print(np.where(arr%10==0, arr,0))"
      ],
      "metadata": {
        "id": "jaUX78YqKAi_",
        "colab": {
          "base_uri": "https://localhost:8080/"
        },
        "outputId": "e924a083-ba27-4efa-a178-83a12a430848"
      },
      "execution_count": null,
      "outputs": [
        {
          "output_type": "stream",
          "name": "stdout",
          "text": [
            "[[ 0  0 10  0]\n",
            " [20  0 30  0]\n",
            " [40  0 50  0]\n",
            " [60  0 70  0]\n",
            " [80  0 90  0]]\n"
          ]
        }
      ]
    },
    {
      "cell_type": "code",
      "source": [
        "# 4.8 정답\n",
        "\n",
        "# 3가지 정답이 있습니다. 인덱싱 배열을 이용하기\n",
        "bool_indexing_array = np.array([\n",
        "    [False,  True, False],\n",
        "    [True, False,  True],\n",
        "    [False,  True, False]\n",
        "])\n",
        " \n",
        "n = a[bool_indexing_array];\n",
        "print(n)    "
      ],
      "metadata": {
        "id": "DuPcEjw-Nrxb"
      },
      "execution_count": null,
      "outputs": []
    },
    {
      "cell_type": "code",
      "source": [
        "# 배열 a 에 대해 짝수면 True, 홀수면 False \n",
        "bool_indexing = (a % 2 == 0)\n",
        "print(bool_indexing)\n",
        "print(a[bool_indexing])"
      ],
      "metadata": {
        "id": "vneVIBcWNzF5"
      },
      "execution_count": null,
      "outputs": []
    },
    {
      "cell_type": "code",
      "source": [
        "# 간단한 조건으로 호출하기\n",
        "n = a[ a % 2 == 0 ]\n",
        "n"
      ],
      "metadata": {
        "id": "zfHpTU5lN03S"
      },
      "execution_count": null,
      "outputs": []
    },
    {
      "cell_type": "code",
      "source": [
        "# 4.9 정답이\n",
        "# 사인 함수 계산\n",
        "sin_value = np.sin(angle)\n",
        "print(\"사인 값:\", sin_value)\n",
        "\n",
        "# 코사인 함수 계산\n",
        "cos_value = np.cos(angle)\n",
        "print(\"코사인 값:\", cos_value)\n",
        "\n",
        "# 탄젠트 함수 계산\n",
        "tan_value = np.tan(angle)\n",
        "print(\"탄젠트 값:\", tan_value)"
      ],
      "metadata": {
        "colab": {
          "base_uri": "https://localhost:8080/"
        },
        "id": "h3Sz4nB-N0yh",
        "outputId": "956aea66-496d-4330-b673-86379c3476c4"
      },
      "execution_count": null,
      "outputs": [
        {
          "output_type": "stream",
          "name": "stdout",
          "text": [
            "사인 값: 0.8660254037844386\n",
            "코사인 값: 0.5000000000000001\n",
            "탄젠트 값: 1.7320508075688767\n"
          ]
        }
      ]
    },
    {
      "cell_type": "code",
      "source": [
        "# 4.10 정답\n",
        "new_arr = np.where(arr % 2 == 0, arr * 2, arr)\n",
        "print(\"조건을 만족하는 요소를 2배로:\", new_arr)"
      ],
      "metadata": {
        "colab": {
          "base_uri": "https://localhost:8080/"
        },
        "id": "rHnwWQjrPWSY",
        "outputId": "3e8455b5-499f-4bb2-e30e-fb48195d2911"
      },
      "execution_count": null,
      "outputs": [
        {
          "output_type": "stream",
          "name": "stdout",
          "text": [
            "조건을 만족하는 요소를 2배로: [1 4 3 8 5]\n"
          ]
        }
      ]
    },
    {
      "cell_type": "code",
      "source": [],
      "metadata": {
        "id": "G1FE2CpFQEqr"
      },
      "execution_count": null,
      "outputs": []
    }
  ]
}