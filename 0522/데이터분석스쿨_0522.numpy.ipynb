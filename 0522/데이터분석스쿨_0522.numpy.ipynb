{
  "nbformat": 4,
  "nbformat_minor": 0,
  "metadata": {
    "colab": {
      "provenance": []
    },
    "kernelspec": {
      "name": "python3",
      "display_name": "Python 3"
    },
    "language_info": {
      "name": "python"
    }
  },
  "cells": [
    {
      "cell_type": "markdown",
      "source": [
        "# 1. Numpy\n",
        "\n",
        "- 파이썬 라이브러리 중 하나 -> 과학 연산\n",
        "- 배열 -> 행렬 (선형대수)\n",
        "- 선형대수, 푸리에 변환 -> 수학 함수"
      ],
      "metadata": {
        "id": "ZganF-wy7t2e"
      }
    },
    {
      "cell_type": "code",
      "source": [
        "import numpy as np  # numpy 모듈을 np라는 이름으로 불러오겠다."
      ],
      "metadata": {
        "id": "D__rf86F1E9H"
      },
      "execution_count": 1,
      "outputs": []
    },
    {
      "cell_type": "code",
      "source": [
        "a = np.array([1,2,3,4])  # 1차원 배열 생성   ,로 구분 x\n",
        "print(a)"
      ],
      "metadata": {
        "colab": {
          "base_uri": "https://localhost:8080/"
        },
        "id": "BEmXefIE1zEo",
        "outputId": "458054cc-ab08-451e-91b2-99eb37851d5c"
      },
      "execution_count": 3,
      "outputs": [
        {
          "output_type": "stream",
          "name": "stdout",
          "text": [
            "[1 2 3 4]\n"
          ]
        }
      ]
    },
    {
      "cell_type": "code",
      "source": [
        "l = [1,2,3,4]   # ,로 구분\n",
        "print(l)"
      ],
      "metadata": {
        "colab": {
          "base_uri": "https://localhost:8080/"
        },
        "id": "AglKM2ox1y_c",
        "outputId": "d9bdc40b-8737-4f4d-878c-df270d4bb752"
      },
      "execution_count": 4,
      "outputs": [
        {
          "output_type": "stream",
          "name": "stdout",
          "text": [
            "[1, 2, 3, 4]\n"
          ]
        }
      ]
    },
    {
      "cell_type": "code",
      "source": [
        "print(a.shape)  # 배열 축의 크기"
      ],
      "metadata": {
        "colab": {
          "base_uri": "https://localhost:8080/"
        },
        "id": "hL4-0VJF1y9J",
        "outputId": "63f35125-d29b-4841-f571-424ca2f47931"
      },
      "execution_count": 14,
      "outputs": [
        {
          "output_type": "stream",
          "name": "stdout",
          "text": [
            "(4,)\n"
          ]
        }
      ]
    },
    {
      "cell_type": "code",
      "source": [
        "print(a.ndim)   # 배열의 차원을 알고싶을 때"
      ],
      "metadata": {
        "colab": {
          "base_uri": "https://localhost:8080/"
        },
        "id": "nrBjKPGb1y6p",
        "outputId": "c279de36-c435-4b0f-8791-372178f6aecb"
      },
      "execution_count": 6,
      "outputs": [
        {
          "output_type": "stream",
          "name": "stdout",
          "text": [
            "1\n"
          ]
        }
      ]
    },
    {
      "cell_type": "code",
      "source": [
        "print(a.dtype)  # 배열의 데이터 타입"
      ],
      "metadata": {
        "colab": {
          "base_uri": "https://localhost:8080/"
        },
        "id": "kmsqo6WA1y4S",
        "outputId": "aed16218-85c6-4161-ef33-21c0c38d50d0"
      },
      "execution_count": 15,
      "outputs": [
        {
          "output_type": "stream",
          "name": "stdout",
          "text": [
            "int64\n"
          ]
        }
      ]
    },
    {
      "cell_type": "code",
      "source": [
        "print(a.itemsize)  # 각 요소의 바이트 단위 크기"
      ],
      "metadata": {
        "colab": {
          "base_uri": "https://localhost:8080/"
        },
        "id": "Wh8WJlBL1y10",
        "outputId": "5fc51d16-b9bc-4e00-ce51-dcc240456713"
      },
      "execution_count": 7,
      "outputs": [
        {
          "output_type": "stream",
          "name": "stdout",
          "text": [
            "8\n"
          ]
        }
      ]
    },
    {
      "cell_type": "code",
      "source": [
        "# 2차원\n",
        "b = np.array([[1,2], [3,4]])\n",
        "print(b)\n",
        "print(b.ndim)\n",
        "print(b.dtype)\n",
        "print(b.itemsize)\n",
        "print(b.nbytes)  # 메모리 크기 반환"
      ],
      "metadata": {
        "id": "tD3rWc8x1yzZ"
      },
      "execution_count": null,
      "outputs": []
    },
    {
      "cell_type": "code",
      "source": [
        "# 3차원\n",
        "c = np.array([[[1,2], [3,4]], [[5,6],[7,8]]])\n",
        "print(c)\n",
        "print(c.ndim)\n",
        "print(c.dtype)\n",
        "print(c.itemsize)\n",
        "print(c.nbytes)"
      ],
      "metadata": {
        "id": "ZPfQlK_Q1yup"
      },
      "execution_count": null,
      "outputs": []
    },
    {
      "cell_type": "code",
      "source": [
        "# 하나의 숫자값: 스칼라\n",
        "\n",
        "s = np.array(1)\n",
        "print(s)"
      ],
      "metadata": {
        "colab": {
          "base_uri": "https://localhost:8080/"
        },
        "id": "RlUFXyjw1yro",
        "outputId": "bf4081b3-16ff-4c0b-c391-8ff5bf129f51"
      },
      "execution_count": 16,
      "outputs": [
        {
          "output_type": "stream",
          "name": "stdout",
          "text": [
            "1\n"
          ]
        }
      ]
    },
    {
      "cell_type": "code",
      "source": [
        "# 1차원: 벡터\n",
        "v = np.array([1,2,3])\n",
        "print(v)"
      ],
      "metadata": {
        "colab": {
          "base_uri": "https://localhost:8080/"
        },
        "id": "CxU6kN-X5imV",
        "outputId": "01cbcc8d-b128-4a3a-e6cd-4670e1ea2262"
      },
      "execution_count": 17,
      "outputs": [
        {
          "output_type": "stream",
          "name": "stdout",
          "text": [
            "[1 2 3]\n"
          ]
        }
      ]
    },
    {
      "cell_type": "code",
      "source": [
        "# 2차원: 행렬(Matrix)\n",
        "m = np.array([[1,2,3],[1,2,3]])\n",
        "print(m)"
      ],
      "metadata": {
        "colab": {
          "base_uri": "https://localhost:8080/"
        },
        "id": "Z14EWtFi5ij7",
        "outputId": "b2f3c9ee-c9c1-4a0a-ee85-6fa6f59d2e08"
      },
      "execution_count": 18,
      "outputs": [
        {
          "output_type": "stream",
          "name": "stdout",
          "text": [
            "[[1 2 3]\n",
            " [1 2 3]]\n"
          ]
        }
      ]
    },
    {
      "cell_type": "code",
      "source": [
        "# 3차원: 텐서(Tensor)\n",
        "t = np.array([[[1,2], [1,2]], [[1,2],[1,2]]])\n",
        "print(t)"
      ],
      "metadata": {
        "id": "g3kRehb35ihf"
      },
      "execution_count": null,
      "outputs": []
    },
    {
      "cell_type": "code",
      "source": [
        "# for 문을 이용해서 배열 생성\n",
        "f = np.array([i for i in range(0,10,2)])  # (start, end, step)\n",
        "print(f)\n",
        "print(f.ndim)\n",
        "print(f.dtype)\n",
        "print(f.itemsize)\n",
        "print(f.nbytes)"
      ],
      "metadata": {
        "colab": {
          "base_uri": "https://localhost:8080/"
        },
        "id": "BUmRZrM55ifI",
        "outputId": "e7de4c69-73c4-4111-868f-8c84741f6c52"
      },
      "execution_count": 25,
      "outputs": [
        {
          "output_type": "stream",
          "name": "stdout",
          "text": [
            "[0 2 4 6 8]\n",
            "1\n",
            "int64\n",
            "8\n",
            "40\n"
          ]
        }
      ]
    },
    {
      "cell_type": "markdown",
      "source": [
        "## 1.1 데이터 타입\n",
        "\n",
        "1. 숫자형\n",
        "\n",
        "2. 문자형\n",
        "\n",
        "3. 논리형"
      ],
      "metadata": {
        "id": "EOCYfSgO7l0s"
      }
    },
    {
      "cell_type": "markdown",
      "source": [
        "### 숫자형\n",
        "- 부호가 있는 정수(Signed integer)  int\n",
        "- 부호가 없는 정수(Unsigned integer)  uint\n",
        "- 실수(floating point)  float\n",
        "- 복소수(complex)  complex        "
      ],
      "metadata": {
        "id": "gXpZUr9A-tlj"
      }
    },
    {
      "cell_type": "code",
      "source": [
        "# int (8bit, 16bit, 32bit, 64bit)  -> 각각 처리할 수 있는 데이터의 크기\n",
        "\n",
        "data = [1.1, 2, 3]\n",
        "\n",
        "i = np.array(data, dtype=np.int32)   # int로 설정해서 1.1이 1로 나옴\n",
        "print(i)"
      ],
      "metadata": {
        "colab": {
          "base_uri": "https://localhost:8080/"
        },
        "id": "7jLzBZVP5ic_",
        "outputId": "ee9009e2-6c0b-42e0-b200-1d3dde239000"
      },
      "execution_count": 26,
      "outputs": [
        {
          "output_type": "stream",
          "name": "stdout",
          "text": [
            "[1 2 3]\n"
          ]
        }
      ]
    },
    {
      "cell_type": "code",
      "source": [
        "f = np.array(data, dtype=np.float64)  # float로 설정해서 2, 3 -> 2.0, 3.0 으로 나옴(0은 생략)\n",
        "print(f)"
      ],
      "metadata": {
        "colab": {
          "base_uri": "https://localhost:8080/"
        },
        "id": "KJRhchqkBCdc",
        "outputId": "61491c10-71fb-47be-c257-35e7c0b4cc94"
      },
      "execution_count": 32,
      "outputs": [
        {
          "output_type": "stream",
          "name": "stdout",
          "text": [
            "[1.1 2.  3. ]\n"
          ]
        }
      ]
    },
    {
      "cell_type": "code",
      "source": [
        "print(i.dtype)"
      ],
      "metadata": {
        "colab": {
          "base_uri": "https://localhost:8080/"
        },
        "id": "0pMhoW-a5iYA",
        "outputId": "333fa171-5cf1-493b-a9f4-19508c726ba5"
      },
      "execution_count": 27,
      "outputs": [
        {
          "output_type": "stream",
          "name": "stdout",
          "text": [
            "int32\n"
          ]
        }
      ]
    },
    {
      "cell_type": "code",
      "source": [
        "data2 = [-1, 2, 3]\n",
        "\n",
        "ui = np.array(data2, dtype=np.uint32)  # uint 8, 16, 32(0 ~ 4,294,967,295), 64\n",
        "# uint32는 (0 ~ 4,294,967,295)의 범위만 나타낼 수 있어서 -1은 0에서 뒤로 간 4,294,967,295 이 나온다.\n",
        "\n",
        "print(ui)"
      ],
      "metadata": {
        "colab": {
          "base_uri": "https://localhost:8080/"
        },
        "id": "DzoQYGYX_1cW",
        "outputId": "d61ff13a-0d40-48c6-c4b3-9a0043ca5420"
      },
      "execution_count": 31,
      "outputs": [
        {
          "output_type": "stream",
          "name": "stdout",
          "text": [
            "[4294967295          2          3]\n"
          ]
        }
      ]
    },
    {
      "cell_type": "code",
      "source": [
        "c = np.array([1 + 2j, 3 + 4j, 5 + 6j], dtype=np.complex64)\n",
        "print(c)\n",
        "print(c.real)  # 실수\n",
        "print(c.imag)  # 허수"
      ],
      "metadata": {
        "colab": {
          "base_uri": "https://localhost:8080/"
        },
        "id": "gjIaj1PB_1Z5",
        "outputId": "e7751481-1737-4a52-98e7-eb9ea2d9fed8"
      },
      "execution_count": 37,
      "outputs": [
        {
          "output_type": "stream",
          "name": "stdout",
          "text": [
            "[1.+2.j 3.+4.j 5.+6.j]\n",
            "[1. 3. 5.]\n",
            "[2. 4. 6.]\n"
          ]
        }
      ]
    },
    {
      "cell_type": "markdown",
      "source": [
        "### 문자형\n",
        "- string_\n",
        "- unicod_\n"
      ],
      "metadata": {
        "id": "L7Q_PnRHCSOf"
      }
    },
    {
      "cell_type": "code",
      "source": [
        "# 데이터 타입을 왜 분류하는가 -> 용도에 따라 다르게 저장한다.\n",
        "# string 은 바이트로 저장하고 보여주기 때문에? 내용물을 볼 필요가 없이 그냥 적은 용량으로 저장\n",
        "# unicod 는 내용물을 볼 수 있게 저장. 용량은 더 커짐"
      ],
      "metadata": {
        "id": "qOHhaI5bGivW"
      },
      "execution_count": null,
      "outputs": []
    },
    {
      "cell_type": "code",
      "source": [
        "data = [1, 2, 3]\n",
        "\n",
        "s = np.string_(data)   # bit 단위로 표현 내용물을 볼 필요는 없고 그냥 적은 용량으로 저장할 때\n",
        "print(s)"
      ],
      "metadata": {
        "colab": {
          "base_uri": "https://localhost:8080/"
        },
        "id": "iXuhrbhN_1XR",
        "outputId": "585ee40a-e535-4956-826e-fef763f2eaba"
      },
      "execution_count": 40,
      "outputs": [
        {
          "output_type": "stream",
          "name": "stdout",
          "text": [
            "b'\\x01\\x02\\x03'\n"
          ]
        }
      ]
    },
    {
      "cell_type": "code",
      "source": [
        "print(s.dtype)  # S3: string 3  -> 3 개로 되어있다"
      ],
      "metadata": {
        "colab": {
          "base_uri": "https://localhost:8080/"
        },
        "id": "dueN8LxG_1VI",
        "outputId": "66d5bfdd-f892-4557-aaf3-4d678515ff12"
      },
      "execution_count": 41,
      "outputs": [
        {
          "output_type": "stream",
          "name": "stdout",
          "text": [
            "|S3\n"
          ]
        }
      ]
    },
    {
      "cell_type": "code",
      "source": [
        "data3 = [1, 2, 3, 4, 5]\n",
        "\n",
        "# string_\n",
        "s2 = np.string_(data3)  # s2_ = np.array(data3, dtype='S) 와 같음\n",
        "\n",
        "# print, 그 자체, 데이터 타입\n",
        "print(s2)\n",
        "print(s2.dtype)"
      ],
      "metadata": {
        "colab": {
          "base_uri": "https://localhost:8080/"
        },
        "id": "kibtac8QCtDm",
        "outputId": "a1f43ab0-b85c-47da-bf47-34f16e6d1cb0"
      },
      "execution_count": 42,
      "outputs": [
        {
          "output_type": "stream",
          "name": "stdout",
          "text": [
            "b'\\x01\\x02\\x03\\x04\\x05'\n",
            "|S5\n"
          ]
        }
      ]
    },
    {
      "cell_type": "code",
      "source": [
        "u = np.array(data3, dtype='U') # unicode   bit와는 다르게 내용물을 볼 수 있도록 저장(용도에 따른 저장방법)\n",
        "\n",
        "print(u)\n",
        "print(u.dtype)"
      ],
      "metadata": {
        "colab": {
          "base_uri": "https://localhost:8080/"
        },
        "id": "l73HpzWd_1Sx",
        "outputId": "7014bbb6-9a1e-4173-f51c-e9f50cef0403"
      },
      "execution_count": 43,
      "outputs": [
        {
          "output_type": "stream",
          "name": "stdout",
          "text": [
            "['1' '2' '3' '4' '5']\n",
            "<U1\n"
          ]
        }
      ]
    },
    {
      "cell_type": "code",
      "source": [
        "data4 = [11, 22, 33, 44, 55]\n",
        "\n",
        "u2 = np.array(data4, dtype='U')\n",
        "\n",
        "print(u2)\n",
        "print(u2.dtype)"
      ],
      "metadata": {
        "colab": {
          "base_uri": "https://localhost:8080/"
        },
        "id": "uJAK6wjJD_Wu",
        "outputId": "f53518a4-3fdb-49ad-e591-133c26f154c7"
      },
      "execution_count": 47,
      "outputs": [
        {
          "output_type": "stream",
          "name": "stdout",
          "text": [
            "['11' '22' '33' '44' '55']\n",
            "<U2\n"
          ]
        }
      ]
    },
    {
      "cell_type": "markdown",
      "source": [
        "### 논리형(boolean)\n",
        "\n",
        "- True(1), False(0)\n",
        "- 비트 연산 사용: & and, | or, ^ xor, ~ not"
      ],
      "metadata": {
        "id": "vsDtr9UDEEKa"
      }
    },
    {
      "cell_type": "code",
      "source": [
        "l1 = np.array([True, False, True])\n",
        "l2 = np.array([False, True, False])\n",
        "\n",
        "print(l1.dtype)\n",
        "print(l2.dtype)"
      ],
      "metadata": {
        "colab": {
          "base_uri": "https://localhost:8080/"
        },
        "id": "mH3gmr9f_1QG",
        "outputId": "319d68d2-3b6f-4be1-cb8f-61b31f7a5282"
      },
      "execution_count": 45,
      "outputs": [
        {
          "output_type": "stream",
          "name": "stdout",
          "text": [
            "bool\n",
            "bool\n"
          ]
        }
      ]
    },
    {
      "cell_type": "code",
      "source": [
        "and_ = np.logical_and(l1, l2)   # and 연산으로 l1, l2 를 비교하겠다.\n",
        "print(and_)"
      ],
      "metadata": {
        "colab": {
          "base_uri": "https://localhost:8080/"
        },
        "id": "syNeqQ_VEqvS",
        "outputId": "ef88dab8-8d9e-43b2-cb00-0f15046273b1"
      },
      "execution_count": 46,
      "outputs": [
        {
          "output_type": "stream",
          "name": "stdout",
          "text": [
            "[False False False]\n"
          ]
        }
      ]
    },
    {
      "cell_type": "markdown",
      "source": [
        "## 1.2 데이터 형 변환 (Cast, Casting 형 변환)\n",
        "\n",
        "- 데이터들끼리 형태를 맞춰줌\n",
        "- ex) 이미지 데이터 -> uint 형으로 불러옴 -> float로 형 변환"
      ],
      "metadata": {
        "id": "o9GnrkRnHV5T"
      }
    },
    {
      "cell_type": "code",
      "source": [
        "data = [1.1, 2, 3]\n",
        "\n",
        "a = np.float64(data)  # dtype변경 (np.데이터타입 을 이용한 방법) / a = np.array(data, dtype=np.float64) ?\n",
        "\n",
        "print(a)\n",
        "print(a.dtype)"
      ],
      "metadata": {
        "colab": {
          "base_uri": "https://localhost:8080/"
        },
        "id": "VpotcAUWEqrk",
        "outputId": "bfb6bea0-4006-430a-be64-aa786bb79135"
      },
      "execution_count": 78,
      "outputs": [
        {
          "output_type": "stream",
          "name": "stdout",
          "text": [
            "[1.1 2.  3. ]\n",
            "float64\n"
          ]
        }
      ]
    },
    {
      "cell_type": "code",
      "source": [
        "a = a.astype(np.int64)   # dtype변경 (astype을 이용한 방법 - DataFrame.astype(dtype.변경할 타입)\n",
        "\n",
        "print(a)\n",
        "print(a.dtype)"
      ],
      "metadata": {
        "colab": {
          "base_uri": "https://localhost:8080/"
        },
        "id": "_d1n4qwhEqpb",
        "outputId": "a70e90b4-aeeb-42d5-eb14-acde0136d3b3"
      },
      "execution_count": 50,
      "outputs": [
        {
          "output_type": "stream",
          "name": "stdout",
          "text": [
            "[1 2 3]\n",
            "int64\n"
          ]
        }
      ]
    },
    {
      "cell_type": "code",
      "source": [
        "b = np.uint16(0)\n",
        "\n",
        "print(b)\n",
        "print(b.dtype)"
      ],
      "metadata": {
        "colab": {
          "base_uri": "https://localhost:8080/"
        },
        "id": "aMCuVnCUEqm8",
        "outputId": "392edc50-b1b7-4f4d-82c2-8d0689376bca"
      },
      "execution_count": 51,
      "outputs": [
        {
          "output_type": "stream",
          "name": "stdout",
          "text": [
            "0\n",
            "uint16\n"
          ]
        }
      ]
    },
    {
      "cell_type": "code",
      "source": [
        "b = b - 1   # -1 을 빼줬기 때문에 자동으로 형이 변환됨?\n",
        "print(b)\n",
        "print(b.dtype)"
      ],
      "metadata": {
        "colab": {
          "base_uri": "https://localhost:8080/"
        },
        "id": "lJAe42LbEqkT",
        "outputId": "6b16a93a-e237-401d-ca42-3eb9d80c6c3e"
      },
      "execution_count": 52,
      "outputs": [
        {
          "output_type": "stream",
          "name": "stdout",
          "text": [
            "-1\n",
            "int64\n"
          ]
        }
      ]
    },
    {
      "cell_type": "code",
      "source": [
        "c = np.uint16(-1)\n",
        "print(c)"
      ],
      "metadata": {
        "colab": {
          "base_uri": "https://localhost:8080/"
        },
        "id": "2BVpQAnEEqhw",
        "outputId": "3ce2621c-b9f4-4344-db8e-86b4ff390f96"
      },
      "execution_count": 56,
      "outputs": [
        {
          "output_type": "stream",
          "name": "stdout",
          "text": [
            "65535\n"
          ]
        }
      ]
    },
    {
      "cell_type": "markdown",
      "source": [
        "## 1.3 산술연산"
      ],
      "metadata": {
        "id": "jL3Y3Ye0Q4St"
      }
    },
    {
      "cell_type": "code",
      "source": [
        "# 시간비교  - 나중에\n",
        "import time\n",
        "\n",
        "data = [[1, 2, 3], [4, 5, 6]]\n",
        "data2 = [[1, 1, 1], [2, 2, 2]]\n",
        "\n",
        "start_time = time.time()\n",
        "\n",
        "for i in range(len(data)):\n",
        "  for j in range(len(data[0])):"
      ],
      "metadata": {
        "id": "p03mFMQfEqfc"
      },
      "execution_count": null,
      "outputs": []
    },
    {
      "cell_type": "code",
      "source": [
        "data = [[1, 2, 3], [4, 5, 6]]\n",
        "data2 = [[1, 1, 1], [2, 2, 2]]\n",
        "\n",
        "print(len(data))\n",
        "print(len(data[0]))"
      ],
      "metadata": {
        "colab": {
          "base_uri": "https://localhost:8080/"
        },
        "id": "PMSrYqk5Rm7C",
        "outputId": "5911c182-400c-455f-f32d-baf6416b7a46"
      },
      "execution_count": 60,
      "outputs": [
        {
          "output_type": "stream",
          "name": "stdout",
          "text": [
            "2\n",
            "3\n"
          ]
        }
      ]
    },
    {
      "cell_type": "code",
      "source": [
        "sum = 0\n",
        "\n",
        "for i in range(len(data)): \n",
        "  for j in range(len(data[0])):\n",
        "    #print('i:', i, 'j: ', j)\n",
        "    sum += data[i][j]\n",
        "\n",
        "print(sum)\n",
        "\n",
        "# i가 0일 때 j는 0,1,2 "
      ],
      "metadata": {
        "colab": {
          "base_uri": "https://localhost:8080/"
        },
        "id": "UdapK8zsEqc1",
        "outputId": "30f7b848-f7a3-4d85-e063-f026daf67448"
      },
      "execution_count": 74,
      "outputs": [
        {
          "output_type": "stream",
          "name": "stdout",
          "text": [
            "i: 0 j:  0\n",
            "i: 0 j:  1\n",
            "i: 0 j:  2\n",
            "i: 1 j:  0\n",
            "i: 1 j:  1\n",
            "i: 1 j:  2\n",
            "0\n"
          ]
        }
      ]
    },
    {
      "cell_type": "code",
      "source": [
        "a = np.array([1,2,3])\n",
        "b = np.array([4,5,6])\n",
        "\n",
        "sum = a+b\n",
        "min = a-b\n",
        "mul = a*b\n",
        "div = a/b\n",
        "\n",
        "print(sum)\n",
        "print(min)\n",
        "print(mul)\n",
        "print(div)"
      ],
      "metadata": {
        "colab": {
          "base_uri": "https://localhost:8080/"
        },
        "id": "00huYj1MEqaa",
        "outputId": "bad210ee-1c87-4c8d-a431-2ab74bd69f55"
      },
      "execution_count": 72,
      "outputs": [
        {
          "output_type": "stream",
          "name": "stdout",
          "text": [
            "[5 7 9]\n",
            "[-3 -3 -3]\n",
            "[ 4 10 18]\n",
            "[0.25 0.4  0.5 ]\n"
          ]
        }
      ]
    },
    {
      "cell_type": "code",
      "source": [
        "a = np.array([1,2,3])\n",
        "b = np.array([4,5,6])\n",
        "\n",
        "aa = np.exp(a)  # 지수함수\n",
        "print(aa)\n",
        "\n",
        "bb = np.log(b)  # 자연로그\n",
        "print(bb)\n",
        "\n",
        "cc = np.log2(b)  # 밑이 2인 로그\n",
        "print(cc)\n",
        "\n",
        "d = np.array([0, np.pi/2, np.pi])  # 삼각함수\n",
        "sin_ = np.sin(d)\n",
        "cos_ = np.cos(d)\n",
        "tan_ = np.tan(d)\n",
        "\n",
        "print(sin_)\n",
        "print(cos_)\n",
        "print(tan_)"
      ],
      "metadata": {
        "colab": {
          "base_uri": "https://localhost:8080/"
        },
        "id": "cTeOtpp3EqXi",
        "outputId": "94d12060-b02d-4eab-f2ba-a81bd6b88cfd"
      },
      "execution_count": 76,
      "outputs": [
        {
          "output_type": "stream",
          "name": "stdout",
          "text": [
            "[ 2.71828183  7.3890561  20.08553692]\n",
            "[1.38629436 1.60943791 1.79175947]\n"
          ]
        }
      ]
    },
    {
      "cell_type": "markdown",
      "source": [
        "## 1.4 배열의 연결과 분할"
      ],
      "metadata": {
        "id": "nxO9_cP5qObJ"
      }
    },
    {
      "cell_type": "code",
      "source": [
        "print('a'+'b')"
      ],
      "metadata": {
        "id": "G42c_QQxVlgo"
      },
      "execution_count": null,
      "outputs": []
    },
    {
      "cell_type": "code",
      "source": [
        "x = [1, 2, 3]\n",
        "y = [4, 5, 6]  # 같은 차원끼리 가능\n",
        "\n",
        "concat = np.concatenate([x,y])\n",
        "print(concat)"
      ],
      "metadata": {
        "colab": {
          "base_uri": "https://localhost:8080/"
        },
        "id": "HQY7vwECqRdQ",
        "outputId": "1da0d2f0-05c3-4127-e49f-0241c6c2ba03"
      },
      "execution_count": 79,
      "outputs": [
        {
          "output_type": "stream",
          "name": "stdout",
          "text": [
            "[1 2 3 4 5 6]\n"
          ]
        }
      ]
    },
    {
      "cell_type": "code",
      "source": [
        "x2 = [[1,2], [3,4]]\n",
        "y2 = [[4,5], [6,7]]\n",
        "\n",
        "concat2 = np.concatenate([x2,y2], axis=1)  # 열 병합\n",
        "concat3 = np.concatenate([x2,y2], axis=0)  # 행 병합\n",
        "print(concat2)\n",
        "print(concat3)"
      ],
      "metadata": {
        "colab": {
          "base_uri": "https://localhost:8080/"
        },
        "id": "jqsi0yRKqRbb",
        "outputId": "9e931574-0812-494a-f364-7bdbc8d2f881"
      },
      "execution_count": 84,
      "outputs": [
        {
          "output_type": "stream",
          "name": "stdout",
          "text": [
            "[[1 2 4 5]\n",
            " [3 4 6 7]]\n",
            "[[1 2]\n",
            " [3 4]\n",
            " [4 5]\n",
            " [6 7]]\n"
          ]
        }
      ]
    },
    {
      "cell_type": "code",
      "source": [
        "arr = np.arange(10)\n",
        "print(arr)"
      ],
      "metadata": {
        "colab": {
          "base_uri": "https://localhost:8080/"
        },
        "id": "MukvDy1OqRZZ",
        "outputId": "24f45a09-7213-44b5-c70e-462649516f77"
      },
      "execution_count": 86,
      "outputs": [
        {
          "output_type": "stream",
          "name": "stdout",
          "text": [
            "[0 1 2 3 4 5 6 7 8 9]\n"
          ]
        }
      ]
    },
    {
      "cell_type": "code",
      "source": [
        "arr.reshape(2,5)   # 모양 다시 정하기"
      ],
      "metadata": {
        "colab": {
          "base_uri": "https://localhost:8080/"
        },
        "id": "GLpfCmjeqRXR",
        "outputId": "6dddfb0f-3e42-431d-a104-8eab274c47c4"
      },
      "execution_count": 97,
      "outputs": [
        {
          "output_type": "execute_result",
          "data": {
            "text/plain": [
              "array([[0, 1, 2, 3, 4],\n",
              "       [5, 6, 7, 8, 9]])"
            ]
          },
          "metadata": {},
          "execution_count": 97
        }
      ]
    },
    {
      "cell_type": "code",
      "source": [
        "x2 = [[1,2], [3,4]]  # 2x2\n",
        "y2 = [[4,5], [6,7]]  # 2x2\n",
        "\n",
        "# hstack horizontal - 수평\n",
        "h = np.hstack([x2, y2])\n",
        "print(h)\n",
        "\n",
        "# vstack vertical - 수직\n",
        "v = np.vstack([x2, y2])\n",
        "print(v)"
      ],
      "metadata": {
        "colab": {
          "base_uri": "https://localhost:8080/"
        },
        "id": "_zWrlYYqqRVL",
        "outputId": "5aa6ac8b-d37e-4b38-eb14-842f2deb02b7"
      },
      "execution_count": 98,
      "outputs": [
        {
          "output_type": "stream",
          "name": "stdout",
          "text": [
            "[[1 2 4 5]\n",
            " [3 4 6 7]]\n",
            "[[1 2]\n",
            " [3 4]\n",
            " [4 5]\n",
            " [6 7]]\n"
          ]
        }
      ]
    },
    {
      "cell_type": "code",
      "source": [
        "x2 = np.array([[1,2], [3,4], [5, 6]])  # 2x2\n",
        "\n",
        "# hsplit  행 분할\n",
        "h2 = np.hsplit(x2, 2)\n",
        "print(h2)  \n",
        "# -> array([[1],[3],[5]]) / array([[2],[4],[6]])\n",
        "\n",
        "\n",
        "# vsplit  열 분할\n",
        "v2 = np.vsplit(x2,3)\n",
        "print(v2)\n",
        "# -> [array([[1, 2]]), array([[3, 4]]), array([[5, 6]])]"
      ],
      "metadata": {
        "colab": {
          "base_uri": "https://localhost:8080/"
        },
        "id": "9gUM2oZiqRSw",
        "outputId": "f1ce3a7f-7a53-460f-dec7-b0963a1b5a50"
      },
      "execution_count": 105,
      "outputs": [
        {
          "output_type": "stream",
          "name": "stdout",
          "text": [
            "[array([[1],\n",
            "       [3],\n",
            "       [5]]), array([[2],\n",
            "       [4],\n",
            "       [6]])]\n"
          ]
        }
      ]
    },
    {
      "cell_type": "code",
      "source": [
        "x5 = np.array([[1],[2],[3],[4],[5]])\n",
        "print(x5)\n",
        "print(x5.shape)"
      ],
      "metadata": {
        "colab": {
          "base_uri": "https://localhost:8080/"
        },
        "id": "4ylyaDGmqRQd",
        "outputId": "94e9c39d-3bb9-4d87-ad54-04e7bb4b1a91"
      },
      "execution_count": 130,
      "outputs": [
        {
          "output_type": "stream",
          "name": "stdout",
          "text": [
            "[[1]\n",
            " [2]\n",
            " [3]\n",
            " [4]\n",
            " [5]]\n",
            "(5, 1)\n"
          ]
        }
      ]
    },
    {
      "cell_type": "code",
      "source": [
        "x6 = np.array([[1, 2, 3, 4, 5]])\n",
        "print(x6)\n",
        "print(x6.shape)"
      ],
      "metadata": {
        "colab": {
          "base_uri": "https://localhost:8080/"
        },
        "id": "D4FtuLmv5IR-",
        "outputId": "bd24526c-bf3f-4fe8-86aa-0543df55455f"
      },
      "execution_count": 131,
      "outputs": [
        {
          "output_type": "stream",
          "name": "stdout",
          "text": [
            "[[1 2 3 4 5]]\n",
            "(1, 5)\n"
          ]
        }
      ]
    },
    {
      "cell_type": "markdown",
      "source": [
        "## 1.5 다양한 배열 만들기"
      ],
      "metadata": {
        "id": "mT1YXzWs2xwt"
      }
    },
    {
      "cell_type": "code",
      "source": [
        "zero = np.zeros([3,4])\n",
        "print(zero)"
      ],
      "metadata": {
        "colab": {
          "base_uri": "https://localhost:8080/"
        },
        "id": "mDeombaf20Hd",
        "outputId": "11d0e845-30d5-4fc6-db4b-2748283a2f52"
      },
      "execution_count": 121,
      "outputs": [
        {
          "output_type": "stream",
          "name": "stdout",
          "text": [
            "[[0. 0. 0. 0.]\n",
            " [0. 0. 0. 0.]\n",
            " [0. 0. 0. 0.]]\n"
          ]
        }
      ]
    },
    {
      "cell_type": "code",
      "source": [
        "one = np.ones([3,4])\n",
        "print(one)"
      ],
      "metadata": {
        "id": "NjHhsyIH20Or"
      },
      "execution_count": null,
      "outputs": []
    },
    {
      "cell_type": "code",
      "source": [
        "eye = np.eye(3)\n",
        "print(eye)"
      ],
      "metadata": {
        "id": "ujHdI28d20MP"
      },
      "execution_count": null,
      "outputs": []
    },
    {
      "cell_type": "markdown",
      "source": [
        "# Numpy 제공 함수"
      ],
      "metadata": {
        "id": "3VtohrpY4SeK"
      }
    },
    {
      "cell_type": "code",
      "source": [
        "# 절댓값\n",
        "arr1 = np.array([-1, -2, -3, 4])\n",
        "abs_arr = np.abs(arr1)\n",
        "\n",
        "print(abs_arr)"
      ],
      "metadata": {
        "colab": {
          "base_uri": "https://localhost:8080/"
        },
        "id": "2pCLZrGa20Jw",
        "outputId": "b3d5c73c-a9bf-4096-ff0f-acbec40410ed"
      },
      "execution_count": 123,
      "outputs": [
        {
          "output_type": "stream",
          "name": "stdout",
          "text": [
            "[1 2 3 4]\n"
          ]
        }
      ]
    },
    {
      "cell_type": "code",
      "source": [
        "# 제곱근\n",
        "arr2 = np.array([1, 4, 9, 16])\n",
        "sqrt_arr = np.sqrt(arr2)\n",
        "\n",
        "print(sqrt_arr)"
      ],
      "metadata": {
        "colab": {
          "base_uri": "https://localhost:8080/"
        },
        "id": "IUpnT2Pc5Yux",
        "outputId": "c785dae6-aef4-48a6-baaf-22a7c9551fba"
      },
      "execution_count": 125,
      "outputs": [
        {
          "output_type": "stream",
          "name": "stdout",
          "text": [
            "[1. 2. 3. 4.]\n"
          ]
        }
      ]
    },
    {
      "cell_type": "markdown",
      "source": [
        "## 집계함수"
      ],
      "metadata": {
        "id": "JafIAvcS5noD"
      }
    },
    {
      "cell_type": "code",
      "source": [
        "# 평균\n",
        "a = np.array([1, 2, 3, 4, 5])\n",
        "a_mean = np.mean(a)\n",
        "\n",
        "print(a_mean)  # float형으로 출력"
      ],
      "metadata": {
        "colab": {
          "base_uri": "https://localhost:8080/"
        },
        "id": "GqdygSz25YsK",
        "outputId": "6a3bfcf5-0822-4331-e8d0-7030b708b353"
      },
      "execution_count": 127,
      "outputs": [
        {
          "output_type": "stream",
          "name": "stdout",
          "text": [
            "3.0\n"
          ]
        }
      ]
    },
    {
      "cell_type": "code",
      "source": [
        "# 중간값\n",
        "b = np.array([1, 3, 5, 7, 9])\n",
        "b_median = np.median(b)\n",
        "\n",
        "print(b_median)  # float형으로 출력"
      ],
      "metadata": {
        "colab": {
          "base_uri": "https://localhost:8080/"
        },
        "id": "V-9Td2V15YqB",
        "outputId": "18979eb2-8163-4d90-9de4-3412e9f33e47"
      },
      "execution_count": 139,
      "outputs": [
        {
          "output_type": "stream",
          "name": "stdout",
          "text": [
            "5.0\n"
          ]
        }
      ]
    },
    {
      "cell_type": "code",
      "source": [
        "# 표준편차\n",
        "c = np.array([1, 2, 3, 4, 5])\n",
        "c_std = np.std(c)\n",
        "\n",
        "print(c_std)"
      ],
      "metadata": {
        "colab": {
          "base_uri": "https://localhost:8080/"
        },
        "id": "94aY2Gg06SeD",
        "outputId": "9730c8e9-100a-4e72-8c2d-c030dc447c29"
      },
      "execution_count": 134,
      "outputs": [
        {
          "output_type": "stream",
          "name": "stdout",
          "text": [
            "1.4142135623730951\n"
          ]
        }
      ]
    },
    {
      "cell_type": "code",
      "source": [
        "# 분산\n",
        "d = np.array([1, 2, 3, 4, 5])\n",
        "d_var = np.var(d)\n",
        "\n",
        "print(d_var)  # float형으로 출력"
      ],
      "metadata": {
        "colab": {
          "base_uri": "https://localhost:8080/"
        },
        "id": "ChvRQjdi6s8c",
        "outputId": "8bbf64f1-afd8-423d-ad33-30a4beb1c475"
      },
      "execution_count": 135,
      "outputs": [
        {
          "output_type": "stream",
          "name": "stdout",
          "text": [
            "2.0\n"
          ]
        }
      ]
    },
    {
      "cell_type": "code",
      "source": [
        "# 합\n",
        "d = np.array([1, 2, 3, 4, 5])\n",
        "d_sum = np.sum(d)\n",
        "\n",
        "print(d_sum)"
      ],
      "metadata": {
        "id": "mox-OqLE6s5b"
      },
      "execution_count": null,
      "outputs": []
    },
    {
      "cell_type": "code",
      "source": [
        "# 누적합계 (배열 형태로 반환)\n",
        "d_cumsum = np.cumsum(d)\n",
        "\n",
        "print(d_cumsum)"
      ],
      "metadata": {
        "colab": {
          "base_uri": "https://localhost:8080/"
        },
        "id": "wGUxAsGL7GyT",
        "outputId": "3c9111be-1d12-436f-c9e9-31a0cc5c55ef"
      },
      "execution_count": 136,
      "outputs": [
        {
          "output_type": "stream",
          "name": "stdout",
          "text": [
            "[ 1  3  6 10 15]\n"
          ]
        }
      ]
    },
    {
      "cell_type": "code",
      "source": [
        "# 최소값\n",
        "min = np.argmin(d)\n",
        "\n",
        "print(min) # 인덱스 값으로 출력. 0번째가 제일 작다"
      ],
      "metadata": {
        "colab": {
          "base_uri": "https://localhost:8080/"
        },
        "id": "Rd7ef-Ld8IWc",
        "outputId": "aa2b791f-70e7-4dab-c93b-7a9265cae78f"
      },
      "execution_count": 140,
      "outputs": [
        {
          "output_type": "stream",
          "name": "stdout",
          "text": [
            "0\n"
          ]
        }
      ]
    },
    {
      "cell_type": "code",
      "source": [
        "# 최대값\n",
        "max = np.argmax(d)\n",
        "\n",
        "print(max) # 인덱스 값으로 출력. 0번째가 제일 작다"
      ],
      "metadata": {
        "colab": {
          "base_uri": "https://localhost:8080/"
        },
        "id": "oUEx2o6uE4iB",
        "outputId": "f8ccd1f9-fa91-48bd-f319-4f66067fc9fa"
      },
      "execution_count": 150,
      "outputs": [
        {
          "output_type": "stream",
          "name": "stdout",
          "text": [
            "4\n"
          ]
        }
      ]
    },
    {
      "cell_type": "code",
      "source": [
        "# any -> 배열 안에 하나라도 True가 있는지 확인\n",
        "a = np.array([0, 0, 0, 1])\n",
        "a_true = np.any(a)\n",
        "\n",
        "print(a_true)"
      ],
      "metadata": {
        "colab": {
          "base_uri": "https://localhost:8080/"
        },
        "id": "l6b3zDXY8vfC",
        "outputId": "fabdfb0f-f3cf-4b1f-d432-c372321cb065"
      },
      "execution_count": 141,
      "outputs": [
        {
          "output_type": "stream",
          "name": "stdout",
          "text": [
            "True\n"
          ]
        }
      ]
    },
    {
      "cell_type": "code",
      "source": [
        "# all -> 모두 True가 아니라면 False\n",
        "a_all = np.all(a)\n",
        "print(a_all)"
      ],
      "metadata": {
        "colab": {
          "base_uri": "https://localhost:8080/"
        },
        "id": "1Kiu_vXn9l5Q",
        "outputId": "7f2d4150-c1c1-471e-c458-9ad28b99951e"
      },
      "execution_count": 142,
      "outputs": [
        {
          "output_type": "stream",
          "name": "stdout",
          "text": [
            "False\n"
          ]
        }
      ]
    },
    {
      "cell_type": "code",
      "source": [
        "# Nan/ nansum -> nan값이 있을 때 0으로 취급하여 더하기\n",
        "a = np.array([1, 2, np.nan, 4])\n",
        "a_nsum = np.nansum(a)\n",
        "a_sum = np.sum(a)\n",
        "\n",
        "print(a_sum)\n",
        "print(a_nsum)"
      ],
      "metadata": {
        "colab": {
          "base_uri": "https://localhost:8080/"
        },
        "id": "GCIsD0Lz9l2j",
        "outputId": "7921449f-a693-4859-82ca-8718a451db7d"
      },
      "execution_count": 145,
      "outputs": [
        {
          "output_type": "stream",
          "name": "stdout",
          "text": [
            "nan\n",
            "7.0\n"
          ]
        }
      ]
    },
    {
      "cell_type": "code",
      "source": [
        "# where -> 조건에 맞는 값을 출력\n",
        "d = np.array([1, 2, 3, 4, 5])\n",
        "condition1 = np.where(d < 3)\n",
        "condition = np.where(d < 3, d, 0)\n",
        "\n",
        "print(condition1) # 튜플형태로 출력 / 값이 없어도 출력?\n",
        "print(condition)  # 배열형태로 출력"
      ],
      "metadata": {
        "colab": {
          "base_uri": "https://localhost:8080/"
        },
        "id": "2RRij1xh9l0b",
        "outputId": "45cca4d9-a76b-4843-8bee-1cf3b02a6842"
      },
      "execution_count": 149,
      "outputs": [
        {
          "output_type": "stream",
          "name": "stdout",
          "text": [
            "(array([0, 1]),)\n",
            "[1 2 0 0 0]\n"
          ]
        }
      ]
    },
    {
      "cell_type": "markdown",
      "source": [
        "### Boolean Indexing\n",
        "\n",
        "조건에 따른 요소들을 판별해서 새로운 배열을 만든다."
      ],
      "metadata": {
        "id": "tVtYtGpeFPyP"
      }
    },
    {
      "cell_type": "code",
      "source": [
        "# 조건에 맞는 값을 출력?\n",
        "a = np.array([1, 2, 3, 4, 5, 6, 7, 8, 9, 10])\n",
        "even_a = a[a % 2 == 0]\n",
        "\n",
        "print(even_a)\n",
        "print(a)"
      ],
      "metadata": {
        "colab": {
          "base_uri": "https://localhost:8080/"
        },
        "id": "vFSuMemv9lvN",
        "outputId": "5e014fc1-f804-403c-e042-64be43339904"
      },
      "execution_count": 155,
      "outputs": [
        {
          "output_type": "stream",
          "name": "stdout",
          "text": [
            "[ 2  4  6  8 10]\n",
            "[ 1  2  3  4  5  6  7  8  9 10]\n"
          ]
        }
      ]
    },
    {
      "cell_type": "markdown",
      "source": [
        "### Broadcast (브로드캐스트)\n",
        "\n",
        "- 크기가 다른 배열 간의 연산도 가능하게 해줌\n",
        "- ex) 1차원, 2차원"
      ],
      "metadata": {
        "id": "21VXAHOXIC2r"
      }
    },
    {
      "cell_type": "code",
      "source": [
        "a = np.array([1, 2, 3])\n",
        "b = np.array([4, 5, 6])\n",
        "\n",
        "c = a + b\n",
        "print(c)"
      ],
      "metadata": {
        "colab": {
          "base_uri": "https://localhost:8080/"
        },
        "id": "_g7yMhmAFpeZ",
        "outputId": "82f459e3-f2fc-484b-cc9c-0c2fe11075eb"
      },
      "execution_count": 156,
      "outputs": [
        {
          "output_type": "stream",
          "name": "stdout",
          "text": [
            "[5 7 9]\n"
          ]
        }
      ]
    },
    {
      "cell_type": "code",
      "source": [
        "d = np.array([[1],[2],[3]])  # 3 x 1\n",
        "e = np.array([4, 5, 6])   # 원래라면 ([[4, 5, 6]])으로 해야함 1 x 3\n",
        "f = d + e\n",
        "\n",
        "print(d.shape)\n",
        "print(e.shape)\n",
        "print(f)"
      ],
      "metadata": {
        "colab": {
          "base_uri": "https://localhost:8080/"
        },
        "id": "svjqB1FbI9oA",
        "outputId": "69888cac-4a09-4d1e-8b30-69e8684681a7"
      },
      "execution_count": 166,
      "outputs": [
        {
          "output_type": "stream",
          "name": "stdout",
          "text": [
            "(3, 1)\n",
            "(3,)\n",
            "[[5 6 7]\n",
            " [6 7 8]\n",
            " [7 8 9]]\n"
          ]
        }
      ]
    },
    {
      "cell_type": "markdown",
      "source": [
        "- 두 배열의 차원 수가 다를 경우, 더 작은 차원의 배열에 큰 차원의 배열이 맞을 때가지 1을 추가한다.\n",
        "\n",
        "- 두 배열의 차원 수가 같을 경우에도, 크기가 1인 차원이 있다면 다른 배열의 크기와 일치하도록 복제한다.\n",
        "\n",
        "- 두 배열의 차원 수가 같은 경우에도, 모든 차원의 크기가 같거나 크기가 1이라면 모양이 같은 두 배열의 요소 간 연산을 한다."
      ],
      "metadata": {
        "id": "dlnsjRH8KFSB"
      }
    },
    {
      "cell_type": "code",
      "source": [
        "z = np.array([[1,2,3]])\n",
        "print(z.shape)"
      ],
      "metadata": {
        "colab": {
          "base_uri": "https://localhost:8080/"
        },
        "id": "Vk3AN84XI9lk",
        "outputId": "b88d8fda-9258-48ae-920c-26cfed67c455"
      },
      "execution_count": 169,
      "outputs": [
        {
          "output_type": "stream",
          "name": "stdout",
          "text": [
            "(1, 3)\n"
          ]
        }
      ]
    },
    {
      "cell_type": "code",
      "source": [],
      "metadata": {
        "id": "n_0z9LJDXiqi"
      },
      "execution_count": null,
      "outputs": []
    },
    {
      "cell_type": "markdown",
      "source": [
        "# 연습문제"
      ],
      "metadata": {
        "id": "MmCbc2BdRU5_"
      }
    },
    {
      "cell_type": "code",
      "source": [
        "import numpy as np"
      ],
      "metadata": {
        "id": "7RgWesETWN4P"
      },
      "execution_count": 220,
      "outputs": []
    },
    {
      "cell_type": "code",
      "source": [
        "# 4.1 주어진 여러 개의 1차원 배열을 연결하여 하나의 큰 1차원 배열로 반환하세요.\n",
        "\n",
        "arr1 = np.array([1, 2, 3])\n",
        "arr2 = np.array([4, 5, 6])\n",
        "arr3 = np.array([7, 8, 9, 10])\n",
        "\n",
        "# concat 함수\n",
        "a = np.concatenate([arr1,arr2,arr3])\n",
        "print(a)\n",
        "print(a.shape)"
      ],
      "metadata": {
        "colab": {
          "base_uri": "https://localhost:8080/"
        },
        "id": "CRQNc7gdRXgu",
        "outputId": "798db105-12e5-411e-9c13-4d6c7788549d"
      },
      "execution_count": 178,
      "outputs": [
        {
          "output_type": "stream",
          "name": "stdout",
          "text": [
            "[ 1  2  3  4  5  6  7  8  9 10]\n",
            "(10,)\n"
          ]
        }
      ]
    },
    {
      "cell_type": "code",
      "source": [
        "# 4.2 주어진 2차원 배열에서 각 열의 평균값을 계산하여 새로운 1차원 배열로 나타내세요.\n",
        "# mean() 함수 응용하기\n",
        "\n",
        "arr = np.array([[1, 2, 3],\n",
        "                [4, 5, 6],\n",
        "                [7, 8, 9]])\n",
        "c = []\n",
        "\n",
        "for i in range(len(arr[0])):\n",
        "  b = np.mean(arr[i])\n",
        "  c.append(b)\n",
        "  d = np.array(c)\n",
        "\n",
        "print(d)\n",
        "print(d.ndim)  # 차원 확인"
      ],
      "metadata": {
        "colab": {
          "base_uri": "https://localhost:8080/"
        },
        "id": "_5Khwl1XRZIR",
        "outputId": "760bef49-c8f0-4955-f52f-96c0bf8f88e0"
      },
      "execution_count": 260,
      "outputs": [
        {
          "output_type": "stream",
          "name": "stdout",
          "text": [
            "[2. 5. 8.]\n",
            "1\n"
          ]
        }
      ]
    },
    {
      "cell_type": "code",
      "source": [
        "# 4.3 주어진 2차원 배열에서 각 행의 최대값을 구하여 1차원 배열로 반환하세요.\n",
        "# np.max()\n",
        "\n",
        "arr = np.array([[1, 2, 3],\n",
        "                [4, 5, 6],\n",
        "                [7, 8, 9]])\n",
        "\n",
        "arr_max1 = arr.max(1)\n",
        "print(arr_max1)\n",
        "\n",
        "# np.max(arr, axis=1)"
      ],
      "metadata": {
        "colab": {
          "base_uri": "https://localhost:8080/"
        },
        "id": "B3N-ppVARZFW",
        "outputId": "08421d5a-b778-411d-e08f-13e7f06a7e1f"
      },
      "execution_count": 263,
      "outputs": [
        {
          "output_type": "execute_result",
          "data": {
            "text/plain": [
              "array([3, 6, 9])"
            ]
          },
          "metadata": {},
          "execution_count": 263
        }
      ]
    },
    {
      "cell_type": "code",
      "source": [
        "# 4.4 0에서 1사이의 값으로 크기 10개의 1차원 배열을 만들어주세요.\n",
        "# np.linspace(시작범위, 끝범위, num개수)\n",
        "\n",
        "x = np.linspace(0,1,10)\n",
        "print(x) "
      ],
      "metadata": {
        "colab": {
          "base_uri": "https://localhost:8080/"
        },
        "id": "uDSyReiRRZCq",
        "outputId": "d94aa6f5-5348-4b89-ad3a-34f4e0df650a"
      },
      "execution_count": 226,
      "outputs": [
        {
          "output_type": "stream",
          "name": "stdout",
          "text": [
            "[0.         0.11111111 0.22222222 0.33333333 0.44444444 0.55555556\n",
            " 0.66666667 0.77777778 0.88888889 1.        ]\n"
          ]
        }
      ]
    },
    {
      "cell_type": "code",
      "source": [
        "# 4.5 주어진 1차원 배열에서 짝수인 요소들의 합을 계산하는 함수 sum_of_evens를 작성하세요.\n",
        "# def sum_of_evens(arr: np.ndarray) -> int:\n",
        "\n",
        "arr = np.array([1, 2, 3, 4, 5, 6, 7, 8, 9, 10])\n",
        "even = arr[arr % 2 == 0]\n",
        "es = np.sum(even)\n",
        "print(es)\n",
        "\n",
        "# def sum_of_evens(arr: np.ndarray) -> int:\n",
        "#     evens = arr[arr % 2 == 0]  # 짝수인 요소 선택\n",
        "#     return np.sum(evens)  # 짝수인 요소들의 합 반환"
      ],
      "metadata": {
        "colab": {
          "base_uri": "https://localhost:8080/"
        },
        "id": "LJ9VhWNfRY_n",
        "outputId": "03860e89-c481-402b-f700-c69c0e9e3c39"
      },
      "execution_count": 264,
      "outputs": [
        {
          "output_type": "stream",
          "name": "stdout",
          "text": [
            "30\n"
          ]
        }
      ]
    },
    {
      "cell_type": "code",
      "source": [
        "# 4.6 수평분할, 수직분할, 수평 스택, 수직 스택 문제를 풀어봅시다.\n",
        "\n",
        "# 분할할 배열 생성\n",
        "arr = np.arange(1, 13).reshape((3, 4))\n",
        "print(arr)\n",
        "\n",
        "# 1. 수평분할하기 \n",
        "harrd = np.hsplit(arr,2)\n",
        "print(harrd)\n",
        "\n",
        "# 다시 원본으로 스택쌓기\n",
        "harrs = np.hstack(harrd)\n",
        "print(harrs)\n",
        "\n",
        "# arr_1 = arr_split[0]\n",
        "# arr_2 = arr_split[1]\n",
        "# arr_stack = np.hstack((arr_1, arr_2))\n",
        "# print(arr_stack)\n",
        "\n",
        "# 2. 수직분할하기 \n",
        "varrd = np.vsplit(arr,3)\n",
        "print(varrd)\n",
        "\n",
        "# 다시 원본으로 스택쌓기\n",
        "varrs = np.vstack(varrd)\n",
        "print(varrs)\n",
        "\n",
        "# arr_1 = arr_split[0]\n",
        "# arr_2 = arr_split[1]\n",
        "# arr_3 = arr_split[2]\n",
        "# arr_stack = np.vstack((arr_1, arr_2, arr_3))\n",
        "# print(arr_stack)"
      ],
      "metadata": {
        "id": "GS7ZCJEzRY8r"
      },
      "execution_count": null,
      "outputs": []
    },
    {
      "cell_type": "code",
      "source": [
        "# 4.7 배열에서 조건에 맞는 값 반환하는 문제를 풀어봅시다.\n",
        "# 조건 : 값을 10으로 나누었을 때 나머지가 0이면 원래 값 출력, 아니면 0으로 출력하세요.\n",
        "arr = np.arange(0, 100, 5).reshape((5,4))\n",
        "\n",
        "# a = arr[arr % 10 == 0]\n",
        "# print(a)\n",
        "\n",
        "a10 = np.where(arr % 10 == 0, arr, 0)\n",
        "print(a10)"
      ],
      "metadata": {
        "colab": {
          "base_uri": "https://localhost:8080/"
        },
        "id": "PSPmj4TbRY5s",
        "outputId": "da4776dc-06c3-4411-8436-f880838529aa"
      },
      "execution_count": 251,
      "outputs": [
        {
          "output_type": "stream",
          "name": "stdout",
          "text": [
            "[[ 0  0 10  0]\n",
            " [20  0 30  0]\n",
            " [40  0 50  0]\n",
            " [60  0 70  0]\n",
            " [80  0 90  0]]\n"
          ]
        }
      ]
    },
    {
      "cell_type": "code",
      "source": [
        "# 4.8 [3x3]배열 lst 중 짝수만 뽑아내는 부울린 인덱싱 배열(numpy 배열)을 사용하여 짝수 배열 n 을 만드시오\n",
        "lst = [\n",
        "    [1, 2, 3],\n",
        "    [4, 5, 6],\n",
        "    [7, 8, 9]\n",
        "]\n",
        "a = np.array(lst)\n",
        "\n",
        "n = a[a % 2 == 0]\n",
        "print(n)"
      ],
      "metadata": {
        "colab": {
          "base_uri": "https://localhost:8080/"
        },
        "id": "et84E7EwRY25",
        "outputId": "5ec11777-4c83-4adc-f037-b52b1b0a8c3e"
      },
      "execution_count": 254,
      "outputs": [
        {
          "output_type": "stream",
          "name": "stdout",
          "text": [
            "[2 4 6 8]\n"
          ]
        }
      ]
    },
    {
      "cell_type": "code",
      "source": [
        "\n",
        "bool_indexing_array = np.array([\n",
        "    [False,  True, False],\n",
        "    [True, False,  True],\n",
        "    [False,  True, False]\n",
        "])\n",
        "# 1-----------------------------------\n",
        "# n = a[bool_indexing_array];\n",
        "# print(n)    \n",
        "\n",
        "# 2-----------------------------------\n",
        "# bool_indexing = (a % 2 == 0)\n",
        "# print(bool_indexing)\n",
        "# print(a[bool_indexing])\n",
        "\n",
        "# 3-----------------------------------\n",
        "# n = a[ a % 2 == 0 ]\n",
        "# n"
      ],
      "metadata": {
        "colab": {
          "base_uri": "https://localhost:8080/"
        },
        "id": "x9idAIDbfD0K",
        "outputId": "6ce334dd-e2bd-4cd6-9e26-9f7753f09c3e"
      },
      "execution_count": 267,
      "outputs": [
        {
          "output_type": "execute_result",
          "data": {
            "text/plain": [
              "array([2, 4, 6, 8])"
            ]
          },
          "metadata": {},
          "execution_count": 267
        }
      ]
    },
    {
      "cell_type": "code",
      "source": [
        "# 4.9 각도를 이용해서 삼각함수를 만들어봅시다.\n",
        "angle = np.pi / 3 # 라디안 표기 = 60도 \n",
        "# 360도는 2라디안 으로, 180도는 1라디안으로 표현합니다.\n",
        "\n",
        "# 사인 함수 계산\n",
        "sin_value = np.sin(angle)\n",
        "print(\"사인 값:\", sin_value)\n",
        "\n",
        "# 코사인 함수 계산\n",
        "cos_value = np.cos(angle)\n",
        "print(\"코사인 값:\", cos_value)\n",
        "\n",
        "# 탄젠트 함수 계산\n",
        "tan_value = np.tan(angle)\n",
        "print(\"탄젠트 값:\", tan_value)"
      ],
      "metadata": {
        "colab": {
          "base_uri": "https://localhost:8080/"
        },
        "id": "K0gbRc9gRYz3",
        "outputId": "41b9f69c-00aa-40e0-8256-8757d8ca1a0e"
      },
      "execution_count": 256,
      "outputs": [
        {
          "output_type": "execute_result",
          "data": {
            "text/plain": [
              "62.831853071795855"
            ]
          },
          "metadata": {},
          "execution_count": 256
        }
      ]
    },
    {
      "cell_type": "code",
      "source": [
        "# 4.10 조건함수를 사용해서  짝수조건을 만족하는 요소의 값이 2배로 만드는 배열을 만드시오.\n",
        "arr = np.array([1, 2, 3, 4, 5])\n",
        "\n",
        "arre2 = np.where(arr % 2 == 0, arr, 0)\n",
        "anr = arre2 *2\n",
        "\n",
        "print(anr)\n",
        "\n",
        "# new_arr = np.where(arr % 2 == 0, arr * 2, arr)\n",
        "# print(\"조건을 만족하는 요소를 2배로:\", new_arr)"
      ],
      "metadata": {
        "colab": {
          "base_uri": "https://localhost:8080/"
        },
        "id": "qGqRp8haRYwP",
        "outputId": "83dedd83-6509-4a3c-afd6-5f6784a128b1"
      },
      "execution_count": 258,
      "outputs": [
        {
          "output_type": "stream",
          "name": "stdout",
          "text": [
            "[0 4 0 8 0]\n"
          ]
        }
      ]
    }
  ]
}