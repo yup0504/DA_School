{
  "nbformat": 4,
  "nbformat_minor": 0,
  "metadata": {
    "colab": {
      "provenance": []
    },
    "kernelspec": {
      "name": "python3",
      "display_name": "Python 3"
    },
    "language_info": {
      "name": "python"
    }
  },
  "cells": [
    {
      "cell_type": "markdown",
      "source": [
        "# 1. 텍스트 파일 가공하기"
      ],
      "metadata": {
        "id": "GGpw43B-JUNy"
      }
    },
    {
      "cell_type": "code",
      "source": [
        "# 파일 입출력 복습\n",
        "\n",
        "# 우리는 파일을 읽고 쓰는거 없이 데이터 분석을 할수 없습니다.\n",
        "# 당연히 코딩을 하기 위해서는 데이터를 불러와야하고, 데이터를 분석한 후에는 결과물을 저장 해야합니다.\n",
        "# 예를 들어 문서가 어디에 있는지, 텍스트 파일이냐 CSV파일이냐에 따라 읽어드리는 방식이 다르고,\n",
        "# 저장하는 방식에 따라 향후 데이터를 또 어떻게 불어와야할지가 다릅니다.\n",
        "# 다른 사람이 저장해놓은 것을 그대로 읽을수도 있습니다.\n",
        "\n",
        "# 이런 일련과정을 파일 입출력이라고 합니다."
      ],
      "metadata": {
        "id": "-fiaYutBJUAC"
      },
      "execution_count": null,
      "outputs": []
    },
    {
      "cell_type": "code",
      "execution_count": null,
      "metadata": {
        "id": "QcJjAnToG8Ep"
      },
      "outputs": [],
      "source": [
        "# 파일의 현재 위치 확인\n",
        "# 작업을 하다보면 input / output\n",
        "\n",
        "import os\n",
        "os.getcwd()"
      ]
    },
    {
      "cell_type": "code",
      "source": [
        "# 폴더(경로) 이동하기\n",
        "\n",
        "os.chdir('/content/sample_data')"
      ],
      "metadata": {
        "id": "Pr2mftY_L0Zj"
      },
      "execution_count": 3,
      "outputs": []
    },
    {
      "cell_type": "code",
      "source": [
        "# 확인하고, 안에 있는 파일 확인하기\n",
        "\n",
        "os.getcwd()"
      ],
      "metadata": {
        "id": "vf7X0qz-L0XK"
      },
      "execution_count": null,
      "outputs": []
    },
    {
      "cell_type": "code",
      "source": [
        "# 폴더 안에 파일이 어떤게 있는지 확인하기\n",
        "\n",
        "os.listdir()"
      ],
      "metadata": {
        "id": "kAPbZqp7L0Up"
      },
      "execution_count": null,
      "outputs": []
    },
    {
      "cell_type": "code",
      "source": [
        "# 파일 목록을 리스트로 불러오기\n",
        "\n",
        "list_dir = os.listdir()\n",
        "print(list_dir)"
      ],
      "metadata": {
        "id": "QSZJhpTjL0SU"
      },
      "execution_count": null,
      "outputs": []
    },
    {
      "cell_type": "code",
      "source": [
        "# 파일 열고 쓰고\n",
        "# 파일 열기\n",
        "\n",
        "f = open('a.txt', 'w')   # 파일 만들기\n",
        "f.close()"
      ],
      "metadata": {
        "id": "LA5KRSuYL0P3"
      },
      "execution_count": null,
      "outputs": []
    },
    {
      "cell_type": "code",
      "source": [
        "# w모드 예시\n",
        "\n",
        "f = open('a.txt', 'w')\n",
        "f.write('안녕하세요')\n",
        "f.close"
      ],
      "metadata": {
        "id": "yUtkrZnJL0NY"
      },
      "execution_count": null,
      "outputs": []
    },
    {
      "cell_type": "code",
      "source": [
        "# 읽기 모드 활용\n",
        "\n",
        "f = open('a.txt', 'r')\n",
        "f.read()\n",
        "\n",
        "# f.seek(0) -> 커서가 다음으로 가있을 때 커서를 다시 앞으로 바꾸는 방법\n",
        "\n",
        "f.close()"
      ],
      "metadata": {
        "id": "jNcjKBE7L0Kt"
      },
      "execution_count": null,
      "outputs": []
    },
    {
      "cell_type": "code",
      "source": [
        "# 파일에 텍스트 추가하기\n",
        "\n",
        "f = open('a.txt', 'a')  # 텍스트 추가 모드\n",
        "f.write(' 추가하려는 문장')\n",
        "f.close()"
      ],
      "metadata": {
        "id": "qXNEQnVLL0IT"
      },
      "execution_count": null,
      "outputs": []
    },
    {
      "cell_type": "code",
      "source": [
        "# with문으로 객체를 만들지 않고 파일 출력하기\n",
        "\n",
        "f = open('abcde.txt', 'w')\n",
        "f.write('abcde')\n",
        "\n",
        "# 파일을 지우려고 하면 파일이 열려있어 꼭 close로 닫은 후에 지워야함\n",
        "# 계속 열고닫고 하면 번거로울수 있음\n",
        "\n",
        "f.close()"
      ],
      "metadata": {
        "id": "bqKIWHc9O1Sx"
      },
      "execution_count": null,
      "outputs": []
    },
    {
      "cell_type": "code",
      "source": [
        "# 그래서 사용하는 방법이 with문의 사용\n",
        "\n",
        "# with open(파일 이름, 파일 열기모드) as f: \n",
        "\n",
        "# f에 수행할 명령\n",
        "\n",
        "with open('test.txt', 'w') as f:\n",
        "  f.write('테스트 중입니다.')"
      ],
      "metadata": {
        "id": "azs3dMrcO1OR"
      },
      "execution_count": null,
      "outputs": []
    },
    {
      "cell_type": "code",
      "source": [
        "# 한글파일의 사용은 약간 자제하기는 하지만 사용할때가 종종 있습니다.\n",
        "\n",
        "import os, re\n",
        "f = open('한글_테스트.txt', 'w')\n",
        "f.close()"
      ],
      "metadata": {
        "id": "rzRx0cuaPXyV"
      },
      "execution_count": null,
      "outputs": []
    },
    {
      "cell_type": "code",
      "source": [
        "# 만약 한글 파일로 된 오류가 떳을때나 인코딩오류가 났을때\n",
        "\n",
        "import codecs \n",
        "f = codecs.open('한글파일.txt', 'r', 'utf-8')\n",
        "f.read()"
      ],
      "metadata": {
        "id": "e9017JZEO1L2"
      },
      "execution_count": null,
      "outputs": []
    },
    {
      "cell_type": "markdown",
      "source": [
        "# 2. 문자열 복습 / 처리"
      ],
      "metadata": {
        "id": "ml_Wlx6YP958"
      }
    },
    {
      "cell_type": "markdown",
      "source": [
        "## 문자열 연결 - Join\n",
        "\n",
        "* \"구분 문자\".join([문자열1, 문자열2, 문자열3])\n",
        "\n",
        "* 문자열에서는 문자열 리스트를 특정한 문자로 연결하는 join 메서드를 제공합니다.\n",
        "\n",
        "* 공백으로 연결하거나, 쉼표로 연결할 수 있어요"
      ],
      "metadata": {
        "id": "vYWOz6vhQC4l"
      }
    },
    {
      "cell_type": "code",
      "source": [
        "# join 예제 1\n",
        "text_list = ['Hello', 'World', 'Python']\n",
        "print(text_list)\n",
        "test1 = ''.join(text_list)\n",
        "print(test1)"
      ],
      "metadata": {
        "colab": {
          "base_uri": "https://localhost:8080/"
        },
        "id": "uXvnNy2vO1Jr",
        "outputId": "6c851322-e90e-4e52-f9c1-cd150525c308"
      },
      "execution_count": 8,
      "outputs": [
        {
          "output_type": "stream",
          "name": "stdout",
          "text": [
            "['Hello', 'World', 'Python']\n"
          ]
        },
        {
          "output_type": "execute_result",
          "data": {
            "text/plain": [
              "list"
            ]
          },
          "metadata": {},
          "execution_count": 8
        }
      ]
    },
    {
      "cell_type": "markdown",
      "source": [
        "## f-string\n",
        "\n",
        "* 파이썬 3.6부터 포맷 지정 문자열인 f string이 지원된다.\n",
        "* 일반적인 문자열 앞에 f를 붙이고 중괄호로 둘러쌓아 텍스트 및 변수를 받는다."
      ],
      "metadata": {
        "id": "qnM5UL8TQz84"
      }
    },
    {
      "cell_type": "code",
      "source": [
        "a = 10 \n",
        "b = '홍길동'\n",
        "print(f'제 이름은 {b}입니다. 나이는 {a}입니다.')"
      ],
      "metadata": {
        "id": "EPqUgR9RO1HP"
      },
      "execution_count": null,
      "outputs": []
    },
    {
      "cell_type": "code",
      "source": [
        "name = '홍길동'\n",
        "age = 10 \n",
        "test = f'제 이름은 {name}입니다. 나이는 {age}입니다.'\n",
        "print(test)"
      ],
      "metadata": {
        "id": "PZeEBQDsRU9P"
      },
      "execution_count": null,
      "outputs": []
    },
    {
      "cell_type": "markdown",
      "source": [
        "## 문자열 치환하기 - replace\n",
        "\n",
        "문자열에는 replace라는 치환 메서드가 있습니다."
      ],
      "metadata": {
        "id": "Z1hc7Yk1RdgN"
      }
    },
    {
      "cell_type": "code",
      "source": [
        "text1 = 'Simple is Best'\n",
        "\n",
        "# 공백을 없애는 replace문 \n",
        "text2 = text1.replace(' ','')  # 제거할 것 / 변경할 것\n",
        "print(text1)\n",
        "print(text2)\n"
      ],
      "metadata": {
        "id": "tLJZOvb4RU6y"
      },
      "execution_count": null,
      "outputs": []
    },
    {
      "cell_type": "code",
      "source": [
        "text1 = 'Simple is Best Plan'\n",
        "\n",
        "# 공백을 없애는 replace문 \n",
        "text2 = text1.replace(' ','__',1)  # 제거할 것 / 변경할 것, 처음 공백만 바꾸기\n",
        "# text2 = text1.replace(' ','__',2)  # 제거할 것 / 변경할 것, 처음 공백과 두번째 공백만 바꾸기\n",
        "print(text1)\n",
        "print(text2)\n"
      ],
      "metadata": {
        "id": "wifyYqhoRU4U"
      },
      "execution_count": null,
      "outputs": []
    },
    {
      "cell_type": "markdown",
      "source": [
        "## 문자열 포함 여부 확인\n",
        "\n",
        "* in은 리스트나 set에 특정요소가 포함되었는지를 판정합니다. \n",
        "* 문자열에서 사용하면 특정 문자열의 포함여부를 판정할 수 있고 bool로 반환합니다.\n",
        "* 이때 영문인 경우 대소문자를 꼭 점검해야합니다."
      ],
      "metadata": {
        "id": "c-b-UOxtWRlW"
      }
    },
    {
      "cell_type": "code",
      "source": [
        "text = \"Simple is Best\"\n",
        "contains = \"book\" in text\n",
        "print(contains)"
      ],
      "metadata": {
        "id": "PFNDC-XDRU0D"
      },
      "execution_count": null,
      "outputs": []
    },
    {
      "cell_type": "code",
      "source": [
        "text = \"Simple is Best\"\n",
        "contains = \"Simple\" in text\n",
        "print(contains)"
      ],
      "metadata": {
        "id": "G2GRdWO0RUxA"
      },
      "execution_count": null,
      "outputs": []
    },
    {
      "cell_type": "code",
      "source": [
        "# 공백은 텍스트일까? 텍스트 사이에서는 텍스트로 인식\n",
        "text = \"Simpleis Best\"\n",
        "contains = \" \" in text\n",
        "print(contains)"
      ],
      "metadata": {
        "id": "kytpkqywXe04"
      },
      "execution_count": null,
      "outputs": []
    },
    {
      "cell_type": "code",
      "source": [
        "# 영문 Kim Korea\n",
        "text = \"Simple is Best\"\n",
        "#lower() -> 대문자 -> 소문자\n",
        "contains = \"SIMPLE\".lower() in text.lower()\n",
        "\n",
        "print(contains)"
      ],
      "metadata": {
        "id": "nTRZPZjOXuzB"
      },
      "execution_count": null,
      "outputs": []
    },
    {
      "cell_type": "markdown",
      "source": [
        "## 문자열 일부 추출\n",
        "\n",
        "* 문자열은 시퀀스 이므로 인덱스를 지정해 문자를 추출할 수 있습니다.\n",
        "* 이때 가장 마지막 문자는 -1로 불러올 수 있습니다."
      ],
      "metadata": {
        "id": "UdXwjXcNYLN_"
      }
    },
    {
      "cell_type": "code",
      "source": [
        "text = 'abcdefg'\n",
        "x1 = text[0]\n",
        "x2 = text[3]\n",
        "x3 = text[-1]\n",
        "print(x1, x2, x3)"
      ],
      "metadata": {
        "id": "J-h6bSdrXuxO"
      },
      "execution_count": null,
      "outputs": []
    },
    {
      "cell_type": "code",
      "source": [
        "text = 'abcdefg'\n",
        "x1 = text[3:6]\n",
        "print(x1)"
      ],
      "metadata": {
        "id": "89BDZpnpXuu3"
      },
      "execution_count": null,
      "outputs": []
    },
    {
      "cell_type": "markdown",
      "source": [
        "## 문자열 공백 처리\n",
        "\n",
        "* strip함수를 사용하여 공백을 제거할 수 있습니다.\n",
        "* 앞뒤의 공백을 제거할 수 있습니다."
      ],
      "metadata": {
        "id": "ydqnXZQCYj7m"
      }
    },
    {
      "cell_type": "code",
      "source": [
        "# 문자열 공백처리 예제\n",
        "text = ' abcsdefd '\n",
        "stripped = text.strip()   # 앞 뒤 공백 제거(변경?)\n",
        "print('*'+ stripped +'*')"
      ],
      "metadata": {
        "id": "54kM1XheXutA"
      },
      "execution_count": null,
      "outputs": []
    },
    {
      "cell_type": "code",
      "source": [
        "text = ' abcdefg '\n",
        "\n",
        "#오른쪽 공백 제거 \n",
        "r_stripped = text.rstrip()\n",
        "print(r_stripped)\n",
        "\n",
        "#왼쪽 공백 제거 \n",
        "l_stripped = text.lstrip()\n",
        "print(l_stripped)"
      ],
      "metadata": {
        "id": "mYoF-HdgXuq0"
      },
      "execution_count": null,
      "outputs": []
    },
    {
      "cell_type": "markdown",
      "source": [
        "## 대소문자 구분 변환"
      ],
      "metadata": {
        "id": "-UYVS5ceY_Zz"
      }
    },
    {
      "cell_type": "code",
      "source": [
        "# 대문자로 변환\n",
        "text = 'abdEDfghr'\n",
        "upper_text = text.upper()\n",
        "print(upper_text)"
      ],
      "metadata": {
        "id": "Xr6CsXdmXuoq"
      },
      "execution_count": null,
      "outputs": []
    },
    {
      "cell_type": "code",
      "source": [
        "# 소문자로 변환\n",
        "text = 'abdEDfghr'\n",
        "lower_text = text.lower()\n",
        "print(lower_text)"
      ],
      "metadata": {
        "id": "2LMbMfhvXume"
      },
      "execution_count": null,
      "outputs": []
    },
    {
      "cell_type": "markdown",
      "source": [
        "## 문자열을 구분자로 분리하기\n",
        "\n",
        "split - 을 사용하면 지정한 구분 문자로 문자열을 분할한 리스트를 얻을 수 있습니다."
      ],
      "metadata": {
        "id": "aoT0Igo0ZM0g"
      }
    },
    {
      "cell_type": "code",
      "source": [
        "# 문장에 있는 모든 단어를 가져오고 싶을때\n",
        "\n",
        "text = \"Time is Zero. Simple is Best\"\n",
        "l = text.split(\" \")\n",
        "print(l)\n",
        "\n",
        "#['Time', 'is', 'Zero.', 'Simple', 'is', 'Best']"
      ],
      "metadata": {
        "id": "576plSgwXuj-"
      },
      "execution_count": null,
      "outputs": []
    },
    {
      "cell_type": "code",
      "source": [
        "# 문장에 있는 모든 단어를 가져오고 싶을때\n",
        "\n",
        "text = \"Time,is,Zero.,Simple,is,Best\"\n",
        "l = text.split(\",\")\n",
        "print(l)"
      ],
      "metadata": {
        "id": "2yLcJaFJZb3o"
      },
      "execution_count": null,
      "outputs": []
    },
    {
      "cell_type": "code",
      "source": [
        "# CSV 데이터를 읽어들일때;; 문자 -> 숫자 -> 문자로 받을때의 문제점\n",
        "\n",
        "# 고객식별자 / 고객정보 / Key\n",
        "# '00000092' -> 92 김진환 - '00000092' 데이터 분석가\n",
        "\n",
        "# SQL / Python -> CSV\n",
        "\n",
        "num = 92\n",
        "num_str = \"92\"\n",
        "zfilled = num_str.zfill(8)      # 92를 0을 붙여서 8자리로 만들기?\n",
        "print(zfilled, type(zfilled))\n"
      ],
      "metadata": {
        "id": "-0HfQsivZdEb"
      },
      "execution_count": null,
      "outputs": []
    },
    {
      "cell_type": "code",
      "source": [
        "num = 92 \n",
        "\n",
        "# DUP -> 키값이 중복된다.\n",
        "\n",
        "# 150만 ~200만\n",
        "\n",
        "# A table      B table            -> 구매데이터 \n",
        "# 92 김진환      92 김진환 기저귀          92 김진환 기저귀 \n",
        "#                                    92 김진환 맥주\n",
        "#             92 김진환 맥주"
      ],
      "metadata": {
        "id": "daOC1GPkZdCX"
      },
      "execution_count": null,
      "outputs": []
    },
    {
      "cell_type": "code",
      "source": [
        "#          기저귀 구매.  맥주 구매\n",
        "# 92 김진환       1         1"
      ],
      "metadata": {
        "id": "W7CHSw-QZdAA"
      },
      "execution_count": null,
      "outputs": []
    },
    {
      "cell_type": "markdown",
      "source": [
        "## 특정 문자열 포함 행만 추출하기\n",
        "\n",
        "문자열의 split과 리스트 컴프리핸션을 사용하면 특정 문자열을 포함하는 행만 추출 가능\n",
        "\n",
        "1. split을 사용하여 텍스트를 줄바꿈, 1행씩 리스트로 얻을 수 있음\n",
        "2. 리스트 컴프리핸션을 사용하여 특정 문자열을 포함하는 행 추출\n",
        "3. 원래 텍스트로부터 특정한 문자열을 포함하는 행만 추출한 텍스트를 만들 수 있다."
      ],
      "metadata": {
        "id": "38q6RA-Ac7Mc"
      }
    },
    {
      "cell_type": "code",
      "source": [
        "# 미션 - 데이터가 있는 행을 찾고 싶다.\n",
        "\n",
        "text = \"\"\"저는 김철수 입니다.\n",
        "        반갑습니다. 저는 데이터 분석가 입니다.\n",
        "        데이터로 일하는 것은 즐거운 일인데\n",
        "        더 열심히 배우겟습니다. 감사합니다. \"\"\"\n",
        "\n",
        "# 한줄씩 리스트로 생성\n",
        "lines = text.split(\"\\n\") #enter\n",
        "# 라인에서 \"데이터\" 단어가 있는 라인만 가져오기\n",
        "line_list = [line for line in lines if \"데이터\" in line]\n",
        "# 문자열 리스트로 연결하기\n",
        "# enter로 연결하여 출력\n",
        "new_text = \"\\n\".join(line_list)  # enter로 구분하여 출력\n",
        "print(new_text)\n"
      ],
      "metadata": {
        "id": "Xc4lHjhzZc9t"
      },
      "execution_count": null,
      "outputs": []
    },
    {
      "cell_type": "markdown",
      "source": [
        "## 텍스트의 빈 행 삭제하기"
      ],
      "metadata": {
        "id": "DlnCOw7MeDye"
      }
    },
    {
      "cell_type": "code",
      "source": [
        "text = \"\"\"저는 김철수 입니다.\n",
        "\n",
        "        반갑습니다. 저는 데이터 분석가 입니다.\n",
        "\n",
        "        데이터로 일하는 것은 즐거운 일인데\n",
        "        \n",
        "        더 열심히 배우겟습니다. 감사합니다. \"\"\""
      ],
      "metadata": {
        "id": "fJzd_uBcZc7D"
      },
      "execution_count": 10,
      "outputs": []
    },
    {
      "cell_type": "code",
      "source": [
        "lines = text.split(\"\\n\")\n",
        "print(lines)"
      ],
      "metadata": {
        "colab": {
          "base_uri": "https://localhost:8080/"
        },
        "id": "dpYVsC1iZc0m",
        "outputId": "0cf09439-ac77-4eb0-ea89-647d785c1e10"
      },
      "execution_count": 12,
      "outputs": [
        {
          "output_type": "stream",
          "name": "stdout",
          "text": [
            "['저는 김철수 입니다.', '', '        반갑습니다. 저는 데이터 분석가 입니다.', '', '        데이터로 일하는 것은 즐거운 일인데', '        ', '        더 열심히 배우겟습니다. 감사합니다. ']\n"
          ]
        }
      ]
    },
    {
      "cell_type": "code",
      "source": [
        "line_list = [line for line in lines if line.strip() != \"\"] # = 같다 != 다르다.\n",
        "# 리스트를 만든다음 공백을 없애기?\n",
        "\n",
        "#line_list = [line.strip() for line in lines if line.strip() != \"\"] # = 같다 != 다르다. \n",
        "# 공백을 없앤 상태에서 리스트 만들기\n",
        "\n",
        "print(line_list)"
      ],
      "metadata": {
        "colab": {
          "base_uri": "https://localhost:8080/"
        },
        "id": "WBcnT8zOZcyU",
        "outputId": "4cb68135-7a6a-4ddc-ad0b-9e78e982e12f"
      },
      "execution_count": 14,
      "outputs": [
        {
          "output_type": "stream",
          "name": "stdout",
          "text": [
            "['저는 김철수 입니다.', '        반갑습니다. 저는 데이터 분석가 입니다.', '        데이터로 일하는 것은 즐거운 일인데', '        더 열심히 배우겟습니다. 감사합니다. ']\n"
          ]
        }
      ]
    },
    {
      "cell_type": "code",
      "source": [
        "new_text = '\\n'.join(line_list)\n",
        "print(new_text)"
      ],
      "metadata": {
        "colab": {
          "base_uri": "https://localhost:8080/"
        },
        "id": "GMC1oPz7fU0l",
        "outputId": "9ca967f5-143c-42c6-9bc4-d8fa651b4773"
      },
      "execution_count": 15,
      "outputs": [
        {
          "output_type": "stream",
          "name": "stdout",
          "text": [
            "저는 김철수 입니다.\n",
            "        반갑습니다. 저는 데이터 분석가 입니다.\n",
            "        데이터로 일하는 것은 즐거운 일인데\n",
            "        더 열심히 배우겟습니다. 감사합니다. \n"
          ]
        }
      ]
    },
    {
      "cell_type": "markdown",
      "source": [
        "## 무작위로 문자열 생성하기"
      ],
      "metadata": {
        "id": "dPXofKAJlh4l"
      }
    },
    {
      "cell_type": "code",
      "source": [
        "import random \n",
        "\n",
        "letters = 'abcdefg'\n",
        "rl = random.choices(letters, k = 4)\n",
        "print(rl)\n"
      ],
      "metadata": {
        "id": "WMN-58pGfUyV"
      },
      "execution_count": null,
      "outputs": []
    },
    {
      "cell_type": "markdown",
      "source": [
        "# 정규표현식 "
      ],
      "metadata": {
        "id": "WJUMKXfRnf-L"
      }
    },
    {
      "cell_type": "code",
      "source": [
        "# 정규표현식 사용하기\n",
        "\n",
        "import re\n",
        "\n",
        "# 정규표현식 함수\n",
        "findall : 일치하는 문자열을 리스트로 반환\n",
        "split : 일치하는 문자열로 원재 문자열을 분할한 리스트로 반환\n",
        "sub : 일치하는 문자열을 치환한 문자열을 반환\n",
        "search : 일치하는 문자열이 있으면 Match 객체를 반환\n",
        "\n",
        "# 정규표현식\n",
        "\n",
        "# Chapter1\n",
        ". 줄바꿈 이외의 임의의 문자\n",
        "... 줄바꿈 이외의 임의의 3문자 \n",
        "^ 문자열의 시작\n",
        "^... 문자열 시작에서 3문자 \n",
        "$ 문자열의 끝\n",
        "...$ 문자열 끝에서 3문자 \n",
        "* 직전 정규표현식을 0회이상 반복\n",
        "ab*c abc또는 ac에 일치\n",
        "+ 직전 정규표현식을 1회이상 반복\n",
        "ab+c abc에 일치\n",
        "? 직전 정규표현식이 0~1회 존재\n",
        "abcd? abc또는 abcd에 일치\n",
        "| 둘중 하나\n",
        "ab|cd ab또는 cd에 일치\n",
        "\n",
        "# Chapter2\n",
        "(...) 소괄호 안을 그루핑\n",
        "\n",
        "[...] 대괄호 안의 문자 중 하나\n",
        "[^...] 대괄호 안의 문자 중 하나도 없음\n",
        "\n",
        "x(ab|cd) x로 시작해 ab또는 cd에 일치 (ab|cd 그룹)\n",
        "\n",
        "\\ 직후 정규표션식 기호 무시\n",
        "\\\\ \\에 일치\n",
        "\n",
        "{n} 직전 정규표현식의 반복 횟수\n",
        "{n,} 직전 정규표현식의 최소 반복 횟수\n",
        "{n,m} 직전 정규표현식의 반복 횟수 범위\n",
        "\n",
        "A{3} A가 3회 반복되면 일치\n",
        "A{3, }A가 3회 이상 반복되면 일치\n",
        "A{3, 6}A가 3~6회 이상 반복되면 일치\n",
        "\n",
        "# https://wikidocs.net/21703  교안"
      ],
      "metadata": {
        "id": "u1reqxjdlkEx"
      },
      "execution_count": null,
      "outputs": []
    },
    {
      "cell_type": "markdown",
      "source": [
        "## findall 함수"
      ],
      "metadata": {
        "id": "5nfZyPVapGqa"
      }
    },
    {
      "cell_type": "code",
      "source": [
        "# findall 함수를 사용하면 지정한 조건에 일치하는 문자열을 리스트로 얻을 수 있다.\n",
        "\n",
        "# re.함수(r) -> raw문자열이라고 \n",
        "# 이스케이프가 필요한 메타 문자를 무시하는 효과가 있음\n",
        "# 사용할때는 앞에 r을 붙이는것이 좋음"
      ],
      "metadata": {
        "id": "A7S1Baz5lkCZ"
      },
      "execution_count": null,
      "outputs": []
    },
    {
      "cell_type": "code",
      "source": [
        "import re\n",
        "\n",
        "text1 = \"In the face of ambiguity, refuse the temptation to guess\"\n",
        "text2 = \"tx ti tp te t1 t2\"\n",
        "match_list = re.findall(r\"t.\", text1)\n",
        "\n",
        "print(match_list)"
      ],
      "metadata": {
        "colab": {
          "base_uri": "https://localhost:8080/"
        },
        "id": "6IYIJP3Slj_w",
        "outputId": "73d259c4-991c-4f7f-ace8-89c43e87710e"
      },
      "execution_count": 17,
      "outputs": [
        {
          "output_type": "stream",
          "name": "stdout",
          "text": [
            "['th', 'ty', 'th', 'te', 'ta', 'ti', 'to']\n"
          ]
        }
      ]
    },
    {
      "cell_type": "code",
      "source": [
        "text2 = \"tx ti tp te t1 x2 t# t- t~\"\n",
        "match_list = re.findall(r\"t.\", text2)\n",
        "print(match_list)"
      ],
      "metadata": {
        "colab": {
          "base_uri": "https://localhost:8080/"
        },
        "id": "o9hRj-vwfUwI",
        "outputId": "c453c457-59fc-4ea2-f7d0-05aa480b5801"
      },
      "execution_count": 19,
      "outputs": [
        {
          "output_type": "stream",
          "name": "stdout",
          "text": [
            "['tx', 'ti', 'tp', 'te', 't1', 't#', 't-', 't~']\n"
          ]
        }
      ]
    },
    {
      "cell_type": "markdown",
      "source": [
        "## sub함수"
      ],
      "metadata": {
        "id": "R89Xa8jppQA0"
      }
    },
    {
      "cell_type": "code",
      "source": [
        "# 정규표현식으로 치환하기\n",
        "\n",
        "# sub함수를 사용하면 정규표현식으로 치환할 수 있습니다.\n",
        "\n",
        "import re\n",
        "\n",
        "text = \"Beautiful is better than ugly\"\n",
        "\n",
        "# sub(대체 해야할 문자 / 대체 할 문자 / 데이터)\n",
        "replaced = re.sub(r\" \", \"_\", text) #공백문자는 \\s로도 쓰입니다.\n",
        "\n",
        "print(replaced)"
      ],
      "metadata": {
        "colab": {
          "base_uri": "https://localhost:8080/"
        },
        "id": "NMzeZjohpNGr",
        "outputId": "03ba742f-688b-42e8-886c-adf540cb27c0"
      },
      "execution_count": 20,
      "outputs": [
        {
          "output_type": "stream",
          "name": "stdout",
          "text": [
            "Beautiful_is_better_than_ugly\n"
          ]
        }
      ]
    },
    {
      "cell_type": "code",
      "source": [
        "# 정규표현식으로 치환하기\n",
        "\n",
        "# sub함수를 사용하면 정규표현식으로 치환할 수 있습니다.\n",
        "\n",
        "import re\n",
        "\n",
        "text = \"Beautiful is better than ugly\"\n",
        "#sub(대체 해야할 문자 / 대체 할 문자 / 데이터)\n",
        "replaced = re.sub(r\"\\s\", \"_\", text) # 공백문자는 \\s로도 쓰입니다.  \n",
        "print(replaced)"
      ],
      "metadata": {
        "id": "TmwR_QXCqhU6"
      },
      "execution_count": null,
      "outputs": []
    },
    {
      "cell_type": "markdown",
      "source": [
        "## 텍스트 분할 하기"
      ],
      "metadata": {
        "id": "CegzCiUhqv55"
      }
    },
    {
      "cell_type": "code",
      "source": [
        "# 정규표현식으로 텍스트 분할하기\n",
        "\n",
        "# split 함수를 사용하면 정규 표현식에 일치한 위치에서 분할한 문자열 리스트를 얻을 수 있습니다.\n",
        "\n",
        "text = 'Simple is Best'\n",
        "# ^ -> 문자의 시작 \n",
        "# + -> 직전 정규표현식을 1회이상 반복\n",
        "replaced = re.split((r\"[^a-zA-Z]+\"), text)\n",
        "print(replaced)\n",
        "\n",
        "# [^a-zA-Z0-9]+는 정규 표현식(regular expression)에서 사용되는 특수한 패턴으로, \n",
        "# 알파벳 대소문자와 숫자가 아닌 문자들이 하나 이상 연속해서 나타나는 경우를 의미합니다.\n",
        "# 결국 공백을 구분자로 해서 분리"
      ],
      "metadata": {
        "colab": {
          "base_uri": "https://localhost:8080/"
        },
        "id": "MooDIfm_qhQa",
        "outputId": "7601bd01-27cd-4216-9f8b-53600aff0d89"
      },
      "execution_count": 22,
      "outputs": [
        {
          "output_type": "stream",
          "name": "stdout",
          "text": [
            "['Simple', 'is', 'Best']\n"
          ]
        }
      ]
    },
    {
      "cell_type": "markdown",
      "source": [
        "## 정규표현식에서 그룹 이용하기"
      ],
      "metadata": {
        "id": "ajLIRx30sH9-"
      }
    },
    {
      "cell_type": "code",
      "source": [
        "# 정규표현식의 그룹은 데이터 분석 할때 자주 사용하는 기능으로\n",
        "# 원하는 객체를 그루핑할 수 있다라는 장점이 있습니다.\n",
        "\n",
        "# 제품 -> [0-9]+\n",
        "# 카탈로그 코드 [0-9A-Z]+\n",
        "# 제품명 .*\n",
        "# 구분 문자 공백\n",
        "\n",
        "# ([0-9]+) +([ 0-9 A-Z]+) +(.*)\n",
        "\n",
        "#홈쇼핑#\n",
        "text = \"\"\"\n",
        "101 CF001 커피 \n",
        "102 CF002 커피(대용량)\n",
        "201 TE01 홍차\n",
        "202 TE02 홍차(대용량)\n",
        "\"\"\"\n",
        "#group 1 \n",
        "#group 2\n",
        "#group 3\n",
        "items = re.findall(r'([0-9]+) +([ 0-9 A-Z]+) +(.*)', text)\n",
        "print(items)"
      ],
      "metadata": {
        "id": "0aNTsTqOqhL3"
      },
      "execution_count": null,
      "outputs": []
    },
    {
      "cell_type": "markdown",
      "source": [
        "## 정규표현식에서 일치하는 부분 확인"
      ],
      "metadata": {
        "id": "1g3zdviKCNcJ"
      }
    },
    {
      "cell_type": "code",
      "source": [
        "# 정규표현식과 일치하는 부분 확인\n",
        "\n",
        "# re 모듈의 serach함수는 정규표현식과 일치하는 첫 번째 위치 정보가 저장된 Match 객체를 반환\n",
        "# Match 객체를 사용하면 일치하는 위치의 문자열과 함께 시작 및 종료 위치 정보 확보 가능\n",
        "\n",
        "# match객체\n",
        "# start , end , group, groups 튜플 그룹\n",
        "\n",
        "import re\n",
        "\n",
        "text = 'Error should never pass silently'\n",
        "\n",
        "m_obj = re.search(r\"p...\", text)\n",
        "print(m_obj.group()) # 일치 문자열 ()로 묶인 것인 없음\n",
        "print(m_obj.start()) # 시작 인덱스\n",
        "print(m_obj.end()) # 끝 인덱스"
      ],
      "metadata": {
        "id": "U54hBUdqCORV"
      },
      "execution_count": null,
      "outputs": []
    },
    {
      "cell_type": "code",
      "source": [
        "import re\n",
        "\n",
        "text = 'Errors should never pass silently'\n",
        "# 1번 그룹 - n.... n다음에 4글자가 아무거나\n",
        "# 2번 그룹 - P... n다음에 3글자가 아무거나\n",
        "\n",
        "m_obj = re.search(r\"(n....) (p...)\", text)\n",
        "print(m_obj.group())\n",
        "print(m_obj.groups())\n",
        "\n",
        "print(m_obj.start()) # 시작 인덱스\n",
        "print(m_obj.end()) # 끝 인덱스"
      ],
      "metadata": {
        "id": "Y1co-gdppNBM"
      },
      "execution_count": null,
      "outputs": []
    },
    {
      "cell_type": "markdown",
      "source": [
        "## Greedy, Lazy 개념"
      ],
      "metadata": {
        "id": "QE3dBv2aDVhL"
      }
    },
    {
      "cell_type": "code",
      "source": [
        "# Greedy, Lazy 사용하기\n",
        "# 정규표현식이 패턴에 일치하는 문자열을 추출할때\n",
        "# 일치하는 최대한의 범위를 추출하는 상태를 greedy(탐욕)이라고 한다.\n",
        "\n",
        "# 최소한은 Lazy라고 하는데 파이썬은 기본적으로 greedy하지만\n",
        "# ?를 붙이는 순간 Lazy해진다. \n",
        "\n",
        "import re\n",
        "\n",
        "text = 'In the face of ambiguity, refuse the temptation to guess'\n",
        "match_list = re.findall(r\"t.*\\s\", text) # t에서 아무문자나 해서 직전까지 0번 반복되어 공백까지\n",
        "print(match_list)"
      ],
      "metadata": {
        "colab": {
          "base_uri": "https://localhost:8080/"
        },
        "id": "9kaHlk0xpM-c",
        "outputId": "5ebb4bcf-6e9c-4139-b447-dacc98a20d66"
      },
      "execution_count": 25,
      "outputs": [
        {
          "output_type": "stream",
          "name": "stdout",
          "text": [
            "['the face of ambiguity, refuse the temptation to ']\n"
          ]
        }
      ]
    },
    {
      "cell_type": "code",
      "source": [
        "import re\n",
        "\n",
        "text = 'In the face of ambiguity, refuse the temptation to guess'\n",
        "\n",
        "# ?를 붙이면 t에서 가장 가까운 공백까지만 일치하는 것을 찾는 것을 볼 수 있음\n",
        "match_list = re.findall(r\"t.*?\\s\", text) # t에서 아무문자나 해서 직전까지 0번 반복되어 공백까지\n",
        "\n",
        "print(match_list)"
      ],
      "metadata": {
        "id": "eXJe8KydpM7x"
      },
      "execution_count": null,
      "outputs": []
    },
    {
      "cell_type": "code",
      "source": [
        "# 정규표현식 실습\n",
        "\n",
        "[우리가 자주 사용할 함수]\n",
        "\n",
        "* findall - 일치하는 문자열을 리스트로 반환\n",
        "* split - 일치하는 문자열로 원래 문자열을 분할한 리스트로 반환\n",
        "* sub - 일치하는 문자열을 치환한 문자열을 반환\n",
        "* search - 일치하는 문자열이 있으면 match 객체를 반환\n",
        "\n",
        "[대표적인 정규표현식]\n",
        "\n",
        "* . 줄바꿈 이외의 임의의 문자\n",
        "* ^ 문자열 시작\n",
        "* $ 문자열의 끝, 또는 문자열 끝 줄바꿈 직전\n",
        "* * 직전 정규표현식은 0회 이상 반복\n",
        "* + 직전 정규표현식을 1회 이상 반복\n",
        "* ? 직전 정규표현식이 0회 또는 1회 존재\n",
        "\n",
        "[자주 사용하는 문자 클래스]\n",
        "# 꼭 기억해야할 정규표현식\n",
        "* \\d 숫자와 매치 [0-9]와 같다.\n",
        "* \\D 숫자가 아닌것과 매치 [^0-9]와 같다.\n",
        "\n",
        "* \\s whitespace문자와 매치 [ \\t\\n\\r\\f\\v]와 같음. 맨앞의 빈칸은 공백을 의미\n",
        "* \\S whitespace문자가 아닌것과 매치 [^ \\t\\n\\r\\f\\v]와 같음.\n",
        "\n",
        "* \\w 문자+숫자와 매치 [a-zA-Z0-9]와 같습니다.\n",
        "* \\W 문자+숫자가 아닌 문자와 매치 [^a-zA-Z0-9]와 같습니다.\n",
        "\n",
        "* \\ 메타 문자가 아닌 일반 문자 역슬래시와 매치. 매타 문자 앞에 W를 붙이면 일반문자를 위미"
      ],
      "metadata": {
        "id": "_9Ro-TuyGaOH"
      },
      "execution_count": null,
      "outputs": []
    },
    {
      "cell_type": "code",
      "source": [
        "# 주소록입니다. 이후 강의에서 모두 이 search_target을 사용합니다.\n",
        "search_target = '''\n",
        "hello world\n",
        "hello  world\n",
        "hello, world\n",
        "Hello World\n",
        "\n",
        "hello world hello\n",
        "\n",
        "hello\n",
        "hallo\n",
        "hollo\n",
        "heallo\n",
        "yellow\n",
        "\n",
        "Monday Tuesday Wednesday Thursday Friday Saturday Sunday\n",
        "\n",
        "abcdefghijklmnopqrstuvwxyzABCDEFGHIJKLMNOPQRSTUVWXYZ01234567891011121314151617181920\n",
        "aaabbcaaabbcabcabc\n",
        "aaa bb c aaa bb c a b c a b c\n",
        "aaa1bb2c3aaa4bb5c6\n",
        "\n",
        "[123456]\n",
        "123[456]789\n",
        "abc[def]ghij\n",
        "\n",
        "010-9091-5491\n",
        "010-5043-2901\n",
        "010-5050-40409\n",
        "010-49492-3131\n",
        "010 2913 3132\n",
        "01019133829\n",
        "064-721-3213\n",
        "010.1913.3829\n",
        "\n",
        "\n",
        "paul-korea@naver.com\n",
        "paul@naver.com\n",
        "leehojun@gmail.com\n",
        "hojun.lee@gmail.com\n",
        "test.test@go.go.go\n",
        "\n",
        "\n",
        "https://github.com/LiveCoronaDetector/livecod\n",
        "github.com/LiveCoronaDetector/livecod\n",
        "https://github.com/LiveCoronaDetector\n",
        "\n",
        "I never dreamed about success, I worked for it.\n",
        "Do not be afraid to give up the good to go for the great.\n",
        "\n",
        "hello (hello world) hello\n",
        "hello \\hello world// hello\n",
        "^^\n",
        ":)\n",
        "\n",
        "[(name, leehojun), (age, 10), (height, 180), (email, paul-lab@naver.com)]\n",
        "{name : leehojun, age : 10, height : 180, email : paul-lab@naver.com}\n",
        "\n",
        "가나다라마바사아자차카타파하\n",
        "ㄱㄴㄷㄹㅁㅂㅅㅇㅈㅊㅋㅌㅍㅎ\n",
        "안녕하세요\n",
        "안녕-하세요\n",
        "수사\n",
        "수박\n",
        "수상\n",
        "동해 물과 백두산이 마르고 닳도록 하느님이 보호하사 우리나라 만세\n",
        "'''"
      ],
      "metadata": {
        "id": "MfOgderrHLMM"
      },
      "execution_count": 29,
      "outputs": []
    },
    {
      "cell_type": "code",
      "source": [
        "print(search_target)"
      ],
      "metadata": {
        "id": "2Na9zJtcHv6q"
      },
      "execution_count": null,
      "outputs": []
    },
    {
      "cell_type": "code",
      "source": [
        "regex = r'\\d'  # 숫자 대표 정규표현식\n",
        "\n",
        "regex = r'\\w'  # 글자, 숫자 대표 정규표현식\n",
        "\n",
        "# 정규표현식과 일치하는 부분을 모두 찾아주는 파이썬 코드입니다.\n",
        "import re\n",
        "result = re.findall(regex, search_target)\n",
        "print(\"\\n\".join(result))"
      ],
      "metadata": {
        "id": "g0_YqdlwIDhf"
      },
      "execution_count": null,
      "outputs": []
    },
    {
      "cell_type": "code",
      "source": [
        "# Hello 단어를 검색봅시다.\n",
        "regex = r'hello'\n",
        "\n",
        "# 정규표현식과 일치하는 부분을 모두 찾아주는 파이썬 코드입니다.\n",
        "import re\n",
        "result = re.findall(regex, search_target)\n",
        "print(\"\\n\".join(result))"
      ],
      "metadata": {
        "id": "fGWqR5syID8m"
      },
      "execution_count": null,
      "outputs": []
    },
    {
      "cell_type": "code",
      "source": [
        "# 맨처음에 와야하는 것 ^\n",
        "m1 = re.findall(\"^Life\", \"Life is too short\")\n",
        "m2 = re.findall(\"^is\", \"Life is too short\")\n",
        "\n",
        "print(\"m1 결과 : \", m1)\n",
        "print(\"m1 결과 : \", m2)"
      ],
      "metadata": {
        "id": "wbgWYpfGID0U"
      },
      "execution_count": null,
      "outputs": []
    },
    {
      "cell_type": "code",
      "source": [
        "# 맨 마지막에 와야하는 것\n",
        "m1 = re.findall(\"short$\", \"Life is too short\")\n",
        "m2 = re.findall(\"short$\", \"Life is too short. So what?\")\n",
        " \n",
        "print(\"m1 결과 : \", m1)\n",
        "print(\"m2 결과 : \", m2)"
      ],
      "metadata": {
        "id": "r8meDUR8IDpY"
      },
      "execution_count": null,
      "outputs": []
    },
    {
      "cell_type": "code",
      "source": [
        "# 특정문자 1개 . <-\n",
        "regex = re.compile('ema.l')   # email, emmall 등 을 찾음\n",
        "\n",
        "# 정규표현식과 일치하는 부분을 모두 찾아주는 파이썬 코드입니다.\n",
        "import re\n",
        "result = re.findall(regex, search_target)\n",
        "print(\"\\n\".join(result))"
      ],
      "metadata": {
        "id": "Ul-GW2lUNFdM"
      },
      "execution_count": null,
      "outputs": []
    },
    {
      "cell_type": "code",
      "source": [
        "# 특정문자 6개 . (공백포함)\n",
        "regex = re.compile('......')   # 공백포함 6글자 찾음\n",
        "\n",
        "# 정규표현식과 일치하는 부분을 모두 찾아주는 파이썬 코드입니다.\n",
        "import re\n",
        "result = re.findall(regex, search_target)\n",
        "print(\"\\n\".join(result))"
      ],
      "metadata": {
        "id": "6gx9PxXCNt1m"
      },
      "execution_count": null,
      "outputs": []
    },
    {
      "cell_type": "code",
      "source": [
        "# 여러 가지 중에 택 1해서 찾기\n",
        "\n",
        "regex = re.compile(r'h[aey]llo')   # h[아무문자]llo  ->  hello, hollo, hallo 등등\n",
        "                                   # h[a-f]llo  ->  hallo, hbllo,,, hfllo\n",
        "                                   # h[a-zA-Z0-9]llo  ->  한글 제외 모든 문자?  가-힣ㄱ-ㅎ\n",
        "\n",
        "# 정규표현식과 일치하는 부분을 모두 찾아주는 파이썬 코드입니다.\n",
        "import re\n",
        "result = re.findall(regex, search_target)\n",
        "print(\"\\n\".join(result))"
      ],
      "metadata": {
        "id": "FPCGikNGOOIO"
      },
      "execution_count": null,
      "outputs": []
    },
    {
      "cell_type": "code",
      "source": [
        "# 여러 가지 중에 택 1해서 찾기\n",
        "\n",
        "regex = re.compile(r'h[aey]llo', re,I)   # I -> 대소문자 구분 X\n",
        "\n",
        "# 정규표현식과 일치하는 부분을 모두 찾아주는 파이썬 코드입니다.\n",
        "import re\n",
        "result = re.findall(regex, search_target)\n",
        "print(\"\\n\".join(result))"
      ],
      "metadata": {
        "id": "e7GY1QE4O2ga"
      },
      "execution_count": null,
      "outputs": []
    },
    {
      "cell_type": "code",
      "source": [
        "# 서브패턴\n",
        "\n",
        "# 소괄호를 사용하면 정규식 일부 패턴을 그룹화 할 수 있습니다.\n",
        "# 이 정규식 그룹은 그룹 캡처기능이라고 불리는데\n",
        "# 정규식 그룹은 번호가 매겨진 캡처그룹을 생성하고, 괄호안에 정규식 부분과\n",
        "# 일치하는 문자열을 저장합니다.\n",
        "# 그 캡처 번호를 사용하여 문자열 부분을 불러와 사용할 수 있습니다.\n",
        "\n",
        "# 주의할점은 캡처에 정규식 패턴이 저장된다고 착각할 수 잇지만\n",
        "# 캡처는 캡처는 패턴으로 찾은 문자열을 저장한다.\n",
        " \n",
        "# ?:는 그룹이지만 캡처를 저장하지 않음 \n",
        "\n",
        "# 빈칸에 정규표현식을 적습니다.\n",
        "regex = re.compile('(on|ues|rida)') #그룹 1로 3개 중 매칭되는 패턴 (on / ues / rida)\n",
        "\n",
        "# 그룹 안에 매칭이 된 것만 출력이 되는 형태\n",
        "\n",
        "# 정규표현식과 일치하는 부분을 모두 찾아주는 파이썬 코드입니다.\n",
        "import re\n",
        "result = re.findall(regex, search_target)\n",
        "print(\"\\n\".join(result))"
      ],
      "metadata": {
        "id": "VKC9E1sVQvRo"
      },
      "execution_count": null,
      "outputs": []
    },
    {
      "cell_type": "code",
      "source": [
        "# 서브패턴\n",
        "\n",
        "# 빈칸에 정규표현식을 적습니다.\n",
        "regex = re.compile('(Mon|Tues|Fri)day') # 그룹 1로 3개 중 매칭되는 패턴 \n",
        "                                        # monday ... friday를 찾지만 그룹은 mon,,, fri 으로 되어있음\n",
        "\n",
        "# 정규표현식과 일치하는 부분을 모두 찾아주는 파이썬 코드입니다.\n",
        "import re\n",
        "result = re.findall(regex, search_target)\n",
        "print(\"\\n\".join(result))"
      ],
      "metadata": {
        "id": "mgRAkdMwSHWP"
      },
      "execution_count": null,
      "outputs": []
    },
    {
      "cell_type": "code",
      "source": [
        "# 서브패턴\n",
        "\n",
        "# 빈칸에 정규표현식을 적습니다.\n",
        "regex = re.compile('(?:Mon|Tues|Fri)day') # ?: -> 그룹을 사용하지 않음\n",
        "\n",
        "# 정규표현식과 일치하는 부분을 모두 찾아주는 파이썬 코드입니다.\n",
        "import re\n",
        "result = re.findall(regex, search_target)\n",
        "print(\"\\n\".join(result))"
      ],
      "metadata": {
        "id": "K5koGCZpSIcQ"
      },
      "execution_count": null,
      "outputs": []
    },
    {
      "cell_type": "code",
      "source": [
        "# 서브패턴 \n",
        "\n",
        "import re\n",
        "\n",
        "text = \"tomato potato\"\n",
        "\n",
        "p1 = \"(tom|pot)ato\"    # 그룹으로 묶인건 그 단어 (tom|pot)을 출력\n",
        "p2 = \"(?:tom|pot)ato\"  # 그룹으로 묶이지 않은것은 캡처하지 않겠다고 매칭 tomato와 potato가 출력\n",
        "\n",
        "m1 = re.findall(p1, text)\n",
        "m2 = re.findall(p2, text)\n",
        "\n",
        "print(\"m1 결과 : \", m1)\n",
        "print(\"m2 결과 : \", m2)"
      ],
      "metadata": {
        "id": "M0maTAy_VmPa"
      },
      "execution_count": null,
      "outputs": []
    },
    {
      "cell_type": "code",
      "source": [
        "# 수량자 휴대폰 번호 입력하기\n",
        "\n",
        "# 빈칸에 정규표현식을 적습니다.\n",
        "regex = re.compile('[0-9]{3}[-.* ][0-9]{4,5}[-.* ][0-9]{4}') # 숫자 사이에 '-', '.', '*', ' ' 이 들어가는 것을 찾음\n",
        "                                                             # {4,5}  -> 4자리, 5자리를 찾음\n",
        "\n",
        "# 1. [0에서 9까지]{3개}[- 나 . 앞에 있는 문자 0~N개]\n",
        "# 2. [0에서 9까지]{4개}[- 나 . 앞에 있는 문자 0~N개]\n",
        "# 3. [0에서 9까지]{4개}[- 나 .]\n",
        "\n",
        "# 정규표현식과 일치하는 부분을 모두 찾아주는 파이썬 코드입니다.\n",
        "import re\n",
        "result = re.findall(regex, search_target)\n",
        "print(\"\\n\".join(result))"
      ],
      "metadata": {
        "id": "ImyDURXYVnXF"
      },
      "execution_count": null,
      "outputs": []
    },
    {
      "cell_type": "code",
      "source": [
        "# 수량자\n",
        "\n",
        "# 빈칸에 정규표현식을 적습니다.\n",
        "regex = re.compile('[0-9a-zA-Z]+@[0-9a-zA-Z]+.[a-zA-Z]+')   # 이메일 찾기\n",
        "\n",
        "# 1. [0에서 9까지 + 영문자]{+@}\n",
        "# 2. [0에서 9까지 + 영문자].\n",
        "# 3. [영문자_ 1개 이상]\n",
        "\n",
        "# 정규표현식과 일치하는 부분을 모두 찾아주는 파이썬 코드입니다.\n",
        "import re\n",
        "result = re.findall(regex, search_target)\n",
        "print(\"\\n\".join(result))"
      ],
      "metadata": {
        "id": "TLzg1_MNbyKq"
      },
      "execution_count": null,
      "outputs": []
    },
    {
      "cell_type": "code",
      "source": [
        "# 캐릭터 클래스\n",
        "\n",
        "# 빈칸에 정규표현식을 적습니다.\n",
        "regex = re.compile('\\W') # 글자가 아닌것 \n",
        "regex = re.compile('\\D') # 숫자가 아닌것 \n",
        "regex = re.compile('\\S') # 공백이 아닌것 \n",
        "\n",
        "# 1. [0에서 9까지 + 영문자]{+@}\n",
        "# 2. [0에서 9까지 + 영문자].\n",
        "# 3. [영문자_ 1개 이상]\n",
        "\n",
        "# 정규표현식과 일치하는 부분을 모두 찾아주는 파이썬 코드입니다.\n",
        "import re\n",
        "result = re.findall(regex, search_target)\n",
        "print(\"\\n\".join(result))"
      ],
      "metadata": {
        "id": "dM-m0EsJci8j"
      },
      "execution_count": null,
      "outputs": []
    },
    {
      "cell_type": "code",
      "source": [
        "# 이스케이프 문자\n",
        "\n",
        "# 이스케이프 문자\n",
        "\n",
        "# 빈칸에 정규표현식을 적습니다.\n",
        "regex = re.compile('\\[.*]') #대괄호([]) 안에 감싸여진 문자열 0~N개\n",
        "\n",
        "# 정규표현식과 일치하는 부분을 모두 찾아주는 파이썬 코드입니다.\n",
        "import re\n",
        "result = re.findall(regex, search_target)\n",
        "print(\"\\n\".join(result))"
      ],
      "metadata": {
        "id": "fSbCo1pZdbKD"
      },
      "execution_count": null,
      "outputs": []
    },
    {
      "cell_type": "code",
      "source": [
        "# 이스케이프 문자\n",
        "\n",
        "# 빈칸에 정규표현식을 적습니다.\n",
        "regex = re.compile('-.*-') #\b이스케이프 문자를 사용할 필요가 없는 경우\n",
        "# - 이스케이스 문자를 사용할 필요 없음\n",
        "\n",
        "# 정규표현식과 일치하는 부분을 모두 찾아주는 파이썬 코드입니다.\n",
        "import re\n",
        "result = re.findall(regex, search_target)\n",
        "print(\"\\n\".join(result))"
      ],
      "metadata": {
        "id": "owpgtuBwdbAT"
      },
      "execution_count": null,
      "outputs": []
    },
    {
      "cell_type": "code",
      "source": [
        "# 이스케이프 문자\n",
        "\n",
        "# 빈칸에 정규표현식을 적습니다.\n",
        "regex = re.compile('\\^\\^') #이스케이프 문자가 필요한 경우\n",
        "\n",
        "# 정규표현식과 일치하는 부분을 모두 찾아주는 파이썬 코드입니다.\n",
        "import re\n",
        "result = re.findall(regex, search_target)\n",
        "print(\"\\n\".join(result))"
      ],
      "metadata": {
        "id": "8YKQUQIAda28"
      },
      "execution_count": null,
      "outputs": []
    },
    {
      "cell_type": "code",
      "source": [
        "# 이스케이프 문자\n",
        "\n",
        "# 빈칸에 정규표현식을 적습니다.\n",
        "regex = re.compile(':\\)') #이스케이프 문자가 필요한 경우\n",
        "\n",
        "# 정규표현식과 일치하는 부분을 모두 찾아주는 파이썬 코드입니다.\n",
        "import re\n",
        "result = re.findall(regex, search_target)\n",
        "print(\"\\n\".join(result))"
      ],
      "metadata": {
        "id": "gwd3AUCqex13"
      },
      "execution_count": null,
      "outputs": []
    },
    {
      "cell_type": "markdown",
      "source": [
        "## 정규표현식 실습하기"
      ],
      "metadata": {
        "id": "yl7kTptYezGC"
      }
    },
    {
      "cell_type": "code",
      "source": [
        "# 여러분들이 논문을 쓸때 나중에 참고자료에 대한 인용구를 많이 활용하게 될것입니다.\n",
        "# 이를 쉽게 모으고 싶을때.. 있지 않으신가요?\n",
        "# 논문 보기\n",
        "\n",
        "import re\n",
        "\n",
        "example = '앞서 논문은 이러한 연구를 진행하였습니다(홍길동, 2019). 하지만 그런 것들을 개량하여 다음 논문이 나오게 되었고(임꺽정, 2020), 마지막으로 두가지를 모두 결합한 새로운 연구가 개발되었습니다.(심청이, 2021)'\n",
        "\n",
        "print(example)"
      ],
      "metadata": {
        "id": "Jq7DxyLVe0Dy"
      },
      "execution_count": null,
      "outputs": []
    },
    {
      "cell_type": "code",
      "source": [
        "# 여기서 인용구만 빼고 싶으면 다음과 같이 사용하면 됩니다.\n",
        "\n",
        "result = re.findall(r'\\([A-Za-z가-힣]+, \\d+\\)',example)\n",
        "\n",
        "print(result)"
      ],
      "metadata": {
        "id": "qAmA-Cb_jufD"
      },
      "execution_count": null,
      "outputs": []
    },
    {
      "cell_type": "markdown",
      "source": [
        "[문자열 규칙에 r을 붙이는 이유]\n",
        "\n",
        "정규표현식에서 문자열을 사용할 때는 앞에 r을 붙이는 것을 추천\n",
        "만약 문자열이 \\문자가 있다면 파이썬은 그 다음 문자를 그대로 인식하지 않고, 컴퓨터에 명령하기 위한 명령어로 인식 \n",
        "\n",
        "그렇기 때문에 \\와 함께 사용하는 문자를 이스케이프문자라고 합니다.\n",
        "\n",
        "이스케이프 문자를 사용하고 싶지 않다면 \\앞에 \\를 하나 더 붙여서 \\를 일반문자로 인식시키면되고\n",
        "\n",
        "만약에 그렇게 하기 어렵다면 r을 붙이는 방법이 있다. r을 붙이면 그 뒤에 나오는 문자열에 들어 있는 문자를 모두 일반 문자로 인식합니다."
      ],
      "metadata": {
        "id": "JBXQHGPNjyf_"
      }
    },
    {
      "cell_type": "code",
      "source": [
        "# 정규표현식에서 .는 모든 문자를 의미하죠? \n",
        "# 그래서 필요한 문자 외에 다른 문자들도 집어삼켜버립니다.\n",
        "\n",
        "# 만약에 이런글을 썼다고 해보죠\n",
        "import re\n",
        "example = '저희 첫째아들은 2020년에 태어났구요. 저희 둘째 아들은 23년에 태어났는데 셋째는 26년에 가질 예정이에요'\n",
        "\n",
        "re.findall(r'\\d.+?년', example)"
      ],
      "metadata": {
        "id": "sB8xOrxcjuTQ"
      },
      "execution_count": null,
      "outputs": []
    },
    {
      "cell_type": "code",
      "source": [
        "# 정규표현식에서 .는 모든 문자를 의미하죠? \n",
        "# 그래서 필요한 문자 외에 다른 문자들도 집어삼켜버립니다.\n",
        "\n",
        "# 만약에 이런글을 썼다고 해보죠\n",
        "import re\n",
        "example = '저희 첫째아들은 2020년에 태어났구요. 저희 둘째 아들은 23년에 태어났는데 셋째는 26년에 가질 예정이에요'\n",
        "\n",
        "re.findall(r'\\d+.년', example)"
      ],
      "metadata": {
        "id": "ofsu3TSBjuEI"
      },
      "execution_count": null,
      "outputs": []
    },
    {
      "cell_type": "code",
      "source": [
        "# split\n",
        "\n",
        "sentense = '나는 집에 갔습니다. 그리고 밥은 먹었어요. 또 청소를 했어요. 그리고 잠을 잤어요.'\n",
        "re.split(r'[.]', sentense)"
      ],
      "metadata": {
        "id": "QEUfZjTTjt29"
      },
      "execution_count": null,
      "outputs": []
    },
    {
      "cell_type": "code",
      "source": [
        "# 이런 파일이 있을수 있어요\n",
        "# , ; \n",
        "\n",
        "data = 'a:3;b:4;c:5'\n",
        "for i in re.split(r';', data):\n",
        "  print(i)"
      ],
      "metadata": {
        "id": "RMU5PwHxjtrQ"
      },
      "execution_count": null,
      "outputs": []
    },
    {
      "cell_type": "code",
      "source": [
        "# 이런 파일이 있을수 있어요\n",
        "data = 'a:3;b:4;c:5'\n",
        "for i in r';re.split(', data):\n",
        "  print(re.split(r':', i))\n"
      ],
      "metadata": {
        "id": "ai1Cz2IhjthB"
      },
      "execution_count": null,
      "outputs": []
    },
    {
      "cell_type": "code",
      "source": [
        "sentence = '나는 동물 키우는것을 좋아합니다. 그 중 강아지를 키우는데 이름은 꽃님이에요. 날씨가 화창한 날이면 꽃님이와 산책가고 싶어져요'\n",
        "print(sentence)"
      ],
      "metadata": {
        "id": "-7rCcW-RjtXZ"
      },
      "execution_count": null,
      "outputs": []
    },
    {
      "cell_type": "code",
      "source": [
        "re.sub(r'꽃님이', '또리', sentence)"
      ],
      "metadata": {
        "id": "CBiaUuJNjtOX"
      },
      "execution_count": null,
      "outputs": []
    },
    {
      "cell_type": "code",
      "source": [
        "# 만약에 다음과 같이 공백이 있으면 어떻게 처리하면 좋을까요 공백만 다 제거해도 좋을거같아요\n",
        "sentence = '\\n\\n 나는 동물 키우는것을 좋아합니다. \\n\\n 그 중 강아지를 키우는데 이름은 꽃님이에요. \\n\\n날씨가 화창한 날이면 꽃님이와 산책가고 싶어져요 \\n\\n'\n",
        "print(sentence)"
      ],
      "metadata": {
        "id": "LaA4u3A2j9Jv"
      },
      "execution_count": null,
      "outputs": []
    },
    {
      "cell_type": "code",
      "source": [
        "# 실제로 내가 띄워놓았던 공백을 제외하고는 모든 공백이 처리된것을 볼 수 있어요\n",
        "print(re.sub('\\n', '', sentence))"
      ],
      "metadata": {
        "id": "_8Veo2LCj-W2"
      },
      "execution_count": null,
      "outputs": []
    }
  ]
}