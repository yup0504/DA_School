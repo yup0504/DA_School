{
  "nbformat": 4,
  "nbformat_minor": 0,
  "metadata": {
    "colab": {
      "provenance": []
    },
    "kernelspec": {
      "name": "python3",
      "display_name": "Python 3"
    },
    "language_info": {
      "name": "python"
    }
  },
  "cells": [
    {
      "cell_type": "code",
      "execution_count": 1,
      "metadata": {
        "colab": {
          "base_uri": "https://localhost:8080/"
        },
        "id": "Vq-qFQVs_eVz",
        "outputId": "7b0425c3-feb5-4e11-cd31-c99a2cb2f425"
      },
      "outputs": [
        {
          "output_type": "stream",
          "name": "stdout",
          "text": [
            "  학생번호  학년  영어   국어  수학  전체성적  전체성적순위\n",
            "0  008   2  94   98  91   283       1\n",
            "1  010   3  79   89  91   259       2\n",
            "2  007   1  71   88  99   258       3\n",
            "3  001   3  95  100  62   257       4\n",
            "4  003   2  62   90  90   242       5\n",
            "5  005   3  61   96  81   238       6\n",
            "6  002   1  75   86  70   231       7\n",
            "7  004   2  65   67  81   213       8\n",
            "8  009   2  66   71  64   201       9\n",
            "9  006   3  60   65  67   192      10\n"
          ]
        }
      ],
      "source": [
        "import random\n",
        "import pandas as pd\n",
        "\n",
        "# 학생 데이터 생성\n",
        "def generate_student_data(num_students):\n",
        "    student_data = []\n",
        "    for i in range(1, num_students+1):\n",
        "        student_number = f'{i:03}'  # 학생번호 생성 (예: 001, 002, ...)\n",
        "        grade = random.randint(1, 3)  # 학년 랜덤 생성 (1~3 중 선택)\n",
        "        english_score = random.randint(60, 100)  # 영어 점수 랜덤 생성 (60~100 사이)\n",
        "        korean_score = random.randint(60, 100)  # 국어 점수 랜덤 생성 (60~100 사이)\n",
        "        math_score = random.randint(60, 100)  # 수학 점수 랜덤 생성 (60~100 사이)\n",
        "        total_score = english_score + korean_score + math_score  # 전체 성적 계산\n",
        "\n",
        "        student_data.append([\n",
        "            student_number,\n",
        "            grade,\n",
        "            english_score,\n",
        "            korean_score,\n",
        "            math_score,\n",
        "            total_score\n",
        "        ])\n",
        "\n",
        "    # 전체 성적에 따라 순위 매기기\n",
        "    student_data = sorted(student_data, key=lambda x: x[5], reverse=True)\n",
        "    for i, student in enumerate(student_data):\n",
        "        student.append(i + 1)\n",
        "\n",
        "    return student_data\n",
        "\n",
        "# 10명의 학생 데이터 생성\n",
        "students = generate_student_data(10)\n",
        "\n",
        "# 데이터프레임 생성\n",
        "df = pd.DataFrame(students, columns=['학생번호', '학년', '영어', '국어', '수학', '전체성적', '전체성적순위'])\n",
        "\n",
        "# 생성된 데이터프레임 출력\n",
        "print(df)"
      ]
    },
    {
      "cell_type": "code",
      "source": [
        "summary_df = df.copy()\n",
        "summary_df['영어_deviation'] = summary_df['영어'] - summary_df['영어'].mean()\n",
        "summary_df['수학_deviation'] = summary_df['수학'] - summary_df['수학'].mean()\n",
        "summary_df['product of deviations'] = summary_df['영어_deviation'] * summary_df['수학_deviation']\n",
        "summary_df"
      ],
      "metadata": {
        "colab": {
          "base_uri": "https://localhost:8080/",
          "height": 424
        },
        "id": "YeO_5HFV_iTQ",
        "outputId": "1167c4a3-8b70-4411-c8ca-d62112aea118"
      },
      "execution_count": 2,
      "outputs": [
        {
          "output_type": "execute_result",
          "data": {
            "text/plain": [
              "  학생번호  학년  영어   국어  수학  전체성적  전체성적순위  영어_deviation  수학_deviation  \\\n",
              "0  008   2  94   98  91   283       1          21.2          11.4   \n",
              "1  010   3  79   89  91   259       2           6.2          11.4   \n",
              "2  007   1  71   88  99   258       3          -1.8          19.4   \n",
              "3  001   3  95  100  62   257       4          22.2         -17.6   \n",
              "4  003   2  62   90  90   242       5         -10.8          10.4   \n",
              "5  005   3  61   96  81   238       6         -11.8           1.4   \n",
              "6  002   1  75   86  70   231       7           2.2          -9.6   \n",
              "7  004   2  65   67  81   213       8          -7.8           1.4   \n",
              "8  009   2  66   71  64   201       9          -6.8         -15.6   \n",
              "9  006   3  60   65  67   192      10         -12.8         -12.6   \n",
              "\n",
              "   product of deviations  \n",
              "0                 241.68  \n",
              "1                  70.68  \n",
              "2                 -34.92  \n",
              "3                -390.72  \n",
              "4                -112.32  \n",
              "5                 -16.52  \n",
              "6                 -21.12  \n",
              "7                 -10.92  \n",
              "8                 106.08  \n",
              "9                 161.28  "
            ],
            "text/html": [
              "\n",
              "  <div id=\"df-c241adbe-ae46-4400-a64f-2c6c6cb909b4\">\n",
              "    <div class=\"colab-df-container\">\n",
              "      <div>\n",
              "<style scoped>\n",
              "    .dataframe tbody tr th:only-of-type {\n",
              "        vertical-align: middle;\n",
              "    }\n",
              "\n",
              "    .dataframe tbody tr th {\n",
              "        vertical-align: top;\n",
              "    }\n",
              "\n",
              "    .dataframe thead th {\n",
              "        text-align: right;\n",
              "    }\n",
              "</style>\n",
              "<table border=\"1\" class=\"dataframe\">\n",
              "  <thead>\n",
              "    <tr style=\"text-align: right;\">\n",
              "      <th></th>\n",
              "      <th>학생번호</th>\n",
              "      <th>학년</th>\n",
              "      <th>영어</th>\n",
              "      <th>국어</th>\n",
              "      <th>수학</th>\n",
              "      <th>전체성적</th>\n",
              "      <th>전체성적순위</th>\n",
              "      <th>영어_deviation</th>\n",
              "      <th>수학_deviation</th>\n",
              "      <th>product of deviations</th>\n",
              "    </tr>\n",
              "  </thead>\n",
              "  <tbody>\n",
              "    <tr>\n",
              "      <th>0</th>\n",
              "      <td>008</td>\n",
              "      <td>2</td>\n",
              "      <td>94</td>\n",
              "      <td>98</td>\n",
              "      <td>91</td>\n",
              "      <td>283</td>\n",
              "      <td>1</td>\n",
              "      <td>21.2</td>\n",
              "      <td>11.4</td>\n",
              "      <td>241.68</td>\n",
              "    </tr>\n",
              "    <tr>\n",
              "      <th>1</th>\n",
              "      <td>010</td>\n",
              "      <td>3</td>\n",
              "      <td>79</td>\n",
              "      <td>89</td>\n",
              "      <td>91</td>\n",
              "      <td>259</td>\n",
              "      <td>2</td>\n",
              "      <td>6.2</td>\n",
              "      <td>11.4</td>\n",
              "      <td>70.68</td>\n",
              "    </tr>\n",
              "    <tr>\n",
              "      <th>2</th>\n",
              "      <td>007</td>\n",
              "      <td>1</td>\n",
              "      <td>71</td>\n",
              "      <td>88</td>\n",
              "      <td>99</td>\n",
              "      <td>258</td>\n",
              "      <td>3</td>\n",
              "      <td>-1.8</td>\n",
              "      <td>19.4</td>\n",
              "      <td>-34.92</td>\n",
              "    </tr>\n",
              "    <tr>\n",
              "      <th>3</th>\n",
              "      <td>001</td>\n",
              "      <td>3</td>\n",
              "      <td>95</td>\n",
              "      <td>100</td>\n",
              "      <td>62</td>\n",
              "      <td>257</td>\n",
              "      <td>4</td>\n",
              "      <td>22.2</td>\n",
              "      <td>-17.6</td>\n",
              "      <td>-390.72</td>\n",
              "    </tr>\n",
              "    <tr>\n",
              "      <th>4</th>\n",
              "      <td>003</td>\n",
              "      <td>2</td>\n",
              "      <td>62</td>\n",
              "      <td>90</td>\n",
              "      <td>90</td>\n",
              "      <td>242</td>\n",
              "      <td>5</td>\n",
              "      <td>-10.8</td>\n",
              "      <td>10.4</td>\n",
              "      <td>-112.32</td>\n",
              "    </tr>\n",
              "    <tr>\n",
              "      <th>5</th>\n",
              "      <td>005</td>\n",
              "      <td>3</td>\n",
              "      <td>61</td>\n",
              "      <td>96</td>\n",
              "      <td>81</td>\n",
              "      <td>238</td>\n",
              "      <td>6</td>\n",
              "      <td>-11.8</td>\n",
              "      <td>1.4</td>\n",
              "      <td>-16.52</td>\n",
              "    </tr>\n",
              "    <tr>\n",
              "      <th>6</th>\n",
              "      <td>002</td>\n",
              "      <td>1</td>\n",
              "      <td>75</td>\n",
              "      <td>86</td>\n",
              "      <td>70</td>\n",
              "      <td>231</td>\n",
              "      <td>7</td>\n",
              "      <td>2.2</td>\n",
              "      <td>-9.6</td>\n",
              "      <td>-21.12</td>\n",
              "    </tr>\n",
              "    <tr>\n",
              "      <th>7</th>\n",
              "      <td>004</td>\n",
              "      <td>2</td>\n",
              "      <td>65</td>\n",
              "      <td>67</td>\n",
              "      <td>81</td>\n",
              "      <td>213</td>\n",
              "      <td>8</td>\n",
              "      <td>-7.8</td>\n",
              "      <td>1.4</td>\n",
              "      <td>-10.92</td>\n",
              "    </tr>\n",
              "    <tr>\n",
              "      <th>8</th>\n",
              "      <td>009</td>\n",
              "      <td>2</td>\n",
              "      <td>66</td>\n",
              "      <td>71</td>\n",
              "      <td>64</td>\n",
              "      <td>201</td>\n",
              "      <td>9</td>\n",
              "      <td>-6.8</td>\n",
              "      <td>-15.6</td>\n",
              "      <td>106.08</td>\n",
              "    </tr>\n",
              "    <tr>\n",
              "      <th>9</th>\n",
              "      <td>006</td>\n",
              "      <td>3</td>\n",
              "      <td>60</td>\n",
              "      <td>65</td>\n",
              "      <td>67</td>\n",
              "      <td>192</td>\n",
              "      <td>10</td>\n",
              "      <td>-12.8</td>\n",
              "      <td>-12.6</td>\n",
              "      <td>161.28</td>\n",
              "    </tr>\n",
              "  </tbody>\n",
              "</table>\n",
              "</div>\n",
              "      <button class=\"colab-df-convert\" onclick=\"convertToInteractive('df-c241adbe-ae46-4400-a64f-2c6c6cb909b4')\"\n",
              "              title=\"Convert this dataframe to an interactive table.\"\n",
              "              style=\"display:none;\">\n",
              "        \n",
              "  <svg xmlns=\"http://www.w3.org/2000/svg\" height=\"24px\"viewBox=\"0 0 24 24\"\n",
              "       width=\"24px\">\n",
              "    <path d=\"M0 0h24v24H0V0z\" fill=\"none\"/>\n",
              "    <path d=\"M18.56 5.44l.94 2.06.94-2.06 2.06-.94-2.06-.94-.94-2.06-.94 2.06-2.06.94zm-11 1L8.5 8.5l.94-2.06 2.06-.94-2.06-.94L8.5 2.5l-.94 2.06-2.06.94zm10 10l.94 2.06.94-2.06 2.06-.94-2.06-.94-.94-2.06-.94 2.06-2.06.94z\"/><path d=\"M17.41 7.96l-1.37-1.37c-.4-.4-.92-.59-1.43-.59-.52 0-1.04.2-1.43.59L10.3 9.45l-7.72 7.72c-.78.78-.78 2.05 0 2.83L4 21.41c.39.39.9.59 1.41.59.51 0 1.02-.2 1.41-.59l7.78-7.78 2.81-2.81c.8-.78.8-2.07 0-2.86zM5.41 20L4 18.59l7.72-7.72 1.47 1.35L5.41 20z\"/>\n",
              "  </svg>\n",
              "      </button>\n",
              "      \n",
              "  <style>\n",
              "    .colab-df-container {\n",
              "      display:flex;\n",
              "      flex-wrap:wrap;\n",
              "      gap: 12px;\n",
              "    }\n",
              "\n",
              "    .colab-df-convert {\n",
              "      background-color: #E8F0FE;\n",
              "      border: none;\n",
              "      border-radius: 50%;\n",
              "      cursor: pointer;\n",
              "      display: none;\n",
              "      fill: #1967D2;\n",
              "      height: 32px;\n",
              "      padding: 0 0 0 0;\n",
              "      width: 32px;\n",
              "    }\n",
              "\n",
              "    .colab-df-convert:hover {\n",
              "      background-color: #E2EBFA;\n",
              "      box-shadow: 0px 1px 2px rgba(60, 64, 67, 0.3), 0px 1px 3px 1px rgba(60, 64, 67, 0.15);\n",
              "      fill: #174EA6;\n",
              "    }\n",
              "\n",
              "    [theme=dark] .colab-df-convert {\n",
              "      background-color: #3B4455;\n",
              "      fill: #D2E3FC;\n",
              "    }\n",
              "\n",
              "    [theme=dark] .colab-df-convert:hover {\n",
              "      background-color: #434B5C;\n",
              "      box-shadow: 0px 1px 3px 1px rgba(0, 0, 0, 0.15);\n",
              "      filter: drop-shadow(0px 1px 2px rgba(0, 0, 0, 0.3));\n",
              "      fill: #FFFFFF;\n",
              "    }\n",
              "  </style>\n",
              "\n",
              "      <script>\n",
              "        const buttonEl =\n",
              "          document.querySelector('#df-c241adbe-ae46-4400-a64f-2c6c6cb909b4 button.colab-df-convert');\n",
              "        buttonEl.style.display =\n",
              "          google.colab.kernel.accessAllowed ? 'block' : 'none';\n",
              "\n",
              "        async function convertToInteractive(key) {\n",
              "          const element = document.querySelector('#df-c241adbe-ae46-4400-a64f-2c6c6cb909b4');\n",
              "          const dataTable =\n",
              "            await google.colab.kernel.invokeFunction('convertToInteractive',\n",
              "                                                     [key], {});\n",
              "          if (!dataTable) return;\n",
              "\n",
              "          const docLinkHtml = 'Like what you see? Visit the ' +\n",
              "            '<a target=\"_blank\" href=https://colab.research.google.com/notebooks/data_table.ipynb>data table notebook</a>'\n",
              "            + ' to learn more about interactive tables.';\n",
              "          element.innerHTML = '';\n",
              "          dataTable['output_type'] = 'display_data';\n",
              "          await google.colab.output.renderOutput(dataTable, element);\n",
              "          const docLink = document.createElement('div');\n",
              "          docLink.innerHTML = docLinkHtml;\n",
              "          element.appendChild(docLink);\n",
              "        }\n",
              "      </script>\n",
              "    </div>\n",
              "  </div>\n",
              "  "
            ]
          },
          "metadata": {},
          "execution_count": 2
        }
      ]
    },
    {
      "cell_type": "code",
      "source": [
        "summary_df['product of deviations'].mean()"
      ],
      "metadata": {
        "id": "jF358ErX_kNk"
      },
      "execution_count": null,
      "outputs": []
    },
    {
      "cell_type": "code",
      "source": [
        "# 12.47로 영어점수와 수학점수는 양의 상관관계에 있다고 할 수 있습니다."
      ],
      "metadata": {
        "id": "hfnRbP70_lVB"
      },
      "execution_count": null,
      "outputs": []
    },
    {
      "cell_type": "code",
      "source": [],
      "metadata": {
        "id": "5apMFpuw_nCZ"
      },
      "execution_count": null,
      "outputs": []
    },
    {
      "cell_type": "markdown",
      "source": [
        "# 상관계수\n",
        "\n",
        "앞에서 공분산을 계산하여 데이터의 상관관계를 표현했습니다. 보통 공분산을 계산할때는 단위 * 단위로 표현되기 때문에 표준편차처럼 우리가 사용하는 단위의 값으로 계산하는 것이 핑료합니다. 공분산을 각 데이터의 표준편차로 나누면 되는데요.\n",
        "\n",
        "상관계수는 반드시 -1 또는 1사이의 값을 취하고, 양의 상관계수면 1에 가까워지고 음의 상관계수면 -1에 가까워 집니다. 상관이 없으면 0에 가까워지구요."
      ],
      "metadata": {
        "id": "pFHbLQkMRa2r"
      }
    },
    {
      "cell_type": "code",
      "source": [
        "import numpy as np"
      ],
      "metadata": {
        "id": "BmAd-TO0S7CU"
      },
      "execution_count": null,
      "outputs": []
    },
    {
      "cell_type": "code",
      "source": [
        "en_scores = np.array(df['영어'])[:10]\n",
        "ma_scores = np.array(df['수학'])[:10]\n",
        "ko_scores = np.array(df['국어'])[:10]"
      ],
      "metadata": {
        "id": "uxIjrVPlSzLp"
      },
      "execution_count": null,
      "outputs": []
    },
    {
      "cell_type": "code",
      "source": [],
      "metadata": {
        "id": "l2WsURijSzCy"
      },
      "execution_count": null,
      "outputs": []
    },
    {
      "cell_type": "markdown",
      "source": [
        "상관계수는 0.164로 약한 약의 상관관계를 보입니다. 상관관계가 어느정도가 되야 유의한 상관관계를 가진다라고는 말할수는 없습니다.만 보통 0.7~8정도면 강한 양의 상관관계가 있다고 합니다."
      ],
      "metadata": {
        "id": "W5x0K61LTG-E"
      }
    },
    {
      "cell_type": "code",
      "source": [
        "np.cov(en_scores, ma_scores ,ddof = 0)[0,1] / (np.std(en_scores) * np.std(ma_scores))"
      ],
      "metadata": {
        "colab": {
          "base_uri": "https://localhost:8080/"
        },
        "id": "MLfTndkoRckl",
        "outputId": "93e58c7a-e15c-4301-8cf3-adf0d6b208c8"
      },
      "execution_count": null,
      "outputs": [
        {
          "output_type": "execute_result",
          "data": {
            "text/plain": [
              "0.16429773618245846"
            ]
          },
          "metadata": {},
          "execution_count": 9
        }
      ]
    },
    {
      "cell_type": "code",
      "source": [
        "np.corrcoef(en_scores, ma_scores)"
      ],
      "metadata": {
        "colab": {
          "base_uri": "https://localhost:8080/"
        },
        "id": "ToL0xgUHSqRI",
        "outputId": "546cc3d4-f7e3-4b4f-9d93-ea57f7167abf"
      },
      "execution_count": null,
      "outputs": [
        {
          "output_type": "execute_result",
          "data": {
            "text/plain": [
              "array([[1.        , 0.16429774],\n",
              "       [0.16429774, 1.        ]])"
            ]
          },
          "metadata": {},
          "execution_count": 12
        }
      ]
    },
    {
      "cell_type": "code",
      "source": [
        "summary_df.corr()"
      ],
      "metadata": {
        "colab": {
          "base_uri": "https://localhost:8080/",
          "height": 517
        },
        "id": "LL1mCSBDTntt",
        "outputId": "f691c5eb-d011-4c6a-9991-520547b229ab"
      },
      "execution_count": null,
      "outputs": [
        {
          "output_type": "stream",
          "name": "stderr",
          "text": [
            "<ipython-input-13-c93b2ccba746>:1: FutureWarning: The default value of numeric_only in DataFrame.corr is deprecated. In a future version, it will default to False. Select only valid columns or specify the value of numeric_only to silence this warning.\n",
            "  summary_df.corr()\n"
          ]
        },
        {
          "output_type": "execute_result",
          "data": {
            "text/plain": [
              "                             학년        영어        국어        수학      전체성적  \\\n",
              "학년                     1.000000 -0.538851  0.230666  0.015164 -0.033284   \n",
              "영어                    -0.538851  1.000000 -0.077939  0.164298  0.426911   \n",
              "국어                     0.230666 -0.077939  1.000000 -0.060179  0.642849   \n",
              "수학                     0.015164  0.164298 -0.060179  1.000000  0.627275   \n",
              "전체성적                  -0.033284  0.426911  0.642849  0.627275  1.000000   \n",
              "전체성적순위                -0.022288 -0.435542 -0.528115 -0.664479 -0.944520   \n",
              "영어_deviation          -0.538851  1.000000 -0.077939  0.164298  0.426911   \n",
              "수학_deviation           0.015164  0.164298 -0.060179  1.000000  0.627275   \n",
              "product of deviations -0.166141  0.730688 -0.067496  0.655392  0.629476   \n",
              "\n",
              "                         전체성적순위  영어_deviation  수학_deviation  \\\n",
              "학년                    -0.022288     -0.538851      0.015164   \n",
              "영어                    -0.435542      1.000000      0.164298   \n",
              "국어                    -0.528115     -0.077939     -0.060179   \n",
              "수학                    -0.664479      0.164298      1.000000   \n",
              "전체성적                  -0.944520      0.426911      0.627275   \n",
              "전체성적순위                 1.000000     -0.435542     -0.664479   \n",
              "영어_deviation          -0.435542      1.000000      0.164298   \n",
              "수학_deviation          -0.664479      0.164298      1.000000   \n",
              "product of deviations -0.684472      0.730688      0.655392   \n",
              "\n",
              "                       product of deviations  \n",
              "학년                                 -0.166141  \n",
              "영어                                  0.730688  \n",
              "국어                                 -0.067496  \n",
              "수학                                  0.655392  \n",
              "전체성적                                0.629476  \n",
              "전체성적순위                             -0.684472  \n",
              "영어_deviation                        0.730688  \n",
              "수학_deviation                        0.655392  \n",
              "product of deviations               1.000000  "
            ],
            "text/html": [
              "\n",
              "  <div id=\"df-fafddf6e-1820-4c94-adc7-7eb48166f0ea\">\n",
              "    <div class=\"colab-df-container\">\n",
              "      <div>\n",
              "<style scoped>\n",
              "    .dataframe tbody tr th:only-of-type {\n",
              "        vertical-align: middle;\n",
              "    }\n",
              "\n",
              "    .dataframe tbody tr th {\n",
              "        vertical-align: top;\n",
              "    }\n",
              "\n",
              "    .dataframe thead th {\n",
              "        text-align: right;\n",
              "    }\n",
              "</style>\n",
              "<table border=\"1\" class=\"dataframe\">\n",
              "  <thead>\n",
              "    <tr style=\"text-align: right;\">\n",
              "      <th></th>\n",
              "      <th>학년</th>\n",
              "      <th>영어</th>\n",
              "      <th>국어</th>\n",
              "      <th>수학</th>\n",
              "      <th>전체성적</th>\n",
              "      <th>전체성적순위</th>\n",
              "      <th>영어_deviation</th>\n",
              "      <th>수학_deviation</th>\n",
              "      <th>product of deviations</th>\n",
              "    </tr>\n",
              "  </thead>\n",
              "  <tbody>\n",
              "    <tr>\n",
              "      <th>학년</th>\n",
              "      <td>1.000000</td>\n",
              "      <td>-0.538851</td>\n",
              "      <td>0.230666</td>\n",
              "      <td>0.015164</td>\n",
              "      <td>-0.033284</td>\n",
              "      <td>-0.022288</td>\n",
              "      <td>-0.538851</td>\n",
              "      <td>0.015164</td>\n",
              "      <td>-0.166141</td>\n",
              "    </tr>\n",
              "    <tr>\n",
              "      <th>영어</th>\n",
              "      <td>-0.538851</td>\n",
              "      <td>1.000000</td>\n",
              "      <td>-0.077939</td>\n",
              "      <td>0.164298</td>\n",
              "      <td>0.426911</td>\n",
              "      <td>-0.435542</td>\n",
              "      <td>1.000000</td>\n",
              "      <td>0.164298</td>\n",
              "      <td>0.730688</td>\n",
              "    </tr>\n",
              "    <tr>\n",
              "      <th>국어</th>\n",
              "      <td>0.230666</td>\n",
              "      <td>-0.077939</td>\n",
              "      <td>1.000000</td>\n",
              "      <td>-0.060179</td>\n",
              "      <td>0.642849</td>\n",
              "      <td>-0.528115</td>\n",
              "      <td>-0.077939</td>\n",
              "      <td>-0.060179</td>\n",
              "      <td>-0.067496</td>\n",
              "    </tr>\n",
              "    <tr>\n",
              "      <th>수학</th>\n",
              "      <td>0.015164</td>\n",
              "      <td>0.164298</td>\n",
              "      <td>-0.060179</td>\n",
              "      <td>1.000000</td>\n",
              "      <td>0.627275</td>\n",
              "      <td>-0.664479</td>\n",
              "      <td>0.164298</td>\n",
              "      <td>1.000000</td>\n",
              "      <td>0.655392</td>\n",
              "    </tr>\n",
              "    <tr>\n",
              "      <th>전체성적</th>\n",
              "      <td>-0.033284</td>\n",
              "      <td>0.426911</td>\n",
              "      <td>0.642849</td>\n",
              "      <td>0.627275</td>\n",
              "      <td>1.000000</td>\n",
              "      <td>-0.944520</td>\n",
              "      <td>0.426911</td>\n",
              "      <td>0.627275</td>\n",
              "      <td>0.629476</td>\n",
              "    </tr>\n",
              "    <tr>\n",
              "      <th>전체성적순위</th>\n",
              "      <td>-0.022288</td>\n",
              "      <td>-0.435542</td>\n",
              "      <td>-0.528115</td>\n",
              "      <td>-0.664479</td>\n",
              "      <td>-0.944520</td>\n",
              "      <td>1.000000</td>\n",
              "      <td>-0.435542</td>\n",
              "      <td>-0.664479</td>\n",
              "      <td>-0.684472</td>\n",
              "    </tr>\n",
              "    <tr>\n",
              "      <th>영어_deviation</th>\n",
              "      <td>-0.538851</td>\n",
              "      <td>1.000000</td>\n",
              "      <td>-0.077939</td>\n",
              "      <td>0.164298</td>\n",
              "      <td>0.426911</td>\n",
              "      <td>-0.435542</td>\n",
              "      <td>1.000000</td>\n",
              "      <td>0.164298</td>\n",
              "      <td>0.730688</td>\n",
              "    </tr>\n",
              "    <tr>\n",
              "      <th>수학_deviation</th>\n",
              "      <td>0.015164</td>\n",
              "      <td>0.164298</td>\n",
              "      <td>-0.060179</td>\n",
              "      <td>1.000000</td>\n",
              "      <td>0.627275</td>\n",
              "      <td>-0.664479</td>\n",
              "      <td>0.164298</td>\n",
              "      <td>1.000000</td>\n",
              "      <td>0.655392</td>\n",
              "    </tr>\n",
              "    <tr>\n",
              "      <th>product of deviations</th>\n",
              "      <td>-0.166141</td>\n",
              "      <td>0.730688</td>\n",
              "      <td>-0.067496</td>\n",
              "      <td>0.655392</td>\n",
              "      <td>0.629476</td>\n",
              "      <td>-0.684472</td>\n",
              "      <td>0.730688</td>\n",
              "      <td>0.655392</td>\n",
              "      <td>1.000000</td>\n",
              "    </tr>\n",
              "  </tbody>\n",
              "</table>\n",
              "</div>\n",
              "      <button class=\"colab-df-convert\" onclick=\"convertToInteractive('df-fafddf6e-1820-4c94-adc7-7eb48166f0ea')\"\n",
              "              title=\"Convert this dataframe to an interactive table.\"\n",
              "              style=\"display:none;\">\n",
              "        \n",
              "  <svg xmlns=\"http://www.w3.org/2000/svg\" height=\"24px\"viewBox=\"0 0 24 24\"\n",
              "       width=\"24px\">\n",
              "    <path d=\"M0 0h24v24H0V0z\" fill=\"none\"/>\n",
              "    <path d=\"M18.56 5.44l.94 2.06.94-2.06 2.06-.94-2.06-.94-.94-2.06-.94 2.06-2.06.94zm-11 1L8.5 8.5l.94-2.06 2.06-.94-2.06-.94L8.5 2.5l-.94 2.06-2.06.94zm10 10l.94 2.06.94-2.06 2.06-.94-2.06-.94-.94-2.06-.94 2.06-2.06.94z\"/><path d=\"M17.41 7.96l-1.37-1.37c-.4-.4-.92-.59-1.43-.59-.52 0-1.04.2-1.43.59L10.3 9.45l-7.72 7.72c-.78.78-.78 2.05 0 2.83L4 21.41c.39.39.9.59 1.41.59.51 0 1.02-.2 1.41-.59l7.78-7.78 2.81-2.81c.8-.78.8-2.07 0-2.86zM5.41 20L4 18.59l7.72-7.72 1.47 1.35L5.41 20z\"/>\n",
              "  </svg>\n",
              "      </button>\n",
              "      \n",
              "  <style>\n",
              "    .colab-df-container {\n",
              "      display:flex;\n",
              "      flex-wrap:wrap;\n",
              "      gap: 12px;\n",
              "    }\n",
              "\n",
              "    .colab-df-convert {\n",
              "      background-color: #E8F0FE;\n",
              "      border: none;\n",
              "      border-radius: 50%;\n",
              "      cursor: pointer;\n",
              "      display: none;\n",
              "      fill: #1967D2;\n",
              "      height: 32px;\n",
              "      padding: 0 0 0 0;\n",
              "      width: 32px;\n",
              "    }\n",
              "\n",
              "    .colab-df-convert:hover {\n",
              "      background-color: #E2EBFA;\n",
              "      box-shadow: 0px 1px 2px rgba(60, 64, 67, 0.3), 0px 1px 3px 1px rgba(60, 64, 67, 0.15);\n",
              "      fill: #174EA6;\n",
              "    }\n",
              "\n",
              "    [theme=dark] .colab-df-convert {\n",
              "      background-color: #3B4455;\n",
              "      fill: #D2E3FC;\n",
              "    }\n",
              "\n",
              "    [theme=dark] .colab-df-convert:hover {\n",
              "      background-color: #434B5C;\n",
              "      box-shadow: 0px 1px 3px 1px rgba(0, 0, 0, 0.15);\n",
              "      filter: drop-shadow(0px 1px 2px rgba(0, 0, 0, 0.3));\n",
              "      fill: #FFFFFF;\n",
              "    }\n",
              "  </style>\n",
              "\n",
              "      <script>\n",
              "        const buttonEl =\n",
              "          document.querySelector('#df-fafddf6e-1820-4c94-adc7-7eb48166f0ea button.colab-df-convert');\n",
              "        buttonEl.style.display =\n",
              "          google.colab.kernel.accessAllowed ? 'block' : 'none';\n",
              "\n",
              "        async function convertToInteractive(key) {\n",
              "          const element = document.querySelector('#df-fafddf6e-1820-4c94-adc7-7eb48166f0ea');\n",
              "          const dataTable =\n",
              "            await google.colab.kernel.invokeFunction('convertToInteractive',\n",
              "                                                     [key], {});\n",
              "          if (!dataTable) return;\n",
              "\n",
              "          const docLinkHtml = 'Like what you see? Visit the ' +\n",
              "            '<a target=\"_blank\" href=https://colab.research.google.com/notebooks/data_table.ipynb>data table notebook</a>'\n",
              "            + ' to learn more about interactive tables.';\n",
              "          element.innerHTML = '';\n",
              "          dataTable['output_type'] = 'display_data';\n",
              "          await google.colab.output.renderOutput(dataTable, element);\n",
              "          const docLink = document.createElement('div');\n",
              "          docLink.innerHTML = docLinkHtml;\n",
              "          element.appendChild(docLink);\n",
              "        }\n",
              "      </script>\n",
              "    </div>\n",
              "  </div>\n",
              "  "
            ]
          },
          "metadata": {},
          "execution_count": 13
        }
      ]
    },
    {
      "cell_type": "markdown",
      "source": [
        "# 2차원 데이터의 시각화"
      ],
      "metadata": {
        "id": "d-UR80soT1ff"
      }
    },
    {
      "cell_type": "code",
      "source": [
        "import matplotlib.pyplot as plt"
      ],
      "metadata": {
        "id": "AaIpxuJET1EE"
      },
      "execution_count": null,
      "outputs": []
    },
    {
      "cell_type": "code",
      "source": [
        "english_scores = np.array(df['영어'])\n",
        "math_scores = np.array(df['수학'])\n",
        "\n",
        "fig = plt.figure(figsize=(8, 8))\n",
        "ax = fig.add_subplot(111)\n",
        "# 산점도\n",
        "ax.scatter(english_scores, math_scores)\n",
        "ax.set_xlabel('english')\n",
        "ax.set_ylabel('mathematics')\n",
        "\n",
        "plt.show()"
      ],
      "metadata": {
        "colab": {
          "base_uri": "https://localhost:8080/",
          "height": 632
        },
        "id": "UtSGeegjTw72",
        "outputId": "08ed2338-c865-4fb6-a301-d24a9d2ea7f8"
      },
      "execution_count": null,
      "outputs": [
        {
          "output_type": "display_data",
          "data": {
            "text/plain": [
              "<Figure size 800x800 with 1 Axes>"
            ],
            "image/png": "[encoded data removed]"
          },
          "metadata": {}
        }
      ]
    },
    {
      "cell_type": "code",
      "source": [
        "# 계수β_0와β_1를 구한다\n",
        "poly_fit = np.polyfit(english_scores, math_scores, 1)\n",
        "# β_0+β_1 x를 반환하는 함수를 작성\n",
        "poly_1d = np.poly1d(poly_fit)\n",
        "# 직선을 그리기 위해 x좌표를 생성\n",
        "xs = np.linspace(english_scores.min(), english_scores.max())\n",
        "# xs에 대응하는 y좌표를 구한다\n",
        "ys = poly_1d(xs)\n",
        "\n",
        "fig = plt.figure(figsize=(8, 8))\n",
        "ax = fig.add_subplot(111)\n",
        "ax.set_xlabel('english')\n",
        "ax.set_ylabel('mathematics')\n",
        "ax.scatter(english_scores, math_scores, label='score')\n",
        "ax.plot(xs, ys, color='gray',\n",
        "        label=f'{poly_fit[1]:.2f}+{poly_fit[0]:.2f}x')\n",
        "# 범례의 표시\n",
        "ax.legend(loc='upper left')\n",
        "\n",
        "plt.show()"
      ],
      "metadata": {
        "colab": {
          "base_uri": "https://localhost:8080/",
          "height": 632
        },
        "id": "Y9KH-oaaUGWz",
        "outputId": "c5063e6c-f99f-4f21-ec80-037bb5a59eea"
      },
      "execution_count": null,
      "outputs": [
        {
          "output_type": "display_data",
          "data": {
            "text/plain": [
              "<Figure size 800x800 with 1 Axes>"
            ],
            "image/png": "[encoded data removed]"
          },
          "metadata": {}
        }
      ]
    },
    {
      "cell_type": "markdown",
      "source": [
        "# 상관계수에 대한 고찰"
      ],
      "metadata": {
        "id": "wpjlphhzUpQO"
      }
    },
    {
      "cell_type": "code",
      "source": [
        "import numpy as np\n",
        "import matplotlib.pyplot as plt\n",
        "\n",
        "# Anscombe's quartet\n",
        "x = [10, 8, 13, 9, 11, 14, 6, 4, 12, 7, 5]\n",
        "y1 = [8.04, 6.95, 7.58, 8.81, 8.33, 9.96, 7.24, 4.26, 10.84, 4.82, 5.68]\n",
        "y2 = [9.14, 8.14, 8.74, 8.77, 9.26, 8.10, 6.13, 3.10, 9.13, 7.26, 4.74]\n",
        "y3 = [7.46, 6.77, 12.74, 7.11, 7.81, 8.84, 6.08, 5.39, 8.15, 6.42, 5.73]\n",
        "x4 = [8, 8, 8, 8, 8, 8, 8, 19, 8, 8, 8]\n",
        "y4 = [6.58, 5.76, 7.71, 8.84, 8.47, 7.04, 5.25, 12.50, 5.56, 7.91, 6.89]\n",
        "\n",
        "# create matplotlib figure and axes\n",
        "fig, axs = plt.subplots(2, 2, figsize=(12, 12))\n",
        "\n",
        "# Plot each dataset\n",
        "datasets = [(x, y1), (x, y2), (x, y3), (x4, y4)]\n",
        "for ax, data in zip(axs.flatten(), datasets):\n",
        "    ax.scatter(*data)\n",
        "    ax.set(xlim=(0, 20), ylim=(0, 14))\n",
        "\n",
        "plt.show()"
      ],
      "metadata": {
        "colab": {
          "base_uri": "https://localhost:8080/",
          "height": 634
        },
        "id": "hdUKq45dUdF4",
        "outputId": "0ed1aa3b-168f-4fa5-ed6e-f36dfb9b574a"
      },
      "execution_count": null,
      "outputs": [
        {
          "output_type": "display_data",
          "data": {
            "text/plain": [
              "<Figure size 1200x1200 with 4 Axes>"
            ],
            "image/png": "[encoded data removed]"
          },
          "metadata": {}
        }
      ]
    },
    {
      "cell_type": "code",
      "source": [
        "import numpy as np\n",
        "import matplotlib.pyplot as plt\n",
        "\n",
        "# Anscombe's quartet\n",
        "x = np.array([10, 8, 13, 9, 11, 14, 6, 4, 12, 7, 5])\n",
        "y1 = np.array([8.04, 6.95, 7.58, 8.81, 8.33, 9.96, 7.24, 4.26, 10.84, 4.82, 5.68])\n",
        "y2 = np.array([9.14, 8.14, 8.74, 8.77, 9.26, 8.10, 6.13, 3.10, 9.13, 7.26, 4.74])\n",
        "y3 = np.array([7.46, 6.77, 12.74, 7.11, 7.81, 8.84, 6.08, 5.39, 8.15, 6.42, 5.73])\n",
        "x4 = np.array([8, 8, 8, 8, 8, 8, 8, 19, 8, 8, 8])\n",
        "y4 = np.array([6.58, 5.76, 7.71, 8.84, 8.47, 7.04, 5.25, 12.50, 5.56, 7.91, 6.89])\n",
        "\n",
        "# create matplotlib figure and axes\n",
        "fig, axs = plt.subplots(2, 2, figsize=(12, 12))\n",
        "\n",
        "# Plot each dataset\n",
        "datasets = [(x, y1), (x, y2), (x, y3), (x4, y4)]\n",
        "for ax, data in zip(axs.flatten(), datasets):\n",
        "    ax.scatter(*data)\n",
        "    ax.set(xlim=(0, 20), ylim=(0, 14))\n",
        "\n",
        "    # Fitting linear regression and add it to the plot\n",
        "    p = np.polyfit(*data, 1)  # degree 1 polynomial fit\n",
        "    x_vals = np.array(ax.get_xlim())\n",
        "    y_vals = p[0] * x_vals + p[1]\n",
        "    ax.plot(x_vals, y_vals, '-', color='red')\n",
        "\n",
        "plt.show()"
      ],
      "metadata": {
        "colab": {
          "base_uri": "https://localhost:8080/",
          "height": 634
        },
        "id": "I5qiFudoVFzX",
        "outputId": "faa9b42b-8f21-4727-a0da-d7c0a322b705"
      },
      "execution_count": null,
      "outputs": [
        {
          "output_type": "display_data",
          "data": {
            "text/plain": [
              "<Figure size 1200x1200 with 4 Axes>"
            ],
            "image/png": "[encoded data removed]"
          },
          "metadata": {}
        }
      ]
    },
    {
      "cell_type": "code",
      "source": [],
      "metadata": {
        "id": "42OEtt_8ViGL"
      },
      "execution_count": null,
      "outputs": []
    }
  ]
}