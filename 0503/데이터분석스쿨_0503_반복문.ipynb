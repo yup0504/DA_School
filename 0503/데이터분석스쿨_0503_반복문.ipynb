{
  "nbformat": 4,
  "nbformat_minor": 0,
  "metadata": {
    "colab": {
      "provenance": []
    },
    "kernelspec": {
      "name": "python3",
      "display_name": "Python 3"
    },
    "language_info": {
      "name": "python"
    }
  },
  "cells": [
    {
      "cell_type": "markdown",
      "source": [
        "# 반복문\n",
        "\n"
      ],
      "metadata": {
        "id": "4fk1Ba4ksvaz"
      }
    },
    {
      "cell_type": "markdown",
      "source": [
        "* 반복문을 사용하는 이유 -> 업무의 최소화, 빠른 퇴근, 나의 체력 안배\n",
        "\n",
        "특히 데이터 분석에서는 \n",
        "* 월별/분기별/연도별 산출할 게 있을 경우\n",
        "* 컬럼별 데이터 검사 및 특이값 이상치 발견\n",
        "* Rule Base 최적 상품 추천\n",
        "* ML/DL모델을 파라미터를 바꿔서 반복 시행할때\n",
        "* 기타 3번 이상 반복 작업 해야하는 반복되는 일들\n",
        "\n",
        "에서 사용되게 됩니다.\n"
      ],
      "metadata": {
        "id": "CZUT6lEEsuAs"
      }
    },
    {
      "cell_type": "code",
      "execution_count": null,
      "metadata": {
        "colab": {
          "base_uri": "https://localhost:8080/"
        },
        "id": "xUSVSUcnrwGw",
        "outputId": "009e8ecd-7b2d-4d22-9806-dd0d3c979557"
      },
      "outputs": [
        {
          "output_type": "stream",
          "name": "stdout",
          "text": [
            "1 반복\n",
            "2 반복\n",
            "3 반복\n"
          ]
        }
      ],
      "source": [
        "# For 반복문 기초1\n",
        "for x in (1,2,3):\n",
        "    print(f\"{x} 반복\")"
      ]
    },
    {
      "cell_type": "code",
      "source": [
        "#for 문의 구조\n",
        "for (변수명) in (순회 가능한 객체) :\n",
        "    수행할 문장1\n",
        "\t\t수행할 문장2"
      ],
      "metadata": {
        "id": "xkTv6hRjuC5J"
      },
      "execution_count": null,
      "outputs": []
    },
    {
      "cell_type": "code",
      "source": [
        "# For 반복문 기초2\n",
        "문자열 = \"hello world\"\n",
        "for a in 문자열:\n",
        "    print(a)"
      ],
      "metadata": {
        "id": "Dq-uVyNDuGUD"
      },
      "execution_count": null,
      "outputs": []
    },
    {
      "cell_type": "code",
      "source": [
        "# 리스트를 범위로 지정한 예시\n",
        "list_a = ['하나','둘','셋','넷','다섯']\n",
        "\n",
        "for a in list_a:\n",
        "  print(a)"
      ],
      "metadata": {
        "id": "bO7U7NaNua3Y"
      },
      "execution_count": null,
      "outputs": []
    },
    {
      "cell_type": "code",
      "source": [
        "# 딕셔너리를 이용한 반복문\n",
        "dic_a = {\n",
        "   '하나': 'one',\n",
        "   '둘': 'two',\n",
        "   '셋':'three'\n",
        "}\n",
        "for a in dic_a:\n",
        "  print(a)"
      ],
      "metadata": {
        "colab": {
          "base_uri": "https://localhost:8080/"
        },
        "id": "VRrRxmBourt4",
        "outputId": "e06d6756-1bbf-4e81-a0ba-9f6d27b06bf5"
      },
      "execution_count": null,
      "outputs": [
        {
          "output_type": "stream",
          "name": "stdout",
          "text": [
            "하나\n",
            "둘\n",
            "셋\n"
          ]
        }
      ]
    },
    {
      "cell_type": "code",
      "source": [
        "for a in dic_a.items():\n",
        "  print(a)"
      ],
      "metadata": {
        "colab": {
          "base_uri": "https://localhost:8080/"
        },
        "id": "JSS1unc-vSG2",
        "outputId": "16a3c679-b88e-4465-f1e5-889051190b34"
      },
      "execution_count": null,
      "outputs": [
        {
          "output_type": "stream",
          "name": "stdout",
          "text": [
            "('하나', 'one')\n",
            "('둘', 'two')\n",
            "('셋', 'three')\n"
          ]
        }
      ]
    },
    {
      "cell_type": "code",
      "source": [
        "for a in dic_a.values():\n",
        "  print(a)"
      ],
      "metadata": {
        "colab": {
          "base_uri": "https://localhost:8080/"
        },
        "id": "VLvt9czEvh33",
        "outputId": "fafd0f8b-29b2-4fd1-9ad1-3cf19f1ceab5"
      },
      "execution_count": null,
      "outputs": [
        {
          "output_type": "stream",
          "name": "stdout",
          "text": [
            "one\n",
            "two\n",
            "three\n"
          ]
        }
      ]
    },
    {
      "cell_type": "code",
      "source": [
        "# range 1번 예제\n",
        "\n",
        "for a in range(0, 5, 1):\n",
        "  print(a)"
      ],
      "metadata": {
        "id": "eerTVnW9vpMR"
      },
      "execution_count": null,
      "outputs": []
    },
    {
      "cell_type": "code",
      "source": [
        "# range 2번 예제\n",
        "\n",
        "for a in range(0, 10, 2):\n",
        "  print(a)"
      ],
      "metadata": {
        "id": "mRkcZ5rwvpEa"
      },
      "execution_count": null,
      "outputs": []
    },
    {
      "cell_type": "code",
      "source": [
        "# range 2번 예제\n",
        "\n",
        "for a in range(10, 0, -1):\n",
        "  print(a)"
      ],
      "metadata": {
        "id": "YvUU-InAvo82"
      },
      "execution_count": null,
      "outputs": []
    },
    {
      "cell_type": "code",
      "source": [
        "# 반복문 기초 3\n",
        "from time import process_time\n",
        "\n",
        "start = process_time()\n",
        "\n",
        "# 1,000,000 ~ 하루 / 이틀 / 일주일\n",
        "for i in range(1, 100):\n",
        "  print(f'숫자를 출력합니다. {i}')\n",
        "\n",
        "end = process_time()\n",
        "print(f'프로그램을 수행하는데 {end - start}초가 걸렸습니다.')"
      ],
      "metadata": {
        "id": "YmJZGIvvvo1D"
      },
      "execution_count": null,
      "outputs": []
    },
    {
      "cell_type": "code",
      "source": [
        "# 반복문 기초 - 문자열\n",
        "for i in 'python':\n",
        "  print(i)"
      ],
      "metadata": {
        "id": "pDCNDTgnvot2"
      },
      "execution_count": null,
      "outputs": []
    },
    {
      "cell_type": "code",
      "source": [
        "for i in ['python','numpy','pandas']:\n",
        "  print(i)"
      ],
      "metadata": {
        "id": "ubyJQgV8xW0A"
      },
      "execution_count": null,
      "outputs": []
    },
    {
      "cell_type": "code",
      "source": [
        "# 반복문 기초 7 - 딕셔너리\n",
        "\n",
        "d = {\"key1\" : 1000 , \"key2\" : 2000, \"key3\" : 3000}\n",
        "for i in d.keys():\n",
        "  print(\"출력된 문자는\", i, \"입니다.\")\n",
        "\n",
        "print()\n",
        "\n",
        "# 반복문 기초 7 - 딕셔너리\n",
        "\n",
        "d = {\"key1\" : 1000 , \"key2\" : 2000, \"key3\" : 3000}\n",
        "for i in d.values():\n",
        "  print(\"출력된 문자는\", i, \"입니다.\")\n",
        "\n",
        "print()\n",
        "# 반복문 기초 7 - 딕셔너리\n",
        "\n",
        "d = {\"key1\" : 1000 , \"key2\" : 2000, \"key3\" : 3000}\n",
        "for i in d.items():\n",
        "  print(\"출력된 문자는\", i, \"입니다.\")"
      ],
      "metadata": {
        "id": "nc8RKabwxsV6"
      },
      "execution_count": null,
      "outputs": []
    },
    {
      "cell_type": "code",
      "source": [
        "# for, else 예제\n",
        "\n",
        "for i in range(4):\n",
        "  print(f\"(i) 물고기를 잡았습니다.\")\n",
        "  if i == 5:           # 최대 4까지 반복하니까 else로 넘어감\n",
        "    print('만선입니다. 물고기를 다 잡았습니다.')\n",
        "    break # 더이상 문장을 실행하지 않고, 종료\n",
        "else:\n",
        "  print('아직 여유가 있지만. 만족하고 돌아갑시다.')\n",
        "print('수고하셨습니다.')"
      ],
      "metadata": {
        "colab": {
          "base_uri": "https://localhost:8080/"
        },
        "id": "1_cZa2-Vxuq1",
        "outputId": "7755e4f1-368e-45cf-eb82-cfba857be7e6"
      },
      "execution_count": null,
      "outputs": [
        {
          "output_type": "stream",
          "name": "stdout",
          "text": [
            "(i) 물고기를 잡았습니다.\n",
            "(i) 물고기를 잡았습니다.\n",
            "(i) 물고기를 잡았습니다.\n",
            "(i) 물고기를 잡았습니다.\n",
            "아직 여유가 있지만. 만족하고 돌아갑시다.\n",
            "수고하셨습니다.\n"
          ]
        }
      ]
    },
    {
      "cell_type": "code",
      "source": [
        "l = [0, 3, -1, 10]\n",
        "\n",
        "for x in l:\n",
        "  if x < 0:\n",
        "    print(\"음수가 발견되었습니다. 프로그램을 종료합니다.\")\n",
        "    break\n",
        "else:\n",
        "  print('음수를 발견하지 못했습니다.')"
      ],
      "metadata": {
        "id": "yrGgq65Zxzdc"
      },
      "execution_count": null,
      "outputs": []
    },
    {
      "cell_type": "code",
      "source": [
        "# 반복문 기초 break - coutinue\n",
        "\n",
        "# 반복 출력\n",
        "\n",
        "for i in range(10):\n",
        "  if i == 3:\n",
        "    break\n",
        "  \n",
        "  if i == 1:\n",
        "    continue\n",
        "  print(i)"
      ],
      "metadata": {
        "colab": {
          "base_uri": "https://localhost:8080/"
        },
        "id": "l2P4SO_03yP9",
        "outputId": "ecb51343-7b2c-4815-9571-a284851105bf"
      },
      "execution_count": null,
      "outputs": [
        {
          "output_type": "stream",
          "name": "stdout",
          "text": [
            "0\n",
            "2\n"
          ]
        }
      ]
    },
    {
      "cell_type": "code",
      "source": [
        "# 이중 반복문\n",
        "\n",
        "# 구구단 만들기\n",
        "\n",
        "for i in range(1,10):\n",
        "    for j in range(1,10):\n",
        "      print(i,j,i*j)"
      ],
      "metadata": {
        "id": "v3uNh91O5y2A"
      },
      "execution_count": null,
      "outputs": []
    },
    {
      "cell_type": "code",
      "source": [
        "# 리스트 컴프리핸션\n",
        "\n",
        "# 예제1)\n",
        "# list_i = []\n",
        "# for i in range(1,10):\n",
        "#   list_i.append(i)        \n",
        "\n",
        "x= [i for i in ragne(1,10)]     # 위에 3줄을 한줄로 줄일 수 있음"
      ],
      "metadata": {
        "id": "_cvoORHk6opF"
      },
      "execution_count": null,
      "outputs": []
    },
    {
      "cell_type": "code",
      "source": [
        "# 반복문 예제 2\n",
        "\n",
        "y = [f'{i} * {j} = {i*j}' for i in range(2,10) for j in range(1,10)] \n",
        "print(y)"
      ],
      "metadata": {
        "id": "dR_EA68U7u_1"
      },
      "execution_count": null,
      "outputs": []
    },
    {
      "cell_type": "code",
      "source": [
        "print(list_i)"
      ],
      "metadata": {
        "id": "H3NSJZL871q8"
      },
      "execution_count": null,
      "outputs": []
    },
    {
      "cell_type": "code",
      "source": [
        "# 반복문 예제 3\n",
        "\n",
        "def sumtingFuncthing(i):\n",
        "  if i % 100 == 0:\n",
        "    return i\n",
        "  else:\n",
        "    return 0"
      ],
      "metadata": {
        "id": "p1bwB9EV760d"
      },
      "execution_count": null,
      "outputs": []
    },
    {
      "cell_type": "code",
      "source": [
        "old_list = [100,200,300,101,202,303]\n",
        "new_list = [sumthingFuncthing(i) for i in old_list]\n",
        "print(sum(new_list))"
      ],
      "metadata": {
        "id": "KwqeGVl_9fKS"
      },
      "execution_count": null,
      "outputs": []
    },
    {
      "cell_type": "code",
      "source": [
        "# 다중인자 리스트 순회\n",
        "\n",
        "#다중 리스트 for문\n",
        "skill = [\n",
        "        ('고기잡이', 100),\n",
        "        ('고기팔기', 120),\n",
        "        ('낚시', 5),\n",
        "        ('통발', 5),\n",
        "        ('큰그물', 5)\n",
        "]\n",
        "\n",
        "for i,j in skill:\n",
        "    print(i,j)"
      ],
      "metadata": {
        "id": "B5oZhM1z9V22"
      },
      "execution_count": null,
      "outputs": []
    },
    {
      "cell_type": "code",
      "source": [
        "#[In]\n",
        "\n",
        "# enumerate\n",
        "\n",
        "skill = [\n",
        "        ('고기잡이', 100, 'SS'),\n",
        "        ('고기팔기', 120, 'SSS'),\n",
        "        ('낚시', 5, 'C'),\n",
        "        ('통발', 5, 'C'),\n",
        "        ('큰그물', 5, 'C')\n",
        "]\n",
        "\n",
        "for i, (skillName, skillLevel, skillGrade) in enumerate(skill):\n",
        "    print(i, skillName, skillLevel, skillGrade)"
      ],
      "metadata": {
        "id": "Ze2mZzFO-OKd"
      },
      "execution_count": null,
      "outputs": []
    },
    {
      "cell_type": "code",
      "source": [
        "for i, j in enumerate(skill, 100):\n",
        "  print(i, j)"
      ],
      "metadata": {
        "id": "pYCwp9a2-QCc"
      },
      "execution_count": null,
      "outputs": []
    },
    {
      "cell_type": "code",
      "source": [
        "# 반복문 연습문제 1\n",
        "\n",
        "for a in range(8):\n",
        "  a += 1\n",
        "print(a)\n",
        "\n",
        "# 1. 6\n",
        "# 2. 7\n",
        "# 3. 8\n",
        "# 4. 9\n",
        "# 5. None"
      ],
      "metadata": {
        "colab": {
          "base_uri": "https://localhost:8080/"
        },
        "id": "UUBH2Eje-aO-",
        "outputId": "42eea8d0-59aa-4a2e-c04b-27c1487f6cdf"
      },
      "execution_count": null,
      "outputs": [
        {
          "output_type": "stream",
          "name": "stdout",
          "text": [
            "8\n"
          ]
        }
      ]
    },
    {
      "cell_type": "code",
      "source": [
        "# 반복문 연습문제 2\n",
        "for a in range(8):\n",
        "  a *= (a-1)\n",
        "print(a)\n",
        "\n",
        "# 1. 6\n",
        "# 2. 7\n",
        "# 3. 42\n",
        "# 4. 9\n",
        "# 5. None"
      ],
      "metadata": {
        "colab": {
          "base_uri": "https://localhost:8080/"
        },
        "id": "TXeGHCGq-1Cc",
        "outputId": "0d923d5e-c16a-4fb8-c4b8-1a5b59a47e98"
      },
      "execution_count": null,
      "outputs": [
        {
          "output_type": "stream",
          "name": "stdout",
          "text": [
            "42\n"
          ]
        }
      ]
    },
    {
      "cell_type": "code",
      "source": [
        "# 반복문 연습문제 3\n",
        "for a in range(8):\n",
        "  a += a\n",
        "print(a)\n",
        "\n",
        "# 1. 6\n",
        "# 2. 7\n",
        "# 3. 8\n",
        "# 4. 9\n",
        "# 5. 답없음"
      ],
      "metadata": {
        "colab": {
          "base_uri": "https://localhost:8080/"
        },
        "id": "ksqXU4rx_3nZ",
        "outputId": "617a955a-fe7a-4af9-8cc3-f29d22ac4e9c"
      },
      "execution_count": null,
      "outputs": [
        {
          "output_type": "stream",
          "name": "stdout",
          "text": [
            "14\n"
          ]
        }
      ]
    },
    {
      "cell_type": "code",
      "source": [
        "# 반복문 연습문제 4\n",
        "for a in range(8):\n",
        "  a *= 1\n",
        "print(a)\n",
        "\n",
        "# 1. 6\n",
        "# 2. 7\n",
        "# 3. 8\n",
        "# 4. 9\n",
        "# 5. 답없음"
      ],
      "metadata": {
        "colab": {
          "base_uri": "https://localhost:8080/"
        },
        "id": "mKgKC5uoAAJX",
        "outputId": "f574e6c2-5ed3-4fe7-a6a6-47ba945f3002"
      },
      "execution_count": null,
      "outputs": [
        {
          "output_type": "stream",
          "name": "stdout",
          "text": [
            "7\n"
          ]
        }
      ]
    },
    {
      "cell_type": "code",
      "source": [
        "a = 1\n",
        "while 1 < 10 :\n",
        "\tprint(a)\n",
        "\ta += 1"
      ],
      "metadata": {
        "id": "FhvkFaPUEqYa"
      },
      "execution_count": null,
      "outputs": []
    },
    {
      "cell_type": "code",
      "source": [
        "# while문 예제 2\n",
        "숫자 = 0\n",
        "while True:\n",
        "\tprint(\"현재 숫자는 \", 숫자, \"입니다.\")\n",
        "\t숫자 += 1\n",
        "\tif 숫자 > 5:\n",
        "\t\tprint(\"반복문을 종료합니다.\")\n",
        "\t\tbreak"
      ],
      "metadata": {
        "colab": {
          "base_uri": "https://localhost:8080/"
        },
        "id": "UEGQHBojEojD",
        "outputId": "e2b7b590-acb2-416c-eef7-7dd787a7477d"
      },
      "execution_count": null,
      "outputs": [
        {
          "output_type": "stream",
          "name": "stdout",
          "text": [
            "현재 숫자는  0 입니다.\n",
            "현재 숫자는  1 입니다.\n",
            "현재 숫자는  2 입니다.\n",
            "현재 숫자는  3 입니다.\n",
            "현재 숫자는  4 입니다.\n",
            "현재 숫자는  5 입니다.\n",
            "반복문을 종료합니다.\n"
          ]
        }
      ]
    },
    {
      "cell_type": "code",
      "source": [
        "# while else\n",
        "\n",
        "숫자 = 0\n",
        "while 숫자 < 5:\n",
        "  print(\"현재 숫자는 \", 숫자, \"입니다.\")\n",
        "  숫자 += 1\n",
        "else:\n",
        "  print(\"반복문을 종료합니다.\")"
      ],
      "metadata": {
        "id": "Vk17zJsoFwyQ"
      },
      "execution_count": null,
      "outputs": []
    },
    {
      "cell_type": "code",
      "source": [
        "시간 = 0\n",
        "현재시간 = int(input(\"시를 입력해주세요\"))\n",
        "종료시간 = 18\n",
        "if 현재시간 > 종료시간:\n",
        "  print('수업이 끝났기 때문에 Q&A시간을 가지겠습니다.')\n",
        "else:\n",
        "  while True:\n",
        "    시간 += 1\n",
        "    현재시간 += 1\n",
        "    print(f'{시간}시간이 지나 {현재시간}시가 되었습니다.')\n",
        "    if 현재시간 == 종료시간:\n",
        "      print('수업 종료시간이 되었기 때문에 Q&A시간을 가지겠습니다.')\n",
        "      break"
      ],
      "metadata": {
        "id": "ChAnJQhwH4qw"
      },
      "execution_count": null,
      "outputs": []
    },
    {
      "cell_type": "code",
      "source": [
        "# 구구단 5단까지 출력하기\n",
        "\n",
        "for i in range(2, 10):\n",
        "  for j in range(1, 10):\n",
        "    if j > 5:\n",
        "      break\n",
        "    print(f'{i} * {j} = {i*j}')"
      ],
      "metadata": {
        "id": "f2HXLhPqE8xj"
      },
      "execution_count": null,
      "outputs": []
    },
    {
      "cell_type": "code",
      "source": [
        "# continue\n",
        "\n",
        "count_amount= [\n",
        "    (3, 15000),\n",
        "    (5, 25000),\n",
        "    (1, 5000),\n",
        "    (8, 40000),\n",
        "    (0, 0),\n",
        "    (2, 10000)\n",
        "]\n",
        "\n",
        "for count, amount in count_amount:\n",
        "  if count < 1:\n",
        "    continue\n",
        "  print(f'구매개수는 {count}, 구매가격은 {amount}')"
      ],
      "metadata": {
        "id": "kWSbFzFMJQ6g"
      },
      "execution_count": null,
      "outputs": []
    },
    {
      "cell_type": "code",
      "source": [
        "#pass\n",
        "구매개수_총가격= [\n",
        "    (3, 15000),\n",
        "    (5, 25000),\n",
        "    (1, 5000),\n",
        "    (8, 40000),\n",
        "    (0, 0),\n",
        "    (2, 10000)\n",
        "    ]\n",
        "for 구매개수, 총가격 in 구매개수_총가격:\n",
        "    if 구매개수 < 1:\n",
        "        pass\n",
        "    print('구매개수는 {}개이며 {}원입니다.'.format(구매개수, 총가격))"
      ],
      "metadata": {
        "id": "2pmOEXgIJTNF"
      },
      "execution_count": null,
      "outputs": []
    },
    {
      "cell_type": "code",
      "source": [
        "# while문으로 구구단 만들기\n",
        "\n",
        "i= 2\n",
        "while i < 10:\n",
        "  k = 1\n",
        "  while k < 10:\n",
        "     print(i, \"*\",k, \"=\",i*k)\n",
        "     k += 1\n",
        "  i += 1\n"
      ],
      "metadata": {
        "id": "SmYAeyB1JgOo"
      },
      "execution_count": null,
      "outputs": []
    },
    {
      "cell_type": "code",
      "source": [
        "#조건문 문제\n",
        "#1부터 10까지 짝수를 뽑으려면 어떤 코드를 작성해야할까요?\n",
        "\n",
        "a = 1\n",
        "\n",
        "while  a < 11:\n",
        "  if a % 2 == 0:\n",
        "    print(a)\n",
        "    a += 1\n",
        "  else:\n",
        "    a += 1\n",
        "  \n",
        "  if a == 0:\n",
        "    break\n",
        "\n",
        "#1. a == 10\n",
        "#2. a != 10\n",
        "#3. a < 10\n",
        "#4. a >= 10\n",
        "#5. a < 11"
      ],
      "metadata": {
        "colab": {
          "base_uri": "https://localhost:8080/"
        },
        "id": "mF00HDa6KLYw",
        "outputId": "1e54a4b6-1577-4dca-ba69-66b00d79cf47"
      },
      "execution_count": null,
      "outputs": [
        {
          "output_type": "stream",
          "name": "stdout",
          "text": [
            "2\n",
            "4\n",
            "6\n",
            "8\n",
            "10\n"
          ]
        }
      ]
    },
    {
      "cell_type": "code",
      "source": [
        "# 조건문 문제\n",
        "# 실행결과가 0인 코드를 작성하고 싶을때 어떻게 작성해야하는가?\n",
        "\n",
        "money = 2000\n",
        "snack = 500\n",
        "water = 1000\n",
        "while money !=0:\n",
        "  if money > 1000:\n",
        "    money -= water\n",
        "  elif 0 < money <= 1000:\n",
        "    money -= snack * 2\n",
        "print(money)\n",
        "  \n",
        "# 1. money - 1500\n",
        "# 2. money - 1000\n",
        "# 3. money - 2000\n",
        "# 4. money + 500\n",
        "# 5. money - 500\n",
        "# 6. 답 없음\n"
      ],
      "metadata": {
        "colab": {
          "base_uri": "https://localhost:8080/"
        },
        "id": "MAH-M0LnLQx4",
        "outputId": "c4647c14-b1f6-421f-84b7-ba1ee98f914e"
      },
      "execution_count": null,
      "outputs": [
        {
          "output_type": "stream",
          "name": "stdout",
          "text": [
            "0\n"
          ]
        }
      ]
    },
    {
      "cell_type": "code",
      "source": [
        "# while문 \n",
        "\n",
        "i = 0 # 초기식이 필요함\n",
        "\n",
        "while i < count:   # i가 count보다 작을 때 반복\n",
        "  print(i,'번째 출력')\n",
        "  i += 1  # 감소는 i -= 1\n"
      ],
      "metadata": {
        "id": "u5cWqhBNL44l"
      },
      "execution_count": null,
      "outputs": []
    },
    {
      "cell_type": "code",
      "source": [
        "# 실습1. 1~100사이의 숫자를 맞출때까지 반복하는 while문을 작성해주시면 됩니다.\n",
        "# 내가 입력한 숫자가 컴퓨터 숫자보다 작으면 \"값이 작다\"\n",
        "# 내가 입력한 숫자가 컴퓨터 숫자보다 크면 \"값이 크다\"\n",
        "# 답이 맞으면 맞았습니다. \n",
        "\n",
        "import random\n",
        "guess_number = random.randint(1,100)\n",
        "user_input = int(input(\"숫자를 입력해서 값을 맞춰보세요\"))\n",
        "\n",
        "while (user_input != guess_number):\n",
        "  if user_input > guess_number:\n",
        "    print(\"숫자가 큽니다.\")\n",
        "  else:\n",
        "    print(\"숫자가 작습니다.\")\n",
        "  user_input = int(input(\"숫자를 입력해서 값을 다시 맞춰보세요\"))\n",
        "else:\n",
        "  print(\"정답입니다.\")"
      ],
      "metadata": {
        "id": "qAxZl6yyOIXO"
      },
      "execution_count": null,
      "outputs": []
    },
    {
      "cell_type": "code",
      "source": [
        "# 제코베 문제 1.\n",
        "\n",
        "a = 10\n",
        "b = 2\n",
        "for i in range(1,5,2):\n",
        "  a += i\n",
        "print(a+b)"
      ],
      "metadata": {
        "colab": {
          "base_uri": "https://localhost:8080/"
        },
        "id": "p-KNKCZw-Fum",
        "outputId": "d31a1aea-c633-4ddc-f8ad-9c7e5cee5e81"
      },
      "execution_count": 1,
      "outputs": [
        {
          "output_type": "stream",
          "name": "stdout",
          "text": [
            "16\n"
          ]
        }
      ]
    },
    {
      "cell_type": "code",
      "source": [
        "x = 'python'\n",
        "for i in range(5):\n",
        "  print(x[i:i+2])\n",
        "\n",
        "\n",
        "# data = input(\"문자를 입력하세요\")\n",
        "\n",
        "# for i in range(len(data) - 1):\n",
        "#   print(data[i], data[i+1], sep = '')"
      ],
      "metadata": {
        "colab": {
          "base_uri": "https://localhost:8080/"
        },
        "id": "vBgHtu2o-iwd",
        "outputId": "07668588-1575-4c9d-cd7b-a21db2a68838"
      },
      "execution_count": 10,
      "outputs": [
        {
          "output_type": "stream",
          "name": "stdout",
          "text": [
            "py\n",
            "yt\n",
            "th\n",
            "ho\n",
            "on\n"
          ]
        }
      ]
    },
    {
      "cell_type": "code",
      "source": [
        "# 제코베 문제 3. 반장선거\n",
        "\n",
        "# 입력\n",
        "input[\"원범, 원범, 혜원 혜원 혜원 혜원 유진 유진\"]\n",
        "# 1) 투표결과를 받아와서\n",
        "# 2) 해당 결과를 알맞는 자료구조로 반환해서\n",
        "# 3) 가장 많이 받은 표를 계산 후 출력\n",
        "\n",
        "# 결과\n",
        "# 혜원이 4표를 받아서 반장이 되었습니다."
      ],
      "metadata": {
        "id": "XUrNnM-OBCBx"
      },
      "execution_count": null,
      "outputs": []
    },
    {
      "cell_type": "code",
      "source": [
        "# 1. 데이터 입력받기기\n",
        "data = input(\"투표 결과를 입력해주세요\").split()"
      ],
      "metadata": {
        "colab": {
          "base_uri": "https://localhost:8080/"
        },
        "id": "I5alRinEDTIb",
        "outputId": "ae77497b-d989-4aff-e833-22950073f2f8"
      },
      "execution_count": 22,
      "outputs": [
        {
          "name": "stdout",
          "output_type": "stream",
          "text": [
            "투표 결과를 입력해주세요원범, 원범, 혜원 혜원 혜원 혜원 유진 유진\n"
          ]
        }
      ]
    },
    {
      "cell_type": "code",
      "source": [
        "# 2. 적절한 데이터셋으로 전환환\n",
        "data_set = set(data) # 중복을 포함하지 않는 자료구조"
      ],
      "metadata": {
        "id": "py8znUtJDdIl"
      },
      "execution_count": 23,
      "outputs": []
    },
    {
      "cell_type": "code",
      "source": [
        "# 3. dict 형태로 가져오기\n",
        "data_dict = {}\n",
        "for key in data_set:\n",
        "  data_dict[key] = data.count(key)"
      ],
      "metadata": {
        "id": "4M3iiV90DlYw"
      },
      "execution_count": 24,
      "outputs": []
    },
    {
      "cell_type": "code",
      "source": [
        "data_dict"
      ],
      "metadata": {
        "colab": {
          "base_uri": "https://localhost:8080/"
        },
        "id": "G2xa1eqBDv8s",
        "outputId": "e2a8945d-63ea-4161-e61e-fbd581a22b2a"
      },
      "execution_count": 25,
      "outputs": [
        {
          "output_type": "execute_result",
          "data": {
            "text/plain": [
              "{'원범,': 2, '유진': 2, '혜원': 4}"
            ]
          },
          "metadata": {},
          "execution_count": 25
        }
      ]
    },
    {
      "cell_type": "code",
      "source": [
        "# 4. 최대값을 출력 max()\n",
        "print(f\"{max(data_dict.keys())}가 반장이 되었습니다. {max(data_dict.values())} 표를 받았습니다.\")"
      ],
      "metadata": {
        "colab": {
          "base_uri": "https://localhost:8080/"
        },
        "id": "YGgZHJ9gDx2u",
        "outputId": "38c35fda-ff51-44c5-a39e-b250d057ecf3"
      },
      "execution_count": 26,
      "outputs": [
        {
          "output_type": "stream",
          "name": "stdout",
          "text": [
            "혜원가 반장이 되었습니다. 4 표를 받았습니다.\n"
          ]
        }
      ]
    },
    {
      "cell_type": "code",
      "source": [
        "# 2+1 상품 집계\n",
        "price = 1000\n",
        "goods = 3\n",
        "total = 0\n",
        "\n",
        "for i in range(1, goods + 1):\n",
        "  print(\"2+1 상품입니다.\")\n",
        "  if i % 3 == 0:\n",
        "    continue\n",
        "  total += price\n",
        "\n",
        "print(f\"총 가격은 {total}원 입니다\")"
      ],
      "metadata": {
        "id": "0drQTqgkEMno"
      },
      "execution_count": null,
      "outputs": []
    },
    {
      "cell_type": "markdown",
      "source": [
        "# 제코베 문제 4. 놀이동산에 가자\n",
        "\n",
        "테마파크에 온 원범이와 친구들은 놀이기구를 타려고 합니다. 모든 놀이기구는 한번에 타는 인원수에는 제한이 없지만 제한 무게를 넘으면 무조건 다음 기구를 타야 합니다. \n",
        "\n",
        "**원범이와 친구들이 총 몇 명 탈 수 있는지 알 수 있는 프로그램을 작성해 주세요.**\n",
        "\n",
        "첫번째 줄에서 제한 무게가 주어지고 두번째 줄에서는 함께한 친구들의 수 n이 주어집니다. \n",
        "그 다음 차례대로 탑승할 친구들의 몸무게가 주어집니다. 몸무게는 무작위로 주어집니다.\n",
        "\n",
        "- 단, 놀이기구는 선착순으로만 탈 수 있습니다.\n",
        "- 두 명 이상의 인원이 항상 탑승합니다."
      ],
      "metadata": {
        "id": "MWKBwJJ8Etiw"
      }
    },
    {
      "cell_type": "code",
      "source": [
        "# 1. input 가져오기\n",
        "제한무게 = float(input(\"제한 무게를 입력하세요\"))\n",
        "친구수 = int(input(\"친구 수를 입력해 주세요\"))\n",
        "친구몸무게 = []\n",
        "전체몸무게 = 0\n",
        "제한인원 = 0\n",
        "비교 = True\n",
        "\n",
        "for i in range(친구수):\n",
        "  친구몸무게.append(float(input(\"친구 몸무게를 입력해 주세요.\")))\n",
        "  전체몸무게 += 친구몸무게[i]\n",
        "\n",
        "  if 전체몸무게 > 제한무게:\n",
        "    if 비교:\n",
        "      비교 = False\n",
        "      제한수 = i\n",
        "if 제한수 == 0 and 친구몸무게[0] <= 제한무게:\n",
        "  print(len(친구몸무게))\n",
        "else:\n",
        "  print(f\"{제한수}명이 제한인원입니다.\")"
      ],
      "metadata": {
        "colab": {
          "base_uri": "https://localhost:8080/"
        },
        "id": "VszqVKNWEuWd",
        "outputId": "334e7415-1db8-46bb-8f15-d0a023051ea7"
      },
      "execution_count": 33,
      "outputs": [
        {
          "output_type": "stream",
          "name": "stdout",
          "text": [
            "제한 무게를 입력하세요100\n",
            "친구 수를 입력해 주세요2\n",
            "친구 몸무게를 입력해 주세요.50\n",
            "친구 몸무게를 입력해 주세요.60\n",
            "1명이 제한인원입니다.\n"
          ]
        }
      ]
    },
    {
      "cell_type": "markdown",
      "source": [
        "# 최종 실습\n",
        "\n",
        "1. 택시 기사의 하루 일당 구하기\n",
        "\n",
        "법인에 소속된 택시기사들의 평균 사납금(영업을 하게 하는  댓가로 지불하는 비용(기름값, 차량렌트비 등)은 기본 13만 5천원입니다. 하루 매출이 13만 5천원을 벌지 못하면 그날은 수입이 마이너스가 되는겁니다. \n",
        "\n",
        "오늘도 바쁘게 손님을 맞이하는 A기사님은 매출이 30만원이 되길 바라고 있습니다. \n",
        "\n",
        "1. A기사님은 오늘 매출 30만원을 채우기를 원합니다. (30만원 이상일 경우 운행 종료)\n",
        "2. 손님별 운행시간은 5 ~ 20분으로 정합니다.\n",
        "3. 그 중 5 ~ 15분인 고객의 콜을 받습니다.\n",
        "4. 기본요금은 기본 5분일 경우 5,000원으로 1분이 추가될때마다 1,000원을 더 추가합니다.\n",
        "5. 1) 오늘 콜을 받은 횟수\n",
        "   2) 승객의 탑승횟수, \n",
        "   3) 30만원을 채우기까지 총 소요시간 그리고 \n",
        "   4) 승객에게 받은 요금과 \n",
        "   5) 사납금을 납부하고 남은 금액을 최종 산출하세요"
      ],
      "metadata": {
        "id": "9ms4XbhyMevy"
      }
    },
    {
      "cell_type": "code",
      "source": [
        "# 내가 풀어본거 개판\n",
        "import random\n",
        "운행시간 = int(random.randint(5,20))\n",
        "손님수 = 0\n",
        "금액 = 0\n",
        "while 손님수 >= 0:\n",
        "  if 5 <= 운행시간 <= 15:\n",
        "    손님수 += 1\n",
        "    금액 += 운행시간 * 1000\n",
        "    print(f\"{손님수}가 탑승하였습니다. 소요시간은{운행시간}입니다. 금액은{5000 + (운행시간-5)*1000}원 입니다.\")\n",
        "  if 금액 >= 300000:\n",
        "    break"
      ],
      "metadata": {
        "id": "PL7SgNwZNG4p"
      },
      "execution_count": null,
      "outputs": []
    },
    {
      "cell_type": "code",
      "source": [
        "from random import randrange\n",
        "\n",
        "# 매칭횟수(콜 받은 횟수)\n",
        "matching = 0\n",
        "\n",
        "# 실제로 탄 고객(탑승횟수)\n",
        "people = 0\n",
        "\n",
        "# 택시 이용요금(승객에게 받은 요금)\n",
        "money = 0\n",
        "\n",
        "# 총 운행 시간(총 소요시간)\n",
        "all_time = 0\n",
        "\n",
        "# 운행은 30만원 이상일 때 종료\n",
        "while money < 300000:\n",
        "  matching += 1\n",
        "  time = randrange(5, 20)\n",
        "  \n",
        "  if 5 <= time <= 15:\n",
        "    people += 1\n",
        "    each_money = time * 1000\n",
        "    print(f\"손님 {people}이 탑승했습니다. 소요시간은{time}분이 걸립니다. 요금은 {each_money}입니다.\")\n",
        "    money += each_money\n",
        "    all_time += time\n",
        "  else:\n",
        "    print(\"매칭에 실패하였습니다.\")\n",
        "\n",
        "print(f\"오늘 매칭 횟수는 {matching}번 이고, 탑승손님 {people}명 이고, 소요시간은 {all_time}분 이고, 총 매출은 {money}입니다.\")"
      ],
      "metadata": {
        "id": "Oz-c19NXMegl"
      },
      "execution_count": null,
      "outputs": []
    }
  ]
}