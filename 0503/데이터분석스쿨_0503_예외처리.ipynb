{
  "nbformat": 4,
  "nbformat_minor": 0,
  "metadata": {
    "colab": {
      "provenance": []
    },
    "kernelspec": {
      "name": "python3",
      "display_name": "Python 3"
    },
    "language_info": {
      "name": "python"
    }
  },
  "cells": [
    {
      "cell_type": "markdown",
      "source": [
        "# 05. 예외처리\n",
        "\n",
        "오류가 나면 파이썬은 에러가 나서 -> 수행이 중지가 됩니다.\n",
        "1. 중지 되지 않고 수행\n",
        "2. 예외적인 부분이나 에러를 좀더 효과적으로\n",
        "3. 기타\n",
        "\n",
        "[오류의 종류]\n",
        "* 프로그램 실행 전에 발생\n",
        "* 프로그램 실행 중에 발생\n",
        "\n",
        "[예시]\n",
        "* ML 모델 돌리는데 데이터에 Null값이 있을때 \n",
        "* 크롤링시에 URL주소를 잘못 입력했을때\n",
        "* 숫자형 대신에 누군가 문자형을 입력했을때\n"
      ],
      "metadata": {
        "id": "45UmEOsZYUuo"
      }
    },
    {
      "cell_type": "markdown",
      "source": [
        "## 05-1 Try - except문"
      ],
      "metadata": {
        "id": "U_cG1EyWYZGV"
      }
    },
    {
      "cell_type": "code",
      "execution_count": null,
      "metadata": {
        "id": "JkcQA_lkWiCn"
      },
      "outputs": [],
      "source": [
        "# Try except문 예제\n",
        "\n",
        "try:\n",
        "  명령\n",
        "except:\n",
        "  예외 처리 명령"
      ]
    },
    {
      "cell_type": "code",
      "source": [
        "# Try except문 예제\n",
        "try: # 꼭 실행되어야 할 구문\n",
        "  num = int(input('숫자를 입력해주세요'))\n",
        "except: # try가 실행되지 않았을때 except 실행\n",
        "  print(\"숫자 외에 자료형이 입력되었어요\")"
      ],
      "metadata": {
        "id": "tX33qXD1Ya1A"
      },
      "execution_count": null,
      "outputs": []
    },
    {
      "cell_type": "code",
      "source": [
        "# Try except문 예제\n",
        "try: # 꼭 실행되어야 할 구문\n",
        "  num = int(input('숫자를 입력해주세요'))\n",
        "except ValueError: # try가 실행되지 않았을때 except 실행\n",
        "  print(\"숫자 외에 자료형이 입력되었어요\")"
      ],
      "metadata": {
        "id": "8-p89FpfYbJj"
      },
      "execution_count": null,
      "outputs": []
    },
    {
      "cell_type": "code",
      "source": [
        "# 예외 발생\n",
        "def div_num(a,b):\n",
        "  '''나눗셈 결과를 print하는 함수'''\n",
        "  val = a / b\n",
        "  print(val)"
      ],
      "metadata": {
        "id": "kDKbsWs8YbFu"
      },
      "execution_count": null,
      "outputs": []
    },
    {
      "cell_type": "code",
      "source": [
        "def div_num(a,b):\n",
        "  try:\n",
        "    val = a / b\n",
        "    print(val)\n",
        "  except ZeroDivisionError:\n",
        "    print(\"나눗셈의 분모가 0일때는 처리할 수 없습니다.\")\n",
        "\n",
        "div_num(3, 0)"
      ],
      "metadata": {
        "colab": {
          "base_uri": "https://localhost:8080/"
        },
        "id": "tg-aite1YbAu",
        "outputId": "14404629-5d61-4cf6-e323-7a5eed06ede7"
      },
      "execution_count": 1,
      "outputs": [
        {
          "output_type": "stream",
          "name": "stdout",
          "text": [
            "나눗셈의 분모가 0일때는 처리할 수 없습니다.\n"
          ]
        }
      ]
    },
    {
      "cell_type": "markdown",
      "source": [
        "[예외 종류]\n",
        "* AttributeError - 존재하지 않는 속성 지정\n",
        "* IndexError - 존재하지 않는 범위의 인덱스 지정\n",
        "* KeyError - 존재하지 않는 키를 지정\n",
        "* TypeError - 올바르지 않는 타입 지정\n",
        "* ValueError - 올바르지 않는 값 지정\n",
        "* ZeroDivisionError - 0으로 나눔"
      ],
      "metadata": {
        "id": "62-nodAoZgVf"
      }
    },
    {
      "cell_type": "code",
      "source": [
        "def div_num(a,b):\n",
        "  try:\n",
        "    val = a / b\n",
        "    print(val)\n",
        "  except ZeroDivisionError:\n",
        "    print(\"나눗셈의 분모가 0일때는 처리할 수 없습니다.\")\n",
        "  except TypeError:\n",
        "    print(\"연산할수 없는 인수를 지정했습니다. 그래서 처리할 수 없습니다.\")\n",
        "  except Exception:\n",
        "    print(\"알수없는 예외가 발생했습니다.\")"
      ],
      "metadata": {
        "id": "SmE-7lGvYa9M"
      },
      "execution_count": null,
      "outputs": []
    },
    {
      "cell_type": "code",
      "source": [
        "div_num(\"abcdefg\", 2)"
      ],
      "metadata": {
        "id": "H7lnACwwYa6M"
      },
      "execution_count": null,
      "outputs": []
    },
    {
      "cell_type": "code",
      "source": [
        "div_num(7, 0)"
      ],
      "metadata": {
        "id": "BR8BcL94ZkcI"
      },
      "execution_count": null,
      "outputs": []
    },
    {
      "cell_type": "code",
      "source": [
        "def div_num(a,b):\n",
        "  try:\n",
        "    val = a / b\n",
        "    print(val)\n",
        "  except ZeroDivisionError as zero:\n",
        "    print(f\"{zero}가 발생했습니다.\")"
      ],
      "metadata": {
        "id": "TSrnrHb5ZkYq"
      },
      "execution_count": null,
      "outputs": []
    },
    {
      "cell_type": "code",
      "source": [
        "div_num(7, 0)"
      ],
      "metadata": {
        "id": "AbY6kPi5ZkKG"
      },
      "execution_count": null,
      "outputs": []
    },
    {
      "cell_type": "markdown",
      "source": [
        "## 06-2 Try-Except-Pass문"
      ],
      "metadata": {
        "id": "9At1omX2bFul"
      }
    },
    {
      "cell_type": "code",
      "source": [
        "list_1 = [100, \"이백\", 300]\n",
        "\n",
        "list_num = []\n",
        "\n",
        "for i in list_1:\n",
        "  try:\n",
        "    float(i)\n",
        "    list_num.append(i)\n",
        "  except:\n",
        "    pass\n",
        "\n",
        "print(list_1)\n",
        "print(list_num)"
      ],
      "metadata": {
        "id": "WX-ySbMrbIdW"
      },
      "execution_count": null,
      "outputs": []
    },
    {
      "cell_type": "code",
      "source": [
        "float(\"이백\")"
      ],
      "metadata": {
        "id": "ddjvqHeQbKJ7"
      },
      "execution_count": null,
      "outputs": []
    },
    {
      "cell_type": "markdown",
      "source": [
        "# 06-3 Try except else문"
      ],
      "metadata": {
        "id": "9aZsZTl5bK0N"
      }
    },
    {
      "cell_type": "code",
      "source": [
        "try: #예외가 발생할것 같은 구문\n",
        "  num = int(input(\"숫자를 입력해주세요\"))\n",
        "\n",
        "except: #예외가 발생했을때 출력하는 구문\n",
        "  print(\"숫자가 입력되지 않았습니다.\")\n",
        "\n",
        "else: #예외가 발생하지 않았을때 문장 실행\n",
        "  print(f\"입력된 숫자는 {num} 입니다.\")"
      ],
      "metadata": {
        "id": "6C4UNhQ9bNUE"
      },
      "execution_count": null,
      "outputs": []
    },
    {
      "cell_type": "markdown",
      "source": [
        "# 06-4 Try-except-else-finally문"
      ],
      "metadata": {
        "id": "Shx0bzVtbPuF"
      }
    },
    {
      "cell_type": "code",
      "source": [
        "try: #예외가 발생할것 같은 구문\n",
        "  num = int(input(\"숫자를 입력해주세요\"))\n",
        "\n",
        "except: #예외가 발생했을때 출력하는 구문\n",
        "  print(\"숫자가 입력되지 않았습니다.\")\n",
        "\n",
        "else: #예외가 발생하지 않았을때 문장 실행\n",
        "  print(f\"입력된 숫자는 {num} 입니다.\")\n",
        "\n",
        "finally: #무조건 실행\n",
        "  print(\"이 구문은 무조건 실행됩니다.\")"
      ],
      "metadata": {
        "id": "goPIMm-kbQC6"
      },
      "execution_count": null,
      "outputs": []
    },
    {
      "cell_type": "code",
      "source": [
        "def div_num(a, b):\n",
        "  val = a / b\n",
        "  rint(\"나눗셈 결과: {}\".format(val))"
      ],
      "metadata": {
        "id": "Db-288bEbp9o"
      },
      "execution_count": null,
      "outputs": []
    },
    {
      "cell_type": "code",
      "source": [
        "def div_num(a, b):\n",
        "    try:\n",
        "        val = a / b\n",
        "        print(\"나눗셈 결과: {}\".format(val))\n",
        "    except:\n",
        "        print(\"예외가 발생했습니다.\")\n",
        "    else:\n",
        "        print(\"처리를 정상 종료했습니다.\")\n",
        "    finally:\n",
        "        print(\"처리를 종료했습니다.\")\n",
        "\n",
        "\n",
        "print('----- 정상 처리 시 -----')\n",
        "div_num(4, 2)\n",
        "print('----- 예외 발생 시 -----')\n",
        "div_num(10, 0)"
      ],
      "metadata": {
        "id": "w6bapdFWbRVs"
      },
      "execution_count": null,
      "outputs": []
    },
    {
      "cell_type": "markdown",
      "source": [
        "#05-5 사용자 정의 예외처리하기"
      ],
      "metadata": {
        "id": "xx6w7fisbtn6"
      }
    },
    {
      "cell_type": "code",
      "source": [
        "class MyError(Exception): #새로운 오류를 정의하려면 Exception을 상속해야함\n",
        "  pass\n",
        "\n",
        "try: #예외가 발생할거같은 구문\n",
        "  num = int(input(\"숫자를 입력해주세요\"))\n",
        "except: #예외가 발생했을때\n",
        "  print(\"숫자가 입력되지 않았습니다.\")\n",
        "  raise MyError\n",
        "except MyError:\n",
        "  print(\"숫자가 입력되지 않아 MyError 호출 하였습니다.\")\n",
        "else: #예외가 발생되지 않았을때 문장 실행\n",
        "  print(\"입력된 숫자는\", num, \"입니다\")\n",
        "finally:\n",
        "  print(\"이 구문은 무조건 실행됩니다.\")"
      ],
      "metadata": {
        "id": "XsmQ5eHxbRSl"
      },
      "execution_count": null,
      "outputs": []
    },
    {
      "cell_type": "markdown",
      "source": [
        "# 05-6 raise 구문"
      ],
      "metadata": {
        "id": "UFWDmSBsdGpi"
      }
    },
    {
      "cell_type": "code",
      "source": [
        "import numbers\n",
        "\n",
        "def caltime(num):\n",
        "  if not isinstance(num, numbers.Number):\n",
        "    raise TypeError(\"파라미터가 올바르지 않습니다.\")\n",
        "\n",
        "  return num * 10\n",
        "\n",
        "val = caltime(\"백\")\n",
        "print(val)"
      ],
      "metadata": {
        "id": "ab7mLgvebRQT"
      },
      "execution_count": null,
      "outputs": []
    },
    {
      "cell_type": "markdown",
      "source": [
        "## 05-7 맛집 관리 연습문제\n",
        "\n",
        "예외처리에 익숙해 진다는것에 의의를 두고 작성\n",
        "\n",
        "* 예외처리1 - 손님이 주문할 수 있는 최대 주문량은 2개  2개를 넘으면 최대 주문 에러 출력\n",
        "* 예외처리2 - 1보다 작거나 숫자가 아닌값이 들어오면 정수가 들어오지 않았습니다 값 에러 출력\n",
        "* 예외처리3 - 케이크가 다 떨어지면 Sold Out 에러 **출력**"
      ],
      "metadata": {
        "id": "6F3P0UoHdKL1"
      }
    },
    {
      "cell_type": "code",
      "source": [
        "cake = 4\n",
        "waiting = 1\n",
        "i = 0\n",
        "\n",
        "while i < 20:\n",
        "  try:\n",
        "    print(\"남은 케이크는\", cake, \"입니다\")\n",
        "    order = int(input(\"손님 케이크 몇개 주문하시나요?\"))\n",
        "    if order > cake: #케이크가 주문된것보다 갯수가 적을때 \n",
        "      print(\"손님 남은 케익이\", cake,\"라서 주문이 불가하세요\")\n",
        "    \n",
        "    elif order <= 0: #값이 음수거나 주문하지않은 0개일때는 Value Error 산출하고 빠져나옴(break)\n",
        "      raise ValueError\n",
        "      break\n",
        "\n",
        "    elif cake == 0:\n",
        "      raise SoldOutError\n",
        "      break\n",
        "\n",
        "    elif order >= 3:\n",
        "      raise MaxOrderError\n",
        "      break\n",
        "\n",
        "    else:\n",
        "      print(\"케익\", cake,\"개 포장해주세요\")\n",
        "      waiting += 1\n",
        "      cake -= order #주문 수 만큼 케이스 감소\n",
        "      i += order\n",
        "\n",
        "  except ValueError:\n",
        "    print(\"잘못된 값을 입력했습니다.\")\n",
        "    break"
      ],
      "metadata": {
        "colab": {
          "base_uri": "https://localhost:8080/"
        },
        "id": "nrkmHUzDbROD",
        "outputId": "b9927efd-3251-42bb-f67e-44869c48780c"
      },
      "execution_count": 13,
      "outputs": [
        {
          "output_type": "stream",
          "name": "stdout",
          "text": [
            "남은 케이크는 10 입니다\n",
            "손님 케이크 몇개 주문하시나요?2\n",
            "케익 2 개 포장해주세요\n",
            "남은 케이크는 8 입니다\n",
            "손님 케이크 몇개 주문하시나요?2\n",
            "케익 2 개 포장해주세요\n",
            "남은 케이크는 6 입니다\n",
            "손님 케이크 몇개 주문하시나요?2\n",
            "케익 2 개 포장해주세요\n",
            "남은 케이크는 4 입니다\n",
            "손님 케이크 몇개 주문하시나요?2\n",
            "케익 2 개 포장해주세요\n",
            "남은 케이크는 2 입니다\n",
            "손님 케이크 몇개 주문하시나요?2\n",
            "케익 2 개 포장해주세요\n"
          ]
        }
      ]
    },
    {
      "cell_type": "code",
      "source": [
        "cake = 20\n",
        "waiting = 1\n",
        "i = 0\n",
        "\n",
        "while i < 20:\n",
        "  try:\n",
        "    print(\"남은 케이크는\", cake, \"입니다\")\n",
        "    order = int(input(\"손님 케이크 몇개 주문하시나요?\"))\n",
        "    \n",
        "    if order > cake:\n",
        "      print(\"손님 남은 케익이\", cake,\"라서 주문이 불가하세요\")\n",
        "    \n",
        "    elif order <= 0: #값이 음수거나 주문하지 않은 0개일때때\n",
        "      raise ValueError\n",
        "      break\n",
        "    \n",
        "    elif cake == 0:\n",
        "      raise SoldOutError\n",
        "      break\n",
        "\n",
        "    elif order >= 3:\n",
        "      raise MaxOrderError\n",
        "      break\n",
        "\n",
        "    else:\n",
        "      print(\"케익\", cake,\"개 포장해주세요\")\n",
        "      waiting += 1\n",
        "      cake -= order #주문 수 만큼 케이스 감소\n",
        "      i += order\n",
        "  except ValueError:\n",
        "    print('잘못된 값을 입력했습니다다')"
      ],
      "metadata": {
        "id": "UXcsBch_bRKZ"
      },
      "execution_count": null,
      "outputs": []
    },
    {
      "cell_type": "code",
      "source": [
        "# 연습문제 1. 실행결과로 가장 마지막에 출력되는 값은?\n",
        "\n",
        "sentence = list(\"hello world\")\n",
        "\n",
        "while (len(sentence) + 1):\n",
        "  try:\n",
        "    print(sentence.pop(0))\n",
        "  except Exception as e:\n",
        "    print(e)\n",
        "    break\n",
        "\n",
        "#1. h\n",
        "#2. o\n",
        "#3. 공백\n",
        "#4. error    # 정답답\n",
        "#5. dlrow olleh"
      ],
      "metadata": {
        "id": "oRG81LTszI__"
      },
      "execution_count": null,
      "outputs": []
    },
    {
      "cell_type": "code",
      "source": [
        "# 연습문제 2. 다음실행결과는?\n",
        "# 1) try 안에 있는 문장이 어떻게 실행되는가?\n",
        "# 2) try가 아닌경우 어떤 문장/예외처리가 실행되는가\n",
        "#   2-1) except\n",
        "#.  2-2) finally\n",
        "\n",
        "try:\n",
        "  for i in range(1,7):\n",
        "    result = 7 // i # 나눗셈 결과 int\n",
        "    print(result)\n",
        "except ZeroDivisionError:\n",
        "  print(\"Not divided by 0\")\n",
        "finally:                       # 위의 문장과 상관없이 무조건 실행\n",
        "  print(\"종료되었습니다.\")\n",
        "\n",
        "# 1. 7 3 2 1 1 1\n",
        "# 2. 7 3 2 1 1 1 Not divided by 0\n",
        "# 3. 7 3 2 1 1 1 종료되었습니다.\n",
        "# 4. 7 3 2 1 1 1 Not divided by 0 종료되었습니다.\n",
        "# 5. Not divided by 0 종료되었습니다."
      ],
      "metadata": {
        "colab": {
          "base_uri": "https://localhost:8080/"
        },
        "id": "qSEvOLKm0i0b",
        "outputId": "def5c619-7ca7-4941-9107-f3517b435541"
      },
      "execution_count": 15,
      "outputs": [
        {
          "output_type": "stream",
          "name": "stdout",
          "text": [
            "7\n",
            "3\n",
            "2\n",
            "1\n",
            "1\n",
            "1\n",
            "종료되었습니다.\n"
          ]
        }
      ]
    },
    {
      "cell_type": "code",
      "source": [
        "# 연습문제 3\n",
        "import random\n",
        "answer = random.randint(1, 10)\n",
        "\n",
        "def guess_number(answer):\n",
        "  try:\n",
        "    guess = int(input(\"숫자를 넣어주세요 : \"))\n",
        "    if answer == guess:\n",
        "      print(\"정답 !\")\n",
        "    else:\n",
        "      print(\"오답 !\")\n",
        "  except ValueError:\n",
        "    print(\"숫자가 아닙니다.\")\n",
        "\n",
        "guess_number(answer) #hello를 입력한다면?\n",
        "\n",
        "#1. 정답!\n",
        "#2. 오답!\n",
        "#3. 숫자가 아닙니다\n",
        "#4. NameError\n",
        "#5. ValueError"
      ],
      "metadata": {
        "id": "7F-z_y5N1E4s"
      },
      "execution_count": null,
      "outputs": []
    },
    {
      "cell_type": "code",
      "source": [
        "# 연습문제 4 실행결과로 알맞은 것은?\n",
        "\n",
        "for i in range(3):\n",
        "  try:\n",
        "    print(i, 3//i)\n",
        "  except ZeroDivisionError:\n",
        "    print(\"Not divided by 0\")\n",
        "\n",
        "#1. 1 3\n",
        "#   2 1\n",
        "\n",
        "#2. Not divided by 0\n",
        "#   1 3\n",
        "#   2 1\n",
        "\n",
        "#3. 0 0\n",
        "\n",
        "#4. Not divided by 0\n",
        "\n",
        "#5. 0 0\n",
        "#   1 3\n",
        "#   2 1"
      ],
      "metadata": {
        "colab": {
          "base_uri": "https://localhost:8080/"
        },
        "id": "9uYyZRkn2AlK",
        "outputId": "a5acb45e-ae93-40fb-a96d-cd431feb36ca"
      },
      "execution_count": 19,
      "outputs": [
        {
          "output_type": "stream",
          "name": "stdout",
          "text": [
            "Not divided by 0\n",
            "1 3\n",
            "2 1\n"
          ]
        }
      ]
    }
  ]
}