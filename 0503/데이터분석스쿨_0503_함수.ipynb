{
  "nbformat": 4,
  "nbformat_minor": 0,
  "metadata": {
    "colab": {
      "provenance": []
    },
    "kernelspec": {
      "name": "python3",
      "display_name": "Python 3"
    },
    "language_info": {
      "name": "python"
    }
  },
  "cells": [
    {
      "cell_type": "markdown",
      "source": [
        "# 1. 함수 복습\n",
        "\n",
        "함수를 복습해봅시다. \n",
        "\n",
        "함수부터는 데이터 분석, 특히 머신러닝과 딥러닝을 활용할때에 많이 사용되므로 다시 복습해보면서 제대로 배워 나가도록 하겠습니다. \n",
        " \n",
        " * 코드의 재사용\n",
        " * 코드의 용도 구분\n",
        " * 실수 최소화\n"
      ],
      "metadata": {
        "id": "1rTCFdrt4F2T"
      }
    },
    {
      "cell_type": "code",
      "execution_count": null,
      "metadata": {
        "id": "MUCYyStE2hlv"
      },
      "outputs": [],
      "source": [
        "# 함수 예제 1 - 함수 생성\n",
        "\n",
        "def print_coin():\n",
        "  print(\"비트코인\")"
      ]
    },
    {
      "cell_type": "code",
      "source": [
        "# 함수 예제 1 - 함수 호출\n",
        "\n",
        "print_coin() # => \"비트코인\""
      ],
      "metadata": {
        "id": "igwE56hv4Ipx"
      },
      "execution_count": null,
      "outputs": []
    },
    {
      "cell_type": "code",
      "source": [
        "# 함수 예제 2 - 함수 반복\n",
        "\n",
        "for i in range(10):\n",
        "  print_coin()"
      ],
      "metadata": {
        "id": "2-ImqqXJ4ImJ"
      },
      "execution_count": null,
      "outputs": []
    },
    {
      "cell_type": "code",
      "source": [
        "# 함수 예제 3 - 함수를 호출할때 위치\n",
        "\n",
        "print_coin_2()\n",
        "\n",
        "def print_coin_2():\n",
        "  print(\"비트코인 2개\")"
      ],
      "metadata": {
        "id": "y3HfrBoX4Ijb"
      },
      "execution_count": null,
      "outputs": []
    },
    {
      "cell_type": "code",
      "source": [
        "# 함수 예제 4 - 연습 문제 1\n",
        "\n",
        "def message():\n",
        "  print('A')\n",
        "  print('B')\n",
        "\n",
        "message()\n",
        "print('C')\n",
        "message()"
      ],
      "metadata": {
        "colab": {
          "base_uri": "https://localhost:8080/"
        },
        "id": "wH9H06kU4Igb",
        "outputId": "285150f0-1518-4748-9071-248a1f03c5af"
      },
      "execution_count": null,
      "outputs": [
        {
          "output_type": "stream",
          "name": "stdout",
          "text": [
            "A\n",
            "B\n",
            "C\n",
            "A\n",
            "B\n"
          ]
        }
      ]
    },
    {
      "cell_type": "code",
      "source": [
        "# 함수 예제 5 - 연습 문제 2\n",
        "\n",
        "print('A')\n",
        "\n",
        "def message():\n",
        "  print(\"B\")\n",
        "\n",
        "print('C')\n",
        "\n",
        "message()"
      ],
      "metadata": {
        "colab": {
          "base_uri": "https://localhost:8080/"
        },
        "id": "OS69haLo4Ido",
        "outputId": "e95149ce-849e-4cee-940f-3b9edfc8a714"
      },
      "execution_count": null,
      "outputs": [
        {
          "output_type": "stream",
          "name": "stdout",
          "text": [
            "A\n",
            "C\n",
            "B\n"
          ]
        }
      ]
    },
    {
      "cell_type": "code",
      "source": [
        "# 함수 예제 6 - 연습 문제 3\n",
        "\n",
        "print('A')\n",
        "\n",
        "def message1():\n",
        "  print('B')\n",
        "\n",
        "print('C')\n",
        "\n",
        "def message2():\n",
        "  print(\"D\")\n",
        "\n",
        "message1()\n",
        "print('E')\n",
        "message2()"
      ],
      "metadata": {
        "id": "43WbHscv4Ia_"
      },
      "execution_count": null,
      "outputs": []
    },
    {
      "cell_type": "code",
      "source": [
        "# 함수 예제 7 - 연습 문제 4\n",
        "\n",
        "def message1():\n",
        "  print('A')\n",
        "\n",
        "def message2():\n",
        "  print('B')\n",
        "  message1()\n",
        "\n",
        "message2()"
      ],
      "metadata": {
        "id": "Sb5OqtTE4IYR"
      },
      "execution_count": null,
      "outputs": []
    },
    {
      "cell_type": "code",
      "source": [
        "# 함수 예제 8 - 연습 문제 5\n",
        "\n",
        "def message1():\n",
        "  print('A')\n",
        "\n",
        "def message2():\n",
        "  print('B')\n",
        "\n",
        "def message3():\n",
        "  for i in range(3):\n",
        "    message2()\n",
        "    print('C')\n",
        "  message1()\n",
        "\n",
        "message3()"
      ],
      "metadata": {
        "colab": {
          "base_uri": "https://localhost:8080/"
        },
        "id": "LusIOCvT4IVf",
        "outputId": "310b68b2-567e-4b60-e7b5-44a3f8721998"
      },
      "execution_count": null,
      "outputs": [
        {
          "output_type": "stream",
          "name": "stdout",
          "text": [
            "B\n",
            "C\n",
            "B\n",
            "C\n",
            "B\n",
            "C\n",
            "A\n"
          ]
        }
      ]
    },
    {
      "cell_type": "code",
      "source": [
        "# 함수 예제 9 - 숫자형 연습\n",
        "# 함수안에 있는 변수는 바깥에서 사용할 수가 없다는 것을 !!!\n",
        "\n",
        "def num(a, b): # a, b를 활용하는 함수 num\n",
        "  print(a + b) # 위에서 언급한 a, b는 밑에서 사용해 주셔야 합니다.\n",
        "\n",
        "#num(a, b)\n",
        "num(3, 4)"
      ],
      "metadata": {
        "id": "vTVfMccgAtM3"
      },
      "execution_count": null,
      "outputs": []
    },
    {
      "cell_type": "code",
      "source": [
        "# 함수 예제 10 - 숫자형 문자형 같이 사용했을때\n",
        "\n",
        "def num_str(a, b):\n",
        "  print(a + b)\n",
        "\n",
        "num_str(\"안녕\", 3)"
      ],
      "metadata": {
        "id": "4kMUxMG5AtJJ"
      },
      "execution_count": null,
      "outputs": []
    },
    {
      "cell_type": "code",
      "source": [
        "# 함수 예제 11 - 문자형 입력받는 경우\n",
        "def print_with_smile(string):\n",
        "  print(string + \":)\")\n",
        "\n",
        "print_with_smile(\"안녕하세요\")"
      ],
      "metadata": {
        "id": "61Q_gA1LAtCL"
      },
      "execution_count": null,
      "outputs": []
    },
    {
      "cell_type": "code",
      "source": [
        "# 함수 예제 12 - 덧셈 \n",
        "def print_upper_price(price):\n",
        "  print(price * 1.3)\n",
        "\n",
        "print_upper_price(300)"
      ],
      "metadata": {
        "id": "6JlTZ5-3As4u"
      },
      "execution_count": null,
      "outputs": []
    },
    {
      "cell_type": "code",
      "source": [
        "# 함수 예제 19 - 두수의 합/차이/곱셈/나눗셈 을 출력하는 함수\n",
        "def cc(a,b):\n",
        "  print(a+b)\n",
        "  print(a-b)\n",
        "  print(a*b)\n",
        "  print(a/b)\n",
        "\n",
        "cc(10,2)"
      ],
      "metadata": {
        "colab": {
          "base_uri": "https://localhost:8080/"
        },
        "id": "1GwQriVpAs1u",
        "outputId": "cdddebb4-9880-4658-c721-07aa8aa03981"
      },
      "execution_count": null,
      "outputs": [
        {
          "output_type": "stream",
          "name": "stdout",
          "text": [
            "12\n",
            "8\n",
            "20\n",
            "5.0\n"
          ]
        }
      ]
    },
    {
      "cell_type": "code",
      "source": [
        "# 함수 예제 14 - 세 개의 숫자를 입력받아 가장 큰수를 출력하는 print_max 함수를 정의하라. \n",
        "# 단, if문을 사용해서 수를 비교하시오\n",
        "\n",
        "def print_max(a, b, c):\n",
        "  if a>b and a>c:\n",
        "    print(a)\n",
        "  elif b>a and b>c:\n",
        "    print(b)\n",
        "  elif c>a and c>b:\n",
        "    print(c)\n",
        "  elif a==b and a>c:\n",
        "    print(a,b)\n",
        "  elif a>b and a==c:\n",
        "    print(a,c)\n",
        "  elif b>a and b==c:\n",
        "    print(b,c)\n",
        "print_max(4,4,6)  \n",
        "\n",
        "# a=[]\n",
        "# for i in range(3):\n",
        "#   a.append(int(input(\"숫자를 입력하세요\")))\n",
        "# def print_max(a):\n",
        "#   a.sort()\n",
        "#   print(a[0])\n",
        "# print_max(a)"
      ],
      "metadata": {
        "colab": {
          "base_uri": "https://localhost:8080/"
        },
        "id": "m3frAJCuCAV4",
        "outputId": "d83ef3a6-a9fe-4d72-8385-ed38b721e583"
      },
      "execution_count": null,
      "outputs": [
        {
          "output_type": "stream",
          "name": "stdout",
          "text": [
            "6\n"
          ]
        }
      ]
    },
    {
      "cell_type": "code",
      "source": [
        "# 함수 예제 14 - 세 개의 숫자를 입력받아 가장 큰 수를 출력하는 print_max 함수를 정의하라. \n",
        "# 단, if문을 사용해서 수를 비교하시오\n",
        "\n",
        "def print_max(a,b,c):\n",
        "  max_val = 0\n",
        "\n",
        "  if a > max_val: # 0보다 큰 값을 받기를 원함\n",
        "    max_val = a\n",
        "\n",
        "  if b > max_val: # max_val = a\n",
        "    max_val = b\n",
        "\n",
        "  if c > max_val:\n",
        "    max_val = c\n",
        "\n",
        "  print(max_val)\n",
        "\n",
        "print_max(1,5,5)"
      ],
      "metadata": {
        "colab": {
          "base_uri": "https://localhost:8080/"
        },
        "id": "lBYn8nvNEW6C",
        "outputId": "c800b864-da97-44eb-8b71-327420e10074"
      },
      "execution_count": null,
      "outputs": [
        {
          "output_type": "stream",
          "name": "stdout",
          "text": [
            "5\n"
          ]
        }
      ]
    },
    {
      "cell_type": "code",
      "source": [
        "# 함수 예제 15 - 입력된 문자열을 역순으로 출력하는 reverse 함수\n",
        "\n",
        "def print_reverse(string_a):\n",
        "  print(string_a[::-1])\n",
        "\n",
        "print_reverse('python')"
      ],
      "metadata": {
        "id": "2UuAR6j9EWwv"
      },
      "execution_count": null,
      "outputs": []
    },
    {
      "cell_type": "code",
      "source": [
        "# 함수 예제 16 - 평균을 출력하는 함수\n",
        "\n",
        "def print_score(score_list):\n",
        "  print(sum(score_list) / len(score_list))\n",
        "\n",
        "print_score([1,2,3])"
      ],
      "metadata": {
        "colab": {
          "base_uri": "https://localhost:8080/"
        },
        "id": "O9ypOap4FYB4",
        "outputId": "d5a32f39-0130-4965-d961-abe7a1c104e3"
      },
      "execution_count": null,
      "outputs": [
        {
          "output_type": "stream",
          "name": "stdout",
          "text": [
            "2.0\n"
          ]
        }
      ]
    },
    {
      "cell_type": "code",
      "source": [
        "# 함수 예제 17 - 하나의 리스트를 입력받아서 짝수만 출력하는 함수를 만들어 보세요.\n",
        "\n",
        "def print_even(print_list):\n",
        "  for v in print_list:\n",
        "    if v % 2 == 0:\n",
        "      print(v)"
      ],
      "metadata": {
        "id": "rc12GbVvFX-V"
      },
      "execution_count": null,
      "outputs": []
    },
    {
      "cell_type": "code",
      "source": [
        "print_even([1, 3, 2, 10, 12, 11, 15])"
      ],
      "metadata": {
        "colab": {
          "base_uri": "https://localhost:8080/"
        },
        "id": "n4NB1BajHbmY",
        "outputId": "2a3031b9-911f-4a93-b886-3dd3ef46b920"
      },
      "execution_count": null,
      "outputs": [
        {
          "output_type": "stream",
          "name": "stdout",
          "text": [
            "2\n",
            "10\n",
            "12\n"
          ]
        }
      ]
    },
    {
      "cell_type": "code",
      "source": [
        "def print_dic(my_dict):\n",
        "  print(my_dict)"
      ],
      "metadata": {
        "id": "9e3UtxWdHt1V"
      },
      "execution_count": null,
      "outputs": []
    },
    {
      "cell_type": "code",
      "source": [
        "print_dic({\"이름\" : \"홍길동\", \"나이\" : 30, \"직업\" : \"의적\"})"
      ],
      "metadata": {
        "colab": {
          "base_uri": "https://localhost:8080/"
        },
        "id": "9ucICM2FHyy9",
        "outputId": "39f23393-0c7c-4388-d43d-5c75cd250ac4"
      },
      "execution_count": null,
      "outputs": [
        {
          "output_type": "stream",
          "name": "stdout",
          "text": [
            "{'이름': '홍길동', '나이': 30, '직업': '의적'}\n"
          ]
        }
      ]
    },
    {
      "cell_type": "code",
      "source": [
        "# 함수 예제 19 - 함수 내부의 결과는 접근이 불가합니다.\n",
        "\n",
        "def n_plus(n):\n",
        "  result = n + 1\n",
        "\n",
        "print(n_plus(3))"
      ],
      "metadata": {
        "id": "buZVGAAUIPNR"
      },
      "execution_count": null,
      "outputs": []
    },
    {
      "cell_type": "code",
      "source": [
        "# 함수 예제 19 - 함수 내부의 결과는 접근이 불가합니다.\n",
        "\n",
        "def n_plus(n):\n",
        "  result = n + 1\n",
        "  return result\n",
        "\n",
        "result_new"
      ],
      "metadata": {
        "colab": {
          "base_uri": "https://localhost:8080/"
        },
        "id": "wXvU2Dx2Idhr",
        "outputId": "5bb5267e-bac6-442e-c2ec-61f2e90ec2ab"
      },
      "execution_count": null,
      "outputs": [
        {
          "output_type": "execute_result",
          "data": {
            "text/plain": [
              "4"
            ]
          },
          "metadata": {},
          "execution_count": 15
        }
      ]
    },
    {
      "cell_type": "code",
      "source": [
        "# 함수 예제 20 - 문자열 하나를 입력받아서 인터넷 주소를 반환하는 함수를 만들어라\n",
        "def make_url(string):\n",
        "  url = \"www.\" + string + \".com\"\n",
        "  return url\n",
        "\n",
        "make_url(\"naver\")"
      ],
      "metadata": {
        "colab": {
          "base_uri": "https://localhost:8080/",
          "height": 35
        },
        "id": "gV7FAyASJOvU",
        "outputId": "8540530e-ff7a-4723-d9f8-b7c14a402c8d"
      },
      "execution_count": null,
      "outputs": [
        {
          "output_type": "execute_result",
          "data": {
            "text/plain": [
              "'www.naver.com'"
            ],
            "application/vnd.google.colaboratory.intrinsic+json": {
              "type": "string"
            }
          },
          "metadata": {},
          "execution_count": 16
        }
      ]
    },
    {
      "cell_type": "code",
      "source": [
        "# 함수 예제 21 - 문자열 하나씩 입력받아서 리스트 화\n",
        "\n",
        "def make_list(string):\n",
        "  my_list = []\n",
        "  for i in string:\n",
        "    my_list.append(i)\n",
        "  return my_list\n",
        "\n",
        "make_list(\"abcd\")"
      ],
      "metadata": {
        "colab": {
          "base_uri": "https://localhost:8080/"
        },
        "id": "fkS11gD0JqJJ",
        "outputId": "7fba6fba-38ef-4276-f1ce-f9544ac63ae1"
      },
      "execution_count": null,
      "outputs": [
        {
          "output_type": "execute_result",
          "data": {
            "text/plain": [
              "['a', 'b', 'c', 'd']"
            ]
          },
          "metadata": {},
          "execution_count": 17
        }
      ]
    },
    {
      "cell_type": "code",
      "source": [
        "# 함수 예제 22 - 문자열 대체\n",
        "\n",
        "def convert_int(string):\n",
        "  return int(string.replace(',',''))\n",
        "\n",
        "# replace ',' -> '' 으로 변경\n",
        "\n",
        "convert_int('123,456')"
      ],
      "metadata": {
        "id": "C-AdYzcJKWrv"
      },
      "execution_count": null,
      "outputs": []
    },
    {
      "cell_type": "code",
      "source": [
        "# 함수 예제 23\n",
        "\n",
        "def number_1(num):\n",
        "  return num + 4\n",
        "\n",
        "a = number_1(10)\n",
        "b = number_1(a)\n",
        "c = number_1(c)\n",
        "\n",
        "print(c)"
      ],
      "metadata": {
        "id": "0HnMf-yfNe_s"
      },
      "execution_count": null,
      "outputs": []
    },
    {
      "cell_type": "code",
      "source": [
        "# 함수 예제 24\n",
        "\n",
        "def def_1(num):\n",
        "  return num + 4\n",
        "\n",
        "def def_2(num):\n",
        "  num = num + 2\n",
        "  return def_1(num)\n",
        "\n",
        "c = def_2(10)\n",
        "print(c)\n"
      ],
      "metadata": {
        "colab": {
          "base_uri": "https://localhost:8080/"
        },
        "id": "hmRgOp03OKSK",
        "outputId": "0882f95a-5857-4a6a-9f5a-850b153759f9"
      },
      "execution_count": null,
      "outputs": [
        {
          "output_type": "stream",
          "name": "stdout",
          "text": [
            "16\n"
          ]
        }
      ]
    },
    {
      "cell_type": "code",
      "source": [
        "def def_1(num):\n",
        "  return num * 2\n",
        "\n",
        "def def_2(num):\n",
        "  return def_1(num + 2)\n",
        "\n",
        "def def_3(num):\n",
        "  num = num + 10\n",
        "  return def_2(num)\n",
        "\n",
        "c = def_3(2)\n",
        "print(c)"
      ],
      "metadata": {
        "colab": {
          "base_uri": "https://localhost:8080/"
        },
        "id": "noFlsTYhO7Wb",
        "outputId": "b20c5a24-81a9-4ddb-edaa-ece2b3a2019e"
      },
      "execution_count": null,
      "outputs": [
        {
          "output_type": "stream",
          "name": "stdout",
          "text": [
            "28\n"
          ]
        }
      ]
    },
    {
      "cell_type": "code",
      "source": [
        "# 함수 예제 26\n",
        "def double(x):\n",
        "  y = x\n",
        "  x = 10\n",
        "  return y * y\n",
        "\n",
        "x = 3\n",
        "\n",
        "#\n",
        "print(double(x))\n",
        "print(x)"
      ],
      "metadata": {
        "colab": {
          "base_uri": "https://localhost:8080/"
        },
        "id": "lNBYqZLlPiJD",
        "outputId": "e86910d5-bdc9-400f-c645-ac7c21c76c1f"
      },
      "execution_count": null,
      "outputs": [
        {
          "output_type": "stream",
          "name": "stdout",
          "text": [
            "9\n",
            "3\n"
          ]
        }
      ]
    },
    {
      "cell_type": "code",
      "source": [
        "# 함수 예제 27\n",
        "# return에 매개변수 없이 출력이 되면 함수 내 문장과 상관없이 그 값을 빠져나옵니다.\n",
        "\n",
        "def test_01(a):\n",
        "  if a == 10:\n",
        "    return # pass\n",
        "  else:\n",
        "    print(\"10이 아닙니다.\")\n",
        "  \n",
        "test_01(10)\n",
        "test_01(1)"
      ],
      "metadata": {
        "colab": {
          "base_uri": "https://localhost:8080/"
        },
        "id": "7oTINj6HQJQp",
        "outputId": "3c8aac63-d14e-42b2-81a9-ee052c55d7ed"
      },
      "execution_count": null,
      "outputs": [
        {
          "output_type": "stream",
          "name": "stdout",
          "text": [
            "10이 아닙니다.\n"
          ]
        }
      ]
    },
    {
      "cell_type": "code",
      "source": [
        "# 함수 예제 28 - 함수의 호출 과정(키워드 인수)\n",
        "# 위치인수는 호출할때 함수의 정의와 인수 순서가 같은 순서로 지정!!\n",
        "# 위치가 틀어지면 값이 완전히 바뀔수 있다.\n",
        "\n",
        "def billing(unit_prices, units, fees, tax_rate):\n",
        "  return (unit_prices * units + fees) * tax_rate\n",
        "  \n",
        "x = billing(1000, 10, 500, 1.1)\n",
        "print(x)"
      ],
      "metadata": {
        "id": "8rghZvmuQhTl"
      },
      "execution_count": null,
      "outputs": []
    },
    {
      "cell_type": "code",
      "source": [
        "y = billing(10, 1000, 1.1, 500)\n",
        "print(y)"
      ],
      "metadata": {
        "id": "dgA6oB7QQgyS"
      },
      "execution_count": null,
      "outputs": []
    },
    {
      "cell_type": "code",
      "source": [
        "def billing(unit_prices, units, fees, tax_rate):\n",
        "  return (unit_prices * units + fees) * tax_rate\n",
        "\n",
        "x = billing(\n",
        "            unit_prices = 1000, \n",
        "            units = 10, \n",
        "            fees = 500, \n",
        "            tax_rate = 1.1\n",
        "            )\n",
        "\n",
        "print(x)"
      ],
      "metadata": {
        "id": "jLqyhGEqSfyr"
      },
      "execution_count": null,
      "outputs": []
    },
    {
      "cell_type": "code",
      "source": [
        "y = billing(units = 10, unit_prices = 1000, tax_rate = 1.1, fees = 500)"
      ],
      "metadata": {
        "id": "LYx9hxF5SjIk"
      },
      "execution_count": null,
      "outputs": []
    },
    {
      "cell_type": "code",
      "source": [
        "print(y)"
      ],
      "metadata": {
        "id": "dh-tq9T4SnPf"
      },
      "execution_count": null,
      "outputs": []
    },
    {
      "cell_type": "code",
      "source": [
        "# 키워드 + 위치인수\n",
        "\n",
        "x1 = billing(1000, 10, tax_rate = 1.1, )\n",
        "print(x1)"
      ],
      "metadata": {
        "id": "k_CTKh9dSnNP"
      },
      "execution_count": null,
      "outputs": []
    },
    {
      "cell_type": "code",
      "source": [
        "# 연습문제 1. 출력 결과를 말씀해주세요\n",
        "\n",
        "def print_hi():\n",
        "  print(\"Hi\")\n",
        "\n",
        "# 1. Hi\n",
        "# 2. NameError\n",
        "# 3. print_hi()\n",
        "# 4. ValueError\n",
        "# 5. 출력값 없음"
      ],
      "metadata": {
        "id": "NBztGIsTSnJx"
      },
      "execution_count": null,
      "outputs": []
    },
    {
      "cell_type": "code",
      "source": [
        "# 연습문제 2. 출력 결과를 말씀해주세요\n",
        "\n",
        "def test(k):\n",
        "  print(f\"Input is {k}\")\n",
        "\n",
        "k = 1000\n",
        "test(k)\n",
        "\n",
        "#1 Input is 100\n",
        "#2 NameError\n",
        "#3 IndexError\n",
        "#4 ValueError\n",
        "#5 None"
      ],
      "metadata": {
        "id": "kHEie2FiSnG8",
        "colab": {
          "base_uri": "https://localhost:8080/"
        },
        "outputId": "8c1ce9ef-2e97-49be-879f-81773240f0c4"
      },
      "execution_count": 25,
      "outputs": [
        {
          "output_type": "stream",
          "name": "stdout",
          "text": [
            "Input is 1000\n"
          ]
        }
      ]
    },
    {
      "cell_type": "code",
      "source": [
        "# 연습문제 3 - 출력 결과를 말씀해주세요\n",
        "def f(x):\n",
        "  y = x\n",
        "  x = 7\n",
        "  return y * x\n",
        "\n",
        "x = 4\n",
        "print(f(3))\n",
        "print(x)\n",
        "\n",
        "# 1. 21\n",
        "#    4\n",
        "# 2. 9\n",
        "#    3\n",
        "# 3. 21\n",
        "#    4\n",
        "# 4. 49\n",
        "#    3\n",
        "# 5. 21\n",
        "#    7"
      ],
      "metadata": {
        "id": "BFScjYGnSnEP",
        "colab": {
          "base_uri": "https://localhost:8080/"
        },
        "outputId": "3e6e10ee-79ac-49ad-ce4a-3091f13f47ca"
      },
      "execution_count": 26,
      "outputs": [
        {
          "output_type": "stream",
          "name": "stdout",
          "text": [
            "21\n",
            "4\n"
          ]
        }
      ]
    },
    {
      "cell_type": "code",
      "source": [
        "# 연습문제 4\n",
        "name = 'jinho'\n",
        "def call_my_name():\n",
        "  print(name)\n",
        "  name = 'sehoon'\n",
        "\n",
        "call_my_name()\n",
        "\n",
        "# 1. 'Jinho'\n",
        "# 2. 'sehoon'\n",
        "# 3. None\n",
        "# 4. error\n",
        "# 5. 'call_my_name'"
      ],
      "metadata": {
        "id": "Ekl2uWklT0tC"
      },
      "execution_count": null,
      "outputs": []
    },
    {
      "cell_type": "code",
      "source": [
        "# 연습문제 5\n",
        "def say_myself(name, old, woman = True):\n",
        "  print(f\"나의 이름은 {name}입니다.\")\n",
        "  print(f\"나의 나이는 {old}입니다.\")\n",
        "  if woman:\n",
        "    print(\"여성입니다.\")\n",
        "  else:\n",
        "    print(\"남성입니다.\")\n",
        "\n",
        "say_myself(\"최주영\", \"35\")\n",
        "\n",
        "#1. 나의 이름은 최주영입니다.\n",
        "#   나의 나이는 35입니다.\n",
        "#   여성입니다.\n",
        "#2. 나의 이름은 최주영입니다.\n",
        "#   남성입니다.\n",
        "#   나이는 35살 입니다.\n",
        "#3. 나의 이름은 최주영입니다.\n",
        "#   여성입니다.\n",
        "#   나이는 35살 입니다.\n",
        "#4. 나의 이름은 최주영입니다.\n",
        "#   나의 나이는 35입니다.\n",
        "#   남자입니다.\n",
        "#5. 나의 이름은 최주영입니다.\n",
        "#   여성입니다."
      ],
      "metadata": {
        "colab": {
          "base_uri": "https://localhost:8080/"
        },
        "id": "OcGP3EnIUmzn",
        "outputId": "2fe77a43-48bf-491e-aa7d-b97ef94c766c"
      },
      "execution_count": 30,
      "outputs": [
        {
          "output_type": "stream",
          "name": "stdout",
          "text": [
            "나의 이름은 최주영입니다.\n",
            "나의 나이는 35입니다.\n",
            "여성입니다.\n"
          ]
        }
      ]
    },
    {
      "cell_type": "code",
      "source": [
        "# 연습문제 6 실행된 값을 무엇일까요?\n",
        "\n",
        "def exam_func():\n",
        "  x = 10\n",
        "  print(f\"Value: {x}\")\n",
        "\n",
        "x = 20\n",
        "exam_func()\n",
        "print(f\"Value: {x}\")"
      ],
      "metadata": {
        "colab": {
          "base_uri": "https://localhost:8080/"
        },
        "id": "yfyruBZ-VX8R",
        "outputId": "a3dc28af-c08a-4f24-a81b-bdfb8b100ec1"
      },
      "execution_count": 31,
      "outputs": [
        {
          "output_type": "stream",
          "name": "stdout",
          "text": [
            "Value: 10\n",
            "Value: 20\n"
          ]
        }
      ]
    },
    {
      "cell_type": "code",
      "source": [
        "# 연습문제 7 실행된 함수가 어떤값을 가질지 맞춰주세요\n",
        "\n",
        "def get_abbr(data_list):\n",
        "  result = []\n",
        "\n",
        "  for x in data_list:\n",
        "    result.append(x[:3])\n",
        "\n",
        "  return result\n",
        "\n",
        "get_abbr(['Seoul', 'Anyang', 'Incheon', 'Jeju'])\n",
        "\n",
        "#1. ['Seoul', 'Anyang', 'Incheon', 'Jeju']\n",
        "#2. ['Seoul', 'Anyang', 'Incheon']\n",
        "#3. ['Seo', 'Any', 'Inc', 'Jej']\n",
        "#4. ['Seo']\n",
        "#5. error"
      ],
      "metadata": {
        "colab": {
          "base_uri": "https://localhost:8080/"
        },
        "id": "A3UjJAdEV_H-",
        "outputId": "14bc4399-5218-4cd4-b299-8bdb4c332bfe"
      },
      "execution_count": 32,
      "outputs": [
        {
          "output_type": "execute_result",
          "data": {
            "text/plain": [
              "['Seo', 'Any', 'Inc', 'Jej']"
            ]
          },
          "metadata": {},
          "execution_count": 32
        }
      ]
    },
    {
      "cell_type": "code",
      "source": [
        "# 연습문제 8 \n",
        "\n",
        "test_data = 3\n",
        "def hi(a):\n",
        "  b = a*3\n",
        "  return b\n",
        "\n",
        "print(hi(test_data))\n",
        "\n",
        "#1. TypeError\n",
        "#2. 9\n",
        "#3. 3\n",
        "#4. None\n",
        "#5. ValueError"
      ],
      "metadata": {
        "colab": {
          "base_uri": "https://localhost:8080/"
        },
        "id": "_LMSYugSWvOb",
        "outputId": "d7104028-af44-463d-af56-f5160b268b1a"
      },
      "execution_count": 33,
      "outputs": [
        {
          "output_type": "stream",
          "name": "stdout",
          "text": [
            "9\n"
          ]
        }
      ]
    },
    {
      "cell_type": "code",
      "source": [
        "# 연습문제 9\n",
        "a = 111\n",
        "b = 222\n",
        "\n",
        "def function_1():\n",
        "  print(a)\n",
        "  print(b)\n",
        "\n",
        "def function_2():\n",
        "  a = 333\n",
        "  print(b)\n",
        "  print(a)\n",
        "\n",
        "function_1()\n",
        "function_2()\n",
        "\n",
        "#1. 111 222 222 333\n",
        "#2. 222 333 111 222\n",
        "#3. 222 111 222 333\n",
        "#4. 111 222 333 444\n",
        "#5. 333 222 222 111"
      ],
      "metadata": {
        "id": "Nj6EmozHXMhN"
      },
      "execution_count": null,
      "outputs": []
    }
  ]
}