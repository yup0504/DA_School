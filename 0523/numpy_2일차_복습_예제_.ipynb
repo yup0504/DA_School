{
  "nbformat": 4,
  "nbformat_minor": 0,
  "metadata": {
    "colab": {
      "provenance": []
    },
    "kernelspec": {
      "name": "python3",
      "display_name": "Python 3"
    },
    "language_info": {
      "name": "python"
    }
  },
  "cells": [
    {
      "cell_type": "markdown",
      "source": [
        "문제를 풀어봅시다.\n",
        "1일차 - 쉬운 문제부터 스타트"
      ],
      "metadata": {
        "id": "qMrPlmtNJ3V4"
      }
    },
    {
      "cell_type": "markdown",
      "source": [
        "### 배열\n",
        "\n",
        "- 사이즈 10의 Null(0) 1차원 배열을 만들어보세요."
      ],
      "metadata": {
        "id": "xXeY0ZOGrY3z"
      }
    },
    {
      "cell_type": "code",
      "source": [
        "import numpy as np\n",
        "\n"
      ],
      "metadata": {
        "colab": {
          "base_uri": "https://localhost:8080/"
        },
        "id": "wSrXt2QqJRWs",
        "outputId": "5f749492-449e-4dfb-ed22-5583f09cbb3b"
      },
      "execution_count": null,
      "outputs": [
        {
          "output_type": "execute_result",
          "data": {
            "text/plain": [
              "array([0., 0., 0., 0., 0., 0., 0., 0., 0., 0.])"
            ]
          },
          "metadata": {},
          "execution_count": 2
        }
      ]
    },
    {
      "cell_type": "markdown",
      "source": [
        "차원 만드는 넘파이 함수를 사용해보겠습니다.\n",
        "- 값이 10 ~ 49 인 1차원 배열을 만들어주세요."
      ],
      "metadata": {
        "id": "qzmR8WWZJRQL"
      }
    },
    {
      "cell_type": "code",
      "source": [],
      "metadata": {
        "colab": {
          "base_uri": "https://localhost:8080/"
        },
        "id": "M0VXutn1JRKb",
        "outputId": "0418168f-f821-4c6f-bab3-28ccf4e70b7a"
      },
      "execution_count": null,
      "outputs": [
        {
          "output_type": "execute_result",
          "data": {
            "text/plain": [
              "array([10, 11, 12, 13, 14, 15, 16, 17, 18, 19, 20, 21, 22, 23, 24, 25, 26,\n",
              "       27, 28, 29, 30, 31, 32, 33, 34, 35, 36, 37, 38, 39, 40, 41, 42, 43,\n",
              "       44, 45, 46, 47, 48, 49])"
            ]
          },
          "metadata": {},
          "execution_count": 3
        }
      ]
    },
    {
      "cell_type": "markdown",
      "source": [
        "0~8 까지의 값을 사용하여 `3x3` 배열을 만드시오"
      ],
      "metadata": {
        "id": "h2SY25RfJQ6C"
      }
    },
    {
      "cell_type": "code",
      "source": [],
      "metadata": {
        "colab": {
          "base_uri": "https://localhost:8080/"
        },
        "id": "GyW23W5UJQzu",
        "outputId": "1f162b12-1e8e-408a-b855-d9dd007f80c9"
      },
      "execution_count": null,
      "outputs": [
        {
          "output_type": "execute_result",
          "data": {
            "text/plain": [
              "array([[0, 1, 2],\n",
              "       [3, 4, 5],\n",
              "       [6, 7, 8]])"
            ]
          },
          "metadata": {},
          "execution_count": 6
        }
      ]
    },
    {
      "cell_type": "markdown",
      "source": [
        "(응용) 5x5 배열을 만들어서 경계값만 1이고, 내부에 있는 값은 0 인 2차원 배열을 만들어 보세요\n"
      ],
      "metadata": {
        "id": "W9XgbD4ZJQq7"
      }
    },
    {
      "cell_type": "code",
      "source": [],
      "metadata": {
        "colab": {
          "base_uri": "https://localhost:8080/"
        },
        "id": "ugXqAv6DJQcV",
        "outputId": "a2dc7b47-15cd-480c-ebec-28c0616e5e38"
      },
      "execution_count": null,
      "outputs": [
        {
          "output_type": "execute_result",
          "data": {
            "text/plain": [
              "array([[1., 1., 1., 1., 1.],\n",
              "       [1., 0., 0., 0., 1.],\n",
              "       [1., 0., 0., 0., 1.],\n",
              "       [1., 0., 0., 0., 1.],\n",
              "       [1., 1., 1., 1., 1.]])"
            ]
          },
          "metadata": {},
          "execution_count": 10
        }
      ]
    },
    {
      "cell_type": "markdown",
      "source": [
        "### 랜덤"
      ],
      "metadata": {
        "id": "MEbb5kR0rarR"
      }
    },
    {
      "cell_type": "markdown",
      "source": [
        "오늘 배운 랜덤함수를 사용해서 문제를 풀어보겠습니다.\n",
        "\n",
        "- 랜덤 값이 있는 `3x3x3` array 만들기"
      ],
      "metadata": {
        "id": "Y5eyQnOdJQNw"
      }
    },
    {
      "cell_type": "code",
      "source": [],
      "metadata": {
        "colab": {
          "base_uri": "https://localhost:8080/"
        },
        "id": "k0hsyCLcLcbv",
        "outputId": "21a9c5dd-dadf-4a18-d2c2-cb7c92abee1a"
      },
      "execution_count": null,
      "outputs": [
        {
          "output_type": "execute_result",
          "data": {
            "text/plain": [
              "array([[[0.74453246, 0.9040558 , 0.66151847],\n",
              "        [0.43331527, 0.97965292, 0.97638912],\n",
              "        [0.66104214, 0.62926961, 0.25918641]],\n",
              "\n",
              "       [[0.57411902, 0.06307186, 0.52951538],\n",
              "        [0.33133679, 0.76366474, 0.20418361],\n",
              "        [0.09254982, 0.51898777, 0.78546247]],\n",
              "\n",
              "       [[0.28486858, 0.86309618, 0.98166195],\n",
              "        [0.17052157, 0.59134514, 0.1685133 ],\n",
              "        [0.14101175, 0.47464965, 0.93869371]]])"
            ]
          },
          "metadata": {},
          "execution_count": 11
        }
      ]
    },
    {
      "cell_type": "markdown",
      "source": [
        "랜덤 값이 있는 `10x10` 배열을 만들고 최소값과 최대값을 찾아주세요"
      ],
      "metadata": {
        "id": "3txDglzwLyEn"
      }
    },
    {
      "cell_type": "code",
      "source": [],
      "metadata": {
        "colab": {
          "base_uri": "https://localhost:8080/"
        },
        "id": "rMd_S66PLoIy",
        "outputId": "6048d4b9-a43b-4679-f767-1e35349f0788"
      },
      "execution_count": null,
      "outputs": [
        {
          "output_type": "stream",
          "name": "stdout",
          "text": [
            "0.004985215945142785 0.9950260426491608\n"
          ]
        }
      ]
    },
    {
      "cell_type": "markdown",
      "source": [
        "30 크기의 랜덤 값을 가지는 1차원 배열을 만들어서 평균값을 도출해주세요."
      ],
      "metadata": {
        "id": "-ZvLLb9nMn6l"
      }
    },
    {
      "cell_type": "code",
      "source": [],
      "metadata": {
        "colab": {
          "base_uri": "https://localhost:8080/"
        },
        "id": "wXzseRLjL9tj",
        "outputId": "e1d519b6-d113-4ad3-b6f8-962cf70b8f89"
      },
      "execution_count": null,
      "outputs": [
        {
          "output_type": "stream",
          "name": "stdout",
          "text": [
            "[0.41527747 0.23871271 0.15981916 0.06378559 0.0219653  0.09542384\n",
            " 0.86913623 0.7900542  0.29314164 0.33290257 0.32919346 0.0973356\n",
            " 0.89723669 0.88440698 0.95469159 0.1740947  0.58400673 0.33043558\n",
            " 0.32677392 0.54671053 0.7400089  0.07739969 0.42578189 0.13814556\n",
            " 0.51986336 0.61243761 0.79491561 0.23894515 0.18308399 0.84377674]\n",
            "0.43264876538884134\n"
          ]
        }
      ]
    },
    {
      "cell_type": "markdown",
      "source": [
        "### 행렬"
      ],
      "metadata": {
        "id": "HTHp5G1brcT9"
      }
    },
    {
      "cell_type": "markdown",
      "source": [
        "행렬 연산을 해보겠습니다.\n",
        "- 1로 채워진 `5x3` 행렬과 `3x2` 행렬의 곱을 구해봅니다.\n"
      ],
      "metadata": {
        "id": "tpTWO6tuQNn1"
      }
    },
    {
      "cell_type": "code",
      "source": [],
      "metadata": {
        "colab": {
          "base_uri": "https://localhost:8080/"
        },
        "id": "Y3BKghMMM1Bm",
        "outputId": "29b06969-c681-4a59-9b36-743c1c62a1b5"
      },
      "execution_count": null,
      "outputs": [
        {
          "output_type": "stream",
          "name": "stdout",
          "text": [
            "[[3. 3.]\n",
            " [3. 3.]\n",
            " [3. 3.]\n",
            " [3. 3.]\n",
            " [3. 3.]]\n"
          ]
        }
      ]
    },
    {
      "cell_type": "markdown",
      "source": [
        "(응용) 행렬의 연산을 하고 제로행렬 C 에 에 값을 덮어씌워주세요.\n",
        "- np.add() 함수의 매개변수를 응용합니다. "
      ],
      "metadata": {
        "id": "3LVG6Mk9R7SO"
      }
    },
    {
      "cell_type": "code",
      "source": [
        "A = np.array([1, 2, 3])\n",
        "B = np.array([4, 5, 6])"
      ],
      "metadata": {
        "id": "6DyRQaaKR6Hi"
      },
      "execution_count": null,
      "outputs": []
    },
    {
      "cell_type": "markdown",
      "source": [
        "(응용) A 배열의 모든 요소의 부호를 반전시켜서 C에 값을 덮어씌워주세요.\n",
        "- np.negative()"
      ],
      "metadata": {
        "id": "wEoQDZU9SfLr"
      }
    },
    {
      "cell_type": "code",
      "source": [],
      "metadata": {
        "colab": {
          "base_uri": "https://localhost:8080/"
        },
        "id": "qNiKxi3vQkFO",
        "outputId": "9cff4957-8e7b-4fe3-8868-366640ce32d2"
      },
      "execution_count": null,
      "outputs": [
        {
          "output_type": "execute_result",
          "data": {
            "text/plain": [
              "array([-1., -2., -3.])"
            ]
          },
          "metadata": {},
          "execution_count": 29
        }
      ]
    },
    {
      "cell_type": "markdown",
      "source": [
        "크기 10개의 1차원 랜덤 행렬을 만들고 최대값을 0 으로 바꾸어 주세요\n",
        "1. 최대값이 어디에 있는 지 인덱스를 확인하면\n",
        "2. 인덱싱을 통해서 최대값을 0으로 바꿔줄 수 있습니다.\n",
        "3. argmax() 함수는 배열의 요소들 중에서 가장 큰 값이 있는 위치의 인덱스를 반환합니다."
      ],
      "metadata": {
        "id": "Ek-iEThdTG7w"
      }
    },
    {
      "cell_type": "code",
      "source": [],
      "metadata": {
        "colab": {
          "base_uri": "https://localhost:8080/"
        },
        "id": "INStX6TsRhA8",
        "outputId": "2bf30284-0fb3-403a-9bf4-d7596613b189"
      },
      "execution_count": null,
      "outputs": [
        {
          "output_type": "stream",
          "name": "stdout",
          "text": [
            "최대값이 있는 인덱스: 6\n"
          ]
        },
        {
          "output_type": "execute_result",
          "data": {
            "text/plain": [
              "array([0.66014341, 0.01146348, 0.42875575, 0.18203216, 0.6988441 ,\n",
              "       0.12685795, 0.        , 0.83880586, 0.07273523, 0.68039686])"
            ]
          },
          "metadata": {},
          "execution_count": 32
        }
      ]
    },
    {
      "cell_type": "markdown",
      "source": [
        "np.max 와 np.argmax 의 값을 확인해봅시다.\n",
        "\n",
        "- 각 열과 행별로 최댓값을 반환하고 인덱스를 호출해주세요\n",
        "\n"
      ],
      "metadata": {
        "id": "wJrMfetWYhju"
      }
    },
    {
      "cell_type": "code",
      "source": [
        "arr = np.array([[1, 2, 3], [4, 5, 6]])"
      ],
      "metadata": {
        "colab": {
          "base_uri": "https://localhost:8080/"
        },
        "id": "DTlZHRGQYgx9",
        "outputId": "f06b876e-7d68-4a22-88be-918b6cdf8d8d"
      },
      "execution_count": null,
      "outputs": [
        {
          "output_type": "stream",
          "name": "stdout",
          "text": [
            "arr에서 최댓값: 6\n",
            "arr에서 최댓값인 6이 위치한 인덱스: 5\n",
            "arr에서 각 열(axis=0)별로 최댓값을 반환: [4 5 6]\n",
            "arr에서 각 열(axis=1)별로 최댓값을 반환: [3 6]\n",
            "arr에서 각 행(axis=0)별로 최댓값의 인덱스를 반환: [1 1 1]\n",
            "arr에서 각 행(axis=1)별로 최댓값의 인덱스를 반환: [2 2]\n"
          ]
        }
      ]
    },
    {
      "cell_type": "markdown",
      "source": [
        "# 형변환\n",
        "- 균일분포의 랜덤함수를 이용해서 0 ~ 100 까지 값을 가지는 1차원 실수 (32비트) 행렬을 만듭니다.\n",
        "- 정수 (32비트) 이면서 배열의 모양을 `10x1` 로 변환해주세요 "
      ],
      "metadata": {
        "id": "JIMxeFbsTA1d"
      }
    },
    {
      "cell_type": "markdown",
      "source": [
        "view() 함수와 astype() 함수는 NumPy 배열에서 각각 다른 목적을 가지고 사용되는 함수입니다.\n",
        "\n",
        "둘의 함수를 사용해서 차이를 이해해보세요 ^^"
      ],
      "metadata": {
        "id": "nEhLtmH5VwzK"
      }
    },
    {
      "cell_type": "code",
      "source": [],
      "metadata": {
        "colab": {
          "base_uri": "https://localhost:8080/"
        },
        "id": "uyndg_65UAEz",
        "outputId": "3b743746-a62e-47f3-a28d-e34c805093c1"
      },
      "execution_count": null,
      "outputs": [
        {
          "output_type": "execute_result",
          "data": {
            "text/plain": [
              "array([44.841415, 95.26812 , 17.033804, 61.530926,  9.098388, 65.942726,\n",
              "       73.896355, 23.109636, 37.050285, 72.628746], dtype=float32)"
            ]
          },
          "metadata": {},
          "execution_count": 38
        }
      ]
    },
    {
      "cell_type": "code",
      "source": [],
      "metadata": {
        "colab": {
          "base_uri": "https://localhost:8080/"
        },
        "id": "W3UkVHmnUnRI",
        "outputId": "c7397dd0-d076-4db9-97db-6a836a56b06c"
      },
      "execution_count": null,
      "outputs": [
        {
          "output_type": "execute_result",
          "data": {
            "text/plain": [
              "array([[1110662556],\n",
              "       [1119783239],\n",
              "       [1099449659],\n",
              "       [1115037611],\n",
              "       [1091670783],\n",
              "       [1115939501],\n",
              "       [1116981999],\n",
              "       [1102635145],\n",
              "       [1108620158],\n",
              "       [1116815851]], dtype=int32)"
            ]
          },
          "metadata": {},
          "execution_count": 41
        }
      ]
    },
    {
      "cell_type": "markdown",
      "source": [
        "집계 함수로 배열에 Null 값이 있는지 확인해보세요.\n",
        "- 정수형 난수로 `3x10` 행렬을 생성합니다.\n",
        "- 0 ~ 5 까지의 값으로 만들어주세요."
      ],
      "metadata": {
        "id": "E3vUP48LWacZ"
      }
    },
    {
      "cell_type": "code",
      "source": [],
      "metadata": {
        "colab": {
          "base_uri": "https://localhost:8080/"
        },
        "id": "fLCsxM7gWYZx",
        "outputId": "67654e29-a34b-49f1-878e-792316e40a40"
      },
      "execution_count": null,
      "outputs": [
        {
          "output_type": "execute_result",
          "data": {
            "text/plain": [
              "array([[3, 0, 4, 2, 2, 1, 4, 1, 2, 2],\n",
              "       [0, 4, 0, 5, 3, 0, 4, 3, 2, 4],\n",
              "       [4, 3, 0, 3, 2, 0, 0, 3, 1, 0]])"
            ]
          },
          "metadata": {},
          "execution_count": 44
        }
      ]
    },
    {
      "cell_type": "code",
      "source": [],
      "metadata": {
        "colab": {
          "base_uri": "https://localhost:8080/"
        },
        "id": "3JbIEiJtU9S-",
        "outputId": "7039f1fb-4c62-461c-f406-51f445160eb9"
      },
      "execution_count": null,
      "outputs": [
        {
          "output_type": "execute_result",
          "data": {
            "text/plain": [
              "True"
            ]
          },
          "metadata": {},
          "execution_count": 45
        }
      ]
    },
    {
      "cell_type": "markdown",
      "source": [
        "# 정규분포, 균일분포\n"
      ],
      "metadata": {
        "id": "HCAdlqsDukYy"
      }
    },
    {
      "cell_type": "markdown",
      "source": [
        "정규분포 normal()을 따르는 난수 생성의 방법을 배웠습니다.\n",
        "이번에는 주어진 범위에서 균일분포를 따르는 난수 생성을 해보겠습니다.\n",
        "\n",
        "- Normal Distribution\n",
        "- Uniform Distribution\n",
        "\n",
        "\n",
        "\n",
        "\n",
        "\n",
        "> [low, high] 범위에서 균일 분포를 따르는 난수 생성\n",
        "\n",
        "\n",
        "> random_number = np.random.uniform(low, high, size)\n",
        "\n",
        "(응용) 0부터 1사이의 10개의 값을 가지는 균일분포 배열을 만들어주세요\n",
        "- 배열에서 지정된 값에서 가장 가까운 값을 찾겠습니다. => 정답 인덱스 호출 => 가장 가까운 값 호출\n",
        "- num = 0.5 \n",
        "\n",
        "\n",
        "\n",
        "\n",
        "\n",
        "\n"
      ],
      "metadata": {
        "id": "TfSj5brdXU18"
      }
    },
    {
      "cell_type": "code",
      "source": [],
      "metadata": {
        "colab": {
          "base_uri": "https://localhost:8080/"
        },
        "id": "gbDDciEcXUX4",
        "outputId": "afe3b914-13bb-4614-c6d6-e1b0a60d6e37"
      },
      "execution_count": null,
      "outputs": [
        {
          "output_type": "stream",
          "name": "stdout",
          "text": [
            "[0.9622446  0.7966455  0.15172051 0.32459544 0.43147498 0.55822707\n",
            " 0.3355717  0.87061099 0.83910581 0.29042325]\n"
          ]
        },
        {
          "output_type": "execute_result",
          "data": {
            "text/plain": [
              "5"
            ]
          },
          "metadata": {},
          "execution_count": 59
        }
      ]
    },
    {
      "cell_type": "code",
      "source": [],
      "metadata": {
        "colab": {
          "base_uri": "https://localhost:8080/"
        },
        "id": "ntvywG6PXE--",
        "outputId": "f62179a7-3bdf-4f37-aa12-d1ed77bac96e"
      },
      "execution_count": null,
      "outputs": [
        {
          "output_type": "execute_result",
          "data": {
            "text/plain": [
              "0.5582270718026265"
            ]
          },
          "metadata": {},
          "execution_count": 60
        }
      ]
    },
    {
      "cell_type": "markdown",
      "source": [
        "(응용) 다차원의 배열을 1차원으로 평면화 하는 flatten 함수로 응용해보겠습니다.\n",
        "\n",
        "- np.flatten()\n",
        "- 3차원의 배열을 -> 1차원으로 평면화 하고 -> 최대값을 10으로 변경해주세요"
      ],
      "metadata": {
        "id": "qf0iAJGwcPg9"
      }
    },
    {
      "cell_type": "code",
      "source": [
        "arr = np.array([[1, 2, 3], [4, 5, 6], [3, 4, 5]])\n"
      ],
      "metadata": {
        "colab": {
          "base_uri": "https://localhost:8080/"
        },
        "id": "NxFGVPwbbAxc",
        "outputId": "d8c74242-9bd5-49fb-a88c-98c45b3cba8d"
      },
      "execution_count": null,
      "outputs": [
        {
          "output_type": "stream",
          "name": "stdout",
          "text": [
            "5\n",
            "[[ 1  2  3]\n",
            " [ 4  5 10]\n",
            " [ 3  4  5]]\n"
          ]
        }
      ]
    },
    {
      "cell_type": "markdown",
      "source": [
        "(응용) 4차원(3,4,3,4)으로 주어진 범위(0,10) 안에서 정수형 변수를 생성해주세요\n",
        "- 마지막 2축(axis)에서 합계를 출력해보세요"
      ],
      "metadata": {
        "id": "7AVKovtzdVWi"
      }
    },
    {
      "cell_type": "code",
      "source": [],
      "metadata": {
        "colab": {
          "base_uri": "https://localhost:8080/"
        },
        "id": "OMRE42w8cvxp",
        "outputId": "6890d467-cde6-4a36-9f8d-f82e0f652c19"
      },
      "execution_count": null,
      "outputs": [
        {
          "output_type": "execute_result",
          "data": {
            "text/plain": [
              "array([[61, 51, 40, 66],\n",
              "       [33, 52, 43, 52],\n",
              "       [64, 56, 46, 70]])"
            ]
          },
          "metadata": {},
          "execution_count": 74
        }
      ]
    },
    {
      "cell_type": "markdown",
      "source": [
        "배열의 첫번째 행과 두번째행을 바꾸어 봅시다"
      ],
      "metadata": {
        "id": "GBzyBBXKe_yb"
      }
    },
    {
      "cell_type": "code",
      "source": [
        "A = np.arange(25).reshape(5,5)\n"
      ],
      "metadata": {
        "colab": {
          "base_uri": "https://localhost:8080/"
        },
        "id": "pSLLmRj4fBz8",
        "outputId": "a6ba2985-1af5-4837-e569-b1f7826fe9a8"
      },
      "execution_count": null,
      "outputs": [
        {
          "output_type": "execute_result",
          "data": {
            "text/plain": [
              "array([[ 5,  6,  7,  8,  9],\n",
              "       [ 0,  1,  2,  3,  4],\n",
              "       [10, 11, 12, 13, 14],\n",
              "       [15, 16, 17, 18, 19],\n",
              "       [20, 21, 22, 23, 24]])"
            ]
          },
          "metadata": {},
          "execution_count": 76
        }
      ]
    },
    {
      "cell_type": "markdown",
      "source": [
        "# arg 인덱스 접근 함수 추가"
      ],
      "metadata": {
        "id": "phbKCyLruxfI"
      }
    },
    {
      "cell_type": "markdown",
      "source": [
        "- argmax. argmin 을 응용하기\n",
        "\n",
        "(응용) 표준정규분포를 사용해서 100개의 난수를 생성해주세요.\n",
        "\n",
        "그 후 shuffle() 함수를 사용해서 순서를 섞어줍니다.\n",
        "\n",
        "sort() 함수와 마찬가지로 argsort() 를 이용해 인덱스를 사용합니다\n",
        "\n",
        "- argsort() 를 사용해서 가장 큰 값을 5개만 뽑아봅시다."
      ],
      "metadata": {
        "id": "-7xP3b4pfntN"
      }
    },
    {
      "cell_type": "code",
      "source": [],
      "metadata": {
        "colab": {
          "base_uri": "https://localhost:8080/"
        },
        "id": "34wZma3-fIVq",
        "outputId": "1c874f5a-4f7e-4091-a185-7ad844f56474"
      },
      "execution_count": null,
      "outputs": [
        {
          "output_type": "stream",
          "name": "stdout",
          "text": [
            "None\n"
          ]
        },
        {
          "output_type": "execute_result",
          "data": {
            "text/plain": [
              "array([1.43566383, 1.57839459, 1.73572719, 2.03275258, 3.19506051])"
            ]
          },
          "metadata": {},
          "execution_count": 80
        }
      ]
    }
  ]
}