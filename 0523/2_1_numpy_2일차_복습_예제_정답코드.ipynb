{
  "nbformat": 4,
  "nbformat_minor": 0,
  "metadata": {
    "colab": {
      "provenance": []
    },
    "kernelspec": {
      "name": "python3",
      "display_name": "Python 3"
    },
    "language_info": {
      "name": "python"
    }
  },
  "cells": [
    {
      "cell_type": "code",
      "source": [
        "import numpy as np"
      ],
      "metadata": {
        "id": "umZUmVeORdVX"
      },
      "execution_count": null,
      "outputs": []
    },
    {
      "cell_type": "markdown",
      "source": [
        "## 문제 정답"
      ],
      "metadata": {
        "id": "rg4chR5LJvHC"
      }
    },
    {
      "cell_type": "markdown",
      "source": [
        "- 배열"
      ],
      "metadata": {
        "id": "KKeieV5Jsnkd"
      }
    },
    {
      "cell_type": "code",
      "source": [
        "Z = np.zeros(10)\n",
        "Z "
      ],
      "metadata": {
        "id": "mgIZYKQdJuw5"
      },
      "execution_count": null,
      "outputs": []
    },
    {
      "cell_type": "code",
      "execution_count": null,
      "metadata": {
        "id": "jvT_aL83JuM9"
      },
      "outputs": [],
      "source": [
        "Z = np.arange(10,50)\n",
        "Z "
      ]
    },
    {
      "cell_type": "code",
      "source": [
        "Z = np.arange(9).reshape(3, 3)\n",
        "Z"
      ],
      "metadata": {
        "id": "NfnVY9NvKbjG"
      },
      "execution_count": null,
      "outputs": []
    },
    {
      "cell_type": "code",
      "source": [
        "Z = np.ones((5,5))\n",
        "Z[1:-1, 1:-1] = 0\n",
        "Z"
      ],
      "metadata": {
        "id": "ZAIpsAZ_LHcB"
      },
      "execution_count": null,
      "outputs": []
    },
    {
      "cell_type": "markdown",
      "source": [
        "- 랜덤 함수"
      ],
      "metadata": {
        "id": "GUveNJvkLrBa"
      }
    },
    {
      "cell_type": "code",
      "source": [
        "Z = np.random.random((3,3,3))\n",
        "Z"
      ],
      "metadata": {
        "id": "TJvOPEmPLtDJ"
      },
      "execution_count": null,
      "outputs": []
    },
    {
      "cell_type": "code",
      "source": [
        "Z = np.random.random((10,10))\n",
        "Z_min, Z_max = Z.min(), Z.max()\n",
        "print(Z_min,Z_max)"
      ],
      "metadata": {
        "id": "jO2iBeb4L_wW"
      },
      "execution_count": null,
      "outputs": []
    },
    {
      "cell_type": "code",
      "source": [
        "Z = np.random.random(30)\n",
        "print(Z)\n",
        "Z_mean = Z.mean()\n",
        "print(Z_mean)"
      ],
      "metadata": {
        "id": "x4aIajUJM5Jm"
      },
      "execution_count": null,
      "outputs": []
    },
    {
      "cell_type": "markdown",
      "source": [
        "- 행렬 연산\n"
      ],
      "metadata": {
        "id": "jT9IJr9lRKYj"
      }
    },
    {
      "cell_type": "code",
      "source": [
        "X, Y = np.ones((5,3)), np.ones((3,2))\n",
        "Z = np.dot(X, Y)\n",
        "print(Z)\n",
        "\n",
        "# @ = dot\n",
        "z = X @ Y\n",
        "z"
      ],
      "metadata": {
        "id": "bGT_JDeCRJL0"
      },
      "execution_count": null,
      "outputs": []
    },
    {
      "cell_type": "code",
      "source": [
        "A = np.array([1, 2, 3])\n",
        "B = np.array([4, 5, 6])\n",
        "C = np.zeros(3)\n",
        "\n",
        "np.add(A, B, out=C)\n",
        "C"
      ],
      "metadata": {
        "id": "3hDrAxTfRVBH"
      },
      "execution_count": null,
      "outputs": []
    },
    {
      "cell_type": "code",
      "source": [
        "np.negative(A, out= C)\n",
        "C"
      ],
      "metadata": {
        "id": "_eMboWLRRX0u"
      },
      "execution_count": null,
      "outputs": []
    },
    {
      "cell_type": "code",
      "source": [
        "Z = np.random.random(10)\n",
        "print('최대값이 있는 인덱스:',Z.argmax())\n",
        "Z[Z.argmax()] = 0\n",
        "Z"
      ],
      "metadata": {
        "id": "oRcSG7ELTvVJ"
      },
      "execution_count": null,
      "outputs": []
    },
    {
      "cell_type": "code",
      "source": [
        "arr = np.array([[1, 2, 3], [4, 5, 6]])\n",
        "print('arr에서 최댓값:', np.max(arr))\n",
        "print('arr에서 최댓값인 6이 위치한 인덱스:',np.argmax(arr))\n",
        "print('arr에서 각 열(axis=0)별로 최댓값을 반환:', np.max(arr, axis=0))\n",
        "print('arr에서 각 열(axis=1)별로 최댓값을 반환:', np.max(arr, axis=1))\n",
        "print('arr에서 각 행(axis=0)별로 최댓값의 인덱스를 반환:',np.argmax(arr, axis=0))\n",
        "print('arr에서 각 행(axis=1)별로 최댓값의 인덱스를 반환:',np.argmax(arr, axis=1))"
      ],
      "metadata": {
        "id": "umNmbmWfZhzX"
      },
      "execution_count": null,
      "outputs": []
    },
    {
      "cell_type": "markdown",
      "source": [
        "# 형변환\n"
      ],
      "metadata": {
        "id": "smuKEyTVuX-A"
      }
    },
    {
      "cell_type": "code",
      "source": [
        "Z = (np.random.rand(10)*100).astype(np.float32)\n",
        "print(Z)\n",
        "\n",
        "X = Z.view(np.int32)\n",
        "X.shape = (10,1)\n",
        "X"
      ],
      "metadata": {
        "id": "vds1HrhwV67J"
      },
      "execution_count": null,
      "outputs": []
    },
    {
      "cell_type": "code",
      "source": [
        "Z = np.random.randint(0,6,(3,10))\n",
        "print(Z)\n",
        "Z.any() # == np.any(Z)"
      ],
      "metadata": {
        "id": "REUCIj9oZ3ku"
      },
      "execution_count": null,
      "outputs": []
    },
    {
      "cell_type": "markdown",
      "source": [
        "# 정규분포, 균일분포"
      ],
      "metadata": {
        "id": "IG8mTXTGunPP"
      }
    },
    {
      "cell_type": "code",
      "source": [
        "Z = np.random.uniform(0,1,10)\n",
        "print(Z)\n",
        "num = 0.5\n",
        "np.abs(Z-num).argmin()"
      ],
      "metadata": {
        "id": "xvYxWsY5Z5hf"
      },
      "execution_count": null,
      "outputs": []
    },
    {
      "cell_type": "code",
      "source": [
        "Z[np.abs(Z-num).argmin()]"
      ],
      "metadata": {
        "id": "Nu9DrSqicXL9"
      },
      "execution_count": null,
      "outputs": []
    },
    {
      "cell_type": "markdown",
      "source": [
        "flat() 함수는 다차원 배열을 1차원으로 평면화하는 간편한 방법을 제공합니다. 이를 통해 다차원 배열의 요소에 순차적으로 접근하거나, 1차원 배열로 변환하여 다양한 연산에 활용할 수 있습니다.\n",
        "\n",
        "\n",
        "\n",
        "\n"
      ],
      "metadata": {
        "id": "luVhVQRzwu1i"
      }
    },
    {
      "cell_type": "code",
      "source": [
        "arr = np.array([[1, 2, 3], [4, 5, 6], [3, 4, 5]])\n",
        "\n",
        "# 다차원 배열을 1차원으로 평면화\n",
        "flattened_arr = arr.flat\n",
        "print(arr.argmax())\n",
        "\n",
        "# 최대값을 갖는 인덱스의 값을 10으로 변경\n",
        "flattened_arr[arr.argmax()] = 10\n",
        "\n",
        "# 평면화된 1차원 배열의 요소에 접근 가능하므로, 최대값을 갖는 인덱스에 접근하여 값 변경도 가능\n",
        "\n",
        "print(arr) # 원본 다차원 배열 arr에도 해당 변경이 반영되는 것을 확인할 수 있습니다.\n"
      ],
      "metadata": {
        "id": "3684Tz7ocpZH"
      },
      "execution_count": null,
      "outputs": []
    },
    {
      "cell_type": "code",
      "source": [
        "A = np.random.randint(0,10, (3,4,3,4))\n",
        "A.sum(axis = (-2,-1))\n"
      ],
      "metadata": {
        "id": "IZSbTnkye5bl"
      },
      "execution_count": null,
      "outputs": []
    },
    {
      "cell_type": "code",
      "source": [
        "A = np.arange(25).reshape(5,5)\n",
        "A[[0,1]] = A[[1,0]]\n",
        "A"
      ],
      "metadata": {
        "id": "tMQQJFXWfR_Y"
      },
      "execution_count": null,
      "outputs": []
    },
    {
      "cell_type": "markdown",
      "source": [
        "# 배열의 인덱스에 접근하기 위해 사용할 수 있는 함수\n",
        "\n",
        "> np.argmax(): 배열에서 최댓값의 인덱스를 반환합니다.\n",
        "\n",
        "> np.argmin(): 배열에서 최솟값의 인덱스를 반환합니다.\n",
        "\n",
        "> np.argwhere(): 조건을 충족하는 요소의 인덱스를 반환합니다. 반환되는 값은 2차원 배열이며, 각 행은 해당 요소의 인덱스를 나타냅니다.\n",
        "\n",
        "> np.where(): 조건에 따라 요소를 선택하고, 선택된 요소의 인덱스를 반환합니다.\n",
        "\n",
        "> np.nonzero(): 0이 아닌 요소의 인덱스를 반환합니다. 반환되는 값은 각 차원별로 분리된 인덱스 배열입니다."
      ],
      "metadata": {
        "id": "PcIhz7HNu4Eu"
      }
    },
    {
      "cell_type": "code",
      "source": [
        "Z = np.random.randn(100)\n",
        "np.random.shuffle(Z)\n",
        "\n",
        "Z[np.argsort(Z)[-5:]]"
      ],
      "metadata": {
        "id": "FyBIvFvvg4-y"
      },
      "execution_count": null,
      "outputs": []
    },
    {
      "cell_type": "code",
      "source": [
        "arr = np.array([1, 3, 2, 5, 4])\n",
        "\n",
        "# 최댓값의 인덱스\n",
        "max_index = np.argmax(arr)\n",
        "print(\"Max index:\", max_index)  \n",
        "\n",
        "# 최솟값의 인덱스\n",
        "min_index = np.argmin(arr)\n",
        "print(\"Min index:\", min_index)  \n",
        "\n",
        "# 조건을 충족하는 요소의 인덱스\n",
        "index = np.argwhere(arr > 2)\n",
        "print(\"Indices greater than 2:\", index)  # 반환값 2차원 [[1] [3] [4]]\n",
        "\n",
        "# 조건에 따라 요소 선택 및 인덱스 반환\n",
        "selected_index = np.where(arr > 2)\n",
        "print(\"Selected indices:\", selected_index)  \n",
        "\n",
        "# 0이 아닌 요소의 인덱스\n",
        "nonzero_index = np.nonzero(arr)\n",
        "print(\"Nonzero indices:\", nonzero_index)  \n"
      ],
      "metadata": {
        "colab": {
          "base_uri": "https://localhost:8080/"
        },
        "id": "PK1I-ZrSvKaI",
        "outputId": "fc587e3c-57b5-4bec-d176-6f94afa983dd"
      },
      "execution_count": null,
      "outputs": [
        {
          "output_type": "stream",
          "name": "stdout",
          "text": [
            "Max index: 3\n",
            "Min index: 0\n",
            "Indices greater than 2: [[1]\n",
            " [3]\n",
            " [4]]\n",
            "Selected indices: (array([1, 3, 4]),)\n",
            "Nonzero indices: (array([0, 1, 2, 3, 4]),)\n"
          ]
        }
      ]
    },
    {
      "cell_type": "code",
      "source": [],
      "metadata": {
        "id": "C0Om64gbvLNP"
      },
      "execution_count": null,
      "outputs": []
    }
  ]
}