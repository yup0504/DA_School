{
  "nbformat": 4,
  "nbformat_minor": 0,
  "metadata": {
    "colab": {
      "provenance": []
    },
    "kernelspec": {
      "name": "python3",
      "display_name": "Python 3"
    },
    "language_info": {
      "name": "python"
    }
  },
  "cells": [
    {
      "cell_type": "markdown",
      "source": [
        "# 1. Numpy\n",
        "\n",
        "- 파이썬 라이브러리 중 하나 -> 과학 연산\n",
        "- 배열 -> 행렬 (선형대수)\n",
        "- 선형대수, 푸리에 변환 -> 수학 함수"
      ],
      "metadata": {
        "id": "ZganF-wy7t2e"
      }
    },
    {
      "cell_type": "code",
      "source": [
        "import numpy as np  # numpy 모듈을 np라는 이름으로 불러오겠다."
      ],
      "metadata": {
        "id": "D__rf86F1E9H"
      },
      "execution_count": null,
      "outputs": []
    },
    {
      "cell_type": "code",
      "source": [
        "a = np.array([1,2,3,4])  # 1차원 배열 생성   ,로 구분 x\n",
        "print(a)"
      ],
      "metadata": {
        "colab": {
          "base_uri": "https://localhost:8080/"
        },
        "id": "BEmXefIE1zEo",
        "outputId": "458054cc-ab08-451e-91b2-99eb37851d5c"
      },
      "execution_count": null,
      "outputs": [
        {
          "output_type": "stream",
          "name": "stdout",
          "text": [
            "[1 2 3 4]\n"
          ]
        }
      ]
    },
    {
      "cell_type": "code",
      "source": [
        "l = [1,2,3,4]   # ,로 구분\n",
        "print(l)"
      ],
      "metadata": {
        "colab": {
          "base_uri": "https://localhost:8080/"
        },
        "id": "AglKM2ox1y_c",
        "outputId": "d9bdc40b-8737-4f4d-878c-df270d4bb752"
      },
      "execution_count": null,
      "outputs": [
        {
          "output_type": "stream",
          "name": "stdout",
          "text": [
            "[1, 2, 3, 4]\n"
          ]
        }
      ]
    },
    {
      "cell_type": "code",
      "source": [
        "print(a.shape)  # 배열 축의 크기"
      ],
      "metadata": {
        "colab": {
          "base_uri": "https://localhost:8080/"
        },
        "id": "hL4-0VJF1y9J",
        "outputId": "63f35125-d29b-4841-f571-424ca2f47931"
      },
      "execution_count": null,
      "outputs": [
        {
          "output_type": "stream",
          "name": "stdout",
          "text": [
            "(4,)\n"
          ]
        }
      ]
    },
    {
      "cell_type": "code",
      "source": [
        "print(a.ndim)   # 배열의 차원을 알고싶을 때"
      ],
      "metadata": {
        "colab": {
          "base_uri": "https://localhost:8080/"
        },
        "id": "nrBjKPGb1y6p",
        "outputId": "c279de36-c435-4b0f-8791-372178f6aecb"
      },
      "execution_count": null,
      "outputs": [
        {
          "output_type": "stream",
          "name": "stdout",
          "text": [
            "1\n"
          ]
        }
      ]
    },
    {
      "cell_type": "code",
      "source": [
        "print(a.dtype)  # 배열의 데이터 타입"
      ],
      "metadata": {
        "colab": {
          "base_uri": "https://localhost:8080/"
        },
        "id": "kmsqo6WA1y4S",
        "outputId": "aed16218-85c6-4161-ef33-21c0c38d50d0"
      },
      "execution_count": null,
      "outputs": [
        {
          "output_type": "stream",
          "name": "stdout",
          "text": [
            "int64\n"
          ]
        }
      ]
    },
    {
      "cell_type": "code",
      "source": [
        "print(a.itemsize)  # 각 요소의 바이트 단위 크기"
      ],
      "metadata": {
        "colab": {
          "base_uri": "https://localhost:8080/"
        },
        "id": "Wh8WJlBL1y10",
        "outputId": "5fc51d16-b9bc-4e00-ce51-dcc240456713"
      },
      "execution_count": null,
      "outputs": [
        {
          "output_type": "stream",
          "name": "stdout",
          "text": [
            "8\n"
          ]
        }
      ]
    },
    {
      "cell_type": "code",
      "source": [
        "# 2차원\n",
        "b = np.array([[1,2], [3,4]])\n",
        "print(b)\n",
        "print(b.ndim)\n",
        "print(b.dtype)\n",
        "print(b.itemsize)\n",
        "print(b.nbytes)  # 메모리 크기 반환"
      ],
      "metadata": {
        "id": "tD3rWc8x1yzZ"
      },
      "execution_count": null,
      "outputs": []
    },
    {
      "cell_type": "code",
      "source": [
        "# 3차원\n",
        "c = np.array([[[1,2], [3,4]], [[5,6],[7,8]]])\n",
        "print(c)\n",
        "print(c.ndim)\n",
        "print(c.dtype)\n",
        "print(c.itemsize)\n",
        "print(c.nbytes)"
      ],
      "metadata": {
        "id": "ZPfQlK_Q1yup"
      },
      "execution_count": null,
      "outputs": []
    },
    {
      "cell_type": "code",
      "source": [
        "# 하나의 숫자값: 스칼라\n",
        "\n",
        "s = np.array(1)\n",
        "print(s)"
      ],
      "metadata": {
        "colab": {
          "base_uri": "https://localhost:8080/"
        },
        "id": "RlUFXyjw1yro",
        "outputId": "bf4081b3-16ff-4c0b-c391-8ff5bf129f51"
      },
      "execution_count": null,
      "outputs": [
        {
          "output_type": "stream",
          "name": "stdout",
          "text": [
            "1\n"
          ]
        }
      ]
    },
    {
      "cell_type": "code",
      "source": [
        "# 1차원: 벡터\n",
        "v = np.array([1,2,3])\n",
        "print(v)"
      ],
      "metadata": {
        "colab": {
          "base_uri": "https://localhost:8080/"
        },
        "id": "CxU6kN-X5imV",
        "outputId": "01cbcc8d-b128-4a3a-e6cd-4670e1ea2262"
      },
      "execution_count": null,
      "outputs": [
        {
          "output_type": "stream",
          "name": "stdout",
          "text": [
            "[1 2 3]\n"
          ]
        }
      ]
    },
    {
      "cell_type": "code",
      "source": [
        "# 2차원: 행렬(Matrix)\n",
        "m = np.array([[1,2,3],[1,2,3]])\n",
        "print(m)"
      ],
      "metadata": {
        "colab": {
          "base_uri": "https://localhost:8080/"
        },
        "id": "Z14EWtFi5ij7",
        "outputId": "b2f3c9ee-c9c1-4a0a-ee85-6fa6f59d2e08"
      },
      "execution_count": null,
      "outputs": [
        {
          "output_type": "stream",
          "name": "stdout",
          "text": [
            "[[1 2 3]\n",
            " [1 2 3]]\n"
          ]
        }
      ]
    },
    {
      "cell_type": "code",
      "source": [
        "# 3차원: 텐서(Tensor)\n",
        "t = np.array([[[1,2], [1,2]], [[1,2],[1,2]]])\n",
        "print(t)"
      ],
      "metadata": {
        "id": "g3kRehb35ihf"
      },
      "execution_count": null,
      "outputs": []
    },
    {
      "cell_type": "code",
      "source": [
        "# for 문을 이용해서 배열 생성\n",
        "f = np.array([i for i in range(0,10,2)])  # (start, end, step)\n",
        "print(f)\n",
        "print(f.ndim)\n",
        "print(f.dtype)\n",
        "print(f.itemsize)\n",
        "print(f.nbytes)"
      ],
      "metadata": {
        "colab": {
          "base_uri": "https://localhost:8080/"
        },
        "id": "BUmRZrM55ifI",
        "outputId": "e7de4c69-73c4-4111-868f-8c84741f6c52"
      },
      "execution_count": null,
      "outputs": [
        {
          "output_type": "stream",
          "name": "stdout",
          "text": [
            "[0 2 4 6 8]\n",
            "1\n",
            "int64\n",
            "8\n",
            "40\n"
          ]
        }
      ]
    },
    {
      "cell_type": "markdown",
      "source": [
        "## 1.1 데이터 타입\n",
        "\n",
        "1. 숫자형\n",
        "\n",
        "2. 문자형\n",
        "\n",
        "3. 논리형"
      ],
      "metadata": {
        "id": "EOCYfSgO7l0s"
      }
    },
    {
      "cell_type": "markdown",
      "source": [
        "### 숫자형\n",
        "- 부호가 있는 정수(Signed integer)  int\n",
        "- 부호가 없는 정수(Unsigned integer)  uint\n",
        "- 실수(floating point)  float\n",
        "- 복소수(complex)  complex        "
      ],
      "metadata": {
        "id": "gXpZUr9A-tlj"
      }
    },
    {
      "cell_type": "code",
      "source": [
        "# int (8bit, 16bit, 32bit, 64bit)  -> 각각 처리할 수 있는 데이터의 크기\n",
        "\n",
        "data = [1.1, 2, 3]\n",
        "\n",
        "i = np.array(data, dtype=np.int32)   # int로 설정해서 1.1이 1로 나옴\n",
        "print(i)"
      ],
      "metadata": {
        "colab": {
          "base_uri": "https://localhost:8080/"
        },
        "id": "7jLzBZVP5ic_",
        "outputId": "ee9009e2-6c0b-42e0-b200-1d3dde239000"
      },
      "execution_count": null,
      "outputs": [
        {
          "output_type": "stream",
          "name": "stdout",
          "text": [
            "[1 2 3]\n"
          ]
        }
      ]
    },
    {
      "cell_type": "code",
      "source": [
        "f = np.array(data, dtype=np.float64)  # float로 설정해서 2, 3 -> 2.0, 3.0 으로 나옴(0은 생략)\n",
        "print(f)"
      ],
      "metadata": {
        "colab": {
          "base_uri": "https://localhost:8080/"
        },
        "id": "KJRhchqkBCdc",
        "outputId": "61491c10-71fb-47be-c257-35e7c0b4cc94"
      },
      "execution_count": null,
      "outputs": [
        {
          "output_type": "stream",
          "name": "stdout",
          "text": [
            "[1.1 2.  3. ]\n"
          ]
        }
      ]
    },
    {
      "cell_type": "code",
      "source": [
        "print(i.dtype)"
      ],
      "metadata": {
        "colab": {
          "base_uri": "https://localhost:8080/"
        },
        "id": "0pMhoW-a5iYA",
        "outputId": "333fa171-5cf1-493b-a9f4-19508c726ba5"
      },
      "execution_count": null,
      "outputs": [
        {
          "output_type": "stream",
          "name": "stdout",
          "text": [
            "int32\n"
          ]
        }
      ]
    },
    {
      "cell_type": "code",
      "source": [
        "data2 = [-1, 2, 3]\n",
        "\n",
        "ui = np.array(data2, dtype=np.uint32)  # uint 8, 16, 32(0 ~ 4,294,967,295), 64\n",
        "# uint32는 (0 ~ 4,294,967,295)의 범위만 나타낼 수 있어서 -1은 0에서 뒤로 간 4,294,967,295 이 나온다.\n",
        "\n",
        "print(ui)"
      ],
      "metadata": {
        "colab": {
          "base_uri": "https://localhost:8080/"
        },
        "id": "DzoQYGYX_1cW",
        "outputId": "d61ff13a-0d40-48c6-c4b3-9a0043ca5420"
      },
      "execution_count": null,
      "outputs": [
        {
          "output_type": "stream",
          "name": "stdout",
          "text": [
            "[4294967295          2          3]\n"
          ]
        }
      ]
    },
    {
      "cell_type": "code",
      "source": [
        "c = np.array([1 + 2j, 3 + 4j, 5 + 6j], dtype=np.complex64)\n",
        "print(c)\n",
        "print(c.real)  # 실수\n",
        "print(c.imag)  # 허수"
      ],
      "metadata": {
        "colab": {
          "base_uri": "https://localhost:8080/"
        },
        "id": "gjIaj1PB_1Z5",
        "outputId": "e7751481-1737-4a52-98e7-eb9ea2d9fed8"
      },
      "execution_count": null,
      "outputs": [
        {
          "output_type": "stream",
          "name": "stdout",
          "text": [
            "[1.+2.j 3.+4.j 5.+6.j]\n",
            "[1. 3. 5.]\n",
            "[2. 4. 6.]\n"
          ]
        }
      ]
    },
    {
      "cell_type": "markdown",
      "source": [
        "### 문자형\n",
        "- string_\n",
        "- unicod_\n"
      ],
      "metadata": {
        "id": "L7Q_PnRHCSOf"
      }
    },
    {
      "cell_type": "code",
      "source": [
        "# 데이터 타입을 왜 분류하는가 -> 용도에 따라 다르게 저장한다.\n",
        "# string 은 바이트로 저장하고 보여주기 때문에? 내용물을 볼 필요가 없이 그냥 적은 용량으로 저장\n",
        "# unicod 는 내용물을 볼 수 있게 저장. 용량은 더 커짐"
      ],
      "metadata": {
        "id": "qOHhaI5bGivW"
      },
      "execution_count": null,
      "outputs": []
    },
    {
      "cell_type": "code",
      "source": [
        "data = [1, 2, 3]\n",
        "\n",
        "s = np.string_(data)   # bit 단위로 표현 내용물을 볼 필요는 없고 그냥 적은 용량으로 저장할 때\n",
        "print(s)"
      ],
      "metadata": {
        "colab": {
          "base_uri": "https://localhost:8080/"
        },
        "id": "iXuhrbhN_1XR",
        "outputId": "585ee40a-e535-4956-826e-fef763f2eaba"
      },
      "execution_count": null,
      "outputs": [
        {
          "output_type": "stream",
          "name": "stdout",
          "text": [
            "b'\\x01\\x02\\x03'\n"
          ]
        }
      ]
    },
    {
      "cell_type": "code",
      "source": [
        "print(s.dtype)  # S3: string 3  -> 3 개로 되어있다"
      ],
      "metadata": {
        "colab": {
          "base_uri": "https://localhost:8080/"
        },
        "id": "dueN8LxG_1VI",
        "outputId": "66d5bfdd-f892-4557-aaf3-4d678515ff12"
      },
      "execution_count": null,
      "outputs": [
        {
          "output_type": "stream",
          "name": "stdout",
          "text": [
            "|S3\n"
          ]
        }
      ]
    },
    {
      "cell_type": "code",
      "source": [
        "data3 = [1, 2, 3, 4, 5]\n",
        "\n",
        "# string_\n",
        "s2 = np.string_(data3)  # s2_ = np.array(data3, dtype='S) 와 같음\n",
        "\n",
        "# print, 그 자체, 데이터 타입\n",
        "print(s2)\n",
        "print(s2.dtype)"
      ],
      "metadata": {
        "colab": {
          "base_uri": "https://localhost:8080/"
        },
        "id": "kibtac8QCtDm",
        "outputId": "a1f43ab0-b85c-47da-bf47-34f16e6d1cb0"
      },
      "execution_count": null,
      "outputs": [
        {
          "output_type": "stream",
          "name": "stdout",
          "text": [
            "b'\\x01\\x02\\x03\\x04\\x05'\n",
            "|S5\n"
          ]
        }
      ]
    },
    {
      "cell_type": "code",
      "source": [
        "u = np.array(data3, dtype='U') # unicode   bit와는 다르게 내용물을 볼 수 있도록 저장(용도에 따른 저장방법)\n",
        "\n",
        "print(u)\n",
        "print(u.dtype)"
      ],
      "metadata": {
        "colab": {
          "base_uri": "https://localhost:8080/"
        },
        "id": "l73HpzWd_1Sx",
        "outputId": "7014bbb6-9a1e-4173-f51c-e9f50cef0403"
      },
      "execution_count": null,
      "outputs": [
        {
          "output_type": "stream",
          "name": "stdout",
          "text": [
            "['1' '2' '3' '4' '5']\n",
            "<U1\n"
          ]
        }
      ]
    },
    {
      "cell_type": "code",
      "source": [
        "data4 = [11, 22, 33, 44, 55]\n",
        "\n",
        "u2 = np.array(data4, dtype='U')\n",
        "\n",
        "print(u2)\n",
        "print(u2.dtype)"
      ],
      "metadata": {
        "colab": {
          "base_uri": "https://localhost:8080/"
        },
        "id": "uJAK6wjJD_Wu",
        "outputId": "f53518a4-3fdb-49ad-e591-133c26f154c7"
      },
      "execution_count": null,
      "outputs": [
        {
          "output_type": "stream",
          "name": "stdout",
          "text": [
            "['11' '22' '33' '44' '55']\n",
            "<U2\n"
          ]
        }
      ]
    },
    {
      "cell_type": "markdown",
      "source": [
        "### 논리형(boolean)\n",
        "\n",
        "- True(1), False(0)\n",
        "- 비트 연산 사용: & and, | or, ^ xor, ~ not"
      ],
      "metadata": {
        "id": "vsDtr9UDEEKa"
      }
    },
    {
      "cell_type": "code",
      "source": [
        "l1 = np.array([True, False, True])\n",
        "l2 = np.array([False, True, False])\n",
        "\n",
        "print(l1.dtype)\n",
        "print(l2.dtype)"
      ],
      "metadata": {
        "colab": {
          "base_uri": "https://localhost:8080/"
        },
        "id": "mH3gmr9f_1QG",
        "outputId": "319d68d2-3b6f-4be1-cb8f-61b31f7a5282"
      },
      "execution_count": null,
      "outputs": [
        {
          "output_type": "stream",
          "name": "stdout",
          "text": [
            "bool\n",
            "bool\n"
          ]
        }
      ]
    },
    {
      "cell_type": "code",
      "source": [
        "and_ = np.logical_and(l1, l2)   # and 연산으로 l1, l2 를 비교하겠다.\n",
        "print(and_)"
      ],
      "metadata": {
        "colab": {
          "base_uri": "https://localhost:8080/"
        },
        "id": "syNeqQ_VEqvS",
        "outputId": "ef88dab8-8d9e-43b2-cb00-0f15046273b1"
      },
      "execution_count": null,
      "outputs": [
        {
          "output_type": "stream",
          "name": "stdout",
          "text": [
            "[False False False]\n"
          ]
        }
      ]
    },
    {
      "cell_type": "markdown",
      "source": [
        "## 1.2 데이터 형 변환 (Cast, Casting 형 변환)\n",
        "\n",
        "- 데이터들끼리 형태를 맞춰줌\n",
        "- ex) 이미지 데이터 -> uint 형으로 불러옴 -> float로 형 변환"
      ],
      "metadata": {
        "id": "o9GnrkRnHV5T"
      }
    },
    {
      "cell_type": "code",
      "source": [
        "data = [1.1, 2, 3]\n",
        "\n",
        "a = np.float64(data)  # dtype변경 (np.데이터타입 을 이용한 방법) / a = np.array(data, dtype=np.float64) ?\n",
        "\n",
        "print(a)\n",
        "print(a.dtype)"
      ],
      "metadata": {
        "colab": {
          "base_uri": "https://localhost:8080/"
        },
        "id": "VpotcAUWEqrk",
        "outputId": "bfb6bea0-4006-430a-be64-aa786bb79135"
      },
      "execution_count": null,
      "outputs": [
        {
          "output_type": "stream",
          "name": "stdout",
          "text": [
            "[1.1 2.  3. ]\n",
            "float64\n"
          ]
        }
      ]
    },
    {
      "cell_type": "code",
      "source": [
        "a = a.astype(np.int64)   # dtype변경 (astype을 이용한 방법 - DataFrame.astype(dtype.변경할 타입)\n",
        "\n",
        "print(a)\n",
        "print(a.dtype)"
      ],
      "metadata": {
        "colab": {
          "base_uri": "https://localhost:8080/"
        },
        "id": "_d1n4qwhEqpb",
        "outputId": "a70e90b4-aeeb-42d5-eb14-acde0136d3b3"
      },
      "execution_count": null,
      "outputs": [
        {
          "output_type": "stream",
          "name": "stdout",
          "text": [
            "[1 2 3]\n",
            "int64\n"
          ]
        }
      ]
    },
    {
      "cell_type": "code",
      "source": [
        "# 변환 방법 3가지?\n",
        "\n",
        "data = [1.1, 2, 3]\n",
        "\n",
        "a = np.float64(data)  # dtype변경 (np.데이터타입 을 이용한 방법) / \n",
        "b = np.array(data, dtype=np.float64)\n",
        "c = a.astype(np.float64)\n",
        "\n",
        "print(a)\n",
        "print(a.dtype)\n",
        "print(b)\n",
        "print(b.dtype)\n",
        "print(c)\n",
        "print(c.dtype)"
      ],
      "metadata": {
        "id": "TTDpvGjoTX4e"
      },
      "execution_count": null,
      "outputs": []
    },
    {
      "cell_type": "code",
      "source": [
        "b = np.uint16(0)\n",
        "\n",
        "print(b)\n",
        "print(b.dtype)"
      ],
      "metadata": {
        "colab": {
          "base_uri": "https://localhost:8080/"
        },
        "id": "aMCuVnCUEqm8",
        "outputId": "392edc50-b1b7-4f4d-82c2-8d0689376bca"
      },
      "execution_count": null,
      "outputs": [
        {
          "output_type": "stream",
          "name": "stdout",
          "text": [
            "0\n",
            "uint16\n"
          ]
        }
      ]
    },
    {
      "cell_type": "code",
      "source": [
        "b = b - 1   # -1 을 빼줬기 때문에 자동으로 형이 변환됨?\n",
        "print(b)\n",
        "print(b.dtype)"
      ],
      "metadata": {
        "colab": {
          "base_uri": "https://localhost:8080/"
        },
        "id": "lJAe42LbEqkT",
        "outputId": "6b16a93a-e237-401d-ca42-3eb9d80c6c3e"
      },
      "execution_count": null,
      "outputs": [
        {
          "output_type": "stream",
          "name": "stdout",
          "text": [
            "-1\n",
            "int64\n"
          ]
        }
      ]
    },
    {
      "cell_type": "code",
      "source": [
        "c = np.uint16(-1)\n",
        "print(c)"
      ],
      "metadata": {
        "colab": {
          "base_uri": "https://localhost:8080/"
        },
        "id": "2BVpQAnEEqhw",
        "outputId": "3ce2621c-b9f4-4344-db8e-86b4ff390f96"
      },
      "execution_count": null,
      "outputs": [
        {
          "output_type": "stream",
          "name": "stdout",
          "text": [
            "65535\n"
          ]
        }
      ]
    },
    {
      "cell_type": "markdown",
      "source": [
        "## 1.3 산술연산"
      ],
      "metadata": {
        "id": "jL3Y3Ye0Q4St"
      }
    },
    {
      "cell_type": "code",
      "source": [
        "# 시간비교  - 나중에\n",
        "import time\n",
        "\n",
        "data = [[1, 2, 3], [4, 5, 6]]\n",
        "data2 = [[1, 1, 1], [2, 2, 2]]\n",
        "\n",
        "start_time = time.time()\n",
        "\n",
        "for i in range(len(data)):\n",
        "  for j in range(len(data[0])):"
      ],
      "metadata": {
        "id": "p03mFMQfEqfc"
      },
      "execution_count": null,
      "outputs": []
    },
    {
      "cell_type": "code",
      "source": [
        "data = [[1, 2, 3], [4, 5, 6]]\n",
        "data2 = [[1, 1, 1], [2, 2, 2]]\n",
        "\n",
        "print(len(data))\n",
        "print(len(data[0]))"
      ],
      "metadata": {
        "colab": {
          "base_uri": "https://localhost:8080/"
        },
        "id": "PMSrYqk5Rm7C",
        "outputId": "5911c182-400c-455f-f32d-baf6416b7a46"
      },
      "execution_count": null,
      "outputs": [
        {
          "output_type": "stream",
          "name": "stdout",
          "text": [
            "2\n",
            "3\n"
          ]
        }
      ]
    },
    {
      "cell_type": "code",
      "source": [
        "sum = 0\n",
        "\n",
        "for i in range(len(data)): \n",
        "  for j in range(len(data[0])):\n",
        "    #print('i:', i, 'j: ', j)\n",
        "    sum += data[i][j]\n",
        "\n",
        "print(sum)\n",
        "\n",
        "# i가 0일 때 j는 0,1,2 "
      ],
      "metadata": {
        "colab": {
          "base_uri": "https://localhost:8080/"
        },
        "id": "UdapK8zsEqc1",
        "outputId": "30f7b848-f7a3-4d85-e063-f026daf67448"
      },
      "execution_count": null,
      "outputs": [
        {
          "output_type": "stream",
          "name": "stdout",
          "text": [
            "i: 0 j:  0\n",
            "i: 0 j:  1\n",
            "i: 0 j:  2\n",
            "i: 1 j:  0\n",
            "i: 1 j:  1\n",
            "i: 1 j:  2\n",
            "0\n"
          ]
        }
      ]
    },
    {
      "cell_type": "code",
      "source": [
        "a = np.array([1,2,3])\n",
        "b = np.array([4,5,6])\n",
        "\n",
        "sum = a+b\n",
        "min = a-b\n",
        "mul = a*b\n",
        "div = a/b\n",
        "\n",
        "print(sum)\n",
        "print(min)\n",
        "print(mul)\n",
        "print(div)"
      ],
      "metadata": {
        "colab": {
          "base_uri": "https://localhost:8080/"
        },
        "id": "00huYj1MEqaa",
        "outputId": "bad210ee-1c87-4c8d-a431-2ab74bd69f55"
      },
      "execution_count": null,
      "outputs": [
        {
          "output_type": "stream",
          "name": "stdout",
          "text": [
            "[5 7 9]\n",
            "[-3 -3 -3]\n",
            "[ 4 10 18]\n",
            "[0.25 0.4  0.5 ]\n"
          ]
        }
      ]
    },
    {
      "cell_type": "code",
      "source": [
        "a = np.array([1,2,3])\n",
        "b = np.array([4,5,6])\n",
        "\n",
        "aa = np.exp(a)  # 지수함수\n",
        "print(aa)\n",
        "\n",
        "bb = np.log(b)  # 자연로그\n",
        "print(bb)\n",
        "\n",
        "cc = np.log2(b)  # 밑이 2인 로그\n",
        "print(cc)\n",
        "\n",
        "d = np.array([0, np.pi/2, np.pi])  # 삼각함수\n",
        "sin_ = np.sin(d)\n",
        "cos_ = np.cos(d)\n",
        "tan_ = np.tan(d)\n",
        "\n",
        "print(sin_)\n",
        "print(cos_)\n",
        "print(tan_)"
      ],
      "metadata": {
        "colab": {
          "base_uri": "https://localhost:8080/"
        },
        "id": "cTeOtpp3EqXi",
        "outputId": "94d12060-b02d-4eab-f2ba-a81bd6b88cfd"
      },
      "execution_count": null,
      "outputs": [
        {
          "output_type": "stream",
          "name": "stdout",
          "text": [
            "[ 2.71828183  7.3890561  20.08553692]\n",
            "[1.38629436 1.60943791 1.79175947]\n"
          ]
        }
      ]
    },
    {
      "cell_type": "markdown",
      "source": [
        "## 1.4 배열의 연결과 분할"
      ],
      "metadata": {
        "id": "nxO9_cP5qObJ"
      }
    },
    {
      "cell_type": "code",
      "source": [
        "print('a'+'b')"
      ],
      "metadata": {
        "id": "G42c_QQxVlgo"
      },
      "execution_count": null,
      "outputs": []
    },
    {
      "cell_type": "code",
      "source": [
        "x = [1, 2, 3]\n",
        "y = [4, 5, 6]  # 같은 차원끼리 가능\n",
        "\n",
        "concat = np.concatenate([x,y])\n",
        "print(concat)"
      ],
      "metadata": {
        "colab": {
          "base_uri": "https://localhost:8080/"
        },
        "id": "HQY7vwECqRdQ",
        "outputId": "1da0d2f0-05c3-4127-e49f-0241c6c2ba03"
      },
      "execution_count": null,
      "outputs": [
        {
          "output_type": "stream",
          "name": "stdout",
          "text": [
            "[1 2 3 4 5 6]\n"
          ]
        }
      ]
    },
    {
      "cell_type": "code",
      "source": [
        "x2 = [[1,2], [3,4]]\n",
        "y2 = [[4,5], [6,7]]\n",
        "\n",
        "concat2 = np.concatenate([x2,y2], axis=1)  # 열 병합\n",
        "concat3 = np.concatenate([x2,y2], axis=0)  # 행 병합\n",
        "print(concat2)\n",
        "print(concat3)"
      ],
      "metadata": {
        "colab": {
          "base_uri": "https://localhost:8080/"
        },
        "id": "jqsi0yRKqRbb",
        "outputId": "9e931574-0812-494a-f364-7bdbc8d2f881"
      },
      "execution_count": null,
      "outputs": [
        {
          "output_type": "stream",
          "name": "stdout",
          "text": [
            "[[1 2 4 5]\n",
            " [3 4 6 7]]\n",
            "[[1 2]\n",
            " [3 4]\n",
            " [4 5]\n",
            " [6 7]]\n"
          ]
        }
      ]
    },
    {
      "cell_type": "code",
      "source": [
        "arr = np.arange(10)\n",
        "print(arr)"
      ],
      "metadata": {
        "colab": {
          "base_uri": "https://localhost:8080/"
        },
        "id": "MukvDy1OqRZZ",
        "outputId": "24f45a09-7213-44b5-c70e-462649516f77"
      },
      "execution_count": null,
      "outputs": [
        {
          "output_type": "stream",
          "name": "stdout",
          "text": [
            "[0 1 2 3 4 5 6 7 8 9]\n"
          ]
        }
      ]
    },
    {
      "cell_type": "code",
      "source": [
        "arr.reshape(2,5)   # 모양 다시 정하기"
      ],
      "metadata": {
        "colab": {
          "base_uri": "https://localhost:8080/"
        },
        "id": "GLpfCmjeqRXR",
        "outputId": "6dddfb0f-3e42-431d-a104-8eab274c47c4"
      },
      "execution_count": null,
      "outputs": [
        {
          "output_type": "execute_result",
          "data": {
            "text/plain": [
              "array([[0, 1, 2, 3, 4],\n",
              "       [5, 6, 7, 8, 9]])"
            ]
          },
          "metadata": {},
          "execution_count": 97
        }
      ]
    },
    {
      "cell_type": "code",
      "source": [
        "x2 = [[1,2], [3,4]]  # 2x2\n",
        "y2 = [[4,5], [6,7]]  # 2x2\n",
        "\n",
        "# hstack horizontal - 수평\n",
        "h = np.hstack([x2, y2])\n",
        "print(h)\n",
        "\n",
        "# vstack vertical - 수직\n",
        "v = np.vstack([x2, y2])\n",
        "print(v)"
      ],
      "metadata": {
        "colab": {
          "base_uri": "https://localhost:8080/"
        },
        "id": "_zWrlYYqqRVL",
        "outputId": "5aa6ac8b-d37e-4b38-eb14-842f2deb02b7"
      },
      "execution_count": null,
      "outputs": [
        {
          "output_type": "stream",
          "name": "stdout",
          "text": [
            "[[1 2 4 5]\n",
            " [3 4 6 7]]\n",
            "[[1 2]\n",
            " [3 4]\n",
            " [4 5]\n",
            " [6 7]]\n"
          ]
        }
      ]
    },
    {
      "cell_type": "code",
      "source": [
        "x2 = np.array([[1,2], [3,4], [5, 6]])  # 2x2\n",
        "\n",
        "# hsplit  행 분할\n",
        "h2 = np.hsplit(x2, 2)\n",
        "print(h2)  \n",
        "# -> array([[1],[3],[5]]) / array([[2],[4],[6]])\n",
        "\n",
        "\n",
        "# vsplit  열 분할\n",
        "v2 = np.vsplit(x2,3)\n",
        "print(v2)\n",
        "# -> [array([[1, 2]]), array([[3, 4]]), array([[5, 6]])]"
      ],
      "metadata": {
        "colab": {
          "base_uri": "https://localhost:8080/"
        },
        "id": "9gUM2oZiqRSw",
        "outputId": "f1ce3a7f-7a53-460f-dec7-b0963a1b5a50"
      },
      "execution_count": null,
      "outputs": [
        {
          "output_type": "stream",
          "name": "stdout",
          "text": [
            "[array([[1],\n",
            "       [3],\n",
            "       [5]]), array([[2],\n",
            "       [4],\n",
            "       [6]])]\n"
          ]
        }
      ]
    },
    {
      "cell_type": "code",
      "source": [
        "x5 = np.array([[1],[2],[3],[4],[5]])\n",
        "print(x5)\n",
        "print(x5.shape)"
      ],
      "metadata": {
        "colab": {
          "base_uri": "https://localhost:8080/"
        },
        "id": "4ylyaDGmqRQd",
        "outputId": "94e9c39d-3bb9-4d87-ad54-04e7bb4b1a91"
      },
      "execution_count": null,
      "outputs": [
        {
          "output_type": "stream",
          "name": "stdout",
          "text": [
            "[[1]\n",
            " [2]\n",
            " [3]\n",
            " [4]\n",
            " [5]]\n",
            "(5, 1)\n"
          ]
        }
      ]
    },
    {
      "cell_type": "code",
      "source": [
        "x6 = np.array([[1, 2, 3, 4, 5]])\n",
        "print(x6)\n",
        "print(x6.shape)"
      ],
      "metadata": {
        "colab": {
          "base_uri": "https://localhost:8080/"
        },
        "id": "D4FtuLmv5IR-",
        "outputId": "bd24526c-bf3f-4fe8-86aa-0543df55455f"
      },
      "execution_count": null,
      "outputs": [
        {
          "output_type": "stream",
          "name": "stdout",
          "text": [
            "[[1 2 3 4 5]]\n",
            "(1, 5)\n"
          ]
        }
      ]
    },
    {
      "cell_type": "markdown",
      "source": [
        "## 1.5 다양한 배열 만들기"
      ],
      "metadata": {
        "id": "mT1YXzWs2xwt"
      }
    },
    {
      "cell_type": "code",
      "source": [
        "zero = np.zeros([3,4])\n",
        "print(zero)"
      ],
      "metadata": {
        "colab": {
          "base_uri": "https://localhost:8080/"
        },
        "id": "mDeombaf20Hd",
        "outputId": "11d0e845-30d5-4fc6-db4b-2748283a2f52"
      },
      "execution_count": null,
      "outputs": [
        {
          "output_type": "stream",
          "name": "stdout",
          "text": [
            "[[0. 0. 0. 0.]\n",
            " [0. 0. 0. 0.]\n",
            " [0. 0. 0. 0.]]\n"
          ]
        }
      ]
    },
    {
      "cell_type": "code",
      "source": [
        "one = np.ones([3,4])\n",
        "print(one)"
      ],
      "metadata": {
        "id": "NjHhsyIH20Or"
      },
      "execution_count": null,
      "outputs": []
    },
    {
      "cell_type": "code",
      "source": [
        "eye = np.eye(3)\n",
        "print(eye)"
      ],
      "metadata": {
        "id": "ujHdI28d20MP"
      },
      "execution_count": null,
      "outputs": []
    },
    {
      "cell_type": "code",
      "source": [],
      "metadata": {
        "id": "hXx_qB1aX9Y6"
      },
      "execution_count": null,
      "outputs": []
    },
    {
      "cell_type": "markdown",
      "source": [
        "# Numpy 제공 함수"
      ],
      "metadata": {
        "id": "3VtohrpY4SeK"
      }
    },
    {
      "cell_type": "code",
      "source": [
        "# 절댓값\n",
        "arr1 = np.array([-1, -2, -3, 4])\n",
        "abs_arr = np.abs(arr1)\n",
        "\n",
        "print(abs_arr)"
      ],
      "metadata": {
        "colab": {
          "base_uri": "https://localhost:8080/"
        },
        "id": "2pCLZrGa20Jw",
        "outputId": "b3d5c73c-a9bf-4096-ff0f-acbec40410ed"
      },
      "execution_count": null,
      "outputs": [
        {
          "output_type": "stream",
          "name": "stdout",
          "text": [
            "[1 2 3 4]\n"
          ]
        }
      ]
    },
    {
      "cell_type": "code",
      "source": [
        "# 제곱근\n",
        "arr2 = np.array([1, 4, 9, 16])\n",
        "sqrt_arr = np.sqrt(arr2)\n",
        "\n",
        "print(sqrt_arr)"
      ],
      "metadata": {
        "colab": {
          "base_uri": "https://localhost:8080/"
        },
        "id": "IUpnT2Pc5Yux",
        "outputId": "c785dae6-aef4-48a6-baaf-22a7c9551fba"
      },
      "execution_count": null,
      "outputs": [
        {
          "output_type": "stream",
          "name": "stdout",
          "text": [
            "[1. 2. 3. 4.]\n"
          ]
        }
      ]
    },
    {
      "cell_type": "markdown",
      "source": [
        "## 집계함수"
      ],
      "metadata": {
        "id": "JafIAvcS5noD"
      }
    },
    {
      "cell_type": "code",
      "source": [
        "# 평균\n",
        "a = np.array([1, 2, 3, 4, 5])\n",
        "a_mean = np.mean(a)\n",
        "\n",
        "print(a_mean)  # float형으로 출력"
      ],
      "metadata": {
        "colab": {
          "base_uri": "https://localhost:8080/"
        },
        "id": "GqdygSz25YsK",
        "outputId": "6a3bfcf5-0822-4331-e8d0-7030b708b353"
      },
      "execution_count": null,
      "outputs": [
        {
          "output_type": "stream",
          "name": "stdout",
          "text": [
            "3.0\n"
          ]
        }
      ]
    },
    {
      "cell_type": "code",
      "source": [
        "# 중간값\n",
        "b = np.array([1, 3, 5, 7, 9])\n",
        "b_median = np.median(b)\n",
        "\n",
        "print(b_median)  # float형으로 출력"
      ],
      "metadata": {
        "colab": {
          "base_uri": "https://localhost:8080/"
        },
        "id": "V-9Td2V15YqB",
        "outputId": "18979eb2-8163-4d90-9de4-3412e9f33e47"
      },
      "execution_count": null,
      "outputs": [
        {
          "output_type": "stream",
          "name": "stdout",
          "text": [
            "5.0\n"
          ]
        }
      ]
    },
    {
      "cell_type": "code",
      "source": [
        "# 표준편차\n",
        "c = np.array([1, 2, 3, 4, 5])\n",
        "c_std = np.std(c)\n",
        "\n",
        "print(c_std)"
      ],
      "metadata": {
        "colab": {
          "base_uri": "https://localhost:8080/"
        },
        "id": "94aY2Gg06SeD",
        "outputId": "9730c8e9-100a-4e72-8c2d-c030dc447c29"
      },
      "execution_count": null,
      "outputs": [
        {
          "output_type": "stream",
          "name": "stdout",
          "text": [
            "1.4142135623730951\n"
          ]
        }
      ]
    },
    {
      "cell_type": "code",
      "source": [
        "# 분산\n",
        "d = np.array([1, 2, 3, 4, 5])\n",
        "d_var = np.var(d)\n",
        "\n",
        "print(d_var)  # float형으로 출력"
      ],
      "metadata": {
        "colab": {
          "base_uri": "https://localhost:8080/"
        },
        "id": "ChvRQjdi6s8c",
        "outputId": "8bbf64f1-afd8-423d-ad33-30a4beb1c475"
      },
      "execution_count": null,
      "outputs": [
        {
          "output_type": "stream",
          "name": "stdout",
          "text": [
            "2.0\n"
          ]
        }
      ]
    },
    {
      "cell_type": "code",
      "source": [
        "# 합\n",
        "d = np.array([1, 2, 3, 4, 5])\n",
        "d_sum = np.sum(d)\n",
        "\n",
        "print(d_sum)"
      ],
      "metadata": {
        "id": "mox-OqLE6s5b"
      },
      "execution_count": null,
      "outputs": []
    },
    {
      "cell_type": "code",
      "source": [
        "# 누적합계 (배열 형태로 반환)\n",
        "d_cumsum = np.cumsum(d)\n",
        "\n",
        "print(d_cumsum)"
      ],
      "metadata": {
        "colab": {
          "base_uri": "https://localhost:8080/"
        },
        "id": "wGUxAsGL7GyT",
        "outputId": "3c9111be-1d12-436f-c9e9-31a0cc5c55ef"
      },
      "execution_count": null,
      "outputs": [
        {
          "output_type": "stream",
          "name": "stdout",
          "text": [
            "[ 1  3  6 10 15]\n"
          ]
        }
      ]
    },
    {
      "cell_type": "code",
      "source": [
        "# 최소값\n",
        "min = np.argmin(d)\n",
        "\n",
        "print(min) # 인덱스 값으로 출력. 0번째가 제일 작다"
      ],
      "metadata": {
        "colab": {
          "base_uri": "https://localhost:8080/"
        },
        "id": "Rd7ef-Ld8IWc",
        "outputId": "aa2b791f-70e7-4dab-c93b-7a9265cae78f"
      },
      "execution_count": null,
      "outputs": [
        {
          "output_type": "stream",
          "name": "stdout",
          "text": [
            "0\n"
          ]
        }
      ]
    },
    {
      "cell_type": "code",
      "source": [
        "# 최대값\n",
        "max = np.argmax(d)\n",
        "\n",
        "print(max) # 인덱스 값으로 출력. 0번째가 제일 작다"
      ],
      "metadata": {
        "colab": {
          "base_uri": "https://localhost:8080/"
        },
        "id": "oUEx2o6uE4iB",
        "outputId": "f8ccd1f9-fa91-48bd-f319-4f66067fc9fa"
      },
      "execution_count": null,
      "outputs": [
        {
          "output_type": "stream",
          "name": "stdout",
          "text": [
            "4\n"
          ]
        }
      ]
    },
    {
      "cell_type": "code",
      "source": [
        "# any -> 배열 안에 하나라도 True가 있는지 확인\n",
        "a = np.array([0, 0, 0, 1])\n",
        "a_true = np.any(a)\n",
        "\n",
        "print(a_true)"
      ],
      "metadata": {
        "colab": {
          "base_uri": "https://localhost:8080/"
        },
        "id": "l6b3zDXY8vfC",
        "outputId": "fabdfb0f-f3cf-4b1f-d432-c372321cb065"
      },
      "execution_count": null,
      "outputs": [
        {
          "output_type": "stream",
          "name": "stdout",
          "text": [
            "True\n"
          ]
        }
      ]
    },
    {
      "cell_type": "code",
      "source": [
        "# all -> 모두 True가 아니라면 False\n",
        "a_all = np.all(a)\n",
        "print(a_all)"
      ],
      "metadata": {
        "colab": {
          "base_uri": "https://localhost:8080/"
        },
        "id": "1Kiu_vXn9l5Q",
        "outputId": "7f2d4150-c1c1-471e-c458-9ad28b99951e"
      },
      "execution_count": null,
      "outputs": [
        {
          "output_type": "stream",
          "name": "stdout",
          "text": [
            "False\n"
          ]
        }
      ]
    },
    {
      "cell_type": "code",
      "source": [
        "# Nan/ nansum -> nan값이 있을 때 0으로 취급하여 더하기\n",
        "a = np.array([1, 2, np.nan, 4])\n",
        "a_nsum = np.nansum(a)\n",
        "a_sum = np.sum(a)\n",
        "\n",
        "print(a_sum)\n",
        "print(a_nsum)"
      ],
      "metadata": {
        "colab": {
          "base_uri": "https://localhost:8080/"
        },
        "id": "GCIsD0Lz9l2j",
        "outputId": "7921449f-a693-4859-82ca-8718a451db7d"
      },
      "execution_count": null,
      "outputs": [
        {
          "output_type": "stream",
          "name": "stdout",
          "text": [
            "nan\n",
            "7.0\n"
          ]
        }
      ]
    },
    {
      "cell_type": "code",
      "source": [
        "# where -> 조건에 맞는 값을 출력\n",
        "d = np.array([1, 2, 3, 4, 5])\n",
        "condition1 = np.where(d < 3)\n",
        "condition = np.where(d < 3, d, 0)\n",
        "\n",
        "print(condition1) # 튜플형태로 출력 / 값이 없어도 출력?\n",
        "print(condition)  # 배열형태로 출력"
      ],
      "metadata": {
        "colab": {
          "base_uri": "https://localhost:8080/"
        },
        "id": "2RRij1xh9l0b",
        "outputId": "45cca4d9-a76b-4843-8bee-1cf3b02a6842"
      },
      "execution_count": null,
      "outputs": [
        {
          "output_type": "stream",
          "name": "stdout",
          "text": [
            "(array([0, 1]),)\n",
            "[1 2 0 0 0]\n"
          ]
        }
      ]
    },
    {
      "cell_type": "markdown",
      "source": [
        "### Boolean Indexing\n",
        "\n",
        "조건에 따른 요소들을 판별해서 새로운 배열을 만든다."
      ],
      "metadata": {
        "id": "tVtYtGpeFPyP"
      }
    },
    {
      "cell_type": "code",
      "source": [
        "# 조건에 맞는 값을 출력?\n",
        "a = np.array([1, 2, 3, 4, 5, 6, 7, 8, 9, 10])\n",
        "even_a = a[a % 2 == 0]\n",
        "\n",
        "print(even_a)\n",
        "print(a)"
      ],
      "metadata": {
        "colab": {
          "base_uri": "https://localhost:8080/"
        },
        "id": "vFSuMemv9lvN",
        "outputId": "5e014fc1-f804-403c-e042-64be43339904"
      },
      "execution_count": null,
      "outputs": [
        {
          "output_type": "stream",
          "name": "stdout",
          "text": [
            "[ 2  4  6  8 10]\n",
            "[ 1  2  3  4  5  6  7  8  9 10]\n"
          ]
        }
      ]
    },
    {
      "cell_type": "markdown",
      "source": [
        "### Broadcast (브로드캐스트)\n",
        "\n",
        "- 크기가 다른 배열 간의 연산도 가능하게 해줌\n",
        "- ex) 1차원, 2차원"
      ],
      "metadata": {
        "id": "21VXAHOXIC2r"
      }
    },
    {
      "cell_type": "code",
      "source": [
        "a = np.array([1, 2, 3])\n",
        "b = np.array([4, 5, 6])\n",
        "\n",
        "c = a + b\n",
        "print(c)"
      ],
      "metadata": {
        "colab": {
          "base_uri": "https://localhost:8080/"
        },
        "id": "_g7yMhmAFpeZ",
        "outputId": "82f459e3-f2fc-484b-cc9c-0c2fe11075eb"
      },
      "execution_count": null,
      "outputs": [
        {
          "output_type": "stream",
          "name": "stdout",
          "text": [
            "[5 7 9]\n"
          ]
        }
      ]
    },
    {
      "cell_type": "code",
      "source": [
        "d = np.array([[1],[2],[3]])  # 3 x 1\n",
        "e = np.array([4, 5, 6])   # 원래라면 ([[4, 5, 6]])으로 해야함 1 x 3\n",
        "f = d + e\n",
        "\n",
        "print(d.shape)\n",
        "print(e.shape)\n",
        "print(f)"
      ],
      "metadata": {
        "colab": {
          "base_uri": "https://localhost:8080/"
        },
        "id": "svjqB1FbI9oA",
        "outputId": "69888cac-4a09-4d1e-8b30-69e8684681a7"
      },
      "execution_count": null,
      "outputs": [
        {
          "output_type": "stream",
          "name": "stdout",
          "text": [
            "(3, 1)\n",
            "(3,)\n",
            "[[5 6 7]\n",
            " [6 7 8]\n",
            " [7 8 9]]\n"
          ]
        }
      ]
    },
    {
      "cell_type": "markdown",
      "source": [
        "- 두 배열의 차원 수가 다를 경우, 더 작은 차원의 배열에 큰 차원의 배열이 맞을 때가지 1을 추가한다.\n",
        "\n",
        "- 두 배열의 차원 수가 같을 경우에도, 크기가 1인 차원이 있다면 다른 배열의 크기와 일치하도록 복제한다.\n",
        "\n",
        "- 두 배열의 차원 수가 같은 경우에도, 모든 차원의 크기가 같거나 크기가 1이라면 모양이 같은 두 배열의 요소 간 연산을 한다."
      ],
      "metadata": {
        "id": "dlnsjRH8KFSB"
      }
    },
    {
      "cell_type": "code",
      "source": [
        "z = np.array([[1,2,3]])\n",
        "print(z.shape)"
      ],
      "metadata": {
        "colab": {
          "base_uri": "https://localhost:8080/"
        },
        "id": "Vk3AN84XI9lk",
        "outputId": "b88d8fda-9258-48ae-920c-26cfed67c455"
      },
      "execution_count": null,
      "outputs": [
        {
          "output_type": "stream",
          "name": "stdout",
          "text": [
            "(1, 3)\n"
          ]
        }
      ]
    },
    {
      "cell_type": "code",
      "source": [],
      "metadata": {
        "id": "n_0z9LJDXiqi"
      },
      "execution_count": null,
      "outputs": []
    },
    {
      "cell_type": "markdown",
      "source": [
        "# 브로드 캐스팅\n",
        "\n",
        "- 두 배열의 차원의 크기가 같다. -> 그냥 계산\n",
        "- 두 배열의 차원이 다르고 한 배열의 차원이 1차원(벡터)\n",
        "- 차원을 늘렸을 때 계산이 가능한 경우"
      ],
      "metadata": {
        "id": "V4uCInQQA_fF"
      }
    },
    {
      "cell_type": "markdown",
      "source": [
        "### 난수 생성 함수\n",
        "\n",
        "**random**"
      ],
      "metadata": {
        "id": "6LHhaJoWBz5J"
      }
    },
    {
      "cell_type": "code",
      "execution_count": null,
      "metadata": {
        "id": "z-aXGxwE56p-"
      },
      "outputs": [],
      "source": [
        "import numpy as np"
      ]
    },
    {
      "cell_type": "code",
      "source": [
        "a = np.random.rand(2,2)  # rand -> 0 ~ 1 사이에 값 랜덤으로 (2,2) -> 2x2 행렬\n",
        "print(a)"
      ],
      "metadata": {
        "colab": {
          "base_uri": "https://localhost:8080/"
        },
        "id": "7QxJcQ_c8Oz2",
        "outputId": "84c8cd3a-5c23-4e67-eafa-a9632368616f"
      },
      "execution_count": null,
      "outputs": [
        {
          "output_type": "stream",
          "name": "stdout",
          "text": [
            "[[0.91688979 0.65645466]\n",
            " [0.7027827  0.98021002]]\n"
          ]
        }
      ]
    },
    {
      "cell_type": "code",
      "source": [
        "b = np.random.randn(2,2)  # 평균이 0, 분산이 1인 표준 정규 분포 생성\n",
        "print(b)"
      ],
      "metadata": {
        "colab": {
          "base_uri": "https://localhost:8080/"
        },
        "id": "ubgryBr18Owt",
        "outputId": "b375d964-1bf6-494e-cf52-ded30c285768"
      },
      "execution_count": null,
      "outputs": [
        {
          "output_type": "stream",
          "name": "stdout",
          "text": [
            "[[ 0.22640086 -1.4290325 ]\n",
            " [-0.6676767   0.64522448]]\n"
          ]
        }
      ]
    },
    {
      "cell_type": "code",
      "source": [
        "c = np.random.randint(0,10,size=5)  # (최소값, 최대값, size = 몇개 만들건지)\n",
        "print(c)"
      ],
      "metadata": {
        "colab": {
          "base_uri": "https://localhost:8080/"
        },
        "id": "6nGUh6nh8Ory",
        "outputId": "42e2d25d-fafb-4e8e-bc39-0de78b8dc4ce"
      },
      "execution_count": null,
      "outputs": [
        {
          "output_type": "stream",
          "name": "stdout",
          "text": [
            "[5 3 9 5 0]\n"
          ]
        }
      ]
    },
    {
      "cell_type": "code",
      "source": [
        "c2 = np.random.randint(0,10,size=(2,2))  # size=(2,2) 행렬로도 만들 수 있음\n",
        "print(c2)"
      ],
      "metadata": {
        "colab": {
          "base_uri": "https://localhost:8080/"
        },
        "id": "aCtAWvFI8OpY",
        "outputId": "ca2f49f4-f412-453b-87c8-4a91e0e5303d"
      },
      "execution_count": null,
      "outputs": [
        {
          "output_type": "stream",
          "name": "stdout",
          "text": [
            "[[0 4]\n",
            " [4 8]]\n"
          ]
        }
      ]
    },
    {
      "cell_type": "code",
      "source": [
        "d = np.arange(5)  # 0 ~ 5 까지 값을 생성\n",
        "d_shuffle = np.random.shuffle(d)  # d를 무작위로 섞음, 복사본 생성x 원본이 바뀜\n",
        "print(d)"
      ],
      "metadata": {
        "colab": {
          "base_uri": "https://localhost:8080/"
        },
        "id": "ql_Mju538Nrd",
        "outputId": "d760affd-20cc-4e34-9e1a-1e48fb3e54db"
      },
      "execution_count": null,
      "outputs": [
        {
          "output_type": "stream",
          "name": "stdout",
          "text": [
            "[0 4 3 1 2]\n"
          ]
        }
      ]
    },
    {
      "cell_type": "code",
      "source": [
        "# choice = np.random.choice(d,5)  # d에서 5개를 뽑음 / 중복 허용\n",
        "# choice = np.random.choice(d,5, replace=False)  # d에서 5개를 뽑음 / 중복 허용x\n",
        "\n",
        "choice = np.random.choice(d, 5, p=[0.1, 0.3, 0.2, 0.3, 0.1])  # p는 전체 확률이 1이 되어야함\n",
        "# d = [0,1,2,3,4]를 확률을 p=[0.1, 0.3, 0.2, 0.3, 0.1])에 맞게 뽑는 것\n",
        "\n",
        "print(choice)"
      ],
      "metadata": {
        "colab": {
          "base_uri": "https://localhost:8080/"
        },
        "id": "x-T5LeLX8NoW",
        "outputId": "95922557-1ca8-487f-a7bb-297089370ed1"
      },
      "execution_count": null,
      "outputs": [
        {
          "output_type": "stream",
          "name": "stdout",
          "text": [
            "[3 1 4 4 1]\n"
          ]
        }
      ]
    },
    {
      "cell_type": "code",
      "source": [
        "# prermutation 순열\n",
        "a = np.arange(10)\n",
        "a_p = np.random.permutation(a)\n",
        "print(a_p)\n",
        "print(a)"
      ],
      "metadata": {
        "colab": {
          "base_uri": "https://localhost:8080/"
        },
        "id": "JnlANpx-8Nm7",
        "outputId": "e3b81a7b-2b73-4ed2-dd15-a77ae27f48cd"
      },
      "execution_count": null,
      "outputs": [
        {
          "output_type": "stream",
          "name": "stdout",
          "text": [
            "[2 1 9 7 8 3 0 6 5 4]\n",
            "[0 1 2 3 4 5 6 7 8 9]\n"
          ]
        }
      ]
    },
    {
      "cell_type": "code",
      "source": [
        "# 정규분포를 따르는 난수 생성\n",
        "# a = np.random.normal('평균','표준편차','갯수')\n",
        "a = np.random.normal(0, 1, 3)\n",
        "print(a)"
      ],
      "metadata": {
        "colab": {
          "base_uri": "https://localhost:8080/"
        },
        "id": "bhd1Fm0W8NlA",
        "outputId": "8a705ee1-6248-4854-ac97-ccb55aacec72"
      },
      "execution_count": null,
      "outputs": [
        {
          "output_type": "stream",
          "name": "stdout",
          "text": [
            "[-1.04734279  1.07236809 -0.41573271]\n"
          ]
        }
      ]
    },
    {
      "cell_type": "code",
      "source": [
        "data = [1.1, 2, 3]\n",
        "\n",
        "a = np.float64(data)  # dtype변경 (np.데이터타입 을 이용한 방법) / \n",
        "b = np.array(data, dtype=np.float64)\n",
        "c = a.astype(np.float64)\n",
        "\n",
        "print(a)\n",
        "print(a.dtype)\n",
        "print(b)\n",
        "print(b.dtype)\n",
        "print(c)\n",
        "print(c.dtype)"
      ],
      "metadata": {
        "colab": {
          "base_uri": "https://localhost:8080/"
        },
        "id": "nVrPKMEs8Njn",
        "outputId": "17afd9ea-ad26-4f68-d199-1650cd56fdaf"
      },
      "execution_count": null,
      "outputs": [
        {
          "output_type": "stream",
          "name": "stdout",
          "text": [
            "[1.1 2.  3. ]\n",
            "float64\n",
            "[1.1 2.  3. ]\n",
            "float64\n",
            "[1.1 2.  3. ]\n",
            "float64\n"
          ]
        }
      ]
    },
    {
      "cell_type": "code",
      "source": [],
      "metadata": {
        "id": "y9YjxNqh8NPZ"
      },
      "execution_count": null,
      "outputs": []
    },
    {
      "cell_type": "markdown",
      "source": [
        "# 연습문제(Numpy)"
      ],
      "metadata": {
        "id": "MmCbc2BdRU5_"
      }
    },
    {
      "cell_type": "code",
      "source": [
        "import numpy as np"
      ],
      "metadata": {
        "id": "7RgWesETWN4P"
      },
      "execution_count": null,
      "outputs": []
    },
    {
      "cell_type": "code",
      "source": [
        "# 4.1 주어진 여러 개의 1차원 배열을 연결하여 하나의 큰 1차원 배열로 반환하세요.\n",
        "\n",
        "arr1 = np.array([1, 2, 3])\n",
        "arr2 = np.array([4, 5, 6])\n",
        "arr3 = np.array([7, 8, 9, 10])\n",
        "\n",
        "# concat 함수\n",
        "a = np.concatenate([arr1,arr2,arr3])\n",
        "print(a)\n",
        "print(a.shape)"
      ],
      "metadata": {
        "colab": {
          "base_uri": "https://localhost:8080/"
        },
        "id": "CRQNc7gdRXgu",
        "outputId": "798db105-12e5-411e-9c13-4d6c7788549d"
      },
      "execution_count": null,
      "outputs": [
        {
          "output_type": "stream",
          "name": "stdout",
          "text": [
            "[ 1  2  3  4  5  6  7  8  9 10]\n",
            "(10,)\n"
          ]
        }
      ]
    },
    {
      "cell_type": "code",
      "source": [
        "# 4.2 주어진 2차원 배열에서 각 열의 평균값을 계산하여 새로운 1차원 배열로 나타내세요.\n",
        "# mean() 함수 응용하기\n",
        "\n",
        "arr = np.array([[1, 2, 3],\n",
        "                [4, 5, 6],\n",
        "                [7, 8, 9]])\n",
        "c = []\n",
        "\n",
        "for i in range(len(arr[0])):\n",
        "  b = np.mean(arr[i])\n",
        "  c.append(b)\n",
        "  d = np.array(c)\n",
        "\n",
        "print(d)\n",
        "print(d.ndim)  # 차원 확인"
      ],
      "metadata": {
        "colab": {
          "base_uri": "https://localhost:8080/"
        },
        "id": "_5Khwl1XRZIR",
        "outputId": "760bef49-c8f0-4955-f52f-96c0bf8f88e0"
      },
      "execution_count": null,
      "outputs": [
        {
          "output_type": "stream",
          "name": "stdout",
          "text": [
            "[2. 5. 8.]\n",
            "1\n"
          ]
        }
      ]
    },
    {
      "cell_type": "code",
      "source": [
        "# 4.3 주어진 2차원 배열에서 각 행의 최대값을 구하여 1차원 배열로 반환하세요.\n",
        "# np.max()\n",
        "\n",
        "arr = np.array([[1, 2, 3],\n",
        "                [4, 5, 6],\n",
        "                [7, 8, 9]])\n",
        "\n",
        "arr_max1 = arr.max(1)\n",
        "print(arr_max1)\n",
        "\n",
        "# np.max(arr, axis=1)"
      ],
      "metadata": {
        "colab": {
          "base_uri": "https://localhost:8080/"
        },
        "id": "B3N-ppVARZFW",
        "outputId": "08421d5a-b778-411d-e08f-13e7f06a7e1f"
      },
      "execution_count": null,
      "outputs": [
        {
          "output_type": "execute_result",
          "data": {
            "text/plain": [
              "array([3, 6, 9])"
            ]
          },
          "metadata": {},
          "execution_count": 263
        }
      ]
    },
    {
      "cell_type": "code",
      "source": [
        "# 4.4 0에서 1사이의 값으로 크기 10개의 1차원 배열을 만들어주세요.\n",
        "# np.linspace(시작범위, 끝범위, num개수)\n",
        "\n",
        "x = np.linspace(0,1,10)\n",
        "print(x) "
      ],
      "metadata": {
        "colab": {
          "base_uri": "https://localhost:8080/"
        },
        "id": "uDSyReiRRZCq",
        "outputId": "d94aa6f5-5348-4b89-ad3a-34f4e0df650a"
      },
      "execution_count": null,
      "outputs": [
        {
          "output_type": "stream",
          "name": "stdout",
          "text": [
            "[0.         0.11111111 0.22222222 0.33333333 0.44444444 0.55555556\n",
            " 0.66666667 0.77777778 0.88888889 1.        ]\n"
          ]
        }
      ]
    },
    {
      "cell_type": "code",
      "source": [
        "# 4.5 주어진 1차원 배열에서 짝수인 요소들의 합을 계산하는 함수 sum_of_evens를 작성하세요.\n",
        "# def sum_of_evens(arr: np.ndarray) -> int:\n",
        "\n",
        "arr = np.array([1, 2, 3, 4, 5, 6, 7, 8, 9, 10])\n",
        "even = arr[arr % 2 == 0]\n",
        "es = np.sum(even)\n",
        "print(es)\n",
        "\n",
        "# def sum_of_evens(arr: np.ndarray) -> int:\n",
        "#     evens = arr[arr % 2 == 0]  # 짝수인 요소 선택\n",
        "#     return np.sum(evens)  # 짝수인 요소들의 합 반환"
      ],
      "metadata": {
        "colab": {
          "base_uri": "https://localhost:8080/"
        },
        "id": "LJ9VhWNfRY_n",
        "outputId": "03860e89-c481-402b-f700-c69c0e9e3c39"
      },
      "execution_count": null,
      "outputs": [
        {
          "output_type": "stream",
          "name": "stdout",
          "text": [
            "30\n"
          ]
        }
      ]
    },
    {
      "cell_type": "code",
      "source": [
        "# 4.6 수평분할, 수직분할, 수평 스택, 수직 스택 문제를 풀어봅시다.\n",
        "\n",
        "# 분할할 배열 생성\n",
        "arr = np.arange(1, 13).reshape((3, 4))\n",
        "print(arr)\n",
        "\n",
        "# 1. 수평분할하기 \n",
        "harrd = np.hsplit(arr,2)\n",
        "print(harrd)\n",
        "\n",
        "# 다시 원본으로 스택쌓기\n",
        "harrs = np.hstack(harrd)\n",
        "print(harrs)\n",
        "\n",
        "# arr_1 = arr_split[0]\n",
        "# arr_2 = arr_split[1]\n",
        "# arr_stack = np.hstack((arr_1, arr_2))\n",
        "# print(arr_stack)\n",
        "\n",
        "# 2. 수직분할하기 \n",
        "varrd = np.vsplit(arr,3)\n",
        "print(varrd)\n",
        "\n",
        "# 다시 원본으로 스택쌓기\n",
        "varrs = np.vstack(varrd)\n",
        "print(varrs)\n",
        "\n",
        "# arr_1 = arr_split[0]\n",
        "# arr_2 = arr_split[1]\n",
        "# arr_3 = arr_split[2]\n",
        "# arr_stack = np.vstack((arr_1, arr_2, arr_3))\n",
        "# print(arr_stack)"
      ],
      "metadata": {
        "id": "GS7ZCJEzRY8r"
      },
      "execution_count": null,
      "outputs": []
    },
    {
      "cell_type": "code",
      "source": [
        "# 4.7 배열에서 조건에 맞는 값 반환하는 문제를 풀어봅시다.\n",
        "# 조건 : 값을 10으로 나누었을 때 나머지가 0이면 원래 값 출력, 아니면 0으로 출력하세요.\n",
        "arr = np.arange(0, 100, 5).reshape((5,4))\n",
        "\n",
        "# a = arr[arr % 10 == 0]\n",
        "# print(a)\n",
        "\n",
        "a10 = np.where(arr % 10 == 0, arr, 0)\n",
        "print(a10)"
      ],
      "metadata": {
        "colab": {
          "base_uri": "https://localhost:8080/"
        },
        "id": "PSPmj4TbRY5s",
        "outputId": "da4776dc-06c3-4411-8436-f880838529aa"
      },
      "execution_count": null,
      "outputs": [
        {
          "output_type": "stream",
          "name": "stdout",
          "text": [
            "[[ 0  0 10  0]\n",
            " [20  0 30  0]\n",
            " [40  0 50  0]\n",
            " [60  0 70  0]\n",
            " [80  0 90  0]]\n"
          ]
        }
      ]
    },
    {
      "cell_type": "code",
      "source": [
        "# 4.8 [3x3]배열 lst 중 짝수만 뽑아내는 부울린 인덱싱 배열(numpy 배열)을 사용하여 짝수 배열 n 을 만드시오\n",
        "lst = [\n",
        "    [1, 2, 3],\n",
        "    [4, 5, 6],\n",
        "    [7, 8, 9]\n",
        "]\n",
        "a = np.array(lst)\n",
        "\n",
        "n = a[a % 2 == 0]\n",
        "print(n)"
      ],
      "metadata": {
        "colab": {
          "base_uri": "https://localhost:8080/"
        },
        "id": "et84E7EwRY25",
        "outputId": "5ec11777-4c83-4adc-f037-b52b1b0a8c3e"
      },
      "execution_count": null,
      "outputs": [
        {
          "output_type": "stream",
          "name": "stdout",
          "text": [
            "[2 4 6 8]\n"
          ]
        }
      ]
    },
    {
      "cell_type": "code",
      "source": [
        "\n",
        "bool_indexing_array = np.array([\n",
        "    [False,  True, False],\n",
        "    [True, False,  True],\n",
        "    [False,  True, False]\n",
        "])\n",
        "# 1-----------------------------------\n",
        "# n = a[bool_indexing_array];\n",
        "# print(n)    \n",
        "\n",
        "# 2-----------------------------------\n",
        "# bool_indexing = (a % 2 == 0)\n",
        "# print(bool_indexing)\n",
        "# print(a[bool_indexing])\n",
        "\n",
        "# 3-----------------------------------\n",
        "# n = a[ a % 2 == 0 ]\n",
        "# n"
      ],
      "metadata": {
        "colab": {
          "base_uri": "https://localhost:8080/"
        },
        "id": "x9idAIDbfD0K",
        "outputId": "6ce334dd-e2bd-4cd6-9e26-9f7753f09c3e"
      },
      "execution_count": null,
      "outputs": [
        {
          "output_type": "execute_result",
          "data": {
            "text/plain": [
              "array([2, 4, 6, 8])"
            ]
          },
          "metadata": {},
          "execution_count": 267
        }
      ]
    },
    {
      "cell_type": "code",
      "source": [
        "# 4.9 각도를 이용해서 삼각함수를 만들어봅시다.\n",
        "angle = np.pi / 3 # 라디안 표기 = 60도 \n",
        "# 360도는 2라디안 으로, 180도는 1라디안으로 표현합니다.\n",
        "\n",
        "# 사인 함수 계산\n",
        "sin_value = np.sin(angle)\n",
        "print(\"사인 값:\", sin_value)\n",
        "\n",
        "# 코사인 함수 계산\n",
        "cos_value = np.cos(angle)\n",
        "print(\"코사인 값:\", cos_value)\n",
        "\n",
        "# 탄젠트 함수 계산\n",
        "tan_value = np.tan(angle)\n",
        "print(\"탄젠트 값:\", tan_value)"
      ],
      "metadata": {
        "colab": {
          "base_uri": "https://localhost:8080/"
        },
        "id": "K0gbRc9gRYz3",
        "outputId": "41b9f69c-00aa-40e0-8256-8757d8ca1a0e"
      },
      "execution_count": null,
      "outputs": [
        {
          "output_type": "execute_result",
          "data": {
            "text/plain": [
              "62.831853071795855"
            ]
          },
          "metadata": {},
          "execution_count": 256
        }
      ]
    },
    {
      "cell_type": "code",
      "source": [
        "# 4.10 조건함수를 사용해서  짝수조건을 만족하는 요소의 값이 2배로 만드는 배열을 만드시오.\n",
        "arr = np.array([1, 2, 3, 4, 5])\n",
        "\n",
        "arre2 = np.where(arr % 2 == 0, arr, 0)\n",
        "anr = arre2 *2\n",
        "\n",
        "print(anr)\n",
        "\n",
        "# new_arr = np.where(arr % 2 == 0, arr * 2, arr)\n",
        "# print(\"조건을 만족하는 요소를 2배로:\", new_arr)"
      ],
      "metadata": {
        "colab": {
          "base_uri": "https://localhost:8080/"
        },
        "id": "qGqRp8haRYwP",
        "outputId": "83dedd83-6509-4a3c-afd6-5f6784a128b1"
      },
      "execution_count": null,
      "outputs": [
        {
          "output_type": "stream",
          "name": "stdout",
          "text": [
            "[0 4 0 8 0]\n"
          ]
        }
      ]
    },
    {
      "cell_type": "markdown",
      "source": [
        "# Pandas\n",
        "\n",
        "- 데이터 자체를 분석, 파악\n",
        "- 표\n",
        "- 데이터 다루는 데 초점\n",
        "- 정렬, 필터링, 그룹화, 집계"
      ],
      "metadata": {
        "id": "7r6wvmXdZC14"
      }
    },
    {
      "cell_type": "markdown",
      "source": [
        "- 데이터 로딩 및 저장\n",
        "- 데이터 인덱싱 및 슬라이싱\n",
        "- 결측치 처리\n",
        "- 데이터 변환\n",
        "- 데이터 집계 및 그룹화\n",
        "---\n",
        "- 시계열 데이터 처리\n",
        "- 데이터 시각화"
      ],
      "metadata": {
        "id": "aP6TkYPqZ9Xm"
      }
    },
    {
      "cell_type": "markdown",
      "source": [
        "## 1. Series(시리즈)\n",
        "\n",
        "- 인덱스를 지정할 수 있음"
      ],
      "metadata": {
        "id": "8EPYrbmmbgNt"
      }
    },
    {
      "cell_type": "code",
      "source": [
        "import pandas as pd"
      ],
      "metadata": {
        "id": "AzImSOTtZjSK"
      },
      "execution_count": 2,
      "outputs": []
    },
    {
      "cell_type": "code",
      "source": [
        "# Series를 만드는 방법 3가지 (리스트, 딕셔너리, 스칼라)"
      ],
      "metadata": {
        "id": "r-fdjONxf54o"
      },
      "execution_count": null,
      "outputs": []
    },
    {
      "cell_type": "code",
      "source": [
        "s = pd.Series([1,2,3,4])  # 리스트로 만들기 / Series -> 첫번째 열에 인덱스를 지정해줌 (번호맥여줌?)\n",
        "print(s)"
      ],
      "metadata": {
        "colab": {
          "base_uri": "https://localhost:8080/"
        },
        "id": "DPAycePPb9-k",
        "outputId": "599ef26d-b904-4340-db89-42bb88572e94"
      },
      "execution_count": null,
      "outputs": [
        {
          "output_type": "stream",
          "name": "stdout",
          "text": [
            "0    1\n",
            "1    2\n",
            "2    3\n",
            "3    4\n",
            "dtype: int64\n"
          ]
        }
      ]
    },
    {
      "cell_type": "code",
      "source": [
        "s2 = pd.Series({'a': 1, 'b': 2, 'c': 3, 'd': 4})  # 딕셔너리로 만들기\n",
        "print(s2)"
      ],
      "metadata": {
        "colab": {
          "base_uri": "https://localhost:8080/"
        },
        "id": "fO1VArAlces5",
        "outputId": "08a8a14e-cf6b-4530-d384-22c1346ffa85"
      },
      "execution_count": null,
      "outputs": [
        {
          "output_type": "stream",
          "name": "stdout",
          "text": [
            "a    1\n",
            "b    2\n",
            "c    3\n",
            "d    4\n",
            "dtype: int64\n"
          ]
        }
      ]
    },
    {
      "cell_type": "code",
      "source": [
        "s3 = pd.Series(5, index=[0,1,2])  # 스칼라(그냥 숫자값)로 만들기\n",
        "print(s3)"
      ],
      "metadata": {
        "colab": {
          "base_uri": "https://localhost:8080/"
        },
        "id": "Hlg0p-bjcz08",
        "outputId": "5b9f9a1e-7481-49c7-cdeb-c8053c13ee2d"
      },
      "execution_count": null,
      "outputs": [
        {
          "output_type": "stream",
          "name": "stdout",
          "text": [
            "0    5\n",
            "1    5\n",
            "2    5\n",
            "dtype: int64\n"
          ]
        }
      ]
    },
    {
      "cell_type": "code",
      "source": [
        "s3 = pd.Series(5, index=range(1,10))  # index를 이런식으로 정해줄 수 있다.\n",
        "print(s3)"
      ],
      "metadata": {
        "id": "9L3uZTocb9wp"
      },
      "execution_count": null,
      "outputs": []
    },
    {
      "cell_type": "code",
      "source": [
        "data = [1, 2, 3, 4, 5]\n",
        "index = ['a', 'b', 'c', 'd', 'e']\n",
        "series = pd.Series(data, index=index)\n",
        "print(series)\n"
      ],
      "metadata": {
        "colab": {
          "base_uri": "https://localhost:8080/"
        },
        "id": "Wwl8O5X0dPYB",
        "outputId": "25fe0c6a-0615-4d28-fb67-c35f0a601a8d"
      },
      "execution_count": null,
      "outputs": [
        {
          "output_type": "stream",
          "name": "stdout",
          "text": [
            "a    1\n",
            "b    2\n",
            "c    3\n",
            "d    4\n",
            "e    5\n",
            "dtype: int64\n"
          ]
        }
      ]
    },
    {
      "cell_type": "code",
      "source": [
        "# 자동으로 인덱싱 된 것을 다시 바꾸기?\n",
        "s = pd.Series(data)\n",
        "print(s)"
      ],
      "metadata": {
        "colab": {
          "base_uri": "https://localhost:8080/"
        },
        "id": "uHqhh2HYdPVp",
        "outputId": "a3f07513-7f0e-453d-a5b9-6f07b8267bd9"
      },
      "execution_count": null,
      "outputs": [
        {
          "output_type": "stream",
          "name": "stdout",
          "text": [
            "0    1\n",
            "1    2\n",
            "2    3\n",
            "3    4\n",
            "4    5\n",
            "dtype: int64\n"
          ]
        }
      ]
    },
    {
      "cell_type": "code",
      "source": [
        "data = [1, 2, 3, 4, 5]\n",
        "index = ['a', 'b', 'c', 'd', 'e']\n",
        "series = pd.Series(data, index=index)\n",
        "print(series)"
      ],
      "metadata": {
        "colab": {
          "base_uri": "https://localhost:8080/"
        },
        "id": "saHIWVysdPTR",
        "outputId": "980ab3e8-8fb8-4284-f4f0-6b7cb0795890"
      },
      "execution_count": null,
      "outputs": [
        {
          "output_type": "stream",
          "name": "stdout",
          "text": [
            "a    1\n",
            "b    2\n",
            "c    3\n",
            "d    4\n",
            "e    5\n",
            "dtype: int64\n"
          ]
        }
      ]
    },
    {
      "cell_type": "markdown",
      "source": [
        "## 슬라이싱\n",
        "- 원본을 바꾸지 않음"
      ],
      "metadata": {
        "id": "B6UVXQQfzewh"
      }
    },
    {
      "cell_type": "code",
      "source": [
        "data = [1, 2, 3, 4, 5]\n",
        "series = pd.Series(data)\n",
        "print(series)"
      ],
      "metadata": {
        "id": "y6rpdJHDdPQe",
        "colab": {
          "base_uri": "https://localhost:8080/"
        },
        "outputId": "7e815dac-2e39-4636-8238-744cc6bd259b"
      },
      "execution_count": 3,
      "outputs": [
        {
          "output_type": "stream",
          "name": "stdout",
          "text": [
            "0    1\n",
            "1    2\n",
            "2    3\n",
            "3    4\n",
            "4    5\n",
            "dtype: int64\n"
          ]
        }
      ]
    },
    {
      "cell_type": "code",
      "source": [
        "series[:-1]"
      ],
      "metadata": {
        "colab": {
          "base_uri": "https://localhost:8080/"
        },
        "id": "o6P41wGLzuy4",
        "outputId": "4e4caab2-1c06-4e45-f917-4fe40b56e494"
      },
      "execution_count": 17,
      "outputs": [
        {
          "output_type": "execute_result",
          "data": {
            "text/plain": [
              "0    1\n",
              "1    2\n",
              "2    3\n",
              "3    4\n",
              "dtype: int64"
            ]
          },
          "metadata": {},
          "execution_count": 17
        }
      ]
    },
    {
      "cell_type": "markdown",
      "source": [
        "### Boolean indexing"
      ],
      "metadata": {
        "id": "jRXmv5nC1jZJ"
      }
    },
    {
      "cell_type": "code",
      "source": [
        "data = [1, 2, 3, 4, 5]\n",
        "series = pd.Series(data)\n",
        "\n",
        "print(series[series > 2])  # a[a조건]"
      ],
      "metadata": {
        "colab": {
          "base_uri": "https://localhost:8080/"
        },
        "id": "fQFCW1fKzuvf",
        "outputId": "af831178-5b7f-48b8-8110-decf397531c9"
      },
      "execution_count": 22,
      "outputs": [
        {
          "output_type": "stream",
          "name": "stdout",
          "text": [
            "2    3\n",
            "3    4\n",
            "4    5\n",
            "dtype: int64\n"
          ]
        }
      ]
    },
    {
      "cell_type": "code",
      "source": [
        "# 5보다 작은 시리즈 만들기\n",
        "data = [1, 2, 3, 4, 5]\n",
        "series = pd.Series(data)\n",
        "\n",
        "print(series[series < 5])"
      ],
      "metadata": {
        "colab": {
          "base_uri": "https://localhost:8080/"
        },
        "id": "fKLp9Pmszuqb",
        "outputId": "1c22794b-3ccd-4314-ac8f-9ec86b9aca6d"
      },
      "execution_count": 23,
      "outputs": [
        {
          "output_type": "stream",
          "name": "stdout",
          "text": [
            "0    1\n",
            "1    2\n",
            "2    3\n",
            "3    4\n",
            "dtype: int64\n"
          ]
        }
      ]
    },
    {
      "cell_type": "markdown",
      "source": [
        "### Series 산술연산"
      ],
      "metadata": {
        "id": "LJh0J1713UWi"
      }
    },
    {
      "cell_type": "code",
      "source": [
        "print(series +100)\n",
        "print(series -100)\n",
        "print(series *100)\n",
        "print(series **100)\n",
        "print(series /100)   # 몫 float형 소수점o\n",
        "print(series //100)  # 몫 int형 소수점x\n",
        "print(series %100)\n",
        "# 곱하기 * / 제곱 ** / 나누기 /, // / 나머지 %"
      ],
      "metadata": {
        "id": "Y2kFhzUMzuma"
      },
      "execution_count": null,
      "outputs": []
    },
    {
      "cell_type": "markdown",
      "source": [
        "## Series 객체에 접근\n",
        "- keys  -> index\n",
        "- values\n",
        "\n",
        "index를 부를 때 keys는 index를 가르키기 때문에 keys와\n",
        "index를 통해 불러올 수 있다.?"
      ],
      "metadata": {
        "id": "7du7pNMc55wQ"
      }
    },
    {
      "cell_type": "code",
      "source": [
        "print(series.keys)\n",
        "'''\n",
        "<bound method Series.keys of \n",
        "0    1\n",
        "1    2\n",
        "2    3\n",
        "3    4\n",
        "4    5\n",
        "dtype: int64>\n",
        "'''\n",
        "print(series.values)"
      ],
      "metadata": {
        "id": "XWkMTSVJ6grF"
      },
      "execution_count": null,
      "outputs": []
    },
    {
      "cell_type": "code",
      "source": [
        "print(series.keys())\n",
        "print(series.index)\n",
        "print(series.values)"
      ],
      "metadata": {
        "colab": {
          "base_uri": "https://localhost:8080/"
        },
        "id": "Fg3wvloJ-8wP",
        "outputId": "4f671fe2-369a-46a5-b833-e475e0fcd3f3"
      },
      "execution_count": 31,
      "outputs": [
        {
          "output_type": "stream",
          "name": "stdout",
          "text": [
            "RangeIndex(start=0, stop=5, step=1)\n",
            "RangeIndex(start=0, stop=5, step=1)\n",
            "[1 2 3 4 5]\n"
          ]
        }
      ]
    },
    {
      "cell_type": "code",
      "source": [
        "s2 = pd.Series({'a': 1, 'b': 2, 'c': 3, 'd': 4})  # 딕셔너리로 만들기\n",
        "print(s2.keys())"
      ],
      "metadata": {
        "colab": {
          "base_uri": "https://localhost:8080/"
        },
        "id": "ipyUKWHh6TDB",
        "outputId": "4a21280e-6d0b-4e0a-bd8b-d266cfc0db25"
      },
      "execution_count": 27,
      "outputs": [
        {
          "output_type": "stream",
          "name": "stdout",
          "text": [
            "<bound method Series.keys of a    1\n",
            "b    2\n",
            "c    3\n",
            "d    4\n",
            "dtype: int64>\n"
          ]
        }
      ]
    },
    {
      "cell_type": "code",
      "source": [
        "s2.index"
      ],
      "metadata": {
        "colab": {
          "base_uri": "https://localhost:8080/"
        },
        "id": "4BkmYUAe6yfU",
        "outputId": "dd25300f-774c-4597-e4a4-7d1a0d01571e"
      },
      "execution_count": 29,
      "outputs": [
        {
          "output_type": "execute_result",
          "data": {
            "text/plain": [
              "Index(['a', 'b', 'c', 'd'], dtype='object')"
            ]
          },
          "metadata": {},
          "execution_count": 29
        }
      ]
    },
    {
      "cell_type": "code",
      "source": [
        "# items\n",
        "print(s2.items())\n",
        "\n",
        "# zip - 순회가능하고 쌍으로 이루어진 경우"
      ],
      "metadata": {
        "colab": {
          "base_uri": "https://localhost:8080/"
        },
        "id": "6xZB4r8j6ybj",
        "outputId": "b9c81105-2dc1-4aa9-f856-fe7fcd305bbe"
      },
      "execution_count": 32,
      "outputs": [
        {
          "output_type": "stream",
          "name": "stdout",
          "text": [
            "<zip object at 0x7f773cda0ec0>\n"
          ]
        }
      ]
    },
    {
      "cell_type": "code",
      "source": [
        "for index, value in s2.items():\n",
        "  print(f'인덱스: {index}, 데이터: {value}')"
      ],
      "metadata": {
        "colab": {
          "base_uri": "https://localhost:8080/"
        },
        "id": "ocb75boW6yYL",
        "outputId": "577aa648-08f3-4bc2-a8d6-609f7f53bfd9"
      },
      "execution_count": 35,
      "outputs": [
        {
          "output_type": "stream",
          "name": "stdout",
          "text": [
            "인덱스: a, 데이터: 1\n",
            "인덱스: b, 데이터: 2\n",
            "인덱스: c, 데이터: 3\n",
            "인덱스: d, 데이터: 4\n"
          ]
        }
      ]
    },
    {
      "cell_type": "code",
      "source": [
        "s = pd.Series([10, 20, 30, 40], index = ['a', 'b', 'c', 'd'])\n",
        "print(s)"
      ],
      "metadata": {
        "colab": {
          "base_uri": "https://localhost:8080/"
        },
        "id": "gfVjULd-6yUz",
        "outputId": "1225af92-04fa-4bbc-d4c9-1475e0bf2974"
      },
      "execution_count": 38,
      "outputs": [
        {
          "output_type": "stream",
          "name": "stdout",
          "text": [
            "a    10\n",
            "b    20\n",
            "c    30\n",
            "d    40\n",
            "dtype: int64\n"
          ]
        }
      ]
    },
    {
      "cell_type": "code",
      "source": [
        "# loc -> 행에 접근 / 레이블로 불러오기 때문에 레이블을 입력해야함(b 인덱스 -> 'b')\n",
        "print(s.loc['b'])  # 'b' 하나만 지정해줬기 때문에 b행의 값만 알려줌\n",
        "print(s.loc['b':'d']) # 'b':'d' 로 지정해줘서 특정할 수 없기 때문에 다 알려줌?"
      ],
      "metadata": {
        "colab": {
          "base_uri": "https://localhost:8080/"
        },
        "id": "cunTI7W26yRm",
        "outputId": "97d499e3-0a9f-4331-ab93-2d7148cb9bfd"
      },
      "execution_count": 42,
      "outputs": [
        {
          "output_type": "stream",
          "name": "stdout",
          "text": [
            "20\n",
            "b    20\n",
            "c    30\n",
            "d    40\n",
            "dtype: int64\n"
          ]
        }
      ]
    },
    {
      "cell_type": "code",
      "source": [
        "# iloc -> (행에 기반한) 열에 접근  value 값을 출력?\n",
        "print(s.iloc[1])  \n",
        "print(s.iloc[1:3])\n",
        "# a    10\n",
        "# b    20 \n",
        "# c    30\n",
        "# d    40"
      ],
      "metadata": {
        "colab": {
          "base_uri": "https://localhost:8080/"
        },
        "id": "mu2oDjnX6yOE",
        "outputId": "67b402d6-5d31-4090-a802-3dd5b28f79e7"
      },
      "execution_count": 43,
      "outputs": [
        {
          "output_type": "stream",
          "name": "stdout",
          "text": [
            "20\n"
          ]
        }
      ]
    },
    {
      "cell_type": "code",
      "source": [
        "# at -> index값을 지정하여 불러올 때? loc와 비슷하지만 하나의 값만 가져올 때\n",
        "print(s.at['a'])"
      ],
      "metadata": {
        "colab": {
          "base_uri": "https://localhost:8080/"
        },
        "id": "Mrskibvm6yHo",
        "outputId": "f6b47bf9-5e57-4aab-9ab1-bad468c5c7fa"
      },
      "execution_count": 46,
      "outputs": [
        {
          "output_type": "stream",
          "name": "stdout",
          "text": [
            "10\n"
          ]
        }
      ]
    },
    {
      "cell_type": "code",
      "source": [
        "# iat 에 기반\n",
        "print(s.iat[0])"
      ],
      "metadata": {
        "colab": {
          "base_uri": "https://localhost:8080/"
        },
        "id": "xw5FDH_ZDtQF",
        "outputId": "dfd2feb6-7da2-4f3f-aff8-9200e9300423"
      },
      "execution_count": 47,
      "outputs": [
        {
          "output_type": "stream",
          "name": "stdout",
          "text": [
            "20\n"
          ]
        }
      ]
    },
    {
      "cell_type": "code",
      "source": [
        "# get 없는 값에 대한 처리 방법 \n",
        "# at에 없는 값을 넣으면 error가 나지만 get은 error가 아니라 없다는 것을 알려줌\n",
        "print(s.get('e', default = -1))  # default = 없는값을 표현할 숫자"
      ],
      "metadata": {
        "colab": {
          "base_uri": "https://localhost:8080/"
        },
        "id": "AsCnDuTIDySw",
        "outputId": "d396f0ff-a6dd-4c97-e54e-74a8b6171884"
      },
      "execution_count": 51,
      "outputs": [
        {
          "output_type": "stream",
          "name": "stdout",
          "text": [
            "-1\n"
          ]
        }
      ]
    },
    {
      "cell_type": "markdown",
      "source": [
        "## 결측값 (NaN, None)\n",
        "- isna()\n",
        "- isnull()\n",
        "\n",
        "- NaN(Not a number) -> 데이터타입: float \n",
        "- None -> 데이터타입: none"
      ],
      "metadata": {
        "id": "GvPAC718PyK7"
      }
    },
    {
      "cell_type": "code",
      "source": [
        "import numpy as np\n",
        "import pandas as pd"
      ],
      "metadata": {
        "id": "Hq12Hru9RO-V"
      },
      "execution_count": null,
      "outputs": []
    },
    {
      "cell_type": "code",
      "source": [
        "data = [1, 2, 3, None]\n",
        "print(np.array(data))  # np -> None을 None으로 인식"
      ],
      "metadata": {
        "colab": {
          "base_uri": "https://localhost:8080/"
        },
        "id": "vz0KeJ_9EFLH",
        "outputId": "0b9074fa-d797-4422-dbcb-2b036f4d8172"
      },
      "execution_count": 53,
      "outputs": [
        {
          "output_type": "stream",
          "name": "stdout",
          "text": [
            "[1 2 3 None]\n"
          ]
        }
      ]
    },
    {
      "cell_type": "code",
      "source": [
        "print(pd.Series(data))  # pd -> None을 NaN으로 인식 / NaN은 float형이라 error를 줄일 수 있다?"
      ],
      "metadata": {
        "colab": {
          "base_uri": "https://localhost:8080/"
        },
        "id": "heV_OII8DyQF",
        "outputId": "15587d9f-c0d8-4e47-d7ae-b09c0483c1d3"
      },
      "execution_count": 54,
      "outputs": [
        {
          "output_type": "stream",
          "name": "stdout",
          "text": [
            "0    1.0\n",
            "1    2.0\n",
            "2    3.0\n",
            "3    NaN\n",
            "dtype: float64\n"
          ]
        }
      ]
    },
    {
      "cell_type": "code",
      "source": [
        "s = pd.Series(data)  # isna(), isnull()\n",
        "print(s.isna())\n",
        "print(s.isnull().sum())  # .sum() -> True값을 더해줌 (빈값의 개수를 알 수 있음)"
      ],
      "metadata": {
        "colab": {
          "base_uri": "https://localhost:8080/"
        },
        "id": "hZYNZ0L9DyMv",
        "outputId": "42d64be8-a16e-4b8a-95d6-60dcc7d087cb"
      },
      "execution_count": 69,
      "outputs": [
        {
          "output_type": "stream",
          "name": "stdout",
          "text": [
            "0    False\n",
            "1    False\n",
            "2    False\n",
            "3     True\n",
            "dtype: bool\n",
            "1\n",
            "[1. 0. 0. 0.]\n"
          ]
        }
      ]
    },
    {
      "cell_type": "code",
      "source": [
        "print(s.notnull().sum()) # null값이 아닌 값의 수"
      ],
      "metadata": {
        "colab": {
          "base_uri": "https://localhost:8080/"
        },
        "id": "Em3U-biNDyKB",
        "outputId": "81c63593-26f9-41be-e494-ad1be06bac53"
      },
      "execution_count": 70,
      "outputs": [
        {
          "output_type": "stream",
          "name": "stdout",
          "text": [
            "3\n"
          ]
        }
      ]
    },
    {
      "cell_type": "markdown",
      "source": [
        "결측치를 제거"
      ],
      "metadata": {
        "id": "ihDr0f7-UNcC"
      }
    },
    {
      "cell_type": "code",
      "source": [
        "s.dropna()  # NaN값을 날려줌?"
      ],
      "metadata": {
        "colab": {
          "base_uri": "https://localhost:8080/"
        },
        "id": "pGSdZZpkDyDW",
        "outputId": "7a0bffdc-85c7-43b7-b97d-9cbfaceafc40"
      },
      "execution_count": 72,
      "outputs": [
        {
          "output_type": "execute_result",
          "data": {
            "text/plain": [
              "0    1.0\n",
              "1    2.0\n",
              "2    3.0\n",
              "dtype: float64"
            ]
          },
          "metadata": {},
          "execution_count": 72
        }
      ]
    },
    {
      "cell_type": "markdown",
      "source": [
        "결측치를 0으로 치환"
      ],
      "metadata": {
        "id": "styiJ2rxUcGj"
      }
    },
    {
      "cell_type": "code",
      "source": [
        "s.fillna(0)  # 빈값을 0으로 채워줌"
      ],
      "metadata": {
        "colab": {
          "base_uri": "https://localhost:8080/"
        },
        "id": "cMJqslOnUQAe",
        "outputId": "8dfd5037-7d20-43b0-eb6f-7fb978b7e6d7"
      },
      "execution_count": 73,
      "outputs": [
        {
          "output_type": "execute_result",
          "data": {
            "text/plain": [
              "0    1.0\n",
              "1    2.0\n",
              "2    3.0\n",
              "3    0.0\n",
              "dtype: float64"
            ]
          },
          "metadata": {},
          "execution_count": 73
        }
      ]
    },
    {
      "cell_type": "markdown",
      "source": [
        "## Series 함수"
      ],
      "metadata": {
        "id": "C0oCVcjeVqT3"
      }
    },
    {
      "cell_type": "code",
      "source": [
        "s = pd.Series([1, 3, 5, 7, 9])"
      ],
      "metadata": {
        "id": "Lfki8WP9UP9L"
      },
      "execution_count": 74,
      "outputs": []
    },
    {
      "cell_type": "code",
      "source": [
        "s.count()  # 원소의 수"
      ],
      "metadata": {
        "colab": {
          "base_uri": "https://localhost:8080/"
        },
        "id": "RMtJUrPHUP7B",
        "outputId": "849927f8-e8f9-479c-f8d3-005fff2e73dd"
      },
      "execution_count": 75,
      "outputs": [
        {
          "output_type": "execute_result",
          "data": {
            "text/plain": [
              "5"
            ]
          },
          "metadata": {},
          "execution_count": 75
        }
      ]
    },
    {
      "cell_type": "code",
      "source": [
        "s.min()  # 최소값\n",
        "s.max()  # 최대값"
      ],
      "metadata": {
        "id": "hc06wHGFUP4B"
      },
      "execution_count": null,
      "outputs": []
    },
    {
      "cell_type": "code",
      "source": [
        "print(s.mean())\n",
        "print(s.median())\n",
        "print(s.std())\n",
        "print(s.var())"
      ],
      "metadata": {
        "colab": {
          "base_uri": "https://localhost:8080/"
        },
        "id": "9QhA3ljpUP1K",
        "outputId": "59c84a74-302c-45c3-f9c0-0cf58c81b5b0"
      },
      "execution_count": 76,
      "outputs": [
        {
          "output_type": "stream",
          "name": "stdout",
          "text": [
            "5.0\n",
            "5.0\n",
            "3.1622776601683795\n",
            "10.0\n"
          ]
        }
      ]
    },
    {
      "cell_type": "code",
      "source": [
        "s.describe()  # 기초통계 내용"
      ],
      "metadata": {
        "colab": {
          "base_uri": "https://localhost:8080/"
        },
        "id": "CaiWK_9CWv6Z",
        "outputId": "c7f6773c-a9c3-4461-f44e-0d9437e8abcc"
      },
      "execution_count": 77,
      "outputs": [
        {
          "output_type": "execute_result",
          "data": {
            "text/plain": [
              "count    5.000000\n",
              "mean     5.000000\n",
              "std      3.162278\n",
              "min      1.000000\n",
              "25%      3.000000\n",
              "50%      5.000000\n",
              "75%      7.000000\n",
              "max      9.000000\n",
              "dtype: float64"
            ]
          },
          "metadata": {},
          "execution_count": 77
        }
      ]
    },
    {
      "cell_type": "markdown",
      "source": [
        "# 연습문제(Numpy, Pandas)"
      ],
      "metadata": {
        "id": "Xdk8OZwscQwB"
      }
    },
    {
      "cell_type": "markdown",
      "source": [
        "## 배열"
      ],
      "metadata": {
        "id": "hBM7BUyqcrX0"
      }
    },
    {
      "cell_type": "code",
      "source": [
        "import numpy as np"
      ],
      "metadata": {
        "id": "goSI2x7oeI6j"
      },
      "execution_count": null,
      "outputs": []
    },
    {
      "cell_type": "code",
      "source": [
        "# 1. 사이즈 10의 Null(0) 1차원 배열을 만들어 보세요.\n",
        "# array([0., 0., 0., 0., 0., 0., 0., 0., 0., 0.])\n",
        "\n",
        "a = np.array([0, 0, 0, 0, 0, 0, 0, 0, 0, 0])\n",
        "print(a)\n",
        "\n",
        "# a = np.zeros(10)\n",
        "# print(a)"
      ],
      "metadata": {
        "colab": {
          "base_uri": "https://localhost:8080/"
        },
        "id": "tGuh6IOIcTz4",
        "outputId": "2be33f03-8039-440c-edf2-8e71a2efef19"
      },
      "execution_count": 108,
      "outputs": [
        {
          "output_type": "stream",
          "name": "stdout",
          "text": [
            "[0 0 0 0 0 0 0 0 0 0]\n"
          ]
        }
      ]
    },
    {
      "cell_type": "code",
      "source": [
        "# 2. 값이 10 ~ 49 인 1차원 배열을 만들어주세요.\n",
        "\n",
        "b = np.array([range(10,50)])\n",
        "print(b)\n",
        "\n",
        "# b = np.arange(10,50)\n",
        "# print(b)"
      ],
      "metadata": {
        "colab": {
          "base_uri": "https://localhost:8080/"
        },
        "id": "7OL6nxq7gcpC",
        "outputId": "e956050a-2c8d-4b61-c050-eddcc468b50c"
      },
      "execution_count": 110,
      "outputs": [
        {
          "output_type": "stream",
          "name": "stdout",
          "text": [
            "[[10 11 12 13 14 15 16 17 18 19 20 21 22 23 24 25 26 27 28 29 30 31 32 33\n",
            "  34 35 36 37 38 39 40 41 42 43 44 45 46 47 48 49]]\n"
          ]
        }
      ]
    },
    {
      "cell_type": "code",
      "source": [
        "# 3. 0~8 까지의 값을 사용하여 3x3 배열을 만드시오\n",
        "\n",
        "c = np.array([[0, 1, 2], [3, 4, 5], [6, 7, 8]])\n",
        "print(c)\n",
        "\n",
        "# c = np.aragne(9).reshape(3,3)\n",
        "# print(c)"
      ],
      "metadata": {
        "colab": {
          "base_uri": "https://localhost:8080/"
        },
        "id": "3ufanioIgrHF",
        "outputId": "a7d8f334-476e-479d-c12a-32f7daee9696"
      },
      "execution_count": 111,
      "outputs": [
        {
          "output_type": "stream",
          "name": "stdout",
          "text": [
            "[[0 1 2]\n",
            " [3 4 5]\n",
            " [6 7 8]]\n"
          ]
        }
      ]
    },
    {
      "cell_type": "code",
      "source": [
        "# 3.1 (응용) 5x5 배열을 만들어서 경계값만 1이고, 내부에 있는 값은 0 인 2차원 배열을 만들어 보세요\n",
        "\n",
        "a = np.ones((5,5))\n",
        "a[1:4, 1:4] = 0   # a[1:-1, 1:-1]도 똑같음\n",
        "a"
      ],
      "metadata": {
        "colab": {
          "base_uri": "https://localhost:8080/"
        },
        "id": "3Kie6aSwhH-A",
        "outputId": "2173a073-7308-49b8-bd62-f7f7da97419a"
      },
      "execution_count": 150,
      "outputs": [
        {
          "output_type": "execute_result",
          "data": {
            "text/plain": [
              "array([[1., 1., 1., 1., 1.],\n",
              "       [1., 0., 0., 0., 1.],\n",
              "       [1., 0., 0., 0., 1.],\n",
              "       [1., 0., 0., 0., 1.],\n",
              "       [1., 1., 1., 1., 1.]])"
            ]
          },
          "metadata": {},
          "execution_count": 150
        }
      ]
    },
    {
      "cell_type": "markdown",
      "source": [
        "## 랜덤"
      ],
      "metadata": {
        "id": "iX2IuRXRhRHQ"
      }
    },
    {
      "cell_type": "code",
      "source": [
        "# 4. 랜덤 값이 있는 3x3x3 array 만들기\n",
        "\n",
        "d = np.random.rand(3,3,3)  # rand -> 0 ~ 1 사이에 값 랜덤으로 (2,2) -> 2x2 행렬\n",
        "print(d)"
      ],
      "metadata": {
        "colab": {
          "base_uri": "https://localhost:8080/"
        },
        "id": "q8J5Xi61hQlH",
        "outputId": "ebfe5f3c-9098-495f-c5b6-3dc2c04be5d7"
      },
      "execution_count": 114,
      "outputs": [
        {
          "output_type": "stream",
          "name": "stdout",
          "text": [
            "[[[0.90001763 0.02438267 0.72082244]\n",
            "  [0.7557748  0.56870761 0.38909019]\n",
            "  [0.97322714 0.27317825 0.38603036]]\n",
            "\n",
            " [[0.85398424 0.62555929 0.34064582]\n",
            "  [0.65929909 0.2386483  0.3877239 ]\n",
            "  [0.39103792 0.24678124 0.33020122]]\n",
            "\n",
            " [[0.45590008 0.03227649 0.40644525]\n",
            "  [0.86993294 0.02611757 0.56312563]\n",
            "  [0.45981775 0.99740315 0.37237757]]]\n"
          ]
        }
      ]
    },
    {
      "cell_type": "code",
      "source": [
        "# 5. 랜덤 값이 있는 10x10 배열을 만들고 최소값과 최대값을 찾아주세요\n",
        "\n",
        "e = np.random.rand(10,10)\n",
        "print(e.min())\n",
        "print(e.max())\n",
        "\n",
        "# e_min, e_max = e.min(), e.max()\n",
        "# print(e_min, e_max)  도 가능"
      ],
      "metadata": {
        "colab": {
          "base_uri": "https://localhost:8080/"
        },
        "id": "4DO5AQo4iSHQ",
        "outputId": "e04fc5a4-cce2-4225-8b28-4aa49d474bce"
      },
      "execution_count": 116,
      "outputs": [
        {
          "output_type": "stream",
          "name": "stdout",
          "text": [
            "0.00029493457838725146\n",
            "0.998504554979336\n"
          ]
        }
      ]
    },
    {
      "cell_type": "code",
      "source": [
        "# 6. 30 크기의 랜덤 값을 가지는 1차원 배열을 만들어서 평균값을 도출해주세요\n",
        "\n",
        "f = np.random.rand(30)\n",
        "print(f)\n",
        "print(f.mean())"
      ],
      "metadata": {
        "colab": {
          "base_uri": "https://localhost:8080/"
        },
        "id": "2j6kUYHKimj6",
        "outputId": "1e1961f0-a8e8-4ae5-f4a4-d2a40cda0602"
      },
      "execution_count": 119,
      "outputs": [
        {
          "output_type": "stream",
          "name": "stdout",
          "text": [
            "[0.28329844 0.02499058 0.53144486 0.9237096  0.75737625 0.83615449\n",
            " 0.72224209 0.43659455 0.17537431 0.27864148 0.58988766 0.00144369\n",
            " 0.84237822 0.64407659 0.22412157 0.96387127 0.81792402 0.35477284\n",
            " 0.58988198 0.91114951 0.13132916 0.48363252 0.03709949 0.0158652\n",
            " 0.54756808 0.53025638 0.15269432 0.96069173 0.28656035]\n",
            "0.4846562484046764\n"
          ]
        }
      ]
    },
    {
      "cell_type": "markdown",
      "source": [
        "## 행렬"
      ],
      "metadata": {
        "id": "ij_-Ual1i0gB"
      }
    },
    {
      "cell_type": "code",
      "source": [
        "# 7. 1로 채워진 5x3 행렬과 3x2 행렬의 곱을 구해봅시다.\n",
        "\n",
        "a = np.ones([5,3])\n",
        "b = np.ones([3,2])\n",
        "\n",
        "print(a@b)  # 왜 *이 아니라 @지\n",
        "# print(np.dot(a,b))  # np.dot(행렬1, 행렬2)  / 행렬끼리 곱할 때"
      ],
      "metadata": {
        "colab": {
          "base_uri": "https://localhost:8080/"
        },
        "id": "D8j4A70Tizz3",
        "outputId": "d6df76f7-e53f-4e55-8bbe-64736c23442e"
      },
      "execution_count": 166,
      "outputs": [
        {
          "output_type": "stream",
          "name": "stdout",
          "text": [
            "[[3. 3.]\n",
            " [3. 3.]\n",
            " [3. 3.]\n",
            " [3. 3.]\n",
            " [3. 3.]]\n"
          ]
        }
      ]
    },
    {
      "cell_type": "code",
      "source": [
        "# 7.1 (응용) 행렬의 연산을 하고 제로행렬 C 에 에 값을 덮어씌워주세요.\n",
        "# np.add() 함수의 매개변수를 응용합니다. \n",
        "\n",
        "A = np.array([1, 2, 3])\n",
        "B = np.array([4, 5, 6])\n",
        "C = np.zeros(3)\n",
        "\n",
        "np.add(A, B, out=C)\n",
        "\n",
        "print(C)"
      ],
      "metadata": {
        "colab": {
          "base_uri": "https://localhost:8080/"
        },
        "id": "CmaLNQqNkNuP",
        "outputId": "f3919926-2be6-4d04-ae65-50cb9970d3a1"
      },
      "execution_count": 152,
      "outputs": [
        {
          "output_type": "stream",
          "name": "stdout",
          "text": [
            "[5. 7. 9.]\n"
          ]
        }
      ]
    },
    {
      "cell_type": "code",
      "source": [
        "# 7.2 (응용) A 배열의 모든 요소의 부호를 반전시켜서 C에 값을 덮어씌워주세요.\n",
        "# np.negative()\n",
        "\n",
        "np.negative(A, out=C)\n",
        "C"
      ],
      "metadata": {
        "colab": {
          "base_uri": "https://localhost:8080/"
        },
        "id": "Rc-bEY7CkW0l",
        "outputId": "955b3f0d-e3eb-4e5b-9588-d7fb8a96eaa7"
      },
      "execution_count": 153,
      "outputs": [
        {
          "output_type": "execute_result",
          "data": {
            "text/plain": [
              "array([-1., -2., -3.])"
            ]
          },
          "metadata": {},
          "execution_count": 153
        }
      ]
    },
    {
      "cell_type": "code",
      "source": [
        "# 8. 크기 10개의 1차원 랜덤 행렬을 만들고 최대값을 0 으로 바꾸어 주세요\n",
        "#    1. 최대값이 어디에 있는 지 인덱스를 확인하면\n",
        "#    2. 인덱싱을 통해서 최대값을 0으로 바꿔줄 수 있습니다.\n",
        "#    3. argmax() 함수는 배열의 요소들 중에서 가장 큰 값이 있는 위치의 인덱스를 반환합니다.\n",
        "\n",
        "Z = np.random.random(10)\n",
        "print('최대값이 있는 인덱스:',Z.argmax())\n",
        "# Z[Z.argmax()] = 0\n",
        "Z"
      ],
      "metadata": {
        "colab": {
          "base_uri": "https://localhost:8080/"
        },
        "id": "8a5oWjYBoZyn",
        "outputId": "d4cc4a97-847d-4cda-8d9a-492ba4c9498b"
      },
      "execution_count": 155,
      "outputs": [
        {
          "output_type": "stream",
          "name": "stdout",
          "text": [
            "최대값이 있는 인덱스: 5\n"
          ]
        },
        {
          "output_type": "execute_result",
          "data": {
            "text/plain": [
              "array([0.93144294, 0.61949101, 0.31381555, 0.16040104, 0.6644659 ,\n",
              "       0.94207404, 0.72723301, 0.82373896, 0.91284687, 0.6822069 ])"
            ]
          },
          "metadata": {},
          "execution_count": 155
        }
      ]
    },
    {
      "cell_type": "code",
      "source": [
        "# 9. np.max 와 np.argmax 의 값을 확인해봅시다.\n",
        "# 각 열과 행별로 최댓값을 반환하고 인덱스를 호출해주세요\n",
        "\n",
        "arr = np.array([[1, 2, 3], [4, 5, 6]])\n",
        "print('arr에서 최댓값:', np.max(arr))\n",
        "print(f'arr에서 최댓값인 {np.max(arr)}이 위치한 인덱스:',np.argmax(arr))\n",
        "print('arr에서 각 열(axis=0)별로 최댓값을 반환:', np.max(arr, axis=0))\n",
        "print('arr에서 각 열(axis=1)별로 최댓값을 반환:', np.max(arr, axis=1))\n",
        "print('arr에서 각 행(axis=0)별로 최댓값의 인덱스를 반환:',np.argmax(arr, axis=0))\n",
        "print('arr에서 각 행(axis=1)별로 최댓값의 인덱스를 반환:',np.argmax(arr, axis=1))"
      ],
      "metadata": {
        "colab": {
          "base_uri": "https://localhost:8080/"
        },
        "id": "MQvotS3aolRf",
        "outputId": "abfdb74f-2637-4167-fd26-a078cee27835"
      },
      "execution_count": 158,
      "outputs": [
        {
          "output_type": "stream",
          "name": "stdout",
          "text": [
            "arr에서 최댓값: 6\n",
            "arr에서 최댓값인 6이 위치한 인덱스: 5\n",
            "arr에서 각 열(axis=0)별로 최댓값을 반환: [4 5 6]\n",
            "arr에서 각 열(axis=1)별로 최댓값을 반환: [3 6]\n",
            "arr에서 각 행(axis=0)별로 최댓값의 인덱스를 반환: [1 1 1]\n",
            "arr에서 각 행(axis=1)별로 최댓값의 인덱스를 반환: [2 2]\n"
          ]
        }
      ]
    },
    {
      "cell_type": "markdown",
      "source": [
        "## 형변환"
      ],
      "metadata": {
        "id": "unj9k2ZDoinp"
      }
    },
    {
      "cell_type": "code",
      "source": [
        "# 10. 균일분포의 랜덤함수를 이용해서 0 ~ 100 까지 값을 가지는 1차원 실수 (32비트) 행렬을 만듭니다.\n",
        "#     정수 (32비트) 이면서 배열의 모양을 10x1 로 변환해주세요\n",
        "\n",
        "Z = (np.random.rand(10)*100).astype(np.float32)\n",
        "print(Z)\n",
        "\n",
        "X = Z.view(np.int32)\n",
        "X.shape = (10,1)\n",
        "X"
      ],
      "metadata": {
        "id": "pDRptQ-IlELL"
      },
      "execution_count": null,
      "outputs": []
    },
    {
      "cell_type": "code",
      "source": [
        "# view() 함수와 astype() 함수는 NumPy 배열에서 각각 다른 목적을 가지고 사용되는 함수입니다.\n",
        "# 둘의 함수를 사용해서 차이를 이해해보세요 \n",
        "\n",
        "Z = np.random.randint(0,6,(3,10))\n",
        "print(Z)\n",
        "Z.any() # == np.any(Z)"
      ],
      "metadata": {
        "id": "ZVT_onEUovhl"
      },
      "execution_count": null,
      "outputs": []
    },
    {
      "cell_type": "code",
      "source": [
        "# 11. 집계 함수로 배열에 Null 값이 있는지 확인해보세요.\n",
        "#     정수형 난수로 3x10 행렬을 생성합니다.\n",
        "#     0 ~ 5 까지의 값으로 만들어주세요."
      ],
      "metadata": {
        "id": "TwfCeQg_o0NG"
      },
      "execution_count": null,
      "outputs": []
    },
    {
      "cell_type": "markdown",
      "source": [
        "## 정규분포, 균일분포"
      ],
      "metadata": {
        "id": "HipoQO3Co4yn"
      }
    },
    {
      "cell_type": "code",
      "source": [
        "# 12. 정규분포 normal()을 따르는 난수 생성의 방법을 배웠습니다. \n",
        "#     이번에는 주어진 범위에서 균일분포를 따르는 난수 생성을 해보겠습니다. \n",
        "#     Normal Distribution\n",
        "#     Uniform Distribution\n",
        "#     [low, high] 범위에서 균일 분포를 따르는 난수 생성\n",
        "# random_number = np.random.uniform(low, high, size)\n",
        "\n",
        "Z = np.random.uniform(0,1,10)\n",
        "print(Z)\n",
        "num = 0.5\n",
        "np.abs(Z-num).argmin()"
      ],
      "metadata": {
        "id": "nxKCuCkho6nr"
      },
      "execution_count": null,
      "outputs": []
    },
    {
      "cell_type": "code",
      "source": [
        "# 12.1 (응용) 0부터 1사이의 10개의 값을 가지는 균일분포 배열을 만들어주세요\n",
        "# 배열에서 지정된 값에서 가장 가까운 값을 찾겠습니다. => 정답 인덱스 호출 => 가장 가까운 값 호출\n",
        "# num = 0.5\n",
        "\n",
        "Z[np.abs(Z-num).argmin()]"
      ],
      "metadata": {
        "id": "aTG-t0CZpFVs"
      },
      "execution_count": null,
      "outputs": []
    },
    {
      "cell_type": "markdown",
      "source": [
        "flat() 함수는 다차원 배열을 1차원으로 평면화하는 간편한 방법을 제공합니다. 이를 통해 다차원 배열의 요소에 순차적으로 접근하거나, 1차원 배열로 변환하여 다양한 연산에 활용할 수 있습니다"
      ],
      "metadata": {
        "id": "VQpT2xmux4sQ"
      }
    },
    {
      "cell_type": "code",
      "source": [
        "# 12.2 (응용) 다차원의 배열을 1차원으로 평면화 하는 flatten 함수로 응용해보겠습니다.\n",
        "# np.flatten()\n",
        "# 3차원의 배열을 -> 1차원으로 평면화 하고 -> 최대값을 10으로 변경해주세요\n",
        "\n",
        "arr = np.array([[1, 2, 3], [4, 5, 6], [3, 4, 5]])\n",
        "\n",
        "# 다차원 배열을 1차원으로 평면화\n",
        "flattened_arr = arr.flat\n",
        "print(arr.argmax())\n",
        "\n",
        "# 최대값을 갖는 인덱스의 값을 10으로 변경\n",
        "flattened_arr[arr.argmax()] = 10\n",
        "\n",
        "# 평면화된 1차원 배열의 요소에 접근 가능하므로, 최대값을 갖는 인덱스에 접근하여 값 변경도 가능\n",
        "\n",
        "print(arr) # 원본 다차원 배열 arr에도 해당 변경이 반영되는 것을 확인할 수 있습니다.\n"
      ],
      "metadata": {
        "id": "GnZz_LuApN9K"
      },
      "execution_count": null,
      "outputs": []
    },
    {
      "cell_type": "code",
      "source": [
        "# 12.3 (응용) 4차원(3,4,3,4)으로 주어진 범위(0,10) 안에서 정수형 변수를 생성해주세요\n",
        "# 마지막 2축(axis)에서 합계를 출력해보세요\n",
        "\n",
        "A = np.random.randint(0,10, (3,4,3,4))\n",
        "A.sum(axis = (-2,-1))\n"
      ],
      "metadata": {
        "id": "_objX3CspSwT"
      },
      "execution_count": null,
      "outputs": []
    },
    {
      "cell_type": "code",
      "source": [
        "# 12.4 배열의 첫번째 행과 두번째행을 바꾸어 봅시다\n",
        "\n",
        "A = np.arange(25).reshape(5,5)\n",
        "A[[0,1]] = A[[1,0]]\n",
        "A"
      ],
      "metadata": {
        "id": "VBo2mdZppZGZ"
      },
      "execution_count": null,
      "outputs": []
    },
    {
      "cell_type": "markdown",
      "source": [
        "## arg 인덱스 접근 함수 추가"
      ],
      "metadata": {
        "id": "A3pDevDlpeiL"
      }
    },
    {
      "cell_type": "markdown",
      "source": [
        "**배열의 인덱스에 접근하기 위해 사용할 수 있는 함수**\n",
        "\n",
        "> np.argmax(): 배열에서 최댓값의 인덱스를 반환합니다.\n",
        "\n",
        "> np.argmin(): 배열에서 최솟값의 인덱스를 반환합니다.\n",
        "\n",
        "> np.argwhere(): 조건을 충족하는 요소의 인덱스를 반환합니다. 반환되는 값은 2차원 배열이며, 각 행은 해당 요소의 인덱스를 나타냅니다.\n",
        "\n",
        "> np.where(): 조건에 따라 요소를 선택하고, 선택된 요소의 인덱스를 반환합니다.\n",
        "\n",
        "> np.nonzero(): 0이 아닌 요소의 인덱스를 반환합니다. 반환되는 값은 각 차원별로 분리된 인덱스 배열입니다."
      ],
      "metadata": {
        "id": "PWZ0h7DpyIQs"
      }
    },
    {
      "cell_type": "code",
      "source": [
        "# argmax. argmin 을 응용하기\n",
        "# (응용) 표준정규분포를 사용해서 100개의 난수를 생성해주세요.\n",
        "# 그 후 shuffle() 함수를 사용해서 순서를 섞어줍니다.\n",
        "# sort() 함수와 마찬가지로 argsort() 를 이용해 인덱스를 사용합니다\n",
        "# argsort() 를 사용해서 가장 큰 값을 5개만 뽑아봅시다."
      ],
      "metadata": {
        "id": "WEf_XrWJpgbc"
      },
      "execution_count": null,
      "outputs": []
    },
    {
      "cell_type": "code",
      "source": [
        "Z = np.random.randn(100)\n",
        "np.random.shuffle(Z)\n",
        "\n",
        "Z[np.argsort(Z)[-5:]]"
      ],
      "metadata": {
        "id": "0o9FXgWDyNLZ"
      },
      "execution_count": null,
      "outputs": []
    },
    {
      "cell_type": "code",
      "source": [
        "arr = np.array([1, 3, 2, 5, 4])\n",
        "\n",
        "# 최댓값의 인덱스\n",
        "max_index = np.argmax(arr)\n",
        "print(\"Max index:\", max_index)  \n",
        "\n",
        "# 최솟값의 인덱스\n",
        "min_index = np.argmin(arr)\n",
        "print(\"Min index:\", min_index)  \n",
        "\n",
        "# 조건을 충족하는 요소의 인덱스\n",
        "index = np.argwhere(arr > 2)\n",
        "print(\"Indices greater than 2:\", index)  # 반환값 2차원 [[1] [3] [4]]\n",
        "\n",
        "# 조건에 따라 요소 선택 및 인덱스 반환\n",
        "selected_index = np.where(arr > 2)\n",
        "print(\"Selected indices:\", selected_index)  \n",
        "\n",
        "# 0이 아닌 요소의 인덱스\n",
        "nonzero_index = np.nonzero(arr)\n",
        "print(\"Nonzero indices:\", nonzero_index)  \n"
      ],
      "metadata": {
        "id": "Y0MkKIOcyOQy"
      },
      "execution_count": null,
      "outputs": []
    }
  ]
}