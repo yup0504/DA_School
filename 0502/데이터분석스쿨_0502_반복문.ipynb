{
  "nbformat": 4,
  "nbformat_minor": 0,
  "metadata": {
    "colab": {
      "provenance": []
    },
    "kernelspec": {
      "name": "python3",
      "display_name": "Python 3"
    },
    "language_info": {
      "name": "python"
    }
  },
  "cells": [
    {
      "cell_type": "markdown",
      "source": [
        "# 반복문\n",
        "\n"
      ],
      "metadata": {
        "id": "4fk1Ba4ksvaz"
      }
    },
    {
      "cell_type": "markdown",
      "source": [
        "* 반복문을 사용하는 이유 -> 업무의 최소화, 빠른 퇴근, 나의 체력 안배\n",
        "\n",
        "특히 데이터 분석에서는 \n",
        "* 월별/분기별/연도별 산출할 게 있을 경우\n",
        "* 컬럼별 데이터 검사 및 특이값 이상치 발견\n",
        "* Rule Base 최적 상품 추천\n",
        "* ML/DL모델을 파라미터를 바꿔서 반복 시행할때\n",
        "* 기타 3번 이상 반복 작업 해야하는 반복되는 일들\n",
        "\n",
        "에서 사용되게 됩니다.\n"
      ],
      "metadata": {
        "id": "CZUT6lEEsuAs"
      }
    },
    {
      "cell_type": "code",
      "execution_count": null,
      "metadata": {
        "colab": {
          "base_uri": "https://localhost:8080/"
        },
        "id": "xUSVSUcnrwGw",
        "outputId": "009e8ecd-7b2d-4d22-9806-dd0d3c979557"
      },
      "outputs": [
        {
          "output_type": "stream",
          "name": "stdout",
          "text": [
            "1 반복\n",
            "2 반복\n",
            "3 반복\n"
          ]
        }
      ],
      "source": [
        "# For 반복문 기초1\n",
        "for x in (1,2,3):\n",
        "    print(f\"{x} 반복\")"
      ]
    },
    {
      "cell_type": "code",
      "source": [
        "#for 문의 구조\n",
        "for (변수명) in (순회 가능한 객체) :\n",
        "    수행할 문장1\n",
        "\t\t수행할 문장2"
      ],
      "metadata": {
        "id": "xkTv6hRjuC5J"
      },
      "execution_count": null,
      "outputs": []
    },
    {
      "cell_type": "code",
      "source": [
        "# For 반복문 기초2\n",
        "문자열 = \"hello world\"\n",
        "for a in 문자열:\n",
        "    print(a)"
      ],
      "metadata": {
        "id": "Dq-uVyNDuGUD"
      },
      "execution_count": null,
      "outputs": []
    },
    {
      "cell_type": "code",
      "source": [
        "# 리스트를 범위로 지정한 예시\n",
        "list_a = ['하나','둘','셋','넷','다섯']\n",
        "\n",
        "for a in list_a:\n",
        "  print(a)"
      ],
      "metadata": {
        "id": "bO7U7NaNua3Y"
      },
      "execution_count": null,
      "outputs": []
    },
    {
      "cell_type": "code",
      "source": [
        "# 딕셔너리를 이용한 반복문\n",
        "dic_a = {\n",
        "   '하나': 'one',\n",
        "   '둘': 'two',\n",
        "   '셋':'three'\n",
        "}\n",
        "for a in dic_a:\n",
        "  print(a)"
      ],
      "metadata": {
        "colab": {
          "base_uri": "https://localhost:8080/"
        },
        "id": "VRrRxmBourt4",
        "outputId": "e06d6756-1bbf-4e81-a0ba-9f6d27b06bf5"
      },
      "execution_count": null,
      "outputs": [
        {
          "output_type": "stream",
          "name": "stdout",
          "text": [
            "하나\n",
            "둘\n",
            "셋\n"
          ]
        }
      ]
    },
    {
      "cell_type": "code",
      "source": [
        "for a in dic_a.items():\n",
        "  print(a)"
      ],
      "metadata": {
        "colab": {
          "base_uri": "https://localhost:8080/"
        },
        "id": "JSS1unc-vSG2",
        "outputId": "16a3c679-b88e-4465-f1e5-889051190b34"
      },
      "execution_count": null,
      "outputs": [
        {
          "output_type": "stream",
          "name": "stdout",
          "text": [
            "('하나', 'one')\n",
            "('둘', 'two')\n",
            "('셋', 'three')\n"
          ]
        }
      ]
    },
    {
      "cell_type": "code",
      "source": [
        "for a in dic_a.values():\n",
        "  print(a)"
      ],
      "metadata": {
        "colab": {
          "base_uri": "https://localhost:8080/"
        },
        "id": "VLvt9czEvh33",
        "outputId": "fafd0f8b-29b2-4fd1-9ad1-3cf19f1ceab5"
      },
      "execution_count": null,
      "outputs": [
        {
          "output_type": "stream",
          "name": "stdout",
          "text": [
            "one\n",
            "two\n",
            "three\n"
          ]
        }
      ]
    },
    {
      "cell_type": "code",
      "source": [
        "# range 1번 예제\n",
        "\n",
        "for a in range(0, 5, 1):\n",
        "  print(a)"
      ],
      "metadata": {
        "id": "eerTVnW9vpMR"
      },
      "execution_count": null,
      "outputs": []
    },
    {
      "cell_type": "code",
      "source": [
        "# range 2번 예제\n",
        "\n",
        "for a in range(0, 10, 2):\n",
        "  print(a)"
      ],
      "metadata": {
        "id": "mRkcZ5rwvpEa"
      },
      "execution_count": null,
      "outputs": []
    },
    {
      "cell_type": "code",
      "source": [
        "# range 2번 예제\n",
        "\n",
        "for a in range(10, 0, -1):\n",
        "  print(a)"
      ],
      "metadata": {
        "id": "YvUU-InAvo82"
      },
      "execution_count": null,
      "outputs": []
    },
    {
      "cell_type": "code",
      "source": [
        "# 반복문 기초 3\n",
        "from time import process_time\n",
        "\n",
        "start = process_time()\n",
        "\n",
        "# 1,000,000 ~ 하루 / 이틀 / 일주일\n",
        "for i in range(1, 100):\n",
        "  print(f'숫자를 출력합니다. {i}')\n",
        "\n",
        "end = process_time()\n",
        "print(f'프로그램을 수행하는데 {end - start}초가 걸렸습니다.')"
      ],
      "metadata": {
        "id": "YmJZGIvvvo1D"
      },
      "execution_count": null,
      "outputs": []
    },
    {
      "cell_type": "code",
      "source": [
        "# 반복문 기초 - 문자열\n",
        "for i in 'python':\n",
        "  print(i)"
      ],
      "metadata": {
        "id": "pDCNDTgnvot2"
      },
      "execution_count": null,
      "outputs": []
    },
    {
      "cell_type": "code",
      "source": [
        "for i in ['python','numpy','pandas']:\n",
        "  print(i)"
      ],
      "metadata": {
        "id": "ubyJQgV8xW0A"
      },
      "execution_count": null,
      "outputs": []
    },
    {
      "cell_type": "code",
      "source": [
        "# 반복문 기초 7 - 딕셔너리\n",
        "\n",
        "d = {\"key1\" : 1000 , \"key2\" : 2000, \"key3\" : 3000}\n",
        "for i in d.keys():\n",
        "  print(\"출력된 문자는\", i, \"입니다.\")\n",
        "\n",
        "print()\n",
        "\n",
        "# 반복문 기초 7 - 딕셔너리\n",
        "\n",
        "d = {\"key1\" : 1000 , \"key2\" : 2000, \"key3\" : 3000}\n",
        "for i in d.values():\n",
        "  print(\"출력된 문자는\", i, \"입니다.\")\n",
        "\n",
        "print()\n",
        "# 반복문 기초 7 - 딕셔너리\n",
        "\n",
        "d = {\"key1\" : 1000 , \"key2\" : 2000, \"key3\" : 3000}\n",
        "for i in d.items():\n",
        "  print(\"출력된 문자는\", i, \"입니다.\")"
      ],
      "metadata": {
        "id": "nc8RKabwxsV6"
      },
      "execution_count": null,
      "outputs": []
    },
    {
      "cell_type": "code",
      "source": [
        "# for, else 예제\n",
        "\n",
        "for i in range(4):\n",
        "  print(f\"(i) 물고기를 잡았습니다.\")\n",
        "  if i == 5:           # 최대 4까지 반복하니까 else로 넘어감\n",
        "    print('만선입니다. 물고기를 다 잡았습니다.')\n",
        "    break # 더이상 문장을 실행하지 않고, 종료\n",
        "else:\n",
        "  print('아직 여유가 있지만. 만족하고 돌아갑시다.')\n",
        "print('수고하셨습니다.')"
      ],
      "metadata": {
        "colab": {
          "base_uri": "https://localhost:8080/"
        },
        "id": "1_cZa2-Vxuq1",
        "outputId": "7755e4f1-368e-45cf-eb82-cfba857be7e6"
      },
      "execution_count": null,
      "outputs": [
        {
          "output_type": "stream",
          "name": "stdout",
          "text": [
            "(i) 물고기를 잡았습니다.\n",
            "(i) 물고기를 잡았습니다.\n",
            "(i) 물고기를 잡았습니다.\n",
            "(i) 물고기를 잡았습니다.\n",
            "아직 여유가 있지만. 만족하고 돌아갑시다.\n",
            "수고하셨습니다.\n"
          ]
        }
      ]
    },
    {
      "cell_type": "code",
      "source": [
        "l = [0, 3, -1, 10]\n",
        "\n",
        "for x in l:\n",
        "  if x < 0:\n",
        "    print(\"음수가 발견되었습니다. 프로그램을 종료합니다.\")\n",
        "    break\n",
        "else:\n",
        "  print('음수를 발견하지 못했습니다.')"
      ],
      "metadata": {
        "id": "yrGgq65Zxzdc"
      },
      "execution_count": null,
      "outputs": []
    },
    {
      "cell_type": "code",
      "source": [
        "# 반복문 기초 break - coutinue\n",
        "\n",
        "# 반복 출력\n",
        "\n",
        "for i in range(10):\n",
        "  if i == 3:\n",
        "    break\n",
        "  \n",
        "  if i == 1:\n",
        "    continue\n",
        "  print(i)"
      ],
      "metadata": {
        "colab": {
          "base_uri": "https://localhost:8080/"
        },
        "id": "l2P4SO_03yP9",
        "outputId": "ecb51343-7b2c-4815-9571-a284851105bf"
      },
      "execution_count": null,
      "outputs": [
        {
          "output_type": "stream",
          "name": "stdout",
          "text": [
            "0\n",
            "2\n"
          ]
        }
      ]
    },
    {
      "cell_type": "code",
      "source": [
        "# 이중 반복문\n",
        "\n",
        "# 구구단 만들기\n",
        "\n",
        "for i in range(1,10):\n",
        "    for j in range(1,10):\n",
        "      print(i,j,i*j)"
      ],
      "metadata": {
        "id": "v3uNh91O5y2A"
      },
      "execution_count": null,
      "outputs": []
    },
    {
      "cell_type": "code",
      "source": [
        "# 리스트 컴프리핸션\n",
        "\n",
        "# 예제1)\n",
        "# list_i = []\n",
        "# for i in range(1,10):\n",
        "#   list_i.append(i)        \n",
        "\n",
        "x= [i for i in ragne(1,10)]     # 위에 3줄을 한줄로 줄일 수 있음"
      ],
      "metadata": {
        "id": "_cvoORHk6opF"
      },
      "execution_count": null,
      "outputs": []
    },
    {
      "cell_type": "code",
      "source": [
        "# 반복문 예제 2\n",
        "\n",
        "y = [f'{i} * {j} = {i*j}' for i in range(2,10) for j in range(1,10)] \n",
        "print(y)"
      ],
      "metadata": {
        "id": "dR_EA68U7u_1"
      },
      "execution_count": null,
      "outputs": []
    },
    {
      "cell_type": "code",
      "source": [
        "print(list_i)"
      ],
      "metadata": {
        "id": "H3NSJZL871q8"
      },
      "execution_count": null,
      "outputs": []
    },
    {
      "cell_type": "code",
      "source": [
        "# 반복문 예제 3\n",
        "\n",
        "def sumtingFuncthing(i):\n",
        "  if i % 100 == 0:\n",
        "    return i\n",
        "  else:\n",
        "    return 0"
      ],
      "metadata": {
        "id": "p1bwB9EV760d"
      },
      "execution_count": null,
      "outputs": []
    },
    {
      "cell_type": "code",
      "source": [
        "old_list = [100,200,300,101,202,303]\n",
        "new_list = [sumthingFuncthing(i) for i in old_list]\n",
        "print(sum(new_list))"
      ],
      "metadata": {
        "id": "KwqeGVl_9fKS"
      },
      "execution_count": null,
      "outputs": []
    },
    {
      "cell_type": "code",
      "source": [
        "# 다중인자 리스트 순회\n",
        "\n",
        "#다중 리스트 for문\n",
        "skill = [\n",
        "        ('고기잡이', 100),\n",
        "        ('고기팔기', 120),\n",
        "        ('낚시', 5),\n",
        "        ('통발', 5),\n",
        "        ('큰그물', 5)\n",
        "]\n",
        "\n",
        "for i,j in skill:\n",
        "    print(i,j)"
      ],
      "metadata": {
        "id": "B5oZhM1z9V22"
      },
      "execution_count": null,
      "outputs": []
    },
    {
      "cell_type": "code",
      "source": [
        "#[In]\n",
        "\n",
        "# enumerate\n",
        "\n",
        "skill = [\n",
        "        ('고기잡이', 100, 'SS'),\n",
        "        ('고기팔기', 120, 'SSS'),\n",
        "        ('낚시', 5, 'C'),\n",
        "        ('통발', 5, 'C'),\n",
        "        ('큰그물', 5, 'C')\n",
        "]\n",
        "\n",
        "for i, (skillName, skillLevel, skillGrade) in enumerate(skill):\n",
        "    print(i, skillName, skillLevel, skillGrade)"
      ],
      "metadata": {
        "id": "Ze2mZzFO-OKd"
      },
      "execution_count": null,
      "outputs": []
    },
    {
      "cell_type": "code",
      "source": [
        "for i, j in enumerate(skill, 100):\n",
        "  print(i, j)"
      ],
      "metadata": {
        "id": "pYCwp9a2-QCc"
      },
      "execution_count": null,
      "outputs": []
    },
    {
      "cell_type": "code",
      "source": [
        "# 반복문 연습문제 1\n",
        "\n",
        "for a in range(8):\n",
        "  a += 1\n",
        "print(a)\n",
        "\n",
        "# 1. 6\n",
        "# 2. 7\n",
        "# 3. 8\n",
        "# 4. 9\n",
        "# 5. None"
      ],
      "metadata": {
        "colab": {
          "base_uri": "https://localhost:8080/"
        },
        "id": "UUBH2Eje-aO-",
        "outputId": "42eea8d0-59aa-4a2e-c04b-27c1487f6cdf"
      },
      "execution_count": null,
      "outputs": [
        {
          "output_type": "stream",
          "name": "stdout",
          "text": [
            "8\n"
          ]
        }
      ]
    },
    {
      "cell_type": "code",
      "source": [
        "# 반복문 연습문제 2\n",
        "for a in range(8):\n",
        "  a *= (a-1)\n",
        "print(a)\n",
        "\n",
        "# 1. 6\n",
        "# 2. 7\n",
        "# 3. 42\n",
        "# 4. 9\n",
        "# 5. None"
      ],
      "metadata": {
        "colab": {
          "base_uri": "https://localhost:8080/"
        },
        "id": "TXeGHCGq-1Cc",
        "outputId": "0d923d5e-c16a-4fb8-c4b8-1a5b59a47e98"
      },
      "execution_count": null,
      "outputs": [
        {
          "output_type": "stream",
          "name": "stdout",
          "text": [
            "42\n"
          ]
        }
      ]
    },
    {
      "cell_type": "code",
      "source": [
        "# 반복문 연습문제 3\n",
        "for a in range(8):\n",
        "  a += a\n",
        "print(a)\n",
        "\n",
        "# 1. 6\n",
        "# 2. 7\n",
        "# 3. 8\n",
        "# 4. 9\n",
        "# 5. 답없음"
      ],
      "metadata": {
        "colab": {
          "base_uri": "https://localhost:8080/"
        },
        "id": "ksqXU4rx_3nZ",
        "outputId": "617a955a-fe7a-4af9-8cc3-f29d22ac4e9c"
      },
      "execution_count": null,
      "outputs": [
        {
          "output_type": "stream",
          "name": "stdout",
          "text": [
            "14\n"
          ]
        }
      ]
    },
    {
      "cell_type": "code",
      "source": [
        "# 반복문 연습문제 4\n",
        "for a in range(8):\n",
        "  a *= 1\n",
        "print(a)\n",
        "\n",
        "# 1. 6\n",
        "# 2. 7\n",
        "# 3. 8\n",
        "# 4. 9\n",
        "# 5. 답없음"
      ],
      "metadata": {
        "colab": {
          "base_uri": "https://localhost:8080/"
        },
        "id": "mKgKC5uoAAJX",
        "outputId": "f574e6c2-5ed3-4fe7-a6a6-47ba945f3002"
      },
      "execution_count": null,
      "outputs": [
        {
          "output_type": "stream",
          "name": "stdout",
          "text": [
            "7\n"
          ]
        }
      ]
    },
    {
      "cell_type": "code",
      "source": [
        "a = 1\n",
        "while 1 < 10 :\n",
        "\tprint(a)\n",
        "\ta += 1"
      ],
      "metadata": {
        "id": "FhvkFaPUEqYa"
      },
      "execution_count": null,
      "outputs": []
    },
    {
      "cell_type": "code",
      "source": [
        "# while문 예제 2\n",
        "숫자 = 0\n",
        "while True:\n",
        "\tprint(\"현재 숫자는 \", 숫자, \"입니다.\")\n",
        "\t숫자 += 1\n",
        "\tif 숫자 > 5:\n",
        "\t\tprint(\"반복문을 종료합니다.\")\n",
        "\t\tbreak"
      ],
      "metadata": {
        "colab": {
          "base_uri": "https://localhost:8080/"
        },
        "id": "UEGQHBojEojD",
        "outputId": "e2b7b590-acb2-416c-eef7-7dd787a7477d"
      },
      "execution_count": null,
      "outputs": [
        {
          "output_type": "stream",
          "name": "stdout",
          "text": [
            "현재 숫자는  0 입니다.\n",
            "현재 숫자는  1 입니다.\n",
            "현재 숫자는  2 입니다.\n",
            "현재 숫자는  3 입니다.\n",
            "현재 숫자는  4 입니다.\n",
            "현재 숫자는  5 입니다.\n",
            "반복문을 종료합니다.\n"
          ]
        }
      ]
    },
    {
      "cell_type": "code",
      "source": [
        "# while else\n",
        "\n",
        "숫자 = 0\n",
        "while 숫자 < 5:\n",
        "  print(\"현재 숫자는 \", 숫자, \"입니다.\")\n",
        "  숫자 += 1\n",
        "else:\n",
        "  print(\"반복문을 종료합니다.\")"
      ],
      "metadata": {
        "id": "Vk17zJsoFwyQ"
      },
      "execution_count": null,
      "outputs": []
    },
    {
      "cell_type": "code",
      "source": [
        "시간 = 0\n",
        "현재시간 = int(input(\"시를 입력해주세요\"))\n",
        "종료시간 = 18\n",
        "if 현재시간 > 종료시간:\n",
        "  print('수업이 끝났기 때문에 Q&A시간을 가지겠습니다.')\n",
        "else:\n",
        "  while True:\n",
        "    시간 += 1\n",
        "    현재시간 += 1\n",
        "    print(f'{시간}시간이 지나 {현재시간}시가 되었습니다.')\n",
        "    if 현재시간 == 종료시간:\n",
        "      print('수업 종료시간이 되었기 때문에 Q&A시간을 가지겠습니다.')\n",
        "      break"
      ],
      "metadata": {
        "id": "ChAnJQhwH4qw"
      },
      "execution_count": null,
      "outputs": []
    },
    {
      "cell_type": "code",
      "source": [
        "# 구구단 5단까지 출력하기\n",
        "\n",
        "for i in range(2, 10):\n",
        "  for j in range(1, 10):\n",
        "    if j > 5:\n",
        "      break\n",
        "    print(f'{i} * {j} = {i*j}')"
      ],
      "metadata": {
        "id": "f2HXLhPqE8xj"
      },
      "execution_count": null,
      "outputs": []
    },
    {
      "cell_type": "code",
      "source": [
        "# continue\n",
        "\n",
        "count_amount= [\n",
        "    (3, 15000),\n",
        "    (5, 25000),\n",
        "    (1, 5000),\n",
        "    (8, 40000),\n",
        "    (0, 0),\n",
        "    (2, 10000)\n",
        "]\n",
        "\n",
        "for count, amount in count_amount:\n",
        "  if count < 1:\n",
        "    continue\n",
        "  print(f'구매개수는 {count}, 구매가격은 {amount}')"
      ],
      "metadata": {
        "id": "kWSbFzFMJQ6g"
      },
      "execution_count": null,
      "outputs": []
    },
    {
      "cell_type": "code",
      "source": [
        "#pass\n",
        "구매개수_총가격= [\n",
        "    (3, 15000),\n",
        "    (5, 25000),\n",
        "    (1, 5000),\n",
        "    (8, 40000),\n",
        "    (0, 0),\n",
        "    (2, 10000)\n",
        "    ]\n",
        "for 구매개수, 총가격 in 구매개수_총가격:\n",
        "    if 구매개수 < 1:\n",
        "        pass\n",
        "    print('구매개수는 {}개이며 {}원입니다.'.format(구매개수, 총가격))"
      ],
      "metadata": {
        "id": "2pmOEXgIJTNF"
      },
      "execution_count": null,
      "outputs": []
    },
    {
      "cell_type": "code",
      "source": [
        "# while문으로 구구단 만들기\n",
        "\n",
        "i= 2\n",
        "while i < 10:\n",
        "  k = 1\n",
        "  while k < 10:\n",
        "     print(i, \"*\",k, \"=\",i*k)\n",
        "     k += 1\n",
        "  i += 1\n"
      ],
      "metadata": {
        "id": "SmYAeyB1JgOo"
      },
      "execution_count": null,
      "outputs": []
    },
    {
      "cell_type": "code",
      "source": [
        "#조건문 문제\n",
        "#1부터 10까지 짝수를 뽑으려면 어떤 코드를 작성해야할까요?\n",
        "\n",
        "a = 1\n",
        "\n",
        "while  a < 11:\n",
        "  if a % 2 == 0:\n",
        "    print(a)\n",
        "    a += 1\n",
        "  else:\n",
        "    a += 1\n",
        "  \n",
        "  if a == 0:\n",
        "    break\n",
        "\n",
        "#1. a == 10\n",
        "#2. a != 10\n",
        "#3. a < 10\n",
        "#4. a >= 10\n",
        "#5. a < 11"
      ],
      "metadata": {
        "colab": {
          "base_uri": "https://localhost:8080/"
        },
        "id": "mF00HDa6KLYw",
        "outputId": "1e54a4b6-1577-4dca-ba69-66b00d79cf47"
      },
      "execution_count": 48,
      "outputs": [
        {
          "output_type": "stream",
          "name": "stdout",
          "text": [
            "2\n",
            "4\n",
            "6\n",
            "8\n",
            "10\n"
          ]
        }
      ]
    },
    {
      "cell_type": "code",
      "source": [
        "# 조건문 문제\n",
        "# 실행결과가 0인 코드를 작성하고 싶을때 어떻게 작성해야하는가?\n",
        "\n",
        "money = 2000\n",
        "snack = 500\n",
        "water = 1000\n",
        "while money !=0:\n",
        "  if money > 1000:\n",
        "    money -= water\n",
        "  elif 0 < money <= 1000:\n",
        "    money -= snack * 2\n",
        "print(money)\n",
        "  \n",
        "# 1. money - 1500\n",
        "# 2. money - 1000\n",
        "# 3. money - 2000\n",
        "# 4. money + 500\n",
        "# 5. money - 500\n",
        "# 6. 답 없음\n"
      ],
      "metadata": {
        "colab": {
          "base_uri": "https://localhost:8080/"
        },
        "id": "MAH-M0LnLQx4",
        "outputId": "c4647c14-b1f6-421f-84b7-ba1ee98f914e"
      },
      "execution_count": 51,
      "outputs": [
        {
          "output_type": "stream",
          "name": "stdout",
          "text": [
            "0\n"
          ]
        }
      ]
    },
    {
      "cell_type": "code",
      "source": [
        "# while문 \n",
        "\n",
        "i = 0 # 초기식이 필요함\n",
        "\n",
        "while i < count:   # i가 count보다 작을 때 반복\n",
        "  print(i,'번째 출력')\n",
        "  i += 1  # 감소는 i -= 1\n"
      ],
      "metadata": {
        "id": "u5cWqhBNL44l"
      },
      "execution_count": null,
      "outputs": []
    },
    {
      "cell_type": "code",
      "source": [
        "# 실습1. 1~100사이의 숫자를 맞출때까지 반복하는 while문을 작성해주시면 됩니다.\n",
        "# 내가 입력한 숫자가 컴퓨터 숫자보다 작으면 \"값이 작다\"\n",
        "# 내가 입력한 숫자가 컴퓨터 숫자보다 크면 \"값이 크다\"\n",
        "# 답이 맞으면 맞았습니다. \n",
        "\n",
        "import random\n",
        "guess_number = random.randint(1,100)\n",
        "user_input = int(input(\"숫자를 입력해서 값을 맞춰보세요\"))\n",
        "\n",
        "while (user_input != guess_number):\n",
        "  if user_input > guess_number:\n",
        "    print(\"숫자가 큽니다.\")\n",
        "  else:\n",
        "    print(\"숫자가 작습니다.\")\n",
        "  user_input = int(input(\"숫자를 입력해서 값을 다시 맞춰보세요\"))\n",
        "else:\n",
        "  print(\"정답입니다.\")"
      ],
      "metadata": {
        "id": "qAxZl6yyOIXO"
      },
      "execution_count": null,
      "outputs": []
    }
  ]
}