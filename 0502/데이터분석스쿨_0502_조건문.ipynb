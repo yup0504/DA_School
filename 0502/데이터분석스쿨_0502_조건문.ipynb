{
  "nbformat": 4,
  "nbformat_minor": 0,
  "metadata": {
    "colab": {
      "provenance": []
    },
    "kernelspec": {
      "name": "python3",
      "display_name": "Python 3"
    },
    "language_info": {
      "name": "python"
    }
  },
  "cells": [
    {
      "cell_type": "markdown",
      "source": [
        "#1.1 조건문을 만들때 주의사항\n",
        "\n",
        "* 어떤 조건을 설정할것인가?\n",
        "* 어떤 예외가 발생할것인가?(테스트, 검증)\n",
        "* (조건문이 작성된 뒤에는) 최소 5~10번정도는 테스트 해봐라\n"
      ],
      "metadata": {
        "id": "uO-_7AxNAqDj"
      }
    },
    {
      "cell_type": "markdown",
      "source": [
        "#1.2 조건문 복습\n",
        "\n",
        "조건문은 다음과 같이 복습하려고 합니다.\n",
        "\n",
        "1. 단일 조건문\n",
        "2. If - else 조건문\n",
        "3. If - elif - else 조건문\n",
        "4. 다중 중첩 조건문\n",
        "5. input과 함께 사용하는 조건문\n",
        "\n",
        "[기억해야할것]\n",
        "\n",
        "1. if 뒤에는 참과 거짓을 판단하는 조건이 와야함\n",
        "2. 조건문이 끝나면 반드시 콜론으로 끝나야함\n",
        "3. if 다음 문장은 들여쓰기를 사용해야함\n",
        "4. if 조건에 부합하지 않으면 elif나 else를 사용한다. 보통 조건에 모두 부합하지 않을때 else를 사용한다.\n",
        "\n",
        "[연산자]\n",
        "\n",
        "* x < x가 작다\n",
        "* x > x가 크다\n",
        "* x == y 같다\n",
        "* x != y 다르다\n",
        "* x >= y 크거나 같다\n",
        "* x <= y 작거나 같다\n",
        "\n",
        "[논리연산자]\n",
        "2개이상의 조건을 사용하고 싶을때 사용\n",
        "\n",
        "* and\n",
        "* or\n",
        "* not"
      ],
      "metadata": {
        "id": "SuPh76sDAsCS"
      }
    },
    {
      "cell_type": "code",
      "source": [
        "# if문 예제\n",
        "\n",
        "x = 2\n",
        "if x > 1 and x < 10:  # 2가지 조건이 모두 충족할 경우\n",
        "  print('True')"
      ],
      "metadata": {
        "id": "KFvub8qEAvRu"
      },
      "execution_count": null,
      "outputs": []
    },
    {
      "cell_type": "code",
      "source": [
        "if True:\n",
        "  print('True')"
      ],
      "metadata": {
        "id": "8sZG8mcVAw7r"
      },
      "execution_count": null,
      "outputs": []
    },
    {
      "cell_type": "code",
      "execution_count": null,
      "metadata": {
        "colab": {
          "base_uri": "https://localhost:8080/"
        },
        "id": "ydCy0cl968xY",
        "outputId": "f248049a-6e2f-44e2-d4d5-3c309e189504"
      },
      "outputs": [
        {
          "output_type": "stream",
          "name": "stdout",
          "text": [
            "hello\n",
            "one\n",
            "two\n"
          ]
        }
      ],
      "source": [
        "if True:               #  참\n",
        "    print('hello')     #  위의 if문이 참일경우 출력\n",
        "print('one')           #  if문과 상관없이 출력\n",
        "\n",
        "if False:              #  거짓\n",
        "    print('world')     #  참일 경우 출력인데 거짓이라 출력x\n",
        "print('two')           #  if문과 상관없이 출력"
      ]
    },
    {
      "cell_type": "code",
      "source": [
        "x = 10\n",
        "\n",
        "if x > 5:\n",
        "    print('hello')\n",
        "print('end')\n",
        "\n",
        "if x != 5:\n",
        "    print('hello')"
      ],
      "metadata": {
        "id": "0JptiNrxCayp"
      },
      "execution_count": null,
      "outputs": []
    },
    {
      "cell_type": "code",
      "source": [
        "if 1:\n",
        "    print('hello')\n",
        "print('end')\n",
        "\n",
        "if 0:\n",
        "    print('hello')\n",
        "print('end')\n",
        "\n",
        "if -1:\n",
        "    print('hello')\n",
        "print('end')\n",
        "\n",
        "#공백이 있는 문자열\n",
        "if  ' ':\n",
        "    print('hello')\n",
        "print('end')\n",
        "\n",
        "#공백이 없는 문자열\n",
        "if '':\n",
        "    print('hello')\n",
        "print('end')\n"
      ],
      "metadata": {
        "id": "ixyS9xW1Cbjp"
      },
      "execution_count": null,
      "outputs": []
    },
    {
      "cell_type": "code",
      "source": [
        "if not '':\n",
        "    print('hello')\n",
        "print('end')\n",
        "\n",
        "if not None: #None은 False와 같은의미라고 생각하시면 됩니다.\n",
        "    print('hello')\n",
        "print('end')\n",
        "\n",
        "if None: \n",
        "    print('hello')\n",
        "print('end')"
      ],
      "metadata": {
        "id": "jEBZ4nICCbgO"
      },
      "execution_count": null,
      "outputs": []
    },
    {
      "cell_type": "code",
      "source": [
        "# if, else 문\n",
        "\n",
        "x = int(input('비교할 수를 입력하세요 : '))\n",
        "y = int(input('비교할 수를 입력하세요 : '))\n",
        "\n",
        "if x > y: # False\n",
        "  print(\"x가 y보다 큽니다\")\n",
        "else: # True\n",
        "  print(\"x가 y보다 작거나 같습니다 \")"
      ],
      "metadata": {
        "id": "H7o21uWnCbeJ"
      },
      "execution_count": null,
      "outputs": []
    },
    {
      "cell_type": "code",
      "source": [
        "# if, elif, else \n",
        "if 조건문:\n",
        "  수행문장1\n",
        "elif 조건문:\n",
        "  수행문장2\n",
        "else:\n",
        "  수행문장3\n"
      ],
      "metadata": {
        "id": "U0xXsl4ACbbS"
      },
      "execution_count": null,
      "outputs": []
    },
    {
      "cell_type": "code",
      "source": [
        "if x > y: # False\n",
        "  print(\"x가 y보다 큽니다\")\n",
        "elif x < y: #True\n",
        "  print(\"x가 y보다 작습니다.\")\n",
        "else: # 실행 x\n",
        "  print(\"같습니다\") "
      ],
      "metadata": {
        "id": "nHorEoOhCbYM"
      },
      "execution_count": null,
      "outputs": []
    },
    {
      "cell_type": "code",
      "source": [
        "score = 81\n",
        "money = 0\n",
        "\n",
        "if score >= 90:\n",
        "    print('mom : i\\'m so happy!')\n",
        "    money += 1000000\n",
        "elif score >= 80:\n",
        "    print('mom : i\\'m happy!')\n",
        "    money += 100000\n",
        "elif score >= 70 and score < 80:\n",
        "    print('mom : i\\'m so...!')\n",
        "    money += 10000\n",
        "elif score >= 60 and score < 70:\n",
        "    print('mom : i\\'m so...!')\n",
        "    money += 1000\n",
        "else:\n",
        "    print('mom : i\\'m...!')\n",
        "print(money)"
      ],
      "metadata": {
        "id": "0rLmLAlSCbVN"
      },
      "execution_count": null,
      "outputs": []
    },
    {
      "cell_type": "code",
      "source": [
        "# 중첩 조건문\n",
        "\n",
        "#if를 중첩해서 사용하기\n",
        "score = 98\n",
        "\n",
        "if score >= 90:\n",
        "    print('mom : i\\'m so happy!')\n",
        "    money += 1000000\n",
        "    \n",
        "    if score > 95:\n",
        "        print('hello world')\n",
        "\n",
        "        if score > 97:\n",
        "            print('hello!!!')\n",
        "            \n",
        "elif score >= 80:\n",
        "    print('mom : i\\'m happy!')\n",
        "    money += 100000"
      ],
      "metadata": {
        "id": "5Jg1NDfACbRe"
      },
      "execution_count": null,
      "outputs": []
    },
    {
      "cell_type": "markdown",
      "source": [
        "# 조건문"
      ],
      "metadata": {
        "id": "c2ifcRTm5g4J"
      }
    },
    {
      "cell_type": "markdown",
      "source": [
        "## 1.0 조건문을 만들때 고려사항\n",
        "\n",
        "* 어떤 조건을 설정할것인가?\n",
        "* 어떤 예외가 발생하는가?\n",
        "* (조건문을 작성한 후에) 최소 5번정도 테스트를 해봐라\n",
        "\n",
        "이 조건을 미리 생각하지 않으면 길을 잃을수도 있다."
      ],
      "metadata": {
        "id": "LN0iXGF75ipP"
      }
    },
    {
      "cell_type": "markdown",
      "source": [
        "#1.1 조건문 복습\n",
        "\n",
        "조건문은 다음과 같이 복습하려고 합니다.\n",
        "\n",
        "1. 단일 조건문\n",
        "2. If - else 조건문\n",
        "3. If - elif - else 조건문\n",
        "4. 다중 중첩 조건문\n",
        "5. input과 함께 사용하는 조건문\n",
        "\n",
        "[기억해야할것]\n",
        "\n",
        "1. if 뒤에는 참과 거짓을 판단하는 조건이 와야함\n",
        "2. 조건문이 끝나면 반드시 콜론으로 끝나야함\n",
        "3. if 다음 문장은 들여쓰기를 사용해야함\n",
        "4. if 조건에 부합하지 않으면 elif나 else를 사용한다. 보통 조건에 모두 부합하지 않을때 else를 사용한다.\n",
        "\n",
        "[연산자]\n",
        "\n",
        "* x < x가 작다\n",
        "* x > x가 크다\n",
        "* x == y 같다\n",
        "* x != y 다르다\n",
        "* x >= y 크거나 같다\n",
        "* x <= y 작거나 같다\n",
        "\n",
        "[논리연산자]\n",
        "2개이상의 조건을 사용하고 싶을때 사용\n",
        "\n",
        "* and\n",
        "* or\n",
        "* not"
      ],
      "metadata": {
        "id": "x-F48Mvk5kh-"
      }
    },
    {
      "cell_type": "markdown",
      "source": [
        "#1.1.1 단일 조건문\n",
        "\n",
        "* 조건이 하나일때 사용하는 조건문"
      ],
      "metadata": {
        "id": "Hj072AYf5n5w"
      }
    },
    {
      "cell_type": "code",
      "source": [
        "# 1.1.1 단일 조건문 예시\n",
        "# if 조건:\n",
        "#   실행할 명령\n",
        "\n",
        "# 예제1. 숫자열 입력할 경우\n",
        "\n",
        "total = 5\n",
        "\n",
        "if total > 0:\n",
        "  print(f'{total} 인이 입장하였습니다.')"
      ],
      "metadata": {
        "id": "i6ZzW2FH5prR"
      },
      "execution_count": null,
      "outputs": []
    },
    {
      "cell_type": "code",
      "source": [
        "# 예제2. 숫자열 입력시 오류\n",
        "\n",
        "total = input('몇명이 들어왔나요?')\n",
        "\n",
        "if total > 0:\n",
        "  print(f'{total} 인이 입장하였습니다.')"
      ],
      "metadata": {
        "id": "z-my6Uqv5qup"
      },
      "execution_count": null,
      "outputs": []
    },
    {
      "cell_type": "code",
      "source": [
        "# 예제3. 문자열 입력할때\n",
        "\n",
        "whether = input(\"오늘 날씨는 어떤가요?\")\n",
        "\n",
        "if whether != \"\":\n",
        "  print(f\"오늘 날씨는 {whether}입니다.\")"
      ],
      "metadata": {
        "id": "_-pUUMKM5qoP"
      },
      "execution_count": null,
      "outputs": []
    },
    {
      "cell_type": "code",
      "source": [
        "# 예제4. 2개 이상 조건일때? and\n",
        "\n",
        "# if 조건1 and 조건2\n",
        "\n",
        "# 1. 오늘 날씨가 어떤가요? \"\"이 아닐때\n",
        "# 2. 오늘 기온이 어떤가요? 0도 이상일때 따뜻합니다.\n",
        "\n",
        "whether1 = input(\"오늘 날씨는 어떤가요?\")\n",
        "whether2 = int(input(\"오늘 기온은 어떤가요?\"))\n",
        "\n",
        "if whether1 != \"\" and whether2 > 0:\n",
        "  print(f\"오늘 날씨는 {whether1}입니다. 오늘 기온은 {whether2}입니다\")\n"
      ],
      "metadata": {
        "id": "oJf5a4kz5qkm"
      },
      "execution_count": null,
      "outputs": []
    },
    {
      "cell_type": "code",
      "source": [
        "# 예제5. if문을 쓸때 헷갈리는 것\n",
        "\n",
        "job = input(\"직업이 있나요?\")\n",
        "\n",
        "if job == \"예\":\n",
        "  print(\"직업이 있습니다.\")"
      ],
      "metadata": {
        "id": "HM0zyw_-5qg3"
      },
      "execution_count": null,
      "outputs": []
    },
    {
      "cell_type": "code",
      "source": [
        "# 연습문제 1\n",
        "# 몇번이 답일까요?\n",
        "\n",
        "1) if (x == 10)\n",
        "    print('10입니다.')\n",
        "2) if x == 10\n",
        "    print('10입니다.')\n",
        "3) if x == 10:\n",
        "    print('10입니다.')\n",
        "4) if x == 10:\n",
        "print('10입니다')\n",
        "5) if x = 10:\n",
        "    print('10입니다')"
      ],
      "metadata": {
        "id": "gVaUHCVs5qdo"
      },
      "execution_count": null,
      "outputs": []
    },
    {
      "cell_type": "markdown",
      "source": [
        "### 1.1.2 다중 조건문 - if else문\n",
        "\n",
        "조건이 2개인 경우에는 보통 if else사용하지만 if elif사용하기도 합니다.\n",
        "\n",
        "[주의]\n",
        "* else사용할때는 누락되는 조건이 없는지 확인해봐야한다."
      ],
      "metadata": {
        "id": "PAkv5WAa50Iv"
      }
    },
    {
      "cell_type": "code",
      "source": [
        "# if 조건1:\n",
        "#   실행 문장 1\n",
        "# else:\n",
        "#   실행 문장 2\n",
        "\n",
        "total = int(input(\"몇명이 들어왔나요?\"))\n",
        "\n",
        "if total > 0:\n",
        "  print(f'{total} 명이 들어왔습니다.')\n",
        "else:\n",
        "  print(\"잘못된 정보를 입력하였습니다.\")"
      ],
      "metadata": {
        "id": "XR-2WK7g5qaW"
      },
      "execution_count": null,
      "outputs": []
    },
    {
      "cell_type": "code",
      "source": [
        "#예제2. 문자열 입력시\n",
        "\n",
        "whether = input(\"오늘 날씨는 어떤가요?\")\n",
        "\n",
        "if whether != \"\":\n",
        "  print(f'오늘 날씨는 {whether} 입니다')\n",
        "else:\n",
        "  print(\"날씨가 입력되지 않았습니다.\")"
      ],
      "metadata": {
        "id": "bxYKNMBU5qXd"
      },
      "execution_count": null,
      "outputs": []
    },
    {
      "cell_type": "code",
      "source": [
        "whether = input(\"오늘 날씨는 어떤가요?\")\n",
        "\n",
        "if whether != \"\":\n",
        "  print(f'오늘 날씨는 {whether} 입니다')"
      ],
      "metadata": {
        "id": "a_sxipUm-mCN"
      },
      "execution_count": null,
      "outputs": []
    },
    {
      "cell_type": "markdown",
      "source": [
        "### 1.1.3 다중 조건문 - if elif else문\n",
        "\n",
        "조건이 3개 이상인 경우 사용이 되고, else대신에 elif 마무리는 else하는 것을 추천"
      ],
      "metadata": {
        "id": "om0pLb5k-nfU"
      }
    },
    {
      "cell_type": "code",
      "source": [
        "# 조건 1 100 이상 조건 2는 50~100사이 \n",
        "\n",
        "# if 조건1:\n",
        "#   실행 문장 1\n",
        "#   문장\n",
        "# elif 조건2:\n",
        "#   실행 문장 2\n",
        "#   문장\n",
        "# else:\n",
        "#   실행 문장 3\n",
        "\n",
        "total = int(input(\"몇명이 들어왔나요?\"))\n",
        "\n",
        "if total > 5:\n",
        "  print(f'{total} 명이 들어왔습니다. 많이 들어왔어요')\n",
        "elif total > 0 and total <= 5:\n",
        "  print(f'{total} 명이 들어왔습니다. 적게 들어왔어요')\n",
        "else:\n",
        "  print(\"잘못된 정보를 입력하였습니다.\")"
      ],
      "metadata": {
        "id": "eaiHV5cy-pAn"
      },
      "execution_count": null,
      "outputs": []
    },
    {
      "cell_type": "code",
      "source": [
        "#예제2. 문자열 입력시\n",
        "\n",
        "whether = input(\"오늘 날씨는 어떤가요?\")\n",
        "\n",
        "if whether == \"맑음\":\n",
        "  print(f'오늘 날씨는 {whether} 입니다 옷을 얇게 입고 가세요')\n",
        "elif whether == \"미세먼지\":\n",
        "  print(f'오늘 날씨는 {whether} 입니다 옷을 얇게 입고 가세요')\n",
        "else:\n",
        "  print(\"날씨가 입력되지 않았습니다.\")"
      ],
      "metadata": {
        "id": "cI0eW53o-q2V"
      },
      "execution_count": null,
      "outputs": []
    },
    {
      "cell_type": "code",
      "source": [
        "#예제3. 코드를 짜다가 생각이 나지 않아서.. \n",
        "\n",
        "# 코드\n",
        "\n",
        "# 역할 무언가있다 \n",
        "number = 0\n",
        "\n",
        "if number > 0:\n",
        "  pass\n",
        "else:\n",
        "  pass\n",
        "\n",
        "# 코드"
      ],
      "metadata": {
        "id": "cDr0NAal-qyq"
      },
      "execution_count": null,
      "outputs": []
    },
    {
      "cell_type": "code",
      "source": [
        "number = 0\n",
        "\n",
        "if number > 0:\n",
        "  raise NotImplementedError\n",
        "else:\n",
        "  raise NotImplementedError"
      ],
      "metadata": {
        "id": "71-cccyw-uqy"
      },
      "execution_count": null,
      "outputs": []
    },
    {
      "cell_type": "markdown",
      "source": [
        "### 1.1.4 삼항 연산자\n",
        "\n",
        "[사용방법]\n",
        "* 참일때의 값 / if / 조건식 / else / 거짓일때 값\n",
        "* 변수로 바로 할당할 수 있음 "
      ],
      "metadata": {
        "id": "m0n7M6y9Azvs"
      }
    },
    {
      "cell_type": "code",
      "source": [
        "# 삼항 연산자 예시\n",
        "\n",
        "age = 21\n",
        "\n",
        "# 참일때의 값 / if / 조건식 / else / 거짓일때 값\n",
        "is_adult = \"성인입니다.\" if age > 20 else \"미성년자입니다.\"\n",
        "\n",
        "print(is_adult)"
      ],
      "metadata": {
        "id": "wXCEEyDfA3wf"
      },
      "execution_count": null,
      "outputs": []
    },
    {
      "cell_type": "markdown",
      "source": [
        "#1.1.5 중첩 조건문\n",
        "\n",
        "* if안에 또 다른 if를 넣어서 다양한 Case를 만족 시키는 방법"
      ],
      "metadata": {
        "id": "Ysfl11wnDQz8"
      }
    },
    {
      "cell_type": "code",
      "source": [
        "# 중첩 조건문 예시\n",
        "\n",
        "apple = input(\"사과의 상태를 입력하세요(좋음, 나쁨)\")\n",
        "\n",
        "if apple == \"좋음\":\n",
        "  appleprice = int(input(\"사과 한개당 가격 입력\"))\n",
        "  if appleprice < 1000:\n",
        "    print(\"10개를 산다.\")\n",
        "    print(f\"사과 가격은 {appleprice * 10} 원 입니다.\")\n",
        "  else:\n",
        "    print(\"5개를 산다\")\n",
        "    print(f\"사과 가격은 {appleprice * 5}원 입니다.\")\n",
        "else:\n",
        "  print(\"사과를 안산다\")"
      ],
      "metadata": {
        "id": "oLK6d4gbDS-d"
      },
      "execution_count": null,
      "outputs": []
    },
    {
      "cell_type": "code",
      "source": [
        "# (True False)\n",
        "# True = 1 False 0\n",
        "\n",
        "if 0:\n",
        "  print(\"0은 True로 변환합니다.\")\n",
        "else:\n",
        "  print(\"0은 False로 변환합니다.\")"
      ],
      "metadata": {
        "id": "VsQAIMs2Dfut"
      },
      "execution_count": null,
      "outputs": []
    },
    {
      "cell_type": "code",
      "source": [
        "if \"\":\n",
        "  print(\"0은 True로 변환합니다.\")\n",
        "else:\n",
        "  print(\"0은 False로 변환합니다.\")"
      ],
      "metadata": {
        "id": "96hQ0hHaDi9h"
      },
      "execution_count": null,
      "outputs": []
    },
    {
      "cell_type": "code",
      "source": [
        "# 조건문 문제 1. 맞는 것을 선택해주세요\n",
        "\n",
        "# 1. 하나의 조건문에서 if는 한번만 사용할 수 있다.\n",
        "# 2. 하나의 조건문에서 elif는 여러번 사용할 수 있다.    # 정답\n",
        "# 3. else문은 모든 조건을 만족하지 않을때 사용된다.     # 정답\n",
        "# 4. else문은 생략할 수 없다."
      ],
      "metadata": {
        "id": "Xeq1CD2kDwmn"
      },
      "execution_count": null,
      "outputs": []
    },
    {
      "cell_type": "code",
      "source": [
        "# 조건문 문제 2. 어떤게 답일지 적어주세요.\n",
        "if 4 == '4':\n",
        "  print(True)\n",
        "else:\n",
        "  print(False)\n",
        "\n",
        "# A. True\n",
        "# B. False                # 정답답\n",
        "# C. SyntaxError\n",
        "# D. ValueError\n",
        "# E. None"
      ],
      "metadata": {
        "colab": {
          "base_uri": "https://localhost:8080/"
        },
        "id": "V7n_sqVGD6aK",
        "outputId": "d09f23fb-b85e-4f4a-a7c7-4dac739988e3"
      },
      "execution_count": 1,
      "outputs": [
        {
          "output_type": "stream",
          "name": "stdout",
          "text": [
            "False\n"
          ]
        }
      ]
    },
    {
      "cell_type": "code",
      "source": [
        "#  테킷 숙소에는 객실당 4인에 10만원을 내야하고,\n",
        "# 1인이 추가 될때마다 추가비용이 발생되는데 실행결과로 올바른것은?\n",
        "\n",
        "total = 2 # 총인원\n",
        "if total <= 4:\n",
        "  print(\"숙소비용 10만원\")\n",
        "else:\n",
        "  print(\"추가 비용 발생\")\n",
        "print(\"이용해 주셔서 감사합니다.\")\n",
        "\n",
        "# 1. 숙소비용 10만원\n",
        "#    추가비용 발생\n",
        "#    이용해 주셔서 감사합니다.\n",
        "\n",
        "# 2. 추가 비용 발생\n",
        "#    이용해주셔서 감사합니다. \n",
        "\n",
        "# 3. 추가 비용 발생\n",
        "#     \n",
        "\n",
        "# 4. 숙소비용 10만원                # 정답\n",
        "#    이용해주셔서 감사합니다.   "
      ],
      "metadata": {
        "id": "62WYJju2EsjW"
      },
      "execution_count": null,
      "outputs": []
    },
    {
      "cell_type": "code",
      "source": [
        "#문제 4. 다음 코드의 실행결과로 맞는 것은?\n",
        "# 입력된 나이에 따라 학교를 구분하는 함수\n",
        "# 나이로 7을 입력했을때의 결과는?\n",
        "\n",
        "year = input('나이를 입력하세요')\n",
        "\n",
        "if 1 <= year <= 7:\n",
        "  print(\"미취학 아동입니다.\")\n",
        "elif 8 <= year <= 13:\n",
        "  print(\"초등학생입니다.\")\n",
        "elif 14 <= year <= 16:\n",
        "  print(\"중학생입니다.\")\n",
        "elif 17 <= year <= 19:\n",
        "  print(\"고등학생입니다.\")\n",
        "elif 20 <= year <= 26:\n",
        "  print(\"대학생입니다.\")\n",
        "else:\n",
        "  print(\"정수를 입력해주세요\")\n",
        "\n",
        "# 1. 정수를 입력해주세요\n",
        "# 2. 대학생입니다.\n",
        "# 3. 중학생입니다.\n",
        "# 4. 미취학 아동입니다.\n",
        "# 5. error 발생             # 정답  int(input('나이를 입력하세요')) 으로 입력해야 정수로 받음음"
      ],
      "metadata": {
        "colab": {
          "base_uri": "https://localhost:8080/",
          "height": 266
        },
        "id": "fAni-VUwFCaE",
        "outputId": "82650e1f-e4e1-4060-91d9-39e51d2fc317"
      },
      "execution_count": 6,
      "outputs": [
        {
          "name": "stdout",
          "output_type": "stream",
          "text": [
            "나이를 입력하세요a\n"
          ]
        },
        {
          "output_type": "error",
          "ename": "TypeError",
          "evalue": "ignored",
          "traceback": [
            "\u001b[0;31m---------------------------------------------------------------------------\u001b[0m",
            "\u001b[0;31mTypeError\u001b[0m                                 Traceback (most recent call last)",
            "\u001b[0;32m<ipython-input-6-f0e63d4b58de>\u001b[0m in \u001b[0;36m<cell line: 7>\u001b[0;34m()\u001b[0m\n\u001b[1;32m      5\u001b[0m \u001b[0myear\u001b[0m \u001b[0;34m=\u001b[0m \u001b[0minput\u001b[0m\u001b[0;34m(\u001b[0m\u001b[0;34m'나이를 입력하세요'\u001b[0m\u001b[0;34m)\u001b[0m\u001b[0;34m\u001b[0m\u001b[0;34m\u001b[0m\u001b[0m\n\u001b[1;32m      6\u001b[0m \u001b[0;34m\u001b[0m\u001b[0m\n\u001b[0;32m----> 7\u001b[0;31m \u001b[0;32mif\u001b[0m \u001b[0;36m1\u001b[0m \u001b[0;34m<=\u001b[0m \u001b[0myear\u001b[0m \u001b[0;34m<=\u001b[0m \u001b[0;36m7\u001b[0m\u001b[0;34m:\u001b[0m\u001b[0;34m\u001b[0m\u001b[0;34m\u001b[0m\u001b[0m\n\u001b[0m\u001b[1;32m      8\u001b[0m   \u001b[0mprint\u001b[0m\u001b[0;34m(\u001b[0m\u001b[0;34m\"미취학 아동입니다.\"\u001b[0m\u001b[0;34m)\u001b[0m\u001b[0;34m\u001b[0m\u001b[0;34m\u001b[0m\u001b[0m\n\u001b[1;32m      9\u001b[0m \u001b[0;32melif\u001b[0m \u001b[0;36m8\u001b[0m \u001b[0;34m<=\u001b[0m \u001b[0myear\u001b[0m \u001b[0;34m<=\u001b[0m \u001b[0;36m13\u001b[0m\u001b[0;34m:\u001b[0m\u001b[0;34m\u001b[0m\u001b[0;34m\u001b[0m\u001b[0m\n",
            "\u001b[0;31mTypeError\u001b[0m: '<=' not supported between instances of 'int' and 'str'"
          ]
        }
      ]
    },
    {
      "cell_type": "code",
      "source": [
        "# 문제 6번. 입력값과 결과값이 동일하게 나오려면 어떤 값을 입력해야 할까요?\n",
        "\n",
        "x = int(input())\n",
        "if 15 < x < 20:\n",
        "  print(x + 3)\n",
        "elif 21 < x < 30:\n",
        "  print(x - 5)\n",
        "else:\n",
        "  print(f'{x}입니다.')\n",
        "\n",
        "# 1. 26\n",
        "# 2. 17\n",
        "# 3. 10\n",
        "# 4. 20\n",
        "# 5. 30"
      ],
      "metadata": {
        "id": "ffyPt7nFHsmE"
      },
      "execution_count": null,
      "outputs": []
    },
    {
      "cell_type": "code",
      "source": [
        "# 문제 7번. 다음과 같이 코드를 작성했을때, 실행결과로 알맞은 것은?\n",
        "\n",
        "my_list = ['i','like','to','study','python']\n",
        "new_list = []\n",
        "\n",
        "i = len(my_list)\n",
        "if i == 5:\n",
        "  new_list.append(my_list[::2])\n",
        "print(new_list)\n",
        "\n",
        "# 1. [['i','to','python']]\n",
        "# 2. [['like','study']]\n",
        "# 3. ['i','to','python']\n",
        "# 4. ['like','study']\n",
        "# 5. ['i','like']\n",
        "# 6. [['i', 'like']]\n",
        "# 7. None\n",
        "print(my_list[::2])\n"
      ],
      "metadata": {
        "colab": {
          "base_uri": "https://localhost:8080/"
        },
        "id": "EBiDJjlsHv4U",
        "outputId": "67d8e5aa-aea4-46cb-e508-e94d837a1ff8"
      },
      "execution_count": 12,
      "outputs": [
        {
          "output_type": "stream",
          "name": "stdout",
          "text": [
            "[['i', 'to', 'python']]\n",
            "['i', 'to', 'python']\n"
          ]
        }
      ]
    },
    {
      "cell_type": "code",
      "source": [
        "# 문제 8번. 다음과 같이 코드를 작성했을때, 실행결과로 알맞은 것은?\n",
        "\n",
        "my_list = ['i','like','to','study','python']\n",
        "new_list = []\n",
        "\n",
        "i = len(my_list)\n",
        "if i == 5:\n",
        "  new_list.append(my_list[0:2])\n",
        "print(new_list)\n",
        "\n",
        "# 1. [['i','to','python']]\n",
        "# 2. [['like','study']]\n",
        "# 3. ['i','to','python']\n",
        "# 4. ['like','study']\n",
        "# 5. ['i','like']\n",
        "# 6. [['i', 'like']]\n",
        "# 7. None"
      ],
      "metadata": {
        "colab": {
          "base_uri": "https://localhost:8080/"
        },
        "id": "DHHP-igVI-3K",
        "outputId": "466d946a-4e11-4eae-e895-3e09030e7336"
      },
      "execution_count": 13,
      "outputs": [
        {
          "output_type": "stream",
          "name": "stdout",
          "text": [
            "['i', 'like']\n"
          ]
        }
      ]
    },
    {
      "cell_type": "code",
      "source": [
        "# 문제 8번. 다음과 같이 코드를 작성했을때, 실행결과로 알맞은 것은?\n",
        "\n",
        "my_list = ['i','like','to','study','python']\n",
        "new_list = []\n",
        "\n",
        "i = len(my_list)\n",
        "if i == 5:\n",
        "  new_list.extend(my_list[::2])\n",
        "print(new_list)\n",
        "\n",
        "# 1. [['i','to','python']]\n",
        "# 2. [['like','study']]\n",
        "# 3. ['i','to','python']\n",
        "# 4. ['like','study']\n",
        "# 5. ['i','like']\n",
        "# 6. [['i', 'like']]\n",
        "# 7. None"
      ],
      "metadata": {
        "colab": {
          "base_uri": "https://localhost:8080/"
        },
        "id": "EX1zfjoiI_dh",
        "outputId": "38bb48b8-5478-42a5-c0a1-02d0eb1c7cc0"
      },
      "execution_count": 14,
      "outputs": [
        {
          "output_type": "stream",
          "name": "stdout",
          "text": [
            "['i', 'to', 'python']\n"
          ]
        }
      ]
    },
    {
      "cell_type": "markdown",
      "source": [
        "# 실습 문제 풀어보기"
      ],
      "metadata": {
        "id": "7gIK_dI9M_2P"
      }
    },
    {
      "cell_type": "code",
      "source": [
        "문제 1. 대학교 학점은 다음과 같이 되어있음\n",
        "\n",
        "* A - 90점 이상 \n",
        "* B - 80점 이상\n",
        "* C - 60점 이상\n",
        "* D - 40졈 이상\n",
        "* F - 40점 이하 \n",
        "* 결석이 3번인 경우 무조건 F\n",
        "\n",
        "중첩 조건문 또는 연산자를 활용하여 if문을 작성해보세요"
      ],
      "metadata": {
        "id": "TEV2qdylNBTS"
      },
      "execution_count": null,
      "outputs": []
    },
    {
      "cell_type": "code",
      "source": [
        "score = int(input())\n",
        "abc = int(input())\n",
        "if score >= 90 and abc <3:\n",
        "  print(f\"학점은 A입니다.\")\n",
        "elif score >=80 and abc <3:\n",
        "  print(f\"학점은 B입니다.\")\n",
        "elif score >=60 and abc <3:\n",
        "  print(f\"학점은 C입니다.\")\n",
        "elif score >=40 and abc <3:\n",
        "  print(f\"학점은 D입니다.\")\n",
        "elif score <40 and abc <3:\n",
        "  print(f\"학점은 F입니다.\")\n",
        "elif abc >=3 and abc <3:\n",
        "  print(f\"학점은 F입니다.\")\n",
        "else:\n",
        "  print(\"F\")\n"
      ],
      "metadata": {
        "colab": {
          "base_uri": "https://localhost:8080/"
        },
        "id": "bYS0yDxPNDO6",
        "outputId": "f7e2bb9e-f5d5-44d7-dea1-e9b17e366aec"
      },
      "execution_count": 23,
      "outputs": [
        {
          "output_type": "stream",
          "name": "stdout",
          "text": [
            "80\n",
            "3\n",
            "F\n"
          ]
        }
      ]
    },
    {
      "cell_type": "markdown",
      "source": [
        "문제 2. 숫자를 입력했을때 짝수와 홀수를 구분하는 if문을 작성해주세요"
      ],
      "metadata": {
        "id": "8xXbk2PDO5ge"
      }
    },
    {
      "cell_type": "code",
      "source": [
        "# 1) 짝수와 홀수를 어떻게 구분할것인가?\n",
        "# 2) 숫자로 input을 받아야한다.\n",
        "# 3) 출력은 어떻게 할것인가?\n",
        "\n",
        "# 문자열\n",
        "number = input('정수 입력')\n",
        "\n",
        "# 문자열에서 뒤에서 1개를 가져와서\n",
        "last_character = number[-1]\n",
        "\n",
        "# 정수화 시킨다.\n",
        "last_number = int(last_character)\n",
        "\n",
        "# 0 ~ 9 숫자만이 last_number\n",
        "\n",
        "# 짝수 확인\n",
        "if last_number == 0 or last_number == 2 or last_number == 4 or last_number == 6 or last_number == 8:\n",
        "  print(\"짝수입니다.\")\n",
        "\n",
        "if last_number == 1 or last_number == 3 or last_number == 5 or last_number == 7 or last_number == 9:\n",
        "  print(\"홀수입니다.\")"
      ],
      "metadata": {
        "colab": {
          "base_uri": "https://localhost:8080/"
        },
        "id": "dA1WTNFwO7Dy",
        "outputId": "a3245b07-9e1d-435f-af8d-62033dc69dcf"
      },
      "execution_count": 38,
      "outputs": [
        {
          "output_type": "stream",
          "name": "stdout",
          "text": [
            "0보다 큰수를 입력10\n",
            "짝수입니다.\n"
          ]
        }
      ]
    },
    {
      "cell_type": "code",
      "source": [
        "number = input(\"정수 입력 > \")\n",
        "last_character = number[-1]\n",
        "\n",
        "# 짝수 조건\n",
        "if last_character in \"02468\":\n",
        "    print(\"짝수입니다\")\n",
        "    \n",
        "# 홀수 조건\n",
        "if last_character in \"13579\":\n",
        "    print(\"홀수입니다.\")"
      ],
      "metadata": {
        "id": "RuOWmbyES2fA"
      },
      "execution_count": null,
      "outputs": []
    },
    {
      "cell_type": "code",
      "source": [
        "number = input(\"정수 입력 > \")\n",
        "number = int(number)\n",
        "\n",
        "# 짝수 조건\n",
        "if number % 2 == 0 :\n",
        "    print(\"짝수입니다\")\n",
        "    \n",
        "# 홀수 조건\n",
        "if number % 2 == 1 :\n",
        "    print(\"홀수입니다\")"
      ],
      "metadata": {
        "id": "gEQJ_gjXS5A8"
      },
      "execution_count": null,
      "outputs": []
    },
    {
      "cell_type": "code",
      "source": [
        "# 문제 3.\n",
        "\n",
        "\n",
        "### money에는 현재 돈이 얼마 있는지 input으로 받고\n",
        "# 커피는 600원 1000원 1500원 세가지가 있습니다.\n",
        "# 거스름돈을 계산하고 만약에 돈이 부족하면 메세지를 띄워주세요"
      ],
      "metadata": {
        "id": "4SQ_QNQnS8Uj"
      },
      "execution_count": null,
      "outputs": []
    },
    {
      "cell_type": "code",
      "source": [
        "money = int(input(\"잔액:\"))\n",
        "if money >= 1500:\n",
        "  print(f\"1500원 커피를 마셨다. 남은잔액: {money-1500}\")\n",
        "elif money >= 900:\n",
        "  print(f\"900원 커피를 마셨다. 남은잔액: {money-900}\")\n",
        "elif money >= 600:\n",
        "  print(f\"600원 커피를 마셨다. 남은잔액은 {money-600}\")\n",
        "else:\n",
        "  print(f\"못마셨다\")"
      ],
      "metadata": {
        "colab": {
          "base_uri": "https://localhost:8080/"
        },
        "id": "nOYRiu6-S_YC",
        "outputId": "19095e25-7e38-497a-8040-50f6f35a94b0"
      },
      "execution_count": 51,
      "outputs": [
        {
          "output_type": "stream",
          "name": "stdout",
          "text": [
            "잔액:500\n",
            "못마셨다\n"
          ]
        }
      ]
    },
    {
      "cell_type": "code",
      "source": [
        "print(\"My coffee에 오신것을 환영합니다.\")\n",
        "\n",
        "money = int(input(\"현재 지갑에는 얼마가 있니?\"))\n",
        "\n",
        "print(\"커피를 고르세요\")\n",
        "\n",
        "choice = int(input('[1] 에스프레스 600원, [2] 아메리카노 1000원, [3] 라떼 1500원'))\n",
        "\n",
        "if choice == 1:\n",
        "  price = 600\n",
        "elif choice == 2:\n",
        "  price = 1000\n",
        "elif choice == 3:\n",
        "  price = 1500\n",
        "else:\n",
        "  price = 0\n",
        "\n",
        "if money >= price:\n",
        "  print(f\"거스름돈은 {money - price} 입니다.\")\n",
        "else:\n",
        "  print('돈이 부족합니다.')"
      ],
      "metadata": {
        "id": "5AR25HoSV0Ix"
      },
      "execution_count": null,
      "outputs": []
    },
    {
      "cell_type": "markdown",
      "source": [
        "문제 4. 태어난 연도를 입력받아 생애주기 받기\n",
        "2023년 6월 28일 부터 만나이로 변경이 되면서 나이에 혼선이 생기고 있는 가운데\n",
        "정부 연령기준에 맞춰 자신이 어떤 나이대 인지 찾아보자\n",
        "\n",
        "https://www.gosims.go.kr/hh/hh001/retrieveLfcySearch.do\n",
        "\n",
        "* 정부기준으로 영유아는 0~5 / 아동은 6~12 / 청소년 13~18 / 청년 19~29 / 중년 30~49 / 장년 50~64 / 노년 65세 이상 / 연령대 무관으로 나눈다.\n",
        "* 태어난 연도를 입력 받는다.\n",
        "* 만나이 적용 날짜를 산출한다.\n",
        "* if문을 통해 어떤 종류의 생애주기 인지를 출력한다.\n",
        "* 만나이를 계산하고, 만나이 기준 생애주기를 출력하세요"
      ],
      "metadata": {
        "id": "WLvXVJtfn5jg"
      }
    },
    {
      "cell_type": "code",
      "source": [
        "import datetime\n",
        "from datetime import timedelta, timezone\n",
        "\n",
        "year = int(input(\"태어난 연도를 입력하세요\"))\n",
        "month = int(input(\"태어난 월을 입력하세요\"))\n",
        "day = int(input(\"태어난 일을 입력하세요\"))\n",
        "\n",
        "birthday = datetime.date(year, month, day)\n",
        "\n",
        "# 현재 날짜\n",
        "# today = datetime.date.today()\n",
        "\n",
        "# 만 나이 적용일자\n",
        "#datetime.date(2023, 6, 28)\n",
        "d_day = datetime.date(2023, 6, 28)\n",
        "\n",
        "# 만나이 계산\n",
        "\n",
        "age = d_day.year - birthday.year -((d_day.month, d_day.day) < (birthday.month, birthday.day))  # 생일 지났는지 비교교\n",
        "\n",
        "# 결과 출력\n",
        "print(\"당신의 만 나이는\", age, \"살입니다.\")\n",
        "\n",
        "if age >= 0 and age <= 5:\n",
        "  print(f\"2023년 6월 28일 기준 만 나이는 {age} 살 이므로 영유아 입니다.\")\n",
        "elif age >= 6 and age <= 12:\n",
        "  print(f\"2023년 6월 28일 기준 만 나이는 {age} 살 이므로 아동 입니다.\")\n",
        "elif age >= 13 and age <= 18:\n",
        "  print(f\"2023년 6월 28일 기준 만 나이는 {age} 살 이므로 청소년 입니다.\")\n",
        "elif age >= 19 and age <= 29:\n",
        "  print(f\"2023년 6월 28일 기준 만 나이는 {age} 살 이므로 청년 입니다.\")\n",
        "elif age >= 30 and age <= 49:\n",
        "  print(f\"2023년 6월 28일 기준 만 나이는 {age} 살 이므로 중년 입니다.\")\n",
        "elif age >= 50 and age <= 64:\n",
        "  print(f\"2023년 6월 28일 기준 만 나이는 {age} 살 이므로 장년 입니다.\")\n",
        "elif age >= 65:\n",
        "  print(f\"2023년 6월 28일 기준 만 나이는 {age} 살 이므로 노년 입니다.\")  \n",
        "else:\n",
        "  print(f\"연령대가 제대로 입력이 되지 않아 연령대 무관으로 분류됩니다.\")  \n"
      ],
      "metadata": {
        "id": "JEWQmlfErPxm"
      },
      "execution_count": null,
      "outputs": []
    }
  ]
}