{
  "nbformat": 4,
  "nbformat_minor": 0,
  "metadata": {
    "colab": {
      "provenance": []
    },
    "kernelspec": {
      "name": "python3",
      "display_name": "Python 3"
    },
    "language_info": {
      "name": "python"
    }
  },
  "cells": [
    {
      "cell_type": "markdown",
      "source": [
        "# 1. 데이터\n",
        "\n",
        "통계분석은 데이터를 다루는 것으로부터 시작하고 그 데이터에서 의미를 찾는 것입니다.\n",
        "\n",
        "다음은 학생번호와 성적에 대한 데이터를 임의로 만들었습니다."
      ],
      "metadata": {
        "id": "PSpWXZSjJAgB"
      }
    },
    {
      "cell_type": "code",
      "source": [
        "import random\n",
        "import pandas as pd\n",
        "\n",
        "# 학생 데이터 생성\n",
        "def generate_student_data(num_students):\n",
        "    student_data = []\n",
        "    for i in range(1, num_students+1):\n",
        "        student_number = f'{i:03}'  # 학생번호 생성 (예: 001, 002, ...)\n",
        "        grade = random.randint(1, 3)  # 학년 랜덤 생성 (1~3 중 선택)\n",
        "        english_score = random.randint(60, 100)  # 영어 점수 랜덤 생성 (60~100 사이)\n",
        "        korean_score = random.randint(60, 100)  # 국어 점수 랜덤 생성 (60~100 사이)\n",
        "        math_score = random.randint(60, 100)  # 수학 점수 랜덤 생성 (60~100 사이)\n",
        "        total_score = english_score + korean_score + math_score  # 전체 성적 계산\n",
        "\n",
        "        student_data.append([\n",
        "            student_number,\n",
        "            grade,\n",
        "            english_score,\n",
        "            korean_score,\n",
        "            math_score,\n",
        "            total_score\n",
        "        ])\n",
        "\n",
        "    # 전체 성적에 따라 순위 매기기\n",
        "    student_data = sorted(student_data, key=lambda x: x[5], reverse=True)\n",
        "    for i, student in enumerate(student_data):\n",
        "        student.append(i + 1)\n",
        "\n",
        "    return student_data\n",
        "\n",
        "# 10명의 학생 데이터 생성\n",
        "students = generate_student_data(10)\n",
        "\n",
        "# 데이터프레임 생성\n",
        "df = pd.DataFrame(students, columns=['학생번호', '학년', '영어', '국어', '수학', '전체성적', '전체성적순위'])\n",
        "\n",
        "# 생성된 데이터프레임 출력\n",
        "print(df)"
      ],
      "metadata": {
        "colab": {
          "base_uri": "https://localhost:8080/"
        },
        "id": "88uthREXJFCJ",
        "outputId": "6c52abe9-6f6c-40b9-8f9e-27d31660a962"
      },
      "execution_count": 14,
      "outputs": [
        {
          "output_type": "stream",
          "name": "stdout",
          "text": [
            "  학생번호  학년  영어  국어   수학  전체성적  전체성적순위\n",
            "0  007   1  92  81   94   267       1\n",
            "1  010   2  88  83   81   252       2\n",
            "2  003   1  88  73   86   247       3\n",
            "3  002   2  92  90   62   244       4\n",
            "4  001   1  73  96   70   239       5\n",
            "5  009   2  75  63  100   238       6\n",
            "6  004   2  66  71   93   230       7\n",
            "7  005   3  84  71   74   229       8\n",
            "8  008   1  86  80   63   229       9\n",
            "9  006   1  72  68   72   212      10\n"
          ]
        }
      ]
    },
    {
      "cell_type": "markdown",
      "source": [
        "우리가 앞으로 볼 데이터 형식은 다음과 같이 데이터프레임형식이 대부분일 것이고, 이를 통해 데이터 분석을 시작할 확률이 높습니다."
      ],
      "metadata": {
        "id": "0UIi7IcXKdg3"
      }
    },
    {
      "cell_type": "code",
      "source": [
        "# 영어 성적에 대해 출력\n",
        "\n",
        "df['영어']"
      ],
      "metadata": {
        "colab": {
          "base_uri": "https://localhost:8080/"
        },
        "id": "Sp7ihHqRJrXR",
        "outputId": "46877f76-9549-4374-b341-d9022fd6a633"
      },
      "execution_count": 15,
      "outputs": [
        {
          "output_type": "execute_result",
          "data": {
            "text/plain": [
              "0    92\n",
              "1    88\n",
              "2    88\n",
              "3    92\n",
              "4    73\n",
              "5    75\n",
              "6    66\n",
              "7    84\n",
              "8    86\n",
              "9    72\n",
              "Name: 영어, dtype: int64"
            ]
          },
          "metadata": {},
          "execution_count": 15
        }
      ]
    },
    {
      "cell_type": "code",
      "source": [
        "# DataFrame은 2차원 Series는 1차원의 데이터 구조입니다.\n",
        "# 가끔 데이터 구조로 인해 분석시 오류가 나는 경우가 있는데 이러한 데이터 구조를 잘 파악해야합니다."
      ],
      "metadata": {
        "id": "xU98gHf_Kn_o"
      },
      "execution_count": 16,
      "outputs": []
    },
    {
      "cell_type": "markdown",
      "source": [
        "## 1.1 데이터의 크기\n",
        "\n",
        "우리는 데이터를 처음 받을 때 데이터의 크기를 짐작해봐야합니다. 데이터의 크기를 살펴보지 않고 무턱대고 실행시키거나 분석을 들어가면 다음과 같은 오류에 빠질 수 있습니다.\n",
        "\n",
        "* 데이터의 크기가 커서 컴퓨터나 시스템 다운\n",
        "* 분석을 처음했을때와 마지막 했을때의 데이터의 수가 다름\n",
        "* 내가 필요한 변수나 자료가 없는 상태로 분석 진행\n",
        "\n",
        "이러한 것을 방지하기 위해 우리는 처음에 데이터 크기를 살펴보는 연습을 해야합니다."
      ],
      "metadata": {
        "id": "gEtV3ICTK4hF"
      }
    },
    {
      "cell_type": "code",
      "source": [
        "# 데이터의 크기 shape\n",
        "df.shape"
      ],
      "metadata": {
        "colab": {
          "base_uri": "https://localhost:8080/"
        },
        "id": "AKXhDYZiK38S",
        "outputId": "c571d781-7bf6-4202-c130-c0517ce2be4a"
      },
      "execution_count": 17,
      "outputs": [
        {
          "output_type": "execute_result",
          "data": {
            "text/plain": [
              "(10, 7)"
            ]
          },
          "metadata": {},
          "execution_count": 17
        }
      ]
    },
    {
      "cell_type": "markdown",
      "source": [
        "일반적으로 shape는 두가지 수를 출력하며, 첫번째는 데이터에 대한 수이고, 두번째는 변수에 대한 수입니다. 즉 10개의 데이터와 7개의 변수가 있다는 것을 알 수 있습니다."
      ],
      "metadata": {
        "id": "KvmyUO4aLcxk"
      }
    },
    {
      "cell_type": "markdown",
      "source": [
        "##1.2 데이터 중심 지표\n",
        "\n",
        "데이터의 특징을 파악하는데는 두가지 방법이 있습니다.\n",
        "* 하나는 평균과 분산등의 수치 지표에 따라 데이터를 요약하는 방법\n",
        "* 하나는 그림을 그려 시각화 하는 방법\n",
        "\n",
        "우리는 이미 앞서 pandas와 numpy를 배웠지만 통계분석시 어떤식으로 데이터를 바라봐야할지 복습하는 마음으로 살펴봅시다."
      ],
      "metadata": {
        "id": "HSxKTW6KLq8o"
      }
    },
    {
      "cell_type": "code",
      "source": [
        "import numpy as np\n",
        "import pandas as pd"
      ],
      "metadata": {
        "id": "L9dx8k-SK7vI"
      },
      "execution_count": 18,
      "outputs": []
    },
    {
      "cell_type": "code",
      "source": [
        "# 우리는 head를 통해 상위 5개의 자료가 어떻게 구성되었는지를 볼 수 있습니다.\n",
        "df.head()"
      ],
      "metadata": {
        "colab": {
          "base_uri": "https://localhost:8080/",
          "height": 206
        },
        "id": "nEt5SHFkMRDp",
        "outputId": "fe17bde1-f15f-4430-e220-e78ada5d6553"
      },
      "execution_count": 19,
      "outputs": [
        {
          "output_type": "execute_result",
          "data": {
            "text/plain": [
              "  학생번호  학년  영어  국어  수학  전체성적  전체성적순위\n",
              "0  007   1  92  81  94   267       1\n",
              "1  010   2  88  83  81   252       2\n",
              "2  003   1  88  73  86   247       3\n",
              "3  002   2  92  90  62   244       4\n",
              "4  001   1  73  96  70   239       5"
            ],
            "text/html": [
              "\n",
              "  <div id=\"df-ebb51a1c-d896-443b-8600-f3435788be61\">\n",
              "    <div class=\"colab-df-container\">\n",
              "      <div>\n",
              "<style scoped>\n",
              "    .dataframe tbody tr th:only-of-type {\n",
              "        vertical-align: middle;\n",
              "    }\n",
              "\n",
              "    .dataframe tbody tr th {\n",
              "        vertical-align: top;\n",
              "    }\n",
              "\n",
              "    .dataframe thead th {\n",
              "        text-align: right;\n",
              "    }\n",
              "</style>\n",
              "<table border=\"1\" class=\"dataframe\">\n",
              "  <thead>\n",
              "    <tr style=\"text-align: right;\">\n",
              "      <th></th>\n",
              "      <th>학생번호</th>\n",
              "      <th>학년</th>\n",
              "      <th>영어</th>\n",
              "      <th>국어</th>\n",
              "      <th>수학</th>\n",
              "      <th>전체성적</th>\n",
              "      <th>전체성적순위</th>\n",
              "    </tr>\n",
              "  </thead>\n",
              "  <tbody>\n",
              "    <tr>\n",
              "      <th>0</th>\n",
              "      <td>007</td>\n",
              "      <td>1</td>\n",
              "      <td>92</td>\n",
              "      <td>81</td>\n",
              "      <td>94</td>\n",
              "      <td>267</td>\n",
              "      <td>1</td>\n",
              "    </tr>\n",
              "    <tr>\n",
              "      <th>1</th>\n",
              "      <td>010</td>\n",
              "      <td>2</td>\n",
              "      <td>88</td>\n",
              "      <td>83</td>\n",
              "      <td>81</td>\n",
              "      <td>252</td>\n",
              "      <td>2</td>\n",
              "    </tr>\n",
              "    <tr>\n",
              "      <th>2</th>\n",
              "      <td>003</td>\n",
              "      <td>1</td>\n",
              "      <td>88</td>\n",
              "      <td>73</td>\n",
              "      <td>86</td>\n",
              "      <td>247</td>\n",
              "      <td>3</td>\n",
              "    </tr>\n",
              "    <tr>\n",
              "      <th>3</th>\n",
              "      <td>002</td>\n",
              "      <td>2</td>\n",
              "      <td>92</td>\n",
              "      <td>90</td>\n",
              "      <td>62</td>\n",
              "      <td>244</td>\n",
              "      <td>4</td>\n",
              "    </tr>\n",
              "    <tr>\n",
              "      <th>4</th>\n",
              "      <td>001</td>\n",
              "      <td>1</td>\n",
              "      <td>73</td>\n",
              "      <td>96</td>\n",
              "      <td>70</td>\n",
              "      <td>239</td>\n",
              "      <td>5</td>\n",
              "    </tr>\n",
              "  </tbody>\n",
              "</table>\n",
              "</div>\n",
              "      <button class=\"colab-df-convert\" onclick=\"convertToInteractive('df-ebb51a1c-d896-443b-8600-f3435788be61')\"\n",
              "              title=\"Convert this dataframe to an interactive table.\"\n",
              "              style=\"display:none;\">\n",
              "        \n",
              "  <svg xmlns=\"http://www.w3.org/2000/svg\" height=\"24px\"viewBox=\"0 0 24 24\"\n",
              "       width=\"24px\">\n",
              "    <path d=\"M0 0h24v24H0V0z\" fill=\"none\"/>\n",
              "    <path d=\"M18.56 5.44l.94 2.06.94-2.06 2.06-.94-2.06-.94-.94-2.06-.94 2.06-2.06.94zm-11 1L8.5 8.5l.94-2.06 2.06-.94-2.06-.94L8.5 2.5l-.94 2.06-2.06.94zm10 10l.94 2.06.94-2.06 2.06-.94-2.06-.94-.94-2.06-.94 2.06-2.06.94z\"/><path d=\"M17.41 7.96l-1.37-1.37c-.4-.4-.92-.59-1.43-.59-.52 0-1.04.2-1.43.59L10.3 9.45l-7.72 7.72c-.78.78-.78 2.05 0 2.83L4 21.41c.39.39.9.59 1.41.59.51 0 1.02-.2 1.41-.59l7.78-7.78 2.81-2.81c.8-.78.8-2.07 0-2.86zM5.41 20L4 18.59l7.72-7.72 1.47 1.35L5.41 20z\"/>\n",
              "  </svg>\n",
              "      </button>\n",
              "      \n",
              "  <style>\n",
              "    .colab-df-container {\n",
              "      display:flex;\n",
              "      flex-wrap:wrap;\n",
              "      gap: 12px;\n",
              "    }\n",
              "\n",
              "    .colab-df-convert {\n",
              "      background-color: #E8F0FE;\n",
              "      border: none;\n",
              "      border-radius: 50%;\n",
              "      cursor: pointer;\n",
              "      display: none;\n",
              "      fill: #1967D2;\n",
              "      height: 32px;\n",
              "      padding: 0 0 0 0;\n",
              "      width: 32px;\n",
              "    }\n",
              "\n",
              "    .colab-df-convert:hover {\n",
              "      background-color: #E2EBFA;\n",
              "      box-shadow: 0px 1px 2px rgba(60, 64, 67, 0.3), 0px 1px 3px 1px rgba(60, 64, 67, 0.15);\n",
              "      fill: #174EA6;\n",
              "    }\n",
              "\n",
              "    [theme=dark] .colab-df-convert {\n",
              "      background-color: #3B4455;\n",
              "      fill: #D2E3FC;\n",
              "    }\n",
              "\n",
              "    [theme=dark] .colab-df-convert:hover {\n",
              "      background-color: #434B5C;\n",
              "      box-shadow: 0px 1px 3px 1px rgba(0, 0, 0, 0.15);\n",
              "      filter: drop-shadow(0px 1px 2px rgba(0, 0, 0, 0.3));\n",
              "      fill: #FFFFFF;\n",
              "    }\n",
              "  </style>\n",
              "\n",
              "      <script>\n",
              "        const buttonEl =\n",
              "          document.querySelector('#df-ebb51a1c-d896-443b-8600-f3435788be61 button.colab-df-convert');\n",
              "        buttonEl.style.display =\n",
              "          google.colab.kernel.accessAllowed ? 'block' : 'none';\n",
              "\n",
              "        async function convertToInteractive(key) {\n",
              "          const element = document.querySelector('#df-ebb51a1c-d896-443b-8600-f3435788be61');\n",
              "          const dataTable =\n",
              "            await google.colab.kernel.invokeFunction('convertToInteractive',\n",
              "                                                     [key], {});\n",
              "          if (!dataTable) return;\n",
              "\n",
              "          const docLinkHtml = 'Like what you see? Visit the ' +\n",
              "            '<a target=\"_blank\" href=https://colab.research.google.com/notebooks/data_table.ipynb>data table notebook</a>'\n",
              "            + ' to learn more about interactive tables.';\n",
              "          element.innerHTML = '';\n",
              "          dataTable['output_type'] = 'display_data';\n",
              "          await google.colab.output.renderOutput(dataTable, element);\n",
              "          const docLink = document.createElement('div');\n",
              "          docLink.innerHTML = docLinkHtml;\n",
              "          element.appendChild(docLink);\n",
              "        }\n",
              "      </script>\n",
              "    </div>\n",
              "  </div>\n",
              "  "
            ]
          },
          "metadata": {},
          "execution_count": 19
        }
      ]
    },
    {
      "cell_type": "code",
      "source": [
        "#array를 사용하면 조금 더 빠른 수학연산들을 할 수 있습니다.\n",
        "scores = np.array(df['영어'])[:10]\n",
        "scores"
      ],
      "metadata": {
        "colab": {
          "base_uri": "https://localhost:8080/"
        },
        "id": "AMrJjCXLMbQ1",
        "outputId": "193bdc22-f04f-4494-cd97-e8af8bc93152"
      },
      "execution_count": 20,
      "outputs": [
        {
          "output_type": "execute_result",
          "data": {
            "text/plain": [
              "array([92, 88, 88, 92, 73, 75, 66, 84, 86, 72])"
            ]
          },
          "metadata": {},
          "execution_count": 20
        }
      ]
    },
    {
      "cell_type": "code",
      "source": [
        "#이를 데이터 프레임으로 따로 구성하고 싶으면 다음과 같이 변경할 수도 있습니다.\n",
        "scores_df = pd.DataFrame({'score' : scores},\n",
        "                         index=pd.Index(df.index, name = 'student_num'))"
      ],
      "metadata": {
        "id": "cUTS-7fTMsOL"
      },
      "execution_count": 21,
      "outputs": []
    },
    {
      "cell_type": "code",
      "source": [
        "scores_df"
      ],
      "metadata": {
        "colab": {
          "base_uri": "https://localhost:8080/",
          "height": 394
        },
        "id": "uc3NtE3ONCM5",
        "outputId": "8be083f3-4f6d-4a7c-832e-7e6288f5ef35"
      },
      "execution_count": 22,
      "outputs": [
        {
          "output_type": "execute_result",
          "data": {
            "text/plain": [
              "             score\n",
              "student_num       \n",
              "0               92\n",
              "1               88\n",
              "2               88\n",
              "3               92\n",
              "4               73\n",
              "5               75\n",
              "6               66\n",
              "7               84\n",
              "8               86\n",
              "9               72"
            ],
            "text/html": [
              "\n",
              "  <div id=\"df-bf2e6d24-00aa-40d0-8c9e-72b257bfbba7\">\n",
              "    <div class=\"colab-df-container\">\n",
              "      <div>\n",
              "<style scoped>\n",
              "    .dataframe tbody tr th:only-of-type {\n",
              "        vertical-align: middle;\n",
              "    }\n",
              "\n",
              "    .dataframe tbody tr th {\n",
              "        vertical-align: top;\n",
              "    }\n",
              "\n",
              "    .dataframe thead th {\n",
              "        text-align: right;\n",
              "    }\n",
              "</style>\n",
              "<table border=\"1\" class=\"dataframe\">\n",
              "  <thead>\n",
              "    <tr style=\"text-align: right;\">\n",
              "      <th></th>\n",
              "      <th>score</th>\n",
              "    </tr>\n",
              "    <tr>\n",
              "      <th>student_num</th>\n",
              "      <th></th>\n",
              "    </tr>\n",
              "  </thead>\n",
              "  <tbody>\n",
              "    <tr>\n",
              "      <th>0</th>\n",
              "      <td>92</td>\n",
              "    </tr>\n",
              "    <tr>\n",
              "      <th>1</th>\n",
              "      <td>88</td>\n",
              "    </tr>\n",
              "    <tr>\n",
              "      <th>2</th>\n",
              "      <td>88</td>\n",
              "    </tr>\n",
              "    <tr>\n",
              "      <th>3</th>\n",
              "      <td>92</td>\n",
              "    </tr>\n",
              "    <tr>\n",
              "      <th>4</th>\n",
              "      <td>73</td>\n",
              "    </tr>\n",
              "    <tr>\n",
              "      <th>5</th>\n",
              "      <td>75</td>\n",
              "    </tr>\n",
              "    <tr>\n",
              "      <th>6</th>\n",
              "      <td>66</td>\n",
              "    </tr>\n",
              "    <tr>\n",
              "      <th>7</th>\n",
              "      <td>84</td>\n",
              "    </tr>\n",
              "    <tr>\n",
              "      <th>8</th>\n",
              "      <td>86</td>\n",
              "    </tr>\n",
              "    <tr>\n",
              "      <th>9</th>\n",
              "      <td>72</td>\n",
              "    </tr>\n",
              "  </tbody>\n",
              "</table>\n",
              "</div>\n",
              "      <button class=\"colab-df-convert\" onclick=\"convertToInteractive('df-bf2e6d24-00aa-40d0-8c9e-72b257bfbba7')\"\n",
              "              title=\"Convert this dataframe to an interactive table.\"\n",
              "              style=\"display:none;\">\n",
              "        \n",
              "  <svg xmlns=\"http://www.w3.org/2000/svg\" height=\"24px\"viewBox=\"0 0 24 24\"\n",
              "       width=\"24px\">\n",
              "    <path d=\"M0 0h24v24H0V0z\" fill=\"none\"/>\n",
              "    <path d=\"M18.56 5.44l.94 2.06.94-2.06 2.06-.94-2.06-.94-.94-2.06-.94 2.06-2.06.94zm-11 1L8.5 8.5l.94-2.06 2.06-.94-2.06-.94L8.5 2.5l-.94 2.06-2.06.94zm10 10l.94 2.06.94-2.06 2.06-.94-2.06-.94-.94-2.06-.94 2.06-2.06.94z\"/><path d=\"M17.41 7.96l-1.37-1.37c-.4-.4-.92-.59-1.43-.59-.52 0-1.04.2-1.43.59L10.3 9.45l-7.72 7.72c-.78.78-.78 2.05 0 2.83L4 21.41c.39.39.9.59 1.41.59.51 0 1.02-.2 1.41-.59l7.78-7.78 2.81-2.81c.8-.78.8-2.07 0-2.86zM5.41 20L4 18.59l7.72-7.72 1.47 1.35L5.41 20z\"/>\n",
              "  </svg>\n",
              "      </button>\n",
              "      \n",
              "  <style>\n",
              "    .colab-df-container {\n",
              "      display:flex;\n",
              "      flex-wrap:wrap;\n",
              "      gap: 12px;\n",
              "    }\n",
              "\n",
              "    .colab-df-convert {\n",
              "      background-color: #E8F0FE;\n",
              "      border: none;\n",
              "      border-radius: 50%;\n",
              "      cursor: pointer;\n",
              "      display: none;\n",
              "      fill: #1967D2;\n",
              "      height: 32px;\n",
              "      padding: 0 0 0 0;\n",
              "      width: 32px;\n",
              "    }\n",
              "\n",
              "    .colab-df-convert:hover {\n",
              "      background-color: #E2EBFA;\n",
              "      box-shadow: 0px 1px 2px rgba(60, 64, 67, 0.3), 0px 1px 3px 1px rgba(60, 64, 67, 0.15);\n",
              "      fill: #174EA6;\n",
              "    }\n",
              "\n",
              "    [theme=dark] .colab-df-convert {\n",
              "      background-color: #3B4455;\n",
              "      fill: #D2E3FC;\n",
              "    }\n",
              "\n",
              "    [theme=dark] .colab-df-convert:hover {\n",
              "      background-color: #434B5C;\n",
              "      box-shadow: 0px 1px 3px 1px rgba(0, 0, 0, 0.15);\n",
              "      filter: drop-shadow(0px 1px 2px rgba(0, 0, 0, 0.3));\n",
              "      fill: #FFFFFF;\n",
              "    }\n",
              "  </style>\n",
              "\n",
              "      <script>\n",
              "        const buttonEl =\n",
              "          document.querySelector('#df-bf2e6d24-00aa-40d0-8c9e-72b257bfbba7 button.colab-df-convert');\n",
              "        buttonEl.style.display =\n",
              "          google.colab.kernel.accessAllowed ? 'block' : 'none';\n",
              "\n",
              "        async function convertToInteractive(key) {\n",
              "          const element = document.querySelector('#df-bf2e6d24-00aa-40d0-8c9e-72b257bfbba7');\n",
              "          const dataTable =\n",
              "            await google.colab.kernel.invokeFunction('convertToInteractive',\n",
              "                                                     [key], {});\n",
              "          if (!dataTable) return;\n",
              "\n",
              "          const docLinkHtml = 'Like what you see? Visit the ' +\n",
              "            '<a target=\"_blank\" href=https://colab.research.google.com/notebooks/data_table.ipynb>data table notebook</a>'\n",
              "            + ' to learn more about interactive tables.';\n",
              "          element.innerHTML = '';\n",
              "          dataTable['output_type'] = 'display_data';\n",
              "          await google.colab.output.renderOutput(dataTable, element);\n",
              "          const docLink = document.createElement('div');\n",
              "          docLink.innerHTML = docLinkHtml;\n",
              "          element.appendChild(docLink);\n",
              "        }\n",
              "      </script>\n",
              "    </div>\n",
              "  </div>\n",
              "  "
            ]
          },
          "metadata": {},
          "execution_count": 22
        }
      ]
    },
    {
      "cell_type": "markdown",
      "source": [
        "### 1.2.1 평균값\n",
        "\n",
        "데이터를 하나의 값으로 요약한 지표이며, 대표값으로 불립니다. 평균값의 경우 데이터의 전반적인 중간값을 알 수 있는 척도이지만 분산 이나 그래프가 없이 평균만 보고 판단할 경우 상당한 데이터적 오류에 빠질 수 있으니 주의해야합니다.\n",
        "\n",
        "[예시] 시험점수\n",
        "* 평균 시험점수가 90점 -> 시험이 쉬웠음\n",
        "* 평균 시험점수가 30점 -> 시험이 어려웠음\n",
        "\n",
        "그러나 그 중에서도 100점을 맞은 친구들이 있고, 그 중에서도 0점을 맞은 친구가 있기 때문에 그래프와 같이 확인하는것이 좋습니다."
      ],
      "metadata": {
        "id": "NFjiBXlyNNPi"
      }
    },
    {
      "cell_type": "code",
      "source": [
        "# 평균의 계산\n",
        "# 평균은 전체 데이터의 합 / 전체 데이터의 갯수로 나눈 값\n",
        "\n",
        "sum(scores) / len(scores)"
      ],
      "metadata": {
        "colab": {
          "base_uri": "https://localhost:8080/"
        },
        "id": "inIkwMaxNFjD",
        "outputId": "f1c59ef5-9322-48fd-fbde-5e32bb212ca0"
      },
      "execution_count": 23,
      "outputs": [
        {
          "output_type": "execute_result",
          "data": {
            "text/plain": [
              "81.6"
            ]
          },
          "metadata": {},
          "execution_count": 23
        }
      ]
    },
    {
      "cell_type": "code",
      "source": [
        "# numpy 함수로도 계산이 가능\n",
        "\n",
        "np.mean(scores)"
      ],
      "metadata": {
        "colab": {
          "base_uri": "https://localhost:8080/"
        },
        "id": "FERBfOG1OK6O",
        "outputId": "49ea6551-2561-47c9-be53-47c552ae38da"
      },
      "execution_count": 24,
      "outputs": [
        {
          "output_type": "execute_result",
          "data": {
            "text/plain": [
              "81.6"
            ]
          },
          "metadata": {},
          "execution_count": 24
        }
      ]
    },
    {
      "cell_type": "code",
      "source": [
        "# pandas로도 평균은 산출 가능\n",
        "\n",
        "scores_df.mean()"
      ],
      "metadata": {
        "colab": {
          "base_uri": "https://localhost:8080/"
        },
        "id": "WVnAH2HiOPOq",
        "outputId": "42d55a79-c665-47df-d45e-e0ea0d5561a9"
      },
      "execution_count": 25,
      "outputs": [
        {
          "output_type": "execute_result",
          "data": {
            "text/plain": [
              "score    81.6\n",
              "dtype: float64"
            ]
          },
          "metadata": {},
          "execution_count": 25
        }
      ]
    },
    {
      "cell_type": "markdown",
      "source": [
        "![image.png](data:image/png;base64,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\n",
        ")"
      ],
      "metadata": {
        "id": "PH8SB4dyOlgA"
      }
    },
    {
      "cell_type": "markdown",
      "source": [
        "###1.2.2 중앙값\n",
        "\n",
        "중앙값은 median이라고 불리며, 크기 순서대로 나열할때 정확하게 중앙에 위치한 값입니다. 예를 들어 1,2,3,4,5라는 데이터가 있으면 3이 중앙값이 됩니다.\n",
        "\n",
        "중앙값은 이상치에 영향을 덜받는 특징이 있습니다.\n",
        "[1,2,3,4,5,1000] 이라는 데이터가 있는 경우\n",
        "평균과 중앙값의 차이는 어마어마하게 나게 됩니다.\n",
        "\n",
        "중앙값은 꼭 데이터안에 있는 수를 표현하지 않아도 됩니다.\n",
        "예를 들어 [1,2,3,4,5,6]이라는 데이터가 있는 경우 중앙값은 3.5입니다."
      ],
      "metadata": {
        "id": "nPnQI4g5Ox8X"
      }
    },
    {
      "cell_type": "code",
      "source": [
        "scores"
      ],
      "metadata": {
        "colab": {
          "base_uri": "https://localhost:8080/"
        },
        "id": "Xg1n3xCLv174",
        "outputId": "b80313f3-91a5-44c7-f4a1-c994ded6dd7b"
      },
      "execution_count": 26,
      "outputs": [
        {
          "output_type": "execute_result",
          "data": {
            "text/plain": [
              "array([92, 88, 88, 92, 73, 75, 66, 84, 86, 72])"
            ]
          },
          "metadata": {},
          "execution_count": 26
        }
      ]
    },
    {
      "cell_type": "code",
      "source": [
        "# 중앙값 계산\n",
        "# 데이터의 개수가 홀수면 (n+1)/2 번째 데이터가 중앙값\n",
        "# 데이터의 개수가 짝수면 n/2번째 데이터와 n/2+1번째 데이터의 평균이 중앙값\n",
        "\n",
        "sorted_scores = np.sort(scores)\n",
        "sorted_scores"
      ],
      "metadata": {
        "colab": {
          "base_uri": "https://localhost:8080/"
        },
        "id": "9hgYjVqpOUp8",
        "outputId": "fb61a0bf-6919-4bca-8ad6-52f576c910cd"
      },
      "execution_count": 27,
      "outputs": [
        {
          "output_type": "execute_result",
          "data": {
            "text/plain": [
              "array([66, 72, 73, 75, 84, 86, 88, 88, 92, 92])"
            ]
          },
          "metadata": {},
          "execution_count": 27
        }
      ]
    },
    {
      "cell_type": "code",
      "source": [
        "# 중앙값의 정의대로 코드를 작성하면 다음과 같이 됩니다.\n",
        "# 주의점 : 파이썬은 0부터 시작하기 때문에 - 1을 해야합니다.\n",
        "n = len(sorted_scores)\n",
        "if n % 2 == 0:\n",
        "  m0 = sorted_scores[n//2 - 1]\n",
        "  m1 = sorted_scores[n//2]\n",
        "  median = (m0 + m1) / 2\n",
        "else:\n",
        "  median = sorted_scores[(n+1)//2 - 1]\n",
        "\n",
        "print(median)"
      ],
      "metadata": {
        "colab": {
          "base_uri": "https://localhost:8080/"
        },
        "id": "-9CvLzrPU8oK",
        "outputId": "5a892a23-2a47-46dd-82d1-67632b3dd84f"
      },
      "execution_count": 28,
      "outputs": [
        {
          "output_type": "stream",
          "name": "stdout",
          "text": [
            "85.0\n"
          ]
        }
      ]
    },
    {
      "cell_type": "code",
      "source": [
        "# 정의에 대해 배웠으니 함수를 통해서도 산출해봅시다.\n",
        "\n",
        "np.median(scores)"
      ],
      "metadata": {
        "colab": {
          "base_uri": "https://localhost:8080/"
        },
        "id": "RKErD7YoVeqb",
        "outputId": "d4acdd79-9e68-41e2-82bc-84606b979880"
      },
      "execution_count": 29,
      "outputs": [
        {
          "output_type": "execute_result",
          "data": {
            "text/plain": [
              "85.0"
            ]
          },
          "metadata": {},
          "execution_count": 29
        }
      ]
    },
    {
      "cell_type": "code",
      "source": [
        "scores_df.median()"
      ],
      "metadata": {
        "colab": {
          "base_uri": "https://localhost:8080/"
        },
        "id": "CcbLh3y6V3yt",
        "outputId": "7659837b-c20c-4652-cb46-867f733249ef"
      },
      "execution_count": 30,
      "outputs": [
        {
          "output_type": "execute_result",
          "data": {
            "text/plain": [
              "score    85.0\n",
              "dtype: float64"
            ]
          },
          "metadata": {},
          "execution_count": 30
        }
      ]
    },
    {
      "cell_type": "markdown",
      "source": [
        "## 1.2.3 최빈값\n",
        "\n",
        "최빈값은 데이터에서 가장 많이 나타나는 값입니다.\n",
        "최빈값을 사용하면 데이터가 중간값이 많은지 극단값이 많은지 Null값이나 특이값이 많은지를 파악할 수 있습니다."
      ],
      "metadata": {
        "id": "LxBugZAgV7RS"
      }
    },
    {
      "cell_type": "code",
      "source": [
        "# 최빈값 산출\n",
        "# 1~ 100 평균값이 300? 중앙값 50\n",
        "pd.Series([1,1,1,2,2,3]).mode()"
      ],
      "metadata": {
        "colab": {
          "base_uri": "https://localhost:8080/"
        },
        "id": "CXDPS3djV5wK",
        "outputId": "3d628c73-13d1-47b6-ef6c-6bf0f3733463"
      },
      "execution_count": 31,
      "outputs": [
        {
          "output_type": "execute_result",
          "data": {
            "text/plain": [
              "0    1\n",
              "dtype: int64"
            ]
          },
          "metadata": {},
          "execution_count": 31
        }
      ]
    },
    {
      "cell_type": "code",
      "source": [
        "[-99999999, 999999999, 888888888, ########, $$$$$$$$, Null, *, 특수문자]\n",
        "\n",
        "# 최빈값 -> 한 데이터가 몇%를 차지하고 있는지\n",
        "# 1,2,3,4,5라는 데이터가 1% -> 99999999 99%\n",
        "\n",
        "# Quantile"
      ],
      "metadata": {
        "id": "bogjYrM0wuoz",
        "colab": {
          "base_uri": "https://localhost:8080/",
          "height": 137
        },
        "outputId": "7501a122-38af-4751-ea40-f39484fcaf49"
      },
      "execution_count": 32,
      "outputs": [
        {
          "output_type": "error",
          "ename": "SyntaxError",
          "evalue": "ignored",
          "traceback": [
            "\u001b[0;36m  File \u001b[0;32m\"<ipython-input-32-3b28dfe2af7f>\"\u001b[0;36m, line \u001b[0;32m6\u001b[0m\n\u001b[0;31m    # Quantile\u001b[0m\n\u001b[0m              ^\u001b[0m\n\u001b[0;31mSyntaxError\u001b[0m\u001b[0;31m:\u001b[0m incomplete input\n"
          ]
        }
      ]
    },
    {
      "cell_type": "code",
      "source": [
        "# 최빈값 산출\n",
        "\n",
        "pd.Series([1,2,3,4,5]).mode()"
      ],
      "metadata": {
        "id": "lUFuJIa_WPr3"
      },
      "execution_count": null,
      "outputs": []
    },
    {
      "cell_type": "code",
      "source": [
        "# 최빈값을 산출하는 다른 방법\n",
        "\n",
        "from scipy. stats import mode\n",
        "a=[1,2,2,3,4,5]\n",
        "mode(a)"
      ],
      "metadata": {
        "colab": {
          "base_uri": "https://localhost:8080/"
        },
        "id": "8ikUXbVrWXLG",
        "outputId": "f1a938fb-bb31-4764-ddf8-d17fd31ec0dc"
      },
      "execution_count": 34,
      "outputs": [
        {
          "output_type": "stream",
          "name": "stderr",
          "text": [
            "<ipython-input-34-17b1b53c8572>:5: FutureWarning: Unlike other reduction functions (e.g. `skew`, `kurtosis`), the default behavior of `mode` typically preserves the axis it acts along. In SciPy 1.11.0, this behavior will change: the default value of `keepdims` will become False, the `axis` over which the statistic is taken will be eliminated, and the value None will no longer be accepted. Set `keepdims` to True or False to avoid this warning.\n",
            "  mode(a)\n"
          ]
        },
        {
          "output_type": "execute_result",
          "data": {
            "text/plain": [
              "ModeResult(mode=array([2]), count=array([2]))"
            ]
          },
          "metadata": {},
          "execution_count": 34
        }
      ]
    },
    {
      "cell_type": "markdown",
      "source": [
        "## 1.3 데이터의 산포도 지표\n",
        "\n",
        "평균값이나 중앙값으로 데이터를 대표하는 값을 얻고 어떻게 해석해야하는지를 알아봤습니다.\n",
        "\n",
        "그러나 평균값을 얘기할때 평균값에 주의하라는 말씀을 드렸는데요 분산은 이를 상쇄할 수 있는 지표입니다.\n",
        "\n",
        "만약 학급의 절반이 0점 절반이 100점을 맞았으면 평균은 50점이 되지만 평균만 보고서는 이 학급이 어떻게 구성되어있는지는 모를것입니다.\n",
        "\n",
        "우리는 산포도 지표들을 통해 데이터를 면밀히 살펴봐야합니다."
      ],
      "metadata": {
        "id": "IjKcaT6LWy10"
      }
    },
    {
      "cell_type": "markdown",
      "source": [
        "### 1.3.1 편차\n",
        "\n",
        "산포도를 구하는 대표적인 방법은 편차(deviation)을 알아보는 것입니다. 편차는 각 데이터가 평균으로 부터 어느 정도 떨어져 있는지를 파악하는 척도입니다. 예를 들어 A학생의 점수가 50점이고 학생의 평균점수가 60점이라면 A학생의 편차는 -10점이 됩니다."
      ],
      "metadata": {
        "id": "Vj1kVNbFXtQX"
      }
    },
    {
      "cell_type": "code",
      "source": [
        "#학생들의 성적 평균구하기\n",
        "mean = np.mean(scores)\n",
        "print(mean)\n",
        "#편차구하기\n",
        "deviation = scores - mean\n",
        "deviation"
      ],
      "metadata": {
        "colab": {
          "base_uri": "https://localhost:8080/"
        },
        "id": "hkfgIp2xXssX",
        "outputId": "a803bdc6-7ded-4bdf-eb13-66798670d102"
      },
      "execution_count": 35,
      "outputs": [
        {
          "output_type": "stream",
          "name": "stdout",
          "text": [
            "81.6\n"
          ]
        },
        {
          "output_type": "execute_result",
          "data": {
            "text/plain": [
              "array([ 10.4,   6.4,   6.4,  10.4,  -8.6,  -6.6, -15.6,   2.4,   4.4,\n",
              "        -9.6])"
            ]
          },
          "metadata": {},
          "execution_count": 35
        }
      ]
    },
    {
      "cell_type": "markdown",
      "source": [
        "편차가 10개도 한번에 파악하기가 쉽지 않은데 데이터가 더 많아지면 쉽지 않습니다. 그러면 편차에 대한 값을 정리하려면 어떻게 해야할까요?\n",
        "\n",
        "일단 편차를 평균 옆에다가 둡니다. 아까 만들었던 scores_df DataFrame을 가져오겠습니다."
      ],
      "metadata": {
        "id": "l5W8UcMBYXjW"
      }
    },
    {
      "cell_type": "code",
      "source": [
        "scores_df"
      ],
      "metadata": {
        "id": "YiexORZXWuIw"
      },
      "execution_count": null,
      "outputs": []
    },
    {
      "cell_type": "code",
      "source": [
        "# 편차를 데이터 프레임에 추가하기\n",
        "\n",
        "summary_df = scores_df.copy()   # DataFrame의 copy는 원본을 건들이지 않음\n",
        "summary_df['deviation'] = deviation\n",
        "summary_df\n",
        "\n",
        "# 소수점을 제한하는 함수 #편차의 합은 0\n",
        "%precision 3\n",
        "pd.set_option('float_format', '{:.2f}'.format)\n",
        "\n",
        "summary_df.mean()"
      ],
      "metadata": {
        "colab": {
          "base_uri": "https://localhost:8080/"
        },
        "id": "K7qj4MdSYgWW",
        "outputId": "283346f9-c903-41c0-f143-28b638202ee2"
      },
      "execution_count": 37,
      "outputs": [
        {
          "output_type": "execute_result",
          "data": {
            "text/plain": [
              "score       81.60\n",
              "deviation    0.00\n",
              "dtype: float64"
            ]
          },
          "metadata": {},
          "execution_count": 37
        }
      ]
    },
    {
      "cell_type": "code",
      "source": [
        "summary_df.mean()"
      ],
      "metadata": {
        "colab": {
          "base_uri": "https://localhost:8080/"
        },
        "id": "UUAabtQoZFJS",
        "outputId": "324ed819-611d-4b63-e02b-030d27563072"
      },
      "execution_count": 38,
      "outputs": [
        {
          "output_type": "execute_result",
          "data": {
            "text/plain": [
              "score       81.60\n",
              "deviation    0.00\n",
              "dtype: float64"
            ]
          },
          "metadata": {},
          "execution_count": 38
        }
      ]
    },
    {
      "cell_type": "code",
      "source": [
        "# 소수점을 제한하는 함수\n",
        "%precision 3\n",
        "pd.set_option('float_format', '{:.2f}'.format)"
      ],
      "metadata": {
        "id": "8At1_LRnZMDe"
      },
      "execution_count": 39,
      "outputs": []
    },
    {
      "cell_type": "code",
      "source": [
        "summary_df.mean()"
      ],
      "metadata": {
        "colab": {
          "base_uri": "https://localhost:8080/"
        },
        "id": "JevbfI7-ZxXX",
        "outputId": "bdaa2b0b-c868-4714-c5bf-b2a754713bf5"
      },
      "execution_count": 40,
      "outputs": [
        {
          "output_type": "execute_result",
          "data": {
            "text/plain": [
              "score       81.60\n",
              "deviation    0.00\n",
              "dtype: float64"
            ]
          },
          "metadata": {},
          "execution_count": 40
        }
      ]
    },
    {
      "cell_type": "markdown",
      "source": [
        "### 1.3.2 분산\n",
        "\n",
        "다음과 같이 각 데이터와 평균 간 차이를 나타내는 편차를 이용하는 것은 바람직한 방법이긴하지만 편차의 평균이 0이 되면 추가적인 분석을 하기에는 애매합니다.\n",
        "\n",
        "그래서 편차에 제곱을 하게 된다면 그 척도를 사용할 수 있게 됩니다."
      ],
      "metadata": {
        "id": "a5Q7L1SoaofP"
      }
    },
    {
      "cell_type": "code",
      "source": [
        "# 분산 계산 - 1\n",
        "\n",
        "np.mean(deviation ** 2)"
      ],
      "metadata": {
        "id": "wKnKJHGGZyjq"
      },
      "execution_count": null,
      "outputs": []
    },
    {
      "cell_type": "code",
      "source": [
        "np.var(scores)"
      ],
      "metadata": {
        "colab": {
          "base_uri": "https://localhost:8080/"
        },
        "id": "wl8n30uab1sX",
        "outputId": "74fb2805-90e5-45da-9c2b-f84618ef75e9"
      },
      "execution_count": 42,
      "outputs": [
        {
          "output_type": "execute_result",
          "data": {
            "text/plain": [
              "77.64"
            ]
          },
          "metadata": {},
          "execution_count": 42
        }
      ]
    },
    {
      "cell_type": "code",
      "source": [
        "# pandas에도 분산을 구하는 방법은 있지만 pandas의 분산은 불편 추정량에 의한 분산입니다.\n",
        "scores_df.var()"
      ],
      "metadata": {
        "colab": {
          "base_uri": "https://localhost:8080/"
        },
        "id": "HKxg0D3Lb4gQ",
        "outputId": "afe8a326-4564-448b-f896-e11096cc31e8"
      },
      "execution_count": 43,
      "outputs": [
        {
          "output_type": "execute_result",
          "data": {
            "text/plain": [
              "score   86.27\n",
              "dtype: float64"
            ]
          },
          "metadata": {},
          "execution_count": 43
        }
      ]
    },
    {
      "cell_type": "code",
      "source": [
        "# pandas에도 분산을 구하는 방법은 있지만 pandas의 분산은 불편 추정량에 의한 분산입니다.\n",
        "scores_df.var(ddof = 0)"
      ],
      "metadata": {
        "colab": {
          "base_uri": "https://localhost:8080/"
        },
        "id": "dwxFzZQkcOj6",
        "outputId": "001ab758-b138-4b91-ed80-202e6074e895"
      },
      "execution_count": 44,
      "outputs": [
        {
          "output_type": "execute_result",
          "data": {
            "text/plain": [
              "score   77.64\n",
              "dtype: float64"
            ]
          },
          "metadata": {},
          "execution_count": 44
        }
      ]
    },
    {
      "cell_type": "code",
      "source": [
        "# summary_df에 편차 제곱을 추가\n",
        "\n",
        "summary_df['square of deviation'] = np.square(deviation)\n",
        "summary_df"
      ],
      "metadata": {
        "colab": {
          "base_uri": "https://localhost:8080/",
          "height": 394
        },
        "id": "m3C4YobBcTfR",
        "outputId": "66200b47-1874-4625-d791-e891597a9f24"
      },
      "execution_count": 45,
      "outputs": [
        {
          "output_type": "execute_result",
          "data": {
            "text/plain": [
              "             score  deviation  square of deviation\n",
              "student_num                                       \n",
              "0               92      10.40               108.16\n",
              "1               88       6.40                40.96\n",
              "2               88       6.40                40.96\n",
              "3               92      10.40               108.16\n",
              "4               73      -8.60                73.96\n",
              "5               75      -6.60                43.56\n",
              "6               66     -15.60               243.36\n",
              "7               84       2.40                 5.76\n",
              "8               86       4.40                19.36\n",
              "9               72      -9.60                92.16"
            ],
            "text/html": [
              "\n",
              "  <div id=\"df-d8091acc-a01d-4a73-9f06-f4ed0b754e02\">\n",
              "    <div class=\"colab-df-container\">\n",
              "      <div>\n",
              "<style scoped>\n",
              "    .dataframe tbody tr th:only-of-type {\n",
              "        vertical-align: middle;\n",
              "    }\n",
              "\n",
              "    .dataframe tbody tr th {\n",
              "        vertical-align: top;\n",
              "    }\n",
              "\n",
              "    .dataframe thead th {\n",
              "        text-align: right;\n",
              "    }\n",
              "</style>\n",
              "<table border=\"1\" class=\"dataframe\">\n",
              "  <thead>\n",
              "    <tr style=\"text-align: right;\">\n",
              "      <th></th>\n",
              "      <th>score</th>\n",
              "      <th>deviation</th>\n",
              "      <th>square of deviation</th>\n",
              "    </tr>\n",
              "    <tr>\n",
              "      <th>student_num</th>\n",
              "      <th></th>\n",
              "      <th></th>\n",
              "      <th></th>\n",
              "    </tr>\n",
              "  </thead>\n",
              "  <tbody>\n",
              "    <tr>\n",
              "      <th>0</th>\n",
              "      <td>92</td>\n",
              "      <td>10.40</td>\n",
              "      <td>108.16</td>\n",
              "    </tr>\n",
              "    <tr>\n",
              "      <th>1</th>\n",
              "      <td>88</td>\n",
              "      <td>6.40</td>\n",
              "      <td>40.96</td>\n",
              "    </tr>\n",
              "    <tr>\n",
              "      <th>2</th>\n",
              "      <td>88</td>\n",
              "      <td>6.40</td>\n",
              "      <td>40.96</td>\n",
              "    </tr>\n",
              "    <tr>\n",
              "      <th>3</th>\n",
              "      <td>92</td>\n",
              "      <td>10.40</td>\n",
              "      <td>108.16</td>\n",
              "    </tr>\n",
              "    <tr>\n",
              "      <th>4</th>\n",
              "      <td>73</td>\n",
              "      <td>-8.60</td>\n",
              "      <td>73.96</td>\n",
              "    </tr>\n",
              "    <tr>\n",
              "      <th>5</th>\n",
              "      <td>75</td>\n",
              "      <td>-6.60</td>\n",
              "      <td>43.56</td>\n",
              "    </tr>\n",
              "    <tr>\n",
              "      <th>6</th>\n",
              "      <td>66</td>\n",
              "      <td>-15.60</td>\n",
              "      <td>243.36</td>\n",
              "    </tr>\n",
              "    <tr>\n",
              "      <th>7</th>\n",
              "      <td>84</td>\n",
              "      <td>2.40</td>\n",
              "      <td>5.76</td>\n",
              "    </tr>\n",
              "    <tr>\n",
              "      <th>8</th>\n",
              "      <td>86</td>\n",
              "      <td>4.40</td>\n",
              "      <td>19.36</td>\n",
              "    </tr>\n",
              "    <tr>\n",
              "      <th>9</th>\n",
              "      <td>72</td>\n",
              "      <td>-9.60</td>\n",
              "      <td>92.16</td>\n",
              "    </tr>\n",
              "  </tbody>\n",
              "</table>\n",
              "</div>\n",
              "      <button class=\"colab-df-convert\" onclick=\"convertToInteractive('df-d8091acc-a01d-4a73-9f06-f4ed0b754e02')\"\n",
              "              title=\"Convert this dataframe to an interactive table.\"\n",
              "              style=\"display:none;\">\n",
              "        \n",
              "  <svg xmlns=\"http://www.w3.org/2000/svg\" height=\"24px\"viewBox=\"0 0 24 24\"\n",
              "       width=\"24px\">\n",
              "    <path d=\"M0 0h24v24H0V0z\" fill=\"none\"/>\n",
              "    <path d=\"M18.56 5.44l.94 2.06.94-2.06 2.06-.94-2.06-.94-.94-2.06-.94 2.06-2.06.94zm-11 1L8.5 8.5l.94-2.06 2.06-.94-2.06-.94L8.5 2.5l-.94 2.06-2.06.94zm10 10l.94 2.06.94-2.06 2.06-.94-2.06-.94-.94-2.06-.94 2.06-2.06.94z\"/><path d=\"M17.41 7.96l-1.37-1.37c-.4-.4-.92-.59-1.43-.59-.52 0-1.04.2-1.43.59L10.3 9.45l-7.72 7.72c-.78.78-.78 2.05 0 2.83L4 21.41c.39.39.9.59 1.41.59.51 0 1.02-.2 1.41-.59l7.78-7.78 2.81-2.81c.8-.78.8-2.07 0-2.86zM5.41 20L4 18.59l7.72-7.72 1.47 1.35L5.41 20z\"/>\n",
              "  </svg>\n",
              "      </button>\n",
              "      \n",
              "  <style>\n",
              "    .colab-df-container {\n",
              "      display:flex;\n",
              "      flex-wrap:wrap;\n",
              "      gap: 12px;\n",
              "    }\n",
              "\n",
              "    .colab-df-convert {\n",
              "      background-color: #E8F0FE;\n",
              "      border: none;\n",
              "      border-radius: 50%;\n",
              "      cursor: pointer;\n",
              "      display: none;\n",
              "      fill: #1967D2;\n",
              "      height: 32px;\n",
              "      padding: 0 0 0 0;\n",
              "      width: 32px;\n",
              "    }\n",
              "\n",
              "    .colab-df-convert:hover {\n",
              "      background-color: #E2EBFA;\n",
              "      box-shadow: 0px 1px 2px rgba(60, 64, 67, 0.3), 0px 1px 3px 1px rgba(60, 64, 67, 0.15);\n",
              "      fill: #174EA6;\n",
              "    }\n",
              "\n",
              "    [theme=dark] .colab-df-convert {\n",
              "      background-color: #3B4455;\n",
              "      fill: #D2E3FC;\n",
              "    }\n",
              "\n",
              "    [theme=dark] .colab-df-convert:hover {\n",
              "      background-color: #434B5C;\n",
              "      box-shadow: 0px 1px 3px 1px rgba(0, 0, 0, 0.15);\n",
              "      filter: drop-shadow(0px 1px 2px rgba(0, 0, 0, 0.3));\n",
              "      fill: #FFFFFF;\n",
              "    }\n",
              "  </style>\n",
              "\n",
              "      <script>\n",
              "        const buttonEl =\n",
              "          document.querySelector('#df-d8091acc-a01d-4a73-9f06-f4ed0b754e02 button.colab-df-convert');\n",
              "        buttonEl.style.display =\n",
              "          google.colab.kernel.accessAllowed ? 'block' : 'none';\n",
              "\n",
              "        async function convertToInteractive(key) {\n",
              "          const element = document.querySelector('#df-d8091acc-a01d-4a73-9f06-f4ed0b754e02');\n",
              "          const dataTable =\n",
              "            await google.colab.kernel.invokeFunction('convertToInteractive',\n",
              "                                                     [key], {});\n",
              "          if (!dataTable) return;\n",
              "\n",
              "          const docLinkHtml = 'Like what you see? Visit the ' +\n",
              "            '<a target=\"_blank\" href=https://colab.research.google.com/notebooks/data_table.ipynb>data table notebook</a>'\n",
              "            + ' to learn more about interactive tables.';\n",
              "          element.innerHTML = '';\n",
              "          dataTable['output_type'] = 'display_data';\n",
              "          await google.colab.output.renderOutput(dataTable, element);\n",
              "          const docLink = document.createElement('div');\n",
              "          docLink.innerHTML = docLinkHtml;\n",
              "          element.appendChild(docLink);\n",
              "        }\n",
              "      </script>\n",
              "    </div>\n",
              "  </div>\n",
              "  "
            ]
          },
          "metadata": {},
          "execution_count": 45
        }
      ]
    },
    {
      "cell_type": "code",
      "source": [
        "# 분산 산출\n",
        "\n",
        "summary_df.mean()"
      ],
      "metadata": {
        "colab": {
          "base_uri": "https://localhost:8080/"
        },
        "id": "ZNjiyXeycj5W",
        "outputId": "a1de4a1f-ad61-4cd9-d1b0-def1974b5eae"
      },
      "execution_count": 46,
      "outputs": [
        {
          "output_type": "execute_result",
          "data": {
            "text/plain": [
              "score                 81.60\n",
              "deviation              0.00\n",
              "square of deviation   77.64\n",
              "dtype: float64"
            ]
          },
          "metadata": {},
          "execution_count": 46
        }
      ]
    },
    {
      "cell_type": "markdown",
      "source": [
        "### 1.3.3 표준편차\n",
        "\n",
        "평균의 단위는 원래 데이터의 단위를 따라가게 됩니다.\n",
        "위의 자료에서는 80.8점이 평균이다라고 말할수 있지만\n",
        "분산은 그럴수가 없습니다. 제곱을 했기 때문입니다. 영어점수의 분산이 93.16의 제곱이다 라고 말하는것도 웃기는 상황입니다.\n",
        "\n",
        "그래서 원래의 단위와 통일하기 위해 표준편차라는 개념을 도입하였고, 그것은 분산에 루트를 씌워 제곱을 상쇄시킨 개념입니다."
      ],
      "metadata": {
        "id": "KE9MBy-sdBOK"
      }
    },
    {
      "cell_type": "code",
      "source": [
        "np.sqrt(np.var(scores, ddof =0))"
      ],
      "metadata": {
        "colab": {
          "base_uri": "https://localhost:8080/"
        },
        "id": "Ap9S-V45coI4",
        "outputId": "3bf64e9d-f55a-4dc2-87e3-86417696e342"
      },
      "execution_count": 47,
      "outputs": [
        {
          "output_type": "execute_result",
          "data": {
            "text/plain": [
              "8.811356308764276"
            ]
          },
          "metadata": {},
          "execution_count": 47
        }
      ]
    },
    {
      "cell_type": "code",
      "source": [
        "np.std(scores, ddof = 0 )"
      ],
      "metadata": {
        "colab": {
          "base_uri": "https://localhost:8080/"
        },
        "id": "M1_6qKFidcG_",
        "outputId": "98fc5616-15de-4d5d-cec6-dd00940d55bf"
      },
      "execution_count": 48,
      "outputs": [
        {
          "output_type": "execute_result",
          "data": {
            "text/plain": [
              "8.811356308764276"
            ]
          },
          "metadata": {},
          "execution_count": 48
        }
      ]
    },
    {
      "cell_type": "markdown",
      "source": [
        "np.sqrt, var를 이용하거나 np.std를 활용해서 계산할 수 있습니다.\n"
      ],
      "metadata": {
        "id": "SCc7Sv_HdjNA"
      }
    },
    {
      "cell_type": "markdown",
      "source": [
        "###1.3.4 범위\n",
        "\n",
        "범위는 분산이나 표준편차와 달리, 데이터 전체를 보는 것이 아니라 데이터의 최댓값과 최솟값만으로 산포도를 표현하는 방법입니다. 최댓값과 최솟값의 차이가 크면 산포도가 크고, 그 차이가 작으면 산포도가 작다는 의미로도 해석할 수 있습니다.\n",
        "\n",
        "두가지의 값으로만 계산된 값이므로, 대략적인 자료에 파악에 유용하지만 평균과 동일하게 주의해야합니다."
      ],
      "metadata": {
        "id": "yhmiOTpPdx9t"
      }
    },
    {
      "cell_type": "code",
      "source": [
        "# 범위 = max 값에서 min값\n",
        "\n",
        "np.max(scores) - np.min(scores)"
      ],
      "metadata": {
        "colab": {
          "base_uri": "https://localhost:8080/"
        },
        "id": "6-RdzQbgdgy0",
        "outputId": "6a40eb3f-ecd4-4a06-fea7-1b874390d9f1"
      },
      "execution_count": null,
      "outputs": [
        {
          "output_type": "execute_result",
          "data": {
            "text/plain": [
              "35"
            ]
          },
          "metadata": {},
          "execution_count": 34
        }
      ]
    },
    {
      "cell_type": "markdown",
      "source": [
        "범위에는 4분위 범위라는것도 있습니다. 큰 이상값이 하나라도 있으면 범위나 평균같은 수치들은 엄청난 변화가 있을 수 있습니다. 그래서 사분위 범위를 참고하면 데이터를 보는데 도움이 됩니다.\n",
        "\n",
        "최근에는 4분위 값 뿐만아니라 99% 95% 90% , 1% 5% 10%에 해당하는 값들을 같이 봐서 데이터의 전체적인 파악을 하고, 하나의 값이 얼마나 있는지 고루 분포되어있는지를 파악하게 됩니다.\n",
        "\n",
        "이러한 특이점이 있는 데이터들은 그래프로도 식별하기 쉽지 않을수 있기 때문에 4분위수를 구하는것은 여러모로 도움이 됩니다."
      ],
      "metadata": {
        "id": "6zngX8_CeOWJ"
      }
    },
    {
      "cell_type": "code",
      "source": [
        "scores_Q1 = np.percentile(scores,25)\n",
        "scores_Q3 = np.percentile(scores,75)\n",
        "scores_IQR = scores_Q3 - scores_Q1\n",
        "scores_IQR"
      ],
      "metadata": {
        "colab": {
          "base_uri": "https://localhost:8080/"
        },
        "id": "CKWWz-AkeLsO",
        "outputId": "9cb44ab1-acc7-43ab-8c6a-4e6322d0b859"
      },
      "execution_count": null,
      "outputs": [
        {
          "output_type": "execute_result",
          "data": {
            "text/plain": [
              "26.5"
            ]
          },
          "metadata": {},
          "execution_count": 35
        }
      ]
    },
    {
      "cell_type": "markdown",
      "source": [
        "IQR을 사용할때 Q2를 사용하지는 않지만 IQR = Q2라고 생각하시면 됩니다. 분산은 평균에 대해 정의되는 산포도라고 한다면 IQR은 중앙값에 대해 정의되는 산포도 지표라고 해석할 수 있습니다.\n",
        "\n",
        "Q1, Q2, Q3은 상자그림으로도 그려볼수 있습니다."
      ],
      "metadata": {
        "id": "2fmD1AA3tVHT"
      }
    },
    {
      "cell_type": "markdown",
      "source": [
        "### 1.3.5 한번에 데이터 보기\n",
        "\n",
        "desctibe 라는 함수를 사용하면 모든 데이터의 개요를 볼 수 있습니다. 다음과 같이 데이터를 간단히 바라보고 세부적으로 분석하는것도 방법이라고 생각합니다."
      ],
      "metadata": {
        "id": "ugKWK1yj2Qzv"
      }
    },
    {
      "cell_type": "code",
      "source": [
        "pd.Series(scores).describe()"
      ],
      "metadata": {
        "colab": {
          "base_uri": "https://localhost:8080/"
        },
        "id": "OO4KViML2NXv",
        "outputId": "030ed80b-b2d4-41e6-df1a-b06ffecd0166"
      },
      "execution_count": null,
      "outputs": [
        {
          "output_type": "execute_result",
          "data": {
            "text/plain": [
              "count   10.00\n",
              "mean    80.70\n",
              "std     14.35\n",
              "min     64.00\n",
              "25%     67.25\n",
              "50%     79.00\n",
              "75%     93.75\n",
              "max     99.00\n",
              "dtype: float64"
            ]
          },
          "metadata": {},
          "execution_count": 36
        }
      ]
    },
    {
      "cell_type": "markdown",
      "source": [
        "## 1.4 데이터의 정규화\n",
        "\n",
        "평균과 분산에 의존하지 않고 데이터를 파악한다면 데이터의 더 상대적인 위치를 알 수 있을 것입니다.\n",
        "\n",
        "수능같은 예시를 들때 불수능이다. 이러면 1등급 컷이 70~80점대 일때도 있고, 물수능이다. 이러면 99점도 2등급일 수 있는데, 절대적인 수치로만 봤을때는 이해가 안되지만 상대적인 수치에 대한 비교를 했을때 다음과 같은 사례가 이해가 될것입니다."
      ],
      "metadata": {
        "id": "Q0A6rqFI2kwH"
      }
    },
    {
      "cell_type": "markdown",
      "source": [
        "### 1.4.1 표준화\n",
        "\n",
        "통계학에서는 데이터에서 평균을 빼고 표준편차로 나누는 작업을 표준화(standardization)라고 합니다.\n",
        "\n",
        "그러면 우리가 계속 다뤄봤던 데이터를 표준화 해봅시다."
      ],
      "metadata": {
        "id": "j15s60Of3FDj"
      }
    },
    {
      "cell_type": "code",
      "source": [
        "stand_data = (scores - np.mean(scores)) / np.std(scores)\n",
        "stand_data"
      ],
      "metadata": {
        "colab": {
          "base_uri": "https://localhost:8080/"
        },
        "id": "1n3jZyq9tM8K",
        "outputId": "c09590cb-2296-4828-c400-11fce20af386"
      },
      "execution_count": null,
      "outputs": [
        {
          "output_type": "execute_result",
          "data": {
            "text/plain": [
              "array([ 0.683,  1.345,  1.051,  0.242,  1.345, -0.492, -1.08 , -0.713,\n",
              "       -1.154, -1.227])"
            ]
          },
          "metadata": {},
          "execution_count": 37
        }
      ]
    },
    {
      "cell_type": "markdown",
      "source": [
        "표준화된 데이터는 평균이 0 표준편차가 1로 됩니다."
      ],
      "metadata": {
        "id": "lzWLKEE-3cAY"
      }
    },
    {
      "cell_type": "code",
      "source": [
        "rounded_mean = np.around(np.mean(stand_data), decimals=2)\n",
        "rounded_mean"
      ],
      "metadata": {
        "colab": {
          "base_uri": "https://localhost:8080/"
        },
        "id": "3CwxuJjC4FJU",
        "outputId": "2fa595d9-1364-488d-f672-cc05d0a82616"
      },
      "execution_count": null,
      "outputs": [
        {
          "output_type": "execute_result",
          "data": {
            "text/plain": [
              "-0.0"
            ]
          },
          "metadata": {},
          "execution_count": 38
        }
      ]
    },
    {
      "cell_type": "code",
      "source": [
        "np.std(stand_data, ddof= 0)"
      ],
      "metadata": {
        "colab": {
          "base_uri": "https://localhost:8080/"
        },
        "id": "k4NeL0GP5NsD",
        "outputId": "f5eb83c9-dce9-41be-cef9-6597f08ea46c"
      },
      "execution_count": null,
      "outputs": [
        {
          "output_type": "execute_result",
          "data": {
            "text/plain": [
              "1.0"
            ]
          },
          "metadata": {},
          "execution_count": 39
        }
      ]
    },
    {
      "cell_type": "markdown",
      "source": [
        "주의! 주의점은 데이터와 동일한 표준편차로 나눗셈을 했기 때문에 표준화된 데이터는 원래 데이터의 단위를 사용할 수 없다 라는 것을 기억해야합니다."
      ],
      "metadata": {
        "id": "Fuhi7cQi5VtU"
      }
    },
    {
      "cell_type": "markdown",
      "source": [
        "#2. 1차원 데이터의 시각화\n",
        "\n",
        "이제 더 많은 학생들의 데이터를 살펴볼 것이고, 시각화를 통해 데이터를 어떻게 바라봐야하는지 알아보겠습니다."
      ],
      "metadata": {
        "id": "ghlpDwQY6ame"
      }
    },
    {
      "cell_type": "code",
      "source": [
        "import random\n",
        "import pandas as pd\n",
        "\n",
        "# 학생 데이터 생성\n",
        "def generate_student_data(num_students):\n",
        "    student_data = []\n",
        "    for i in range(1, num_students+1):\n",
        "        student_number = f'{i:03}'  # 학생번호 생성 (예: 001, 002, ...)\n",
        "        grade = random.randint(1, 3)  # 학년 랜덤 생성 (1~3 중 선택)\n",
        "        english_score = random.randint(60, 100)  # 영어 점수 랜덤 생성 (60~100 사이)\n",
        "        korean_score = random.randint(60, 100)  # 국어 점수 랜덤 생성 (60~100 사이)\n",
        "        math_score = random.randint(60, 100)  # 수학 점수 랜덤 생성 (60~100 사이)\n",
        "        total_score = english_score + korean_score + math_score  # 전체 성적 계산\n",
        "\n",
        "        student_data.append([\n",
        "            student_number,\n",
        "            grade,\n",
        "            english_score,\n",
        "            korean_score,\n",
        "            math_score,\n",
        "            total_score\n",
        "        ])\n",
        "\n",
        "    # 전체 성적에 따라 순위 매기기\n",
        "    student_data = sorted(student_data, key=lambda x: x[5], reverse=True)\n",
        "    for i, student in enumerate(student_data):\n",
        "        student.append(i + 1)\n",
        "\n",
        "    return student_data\n",
        "\n",
        "# 10명의 학생 데이터 생성\n",
        "students = generate_student_data(100)\n",
        "\n",
        "# 데이터프레임 생성\n",
        "df = pd.DataFrame(students, columns=['학생번호', '학년', '영어', '국어', '수학', '전체성적', '전체성적순위'])\n",
        "\n",
        "# 생성된 데이터프레임 출력\n",
        "print(df)"
      ],
      "metadata": {
        "colab": {
          "base_uri": "https://localhost:8080/"
        },
        "id": "3Ht8Vi1I5R8f",
        "outputId": "815706c4-82d2-4ed7-ef20-2a4f9a7d7560"
      },
      "execution_count": null,
      "outputs": [
        {
          "output_type": "stream",
          "name": "stdout",
          "text": [
            "   학생번호  학년   영어  국어  수학  전체성적  전체성적순위\n",
            "0   042   2   97  88  97   282       1\n",
            "1   064   3   95  90  97   282       2\n",
            "2   044   3   89  96  94   279       3\n",
            "3   081   1  100  95  83   278       4\n",
            "4   020   2   94  94  88   276       5\n",
            "..  ...  ..  ...  ..  ..   ...     ...\n",
            "95  089   2   63  61  75   199      96\n",
            "96  022   3   64  61  72   197      97\n",
            "97  099   3   67  66  63   196      98\n",
            "98  034   3   60  67  67   194      99\n",
            "99  057   1   66  60  66   192     100\n",
            "\n",
            "[100 rows x 7 columns]\n"
          ]
        }
      ]
    },
    {
      "cell_type": "code",
      "source": [
        "eng_scores = np.array(df['영어'])\n",
        "\n",
        "pd.Series(eng_scores).describe()"
      ],
      "metadata": {
        "colab": {
          "base_uri": "https://localhost:8080/"
        },
        "id": "DUdEJY-G6nKG",
        "outputId": "ae782feb-beec-498b-a673-490f0ed47d34"
      },
      "execution_count": null,
      "outputs": [
        {
          "output_type": "execute_result",
          "data": {
            "text/plain": [
              "count   100.00\n",
              "mean     79.56\n",
              "std      12.78\n",
              "min      60.00\n",
              "25%      67.75\n",
              "50%      79.50\n",
              "75%      92.25\n",
              "max     100.00\n",
              "dtype: float64"
            ]
          },
          "metadata": {},
          "execution_count": 41
        }
      ]
    },
    {
      "cell_type": "markdown",
      "source": [
        "## 2.1 도수분포표\n",
        "\n",
        "데이터의 분포의 세부상태를 알기 위해서 위에서 보았던 describe에 추가해서 데이터를 보는 방법론이 있습니다. 이를 도수분포표라고 하는데요. 데이터를 몇개의 구간으로 나누고 각 구간에 몇개의 데이터가 들어가는지 세는 방법입니다.\n",
        "\n",
        "도수분포표를 만들때는 최대한 구간에 간격이 동일하도록 구성하면 좋고, np.histogram함수를 사용하면 간단하게 구할 수 있습니다."
      ],
      "metadata": {
        "id": "b4LRpJCG6zVW"
      }
    },
    {
      "cell_type": "code",
      "source": [
        "freq, hist_bin = np.histogram(eng_scores, bins = 10, range = (0,100))\n",
        "freq"
      ],
      "metadata": {
        "colab": {
          "base_uri": "https://localhost:8080/"
        },
        "id": "8McNcu3i6w56",
        "outputId": "4acd0d36-89fc-4c67-fbf0-7dee2c29e62d"
      },
      "execution_count": null,
      "outputs": [
        {
          "output_type": "execute_result",
          "data": {
            "text/plain": [
              "array([ 0,  0,  0,  0,  0,  0, 30, 20, 20, 30])"
            ]
          },
          "metadata": {},
          "execution_count": 42
        }
      ]
    },
    {
      "cell_type": "code",
      "source": [
        "hist_bin"
      ],
      "metadata": {
        "colab": {
          "base_uri": "https://localhost:8080/"
        },
        "id": "9GS8gDES8GFc",
        "outputId": "4596f835-46c1-4b58-d24b-ae4acc86b985"
      },
      "execution_count": null,
      "outputs": [
        {
          "output_type": "execute_result",
          "data": {
            "text/plain": [
              "array([  0.,  10.,  20.,  30.,  40.,  50.,  60.,  70.,  80.,  90., 100.])"
            ]
          },
          "metadata": {},
          "execution_count": 43
        }
      ]
    },
    {
      "cell_type": "code",
      "source": [
        "# 해당 값을 데이터 프레임으로 정렬\n",
        "\n",
        "hist_class = [f'{i}~{i+10}' for i in range(0, 100, 10)]\n",
        "\n",
        "# 문자열 리스트 생성\n",
        "\n",
        "freq_dist_df = pd.DataFrame(freq, index = pd.Index(hist_class, name = 'class'))"
      ],
      "metadata": {
        "id": "igxyia7R7V9j"
      },
      "execution_count": null,
      "outputs": []
    },
    {
      "cell_type": "code",
      "source": [
        "freq_dist_df"
      ],
      "metadata": {
        "colab": {
          "base_uri": "https://localhost:8080/",
          "height": 394
        },
        "id": "ZV_Qbbmu8D3F",
        "outputId": "c7fbc8af-35a2-4832-d22f-97566f7e793a"
      },
      "execution_count": null,
      "outputs": [
        {
          "output_type": "execute_result",
          "data": {
            "text/plain": [
              "         0\n",
              "class     \n",
              "0~10     0\n",
              "10~20    0\n",
              "20~30    0\n",
              "30~40    0\n",
              "40~50    0\n",
              "50~60    0\n",
              "60~70   30\n",
              "70~80   20\n",
              "80~90   20\n",
              "90~100  30"
            ],
            "text/html": [
              "\n",
              "  <div id=\"df-491ca977-d173-472f-8c4f-66387b9d375d\">\n",
              "    <div class=\"colab-df-container\">\n",
              "      <div>\n",
              "<style scoped>\n",
              "    .dataframe tbody tr th:only-of-type {\n",
              "        vertical-align: middle;\n",
              "    }\n",
              "\n",
              "    .dataframe tbody tr th {\n",
              "        vertical-align: top;\n",
              "    }\n",
              "\n",
              "    .dataframe thead th {\n",
              "        text-align: right;\n",
              "    }\n",
              "</style>\n",
              "<table border=\"1\" class=\"dataframe\">\n",
              "  <thead>\n",
              "    <tr style=\"text-align: right;\">\n",
              "      <th></th>\n",
              "      <th>0</th>\n",
              "    </tr>\n",
              "    <tr>\n",
              "      <th>class</th>\n",
              "      <th></th>\n",
              "    </tr>\n",
              "  </thead>\n",
              "  <tbody>\n",
              "    <tr>\n",
              "      <th>0~10</th>\n",
              "      <td>0</td>\n",
              "    </tr>\n",
              "    <tr>\n",
              "      <th>10~20</th>\n",
              "      <td>0</td>\n",
              "    </tr>\n",
              "    <tr>\n",
              "      <th>20~30</th>\n",
              "      <td>0</td>\n",
              "    </tr>\n",
              "    <tr>\n",
              "      <th>30~40</th>\n",
              "      <td>0</td>\n",
              "    </tr>\n",
              "    <tr>\n",
              "      <th>40~50</th>\n",
              "      <td>0</td>\n",
              "    </tr>\n",
              "    <tr>\n",
              "      <th>50~60</th>\n",
              "      <td>0</td>\n",
              "    </tr>\n",
              "    <tr>\n",
              "      <th>60~70</th>\n",
              "      <td>30</td>\n",
              "    </tr>\n",
              "    <tr>\n",
              "      <th>70~80</th>\n",
              "      <td>20</td>\n",
              "    </tr>\n",
              "    <tr>\n",
              "      <th>80~90</th>\n",
              "      <td>20</td>\n",
              "    </tr>\n",
              "    <tr>\n",
              "      <th>90~100</th>\n",
              "      <td>30</td>\n",
              "    </tr>\n",
              "  </tbody>\n",
              "</table>\n",
              "</div>\n",
              "      <button class=\"colab-df-convert\" onclick=\"convertToInteractive('df-491ca977-d173-472f-8c4f-66387b9d375d')\"\n",
              "              title=\"Convert this dataframe to an interactive table.\"\n",
              "              style=\"display:none;\">\n",
              "        \n",
              "  <svg xmlns=\"http://www.w3.org/2000/svg\" height=\"24px\"viewBox=\"0 0 24 24\"\n",
              "       width=\"24px\">\n",
              "    <path d=\"M0 0h24v24H0V0z\" fill=\"none\"/>\n",
              "    <path d=\"M18.56 5.44l.94 2.06.94-2.06 2.06-.94-2.06-.94-.94-2.06-.94 2.06-2.06.94zm-11 1L8.5 8.5l.94-2.06 2.06-.94-2.06-.94L8.5 2.5l-.94 2.06-2.06.94zm10 10l.94 2.06.94-2.06 2.06-.94-2.06-.94-.94-2.06-.94 2.06-2.06.94z\"/><path d=\"M17.41 7.96l-1.37-1.37c-.4-.4-.92-.59-1.43-.59-.52 0-1.04.2-1.43.59L10.3 9.45l-7.72 7.72c-.78.78-.78 2.05 0 2.83L4 21.41c.39.39.9.59 1.41.59.51 0 1.02-.2 1.41-.59l7.78-7.78 2.81-2.81c.8-.78.8-2.07 0-2.86zM5.41 20L4 18.59l7.72-7.72 1.47 1.35L5.41 20z\"/>\n",
              "  </svg>\n",
              "      </button>\n",
              "      \n",
              "  <style>\n",
              "    .colab-df-container {\n",
              "      display:flex;\n",
              "      flex-wrap:wrap;\n",
              "      gap: 12px;\n",
              "    }\n",
              "\n",
              "    .colab-df-convert {\n",
              "      background-color: #E8F0FE;\n",
              "      border: none;\n",
              "      border-radius: 50%;\n",
              "      cursor: pointer;\n",
              "      display: none;\n",
              "      fill: #1967D2;\n",
              "      height: 32px;\n",
              "      padding: 0 0 0 0;\n",
              "      width: 32px;\n",
              "    }\n",
              "\n",
              "    .colab-df-convert:hover {\n",
              "      background-color: #E2EBFA;\n",
              "      box-shadow: 0px 1px 2px rgba(60, 64, 67, 0.3), 0px 1px 3px 1px rgba(60, 64, 67, 0.15);\n",
              "      fill: #174EA6;\n",
              "    }\n",
              "\n",
              "    [theme=dark] .colab-df-convert {\n",
              "      background-color: #3B4455;\n",
              "      fill: #D2E3FC;\n",
              "    }\n",
              "\n",
              "    [theme=dark] .colab-df-convert:hover {\n",
              "      background-color: #434B5C;\n",
              "      box-shadow: 0px 1px 3px 1px rgba(0, 0, 0, 0.15);\n",
              "      filter: drop-shadow(0px 1px 2px rgba(0, 0, 0, 0.3));\n",
              "      fill: #FFFFFF;\n",
              "    }\n",
              "  </style>\n",
              "\n",
              "      <script>\n",
              "        const buttonEl =\n",
              "          document.querySelector('#df-491ca977-d173-472f-8c4f-66387b9d375d button.colab-df-convert');\n",
              "        buttonEl.style.display =\n",
              "          google.colab.kernel.accessAllowed ? 'block' : 'none';\n",
              "\n",
              "        async function convertToInteractive(key) {\n",
              "          const element = document.querySelector('#df-491ca977-d173-472f-8c4f-66387b9d375d');\n",
              "          const dataTable =\n",
              "            await google.colab.kernel.invokeFunction('convertToInteractive',\n",
              "                                                     [key], {});\n",
              "          if (!dataTable) return;\n",
              "\n",
              "          const docLinkHtml = 'Like what you see? Visit the ' +\n",
              "            '<a target=\"_blank\" href=https://colab.research.google.com/notebooks/data_table.ipynb>data table notebook</a>'\n",
              "            + ' to learn more about interactive tables.';\n",
              "          element.innerHTML = '';\n",
              "          dataTable['output_type'] = 'display_data';\n",
              "          await google.colab.output.renderOutput(dataTable, element);\n",
              "          const docLink = document.createElement('div');\n",
              "          docLink.innerHTML = docLinkHtml;\n",
              "          element.appendChild(docLink);\n",
              "        }\n",
              "      </script>\n",
              "    </div>\n",
              "  </div>\n",
              "  "
            ]
          },
          "metadata": {},
          "execution_count": 45
        }
      ]
    },
    {
      "cell_type": "markdown",
      "source": [
        "간단한 도수분포표가 완성되었는데요. 이렇게만 보면 점수의 분포를 쉽게 알 수 있다 라는 장점을 보여줍니다. 이번 수능은 쉬웠나본지 60점 아래의 학생들은 없었네요.\n",
        "\n",
        "하지만 추가적인 데이터가 마련되면 조금 더 데이터에 대한 파악이 편해집니다."
      ],
      "metadata": {
        "id": "XWNSjfcc8_F_"
      }
    },
    {
      "cell_type": "markdown",
      "source": [
        "### 2.1.1 상대도수\n",
        "\n",
        "전체 데이터에 대해서 해당 계급의 데이터가 어느정도 비율을 가지는지 나타냅니다."
      ],
      "metadata": {
        "id": "7SS5-oOfMzNU"
      }
    },
    {
      "cell_type": "code",
      "source": [
        "rel_freq = freq / freq.sum()\n",
        "rel_freq"
      ],
      "metadata": {
        "colab": {
          "base_uri": "https://localhost:8080/"
        },
        "id": "656PU4--8qoq",
        "outputId": "d89b6df3-fe16-49b3-b7e6-02833163d371"
      },
      "execution_count": null,
      "outputs": [
        {
          "output_type": "execute_result",
          "data": {
            "text/plain": [
              "array([0. , 0. , 0. , 0. , 0. , 0. , 0.3, 0.2, 0.2, 0.3])"
            ]
          },
          "metadata": {},
          "execution_count": 46
        }
      ]
    },
    {
      "cell_type": "markdown",
      "source": [
        "### 2.1.2 누적상대도수\n",
        "\n",
        "해당 계급까지의 상대도수의 합을 나타냅니다. 누적합을 계산할 때는 np.cumsum함수를 사용하면 편하게 계산할 수 있어요"
      ],
      "metadata": {
        "id": "qkHsiJgHM_9U"
      }
    },
    {
      "cell_type": "code",
      "source": [
        "cum_rel_freq = np.cumsum(rel_freq)\n",
        "cum_rel_freq"
      ],
      "metadata": {
        "colab": {
          "base_uri": "https://localhost:8080/"
        },
        "id": "IdmK_zyiM8VD",
        "outputId": "f109fa09-6459-43b0-e95a-c7f9a9005cf0"
      },
      "execution_count": null,
      "outputs": [
        {
          "output_type": "execute_result",
          "data": {
            "text/plain": [
              "array([0. , 0. , 0. , 0. , 0. , 0. , 0.3, 0.5, 0.7, 1. ])"
            ]
          },
          "metadata": {},
          "execution_count": 47
        }
      ]
    },
    {
      "cell_type": "markdown",
      "source": [
        "### 2.1.3 도수분포표 추가\n",
        "\n",
        "상대도수와 누적 상대도수를 추가해봅시다."
      ],
      "metadata": {
        "id": "BKwgK589NN2O"
      }
    },
    {
      "cell_type": "code",
      "source": [
        "freq_dist_df['도수'] = freq_dist_df[0]\n",
        "del freq_dist_df[0]"
      ],
      "metadata": {
        "id": "eYdGSiKZOEzv"
      },
      "execution_count": null,
      "outputs": []
    },
    {
      "cell_type": "code",
      "source": [
        "freq_dist_df['상대도수'] = rel_freq\n",
        "freq_dist_df['누적상대도수'] = cum_rel_freq"
      ],
      "metadata": {
        "id": "7oPSfwI2NLmz"
      },
      "execution_count": null,
      "outputs": []
    },
    {
      "cell_type": "code",
      "source": [
        "freq_dist_df"
      ],
      "metadata": {
        "colab": {
          "base_uri": "https://localhost:8080/",
          "height": 394
        },
        "id": "toWLJFbQN9Ix",
        "outputId": "250a99b0-d658-47f1-82bc-14c92d3e2bc7"
      },
      "execution_count": null,
      "outputs": [
        {
          "output_type": "execute_result",
          "data": {
            "text/plain": [
              "        도수  상대도수  누적상대도수\n",
              "class                   \n",
              "0~10     0  0.00    0.00\n",
              "10~20    0  0.00    0.00\n",
              "20~30    0  0.00    0.00\n",
              "30~40    0  0.00    0.00\n",
              "40~50    0  0.00    0.00\n",
              "50~60    0  0.00    0.00\n",
              "60~70   30  0.30    0.30\n",
              "70~80   20  0.20    0.50\n",
              "80~90   20  0.20    0.70\n",
              "90~100  30  0.30    1.00"
            ],
            "text/html": [
              "\n",
              "  <div id=\"df-f42a88d5-2aaa-4b54-ad5d-5d1db01b12bb\">\n",
              "    <div class=\"colab-df-container\">\n",
              "      <div>\n",
              "<style scoped>\n",
              "    .dataframe tbody tr th:only-of-type {\n",
              "        vertical-align: middle;\n",
              "    }\n",
              "\n",
              "    .dataframe tbody tr th {\n",
              "        vertical-align: top;\n",
              "    }\n",
              "\n",
              "    .dataframe thead th {\n",
              "        text-align: right;\n",
              "    }\n",
              "</style>\n",
              "<table border=\"1\" class=\"dataframe\">\n",
              "  <thead>\n",
              "    <tr style=\"text-align: right;\">\n",
              "      <th></th>\n",
              "      <th>도수</th>\n",
              "      <th>상대도수</th>\n",
              "      <th>누적상대도수</th>\n",
              "    </tr>\n",
              "    <tr>\n",
              "      <th>class</th>\n",
              "      <th></th>\n",
              "      <th></th>\n",
              "      <th></th>\n",
              "    </tr>\n",
              "  </thead>\n",
              "  <tbody>\n",
              "    <tr>\n",
              "      <th>0~10</th>\n",
              "      <td>0</td>\n",
              "      <td>0.00</td>\n",
              "      <td>0.00</td>\n",
              "    </tr>\n",
              "    <tr>\n",
              "      <th>10~20</th>\n",
              "      <td>0</td>\n",
              "      <td>0.00</td>\n",
              "      <td>0.00</td>\n",
              "    </tr>\n",
              "    <tr>\n",
              "      <th>20~30</th>\n",
              "      <td>0</td>\n",
              "      <td>0.00</td>\n",
              "      <td>0.00</td>\n",
              "    </tr>\n",
              "    <tr>\n",
              "      <th>30~40</th>\n",
              "      <td>0</td>\n",
              "      <td>0.00</td>\n",
              "      <td>0.00</td>\n",
              "    </tr>\n",
              "    <tr>\n",
              "      <th>40~50</th>\n",
              "      <td>0</td>\n",
              "      <td>0.00</td>\n",
              "      <td>0.00</td>\n",
              "    </tr>\n",
              "    <tr>\n",
              "      <th>50~60</th>\n",
              "      <td>0</td>\n",
              "      <td>0.00</td>\n",
              "      <td>0.00</td>\n",
              "    </tr>\n",
              "    <tr>\n",
              "      <th>60~70</th>\n",
              "      <td>30</td>\n",
              "      <td>0.30</td>\n",
              "      <td>0.30</td>\n",
              "    </tr>\n",
              "    <tr>\n",
              "      <th>70~80</th>\n",
              "      <td>20</td>\n",
              "      <td>0.20</td>\n",
              "      <td>0.50</td>\n",
              "    </tr>\n",
              "    <tr>\n",
              "      <th>80~90</th>\n",
              "      <td>20</td>\n",
              "      <td>0.20</td>\n",
              "      <td>0.70</td>\n",
              "    </tr>\n",
              "    <tr>\n",
              "      <th>90~100</th>\n",
              "      <td>30</td>\n",
              "      <td>0.30</td>\n",
              "      <td>1.00</td>\n",
              "    </tr>\n",
              "  </tbody>\n",
              "</table>\n",
              "</div>\n",
              "      <button class=\"colab-df-convert\" onclick=\"convertToInteractive('df-f42a88d5-2aaa-4b54-ad5d-5d1db01b12bb')\"\n",
              "              title=\"Convert this dataframe to an interactive table.\"\n",
              "              style=\"display:none;\">\n",
              "        \n",
              "  <svg xmlns=\"http://www.w3.org/2000/svg\" height=\"24px\"viewBox=\"0 0 24 24\"\n",
              "       width=\"24px\">\n",
              "    <path d=\"M0 0h24v24H0V0z\" fill=\"none\"/>\n",
              "    <path d=\"M18.56 5.44l.94 2.06.94-2.06 2.06-.94-2.06-.94-.94-2.06-.94 2.06-2.06.94zm-11 1L8.5 8.5l.94-2.06 2.06-.94-2.06-.94L8.5 2.5l-.94 2.06-2.06.94zm10 10l.94 2.06.94-2.06 2.06-.94-2.06-.94-.94-2.06-.94 2.06-2.06.94z\"/><path d=\"M17.41 7.96l-1.37-1.37c-.4-.4-.92-.59-1.43-.59-.52 0-1.04.2-1.43.59L10.3 9.45l-7.72 7.72c-.78.78-.78 2.05 0 2.83L4 21.41c.39.39.9.59 1.41.59.51 0 1.02-.2 1.41-.59l7.78-7.78 2.81-2.81c.8-.78.8-2.07 0-2.86zM5.41 20L4 18.59l7.72-7.72 1.47 1.35L5.41 20z\"/>\n",
              "  </svg>\n",
              "      </button>\n",
              "      \n",
              "  <style>\n",
              "    .colab-df-container {\n",
              "      display:flex;\n",
              "      flex-wrap:wrap;\n",
              "      gap: 12px;\n",
              "    }\n",
              "\n",
              "    .colab-df-convert {\n",
              "      background-color: #E8F0FE;\n",
              "      border: none;\n",
              "      border-radius: 50%;\n",
              "      cursor: pointer;\n",
              "      display: none;\n",
              "      fill: #1967D2;\n",
              "      height: 32px;\n",
              "      padding: 0 0 0 0;\n",
              "      width: 32px;\n",
              "    }\n",
              "\n",
              "    .colab-df-convert:hover {\n",
              "      background-color: #E2EBFA;\n",
              "      box-shadow: 0px 1px 2px rgba(60, 64, 67, 0.3), 0px 1px 3px 1px rgba(60, 64, 67, 0.15);\n",
              "      fill: #174EA6;\n",
              "    }\n",
              "\n",
              "    [theme=dark] .colab-df-convert {\n",
              "      background-color: #3B4455;\n",
              "      fill: #D2E3FC;\n",
              "    }\n",
              "\n",
              "    [theme=dark] .colab-df-convert:hover {\n",
              "      background-color: #434B5C;\n",
              "      box-shadow: 0px 1px 3px 1px rgba(0, 0, 0, 0.15);\n",
              "      filter: drop-shadow(0px 1px 2px rgba(0, 0, 0, 0.3));\n",
              "      fill: #FFFFFF;\n",
              "    }\n",
              "  </style>\n",
              "\n",
              "      <script>\n",
              "        const buttonEl =\n",
              "          document.querySelector('#df-f42a88d5-2aaa-4b54-ad5d-5d1db01b12bb button.colab-df-convert');\n",
              "        buttonEl.style.display =\n",
              "          google.colab.kernel.accessAllowed ? 'block' : 'none';\n",
              "\n",
              "        async function convertToInteractive(key) {\n",
              "          const element = document.querySelector('#df-f42a88d5-2aaa-4b54-ad5d-5d1db01b12bb');\n",
              "          const dataTable =\n",
              "            await google.colab.kernel.invokeFunction('convertToInteractive',\n",
              "                                                     [key], {});\n",
              "          if (!dataTable) return;\n",
              "\n",
              "          const docLinkHtml = 'Like what you see? Visit the ' +\n",
              "            '<a target=\"_blank\" href=https://colab.research.google.com/notebooks/data_table.ipynb>data table notebook</a>'\n",
              "            + ' to learn more about interactive tables.';\n",
              "          element.innerHTML = '';\n",
              "          dataTable['output_type'] = 'display_data';\n",
              "          await google.colab.output.renderOutput(dataTable, element);\n",
              "          const docLink = document.createElement('div');\n",
              "          docLink.innerHTML = docLinkHtml;\n",
              "          element.appendChild(docLink);\n",
              "        }\n",
              "      </script>\n",
              "    </div>\n",
              "  </div>\n",
              "  "
            ]
          },
          "metadata": {},
          "execution_count": 50
        }
      ]
    },
    {
      "cell_type": "markdown",
      "source": [
        "## 2.2 히스토그램\n",
        "\n",
        "히스토그램은 도수분포표를 막대그래프로 나타낸 것입니다. 히스토그램을 사용하면 데이터의 분포상태를 더욱 더 시각적으로 파악할 수 있습니다.\n",
        "\n",
        "여기에는 전에 배웠던 Matplotlib을 사용해서 그리면 됩니다."
      ],
      "metadata": {
        "id": "_a9jz445OOpH"
      }
    },
    {
      "cell_type": "code",
      "source": [
        "import matplotlib.pyplot as plt"
      ],
      "metadata": {
        "id": "Vtn-NhdpODXp"
      },
      "execution_count": null,
      "outputs": []
    },
    {
      "cell_type": "code",
      "source": [
        "# 캔버스를 생성\n",
        "# figsize로 가로・세로 크기를 지정\n",
        "fig = plt.figure(figsize=(10, 6))\n",
        "# 켄버스 위에 그래프를 그리기 위한 영역을 지정\n",
        "# 인수는 영역을 1×1개 지정、하나의 영역에 그린다는 것을 의미\n",
        "ax = fig.add_subplot(111)\n",
        "\n",
        "# 계급수를 10으로 하여 히스토그램을 그림\n",
        "freq, _, _ = ax.hist(eng_scores, bins=10, range=(0, 100))\n",
        "# X축에 레이블 부여\n",
        "ax.set_xlabel('score')\n",
        "# Y축에 레이블 부여\n",
        "ax.set_ylabel('person number')\n",
        "# X축을 0, 10, 20, ..., 100 눈금으로 구분\n",
        "ax.set_xticks(np.linspace(0, 100, 10+1))\n",
        "# Y축을 0, 1, 2, ...의 눈금으로 구분\n",
        "ax.set_yticks(np.arange(0, freq.max()+1))\n",
        "# 그래프 표시\n",
        "plt.show()"
      ],
      "metadata": {
        "colab": {
          "base_uri": "https://localhost:8080/",
          "height": 492
        },
        "id": "bi67LhdnOiew",
        "outputId": "63669ece-13a7-48cd-81b3-19648e3da478"
      },
      "execution_count": null,
      "outputs": [
        {
          "output_type": "display_data",
          "data": {
            "text/plain": [
              "<Figure size 1000x600 with 1 Axes>"
            ],
            "image/png": "[encoded data removed]"
          },
          "metadata": {}
        }
      ]
    },
    {
      "cell_type": "code",
      "source": [
        "# 캔버스를 생성\n",
        "# figsize로 가로・세로 크기를 지정\n",
        "fig = plt.figure(figsize=(10, 6))\n",
        "# 켄버스 위에 그래프를 그리기 위한 영역을 지정\n",
        "# 인수는 영역을 1×1개 지정、하나의 영역에 그린다는 것을 의미\n",
        "ax = fig.add_subplot(111)\n",
        "\n",
        "# 계급수를 10으로 하여 히스토그램을 그림\n",
        "freq, _, _ = ax.hist(eng_scores, bins=10, range=(60, 100))\n",
        "# X축에 레이블 부여\n",
        "ax.set_xlabel('score')\n",
        "# Y축에 레이블 부여\n",
        "ax.set_ylabel('person number')\n",
        "# X축을 0, 10, 20, ..., 100 눈금으로 구분\n",
        "ax.set_xticks(np.linspace(60, 100, 10+1))\n",
        "# Y축을 0, 1, 2, ...의 눈금으로 구분\n",
        "ax.set_yticks(np.arange(0, freq.max()+1))\n",
        "# 그래프 표시\n",
        "plt.show()"
      ],
      "metadata": {
        "colab": {
          "base_uri": "https://localhost:8080/",
          "height": 492
        },
        "id": "lDKCuRTGQCbL",
        "outputId": "f8e2b06a-d6b4-4252-f89e-3a9c82b5a14e"
      },
      "execution_count": null,
      "outputs": [
        {
          "output_type": "display_data",
          "data": {
            "text/plain": [
              "<Figure size 1000x600 with 1 Axes>"
            ],
            "image/png": "[encoded data removed]"
          },
          "metadata": {}
        }
      ]
    },
    {
      "cell_type": "code",
      "source": [
        "fig = plt.figure(figsize=(10, 6))\n",
        "ax1 = fig.add_subplot(111)\n",
        "# Y축의 스케일이 다른 그래프를 ax1과 동일한 영역에 생성\n",
        "ax2 = ax1.twinx()\n",
        "\n",
        "# 상대도수의 히스토그램으로 하기 위해서는, 도수를 데이터의 수로 나눌 필요가 있음\n",
        "# 이것은 hist의 인수 weight를 지정하면 실현 가능\n",
        "weights = np.ones_like(eng_scores) / len(eng_scores)\n",
        "rel_freq, _, _ = ax1.hist(eng_scores, bins=10,\n",
        "                          range=(60, 100), weights=weights)\n",
        "\n",
        "cum_rel_freq = np.cumsum(rel_freq)\n",
        "class_value = [(i+(i+4))//2 for i in range(60, 100, 4)]\n",
        "# 꺾은선 그래프를 그림\n",
        "# 인수 ls를 '--'로 하면 점선이 그려짐\n",
        "# 인수 marker를 'o'으로 하면 데이터 점을 그람\n",
        "# 인수 color를 'gray'로 하면 회색으로 지정\n",
        "ax2.plot(class_value, cum_rel_freq,\n",
        "         ls='--', marker='o', color='gray')\n",
        "# 꺾은선 그래프의 눈금선을 제거\n",
        "ax2.grid(visible=False)\n",
        "\n",
        "ax1.set_xlabel('score')\n",
        "ax1.set_ylabel('relative frequency')\n",
        "ax2.set_ylabel('cumulative relative frequency')\n",
        "ax1.set_xticks(np.linspace(60, 100, 10+1))\n",
        "\n",
        "plt.show()"
      ],
      "metadata": {
        "colab": {
          "base_uri": "https://localhost:8080/",
          "height": 458
        },
        "id": "bjgBzsjORChC",
        "outputId": "6414fd23-2c18-4553-91a6-75bfdb2581c5"
      },
      "execution_count": null,
      "outputs": [
        {
          "output_type": "display_data",
          "data": {
            "text/plain": [
              "<Figure size 1000x600 with 2 Axes>"
            ],
            "image/png": "[encoded data removed]"
          },
          "metadata": {}
        }
      ]
    },
    {
      "cell_type": "markdown",
      "source": [
        "다음과 같이 히스토그램과 누적 도수그래프를 같이 그리면 데이터가 어디에 많이 치중되어있는지, 분포는 어떻게 형성되어있는지에 대해서 알수 있습니다."
      ],
      "metadata": {
        "id": "knlTfVtiSKTF"
      }
    },
    {
      "cell_type": "markdown",
      "source": [
        "## 2.3 상자그림\n",
        "\n",
        "상자그림은 아까 사분위수와 IQR을 다룰때 언급을 했었는데요. 상자는 Q1 - Q3까지를 나타내고, 수염은 Q1 - 1.5IQR Q3 + 1.5IQR을 나타냅니다. 여기에 들어가지 않은 값은 이상값으로 후처리를 하게 됩니다."
      ],
      "metadata": {
        "id": "aC-oSRs8STER"
      }
    },
    {
      "cell_type": "code",
      "source": [
        "fig = plt.figure(figsize=(5, 6))\n",
        "ax = fig.add_subplot(111)\n",
        "ax.boxplot(eng_scores, labels=['Eng'])\n",
        "\n",
        "plt.show()"
      ],
      "metadata": {
        "colab": {
          "base_uri": "https://localhost:8080/",
          "height": 523
        },
        "id": "sc6ArVWYRPcu",
        "outputId": "88f8dfb2-c28c-4830-dfdb-e6b2e508c34f"
      },
      "execution_count": null,
      "outputs": [
        {
          "output_type": "display_data",
          "data": {
            "text/plain": [
              "<Figure size 500x600 with 1 Axes>"
            ],
            "image/png": "[encoded data removed]"
          },
          "metadata": {}
        }
      ]
    },
    {
      "cell_type": "code",
      "source": [],
      "metadata": {
        "id": "iDjI76IGSmue"
      },
      "execution_count": null,
      "outputs": []
    },
    {
      "cell_type": "markdown",
      "source": [
        "# 따릉이 데이터로 실습해보기"
      ],
      "metadata": {
        "id": "ZtO2LMYKARWG"
      }
    },
    {
      "cell_type": "code",
      "source": [
        "import pandas as pd\n",
        "df = pd.read_csv('train.csv')"
      ],
      "metadata": {
        "id": "hPOYYOSVAULZ"
      },
      "execution_count": 49,
      "outputs": []
    },
    {
      "cell_type": "code",
      "source": [
        "df\n",
        "\n",
        "# id : 날짜와 시간별 id\n",
        "# hour_bef_temperature : 1시간 전 기온\n",
        "# hour_bef_precipitation : 1시간 전 비 정보, 비가 오지 않았으면 0, 비가 오면 1\n",
        "# hour_bef_windspeed : 1시간 전 풍속(평균)\n",
        "# hour_bef_humidity : 1시간 전 습도\n",
        "# hour_bef_visibility : 1시간 전 시정(視程), 시계(視界)(특정 기상 상태에 따른 가시성을 의미)\n",
        "# hour_bef_ozone : 1시간 전 오존\n",
        "# hour_bef_pm10 : 1시간 전 미세먼지(머리카락 굵기의 1/5에서 1/7 크기의 미세먼지)\n",
        "# hour_bef_pm2.5 : 1시간 전 미세먼지(머리카락 굵기의 1/20에서 1/30 크기의 미세먼지)\n",
        "# count : 시간에 따른 따릉이 대여 수"
      ],
      "metadata": {
        "colab": {
          "base_uri": "https://localhost:8080/",
          "height": 488
        },
        "id": "qslHXX2pDg0l",
        "outputId": "f860bba6-c315-42c8-c26d-5fc20fb917e2"
      },
      "execution_count": 50,
      "outputs": [
        {
          "output_type": "execute_result",
          "data": {
            "text/plain": [
              "        id  hour  hour_bef_temperature  hour_bef_precipitation  \\\n",
              "0        3    20                 16.30                    1.00   \n",
              "1        6    13                 20.10                    0.00   \n",
              "2        7     6                 13.90                    0.00   \n",
              "3        8    23                  8.10                    0.00   \n",
              "4        9    18                 29.50                    0.00   \n",
              "...    ...   ...                   ...                     ...   \n",
              "1454  2174     4                 16.80                    0.00   \n",
              "1455  2175     3                 10.80                    0.00   \n",
              "1456  2176     5                 18.30                    0.00   \n",
              "1457  2178    21                 20.70                    0.00   \n",
              "1458  2179    17                 21.10                    0.00   \n",
              "\n",
              "      hour_bef_windspeed  hour_bef_humidity  hour_bef_visibility  \\\n",
              "0                   1.50              89.00               576.00   \n",
              "1                   1.40              48.00               916.00   \n",
              "2                   0.70              79.00              1382.00   \n",
              "3                   2.70              54.00               946.00   \n",
              "4                   4.80               7.00              2000.00   \n",
              "...                  ...                ...                  ...   \n",
              "1454                1.60              53.00              2000.00   \n",
              "1455                3.80              45.00              2000.00   \n",
              "1456                1.90              54.00              2000.00   \n",
              "1457                3.70              37.00              1395.00   \n",
              "1458                3.10              47.00              1973.00   \n",
              "\n",
              "      hour_bef_ozone  hour_bef_pm10  hour_bef_pm2.5  count  \n",
              "0               0.03          76.00           33.00  49.00  \n",
              "1               0.04          73.00           40.00 159.00  \n",
              "2               0.03          32.00           19.00  26.00  \n",
              "3               0.04          75.00           64.00  57.00  \n",
              "4               0.06          27.00           11.00 431.00  \n",
              "...              ...            ...             ...    ...  \n",
              "1454            0.03          37.00           27.00  21.00  \n",
              "1455            0.04          34.00           19.00  20.00  \n",
              "1456            0.01          30.00           21.00  22.00  \n",
              "1457            0.08          71.00           36.00 216.00  \n",
              "1458            0.05          38.00           17.00 170.00  \n",
              "\n",
              "[1459 rows x 11 columns]"
            ],
            "text/html": [
              "\n",
              "  <div id=\"df-82e3ba12-d80a-4847-acbf-d75a814f6ab6\">\n",
              "    <div class=\"colab-df-container\">\n",
              "      <div>\n",
              "<style scoped>\n",
              "    .dataframe tbody tr th:only-of-type {\n",
              "        vertical-align: middle;\n",
              "    }\n",
              "\n",
              "    .dataframe tbody tr th {\n",
              "        vertical-align: top;\n",
              "    }\n",
              "\n",
              "    .dataframe thead th {\n",
              "        text-align: right;\n",
              "    }\n",
              "</style>\n",
              "<table border=\"1\" class=\"dataframe\">\n",
              "  <thead>\n",
              "    <tr style=\"text-align: right;\">\n",
              "      <th></th>\n",
              "      <th>id</th>\n",
              "      <th>hour</th>\n",
              "      <th>hour_bef_temperature</th>\n",
              "      <th>hour_bef_precipitation</th>\n",
              "      <th>hour_bef_windspeed</th>\n",
              "      <th>hour_bef_humidity</th>\n",
              "      <th>hour_bef_visibility</th>\n",
              "      <th>hour_bef_ozone</th>\n",
              "      <th>hour_bef_pm10</th>\n",
              "      <th>hour_bef_pm2.5</th>\n",
              "      <th>count</th>\n",
              "    </tr>\n",
              "  </thead>\n",
              "  <tbody>\n",
              "    <tr>\n",
              "      <th>0</th>\n",
              "      <td>3</td>\n",
              "      <td>20</td>\n",
              "      <td>16.30</td>\n",
              "      <td>1.00</td>\n",
              "      <td>1.50</td>\n",
              "      <td>89.00</td>\n",
              "      <td>576.00</td>\n",
              "      <td>0.03</td>\n",
              "      <td>76.00</td>\n",
              "      <td>33.00</td>\n",
              "      <td>49.00</td>\n",
              "    </tr>\n",
              "    <tr>\n",
              "      <th>1</th>\n",
              "      <td>6</td>\n",
              "      <td>13</td>\n",
              "      <td>20.10</td>\n",
              "      <td>0.00</td>\n",
              "      <td>1.40</td>\n",
              "      <td>48.00</td>\n",
              "      <td>916.00</td>\n",
              "      <td>0.04</td>\n",
              "      <td>73.00</td>\n",
              "      <td>40.00</td>\n",
              "      <td>159.00</td>\n",
              "    </tr>\n",
              "    <tr>\n",
              "      <th>2</th>\n",
              "      <td>7</td>\n",
              "      <td>6</td>\n",
              "      <td>13.90</td>\n",
              "      <td>0.00</td>\n",
              "      <td>0.70</td>\n",
              "      <td>79.00</td>\n",
              "      <td>1382.00</td>\n",
              "      <td>0.03</td>\n",
              "      <td>32.00</td>\n",
              "      <td>19.00</td>\n",
              "      <td>26.00</td>\n",
              "    </tr>\n",
              "    <tr>\n",
              "      <th>3</th>\n",
              "      <td>8</td>\n",
              "      <td>23</td>\n",
              "      <td>8.10</td>\n",
              "      <td>0.00</td>\n",
              "      <td>2.70</td>\n",
              "      <td>54.00</td>\n",
              "      <td>946.00</td>\n",
              "      <td>0.04</td>\n",
              "      <td>75.00</td>\n",
              "      <td>64.00</td>\n",
              "      <td>57.00</td>\n",
              "    </tr>\n",
              "    <tr>\n",
              "      <th>4</th>\n",
              "      <td>9</td>\n",
              "      <td>18</td>\n",
              "      <td>29.50</td>\n",
              "      <td>0.00</td>\n",
              "      <td>4.80</td>\n",
              "      <td>7.00</td>\n",
              "      <td>2000.00</td>\n",
              "      <td>0.06</td>\n",
              "      <td>27.00</td>\n",
              "      <td>11.00</td>\n",
              "      <td>431.00</td>\n",
              "    </tr>\n",
              "    <tr>\n",
              "      <th>...</th>\n",
              "      <td>...</td>\n",
              "      <td>...</td>\n",
              "      <td>...</td>\n",
              "      <td>...</td>\n",
              "      <td>...</td>\n",
              "      <td>...</td>\n",
              "      <td>...</td>\n",
              "      <td>...</td>\n",
              "      <td>...</td>\n",
              "      <td>...</td>\n",
              "      <td>...</td>\n",
              "    </tr>\n",
              "    <tr>\n",
              "      <th>1454</th>\n",
              "      <td>2174</td>\n",
              "      <td>4</td>\n",
              "      <td>16.80</td>\n",
              "      <td>0.00</td>\n",
              "      <td>1.60</td>\n",
              "      <td>53.00</td>\n",
              "      <td>2000.00</td>\n",
              "      <td>0.03</td>\n",
              "      <td>37.00</td>\n",
              "      <td>27.00</td>\n",
              "      <td>21.00</td>\n",
              "    </tr>\n",
              "    <tr>\n",
              "      <th>1455</th>\n",
              "      <td>2175</td>\n",
              "      <td>3</td>\n",
              "      <td>10.80</td>\n",
              "      <td>0.00</td>\n",
              "      <td>3.80</td>\n",
              "      <td>45.00</td>\n",
              "      <td>2000.00</td>\n",
              "      <td>0.04</td>\n",
              "      <td>34.00</td>\n",
              "      <td>19.00</td>\n",
              "      <td>20.00</td>\n",
              "    </tr>\n",
              "    <tr>\n",
              "      <th>1456</th>\n",
              "      <td>2176</td>\n",
              "      <td>5</td>\n",
              "      <td>18.30</td>\n",
              "      <td>0.00</td>\n",
              "      <td>1.90</td>\n",
              "      <td>54.00</td>\n",
              "      <td>2000.00</td>\n",
              "      <td>0.01</td>\n",
              "      <td>30.00</td>\n",
              "      <td>21.00</td>\n",
              "      <td>22.00</td>\n",
              "    </tr>\n",
              "    <tr>\n",
              "      <th>1457</th>\n",
              "      <td>2178</td>\n",
              "      <td>21</td>\n",
              "      <td>20.70</td>\n",
              "      <td>0.00</td>\n",
              "      <td>3.70</td>\n",
              "      <td>37.00</td>\n",
              "      <td>1395.00</td>\n",
              "      <td>0.08</td>\n",
              "      <td>71.00</td>\n",
              "      <td>36.00</td>\n",
              "      <td>216.00</td>\n",
              "    </tr>\n",
              "    <tr>\n",
              "      <th>1458</th>\n",
              "      <td>2179</td>\n",
              "      <td>17</td>\n",
              "      <td>21.10</td>\n",
              "      <td>0.00</td>\n",
              "      <td>3.10</td>\n",
              "      <td>47.00</td>\n",
              "      <td>1973.00</td>\n",
              "      <td>0.05</td>\n",
              "      <td>38.00</td>\n",
              "      <td>17.00</td>\n",
              "      <td>170.00</td>\n",
              "    </tr>\n",
              "  </tbody>\n",
              "</table>\n",
              "<p>1459 rows × 11 columns</p>\n",
              "</div>\n",
              "      <button class=\"colab-df-convert\" onclick=\"convertToInteractive('df-82e3ba12-d80a-4847-acbf-d75a814f6ab6')\"\n",
              "              title=\"Convert this dataframe to an interactive table.\"\n",
              "              style=\"display:none;\">\n",
              "        \n",
              "  <svg xmlns=\"http://www.w3.org/2000/svg\" height=\"24px\"viewBox=\"0 0 24 24\"\n",
              "       width=\"24px\">\n",
              "    <path d=\"M0 0h24v24H0V0z\" fill=\"none\"/>\n",
              "    <path d=\"M18.56 5.44l.94 2.06.94-2.06 2.06-.94-2.06-.94-.94-2.06-.94 2.06-2.06.94zm-11 1L8.5 8.5l.94-2.06 2.06-.94-2.06-.94L8.5 2.5l-.94 2.06-2.06.94zm10 10l.94 2.06.94-2.06 2.06-.94-2.06-.94-.94-2.06-.94 2.06-2.06.94z\"/><path d=\"M17.41 7.96l-1.37-1.37c-.4-.4-.92-.59-1.43-.59-.52 0-1.04.2-1.43.59L10.3 9.45l-7.72 7.72c-.78.78-.78 2.05 0 2.83L4 21.41c.39.39.9.59 1.41.59.51 0 1.02-.2 1.41-.59l7.78-7.78 2.81-2.81c.8-.78.8-2.07 0-2.86zM5.41 20L4 18.59l7.72-7.72 1.47 1.35L5.41 20z\"/>\n",
              "  </svg>\n",
              "      </button>\n",
              "      \n",
              "  <style>\n",
              "    .colab-df-container {\n",
              "      display:flex;\n",
              "      flex-wrap:wrap;\n",
              "      gap: 12px;\n",
              "    }\n",
              "\n",
              "    .colab-df-convert {\n",
              "      background-color: #E8F0FE;\n",
              "      border: none;\n",
              "      border-radius: 50%;\n",
              "      cursor: pointer;\n",
              "      display: none;\n",
              "      fill: #1967D2;\n",
              "      height: 32px;\n",
              "      padding: 0 0 0 0;\n",
              "      width: 32px;\n",
              "    }\n",
              "\n",
              "    .colab-df-convert:hover {\n",
              "      background-color: #E2EBFA;\n",
              "      box-shadow: 0px 1px 2px rgba(60, 64, 67, 0.3), 0px 1px 3px 1px rgba(60, 64, 67, 0.15);\n",
              "      fill: #174EA6;\n",
              "    }\n",
              "\n",
              "    [theme=dark] .colab-df-convert {\n",
              "      background-color: #3B4455;\n",
              "      fill: #D2E3FC;\n",
              "    }\n",
              "\n",
              "    [theme=dark] .colab-df-convert:hover {\n",
              "      background-color: #434B5C;\n",
              "      box-shadow: 0px 1px 3px 1px rgba(0, 0, 0, 0.15);\n",
              "      filter: drop-shadow(0px 1px 2px rgba(0, 0, 0, 0.3));\n",
              "      fill: #FFFFFF;\n",
              "    }\n",
              "  </style>\n",
              "\n",
              "      <script>\n",
              "        const buttonEl =\n",
              "          document.querySelector('#df-82e3ba12-d80a-4847-acbf-d75a814f6ab6 button.colab-df-convert');\n",
              "        buttonEl.style.display =\n",
              "          google.colab.kernel.accessAllowed ? 'block' : 'none';\n",
              "\n",
              "        async function convertToInteractive(key) {\n",
              "          const element = document.querySelector('#df-82e3ba12-d80a-4847-acbf-d75a814f6ab6');\n",
              "          const dataTable =\n",
              "            await google.colab.kernel.invokeFunction('convertToInteractive',\n",
              "                                                     [key], {});\n",
              "          if (!dataTable) return;\n",
              "\n",
              "          const docLinkHtml = 'Like what you see? Visit the ' +\n",
              "            '<a target=\"_blank\" href=https://colab.research.google.com/notebooks/data_table.ipynb>data table notebook</a>'\n",
              "            + ' to learn more about interactive tables.';\n",
              "          element.innerHTML = '';\n",
              "          dataTable['output_type'] = 'display_data';\n",
              "          await google.colab.output.renderOutput(dataTable, element);\n",
              "          const docLink = document.createElement('div');\n",
              "          docLink.innerHTML = docLinkHtml;\n",
              "          element.appendChild(docLink);\n",
              "        }\n",
              "      </script>\n",
              "    </div>\n",
              "  </div>\n",
              "  "
            ]
          },
          "metadata": {},
          "execution_count": 50
        }
      ]
    },
    {
      "cell_type": "code",
      "source": [
        "df.head()"
      ],
      "metadata": {
        "colab": {
          "base_uri": "https://localhost:8080/",
          "height": 270
        },
        "id": "u2bhdf8NDmpD",
        "outputId": "d771a4ed-e74a-46b8-ba71-4b68cde28e1d"
      },
      "execution_count": 51,
      "outputs": [
        {
          "output_type": "execute_result",
          "data": {
            "text/plain": [
              "   id  hour  hour_bef_temperature  hour_bef_precipitation  hour_bef_windspeed  \\\n",
              "0   3    20                 16.30                    1.00                1.50   \n",
              "1   6    13                 20.10                    0.00                1.40   \n",
              "2   7     6                 13.90                    0.00                0.70   \n",
              "3   8    23                  8.10                    0.00                2.70   \n",
              "4   9    18                 29.50                    0.00                4.80   \n",
              "\n",
              "   hour_bef_humidity  hour_bef_visibility  hour_bef_ozone  hour_bef_pm10  \\\n",
              "0              89.00               576.00            0.03          76.00   \n",
              "1              48.00               916.00            0.04          73.00   \n",
              "2              79.00              1382.00            0.03          32.00   \n",
              "3              54.00               946.00            0.04          75.00   \n",
              "4               7.00              2000.00            0.06          27.00   \n",
              "\n",
              "   hour_bef_pm2.5  count  \n",
              "0           33.00  49.00  \n",
              "1           40.00 159.00  \n",
              "2           19.00  26.00  \n",
              "3           64.00  57.00  \n",
              "4           11.00 431.00  "
            ],
            "text/html": [
              "\n",
              "  <div id=\"df-82057fe4-95e7-4bea-b6dc-7adda9dbe8a7\">\n",
              "    <div class=\"colab-df-container\">\n",
              "      <div>\n",
              "<style scoped>\n",
              "    .dataframe tbody tr th:only-of-type {\n",
              "        vertical-align: middle;\n",
              "    }\n",
              "\n",
              "    .dataframe tbody tr th {\n",
              "        vertical-align: top;\n",
              "    }\n",
              "\n",
              "    .dataframe thead th {\n",
              "        text-align: right;\n",
              "    }\n",
              "</style>\n",
              "<table border=\"1\" class=\"dataframe\">\n",
              "  <thead>\n",
              "    <tr style=\"text-align: right;\">\n",
              "      <th></th>\n",
              "      <th>id</th>\n",
              "      <th>hour</th>\n",
              "      <th>hour_bef_temperature</th>\n",
              "      <th>hour_bef_precipitation</th>\n",
              "      <th>hour_bef_windspeed</th>\n",
              "      <th>hour_bef_humidity</th>\n",
              "      <th>hour_bef_visibility</th>\n",
              "      <th>hour_bef_ozone</th>\n",
              "      <th>hour_bef_pm10</th>\n",
              "      <th>hour_bef_pm2.5</th>\n",
              "      <th>count</th>\n",
              "    </tr>\n",
              "  </thead>\n",
              "  <tbody>\n",
              "    <tr>\n",
              "      <th>0</th>\n",
              "      <td>3</td>\n",
              "      <td>20</td>\n",
              "      <td>16.30</td>\n",
              "      <td>1.00</td>\n",
              "      <td>1.50</td>\n",
              "      <td>89.00</td>\n",
              "      <td>576.00</td>\n",
              "      <td>0.03</td>\n",
              "      <td>76.00</td>\n",
              "      <td>33.00</td>\n",
              "      <td>49.00</td>\n",
              "    </tr>\n",
              "    <tr>\n",
              "      <th>1</th>\n",
              "      <td>6</td>\n",
              "      <td>13</td>\n",
              "      <td>20.10</td>\n",
              "      <td>0.00</td>\n",
              "      <td>1.40</td>\n",
              "      <td>48.00</td>\n",
              "      <td>916.00</td>\n",
              "      <td>0.04</td>\n",
              "      <td>73.00</td>\n",
              "      <td>40.00</td>\n",
              "      <td>159.00</td>\n",
              "    </tr>\n",
              "    <tr>\n",
              "      <th>2</th>\n",
              "      <td>7</td>\n",
              "      <td>6</td>\n",
              "      <td>13.90</td>\n",
              "      <td>0.00</td>\n",
              "      <td>0.70</td>\n",
              "      <td>79.00</td>\n",
              "      <td>1382.00</td>\n",
              "      <td>0.03</td>\n",
              "      <td>32.00</td>\n",
              "      <td>19.00</td>\n",
              "      <td>26.00</td>\n",
              "    </tr>\n",
              "    <tr>\n",
              "      <th>3</th>\n",
              "      <td>8</td>\n",
              "      <td>23</td>\n",
              "      <td>8.10</td>\n",
              "      <td>0.00</td>\n",
              "      <td>2.70</td>\n",
              "      <td>54.00</td>\n",
              "      <td>946.00</td>\n",
              "      <td>0.04</td>\n",
              "      <td>75.00</td>\n",
              "      <td>64.00</td>\n",
              "      <td>57.00</td>\n",
              "    </tr>\n",
              "    <tr>\n",
              "      <th>4</th>\n",
              "      <td>9</td>\n",
              "      <td>18</td>\n",
              "      <td>29.50</td>\n",
              "      <td>0.00</td>\n",
              "      <td>4.80</td>\n",
              "      <td>7.00</td>\n",
              "      <td>2000.00</td>\n",
              "      <td>0.06</td>\n",
              "      <td>27.00</td>\n",
              "      <td>11.00</td>\n",
              "      <td>431.00</td>\n",
              "    </tr>\n",
              "  </tbody>\n",
              "</table>\n",
              "</div>\n",
              "      <button class=\"colab-df-convert\" onclick=\"convertToInteractive('df-82057fe4-95e7-4bea-b6dc-7adda9dbe8a7')\"\n",
              "              title=\"Convert this dataframe to an interactive table.\"\n",
              "              style=\"display:none;\">\n",
              "        \n",
              "  <svg xmlns=\"http://www.w3.org/2000/svg\" height=\"24px\"viewBox=\"0 0 24 24\"\n",
              "       width=\"24px\">\n",
              "    <path d=\"M0 0h24v24H0V0z\" fill=\"none\"/>\n",
              "    <path d=\"M18.56 5.44l.94 2.06.94-2.06 2.06-.94-2.06-.94-.94-2.06-.94 2.06-2.06.94zm-11 1L8.5 8.5l.94-2.06 2.06-.94-2.06-.94L8.5 2.5l-.94 2.06-2.06.94zm10 10l.94 2.06.94-2.06 2.06-.94-2.06-.94-.94-2.06-.94 2.06-2.06.94z\"/><path d=\"M17.41 7.96l-1.37-1.37c-.4-.4-.92-.59-1.43-.59-.52 0-1.04.2-1.43.59L10.3 9.45l-7.72 7.72c-.78.78-.78 2.05 0 2.83L4 21.41c.39.39.9.59 1.41.59.51 0 1.02-.2 1.41-.59l7.78-7.78 2.81-2.81c.8-.78.8-2.07 0-2.86zM5.41 20L4 18.59l7.72-7.72 1.47 1.35L5.41 20z\"/>\n",
              "  </svg>\n",
              "      </button>\n",
              "      \n",
              "  <style>\n",
              "    .colab-df-container {\n",
              "      display:flex;\n",
              "      flex-wrap:wrap;\n",
              "      gap: 12px;\n",
              "    }\n",
              "\n",
              "    .colab-df-convert {\n",
              "      background-color: #E8F0FE;\n",
              "      border: none;\n",
              "      border-radius: 50%;\n",
              "      cursor: pointer;\n",
              "      display: none;\n",
              "      fill: #1967D2;\n",
              "      height: 32px;\n",
              "      padding: 0 0 0 0;\n",
              "      width: 32px;\n",
              "    }\n",
              "\n",
              "    .colab-df-convert:hover {\n",
              "      background-color: #E2EBFA;\n",
              "      box-shadow: 0px 1px 2px rgba(60, 64, 67, 0.3), 0px 1px 3px 1px rgba(60, 64, 67, 0.15);\n",
              "      fill: #174EA6;\n",
              "    }\n",
              "\n",
              "    [theme=dark] .colab-df-convert {\n",
              "      background-color: #3B4455;\n",
              "      fill: #D2E3FC;\n",
              "    }\n",
              "\n",
              "    [theme=dark] .colab-df-convert:hover {\n",
              "      background-color: #434B5C;\n",
              "      box-shadow: 0px 1px 3px 1px rgba(0, 0, 0, 0.15);\n",
              "      filter: drop-shadow(0px 1px 2px rgba(0, 0, 0, 0.3));\n",
              "      fill: #FFFFFF;\n",
              "    }\n",
              "  </style>\n",
              "\n",
              "      <script>\n",
              "        const buttonEl =\n",
              "          document.querySelector('#df-82057fe4-95e7-4bea-b6dc-7adda9dbe8a7 button.colab-df-convert');\n",
              "        buttonEl.style.display =\n",
              "          google.colab.kernel.accessAllowed ? 'block' : 'none';\n",
              "\n",
              "        async function convertToInteractive(key) {\n",
              "          const element = document.querySelector('#df-82057fe4-95e7-4bea-b6dc-7adda9dbe8a7');\n",
              "          const dataTable =\n",
              "            await google.colab.kernel.invokeFunction('convertToInteractive',\n",
              "                                                     [key], {});\n",
              "          if (!dataTable) return;\n",
              "\n",
              "          const docLinkHtml = 'Like what you see? Visit the ' +\n",
              "            '<a target=\"_blank\" href=https://colab.research.google.com/notebooks/data_table.ipynb>data table notebook</a>'\n",
              "            + ' to learn more about interactive tables.';\n",
              "          element.innerHTML = '';\n",
              "          dataTable['output_type'] = 'display_data';\n",
              "          await google.colab.output.renderOutput(dataTable, element);\n",
              "          const docLink = document.createElement('div');\n",
              "          docLink.innerHTML = docLinkHtml;\n",
              "          element.appendChild(docLink);\n",
              "        }\n",
              "      </script>\n",
              "    </div>\n",
              "  </div>\n",
              "  "
            ]
          },
          "metadata": {},
          "execution_count": 51
        }
      ]
    },
    {
      "cell_type": "code",
      "source": [
        "df.tail()"
      ],
      "metadata": {
        "colab": {
          "base_uri": "https://localhost:8080/",
          "height": 270
        },
        "id": "N1SGYL-SEbB5",
        "outputId": "90049eb7-1e8a-4774-bbf1-299174ae39f1"
      },
      "execution_count": 56,
      "outputs": [
        {
          "output_type": "execute_result",
          "data": {
            "text/plain": [
              "        id  hour  hour_bef_temperature  hour_bef_precipitation  \\\n",
              "1454  2174     4                 16.80                    0.00   \n",
              "1455  2175     3                 10.80                    0.00   \n",
              "1456  2176     5                 18.30                    0.00   \n",
              "1457  2178    21                 20.70                    0.00   \n",
              "1458  2179    17                 21.10                    0.00   \n",
              "\n",
              "      hour_bef_windspeed  hour_bef_humidity  hour_bef_visibility  \\\n",
              "1454                1.60              53.00              2000.00   \n",
              "1455                3.80              45.00              2000.00   \n",
              "1456                1.90              54.00              2000.00   \n",
              "1457                3.70              37.00              1395.00   \n",
              "1458                3.10              47.00              1973.00   \n",
              "\n",
              "      hour_bef_ozone  hour_bef_pm10  hour_bef_pm2.5  count  \n",
              "1454            0.03          37.00           27.00  21.00  \n",
              "1455            0.04          34.00           19.00  20.00  \n",
              "1456            0.01          30.00           21.00  22.00  \n",
              "1457            0.08          71.00           36.00 216.00  \n",
              "1458            0.05          38.00           17.00 170.00  "
            ],
            "text/html": [
              "\n",
              "  <div id=\"df-e0ec1053-4d4a-46e4-9cc9-748b062f93b7\">\n",
              "    <div class=\"colab-df-container\">\n",
              "      <div>\n",
              "<style scoped>\n",
              "    .dataframe tbody tr th:only-of-type {\n",
              "        vertical-align: middle;\n",
              "    }\n",
              "\n",
              "    .dataframe tbody tr th {\n",
              "        vertical-align: top;\n",
              "    }\n",
              "\n",
              "    .dataframe thead th {\n",
              "        text-align: right;\n",
              "    }\n",
              "</style>\n",
              "<table border=\"1\" class=\"dataframe\">\n",
              "  <thead>\n",
              "    <tr style=\"text-align: right;\">\n",
              "      <th></th>\n",
              "      <th>id</th>\n",
              "      <th>hour</th>\n",
              "      <th>hour_bef_temperature</th>\n",
              "      <th>hour_bef_precipitation</th>\n",
              "      <th>hour_bef_windspeed</th>\n",
              "      <th>hour_bef_humidity</th>\n",
              "      <th>hour_bef_visibility</th>\n",
              "      <th>hour_bef_ozone</th>\n",
              "      <th>hour_bef_pm10</th>\n",
              "      <th>hour_bef_pm2.5</th>\n",
              "      <th>count</th>\n",
              "    </tr>\n",
              "  </thead>\n",
              "  <tbody>\n",
              "    <tr>\n",
              "      <th>1454</th>\n",
              "      <td>2174</td>\n",
              "      <td>4</td>\n",
              "      <td>16.80</td>\n",
              "      <td>0.00</td>\n",
              "      <td>1.60</td>\n",
              "      <td>53.00</td>\n",
              "      <td>2000.00</td>\n",
              "      <td>0.03</td>\n",
              "      <td>37.00</td>\n",
              "      <td>27.00</td>\n",
              "      <td>21.00</td>\n",
              "    </tr>\n",
              "    <tr>\n",
              "      <th>1455</th>\n",
              "      <td>2175</td>\n",
              "      <td>3</td>\n",
              "      <td>10.80</td>\n",
              "      <td>0.00</td>\n",
              "      <td>3.80</td>\n",
              "      <td>45.00</td>\n",
              "      <td>2000.00</td>\n",
              "      <td>0.04</td>\n",
              "      <td>34.00</td>\n",
              "      <td>19.00</td>\n",
              "      <td>20.00</td>\n",
              "    </tr>\n",
              "    <tr>\n",
              "      <th>1456</th>\n",
              "      <td>2176</td>\n",
              "      <td>5</td>\n",
              "      <td>18.30</td>\n",
              "      <td>0.00</td>\n",
              "      <td>1.90</td>\n",
              "      <td>54.00</td>\n",
              "      <td>2000.00</td>\n",
              "      <td>0.01</td>\n",
              "      <td>30.00</td>\n",
              "      <td>21.00</td>\n",
              "      <td>22.00</td>\n",
              "    </tr>\n",
              "    <tr>\n",
              "      <th>1457</th>\n",
              "      <td>2178</td>\n",
              "      <td>21</td>\n",
              "      <td>20.70</td>\n",
              "      <td>0.00</td>\n",
              "      <td>3.70</td>\n",
              "      <td>37.00</td>\n",
              "      <td>1395.00</td>\n",
              "      <td>0.08</td>\n",
              "      <td>71.00</td>\n",
              "      <td>36.00</td>\n",
              "      <td>216.00</td>\n",
              "    </tr>\n",
              "    <tr>\n",
              "      <th>1458</th>\n",
              "      <td>2179</td>\n",
              "      <td>17</td>\n",
              "      <td>21.10</td>\n",
              "      <td>0.00</td>\n",
              "      <td>3.10</td>\n",
              "      <td>47.00</td>\n",
              "      <td>1973.00</td>\n",
              "      <td>0.05</td>\n",
              "      <td>38.00</td>\n",
              "      <td>17.00</td>\n",
              "      <td>170.00</td>\n",
              "    </tr>\n",
              "  </tbody>\n",
              "</table>\n",
              "</div>\n",
              "      <button class=\"colab-df-convert\" onclick=\"convertToInteractive('df-e0ec1053-4d4a-46e4-9cc9-748b062f93b7')\"\n",
              "              title=\"Convert this dataframe to an interactive table.\"\n",
              "              style=\"display:none;\">\n",
              "        \n",
              "  <svg xmlns=\"http://www.w3.org/2000/svg\" height=\"24px\"viewBox=\"0 0 24 24\"\n",
              "       width=\"24px\">\n",
              "    <path d=\"M0 0h24v24H0V0z\" fill=\"none\"/>\n",
              "    <path d=\"M18.56 5.44l.94 2.06.94-2.06 2.06-.94-2.06-.94-.94-2.06-.94 2.06-2.06.94zm-11 1L8.5 8.5l.94-2.06 2.06-.94-2.06-.94L8.5 2.5l-.94 2.06-2.06.94zm10 10l.94 2.06.94-2.06 2.06-.94-2.06-.94-.94-2.06-.94 2.06-2.06.94z\"/><path d=\"M17.41 7.96l-1.37-1.37c-.4-.4-.92-.59-1.43-.59-.52 0-1.04.2-1.43.59L10.3 9.45l-7.72 7.72c-.78.78-.78 2.05 0 2.83L4 21.41c.39.39.9.59 1.41.59.51 0 1.02-.2 1.41-.59l7.78-7.78 2.81-2.81c.8-.78.8-2.07 0-2.86zM5.41 20L4 18.59l7.72-7.72 1.47 1.35L5.41 20z\"/>\n",
              "  </svg>\n",
              "      </button>\n",
              "      \n",
              "  <style>\n",
              "    .colab-df-container {\n",
              "      display:flex;\n",
              "      flex-wrap:wrap;\n",
              "      gap: 12px;\n",
              "    }\n",
              "\n",
              "    .colab-df-convert {\n",
              "      background-color: #E8F0FE;\n",
              "      border: none;\n",
              "      border-radius: 50%;\n",
              "      cursor: pointer;\n",
              "      display: none;\n",
              "      fill: #1967D2;\n",
              "      height: 32px;\n",
              "      padding: 0 0 0 0;\n",
              "      width: 32px;\n",
              "    }\n",
              "\n",
              "    .colab-df-convert:hover {\n",
              "      background-color: #E2EBFA;\n",
              "      box-shadow: 0px 1px 2px rgba(60, 64, 67, 0.3), 0px 1px 3px 1px rgba(60, 64, 67, 0.15);\n",
              "      fill: #174EA6;\n",
              "    }\n",
              "\n",
              "    [theme=dark] .colab-df-convert {\n",
              "      background-color: #3B4455;\n",
              "      fill: #D2E3FC;\n",
              "    }\n",
              "\n",
              "    [theme=dark] .colab-df-convert:hover {\n",
              "      background-color: #434B5C;\n",
              "      box-shadow: 0px 1px 3px 1px rgba(0, 0, 0, 0.15);\n",
              "      filter: drop-shadow(0px 1px 2px rgba(0, 0, 0, 0.3));\n",
              "      fill: #FFFFFF;\n",
              "    }\n",
              "  </style>\n",
              "\n",
              "      <script>\n",
              "        const buttonEl =\n",
              "          document.querySelector('#df-e0ec1053-4d4a-46e4-9cc9-748b062f93b7 button.colab-df-convert');\n",
              "        buttonEl.style.display =\n",
              "          google.colab.kernel.accessAllowed ? 'block' : 'none';\n",
              "\n",
              "        async function convertToInteractive(key) {\n",
              "          const element = document.querySelector('#df-e0ec1053-4d4a-46e4-9cc9-748b062f93b7');\n",
              "          const dataTable =\n",
              "            await google.colab.kernel.invokeFunction('convertToInteractive',\n",
              "                                                     [key], {});\n",
              "          if (!dataTable) return;\n",
              "\n",
              "          const docLinkHtml = 'Like what you see? Visit the ' +\n",
              "            '<a target=\"_blank\" href=https://colab.research.google.com/notebooks/data_table.ipynb>data table notebook</a>'\n",
              "            + ' to learn more about interactive tables.';\n",
              "          element.innerHTML = '';\n",
              "          dataTable['output_type'] = 'display_data';\n",
              "          await google.colab.output.renderOutput(dataTable, element);\n",
              "          const docLink = document.createElement('div');\n",
              "          docLink.innerHTML = docLinkHtml;\n",
              "          element.appendChild(docLink);\n",
              "        }\n",
              "      </script>\n",
              "    </div>\n",
              "  </div>\n",
              "  "
            ]
          },
          "metadata": {},
          "execution_count": 56
        }
      ]
    },
    {
      "cell_type": "code",
      "source": [
        "df.info()"
      ],
      "metadata": {
        "colab": {
          "base_uri": "https://localhost:8080/"
        },
        "id": "X7BnQqHzDmnF",
        "outputId": "1ebe0f82-bb54-4554-cda2-0fa8ca40f085"
      },
      "execution_count": 54,
      "outputs": [
        {
          "output_type": "stream",
          "name": "stdout",
          "text": [
            "<class 'pandas.core.frame.DataFrame'>\n",
            "RangeIndex: 1459 entries, 0 to 1458\n",
            "Data columns (total 11 columns):\n",
            " #   Column                  Non-Null Count  Dtype  \n",
            "---  ------                  --------------  -----  \n",
            " 0   id                      1459 non-null   int64  \n",
            " 1   hour                    1459 non-null   int64  \n",
            " 2   hour_bef_temperature    1457 non-null   float64\n",
            " 3   hour_bef_precipitation  1457 non-null   float64\n",
            " 4   hour_bef_windspeed      1450 non-null   float64\n",
            " 5   hour_bef_humidity       1457 non-null   float64\n",
            " 6   hour_bef_visibility     1457 non-null   float64\n",
            " 7   hour_bef_ozone          1383 non-null   float64\n",
            " 8   hour_bef_pm10           1369 non-null   float64\n",
            " 9   hour_bef_pm2.5          1342 non-null   float64\n",
            " 10  count                   1459 non-null   float64\n",
            "dtypes: float64(9), int64(2)\n",
            "memory usage: 125.5 KB\n"
          ]
        }
      ]
    },
    {
      "cell_type": "code",
      "source": [
        "df.describe()"
      ],
      "metadata": {
        "colab": {
          "base_uri": "https://localhost:8080/",
          "height": 364
        },
        "id": "yjA0nV5oDmka",
        "outputId": "2f8bf2bb-3538-426a-bbc5-e2b3cbbd5ec8"
      },
      "execution_count": 55,
      "outputs": [
        {
          "output_type": "execute_result",
          "data": {
            "text/plain": [
              "           id    hour  hour_bef_temperature  hour_bef_precipitation  \\\n",
              "count 1459.00 1459.00               1457.00                 1457.00   \n",
              "mean  1105.91   11.49                 16.72                    0.03   \n",
              "std    631.34    6.92                  5.24                    0.17   \n",
              "min      3.00    0.00                  3.10                    0.00   \n",
              "25%    555.50    5.50                 12.80                    0.00   \n",
              "50%   1115.00   11.00                 16.60                    0.00   \n",
              "75%   1651.00   17.50                 20.10                    0.00   \n",
              "max   2179.00   23.00                 30.00                    1.00   \n",
              "\n",
              "       hour_bef_windspeed  hour_bef_humidity  hour_bef_visibility  \\\n",
              "count             1450.00            1457.00              1457.00   \n",
              "mean                 2.48              52.23              1405.22   \n",
              "std                  1.38              20.37               583.13   \n",
              "min                  0.00               7.00                78.00   \n",
              "25%                  1.40              36.00               879.00   \n",
              "50%                  2.30              51.00              1577.00   \n",
              "75%                  3.40              69.00              1994.00   \n",
              "max                  8.00              99.00              2000.00   \n",
              "\n",
              "       hour_bef_ozone  hour_bef_pm10  hour_bef_pm2.5   count  \n",
              "count         1383.00        1369.00         1342.00 1459.00  \n",
              "mean             0.04          57.17           30.33  108.56  \n",
              "std              0.02          31.77           14.71   82.63  \n",
              "min              0.00           9.00            8.00    1.00  \n",
              "25%              0.03          36.00           20.00   37.00  \n",
              "50%              0.04          51.00           26.00   96.00  \n",
              "75%              0.05          69.00           37.00  150.00  \n",
              "max              0.12         269.00           90.00  431.00  "
            ],
            "text/html": [
              "\n",
              "  <div id=\"df-25e8f685-397d-4b84-8347-64ae6d43b71a\">\n",
              "    <div class=\"colab-df-container\">\n",
              "      <div>\n",
              "<style scoped>\n",
              "    .dataframe tbody tr th:only-of-type {\n",
              "        vertical-align: middle;\n",
              "    }\n",
              "\n",
              "    .dataframe tbody tr th {\n",
              "        vertical-align: top;\n",
              "    }\n",
              "\n",
              "    .dataframe thead th {\n",
              "        text-align: right;\n",
              "    }\n",
              "</style>\n",
              "<table border=\"1\" class=\"dataframe\">\n",
              "  <thead>\n",
              "    <tr style=\"text-align: right;\">\n",
              "      <th></th>\n",
              "      <th>id</th>\n",
              "      <th>hour</th>\n",
              "      <th>hour_bef_temperature</th>\n",
              "      <th>hour_bef_precipitation</th>\n",
              "      <th>hour_bef_windspeed</th>\n",
              "      <th>hour_bef_humidity</th>\n",
              "      <th>hour_bef_visibility</th>\n",
              "      <th>hour_bef_ozone</th>\n",
              "      <th>hour_bef_pm10</th>\n",
              "      <th>hour_bef_pm2.5</th>\n",
              "      <th>count</th>\n",
              "    </tr>\n",
              "  </thead>\n",
              "  <tbody>\n",
              "    <tr>\n",
              "      <th>count</th>\n",
              "      <td>1459.00</td>\n",
              "      <td>1459.00</td>\n",
              "      <td>1457.00</td>\n",
              "      <td>1457.00</td>\n",
              "      <td>1450.00</td>\n",
              "      <td>1457.00</td>\n",
              "      <td>1457.00</td>\n",
              "      <td>1383.00</td>\n",
              "      <td>1369.00</td>\n",
              "      <td>1342.00</td>\n",
              "      <td>1459.00</td>\n",
              "    </tr>\n",
              "    <tr>\n",
              "      <th>mean</th>\n",
              "      <td>1105.91</td>\n",
              "      <td>11.49</td>\n",
              "      <td>16.72</td>\n",
              "      <td>0.03</td>\n",
              "      <td>2.48</td>\n",
              "      <td>52.23</td>\n",
              "      <td>1405.22</td>\n",
              "      <td>0.04</td>\n",
              "      <td>57.17</td>\n",
              "      <td>30.33</td>\n",
              "      <td>108.56</td>\n",
              "    </tr>\n",
              "    <tr>\n",
              "      <th>std</th>\n",
              "      <td>631.34</td>\n",
              "      <td>6.92</td>\n",
              "      <td>5.24</td>\n",
              "      <td>0.17</td>\n",
              "      <td>1.38</td>\n",
              "      <td>20.37</td>\n",
              "      <td>583.13</td>\n",
              "      <td>0.02</td>\n",
              "      <td>31.77</td>\n",
              "      <td>14.71</td>\n",
              "      <td>82.63</td>\n",
              "    </tr>\n",
              "    <tr>\n",
              "      <th>min</th>\n",
              "      <td>3.00</td>\n",
              "      <td>0.00</td>\n",
              "      <td>3.10</td>\n",
              "      <td>0.00</td>\n",
              "      <td>0.00</td>\n",
              "      <td>7.00</td>\n",
              "      <td>78.00</td>\n",
              "      <td>0.00</td>\n",
              "      <td>9.00</td>\n",
              "      <td>8.00</td>\n",
              "      <td>1.00</td>\n",
              "    </tr>\n",
              "    <tr>\n",
              "      <th>25%</th>\n",
              "      <td>555.50</td>\n",
              "      <td>5.50</td>\n",
              "      <td>12.80</td>\n",
              "      <td>0.00</td>\n",
              "      <td>1.40</td>\n",
              "      <td>36.00</td>\n",
              "      <td>879.00</td>\n",
              "      <td>0.03</td>\n",
              "      <td>36.00</td>\n",
              "      <td>20.00</td>\n",
              "      <td>37.00</td>\n",
              "    </tr>\n",
              "    <tr>\n",
              "      <th>50%</th>\n",
              "      <td>1115.00</td>\n",
              "      <td>11.00</td>\n",
              "      <td>16.60</td>\n",
              "      <td>0.00</td>\n",
              "      <td>2.30</td>\n",
              "      <td>51.00</td>\n",
              "      <td>1577.00</td>\n",
              "      <td>0.04</td>\n",
              "      <td>51.00</td>\n",
              "      <td>26.00</td>\n",
              "      <td>96.00</td>\n",
              "    </tr>\n",
              "    <tr>\n",
              "      <th>75%</th>\n",
              "      <td>1651.00</td>\n",
              "      <td>17.50</td>\n",
              "      <td>20.10</td>\n",
              "      <td>0.00</td>\n",
              "      <td>3.40</td>\n",
              "      <td>69.00</td>\n",
              "      <td>1994.00</td>\n",
              "      <td>0.05</td>\n",
              "      <td>69.00</td>\n",
              "      <td>37.00</td>\n",
              "      <td>150.00</td>\n",
              "    </tr>\n",
              "    <tr>\n",
              "      <th>max</th>\n",
              "      <td>2179.00</td>\n",
              "      <td>23.00</td>\n",
              "      <td>30.00</td>\n",
              "      <td>1.00</td>\n",
              "      <td>8.00</td>\n",
              "      <td>99.00</td>\n",
              "      <td>2000.00</td>\n",
              "      <td>0.12</td>\n",
              "      <td>269.00</td>\n",
              "      <td>90.00</td>\n",
              "      <td>431.00</td>\n",
              "    </tr>\n",
              "  </tbody>\n",
              "</table>\n",
              "</div>\n",
              "      <button class=\"colab-df-convert\" onclick=\"convertToInteractive('df-25e8f685-397d-4b84-8347-64ae6d43b71a')\"\n",
              "              title=\"Convert this dataframe to an interactive table.\"\n",
              "              style=\"display:none;\">\n",
              "        \n",
              "  <svg xmlns=\"http://www.w3.org/2000/svg\" height=\"24px\"viewBox=\"0 0 24 24\"\n",
              "       width=\"24px\">\n",
              "    <path d=\"M0 0h24v24H0V0z\" fill=\"none\"/>\n",
              "    <path d=\"M18.56 5.44l.94 2.06.94-2.06 2.06-.94-2.06-.94-.94-2.06-.94 2.06-2.06.94zm-11 1L8.5 8.5l.94-2.06 2.06-.94-2.06-.94L8.5 2.5l-.94 2.06-2.06.94zm10 10l.94 2.06.94-2.06 2.06-.94-2.06-.94-.94-2.06-.94 2.06-2.06.94z\"/><path d=\"M17.41 7.96l-1.37-1.37c-.4-.4-.92-.59-1.43-.59-.52 0-1.04.2-1.43.59L10.3 9.45l-7.72 7.72c-.78.78-.78 2.05 0 2.83L4 21.41c.39.39.9.59 1.41.59.51 0 1.02-.2 1.41-.59l7.78-7.78 2.81-2.81c.8-.78.8-2.07 0-2.86zM5.41 20L4 18.59l7.72-7.72 1.47 1.35L5.41 20z\"/>\n",
              "  </svg>\n",
              "      </button>\n",
              "      \n",
              "  <style>\n",
              "    .colab-df-container {\n",
              "      display:flex;\n",
              "      flex-wrap:wrap;\n",
              "      gap: 12px;\n",
              "    }\n",
              "\n",
              "    .colab-df-convert {\n",
              "      background-color: #E8F0FE;\n",
              "      border: none;\n",
              "      border-radius: 50%;\n",
              "      cursor: pointer;\n",
              "      display: none;\n",
              "      fill: #1967D2;\n",
              "      height: 32px;\n",
              "      padding: 0 0 0 0;\n",
              "      width: 32px;\n",
              "    }\n",
              "\n",
              "    .colab-df-convert:hover {\n",
              "      background-color: #E2EBFA;\n",
              "      box-shadow: 0px 1px 2px rgba(60, 64, 67, 0.3), 0px 1px 3px 1px rgba(60, 64, 67, 0.15);\n",
              "      fill: #174EA6;\n",
              "    }\n",
              "\n",
              "    [theme=dark] .colab-df-convert {\n",
              "      background-color: #3B4455;\n",
              "      fill: #D2E3FC;\n",
              "    }\n",
              "\n",
              "    [theme=dark] .colab-df-convert:hover {\n",
              "      background-color: #434B5C;\n",
              "      box-shadow: 0px 1px 3px 1px rgba(0, 0, 0, 0.15);\n",
              "      filter: drop-shadow(0px 1px 2px rgba(0, 0, 0, 0.3));\n",
              "      fill: #FFFFFF;\n",
              "    }\n",
              "  </style>\n",
              "\n",
              "      <script>\n",
              "        const buttonEl =\n",
              "          document.querySelector('#df-25e8f685-397d-4b84-8347-64ae6d43b71a button.colab-df-convert');\n",
              "        buttonEl.style.display =\n",
              "          google.colab.kernel.accessAllowed ? 'block' : 'none';\n",
              "\n",
              "        async function convertToInteractive(key) {\n",
              "          const element = document.querySelector('#df-25e8f685-397d-4b84-8347-64ae6d43b71a');\n",
              "          const dataTable =\n",
              "            await google.colab.kernel.invokeFunction('convertToInteractive',\n",
              "                                                     [key], {});\n",
              "          if (!dataTable) return;\n",
              "\n",
              "          const docLinkHtml = 'Like what you see? Visit the ' +\n",
              "            '<a target=\"_blank\" href=https://colab.research.google.com/notebooks/data_table.ipynb>data table notebook</a>'\n",
              "            + ' to learn more about interactive tables.';\n",
              "          element.innerHTML = '';\n",
              "          dataTable['output_type'] = 'display_data';\n",
              "          await google.colab.output.renderOutput(dataTable, element);\n",
              "          const docLink = document.createElement('div');\n",
              "          docLink.innerHTML = docLinkHtml;\n",
              "          element.appendChild(docLink);\n",
              "        }\n",
              "      </script>\n",
              "    </div>\n",
              "  </div>\n",
              "  "
            ]
          },
          "metadata": {},
          "execution_count": 55
        }
      ]
    },
    {
      "cell_type": "code",
      "source": [
        "# 결측치 확인\n",
        "df.isna().sum()"
      ],
      "metadata": {
        "colab": {
          "base_uri": "https://localhost:8080/"
        },
        "id": "Vj9q2vdCDmeG",
        "outputId": "c3f72bb2-d1b9-4a4e-c1f4-7bf6b2bc2d2e"
      },
      "execution_count": 77,
      "outputs": [
        {
          "output_type": "execute_result",
          "data": {
            "text/plain": [
              "id                          0\n",
              "hour                        0\n",
              "hour_bef_temperature        2\n",
              "hour_bef_precipitation      2\n",
              "hour_bef_windspeed          9\n",
              "hour_bef_humidity           2\n",
              "hour_bef_visibility         2\n",
              "hour_bef_ozone             76\n",
              "hour_bef_pm10              90\n",
              "hour_bef_pm2.5            117\n",
              "count                       0\n",
              "dtype: int64"
            ]
          },
          "metadata": {},
          "execution_count": 77
        }
      ]
    },
    {
      "cell_type": "code",
      "source": [
        "# hour_bef_precipitation에서 결측치를 -1로 바꿔주고 float -> int형으로 바꾸기\n",
        "df['hour_bef_precipitation'] = df['hour_bef_precipitation'].fillna(-1).astype('int8').replace({-1:None})\n",
        "df"
      ],
      "metadata": {
        "colab": {
          "base_uri": "https://localhost:8080/",
          "height": 488
        },
        "id": "VJNkgapNKLon",
        "outputId": "afe8378f-2f80-45b5-e676-9927a287fc79"
      },
      "execution_count": 78,
      "outputs": [
        {
          "output_type": "execute_result",
          "data": {
            "text/plain": [
              "        id  hour  hour_bef_temperature hour_bef_precipitation  \\\n",
              "0        3    20                 16.30                      1   \n",
              "1        6    13                 20.10                      0   \n",
              "2        7     6                 13.90                      0   \n",
              "3        8    23                  8.10                      0   \n",
              "4        9    18                 29.50                      0   \n",
              "...    ...   ...                   ...                    ...   \n",
              "1454  2174     4                 16.80                      0   \n",
              "1455  2175     3                 10.80                      0   \n",
              "1456  2176     5                 18.30                      0   \n",
              "1457  2178    21                 20.70                      0   \n",
              "1458  2179    17                 21.10                      0   \n",
              "\n",
              "      hour_bef_windspeed  hour_bef_humidity  hour_bef_visibility  \\\n",
              "0                   1.50              89.00               576.00   \n",
              "1                   1.40              48.00               916.00   \n",
              "2                   0.70              79.00              1382.00   \n",
              "3                   2.70              54.00               946.00   \n",
              "4                   4.80               7.00              2000.00   \n",
              "...                  ...                ...                  ...   \n",
              "1454                1.60              53.00              2000.00   \n",
              "1455                3.80              45.00              2000.00   \n",
              "1456                1.90              54.00              2000.00   \n",
              "1457                3.70              37.00              1395.00   \n",
              "1458                3.10              47.00              1973.00   \n",
              "\n",
              "      hour_bef_ozone  hour_bef_pm10  hour_bef_pm2.5  count  \n",
              "0               0.03          76.00           33.00  49.00  \n",
              "1               0.04          73.00           40.00 159.00  \n",
              "2               0.03          32.00           19.00  26.00  \n",
              "3               0.04          75.00           64.00  57.00  \n",
              "4               0.06          27.00           11.00 431.00  \n",
              "...              ...            ...             ...    ...  \n",
              "1454            0.03          37.00           27.00  21.00  \n",
              "1455            0.04          34.00           19.00  20.00  \n",
              "1456            0.01          30.00           21.00  22.00  \n",
              "1457            0.08          71.00           36.00 216.00  \n",
              "1458            0.05          38.00           17.00 170.00  \n",
              "\n",
              "[1459 rows x 11 columns]"
            ],
            "text/html": [
              "\n",
              "  <div id=\"df-0b583963-ee19-4a55-a734-408c835f78ee\">\n",
              "    <div class=\"colab-df-container\">\n",
              "      <div>\n",
              "<style scoped>\n",
              "    .dataframe tbody tr th:only-of-type {\n",
              "        vertical-align: middle;\n",
              "    }\n",
              "\n",
              "    .dataframe tbody tr th {\n",
              "        vertical-align: top;\n",
              "    }\n",
              "\n",
              "    .dataframe thead th {\n",
              "        text-align: right;\n",
              "    }\n",
              "</style>\n",
              "<table border=\"1\" class=\"dataframe\">\n",
              "  <thead>\n",
              "    <tr style=\"text-align: right;\">\n",
              "      <th></th>\n",
              "      <th>id</th>\n",
              "      <th>hour</th>\n",
              "      <th>hour_bef_temperature</th>\n",
              "      <th>hour_bef_precipitation</th>\n",
              "      <th>hour_bef_windspeed</th>\n",
              "      <th>hour_bef_humidity</th>\n",
              "      <th>hour_bef_visibility</th>\n",
              "      <th>hour_bef_ozone</th>\n",
              "      <th>hour_bef_pm10</th>\n",
              "      <th>hour_bef_pm2.5</th>\n",
              "      <th>count</th>\n",
              "    </tr>\n",
              "  </thead>\n",
              "  <tbody>\n",
              "    <tr>\n",
              "      <th>0</th>\n",
              "      <td>3</td>\n",
              "      <td>20</td>\n",
              "      <td>16.30</td>\n",
              "      <td>1</td>\n",
              "      <td>1.50</td>\n",
              "      <td>89.00</td>\n",
              "      <td>576.00</td>\n",
              "      <td>0.03</td>\n",
              "      <td>76.00</td>\n",
              "      <td>33.00</td>\n",
              "      <td>49.00</td>\n",
              "    </tr>\n",
              "    <tr>\n",
              "      <th>1</th>\n",
              "      <td>6</td>\n",
              "      <td>13</td>\n",
              "      <td>20.10</td>\n",
              "      <td>0</td>\n",
              "      <td>1.40</td>\n",
              "      <td>48.00</td>\n",
              "      <td>916.00</td>\n",
              "      <td>0.04</td>\n",
              "      <td>73.00</td>\n",
              "      <td>40.00</td>\n",
              "      <td>159.00</td>\n",
              "    </tr>\n",
              "    <tr>\n",
              "      <th>2</th>\n",
              "      <td>7</td>\n",
              "      <td>6</td>\n",
              "      <td>13.90</td>\n",
              "      <td>0</td>\n",
              "      <td>0.70</td>\n",
              "      <td>79.00</td>\n",
              "      <td>1382.00</td>\n",
              "      <td>0.03</td>\n",
              "      <td>32.00</td>\n",
              "      <td>19.00</td>\n",
              "      <td>26.00</td>\n",
              "    </tr>\n",
              "    <tr>\n",
              "      <th>3</th>\n",
              "      <td>8</td>\n",
              "      <td>23</td>\n",
              "      <td>8.10</td>\n",
              "      <td>0</td>\n",
              "      <td>2.70</td>\n",
              "      <td>54.00</td>\n",
              "      <td>946.00</td>\n",
              "      <td>0.04</td>\n",
              "      <td>75.00</td>\n",
              "      <td>64.00</td>\n",
              "      <td>57.00</td>\n",
              "    </tr>\n",
              "    <tr>\n",
              "      <th>4</th>\n",
              "      <td>9</td>\n",
              "      <td>18</td>\n",
              "      <td>29.50</td>\n",
              "      <td>0</td>\n",
              "      <td>4.80</td>\n",
              "      <td>7.00</td>\n",
              "      <td>2000.00</td>\n",
              "      <td>0.06</td>\n",
              "      <td>27.00</td>\n",
              "      <td>11.00</td>\n",
              "      <td>431.00</td>\n",
              "    </tr>\n",
              "    <tr>\n",
              "      <th>...</th>\n",
              "      <td>...</td>\n",
              "      <td>...</td>\n",
              "      <td>...</td>\n",
              "      <td>...</td>\n",
              "      <td>...</td>\n",
              "      <td>...</td>\n",
              "      <td>...</td>\n",
              "      <td>...</td>\n",
              "      <td>...</td>\n",
              "      <td>...</td>\n",
              "      <td>...</td>\n",
              "    </tr>\n",
              "    <tr>\n",
              "      <th>1454</th>\n",
              "      <td>2174</td>\n",
              "      <td>4</td>\n",
              "      <td>16.80</td>\n",
              "      <td>0</td>\n",
              "      <td>1.60</td>\n",
              "      <td>53.00</td>\n",
              "      <td>2000.00</td>\n",
              "      <td>0.03</td>\n",
              "      <td>37.00</td>\n",
              "      <td>27.00</td>\n",
              "      <td>21.00</td>\n",
              "    </tr>\n",
              "    <tr>\n",
              "      <th>1455</th>\n",
              "      <td>2175</td>\n",
              "      <td>3</td>\n",
              "      <td>10.80</td>\n",
              "      <td>0</td>\n",
              "      <td>3.80</td>\n",
              "      <td>45.00</td>\n",
              "      <td>2000.00</td>\n",
              "      <td>0.04</td>\n",
              "      <td>34.00</td>\n",
              "      <td>19.00</td>\n",
              "      <td>20.00</td>\n",
              "    </tr>\n",
              "    <tr>\n",
              "      <th>1456</th>\n",
              "      <td>2176</td>\n",
              "      <td>5</td>\n",
              "      <td>18.30</td>\n",
              "      <td>0</td>\n",
              "      <td>1.90</td>\n",
              "      <td>54.00</td>\n",
              "      <td>2000.00</td>\n",
              "      <td>0.01</td>\n",
              "      <td>30.00</td>\n",
              "      <td>21.00</td>\n",
              "      <td>22.00</td>\n",
              "    </tr>\n",
              "    <tr>\n",
              "      <th>1457</th>\n",
              "      <td>2178</td>\n",
              "      <td>21</td>\n",
              "      <td>20.70</td>\n",
              "      <td>0</td>\n",
              "      <td>3.70</td>\n",
              "      <td>37.00</td>\n",
              "      <td>1395.00</td>\n",
              "      <td>0.08</td>\n",
              "      <td>71.00</td>\n",
              "      <td>36.00</td>\n",
              "      <td>216.00</td>\n",
              "    </tr>\n",
              "    <tr>\n",
              "      <th>1458</th>\n",
              "      <td>2179</td>\n",
              "      <td>17</td>\n",
              "      <td>21.10</td>\n",
              "      <td>0</td>\n",
              "      <td>3.10</td>\n",
              "      <td>47.00</td>\n",
              "      <td>1973.00</td>\n",
              "      <td>0.05</td>\n",
              "      <td>38.00</td>\n",
              "      <td>17.00</td>\n",
              "      <td>170.00</td>\n",
              "    </tr>\n",
              "  </tbody>\n",
              "</table>\n",
              "<p>1459 rows × 11 columns</p>\n",
              "</div>\n",
              "      <button class=\"colab-df-convert\" onclick=\"convertToInteractive('df-0b583963-ee19-4a55-a734-408c835f78ee')\"\n",
              "              title=\"Convert this dataframe to an interactive table.\"\n",
              "              style=\"display:none;\">\n",
              "        \n",
              "  <svg xmlns=\"http://www.w3.org/2000/svg\" height=\"24px\"viewBox=\"0 0 24 24\"\n",
              "       width=\"24px\">\n",
              "    <path d=\"M0 0h24v24H0V0z\" fill=\"none\"/>\n",
              "    <path d=\"M18.56 5.44l.94 2.06.94-2.06 2.06-.94-2.06-.94-.94-2.06-.94 2.06-2.06.94zm-11 1L8.5 8.5l.94-2.06 2.06-.94-2.06-.94L8.5 2.5l-.94 2.06-2.06.94zm10 10l.94 2.06.94-2.06 2.06-.94-2.06-.94-.94-2.06-.94 2.06-2.06.94z\"/><path d=\"M17.41 7.96l-1.37-1.37c-.4-.4-.92-.59-1.43-.59-.52 0-1.04.2-1.43.59L10.3 9.45l-7.72 7.72c-.78.78-.78 2.05 0 2.83L4 21.41c.39.39.9.59 1.41.59.51 0 1.02-.2 1.41-.59l7.78-7.78 2.81-2.81c.8-.78.8-2.07 0-2.86zM5.41 20L4 18.59l7.72-7.72 1.47 1.35L5.41 20z\"/>\n",
              "  </svg>\n",
              "      </button>\n",
              "      \n",
              "  <style>\n",
              "    .colab-df-container {\n",
              "      display:flex;\n",
              "      flex-wrap:wrap;\n",
              "      gap: 12px;\n",
              "    }\n",
              "\n",
              "    .colab-df-convert {\n",
              "      background-color: #E8F0FE;\n",
              "      border: none;\n",
              "      border-radius: 50%;\n",
              "      cursor: pointer;\n",
              "      display: none;\n",
              "      fill: #1967D2;\n",
              "      height: 32px;\n",
              "      padding: 0 0 0 0;\n",
              "      width: 32px;\n",
              "    }\n",
              "\n",
              "    .colab-df-convert:hover {\n",
              "      background-color: #E2EBFA;\n",
              "      box-shadow: 0px 1px 2px rgba(60, 64, 67, 0.3), 0px 1px 3px 1px rgba(60, 64, 67, 0.15);\n",
              "      fill: #174EA6;\n",
              "    }\n",
              "\n",
              "    [theme=dark] .colab-df-convert {\n",
              "      background-color: #3B4455;\n",
              "      fill: #D2E3FC;\n",
              "    }\n",
              "\n",
              "    [theme=dark] .colab-df-convert:hover {\n",
              "      background-color: #434B5C;\n",
              "      box-shadow: 0px 1px 3px 1px rgba(0, 0, 0, 0.15);\n",
              "      filter: drop-shadow(0px 1px 2px rgba(0, 0, 0, 0.3));\n",
              "      fill: #FFFFFF;\n",
              "    }\n",
              "  </style>\n",
              "\n",
              "      <script>\n",
              "        const buttonEl =\n",
              "          document.querySelector('#df-0b583963-ee19-4a55-a734-408c835f78ee button.colab-df-convert');\n",
              "        buttonEl.style.display =\n",
              "          google.colab.kernel.accessAllowed ? 'block' : 'none';\n",
              "\n",
              "        async function convertToInteractive(key) {\n",
              "          const element = document.querySelector('#df-0b583963-ee19-4a55-a734-408c835f78ee');\n",
              "          const dataTable =\n",
              "            await google.colab.kernel.invokeFunction('convertToInteractive',\n",
              "                                                     [key], {});\n",
              "          if (!dataTable) return;\n",
              "\n",
              "          const docLinkHtml = 'Like what you see? Visit the ' +\n",
              "            '<a target=\"_blank\" href=https://colab.research.google.com/notebooks/data_table.ipynb>data table notebook</a>'\n",
              "            + ' to learn more about interactive tables.';\n",
              "          element.innerHTML = '';\n",
              "          dataTable['output_type'] = 'display_data';\n",
              "          await google.colab.output.renderOutput(dataTable, element);\n",
              "          const docLink = document.createElement('div');\n",
              "          docLink.innerHTML = docLinkHtml;\n",
              "          element.appendChild(docLink);\n",
              "        }\n",
              "      </script>\n",
              "    </div>\n",
              "  </div>\n",
              "  "
            ]
          },
          "metadata": {},
          "execution_count": 78
        }
      ]
    },
    {
      "cell_type": "code",
      "source": [
        "# 0 -> 비가 안온 시간대 1411,\n",
        "# 1 -> 비가 온 시간대 46\n",
        "df['hour_bef_precipitation'].value_counts()"
      ],
      "metadata": {
        "colab": {
          "base_uri": "https://localhost:8080/"
        },
        "id": "OxyUyWo7NNdc",
        "outputId": "f7b58370-19e3-4586-a711-3dc277136c56"
      },
      "execution_count": 85,
      "outputs": [
        {
          "output_type": "execute_result",
          "data": {
            "text/plain": [
              "0    1411\n",
              "1      46\n",
              "Name: hour_bef_precipitation, dtype: int64"
            ]
          },
          "metadata": {},
          "execution_count": 85
        }
      ]
    },
    {
      "cell_type": "code",
      "source": [
        "rain_1 = df[df['hour_bef_precipitation'] == 1]\n",
        "rain_1.describe()"
      ],
      "metadata": {
        "colab": {
          "base_uri": "https://localhost:8080/",
          "height": 364
        },
        "id": "_esmGOpyLLtv",
        "outputId": "1a859a3f-3043-411c-d80a-61f5eb7da43f"
      },
      "execution_count": 84,
      "outputs": [
        {
          "output_type": "execute_result",
          "data": {
            "text/plain": [
              "           id  hour  hour_bef_temperature  hour_bef_windspeed  \\\n",
              "count   46.00 46.00                 46.00               46.00   \n",
              "mean   908.63 12.33                 13.90                2.65   \n",
              "std    623.37  6.93                  2.73                1.67   \n",
              "min      3.00  0.00                  9.50                0.00   \n",
              "25%    477.00  6.25                 11.53                1.40   \n",
              "50%    862.50 14.50                 13.30                2.75   \n",
              "75%   1268.00 17.00                 15.98                3.48   \n",
              "max   2161.00 23.00                 19.90                8.00   \n",
              "\n",
              "       hour_bef_humidity  hour_bef_visibility  hour_bef_ozone  hour_bef_pm10  \\\n",
              "count              46.00                46.00           43.00          41.00   \n",
              "mean               83.41               704.13            0.03          47.90   \n",
              "std                14.64               583.95            0.02          23.75   \n",
              "min                42.00               106.00            0.00           9.00   \n",
              "25%                81.25               285.25            0.02          30.00   \n",
              "50%                88.50               437.50            0.03          41.00   \n",
              "75%                92.00              1080.50            0.04          61.00   \n",
              "max                99.00              2000.00            0.06         109.00   \n",
              "\n",
              "       hour_bef_pm2.5  count  \n",
              "count           40.00  46.00  \n",
              "mean            30.73  33.67  \n",
              "std             11.99  40.69  \n",
              "min              8.00   1.00  \n",
              "25%             23.75   3.25  \n",
              "50%             28.50  19.50  \n",
              "75%             37.00  44.00  \n",
              "max             61.00 165.00  "
            ],
            "text/html": [
              "\n",
              "  <div id=\"df-6b5d8813-405e-49e6-900e-5ece8a54e016\">\n",
              "    <div class=\"colab-df-container\">\n",
              "      <div>\n",
              "<style scoped>\n",
              "    .dataframe tbody tr th:only-of-type {\n",
              "        vertical-align: middle;\n",
              "    }\n",
              "\n",
              "    .dataframe tbody tr th {\n",
              "        vertical-align: top;\n",
              "    }\n",
              "\n",
              "    .dataframe thead th {\n",
              "        text-align: right;\n",
              "    }\n",
              "</style>\n",
              "<table border=\"1\" class=\"dataframe\">\n",
              "  <thead>\n",
              "    <tr style=\"text-align: right;\">\n",
              "      <th></th>\n",
              "      <th>id</th>\n",
              "      <th>hour</th>\n",
              "      <th>hour_bef_temperature</th>\n",
              "      <th>hour_bef_windspeed</th>\n",
              "      <th>hour_bef_humidity</th>\n",
              "      <th>hour_bef_visibility</th>\n",
              "      <th>hour_bef_ozone</th>\n",
              "      <th>hour_bef_pm10</th>\n",
              "      <th>hour_bef_pm2.5</th>\n",
              "      <th>count</th>\n",
              "    </tr>\n",
              "  </thead>\n",
              "  <tbody>\n",
              "    <tr>\n",
              "      <th>count</th>\n",
              "      <td>46.00</td>\n",
              "      <td>46.00</td>\n",
              "      <td>46.00</td>\n",
              "      <td>46.00</td>\n",
              "      <td>46.00</td>\n",
              "      <td>46.00</td>\n",
              "      <td>43.00</td>\n",
              "      <td>41.00</td>\n",
              "      <td>40.00</td>\n",
              "      <td>46.00</td>\n",
              "    </tr>\n",
              "    <tr>\n",
              "      <th>mean</th>\n",
              "      <td>908.63</td>\n",
              "      <td>12.33</td>\n",
              "      <td>13.90</td>\n",
              "      <td>2.65</td>\n",
              "      <td>83.41</td>\n",
              "      <td>704.13</td>\n",
              "      <td>0.03</td>\n",
              "      <td>47.90</td>\n",
              "      <td>30.73</td>\n",
              "      <td>33.67</td>\n",
              "    </tr>\n",
              "    <tr>\n",
              "      <th>std</th>\n",
              "      <td>623.37</td>\n",
              "      <td>6.93</td>\n",
              "      <td>2.73</td>\n",
              "      <td>1.67</td>\n",
              "      <td>14.64</td>\n",
              "      <td>583.95</td>\n",
              "      <td>0.02</td>\n",
              "      <td>23.75</td>\n",
              "      <td>11.99</td>\n",
              "      <td>40.69</td>\n",
              "    </tr>\n",
              "    <tr>\n",
              "      <th>min</th>\n",
              "      <td>3.00</td>\n",
              "      <td>0.00</td>\n",
              "      <td>9.50</td>\n",
              "      <td>0.00</td>\n",
              "      <td>42.00</td>\n",
              "      <td>106.00</td>\n",
              "      <td>0.00</td>\n",
              "      <td>9.00</td>\n",
              "      <td>8.00</td>\n",
              "      <td>1.00</td>\n",
              "    </tr>\n",
              "    <tr>\n",
              "      <th>25%</th>\n",
              "      <td>477.00</td>\n",
              "      <td>6.25</td>\n",
              "      <td>11.53</td>\n",
              "      <td>1.40</td>\n",
              "      <td>81.25</td>\n",
              "      <td>285.25</td>\n",
              "      <td>0.02</td>\n",
              "      <td>30.00</td>\n",
              "      <td>23.75</td>\n",
              "      <td>3.25</td>\n",
              "    </tr>\n",
              "    <tr>\n",
              "      <th>50%</th>\n",
              "      <td>862.50</td>\n",
              "      <td>14.50</td>\n",
              "      <td>13.30</td>\n",
              "      <td>2.75</td>\n",
              "      <td>88.50</td>\n",
              "      <td>437.50</td>\n",
              "      <td>0.03</td>\n",
              "      <td>41.00</td>\n",
              "      <td>28.50</td>\n",
              "      <td>19.50</td>\n",
              "    </tr>\n",
              "    <tr>\n",
              "      <th>75%</th>\n",
              "      <td>1268.00</td>\n",
              "      <td>17.00</td>\n",
              "      <td>15.98</td>\n",
              "      <td>3.48</td>\n",
              "      <td>92.00</td>\n",
              "      <td>1080.50</td>\n",
              "      <td>0.04</td>\n",
              "      <td>61.00</td>\n",
              "      <td>37.00</td>\n",
              "      <td>44.00</td>\n",
              "    </tr>\n",
              "    <tr>\n",
              "      <th>max</th>\n",
              "      <td>2161.00</td>\n",
              "      <td>23.00</td>\n",
              "      <td>19.90</td>\n",
              "      <td>8.00</td>\n",
              "      <td>99.00</td>\n",
              "      <td>2000.00</td>\n",
              "      <td>0.06</td>\n",
              "      <td>109.00</td>\n",
              "      <td>61.00</td>\n",
              "      <td>165.00</td>\n",
              "    </tr>\n",
              "  </tbody>\n",
              "</table>\n",
              "</div>\n",
              "      <button class=\"colab-df-convert\" onclick=\"convertToInteractive('df-6b5d8813-405e-49e6-900e-5ece8a54e016')\"\n",
              "              title=\"Convert this dataframe to an interactive table.\"\n",
              "              style=\"display:none;\">\n",
              "        \n",
              "  <svg xmlns=\"http://www.w3.org/2000/svg\" height=\"24px\"viewBox=\"0 0 24 24\"\n",
              "       width=\"24px\">\n",
              "    <path d=\"M0 0h24v24H0V0z\" fill=\"none\"/>\n",
              "    <path d=\"M18.56 5.44l.94 2.06.94-2.06 2.06-.94-2.06-.94-.94-2.06-.94 2.06-2.06.94zm-11 1L8.5 8.5l.94-2.06 2.06-.94-2.06-.94L8.5 2.5l-.94 2.06-2.06.94zm10 10l.94 2.06.94-2.06 2.06-.94-2.06-.94-.94-2.06-.94 2.06-2.06.94z\"/><path d=\"M17.41 7.96l-1.37-1.37c-.4-.4-.92-.59-1.43-.59-.52 0-1.04.2-1.43.59L10.3 9.45l-7.72 7.72c-.78.78-.78 2.05 0 2.83L4 21.41c.39.39.9.59 1.41.59.51 0 1.02-.2 1.41-.59l7.78-7.78 2.81-2.81c.8-.78.8-2.07 0-2.86zM5.41 20L4 18.59l7.72-7.72 1.47 1.35L5.41 20z\"/>\n",
              "  </svg>\n",
              "      </button>\n",
              "      \n",
              "  <style>\n",
              "    .colab-df-container {\n",
              "      display:flex;\n",
              "      flex-wrap:wrap;\n",
              "      gap: 12px;\n",
              "    }\n",
              "\n",
              "    .colab-df-convert {\n",
              "      background-color: #E8F0FE;\n",
              "      border: none;\n",
              "      border-radius: 50%;\n",
              "      cursor: pointer;\n",
              "      display: none;\n",
              "      fill: #1967D2;\n",
              "      height: 32px;\n",
              "      padding: 0 0 0 0;\n",
              "      width: 32px;\n",
              "    }\n",
              "\n",
              "    .colab-df-convert:hover {\n",
              "      background-color: #E2EBFA;\n",
              "      box-shadow: 0px 1px 2px rgba(60, 64, 67, 0.3), 0px 1px 3px 1px rgba(60, 64, 67, 0.15);\n",
              "      fill: #174EA6;\n",
              "    }\n",
              "\n",
              "    [theme=dark] .colab-df-convert {\n",
              "      background-color: #3B4455;\n",
              "      fill: #D2E3FC;\n",
              "    }\n",
              "\n",
              "    [theme=dark] .colab-df-convert:hover {\n",
              "      background-color: #434B5C;\n",
              "      box-shadow: 0px 1px 3px 1px rgba(0, 0, 0, 0.15);\n",
              "      filter: drop-shadow(0px 1px 2px rgba(0, 0, 0, 0.3));\n",
              "      fill: #FFFFFF;\n",
              "    }\n",
              "  </style>\n",
              "\n",
              "      <script>\n",
              "        const buttonEl =\n",
              "          document.querySelector('#df-6b5d8813-405e-49e6-900e-5ece8a54e016 button.colab-df-convert');\n",
              "        buttonEl.style.display =\n",
              "          google.colab.kernel.accessAllowed ? 'block' : 'none';\n",
              "\n",
              "        async function convertToInteractive(key) {\n",
              "          const element = document.querySelector('#df-6b5d8813-405e-49e6-900e-5ece8a54e016');\n",
              "          const dataTable =\n",
              "            await google.colab.kernel.invokeFunction('convertToInteractive',\n",
              "                                                     [key], {});\n",
              "          if (!dataTable) return;\n",
              "\n",
              "          const docLinkHtml = 'Like what you see? Visit the ' +\n",
              "            '<a target=\"_blank\" href=https://colab.research.google.com/notebooks/data_table.ipynb>data table notebook</a>'\n",
              "            + ' to learn more about interactive tables.';\n",
              "          element.innerHTML = '';\n",
              "          dataTable['output_type'] = 'display_data';\n",
              "          await google.colab.output.renderOutput(dataTable, element);\n",
              "          const docLink = document.createElement('div');\n",
              "          docLink.innerHTML = docLinkHtml;\n",
              "          element.appendChild(docLink);\n",
              "        }\n",
              "      </script>\n",
              "    </div>\n",
              "  </div>\n",
              "  "
            ]
          },
          "metadata": {},
          "execution_count": 84
        }
      ]
    },
    {
      "cell_type": "code",
      "source": [
        "sunny_0 = df[df['hour_bef_precipitation'] == 0]\n",
        "sunny_0.describe()"
      ],
      "metadata": {
        "colab": {
          "base_uri": "https://localhost:8080/",
          "height": 364
        },
        "id": "cZ-FWENqMqDS",
        "outputId": "b322bc8a-d1d5-4709-9dc0-6509c4bbbe2c"
      },
      "execution_count": 83,
      "outputs": [
        {
          "output_type": "execute_result",
          "data": {
            "text/plain": [
              "           id    hour  hour_bef_temperature  hour_bef_windspeed  \\\n",
              "count 1411.00 1411.00               1411.00             1404.00   \n",
              "mean  1111.81   11.47                 16.81                2.47   \n",
              "std    631.06    6.92                  5.28                1.37   \n",
              "min      6.00    0.00                  3.10                0.00   \n",
              "25%    560.50    5.50                 12.90                1.40   \n",
              "50%   1126.00   11.00                 16.80                2.30   \n",
              "75%   1656.00   18.00                 20.20                3.40   \n",
              "max   2179.00   23.00                 30.00                7.70   \n",
              "\n",
              "       hour_bef_humidity  hour_bef_visibility  hour_bef_ozone  hour_bef_pm10  \\\n",
              "count            1411.00              1411.00         1340.00        1328.00   \n",
              "mean               51.21              1428.07            0.04          57.45   \n",
              "std                19.72               568.94            0.02          31.95   \n",
              "min                 7.00                78.00            0.00          12.00   \n",
              "25%                36.00               912.50            0.03          36.00   \n",
              "50%                50.00              1600.00            0.04          51.50   \n",
              "75%                67.00              1996.00            0.05          70.00   \n",
              "max                99.00              2000.00            0.12         269.00   \n",
              "\n",
              "       hour_bef_pm2.5   count  \n",
              "count         1302.00 1411.00  \n",
              "mean            30.31  111.13  \n",
              "std             14.79   82.50  \n",
              "min              8.00    1.00  \n",
              "25%             20.00   40.00  \n",
              "50%             26.00   99.00  \n",
              "75%             37.00  152.50  \n",
              "max             90.00  431.00  "
            ],
            "text/html": [
              "\n",
              "  <div id=\"df-9c09970c-52d7-47de-8da7-27cf12adeddf\">\n",
              "    <div class=\"colab-df-container\">\n",
              "      <div>\n",
              "<style scoped>\n",
              "    .dataframe tbody tr th:only-of-type {\n",
              "        vertical-align: middle;\n",
              "    }\n",
              "\n",
              "    .dataframe tbody tr th {\n",
              "        vertical-align: top;\n",
              "    }\n",
              "\n",
              "    .dataframe thead th {\n",
              "        text-align: right;\n",
              "    }\n",
              "</style>\n",
              "<table border=\"1\" class=\"dataframe\">\n",
              "  <thead>\n",
              "    <tr style=\"text-align: right;\">\n",
              "      <th></th>\n",
              "      <th>id</th>\n",
              "      <th>hour</th>\n",
              "      <th>hour_bef_temperature</th>\n",
              "      <th>hour_bef_windspeed</th>\n",
              "      <th>hour_bef_humidity</th>\n",
              "      <th>hour_bef_visibility</th>\n",
              "      <th>hour_bef_ozone</th>\n",
              "      <th>hour_bef_pm10</th>\n",
              "      <th>hour_bef_pm2.5</th>\n",
              "      <th>count</th>\n",
              "    </tr>\n",
              "  </thead>\n",
              "  <tbody>\n",
              "    <tr>\n",
              "      <th>count</th>\n",
              "      <td>1411.00</td>\n",
              "      <td>1411.00</td>\n",
              "      <td>1411.00</td>\n",
              "      <td>1404.00</td>\n",
              "      <td>1411.00</td>\n",
              "      <td>1411.00</td>\n",
              "      <td>1340.00</td>\n",
              "      <td>1328.00</td>\n",
              "      <td>1302.00</td>\n",
              "      <td>1411.00</td>\n",
              "    </tr>\n",
              "    <tr>\n",
              "      <th>mean</th>\n",
              "      <td>1111.81</td>\n",
              "      <td>11.47</td>\n",
              "      <td>16.81</td>\n",
              "      <td>2.47</td>\n",
              "      <td>51.21</td>\n",
              "      <td>1428.07</td>\n",
              "      <td>0.04</td>\n",
              "      <td>57.45</td>\n",
              "      <td>30.31</td>\n",
              "      <td>111.13</td>\n",
              "    </tr>\n",
              "    <tr>\n",
              "      <th>std</th>\n",
              "      <td>631.06</td>\n",
              "      <td>6.92</td>\n",
              "      <td>5.28</td>\n",
              "      <td>1.37</td>\n",
              "      <td>19.72</td>\n",
              "      <td>568.94</td>\n",
              "      <td>0.02</td>\n",
              "      <td>31.95</td>\n",
              "      <td>14.79</td>\n",
              "      <td>82.50</td>\n",
              "    </tr>\n",
              "    <tr>\n",
              "      <th>min</th>\n",
              "      <td>6.00</td>\n",
              "      <td>0.00</td>\n",
              "      <td>3.10</td>\n",
              "      <td>0.00</td>\n",
              "      <td>7.00</td>\n",
              "      <td>78.00</td>\n",
              "      <td>0.00</td>\n",
              "      <td>12.00</td>\n",
              "      <td>8.00</td>\n",
              "      <td>1.00</td>\n",
              "    </tr>\n",
              "    <tr>\n",
              "      <th>25%</th>\n",
              "      <td>560.50</td>\n",
              "      <td>5.50</td>\n",
              "      <td>12.90</td>\n",
              "      <td>1.40</td>\n",
              "      <td>36.00</td>\n",
              "      <td>912.50</td>\n",
              "      <td>0.03</td>\n",
              "      <td>36.00</td>\n",
              "      <td>20.00</td>\n",
              "      <td>40.00</td>\n",
              "    </tr>\n",
              "    <tr>\n",
              "      <th>50%</th>\n",
              "      <td>1126.00</td>\n",
              "      <td>11.00</td>\n",
              "      <td>16.80</td>\n",
              "      <td>2.30</td>\n",
              "      <td>50.00</td>\n",
              "      <td>1600.00</td>\n",
              "      <td>0.04</td>\n",
              "      <td>51.50</td>\n",
              "      <td>26.00</td>\n",
              "      <td>99.00</td>\n",
              "    </tr>\n",
              "    <tr>\n",
              "      <th>75%</th>\n",
              "      <td>1656.00</td>\n",
              "      <td>18.00</td>\n",
              "      <td>20.20</td>\n",
              "      <td>3.40</td>\n",
              "      <td>67.00</td>\n",
              "      <td>1996.00</td>\n",
              "      <td>0.05</td>\n",
              "      <td>70.00</td>\n",
              "      <td>37.00</td>\n",
              "      <td>152.50</td>\n",
              "    </tr>\n",
              "    <tr>\n",
              "      <th>max</th>\n",
              "      <td>2179.00</td>\n",
              "      <td>23.00</td>\n",
              "      <td>30.00</td>\n",
              "      <td>7.70</td>\n",
              "      <td>99.00</td>\n",
              "      <td>2000.00</td>\n",
              "      <td>0.12</td>\n",
              "      <td>269.00</td>\n",
              "      <td>90.00</td>\n",
              "      <td>431.00</td>\n",
              "    </tr>\n",
              "  </tbody>\n",
              "</table>\n",
              "</div>\n",
              "      <button class=\"colab-df-convert\" onclick=\"convertToInteractive('df-9c09970c-52d7-47de-8da7-27cf12adeddf')\"\n",
              "              title=\"Convert this dataframe to an interactive table.\"\n",
              "              style=\"display:none;\">\n",
              "        \n",
              "  <svg xmlns=\"http://www.w3.org/2000/svg\" height=\"24px\"viewBox=\"0 0 24 24\"\n",
              "       width=\"24px\">\n",
              "    <path d=\"M0 0h24v24H0V0z\" fill=\"none\"/>\n",
              "    <path d=\"M18.56 5.44l.94 2.06.94-2.06 2.06-.94-2.06-.94-.94-2.06-.94 2.06-2.06.94zm-11 1L8.5 8.5l.94-2.06 2.06-.94-2.06-.94L8.5 2.5l-.94 2.06-2.06.94zm10 10l.94 2.06.94-2.06 2.06-.94-2.06-.94-.94-2.06-.94 2.06-2.06.94z\"/><path d=\"M17.41 7.96l-1.37-1.37c-.4-.4-.92-.59-1.43-.59-.52 0-1.04.2-1.43.59L10.3 9.45l-7.72 7.72c-.78.78-.78 2.05 0 2.83L4 21.41c.39.39.9.59 1.41.59.51 0 1.02-.2 1.41-.59l7.78-7.78 2.81-2.81c.8-.78.8-2.07 0-2.86zM5.41 20L4 18.59l7.72-7.72 1.47 1.35L5.41 20z\"/>\n",
              "  </svg>\n",
              "      </button>\n",
              "      \n",
              "  <style>\n",
              "    .colab-df-container {\n",
              "      display:flex;\n",
              "      flex-wrap:wrap;\n",
              "      gap: 12px;\n",
              "    }\n",
              "\n",
              "    .colab-df-convert {\n",
              "      background-color: #E8F0FE;\n",
              "      border: none;\n",
              "      border-radius: 50%;\n",
              "      cursor: pointer;\n",
              "      display: none;\n",
              "      fill: #1967D2;\n",
              "      height: 32px;\n",
              "      padding: 0 0 0 0;\n",
              "      width: 32px;\n",
              "    }\n",
              "\n",
              "    .colab-df-convert:hover {\n",
              "      background-color: #E2EBFA;\n",
              "      box-shadow: 0px 1px 2px rgba(60, 64, 67, 0.3), 0px 1px 3px 1px rgba(60, 64, 67, 0.15);\n",
              "      fill: #174EA6;\n",
              "    }\n",
              "\n",
              "    [theme=dark] .colab-df-convert {\n",
              "      background-color: #3B4455;\n",
              "      fill: #D2E3FC;\n",
              "    }\n",
              "\n",
              "    [theme=dark] .colab-df-convert:hover {\n",
              "      background-color: #434B5C;\n",
              "      box-shadow: 0px 1px 3px 1px rgba(0, 0, 0, 0.15);\n",
              "      filter: drop-shadow(0px 1px 2px rgba(0, 0, 0, 0.3));\n",
              "      fill: #FFFFFF;\n",
              "    }\n",
              "  </style>\n",
              "\n",
              "      <script>\n",
              "        const buttonEl =\n",
              "          document.querySelector('#df-9c09970c-52d7-47de-8da7-27cf12adeddf button.colab-df-convert');\n",
              "        buttonEl.style.display =\n",
              "          google.colab.kernel.accessAllowed ? 'block' : 'none';\n",
              "\n",
              "        async function convertToInteractive(key) {\n",
              "          const element = document.querySelector('#df-9c09970c-52d7-47de-8da7-27cf12adeddf');\n",
              "          const dataTable =\n",
              "            await google.colab.kernel.invokeFunction('convertToInteractive',\n",
              "                                                     [key], {});\n",
              "          if (!dataTable) return;\n",
              "\n",
              "          const docLinkHtml = 'Like what you see? Visit the ' +\n",
              "            '<a target=\"_blank\" href=https://colab.research.google.com/notebooks/data_table.ipynb>data table notebook</a>'\n",
              "            + ' to learn more about interactive tables.';\n",
              "          element.innerHTML = '';\n",
              "          dataTable['output_type'] = 'display_data';\n",
              "          await google.colab.output.renderOutput(dataTable, element);\n",
              "          const docLink = document.createElement('div');\n",
              "          docLink.innerHTML = docLinkHtml;\n",
              "          element.appendChild(docLink);\n",
              "        }\n",
              "      </script>\n",
              "    </div>\n",
              "  </div>\n",
              "  "
            ]
          },
          "metadata": {},
          "execution_count": 83
        }
      ]
    },
    {
      "cell_type": "code",
      "source": [
        "# 온도의 결측치 위치 확인하기\n",
        "df[df['hour_bef_temperature'].isna()]\n",
        "\n",
        "# 934행과 1035행의 온도가 결측값"
      ],
      "metadata": {
        "colab": {
          "base_uri": "https://localhost:8080/",
          "height": 176
        },
        "id": "DYQRkvw-N35m",
        "outputId": "46d0cb93-e938-4a1a-e96a-255a7609b4b3"
      },
      "execution_count": 88,
      "outputs": [
        {
          "output_type": "execute_result",
          "data": {
            "text/plain": [
              "        id  hour  hour_bef_temperature hour_bef_precipitation  \\\n",
              "934   1420     0                   NaN                   None   \n",
              "1035  1553    18                   NaN                   None   \n",
              "\n",
              "      hour_bef_windspeed  hour_bef_humidity  hour_bef_visibility  \\\n",
              "934                  NaN                NaN                  NaN   \n",
              "1035                 NaN                NaN                  NaN   \n",
              "\n",
              "      hour_bef_ozone  hour_bef_pm10  hour_bef_pm2.5  count  \n",
              "934              NaN            NaN             NaN  39.00  \n",
              "1035             NaN            NaN             NaN   1.00  "
            ],
            "text/html": [
              "\n",
              "  <div id=\"df-f0519bc1-f94b-416b-8a0f-699c3bf90883\">\n",
              "    <div class=\"colab-df-container\">\n",
              "      <div>\n",
              "<style scoped>\n",
              "    .dataframe tbody tr th:only-of-type {\n",
              "        vertical-align: middle;\n",
              "    }\n",
              "\n",
              "    .dataframe tbody tr th {\n",
              "        vertical-align: top;\n",
              "    }\n",
              "\n",
              "    .dataframe thead th {\n",
              "        text-align: right;\n",
              "    }\n",
              "</style>\n",
              "<table border=\"1\" class=\"dataframe\">\n",
              "  <thead>\n",
              "    <tr style=\"text-align: right;\">\n",
              "      <th></th>\n",
              "      <th>id</th>\n",
              "      <th>hour</th>\n",
              "      <th>hour_bef_temperature</th>\n",
              "      <th>hour_bef_precipitation</th>\n",
              "      <th>hour_bef_windspeed</th>\n",
              "      <th>hour_bef_humidity</th>\n",
              "      <th>hour_bef_visibility</th>\n",
              "      <th>hour_bef_ozone</th>\n",
              "      <th>hour_bef_pm10</th>\n",
              "      <th>hour_bef_pm2.5</th>\n",
              "      <th>count</th>\n",
              "    </tr>\n",
              "  </thead>\n",
              "  <tbody>\n",
              "    <tr>\n",
              "      <th>934</th>\n",
              "      <td>1420</td>\n",
              "      <td>0</td>\n",
              "      <td>NaN</td>\n",
              "      <td>None</td>\n",
              "      <td>NaN</td>\n",
              "      <td>NaN</td>\n",
              "      <td>NaN</td>\n",
              "      <td>NaN</td>\n",
              "      <td>NaN</td>\n",
              "      <td>NaN</td>\n",
              "      <td>39.00</td>\n",
              "    </tr>\n",
              "    <tr>\n",
              "      <th>1035</th>\n",
              "      <td>1553</td>\n",
              "      <td>18</td>\n",
              "      <td>NaN</td>\n",
              "      <td>None</td>\n",
              "      <td>NaN</td>\n",
              "      <td>NaN</td>\n",
              "      <td>NaN</td>\n",
              "      <td>NaN</td>\n",
              "      <td>NaN</td>\n",
              "      <td>NaN</td>\n",
              "      <td>1.00</td>\n",
              "    </tr>\n",
              "  </tbody>\n",
              "</table>\n",
              "</div>\n",
              "      <button class=\"colab-df-convert\" onclick=\"convertToInteractive('df-f0519bc1-f94b-416b-8a0f-699c3bf90883')\"\n",
              "              title=\"Convert this dataframe to an interactive table.\"\n",
              "              style=\"display:none;\">\n",
              "        \n",
              "  <svg xmlns=\"http://www.w3.org/2000/svg\" height=\"24px\"viewBox=\"0 0 24 24\"\n",
              "       width=\"24px\">\n",
              "    <path d=\"M0 0h24v24H0V0z\" fill=\"none\"/>\n",
              "    <path d=\"M18.56 5.44l.94 2.06.94-2.06 2.06-.94-2.06-.94-.94-2.06-.94 2.06-2.06.94zm-11 1L8.5 8.5l.94-2.06 2.06-.94-2.06-.94L8.5 2.5l-.94 2.06-2.06.94zm10 10l.94 2.06.94-2.06 2.06-.94-2.06-.94-.94-2.06-.94 2.06-2.06.94z\"/><path d=\"M17.41 7.96l-1.37-1.37c-.4-.4-.92-.59-1.43-.59-.52 0-1.04.2-1.43.59L10.3 9.45l-7.72 7.72c-.78.78-.78 2.05 0 2.83L4 21.41c.39.39.9.59 1.41.59.51 0 1.02-.2 1.41-.59l7.78-7.78 2.81-2.81c.8-.78.8-2.07 0-2.86zM5.41 20L4 18.59l7.72-7.72 1.47 1.35L5.41 20z\"/>\n",
              "  </svg>\n",
              "      </button>\n",
              "      \n",
              "  <style>\n",
              "    .colab-df-container {\n",
              "      display:flex;\n",
              "      flex-wrap:wrap;\n",
              "      gap: 12px;\n",
              "    }\n",
              "\n",
              "    .colab-df-convert {\n",
              "      background-color: #E8F0FE;\n",
              "      border: none;\n",
              "      border-radius: 50%;\n",
              "      cursor: pointer;\n",
              "      display: none;\n",
              "      fill: #1967D2;\n",
              "      height: 32px;\n",
              "      padding: 0 0 0 0;\n",
              "      width: 32px;\n",
              "    }\n",
              "\n",
              "    .colab-df-convert:hover {\n",
              "      background-color: #E2EBFA;\n",
              "      box-shadow: 0px 1px 2px rgba(60, 64, 67, 0.3), 0px 1px 3px 1px rgba(60, 64, 67, 0.15);\n",
              "      fill: #174EA6;\n",
              "    }\n",
              "\n",
              "    [theme=dark] .colab-df-convert {\n",
              "      background-color: #3B4455;\n",
              "      fill: #D2E3FC;\n",
              "    }\n",
              "\n",
              "    [theme=dark] .colab-df-convert:hover {\n",
              "      background-color: #434B5C;\n",
              "      box-shadow: 0px 1px 3px 1px rgba(0, 0, 0, 0.15);\n",
              "      filter: drop-shadow(0px 1px 2px rgba(0, 0, 0, 0.3));\n",
              "      fill: #FFFFFF;\n",
              "    }\n",
              "  </style>\n",
              "\n",
              "      <script>\n",
              "        const buttonEl =\n",
              "          document.querySelector('#df-f0519bc1-f94b-416b-8a0f-699c3bf90883 button.colab-df-convert');\n",
              "        buttonEl.style.display =\n",
              "          google.colab.kernel.accessAllowed ? 'block' : 'none';\n",
              "\n",
              "        async function convertToInteractive(key) {\n",
              "          const element = document.querySelector('#df-f0519bc1-f94b-416b-8a0f-699c3bf90883');\n",
              "          const dataTable =\n",
              "            await google.colab.kernel.invokeFunction('convertToInteractive',\n",
              "                                                     [key], {});\n",
              "          if (!dataTable) return;\n",
              "\n",
              "          const docLinkHtml = 'Like what you see? Visit the ' +\n",
              "            '<a target=\"_blank\" href=https://colab.research.google.com/notebooks/data_table.ipynb>data table notebook</a>'\n",
              "            + ' to learn more about interactive tables.';\n",
              "          element.innerHTML = '';\n",
              "          dataTable['output_type'] = 'display_data';\n",
              "          await google.colab.output.renderOutput(dataTable, element);\n",
              "          const docLink = document.createElement('div');\n",
              "          docLink.innerHTML = docLinkHtml;\n",
              "          element.appendChild(docLink);\n",
              "        }\n",
              "      </script>\n",
              "    </div>\n",
              "  </div>\n",
              "  "
            ]
          },
          "metadata": {},
          "execution_count": 88
        }
      ]
    },
    {
      "cell_type": "code",
      "source": [
        "# 시간대별 평균 온도 구하기\n",
        "df.groupby('hour').mean()['hour_bef_temperature']"
      ],
      "metadata": {
        "colab": {
          "base_uri": "https://localhost:8080/"
        },
        "id": "iwRO1WJRNngR",
        "outputId": "0795fa8e-510f-4f82-e69a-83cb908b2fcf"
      },
      "execution_count": 86,
      "outputs": [
        {
          "output_type": "stream",
          "name": "stderr",
          "text": [
            "<ipython-input-86-cea2ddee3628>:2: FutureWarning: The default value of numeric_only in DataFrameGroupBy.mean is deprecated. In a future version, numeric_only will default to False. Either specify numeric_only or select only columns which should be valid for the function.\n",
            "  df.groupby('hour').mean()['hour_bef_temperature']\n"
          ]
        },
        {
          "output_type": "execute_result",
          "data": {
            "text/plain": [
              "hour\n",
              "0    14.79\n",
              "1    14.16\n",
              "2    13.75\n",
              "3    13.36\n",
              "4    13.00\n",
              "5    12.67\n",
              "6    12.38\n",
              "7    12.19\n",
              "8    12.60\n",
              "9    14.32\n",
              "10   16.24\n",
              "11   18.02\n",
              "12   19.46\n",
              "13   20.65\n",
              "14   21.23\n",
              "15   21.74\n",
              "16   22.02\n",
              "17   21.60\n",
              "18   20.93\n",
              "19   19.70\n",
              "20   18.19\n",
              "21   16.98\n",
              "22   16.06\n",
              "23   15.42\n",
              "Name: hour_bef_temperature, dtype: float64"
            ]
          },
          "metadata": {},
          "execution_count": 86
        }
      ]
    },
    {
      "cell_type": "code",
      "source": [
        "# 온도의 결측값을 시간대에 맞게 평균값으로 채워주기\n",
        "# 딕셔너리 형태로 934행에 14.79를 1035행에 20.93을 넣어주고 inplace = True 로 값을 저장해주기\n",
        "\n",
        "df['hour_bef_temperature'].fillna({934:14.79, 1035:20.93}, inplace = True)\n",
        "\n",
        "df.isna().sum()  # 온도의 결측값이 없어짐을 확인ㅇㅇ"
      ],
      "metadata": {
        "colab": {
          "base_uri": "https://localhost:8080/"
        },
        "id": "n3lnf7I_O04i",
        "outputId": "59342499-8dfe-4b27-91bb-f353ad48b93a"
      },
      "execution_count": 91,
      "outputs": [
        {
          "output_type": "execute_result",
          "data": {
            "text/plain": [
              "id                          0\n",
              "hour                        0\n",
              "hour_bef_temperature        0\n",
              "hour_bef_precipitation      2\n",
              "hour_bef_windspeed          9\n",
              "hour_bef_humidity           2\n",
              "hour_bef_visibility         2\n",
              "hour_bef_ozone             76\n",
              "hour_bef_pm10              90\n",
              "hour_bef_pm2.5            117\n",
              "count                       0\n",
              "dtype: int64"
            ]
          },
          "metadata": {},
          "execution_count": 91
        }
      ]
    },
    {
      "cell_type": "code",
      "source": [
        "# 시간을 기준으로 오름차순 정렬\n",
        "df_sort = df.sort_values(by=df.columns[1],ascending = True)\n",
        "df_w = df_sort[['hour','hour_bef_temperature','hour_bef_precipitation','count']]\n",
        "df_w.tail()"
      ],
      "metadata": {
        "colab": {
          "base_uri": "https://localhost:8080/",
          "height": 206
        },
        "id": "hXxySe9HP7MX",
        "outputId": "8e612ab7-4b30-4338-f65f-87e4d97d4aa2"
      },
      "execution_count": 110,
      "outputs": [
        {
          "output_type": "execute_result",
          "data": {
            "text/plain": [
              "      hour  hour_bef_temperature hour_bef_precipitation  count\n",
              "1146    23                 19.50                      0 134.00\n",
              "820     23                 10.00                      0  73.00\n",
              "1160    23                 20.40                      0 124.00\n",
              "1369    23                 13.10                      0  98.00\n",
              "1036    23                  9.50                      0  58.00"
            ],
            "text/html": [
              "\n",
              "  <div id=\"df-fa7dcb75-959b-4132-89ae-1bb4ed509a01\">\n",
              "    <div class=\"colab-df-container\">\n",
              "      <div>\n",
              "<style scoped>\n",
              "    .dataframe tbody tr th:only-of-type {\n",
              "        vertical-align: middle;\n",
              "    }\n",
              "\n",
              "    .dataframe tbody tr th {\n",
              "        vertical-align: top;\n",
              "    }\n",
              "\n",
              "    .dataframe thead th {\n",
              "        text-align: right;\n",
              "    }\n",
              "</style>\n",
              "<table border=\"1\" class=\"dataframe\">\n",
              "  <thead>\n",
              "    <tr style=\"text-align: right;\">\n",
              "      <th></th>\n",
              "      <th>hour</th>\n",
              "      <th>hour_bef_temperature</th>\n",
              "      <th>hour_bef_precipitation</th>\n",
              "      <th>count</th>\n",
              "    </tr>\n",
              "  </thead>\n",
              "  <tbody>\n",
              "    <tr>\n",
              "      <th>1146</th>\n",
              "      <td>23</td>\n",
              "      <td>19.50</td>\n",
              "      <td>0</td>\n",
              "      <td>134.00</td>\n",
              "    </tr>\n",
              "    <tr>\n",
              "      <th>820</th>\n",
              "      <td>23</td>\n",
              "      <td>10.00</td>\n",
              "      <td>0</td>\n",
              "      <td>73.00</td>\n",
              "    </tr>\n",
              "    <tr>\n",
              "      <th>1160</th>\n",
              "      <td>23</td>\n",
              "      <td>20.40</td>\n",
              "      <td>0</td>\n",
              "      <td>124.00</td>\n",
              "    </tr>\n",
              "    <tr>\n",
              "      <th>1369</th>\n",
              "      <td>23</td>\n",
              "      <td>13.10</td>\n",
              "      <td>0</td>\n",
              "      <td>98.00</td>\n",
              "    </tr>\n",
              "    <tr>\n",
              "      <th>1036</th>\n",
              "      <td>23</td>\n",
              "      <td>9.50</td>\n",
              "      <td>0</td>\n",
              "      <td>58.00</td>\n",
              "    </tr>\n",
              "  </tbody>\n",
              "</table>\n",
              "</div>\n",
              "      <button class=\"colab-df-convert\" onclick=\"convertToInteractive('df-fa7dcb75-959b-4132-89ae-1bb4ed509a01')\"\n",
              "              title=\"Convert this dataframe to an interactive table.\"\n",
              "              style=\"display:none;\">\n",
              "        \n",
              "  <svg xmlns=\"http://www.w3.org/2000/svg\" height=\"24px\"viewBox=\"0 0 24 24\"\n",
              "       width=\"24px\">\n",
              "    <path d=\"M0 0h24v24H0V0z\" fill=\"none\"/>\n",
              "    <path d=\"M18.56 5.44l.94 2.06.94-2.06 2.06-.94-2.06-.94-.94-2.06-.94 2.06-2.06.94zm-11 1L8.5 8.5l.94-2.06 2.06-.94-2.06-.94L8.5 2.5l-.94 2.06-2.06.94zm10 10l.94 2.06.94-2.06 2.06-.94-2.06-.94-.94-2.06-.94 2.06-2.06.94z\"/><path d=\"M17.41 7.96l-1.37-1.37c-.4-.4-.92-.59-1.43-.59-.52 0-1.04.2-1.43.59L10.3 9.45l-7.72 7.72c-.78.78-.78 2.05 0 2.83L4 21.41c.39.39.9.59 1.41.59.51 0 1.02-.2 1.41-.59l7.78-7.78 2.81-2.81c.8-.78.8-2.07 0-2.86zM5.41 20L4 18.59l7.72-7.72 1.47 1.35L5.41 20z\"/>\n",
              "  </svg>\n",
              "      </button>\n",
              "      \n",
              "  <style>\n",
              "    .colab-df-container {\n",
              "      display:flex;\n",
              "      flex-wrap:wrap;\n",
              "      gap: 12px;\n",
              "    }\n",
              "\n",
              "    .colab-df-convert {\n",
              "      background-color: #E8F0FE;\n",
              "      border: none;\n",
              "      border-radius: 50%;\n",
              "      cursor: pointer;\n",
              "      display: none;\n",
              "      fill: #1967D2;\n",
              "      height: 32px;\n",
              "      padding: 0 0 0 0;\n",
              "      width: 32px;\n",
              "    }\n",
              "\n",
              "    .colab-df-convert:hover {\n",
              "      background-color: #E2EBFA;\n",
              "      box-shadow: 0px 1px 2px rgba(60, 64, 67, 0.3), 0px 1px 3px 1px rgba(60, 64, 67, 0.15);\n",
              "      fill: #174EA6;\n",
              "    }\n",
              "\n",
              "    [theme=dark] .colab-df-convert {\n",
              "      background-color: #3B4455;\n",
              "      fill: #D2E3FC;\n",
              "    }\n",
              "\n",
              "    [theme=dark] .colab-df-convert:hover {\n",
              "      background-color: #434B5C;\n",
              "      box-shadow: 0px 1px 3px 1px rgba(0, 0, 0, 0.15);\n",
              "      filter: drop-shadow(0px 1px 2px rgba(0, 0, 0, 0.3));\n",
              "      fill: #FFFFFF;\n",
              "    }\n",
              "  </style>\n",
              "\n",
              "      <script>\n",
              "        const buttonEl =\n",
              "          document.querySelector('#df-fa7dcb75-959b-4132-89ae-1bb4ed509a01 button.colab-df-convert');\n",
              "        buttonEl.style.display =\n",
              "          google.colab.kernel.accessAllowed ? 'block' : 'none';\n",
              "\n",
              "        async function convertToInteractive(key) {\n",
              "          const element = document.querySelector('#df-fa7dcb75-959b-4132-89ae-1bb4ed509a01');\n",
              "          const dataTable =\n",
              "            await google.colab.kernel.invokeFunction('convertToInteractive',\n",
              "                                                     [key], {});\n",
              "          if (!dataTable) return;\n",
              "\n",
              "          const docLinkHtml = 'Like what you see? Visit the ' +\n",
              "            '<a target=\"_blank\" href=https://colab.research.google.com/notebooks/data_table.ipynb>data table notebook</a>'\n",
              "            + ' to learn more about interactive tables.';\n",
              "          element.innerHTML = '';\n",
              "          dataTable['output_type'] = 'display_data';\n",
              "          await google.colab.output.renderOutput(dataTable, element);\n",
              "          const docLink = document.createElement('div');\n",
              "          docLink.innerHTML = docLinkHtml;\n",
              "          element.appendChild(docLink);\n",
              "        }\n",
              "      </script>\n",
              "    </div>\n",
              "  </div>\n",
              "  "
            ]
          },
          "metadata": {},
          "execution_count": 110
        }
      ]
    }
  ]
}