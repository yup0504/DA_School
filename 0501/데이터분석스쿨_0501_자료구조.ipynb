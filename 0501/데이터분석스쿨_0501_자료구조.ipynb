{
  "nbformat": 4,
  "nbformat_minor": 0,
  "metadata": {
    "colab": {
      "provenance": []
    },
    "kernelspec": {
      "name": "python3",
      "display_name": "Python 3"
    },
    "language_info": {
      "name": "python"
    }
  },
  "cells": [
    {
      "cell_type": "code",
      "execution_count": null,
      "metadata": {
        "id": "DBreUQ0GfUPX"
      },
      "outputs": [],
      "source": [
        "# 1차원 리스트\n",
        "\n",
        "a = [100000, 2, 1, 3]\n",
        "print(type(a))"
      ]
    },
    {
      "cell_type": "code",
      "source": [
        "b = list('leehojun')"
      ],
      "metadata": {
        "id": "QBlOMbuDmo4B"
      },
      "execution_count": null,
      "outputs": []
    },
    {
      "cell_type": "code",
      "source": [
        "print(type(b))"
      ],
      "metadata": {
        "id": "nMqPJ2kumo0g"
      },
      "execution_count": null,
      "outputs": []
    },
    {
      "cell_type": "code",
      "source": [
        "c = [[2]]"
      ],
      "metadata": {
        "id": "OUTijrYEms0v"
      },
      "execution_count": null,
      "outputs": []
    },
    {
      "cell_type": "code",
      "source": [
        "a = [[1, 2, 3],\n",
        "     [11, 22, 33],\n",
        "     ['leehojun', 20, 30]\n",
        "    ]\n",
        "print(a)"
      ],
      "metadata": {
        "id": "UEQaXn1BmsyG"
      },
      "execution_count": null,
      "outputs": []
    },
    {
      "cell_type": "code",
      "source": [
        "a[0]"
      ],
      "metadata": {
        "id": "cLtIRnlomstd"
      },
      "execution_count": null,
      "outputs": []
    },
    {
      "cell_type": "code",
      "source": [
        "a[0][0]"
      ],
      "metadata": {
        "id": "yfvCd0aMmspr"
      },
      "execution_count": null,
      "outputs": []
    },
    {
      "cell_type": "code",
      "source": [
        "a[2][0][:3]"
      ],
      "metadata": {
        "id": "smDdFqlOmsnI"
      },
      "execution_count": null,
      "outputs": []
    },
    {
      "cell_type": "markdown",
      "source": [
        "#1.1 리스트 복습"
      ],
      "metadata": {
        "id": "OtPXI0mBm5dZ"
      }
    },
    {
      "cell_type": "code",
      "source": [
        "#1.1.1 리스트 생성\n",
        "\n",
        "List_01 = []\n",
        "print(f\"첫번째 리스트 예제의 값은 : {List_01}\")\n",
        "\n",
        "List_02 = list()\n",
        "print(f\"두번째 리스트 예제의 값은 : {List_02}\")"
      ],
      "metadata": {
        "id": "efM-Kebdmsld"
      },
      "execution_count": null,
      "outputs": []
    },
    {
      "cell_type": "code",
      "source": [
        "# 1.1.2 리스트 생성 - 여러 형태의 리스트\n",
        "\n",
        "# 단일 자료형 리스트\n",
        "List_03 = [10, 55, 20, 75]\n",
        "print(\"세번째 리스트 예제의 값은 : \" , List_03)\n",
        "\n",
        "# 복합 자료형 리스트(문자, 숫자)\n",
        "List_04 = [1000, 10000,'Lion', 'Weniv', 'Coding']\n",
        "print(\"네번째 리스트 예제의 값은 : \" , List_04)\n",
        "\n",
        "# 복합 리스트 - 리스트 안에 리스트\n",
        "List_05 = [1000, 10000, ['Lion', 'Weniv', 'Coding']]\n",
        "print(\"다섯번째 리스트 예제의 값은 : \" , List_05)\n",
        "\n",
        "# 복합 자료형 리스트(3가지 이상)\n",
        "List_06 = [54.42, 'not', 3, 4, False, 3.14159]\n",
        "print(\"여섯번째 리스트 예제의 값은 : \" , List_06)"
      ],
      "metadata": {
        "id": "P-yFZhe9msU3"
      },
      "execution_count": null,
      "outputs": []
    },
    {
      "cell_type": "code",
      "source": [
        "# 1.1.3 리스트 생성 - 이차원 리스트\n",
        "\n",
        "kor = [10, 20, 30]\n",
        "math = [30, 40, 50]\n",
        "eng = [60, 70, 80]\n",
        "\n",
        "score_all = [kor, math, eng]\n",
        "\n",
        "print(score_all)"
      ],
      "metadata": {
        "id": "4VwezE0qmsLp"
      },
      "execution_count": null,
      "outputs": []
    },
    {
      "cell_type": "code",
      "source": [
        "# 1.1.4 리스트 생성 - range\n",
        "\n",
        "a = list(range(10))\n",
        "print(a)"
      ],
      "metadata": {
        "id": "F2t2PhnTmsIC"
      },
      "execution_count": null,
      "outputs": []
    },
    {
      "cell_type": "markdown",
      "source": [
        "### 1.1.2 리스트 인덱싱/슬라이싱\n",
        "\n",
        "리스트 인덱싱과 슬라이싱은 간단하지만 사용하다보면 헷갈릴 경우가 많습니다. 보통 데이터의 구조가 2차원 이상의 구조이고, 데이터를 정제하다보면 헷갈릴 경우가 많기 때문에 복습해보면서 잘 알아둡시다!\n",
        "\n",
        "* 리스트 인덱싱 - 휴대폰 단축번호를 생각하면 쉬움 - 1번은 어머니  2번은 아버지 3번은 선생님\n",
        "* 리스트 슬라이싱 - 휴대폰 그룹을 생각하면 쉬움 - 어머니,아버지는 가족 선생님,친구1은 학교"
      ],
      "metadata": {
        "id": "Cvz49pGdnAJi"
      }
    },
    {
      "cell_type": "code",
      "source": [
        "# 리스트 인덱싱 예제\n",
        "\n",
        "# 휴대폰 번호 순서\n",
        "Phone_num = ['어머니', '아버지', '선생님','친구1']\n",
        "\n",
        "# 리스트 인덱싱\n",
        "print(Phone_num[0])\n",
        "print(Phone_num[2])\n",
        "\n",
        "# 리스트 슬라이싱\n",
        "# 리스트 슬라이싱때 맨 마지막 숫자 +1 주의\n",
        "family = Phone_num[0:2]\n",
        "school = Phone_num[2:4]\n",
        "\n",
        "print(family)\n",
        "print(school)"
      ],
      "metadata": {
        "id": "uVbHCGY3nDOK"
      },
      "execution_count": null,
      "outputs": []
    },
    {
      "cell_type": "code",
      "source": [
        "score_all = [kor, math, eng]\n",
        "\n",
        "print(score_all)"
      ],
      "metadata": {
        "id": "eit6UcWZnFcp"
      },
      "execution_count": null,
      "outputs": []
    },
    {
      "cell_type": "code",
      "source": [
        "# 2차원 리스트 인덱싱/슬라이싱\n",
        "\n",
        "# 1.1.3 리스트 생성 - 이차원 리스트\n",
        "\n",
        "kor = [10, 20, 30]\n",
        "math = [30, 40, 50]\n",
        "eng = [60, 70, 80]\n",
        "\n",
        "score_all = [kor, math, eng]\n",
        "\n",
        "print(score_all)\n",
        "\n",
        "print(score_all[0][1]) # 국어 점수 / 2번째 학생\n",
        "print(score_all[1][2]) # 수학 점수 / 3번째 학생"
      ],
      "metadata": {
        "id": "yFcjDBxOnFXV"
      },
      "execution_count": null,
      "outputs": []
    },
    {
      "cell_type": "code",
      "source": [
        "# 리스트 갱신하기\n",
        "\n",
        "# 휴대폰 번호 순서\n",
        "Phone_num = ['어머니', '아버지', '선생님','친구1']\n",
        "\n",
        "Phone_num[3] = '이모'\n",
        "\n",
        "print(Phone_num)"
      ],
      "metadata": {
        "id": "7iOMrQ18nFUY"
      },
      "execution_count": null,
      "outputs": []
    },
    {
      "cell_type": "code",
      "source": [
        "# 결측값을 대체\n",
        "\n",
        "# 숫자열\n",
        "['어머니', '아버지', '선생님', '', '.', '.']\n",
        "\n",
        "# 문자열\n",
        "['어머니', '아버지', '선생님', '', '', '']"
      ],
      "metadata": {
        "id": "cmAz19b2nFQQ"
      },
      "execution_count": null,
      "outputs": []
    },
    {
      "cell_type": "code",
      "source": [
        "# 리스트 갯수 파악하기\n",
        "\n",
        "len(Phone_num)"
      ],
      "metadata": {
        "id": "NdftEIvYnFMf"
      },
      "execution_count": null,
      "outputs": []
    },
    {
      "cell_type": "markdown",
      "source": [
        "#1.1.3 리스트 함수\n",
        "\n",
        "주로 사용하는 리스트 함수에 대해 복습해봅시다.\n",
        "\n",
        "[데이터 추가 함수]\n",
        "* append() 리스트 맨 마지막에 인덱스 추가\n",
        "* extend() 기존 리스트에 새로운 리스트를 합침\n",
        "* insert() 특정 위치에 값을 추가\n",
        "\n",
        "[데이터 제거 함수]\n",
        "* pop() 리스트 끝에서 부터 하나씩 꺼내어 반환한 뒤 삭제\n",
        "* remove() 리스트에 있는 특정값을 제거\n",
        "* del - 특정 인덱스 위치에 있는 값을 제거\n",
        "* clear() 리스트 안에 있는 원소를 다 비우는 함수\n",
        "\n",
        "[데이터 정렬 함수]\n",
        "* sort() 오름차순으로 정렬(내림차순의 경우 reverse = True)\n",
        "* reverse() 값의 순서를 거꾸로 뒤집어서 사용\n",
        "\n",
        "[데이터 중복 확인]\n",
        "* count(\"특정값\") 특정값이 몇개나 중복으로 있는지 체크 가능\n",
        "\n",
        "[데이터 위치 확인]\n",
        "* index()"
      ],
      "metadata": {
        "id": "ud_VfsJpnMWq"
      }
    },
    {
      "cell_type": "code",
      "source": [
        "# 리스트 함수 실습\n",
        "l = [1, 2, 3]\n",
        "dir(l) # dir을 통해 사용할 수 있는 함수(메서드) 확인 가능"
      ],
      "metadata": {
        "id": "CPEHrNeXnFJk"
      },
      "execution_count": null,
      "outputs": []
    },
    {
      "cell_type": "code",
      "source": [
        "# 버스 승객 탑승 \n",
        "\n",
        "# 리스트 함수를 사용해서 실습할 것\n",
        "# 상황 1. 버스에 버스기사 아저씨가 탑승해서 운행가능 \n",
        "\n",
        "bus = []\n",
        "print(bus)\n"
      ],
      "metadata": {
        "id": "ntCm3R88nQ1Z"
      },
      "execution_count": null,
      "outputs": []
    },
    {
      "cell_type": "code",
      "source": [
        "# 상황 1. 버스기사 아저씨가 탑승을 하려면\n",
        "bus.append('버스기사아저씨')\n",
        "print(f'버스에는 누가 타고 있을까요? {bus}가 타고 있어요')"
      ],
      "metadata": {
        "id": "WVzyZbMunQwn"
      },
      "execution_count": null,
      "outputs": []
    },
    {
      "cell_type": "code",
      "source": [
        "# 상황 2. 버스에 철수가 탑승을 했다.\n",
        "bus.append('철수')\n",
        "print(f'버스에는 누가 타고 있을까요? {bus}가 타고 있어요')"
      ],
      "metadata": {
        "id": "jfkLOw_YnQqB"
      },
      "execution_count": null,
      "outputs": []
    },
    {
      "cell_type": "code",
      "source": [
        "# 상황 3. 선생님이 아이 3명을 데리고 탑승했어요.\n",
        "kinder = ['선생님','아이1','아이2','아이3']\n",
        "bus.extend(kinder)\n",
        "\n",
        "print(f'버스에는 누가 타고 있을까요? {bus}가 타고 있어요')\n",
        "print(f'몇명이나 타고 있을까요? {len(bus)}명이 타고 있어요')"
      ],
      "metadata": {
        "id": "K7ZwapZjnQlC"
      },
      "execution_count": null,
      "outputs": []
    },
    {
      "cell_type": "code",
      "source": [
        "# 상황 4. 노인 한분이 탑승하셨어요\n",
        "# insert()\n",
        "\n",
        "bus.insert(1, '노인')"
      ],
      "metadata": {
        "id": "yg8-4PpvnQhW"
      },
      "execution_count": null,
      "outputs": []
    },
    {
      "cell_type": "code",
      "source": [
        "print(f'버스에는 누가 타고 있을까요? {bus}가 타고 있어요')\n",
        "print(f'몇명이나 타고 있을까요? {len(bus)}명이 타고 있어요')"
      ],
      "metadata": {
        "id": "S_Jj_Fx9nQdy"
      },
      "execution_count": null,
      "outputs": []
    },
    {
      "cell_type": "code",
      "source": [
        "# 아이의 위치 확인\n",
        "kid1 = bus.index('아이1')\n",
        "print(kid1)"
      ],
      "metadata": {
        "id": "kz0nz65XnQaN"
      },
      "execution_count": null,
      "outputs": []
    },
    {
      "cell_type": "code",
      "source": [
        "# 노인분이 내리고자 할때\n",
        "bus.remove('철수')\n",
        "\n",
        "print(f'버스에는 누가 타고 있을까요? {bus}가 타고 있어요')\n",
        "print(f'몇명이나 타고 있을까요? {len(bus)}명이 타고 있어요')"
      ],
      "metadata": {
        "id": "g32I9LminerL"
      },
      "execution_count": null,
      "outputs": []
    },
    {
      "cell_type": "code",
      "source": [
        "# 상황 6. 선생님이 아이들을 한명 한명 인원 체크를 하며 내리려고 하고 있어요.\n",
        "# 인원체크 후에 선생님이 마지막으로 내릴거에요\n",
        "\n",
        "bus.pop()"
      ],
      "metadata": {
        "id": "7Y8nlGfZneoE"
      },
      "execution_count": null,
      "outputs": []
    },
    {
      "cell_type": "code",
      "source": [
        "print(f'버스에는 누가 타고 있을까요? {bus}가 타고 있어요')\n"
      ],
      "metadata": {
        "id": "gvPdvpSxneks"
      },
      "execution_count": null,
      "outputs": []
    },
    {
      "cell_type": "code",
      "source": [
        "bus.pop()"
      ],
      "metadata": {
        "id": "FbxRWIfunehi"
      },
      "execution_count": null,
      "outputs": []
    },
    {
      "cell_type": "code",
      "source": [
        "print(f'버스에는 누가 타고 있을까요? {bus}가 타고 있어요')\n"
      ],
      "metadata": {
        "id": "M1DrRoKBnefA"
      },
      "execution_count": null,
      "outputs": []
    },
    {
      "cell_type": "code",
      "source": [
        "bus.pop()\n",
        "print(f'버스에는 누가 타고 있을까요? {bus}가 타고 있어요')\n"
      ],
      "metadata": {
        "id": "pvvQyF4Knebn"
      },
      "execution_count": null,
      "outputs": []
    },
    {
      "cell_type": "code",
      "source": [
        "bus.clear()"
      ],
      "metadata": {
        "id": "HoWAcDLzneXD"
      },
      "execution_count": null,
      "outputs": []
    },
    {
      "cell_type": "code",
      "source": [
        "bus"
      ],
      "metadata": {
        "id": "XsdoHK7-nmXt"
      },
      "execution_count": null,
      "outputs": []
    },
    {
      "cell_type": "markdown",
      "source": [
        "###1.1.4 리스트 연산\n",
        "\n",
        "[리스트 연산]\n",
        "\n",
        "* 리스트 덧셈\n",
        "* 리스트 곱셉\n",
        "* in 연산"
      ],
      "metadata": {
        "id": "S6AuytPHnod1"
      }
    },
    {
      "cell_type": "code",
      "source": [
        "# 리스트 덧셈\n",
        "\n",
        "company1 = ['멋쟁이사자처럼']\n",
        "company2 = ['위니브']\n",
        "company3 = ['테킷']"
      ],
      "metadata": {
        "id": "OyrxABg9nqZG"
      },
      "execution_count": null,
      "outputs": []
    },
    {
      "cell_type": "code",
      "source": [
        "company_all =[company1 + company2 + company3]"
      ],
      "metadata": {
        "id": "2ZXgHORgnvre"
      },
      "execution_count": null,
      "outputs": []
    },
    {
      "cell_type": "code",
      "source": [
        "print(company_all)"
      ],
      "metadata": {
        "id": "ibZMzqfznxlY"
      },
      "execution_count": null,
      "outputs": []
    },
    {
      "cell_type": "code",
      "source": [
        "company_all_01 = company1 + company2 + company3"
      ],
      "metadata": {
        "id": "iyfG2QV0oe3w"
      },
      "execution_count": null,
      "outputs": []
    },
    {
      "cell_type": "code",
      "source": [
        "print(company_all_01)"
      ],
      "metadata": {
        "id": "6wg1F6Eeois9"
      },
      "execution_count": null,
      "outputs": []
    },
    {
      "cell_type": "code",
      "source": [
        "# 리스트 곱셈\n",
        "\n",
        "company1 * 3"
      ],
      "metadata": {
        "id": "IXj3DKdHomg9"
      },
      "execution_count": null,
      "outputs": []
    },
    {
      "cell_type": "code",
      "source": [
        "# 리스트내의 요소 찾기\n",
        "'멋쟁이사자처럼' in company_all_01"
      ],
      "metadata": {
        "id": "ESeXyq2gooLi"
      },
      "execution_count": null,
      "outputs": []
    },
    {
      "cell_type": "code",
      "source": [
        "# 연습문제 1. 정수 5개를 Input으로 리스트형태로 입력받아서 평균을 내보기\n",
        "# 1개 입력받을때마다 추가가 되어서\n",
        "# 5개를 받을때는 리스트안에 값이 5개가 있어야함\n",
        "\n",
        "fd = []\n",
        "for i in range(5):\n",
        "    fd.append(int(input()))\n",
        "aver = sum(fd)/len(fd)\n",
        "aver\n"
      ],
      "metadata": {
        "id": "0JsJ727Zoryh"
      },
      "execution_count": null,
      "outputs": []
    },
    {
      "cell_type": "code",
      "source": [
        "fd = []\n",
        "for i in range(5):\n",
        "    fd.append(int(input()))\n",
        "aver = sum(fd)/len(fd)\n",
        "aver"
      ],
      "metadata": {
        "id": "LySYg6N0pAzL"
      },
      "execution_count": null,
      "outputs": []
    },
    {
      "cell_type": "code",
      "source": [
        "# 연습문제 1. 정수 5개를 Input으로 리스트형태로 입력받아서 \n",
        "# 평균을 내보기\n",
        "list_example = []\n",
        "\n",
        "list_example.append(int(input(\"정수를 입력하세요\")))\n",
        "list_example.append(int(input(\"정수를 입력하세요\")))\n",
        "list_example.append(int(input(\"정수를 입력하세요\")))\n",
        "list_example.append(int(input(\"정수를 입력하세요\")))\n",
        "list_example.append(int(input(\"정수를 입력하세요\")))\n",
        "\n",
        "print(list_example)\n",
        "\n",
        "avg = (list_example[0]\n",
        "       + list_example[1]\n",
        "       + list_example[2]\n",
        "       + lilist_example[3]\n",
        "       + list[4])\n",
        "print(f'5개의 값의 평균은 {avg}입니다')\n",
        "\n"
      ],
      "metadata": {
        "id": "o-kzILwCsvJA"
      },
      "execution_count": null,
      "outputs": []
    },
    {
      "cell_type": "markdown",
      "source": [
        "### 1.1.5 패킹과 언패킹\n",
        "\n",
        "패킹과 언패킹은 일반적으로도 사용하지만 나중에 한번 더 언급하기로 하고 일단 개념에 대해 복습해보자"
      ],
      "metadata": {
        "id": "s_XMyFzrtRLn"
      }
    },
    {
      "cell_type": "code",
      "source": [
        "# 패킹\n",
        "t = [1, 2, 3]"
      ],
      "metadata": {
        "id": "H2wG_lnrxTXy"
      },
      "execution_count": null,
      "outputs": []
    },
    {
      "cell_type": "code",
      "source": [
        "# 언패킹\n",
        "a, b, c = t"
      ],
      "metadata": {
        "id": "ljXGcuLAxUEn"
      },
      "execution_count": null,
      "outputs": []
    },
    {
      "cell_type": "code",
      "source": [
        "print(t)"
      ],
      "metadata": {
        "id": "SAiWA2JexT_Y"
      },
      "execution_count": null,
      "outputs": []
    },
    {
      "cell_type": "code",
      "source": [
        "print(a)\n",
        "print(b)\n",
        "print(c)"
      ],
      "metadata": {
        "id": "ZDRa7CitxT7a"
      },
      "execution_count": null,
      "outputs": []
    },
    {
      "cell_type": "markdown",
      "source": [
        "# 1.1.6 리스트 컴프리 핸션"
      ],
      "metadata": {
        "id": "oNJ87cFMxapV"
      }
    },
    {
      "cell_type": "code",
      "source": [
        "# 기본 리스트에 값 채워넣기\n",
        "\n",
        "li = []\n",
        "\n",
        "for i in range(5):\n",
        "  li.append(i)\n",
        "\n",
        "print(li)"
      ],
      "metadata": {
        "id": "e8Bqw03fxaQ1"
      },
      "execution_count": null,
      "outputs": []
    },
    {
      "cell_type": "code",
      "source": [
        "[i for i in range(5)]"
      ],
      "metadata": {
        "id": "A2BkKNshxT3n"
      },
      "execution_count": null,
      "outputs": []
    },
    {
      "cell_type": "code",
      "source": [
        "# 1) 수식 적용\n",
        "\n",
        "[i*10 for i in range(5)]"
      ],
      "metadata": {
        "id": "qJMsyCF_xTzb"
      },
      "execution_count": null,
      "outputs": []
    },
    {
      "cell_type": "code",
      "source": [
        "# 2) 조건문 적용\n",
        "[i for i in range(5) if i % 2 == 0]"
      ],
      "metadata": {
        "id": "we3t9P3yxTwh"
      },
      "execution_count": null,
      "outputs": []
    },
    {
      "cell_type": "markdown",
      "source": [
        "#1.1.7 다양한 방식의 리스트 출력"
      ],
      "metadata": {
        "id": "bHg_TYUdxjaA"
      }
    },
    {
      "cell_type": "code",
      "source": [
        "# enumerate()함수\n",
        "# 데이터 법이 많이 개정, \n",
        "\n",
        "for i, v in enumerate(['가위','바위','보']):\n",
        "  print(i, v)"
      ],
      "metadata": {
        "id": "JCcqcuJAxh49"
      },
      "execution_count": null,
      "outputs": []
    },
    {
      "cell_type": "code",
      "source": [
        "for i in ['가위','바위','보']:\n",
        "  print(i)"
      ],
      "metadata": {
        "id": "XxK1fm-hxh06"
      },
      "execution_count": null,
      "outputs": []
    },
    {
      "cell_type": "code",
      "source": [
        "# zip 함수\n",
        "\n",
        "alist = ['가위','바위','보']\n",
        "blist = ['바위','가위','보']\n",
        "\n",
        "for a, b in zip(alist, blist):\n",
        "  print(a,b)"
      ],
      "metadata": {
        "id": "uQNJdgHhxhx2"
      },
      "execution_count": null,
      "outputs": []
    },
    {
      "cell_type": "code",
      "source": [
        "for x, y in zip(range(10), range(10)):\n",
        "  print(x, y)"
      ],
      "metadata": {
        "id": "_0Chl00Axhty"
      },
      "execution_count": null,
      "outputs": []
    },
    {
      "cell_type": "code",
      "source": [
        "dict_num = { x:y for x, y in zip(range(10),range(10))}\n",
        "{0: 0, 1: 1, 2: 2, 3: 3, 4: 4, 5: 5, 6: 6, 7: 7, 8: 8, 9: 9}"
      ],
      "metadata": {
        "id": "mw-VCML8xhq2"
      },
      "execution_count": null,
      "outputs": []
    },
    {
      "cell_type": "code",
      "source": [
        "#enumerate & zip 함수\n",
        "\n",
        "alist = ['가위', '바위', '보']\n",
        "blist = ['보', '가위', '바위']\n",
        "for i, (a, b) in enumerate((zip(alist, blist))):\n",
        "  print(i, a, b)"
      ],
      "metadata": {
        "id": "U4l4NwHCxhn0"
      },
      "execution_count": null,
      "outputs": []
    },
    {
      "cell_type": "markdown",
      "source": [
        "# 2.1. 튜플"
      ],
      "metadata": {
        "id": "u8jHgy5ixsqx"
      }
    },
    {
      "cell_type": "code",
      "source": [
        "# 튜플 생성 예제\n",
        "\n",
        "tuple_sample = ()"
      ],
      "metadata": {
        "id": "3X2ip1Zoxhkt"
      },
      "execution_count": null,
      "outputs": []
    },
    {
      "cell_type": "code",
      "source": [
        "type(tuple_sample)"
      ],
      "metadata": {
        "id": "7_k9_Cdwxhgb"
      },
      "execution_count": null,
      "outputs": []
    },
    {
      "cell_type": "code",
      "source": [
        "# 튜플 생성 예제\n",
        "cust_all = (\"뉴진스\",\"블랙핑크\",\"아이즈원\")\n",
        "print(cust_all)"
      ],
      "metadata": {
        "id": "5Ie3XCVZxwSl"
      },
      "execution_count": null,
      "outputs": []
    },
    {
      "cell_type": "code",
      "source": [
        "cust_all_2 = (\"뉴진스\",)\n",
        "print(cust_all_2)"
      ],
      "metadata": {
        "id": "f621EdaBxwQC"
      },
      "execution_count": null,
      "outputs": []
    },
    {
      "cell_type": "code",
      "source": [
        "len(cust_all)"
      ],
      "metadata": {
        "id": "69jH3YsuxwMa"
      },
      "execution_count": null,
      "outputs": []
    },
    {
      "cell_type": "code",
      "source": [
        "# 튜플 인덱싱\n",
        "print(cust_all[0])"
      ],
      "metadata": {
        "id": "5vuAQvp-xwI9"
      },
      "execution_count": null,
      "outputs": []
    },
    {
      "cell_type": "code",
      "source": [
        "print(cust_all[0:2])"
      ],
      "metadata": {
        "id": "wmrM5PwcxwGh"
      },
      "execution_count": null,
      "outputs": []
    },
    {
      "cell_type": "code",
      "source": [
        "# 튜플 함수\n",
        "\n",
        "b = (5, 2, 1, 2, 4)\n",
        "print(b)\n",
        "print(b.count(2))"
      ],
      "metadata": {
        "id": "z3XCKwRSxwBu"
      },
      "execution_count": null,
      "outputs": []
    },
    {
      "cell_type": "code",
      "source": [
        "# 튜플 연산\n",
        "\n",
        "c = (6,7,8,9,10)\n",
        "\n",
        "print('b + c', b + c)\n",
        "print('c * 3', c * 3)"
      ],
      "metadata": {
        "id": "bOtxntwVxv6C"
      },
      "execution_count": null,
      "outputs": []
    },
    {
      "cell_type": "code",
      "source": [
        "t = ('a','b','c','d')"
      ],
      "metadata": {
        "id": "6WAGdQbkzaNY"
      },
      "execution_count": null,
      "outputs": []
    },
    {
      "cell_type": "code",
      "source": [
        "(x1, x2, x3, x4) = t"
      ],
      "metadata": {
        "id": "fuZ9IfILzaLB"
      },
      "execution_count": null,
      "outputs": []
    },
    {
      "cell_type": "code",
      "source": [
        "print(t, type(t))"
      ],
      "metadata": {
        "id": "4UrCWmwnzaI6"
      },
      "execution_count": null,
      "outputs": []
    },
    {
      "cell_type": "code",
      "source": [
        "print(x1, type(x1))\n",
        "print(x2, type(x2))\n",
        "print(x3, type(x3))\n",
        "print(x4, type(x4))"
      ],
      "metadata": {
        "id": "T-ZTUshwzaE-"
      },
      "execution_count": null,
      "outputs": []
    },
    {
      "cell_type": "code",
      "source": [
        "t2 = 1,2,3"
      ],
      "metadata": {
        "id": "KnYX9GIszaAf"
      },
      "execution_count": null,
      "outputs": []
    },
    {
      "cell_type": "code",
      "source": [
        "print(t2, type(t2))"
      ],
      "metadata": {
        "id": "4bWVteOEzZ9g"
      },
      "execution_count": null,
      "outputs": []
    },
    {
      "cell_type": "markdown",
      "source": [
        "3.1 딕셔너리"
      ],
      "metadata": {
        "id": "Gr9Q86VmzjJY"
      }
    },
    {
      "cell_type": "code",
      "source": [
        "# 김진환 : 데이터 분석"
      ],
      "metadata": {
        "id": "yFKr3WQUzkvt"
      },
      "execution_count": null,
      "outputs": []
    },
    {
      "cell_type": "code",
      "source": [
        "# 딕셔너리 기초\n",
        "\n",
        "x = {}\n",
        "y = dict()\n",
        "\n",
        "print(x, type(x))\n",
        "print(y, type(y))"
      ],
      "metadata": {
        "id": "EBss-oXkzli5"
      },
      "execution_count": null,
      "outputs": []
    },
    {
      "cell_type": "code",
      "source": [
        "a = {'name' : 'Kim', \"phone\" : '01080782069'}"
      ],
      "metadata": {
        "id": "VTHSmdsezlf1"
      },
      "execution_count": null,
      "outputs": []
    },
    {
      "cell_type": "code",
      "source": [
        "print(a, type(a))"
      ],
      "metadata": {
        "id": "4s7QKxNfzlcE"
      },
      "execution_count": null,
      "outputs": []
    },
    {
      "cell_type": "code",
      "source": [
        "b = {0: 'Hello Python'}\n",
        "c = {'arr' : [1,2,3,4]}\n",
        "d = {\n",
        "    'Name' : 'Nicename',\n",
        "    'City' : 'Seoul',\n",
        "    'Age'  : 33,\n",
        "    'Grade' : 'A',\n",
        "    'Status' : True\n",
        "}"
      ],
      "metadata": {
        "id": "_Sd4Br2SzlYY"
      },
      "execution_count": null,
      "outputs": []
    },
    {
      "cell_type": "code",
      "source": [
        "# 딕셔너리에 값 추가\n",
        "\n",
        "a = {'name' : 'Kim', \"phone\" : '01080782069'}\n",
        "\n",
        "a['address'] = 'Seoul'\n",
        "\n",
        "print(a)"
      ],
      "metadata": {
        "id": "xphQhBL11Q_k"
      },
      "execution_count": null,
      "outputs": []
    },
    {
      "cell_type": "code",
      "source": [
        "# 딕셔너리의 개수\n",
        "print(a, len(a))"
      ],
      "metadata": {
        "id": "DSOys92d1Q8C"
      },
      "execution_count": null,
      "outputs": []
    },
    {
      "cell_type": "markdown",
      "source": [
        "### 3.1.2 딕셔너리 함수"
      ],
      "metadata": {
        "id": "YZkT_DLW1UJA"
      }
    },
    {
      "cell_type": "code",
      "source": [
        "# Key 값만 가져오는\n",
        "print(f'key 값은 {a.keys()} 입니다')\n",
        "\n",
        "# Value 값만 가져오는\n",
        "print(f'value 값은 {a.values()} 입니다')\n",
        "\n",
        "# 전체 다 가져오는 함수\n",
        "print(f'value 값은 {a.items()} 입니다')"
      ],
      "metadata": {
        "id": "xph85uJG1Q4j"
      },
      "execution_count": null,
      "outputs": []
    },
    {
      "cell_type": "code",
      "source": [
        "'name' in a.keys()"
      ],
      "metadata": {
        "id": "a1vaNSpO1Q0v"
      },
      "execution_count": null,
      "outputs": []
    },
    {
      "cell_type": "code",
      "source": [
        "'Kim' in a.values()"
      ],
      "metadata": {
        "id": "v6kDh9fX1QxO"
      },
      "execution_count": null,
      "outputs": []
    },
    {
      "cell_type": "code",
      "source": [
        "# 값 삭제\n",
        "del a[\"name\"]\n",
        "print(a)"
      ],
      "metadata": {
        "id": "rKwwHjRX1bOD"
      },
      "execution_count": null,
      "outputs": []
    },
    {
      "cell_type": "markdown",
      "source": [
        "# 4. 세트(set)"
      ],
      "metadata": {
        "id": "_6WVV7ND5dUH"
      }
    },
    {
      "cell_type": "code",
      "source": [
        "# 세트 사용\n",
        "\n",
        "empty_set = set()"
      ],
      "metadata": {
        "id": "v9EuOOFl5eAS"
      },
      "execution_count": null,
      "outputs": []
    },
    {
      "cell_type": "code",
      "source": [
        "print(empty_set, type(empty_set))"
      ],
      "metadata": {
        "id": "bNQWZUgK5eel"
      },
      "execution_count": null,
      "outputs": []
    },
    {
      "cell_type": "code",
      "source": [
        "# 세트에 값 추가\n",
        "python_set = set(['판다스','넘파이'])\n",
        "print(python_set)"
      ],
      "metadata": {
        "id": "p8gQnWfD5ebF"
      },
      "execution_count": null,
      "outputs": []
    },
    {
      "cell_type": "code",
      "source": [
        "test_set = set('python')\n",
        "print(test_set)"
      ],
      "metadata": {
        "id": "EqXDBlhh5eYe"
      },
      "execution_count": null,
      "outputs": []
    },
    {
      "cell_type": "code",
      "source": [
        "# 세트 생성\n",
        "\n",
        "Set_1 = {1,2,3}\n",
        "print(Set_1)\n",
        "\n",
        "# 요소 추가\n",
        "Set_1.add(4)\n",
        "print(Set_1)\n",
        "\n",
        "# 여러자료 추가\n",
        "Set_1.update([5,6,7,8,9,10])\n",
        "print(Set_1)\n",
        "\n",
        "# 요소 제거 - 특정 순서\n",
        "Set_1.remove(1)\n",
        "print(Set_1)\n",
        "\n",
        "# 요소 제거 - 특정 값 삭제\n",
        "Set_1.discard(10)\n",
        "print(Set_1)\n"
      ],
      "metadata": {
        "id": "qMMv1RAN5eVi"
      },
      "execution_count": null,
      "outputs": []
    },
    {
      "cell_type": "code",
      "source": [
        "# 세트 연산\n",
        "\n",
        "s1 = set(['파이썬', 'SAS', 'R', 'SQL'])\n",
        "s2 = set(['파이썬', '파이토치', '텐서플로', 'SQL'])\n",
        "\n",
        "print(s1.union(s2))"
      ],
      "metadata": {
        "id": "ylm32gil5eSi"
      },
      "execution_count": null,
      "outputs": []
    },
    {
      "cell_type": "code",
      "source": [
        "print(s1.intersection(s2))"
      ],
      "metadata": {
        "id": "3u2mVxWc5onw"
      },
      "execution_count": null,
      "outputs": []
    },
    {
      "cell_type": "code",
      "source": [
        "print(s1.difference(s2))"
      ],
      "metadata": {
        "id": "015lDyB35okt"
      },
      "execution_count": null,
      "outputs": []
    },
    {
      "cell_type": "code",
      "source": [
        "# Set -> LIST\n",
        "\n",
        "s1 = set([\"파이썬\", \"SAS\", \"R\", \"SQL\"])\n",
        "\n",
        "s1_list = list(s1)\n",
        "\n",
        "print(s1, type(s1))\n",
        "print(s1_list,type(s1_list))"
      ],
      "metadata": {
        "id": "umflItsn5ohM"
      },
      "execution_count": null,
      "outputs": []
    },
    {
      "cell_type": "code",
      "source": [
        "s1_list_tuple = tuple(s1_list)\n",
        "print(s1_list_tuple, type(s1_list_tuple))"
      ],
      "metadata": {
        "id": "t_jcczhv5oeJ"
      },
      "execution_count": null,
      "outputs": []
    },
    {
      "cell_type": "code",
      "source": [
        "s1_list_tuple_set = set(s1_list_tuple)\n",
        "print(s1_list_tuple_set, type(s1_list_tuple_set))"
      ],
      "metadata": {
        "id": "IuL42daJ5obU"
      },
      "execution_count": null,
      "outputs": []
    },
    {
      "cell_type": "code",
      "source": [
        "a = {'리스트' : ['순서 O','중복 O', '수정 O', '삭제 O' 'list(), []', 'ex1 = [1,2,3]'],\n",
        "     '튜플' : ['순서 O', '중복 O', '수정 X', '삭제 X' '()', 'ex2 = (1,2,3)'],\n",
        "     '딕셔너리' : ['순서 x', '(키)중복 x', '수정 O', '삭제 O' \"dict([]), { : }}\", \"ex3 = {1 : ex]\"],\n",
        "     '세트' : ['순서 x', '중복 x', '수정 O', '삭제 O' \"set(), {}\", \"ex4 = {1,2,3}\"]}\n",
        "\n",
        "print(a.items())\n",
        "\n",
        "print(a['리스트'])\n",
        "print(a['튜플'])\n",
        "print(a['딕셔너리'])\n",
        "print(a['세트'])"
      ],
      "metadata": {
        "colab": {
          "base_uri": "https://localhost:8080/"
        },
        "id": "h1KtxbIB5oYY",
        "outputId": "7ee8f655-526e-494f-be0f-0de7ea802f50"
      },
      "execution_count": 12,
      "outputs": [
        {
          "output_type": "stream",
          "name": "stdout",
          "text": [
            "dict_items([('리스트', ['순서 O', '중복 O', '수정 O', '삭제 Olist(), []', 'ex1 = [1,2,3]']), ('튜플', ['순서 O', '중복 O', '수정 X', '삭제 X()', 'ex2 = (1,2,3)']), ('딕셔너리', ['순서 x', '(키)중복 x', '수정 O', '삭제 Odict([]), { : }}', 'ex3 = {1 : ex]']), ('세트', ['순서 x', '중복 x', '수정 O', '삭제 Oset(), {}', 'ex4 = {1,2,3}'])])\n",
            "['순서 O', '중복 O', '수정 O', '삭제 Olist(), []', 'ex1 = [1,2,3]']\n",
            "['순서 O', '중복 O', '수정 X', '삭제 X()', 'ex2 = (1,2,3)']\n",
            "['순서 x', '(키)중복 x', '수정 O', '삭제 Odict([]), { : }}', 'ex3 = {1 : ex]']\n",
            "['순서 x', '중복 x', '수정 O', '삭제 Oset(), {}', 'ex4 = {1,2,3}']\n"
          ]
        }
      ]
    },
    {
      "cell_type": "code",
      "source": [],
      "metadata": {
        "id": "Ud2MFrPZ5-hV"
      },
      "execution_count": null,
      "outputs": []
    },
    {
      "cell_type": "code",
      "source": [],
      "metadata": {
        "id": "v57El3bA5oR7"
      },
      "execution_count": null,
      "outputs": []
    }
  ]
}