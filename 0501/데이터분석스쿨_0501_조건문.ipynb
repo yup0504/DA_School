{
  "nbformat": 4,
  "nbformat_minor": 0,
  "metadata": {
    "colab": {
      "provenance": []
    },
    "kernelspec": {
      "name": "python3",
      "display_name": "Python 3"
    },
    "language_info": {
      "name": "python"
    }
  },
  "cells": [
    {
      "cell_type": "markdown",
      "source": [
        "#1.1 조건문을 만들때 주의사항\n",
        "\n",
        "* 어떤 조건을 설정할것인가?\n",
        "* 어떤 예외가 발생할것인가?(테스트, 검증)\n",
        "* (조건문이 작성된 뒤에는) 최소 5~10번정도는 테스트 해봐라\n"
      ],
      "metadata": {
        "id": "uO-_7AxNAqDj"
      }
    },
    {
      "cell_type": "markdown",
      "source": [
        "#1.2 조건문 복습\n",
        "\n",
        "조건문은 다음과 같이 복습하려고 합니다.\n",
        "\n",
        "1. 단일 조건문\n",
        "2. If - else 조건문\n",
        "3. If - elif - else 조건문\n",
        "4. 다중 중첩 조건문\n",
        "5. input과 함께 사용하는 조건문\n",
        "\n",
        "[기억해야할것]\n",
        "\n",
        "1. if 뒤에는 참과 거짓을 판단하는 조건이 와야함\n",
        "2. 조건문이 끝나면 반드시 콜론으로 끝나야함\n",
        "3. if 다음 문장은 들여쓰기를 사용해야함\n",
        "4. if 조건에 부합하지 않으면 elif나 else를 사용한다. 보통 조건에 모두 부합하지 않을때 else를 사용한다.\n",
        "\n",
        "[연산자]\n",
        "\n",
        "* x < x가 작다\n",
        "* x > x가 크다\n",
        "* x == y 같다\n",
        "* x != y 다르다\n",
        "* x >= y 크거나 같다\n",
        "* x <= y 작거나 같다\n",
        "\n",
        "[논리연산자]\n",
        "2개이상의 조건을 사용하고 싶을때 사용\n",
        "\n",
        "* and\n",
        "* or\n",
        "* not"
      ],
      "metadata": {
        "id": "SuPh76sDAsCS"
      }
    },
    {
      "cell_type": "code",
      "source": [
        "# if문 예제\n",
        "\n",
        "x = 2\n",
        "if x > 1 and x < 10:  # 2가지 조건이 모두 충족할 경우\n",
        "  print('True')"
      ],
      "metadata": {
        "id": "KFvub8qEAvRu"
      },
      "execution_count": null,
      "outputs": []
    },
    {
      "cell_type": "code",
      "source": [
        "if True:\n",
        "  print('True')"
      ],
      "metadata": {
        "id": "8sZG8mcVAw7r"
      },
      "execution_count": null,
      "outputs": []
    },
    {
      "cell_type": "code",
      "execution_count": 1,
      "metadata": {
        "colab": {
          "base_uri": "https://localhost:8080/"
        },
        "id": "ydCy0cl968xY",
        "outputId": "f248049a-6e2f-44e2-d4d5-3c309e189504"
      },
      "outputs": [
        {
          "output_type": "stream",
          "name": "stdout",
          "text": [
            "hello\n",
            "one\n",
            "two\n"
          ]
        }
      ],
      "source": [
        "if True:               #  참\n",
        "    print('hello')     #  위의 if문이 참일경우 출력\n",
        "print('one')           #  if문과 상관없이 출력\n",
        "\n",
        "if False:              #  거짓\n",
        "    print('world')     #  참일 경우 출력인데 거짓이라 출력x\n",
        "print('two')           #  if문과 상관없이 출력"
      ]
    },
    {
      "cell_type": "code",
      "source": [
        "x = 10\n",
        "\n",
        "if x > 5:\n",
        "    print('hello')\n",
        "print('end')\n",
        "\n",
        "if x != 5:\n",
        "    print('hello')"
      ],
      "metadata": {
        "id": "0JptiNrxCayp"
      },
      "execution_count": null,
      "outputs": []
    },
    {
      "cell_type": "code",
      "source": [
        "if 1:\n",
        "    print('hello')\n",
        "print('end')\n",
        "\n",
        "if 0:\n",
        "    print('hello')\n",
        "print('end')\n",
        "\n",
        "if -1:\n",
        "    print('hello')\n",
        "print('end')\n",
        "\n",
        "#공백이 있는 문자열\n",
        "if  ' ':\n",
        "    print('hello')\n",
        "print('end')\n",
        "\n",
        "#공백이 없는 문자열\n",
        "if '':\n",
        "    print('hello')\n",
        "print('end')\n"
      ],
      "metadata": {
        "id": "ixyS9xW1Cbjp"
      },
      "execution_count": null,
      "outputs": []
    },
    {
      "cell_type": "code",
      "source": [
        "if not '':\n",
        "    print('hello')\n",
        "print('end')\n",
        "\n",
        "if not None: #None은 False와 같은의미라고 생각하시면 됩니다.\n",
        "    print('hello')\n",
        "print('end')\n",
        "\n",
        "if None: \n",
        "    print('hello')\n",
        "print('end')"
      ],
      "metadata": {
        "id": "jEBZ4nICCbgO"
      },
      "execution_count": null,
      "outputs": []
    },
    {
      "cell_type": "code",
      "source": [
        "# if, else 문\n",
        "\n",
        "x = int(input('비교할 수를 입력하세요 : '))\n",
        "y = int(input('비교할 수를 입력하세요 : '))\n",
        "\n",
        "if x > y: # False\n",
        "  print(\"x가 y보다 큽니다\")\n",
        "else: # True\n",
        "  print(\"x가 y보다 작거나 같습니다 \")"
      ],
      "metadata": {
        "id": "H7o21uWnCbeJ"
      },
      "execution_count": null,
      "outputs": []
    },
    {
      "cell_type": "code",
      "source": [
        "# if, elif, else \n",
        "if 조건문:\n",
        "  수행문장1\n",
        "elif 조건문:\n",
        "  수행문장2\n",
        "else:\n",
        "  수행문장3\n"
      ],
      "metadata": {
        "id": "U0xXsl4ACbbS"
      },
      "execution_count": null,
      "outputs": []
    },
    {
      "cell_type": "code",
      "source": [
        "if x > y: # False\n",
        "  print(\"x가 y보다 큽니다\")\n",
        "elif x < y: #True\n",
        "  print(\"x가 y보다 작습니다.\")\n",
        "else: # 실행 x\n",
        "  print(\"같습니다\") "
      ],
      "metadata": {
        "id": "nHorEoOhCbYM"
      },
      "execution_count": null,
      "outputs": []
    },
    {
      "cell_type": "code",
      "source": [
        "score = 81\n",
        "money = 0\n",
        "\n",
        "if score >= 90:\n",
        "    print('mom : i\\'m so happy!')\n",
        "    money += 1000000\n",
        "elif score >= 80:\n",
        "    print('mom : i\\'m happy!')\n",
        "    money += 100000\n",
        "elif score >= 70 and score < 80:\n",
        "    print('mom : i\\'m so...!')\n",
        "    money += 10000\n",
        "elif score >= 60 and score < 70:\n",
        "    print('mom : i\\'m so...!')\n",
        "    money += 1000\n",
        "else:\n",
        "    print('mom : i\\'m...!')\n",
        "print(money)"
      ],
      "metadata": {
        "id": "0rLmLAlSCbVN"
      },
      "execution_count": null,
      "outputs": []
    },
    {
      "cell_type": "code",
      "source": [
        "# 중첩 조건문\n",
        "\n",
        "#if를 중첩해서 사용하기\n",
        "score = 98\n",
        "\n",
        "if score >= 90:\n",
        "    print('mom : i\\'m so happy!')\n",
        "    money += 1000000\n",
        "    \n",
        "    if score > 95:\n",
        "        print('hello world')\n",
        "\n",
        "        if score > 97:\n",
        "            print('hello!!!')\n",
        "            \n",
        "elif score >= 80:\n",
        "    print('mom : i\\'m happy!')\n",
        "    money += 100000"
      ],
      "metadata": {
        "id": "5Jg1NDfACbRe"
      },
      "execution_count": null,
      "outputs": []
    }
  ]
}