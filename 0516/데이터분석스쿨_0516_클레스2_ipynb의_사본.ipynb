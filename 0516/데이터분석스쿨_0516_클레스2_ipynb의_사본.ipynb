{
  "nbformat": 4,
  "nbformat_minor": 0,
  "metadata": {
    "colab": {
      "provenance": []
    },
    "kernelspec": {
      "name": "python3",
      "display_name": "Python 3"
    },
    "language_info": {
      "name": "python"
    }
  },
  "cells": [
    {
      "cell_type": "markdown",
      "source": [
        "#1. 왜 클래스 같은 객체지향 프로그래밍이 필요할까?"
      ],
      "metadata": {
        "id": "rrhZ6o3FLWd-"
      }
    },
    {
      "cell_type": "markdown",
      "source": [
        "객체 지향 프로그래밍은 프로그래밍을 좀 더 효율적이고 유지보수가 용이하게 하는 방법 중 하나입니다. 이 방법은 실생활에 존재하는 물건이나 개념을 객체로 정의하고, 이러한 객체들 간의 상호작용으로 프로그램을 만드는 것입니다. 이러한 방법을 사용하면 프로그램을 작게 쪼개서 개발하고, 각 객체 간의 관계를 명확히 하여 유지보수가 쉬워집니다. 또한 코드의 재사용성이 높아지고, 확장성 또한 높아집니다. 따라서 객체 지향 프로그래밍은 대규모 프로그램 개발에 적합합니다.\n",
        "\n",
        "왜 함수를 사용할까? 유지보수의 편리성 / 협업의 편리성등을 얘기했는데 다른 사람이 만든 코드를 재사용하고 싶을때 사용하는 대표적인 방법이라고 생각하면 편리할 것 같다.\n",
        "\n",
        "함수 처럼 어떤 기능을 함수 코드로 묶어 두는 것이 아닌 어떤 기능을 수행하는 하나의 단일 프로그램을 객체라고 하는 코드로 만들어 다른 프로그래머가 재사용 할 수 있도록 한다.\n",
        "\n",
        "사실 객체 지향 프로그래밍은 제가 설명하기에는 고 수준의 지식이라고 생각하지만  저는 데이터 분석 스쿨에 맞게 기본적인 특성에 대해서만 다루고 여러 모로 파이썬 구현 방법에 대해서 배울것 입니다."
      ],
      "metadata": {
        "id": "7-k_LvpgMnnc"
      }
    },
    {
      "cell_type": "markdown",
      "source": [
        "## 1.1 객체와 클래스에 대해서 알아봅시다."
      ],
      "metadata": {
        "id": "F2j2mSXxM17Y"
      }
    },
    {
      "cell_type": "markdown",
      "source": [
        "C를 제외한 모든 프로그래밍 언어는 객체지향프로그래밍 언어라고 합니다.\n",
        "객체 지향 프로그래밍이란 객체를 우선으로 생각해서 프로그래밍한다는 의미\n",
        "\n",
        "* 결론적으로 클래스 라는 것을 기반으로 객체를 만들고, \n",
        "그러한 객체를 우선으로 하는 프로그래밍을 해야함\n",
        "\n",
        "[객체]\n",
        "\n",
        "데이터와 기능을 한데 모은것으로, 변수에 대입해서 다룰수 있습니다. \n",
        "객체가 가지는 데이터를 인스턴스변수라 하고, \n",
        "객체가 가지는 함수와 같은 기능을 메서드라고 부릅니다. \n",
        "\n",
        "* 실생활에 존재하는 물건이나 존재, 속성과 행동으로 구분\n",
        "* 속성은 변수로 정의\n",
        "* 행동은 함수로 정의\n",
        "\n",
        "축구 게임에서 \n",
        "* 객체는 선수, 팀 \n",
        "* 속성은 선수의 이름, 소속팀, 포지션 \n",
        "* 행동은 공을 차거나 골을 넣는것"
      ],
      "metadata": {
        "id": "u2JTY2mPM7A8"
      }
    },
    {
      "cell_type": "markdown",
      "source": [
        "[클래스]\n",
        "\n",
        "기본적인 데이터는 내장 객체만으로도 사용하는데 문제가 없으나, 복잡한 데이터를 다루기 시작하면서 데이터와 기능을 모으는 모아진 객체가 필요한 경우가 있습니다. 객체의 내용을 결정하는 정의가 필요하고 이 정의의 모음이 클래스라고 합니다. 클래스로 부터 객체를 만들면 객체 생성 또는 인스턴스 생성이라고 합니다.\n",
        "\n",
        "보통 많이 표현하는게 붕어빵 기계입니다.\n",
        "\n",
        "어느 붕어빵이 나와도 클래스 코드 같은 붕어빵 기계가 있다면 재료만 바꾸면 되는것처럼\n",
        "\n",
        "우리도 클래스를 통해 다양한 붕어빵을 만들수 있음"
      ],
      "metadata": {
        "id": "kOR32HeVNdz9"
      }
    },
    {
      "cell_type": "markdown",
      "source": [
        "## 1.2 클래스 기초\n",
        "\n",
        "클래스는 기본적으로 다음과 같이 사용합니다. 클래스는 다음과 같이 class를 지정하고, :을 붙인 뒤 다음 줄부터 클래스를 정의하는 구문 또는 함수등으로 채웁니다.\n",
        "\n",
        "클래스 이름은 변수와 동일하고, 대문자로 시작합니다. 그리고 들여쓰기를 주의해야합니다.\n",
        "\n",
        "특히 매서드의 첫번째 매개변수는 self로 지정해야합니다."
      ],
      "metadata": {
        "id": "qi4ecappN8-p"
      }
    },
    {
      "cell_type": "code",
      "source": [
        "# 클래스 정의\n",
        "\n",
        "class 클래스명():\n",
        "  클래스 정의"
      ],
      "metadata": {
        "id": "UGWSse4u8OFR"
      },
      "execution_count": null,
      "outputs": []
    },
    {
      "cell_type": "code",
      "source": [
        "class Test(self, var1, var2):\n",
        "  print(\"축구선수를 생성합니다.\")\n",
        "  self.name = name\n",
        "  self.team = team"
      ],
      "metadata": {
        "id": "vfMu61iKFZIt"
      },
      "execution_count": null,
      "outputs": []
    },
    {
      "cell_type": "code",
      "source": [
        "# 클래스 정의 - 함수 사용\n",
        "class 클래스 이름:\n",
        "  \n",
        "  print(\"축구선수를 생성합니다.\")\n",
        "  self.name = name\n",
        "  self.team = team\n",
        "\n",
        "\tdef 메서드(self):\n",
        "\t\t코드"
      ],
      "metadata": {
        "colab": {
          "base_uri": "https://localhost:8080/",
          "height": 152
        },
        "id": "354lfnqhO0L8",
        "outputId": "7789e23e-baee-4719-df14-1954e6ee7ebf"
      },
      "execution_count": null,
      "outputs": [
        {
          "output_type": "error",
          "ename": "SyntaxError",
          "evalue": "ignored",
          "traceback": [
            "\u001b[0;36m  File \u001b[0;32m\"<ipython-input-2-029e8efdae13>\"\u001b[0;36m, line \u001b[0;32m2\u001b[0m\n\u001b[0;31m    class 클래스 이름:\u001b[0m\n\u001b[0m              ^\u001b[0m\n\u001b[0;31mSyntaxError\u001b[0m\u001b[0;31m:\u001b[0m invalid syntax\n"
          ]
        }
      ]
    },
    {
      "cell_type": "code",
      "source": [
        "# 클래스 정의 - 함수 사용 예시\n",
        "\n",
        "# person > greeting > print\n",
        "\n",
        "class Person:\n",
        "\tdef greeting(self):\n",
        "\t\tprint('hello')\n",
        "\n",
        "#1. Person이라는 클래스를 other넣으면 other = Person 클래스\n",
        "other = Person()\n",
        "\n",
        "#2. other.greeting = Person.greeting\n",
        "# hello를 출력하는 함수가 실행이되서\n",
        "other.greeting()\n",
        "# hello"
      ],
      "metadata": {
        "colab": {
          "base_uri": "https://localhost:8080/"
        },
        "id": "UhhZruc6O2fw",
        "outputId": "0083b644-86cd-448a-eb33-c46378fb4f43"
      },
      "execution_count": null,
      "outputs": [
        {
          "output_type": "stream",
          "name": "stdout",
          "text": [
            "hello\n"
          ]
        }
      ]
    },
    {
      "cell_type": "markdown",
      "source": [
        "[사실 우리가 봤던 int, float, list, dict도 클래스입니다.]"
      ],
      "metadata": {
        "id": "qGFyYoMKP0pa"
      }
    },
    {
      "cell_type": "code",
      "source": [
        "a = int(10)\n",
        "a"
      ],
      "metadata": {
        "colab": {
          "base_uri": "https://localhost:8080/"
        },
        "id": "yxHdjZadPRA9",
        "outputId": "17205ccc-d9ca-42fb-e860-37caea3fbc7b"
      },
      "execution_count": null,
      "outputs": [
        {
          "output_type": "execute_result",
          "data": {
            "text/plain": [
              "10"
            ]
          },
          "metadata": {},
          "execution_count": 5
        }
      ]
    },
    {
      "cell_type": "code",
      "source": [
        "b = list(range(10))\n",
        "b"
      ],
      "metadata": {
        "colab": {
          "base_uri": "https://localhost:8080/"
        },
        "id": "60n5LVWfP7WC",
        "outputId": "e55e05cc-cf02-48a9-cf51-ddf95ac6d406"
      },
      "execution_count": null,
      "outputs": [
        {
          "output_type": "execute_result",
          "data": {
            "text/plain": [
              "[0, 1, 2, 3, 4, 5, 6, 7, 8, 9]"
            ]
          },
          "metadata": {},
          "execution_count": 6
        }
      ]
    },
    {
      "cell_type": "code",
      "source": [
        "c = dict(x=10, y=20)\n",
        "c"
      ],
      "metadata": {
        "colab": {
          "base_uri": "https://localhost:8080/"
        },
        "id": "stPiahC7QHBE",
        "outputId": "e153e8a2-4b64-4aff-d235-eeb0aa5a6df5"
      },
      "execution_count": null,
      "outputs": [
        {
          "output_type": "execute_result",
          "data": {
            "text/plain": [
              "{'x': 10, 'y': 20}"
            ]
          },
          "metadata": {},
          "execution_count": 7
        }
      ]
    },
    {
      "cell_type": "markdown",
      "source": [
        "int 클래스에 10을 넣어서 인스턴스 a를 만들었습니다. 마찬가지로 list 클래스에 range(10)을 넣어서 인스턴스 b를 만들고, dict 클래스에 x=10, y=20을 넣어서 인스턴스 c를 만들었습니다. 잘 보면 Person으로 인스턴스를 만드는 방법과 똑같습니다.\n",
        "\n",
        "물론 정수는 매우 자주 사용하므로 int를 생략하고 10을 바로 넣습니다. 그리고 리스트와 딕셔너리도 자주 사용하므로 축약된 문법인 [ ]과 { }를 제공하지만 클래스인 것은 같습니다.\n",
        "\n",
        "다음과 같이 리스트를 조작할 때 메서드를 사용했었죠? 인스턴스 b에서 메서드 append를 호출해서 값을 추가합니다. 이 부분도 지금까지 메서드를 만들고 사용한 것과 같은 방식입니다."
      ],
      "metadata": {
        "id": "dSWHHDXrQKll"
      }
    },
    {
      "cell_type": "markdown",
      "source": [
        "즉, 파이썬에서는 자료형도 클래스입니다. 다음과 같이 type을 사용하면 객체(인스턴스)가 어떤 클래스인지 확인할 수 있습니다."
      ],
      "metadata": {
        "id": "UCzaheWHQizC"
      }
    },
    {
      "cell_type": "code",
      "source": [
        "a = 10\n",
        "\n",
        "type(a)\n",
        "\n",
        "# <class 'int'>"
      ],
      "metadata": {
        "colab": {
          "base_uri": "https://localhost:8080/"
        },
        "id": "-yMvz2YVQIaT",
        "outputId": "955ca889-0608-4c06-f8ea-47f7a5a7e2c0"
      },
      "execution_count": null,
      "outputs": [
        {
          "output_type": "execute_result",
          "data": {
            "text/plain": [
              "int"
            ]
          },
          "metadata": {},
          "execution_count": 8
        }
      ]
    },
    {
      "cell_type": "code",
      "source": [
        "print(int)"
      ],
      "metadata": {
        "colab": {
          "base_uri": "https://localhost:8080/"
        },
        "id": "IngT1aMTQm8r",
        "outputId": "508c8afb-767a-4c62-d1d1-f2f0d6ba4532"
      },
      "execution_count": null,
      "outputs": [
        {
          "output_type": "stream",
          "name": "stdout",
          "text": [
            "<class 'int'>\n"
          ]
        }
      ]
    },
    {
      "cell_type": "markdown",
      "source": [
        "## 1.3 인스턴스와 객체는 무슨 차이가 있을까?"
      ],
      "metadata": {
        "id": "T1LjhoAvQ3PT"
      }
    },
    {
      "cell_type": "markdown",
      "source": [
        "클래스는 객체를 표현하는 문법이라고 했는데, 클래스로 인스턴스를 만든다고 하니 좀 헷갈리죠? 사실 인스턴스와 객체는 같은 것을 뜻합니다. 보통 객체만 지칭할 때는 그냥 객체(object)라고 부릅니다. 하지만 클래스와 연관지어서 말할 때는 인스턴스(instance)라고 부릅니다. \n",
        "\n",
        "그래서 다음과 같이 리스트 변수 a, b가 있으면 a, b는 객체입니다. 그리고 a와 b는 list 클래스의 인스턴스입니다."
      ],
      "metadata": {
        "id": "zbPIsfGtQ-fF"
      }
    },
    {
      "cell_type": "code",
      "source": [
        "a = list(range(10))\n",
        "b = list(range(20))"
      ],
      "metadata": {
        "id": "R7W5gmfEQ8FQ"
      },
      "execution_count": null,
      "outputs": []
    },
    {
      "cell_type": "code",
      "source": [
        "print(a)"
      ],
      "metadata": {
        "colab": {
          "base_uri": "https://localhost:8080/"
        },
        "id": "uuJ7wwghRKXW",
        "outputId": "0f00af9b-f355-4bd1-d611-7bb5e3ed467e"
      },
      "execution_count": null,
      "outputs": [
        {
          "output_type": "stream",
          "name": "stdout",
          "text": [
            "[0, 1, 2, 3, 4, 5, 6, 7, 8, 9]\n"
          ]
        }
      ]
    },
    {
      "cell_type": "code",
      "source": [
        "# 빈 클래스 만들기\n",
        "\n",
        "class Person:\n",
        "  pass"
      ],
      "metadata": {
        "id": "LQV-wy4rRL2d"
      },
      "execution_count": null,
      "outputs": []
    },
    {
      "cell_type": "code",
      "source": [
        "# 메서드 안에서 메서드를 호출하기\n",
        "\n",
        "class Person:\n",
        "\n",
        "  def __init__(self, name, team):\n",
        "    self.name = name\n",
        "    self.team = team\n",
        "\n",
        "  def greeting(self):\n",
        "    print('Hello')\n",
        "\n",
        "  def hello(self):\n",
        "    self.greeting() # self.메서드() 형식으로 클래스 안의 메서드를 호출\n",
        "\n",
        "james = Person()\n",
        "james.greeting()"
      ],
      "metadata": {
        "colab": {
          "base_uri": "https://localhost:8080/"
        },
        "id": "3QwCCNN7Ri62",
        "outputId": "9a464558-a9df-4efe-b8e8-719df55b7748"
      },
      "execution_count": null,
      "outputs": [
        {
          "output_type": "stream",
          "name": "stdout",
          "text": [
            "Hello\n"
          ]
        }
      ]
    },
    {
      "cell_type": "code",
      "source": [
        "james.hello() # Hello"
      ],
      "metadata": {
        "colab": {
          "base_uri": "https://localhost:8080/"
        },
        "id": "f9pgIYFCR7A9",
        "outputId": "b774841d-084e-4bb4-a65f-d2564e1e5e35"
      },
      "execution_count": null,
      "outputs": [
        {
          "output_type": "stream",
          "name": "stdout",
          "text": [
            "Hello\n"
          ]
        }
      ]
    },
    {
      "cell_type": "code",
      "source": [
        "메서드를 정의할때는 함수와 같이 def문을 사용합니다. 클래스를 많이 보시면 다음과 같이 __init__이라는 초기화용 메서드를 입력합니다.\n",
        "\n",
        "init은 인스턴스 변수 정의 등 초기화 처리를 하게 되는데\n",
        "메서드의 첫번째 인수에는 기본값이 자신을 가리키는 self라는 객체를 사용하고 이는 자동 반영됩니다."
      ],
      "metadata": {
        "id": "3DZKw0t3SBKa"
      },
      "execution_count": null,
      "outputs": []
    },
    {
      "cell_type": "markdown",
      "source": [
        "#2. 파이썬 클래스의 속성\n",
        "\n",
        "파이썬 클래스에서 속성을 사용하기 위해서는 다음과 같이 __init 메서드 안에서 self.속성으로 값을 할당하면 됩니다."
      ],
      "metadata": {
        "id": "QHOw8W6VnKqA"
      }
    },
    {
      "cell_type": "code",
      "source": [
        "# 초기화 메서드\n",
        "\n",
        "def __init__(self, 인수1, 인수2):\n",
        "  self.인수1 = 초기 값1\n",
        "  self.인수2 = 초기 값2\n",
        "\n",
        "def __init__(self, name, team):\n",
        "    self.name = name\n",
        "    self.team = team"
      ],
      "metadata": {
        "id": "cTKLFUvenNfN"
      },
      "execution_count": null,
      "outputs": []
    },
    {
      "cell_type": "code",
      "source": [
        "# _의 쓰임 \n",
        "\n",
        "# 1) 변수명 name_team_select\n",
        "# 보통 변수이름이 길때 구분을 위해서 사용하는 경우를 많이 봄\n",
        "\n",
        "# 2)\n",
        "## 앞에 사용이 되게 되고 \n",
        "## _ 1개는 이후로 쓰이지 않을 변수에 특별한 이름을 부여하고 싶지 않을때 사용\n",
        "\n",
        "## 예를 들어 다음과 같다\n",
        "\n",
        "for _ in range(10):\n",
        "  print(\"Hello world\")"
      ],
      "metadata": {
        "colab": {
          "base_uri": "https://localhost:8080/"
        },
        "id": "BPF_-o3_nrAv",
        "outputId": "f3000d1c-c982-49a2-a1df-85dd2e172d5d"
      },
      "execution_count": null,
      "outputs": [
        {
          "output_type": "stream",
          "name": "stdout",
          "text": [
            "0\n",
            "Hello world\n",
            "1\n",
            "Hello world\n",
            "2\n",
            "Hello world\n",
            "3\n",
            "Hello world\n",
            "4\n",
            "Hello world\n",
            "5\n",
            "Hello world\n",
            "6\n",
            "Hello world\n",
            "7\n",
            "Hello world\n",
            "8\n",
            "Hello world\n",
            "9\n",
            "Hello world\n"
          ]
        }
      ]
    },
    {
      "cell_type": "code",
      "source": [
        "# 그러면 __2개를 사용하면 무엇일까?\n",
        "\n",
        "# 대표적으로 __str__ __init__()등으로 사용되는데\n",
        "# 이는 특수한 예약함수나 변수를 뜻한다.\n",
        "# __str__() 함수의 경우 클래스로 인스턴스를 생성했을때, 그 인스턴스 자체를 pinrt()함수로 화면에 출력하면 나오는 값을 뜻한다.\n",
        "# __init__() 는 앞서 봤듯이 클래스에서 시작할때에 초기 생성하는 것으로 알아두면 좋다.\n",
        "```"
      ],
      "metadata": {
        "id": "AQ4YToSxoKew"
      },
      "execution_count": null,
      "outputs": []
    },
    {
      "cell_type": "markdown",
      "source": [
        "##2.1 속성의 선언 및 사용예시"
      ],
      "metadata": {
        "id": "NzwveujiomFu"
      }
    },
    {
      "cell_type": "code",
      "source": [
        "class BaseballPlayer():\n",
        "  def __init__(self, name, position, team, team_score):\n",
        "    self.name = name\n",
        "    self.position = position\n",
        "    self.team = team\n",
        "    self.team_score = team_score\n",
        "\n",
        "  def change_team(self, new_team):\n",
        "    print(\"선수가 이적할 팀을 선택해주세요\")\n",
        "    self.team = new_team\n",
        "\n",
        "  def __str__(self):\n",
        "    return f\"안녕하세요. 저는 {self.team}팀의 {self.name}입니다. 저희 팀 순위는 {self.team_score}위 입니다.\""
      ],
      "metadata": {
        "id": "u1SkBBN3opFL"
      },
      "execution_count": null,
      "outputs": []
    },
    {
      "cell_type": "code",
      "source": [
        "nosihwan = BaseballPlayer(\"노시환\",\"타자\",\"한화\",10)"
      ],
      "metadata": {
        "id": "Ews5S7e3p2B8"
      },
      "execution_count": null,
      "outputs": []
    },
    {
      "cell_type": "code",
      "source": [
        "print(nosihwan)"
      ],
      "metadata": {
        "colab": {
          "base_uri": "https://localhost:8080/"
        },
        "id": "rCtTyKVRqNEL",
        "outputId": "376f151c-1432-4295-f7b9-5330aac21c6d"
      },
      "execution_count": null,
      "outputs": [
        {
          "output_type": "stream",
          "name": "stdout",
          "text": [
            "안녕하세요. 저는 한화팀의 노시환입니다. 저희 팀 순위는 10위 입니다.\n"
          ]
        }
      ]
    },
    {
      "cell_type": "code",
      "source": [
        "# 소속팀을 변경하고 싶다.\n",
        "nosihwan.change_team(\"SSG\")"
      ],
      "metadata": {
        "colab": {
          "base_uri": "https://localhost:8080/"
        },
        "id": "dgJ9C0nIqPpt",
        "outputId": "61d154be-4af2-4d5f-87eb-7c50a87d98ba"
      },
      "execution_count": null,
      "outputs": [
        {
          "output_type": "stream",
          "name": "stdout",
          "text": [
            "선수가 이적할 팀을 선택해주세요\n"
          ]
        }
      ]
    },
    {
      "cell_type": "code",
      "source": [
        "print(nosihwan)"
      ],
      "metadata": {
        "colab": {
          "base_uri": "https://localhost:8080/"
        },
        "id": "zV8YDSNCq72c",
        "outputId": "9a114507-1362-4d29-ce33-2e6343f074d9"
      },
      "execution_count": null,
      "outputs": [
        {
          "output_type": "stream",
          "name": "stdout",
          "text": [
            "안녕하세요. 저는 SSG팀의 노시환입니다. 저희 팀 순위는 10위 입니다.\n"
          ]
        }
      ]
    },
    {
      "cell_type": "markdown",
      "source": [
        "클래스 선언의 기본을 알았으니 이제 속성을 통해 야구선수 클래스를 구성해보도록 할텐데요. 먼저 클래스의 속성을 추가하는 선언에 대해 알아보겠습니다.\n",
        "\n",
        "__init__()이 바로 선언을 위한 예약함수인데요. 위에 배웠었죠 파이썬에서 대표적인 예약함수이고, 이러한 함수들은 약속한 형태의 작업을 수행합니다.\n",
        "\n",
        "__init__() 함수는 이 클래스에서 사용할 변수를 정의하는 함수 입니다.\n",
        "\n",
        "__init__() 함수의 첫번째 매개변수는 반드시!!!!! self 변수를 사용해야한다.\n",
        "\n",
        "self변수는 클래스에서 생성된 인스턴스에 접근하는 예약어이고,\n",
        "\n",
        "   self.name = name\n",
        "    self.position = position\n",
        "    self.team = team\n",
        "    self.team_score = team_score\n",
        "\n",
        "다음과 같은 변수들이 인스턴스 변수입니다.\n",
        "\n",
        "약간 딕셔너리와 비슷하죠? 생성된 인스턴스에 있는 각 변수들에 매개변수인 self.변수명에 값이 할당됩니다.\n",
        "\n",
        "클래스의 변수는 self.변수이름으로 사용되는데 __init__()함수에서는 언제든 마음껏 만들수 있습니다.\n",
        "\n",
        "물론 다른데에서도 만들수는 있지만 데이터 분석에서는 흔하지 않으니 넘어가도록 하겠습니다."
      ],
      "metadata": {
        "id": "6dY_vRG6rgc7"
      }
    },
    {
      "cell_type": "code",
      "source": [
        "# self에 대해서 한번 더 짚고 넘어가도록 할게요"
      ],
      "metadata": {
        "id": "EnYVWXivq9yX"
      },
      "execution_count": null,
      "outputs": []
    },
    {
      "cell_type": "markdown",
      "source": [
        "self에 대해 대략은 알거같은데 좀더 살펴볼게요. \n",
        "\n",
        "self는 인스턴스 자기 자신을 의미합니다. 다음 코드가 있습니다.\n",
        "\n",
        "class Person:\n",
        "\n",
        "def __init__(self):\n",
        "\n",
        "self.hello = ‘안녕하세요’\n",
        "\n",
        "여기서 self.hello에 ‘안녕하세요’라는 속성을 추가했는데요. 결론적으로 (self)는 Person과 동일하다고 생각하시면 되고, self.hello는 Person().hello라고 생각하시면 self에 대한 이해가 쉽다고 생각합니다. \n",
        "\n",
        "그래도 이해가 잘 안되신다면.. 우리가 게임 캐릭터를 새로 생성할때 초기 능력치가 고정적으로 부여된다고 했을때, 언제 어디서 어느나라에서 만들던지 똑같은 캐릭터에는 똑같은 초기 능력치가 생성되고, 그에 대한 초기 능력치를 입력하는 것이 위의 구문이라고 생각하시면 될것 같습니다."
      ],
      "metadata": {
        "id": "SQjYInR_r2fq"
      }
    },
    {
      "cell_type": "code",
      "source": [
        "class Person():\n",
        "  def __init__(self, var1, var2):\n",
        "    self.hello = ‘안녕하세요’\n",
        "    self.var1 = var1\n",
        "    self.var2 = var2\n",
        "\n",
        "Person(var1, var2)"
      ],
      "metadata": {
        "id": "THc5zIy_sBqX"
      },
      "execution_count": null,
      "outputs": []
    },
    {
      "cell_type": "code",
      "source": [
        "# 조금 더 나아가는 예시로 속성을 살펴보겠습니다. \n",
        "# 다음은 이름과 나이 주소를 입력받는 클래스이고, greeting함수를 사용해서 자기소개를 하네요\n",
        "\n",
        "class Person:\n",
        "  def __init__(self, name, age, address):\n",
        "    self.hello = '안녕하세요.' # ↑할당받지 않아도 됨\n",
        "    self.name = name # 홍길동\n",
        "    self.age = age # 20\n",
        "    self.address = address # 제주특별자치도 서귀포시\n",
        "\n",
        "\t\t#위의 속성에 접근할때는 self 함수가 필요\n",
        "  def greeting(self):\n",
        "    print(f'{self.hello} 저는 {self.name}입니다.')\n",
        "\n",
        "hong = Person('임꺽정', 30, '서울특별시')\n",
        "hong.greeting()# 안녕하세요. 저는 홍길동입니다.\n",
        "\n",
        "print('이름:', hong.name)# 홍길동\n",
        "print('나이:', hong.age) # 20\n",
        "print('주소:', hong.address) # 제주특별자치도 서귀포시"
      ],
      "metadata": {
        "id": "g8MksVKds699"
      },
      "execution_count": null,
      "outputs": []
    },
    {
      "cell_type": "code",
      "source": [
        "결국 홍길동이 = name에 들어가고 \n",
        "그 name → self.name이 되어서 class 내에서 self라는것이 있을때 어디서든 불러와서 사용할 수 있는 변수가 된 것 입니다."
      ],
      "metadata": {
        "id": "sft9k356td9v"
      },
      "execution_count": null,
      "outputs": []
    },
    {
      "cell_type": "code",
      "source": [
        "# [실습!!!] *args와 **kwargs를 사용하여 코드를 수정해보시오.\n",
        "\n",
        "class Person:\n",
        "  def __init__(self, *arg, **kwarg):\n",
        "    self.hello = '안녕하세요.'\n",
        "    self.name = arg[0]\n",
        "    self.age = arg[1]\n",
        "    self.address = kwarg[\"address\"]\n",
        "\n",
        "  def greeting(self):\n",
        "    print(f'{self.hello} 저는 {self.name}입니다.')\n",
        "\n",
        "hong = Person('임꺽정', 30, address = '서울특별시')\n",
        "hong.greeting()\n",
        "\n",
        "print('이름:', hong.name)\n",
        "print('나이:', hong.age)\n",
        "print('주소:', hong.address)"
      ],
      "metadata": {
        "id": "ZfqS2jNPt90c"
      },
      "execution_count": null,
      "outputs": []
    },
    {
      "cell_type": "code",
      "source": [
        "# *arg 예시 \n",
        "\n",
        "class Person:\n",
        "  def __init__(self, *args): \n",
        "    self.hello = '안녕하세요'\n",
        "    self.name,  = args[0] #name\n",
        "    self.age = args[1] #age\n",
        "    self.address = args[2] #address\n",
        "\n",
        "#위의 속성에 접근할때는 self 함수가 필요\n",
        "  def greeting(self):\n",
        "    print(f'{self.hello} 저는 {self.name}입니다.')\n",
        "\n",
        "hong = Person('홍길동', 20, '제주도')\n",
        "hong.greeting()"
      ],
      "metadata": {
        "colab": {
          "base_uri": "https://localhost:8080/"
        },
        "id": "5-cIhE3Vx1sj",
        "outputId": "c3a020b1-a330-47ab-c772-ca762ac71c85"
      },
      "execution_count": null,
      "outputs": [
        {
          "output_type": "stream",
          "name": "stdout",
          "text": [
            "안녕하세요 저는 홍길동입니다.\n"
          ]
        }
      ]
    },
    {
      "cell_type": "code",
      "source": [
        "# *kwargs 예시 \n",
        "\n",
        "class Person:\n",
        "  def __init__(self, **kwargs):    # 키워드 인수\n",
        "    self.hello = '안녕하세요'\n",
        "    self.name = kwargs['name']\n",
        "    self.age = kwargs['age']\n",
        "    self.address = kwargs['address']\n",
        "\n",
        "#위의 속성에 접근할때는 self 함수가 필요\n",
        "  def greeting(self):\n",
        "    print(f'{self.hello} 저는 {self.name}입니다.')\n",
        "\n",
        "hong = Person(**{'name': 'hong', 'age': 20, 'address': '제주도'})\n",
        "hong.greeting()"
      ],
      "metadata": {
        "id": "xC-1DBPF0vU3"
      },
      "execution_count": null,
      "outputs": []
    },
    {
      "cell_type": "code",
      "source": [
        "# parameter \n",
        "# 데이터를 직접 받고, \n",
        "\n",
        "# var1,var2,var3,var4 / max_depth = 0.4, option2 = 0.2 - 1가지"
      ],
      "metadata": {
        "id": "NL__C5tAx90Y"
      },
      "execution_count": null,
      "outputs": []
    },
    {
      "cell_type": "markdown",
      "source": [
        "## 2.2 클래스를 사용하는 이유"
      ],
      "metadata": {
        "id": "knwk8nuE14k7"
      }
    },
    {
      "cell_type": "markdown",
      "source": [
        "다시한번 말하지만 핵심은 자신이 만든 코드를 다른 사람이 손쉽게 사용할 수 있도록 설계 → 그렇게 설계가 되었다면 자신도 사용하기 더 편할것\n",
        "\n",
        "사실 단순히 데이터를 저장하는 수단으로만 사용하거나 분석만을 한다면 이차원 리스트나 함수형태로 분석을 하거나 함수도 안쓰는 경우도 있음"
      ],
      "metadata": {
        "id": "VwqcTnOZ1-ZX"
      }
    },
    {
      "cell_type": "markdown",
      "source": [
        "예시로 다음과 같이 코드를 짜서 데이터를 구성한다고 생각해보자\n",
        "\n",
        "이 코드를 통해 데이터를 받고 → 데이터를 정제하고 class를 통해\n",
        "\n",
        "1. 데이터가 들어오는 곳과 \n",
        "2. 기능을 정의하는 곳\n",
        "3. 무언가를 출력하는 것이 구별되어 가독성이 좋다 라는 느낌을 받는다."
      ],
      "metadata": {
        "id": "8fXiijvU3-Gq"
      }
    },
    {
      "cell_type": "code",
      "source": [
        "#데이터\n",
        "names = [\"Messi\", \"Ramos\", \"Ronaldo\", \"Park\", \"Buffon\"]\n",
        "positions = [\"MF\", \"DF\", \"CF\", \"WF\", \"GK\"]\n",
        "numbers = [10, 4, 7, 13, 1]\n",
        "\n",
        "#이차원 리스트\n",
        "players = [[name, position, number] for name, position, number in zip(names, positions, numbers)]\n",
        "print(players)\n",
        "print(players[0])\n",
        "\n",
        "#전체 SoccerPlayer 코드\n",
        "class SoccerPlayer(object):\n",
        "    def __init__(self, name, position, back_number):\n",
        "        self.name = name\n",
        "        self.position = position\n",
        "        self.back_number = back_number\n",
        "    def change_back_number(self, new_number):\n",
        "      \n",
        "        print(\"선수의 등 번호를 변경한다: From %d to %d\" % (self.back_number, new_number))\n",
        "        self.back_number = new_number\n",
        "    def __str__(self):\n",
        "        return \"Hello, My name is %s. I play in %s in center.\" % (self.name, self.position)\n",
        "\n",
        "# 클래스-인스턴스\n",
        "player_objects = [SoccerPlayer(name, position, number) for name, position, number in zip(names, positions, numbers)]\n",
        "print(player_objects[0])"
      ],
      "metadata": {
        "colab": {
          "base_uri": "https://localhost:8080/"
        },
        "id": "5ZP01pON18tP",
        "outputId": "6db9b18f-9757-4050-fdbd-cf28bed0fbc6"
      },
      "execution_count": null,
      "outputs": [
        {
          "output_type": "stream",
          "name": "stdout",
          "text": [
            "[['Messi', 'MF', 10], ['Ramos', 'DF', 4], ['Ronaldo', 'CF', 7], ['Park', 'WF', 13], ['Buffon', 'GK', 1]]\n",
            "['Messi', 'MF', 10]\n",
            "Hello, My name is Messi. I play in MF in center.\n"
          ]
        }
      ]
    },
    {
      "cell_type": "markdown",
      "source": [
        "#3. 노트 클래스문을 한번 만들어볼텐데!! - 일단 만들어보자"
      ],
      "metadata": {
        "id": "ZC28Y5cI4z3z"
      }
    },
    {
      "cell_type": "code",
      "source": [
        "클래스를 다루는 순간부터 객체지향 프로그래밍을 할 수 있다라고 하기도 한다.\n",
        "이것을 할때 생각해봐야할것은?\n",
        "\n",
        "1. 이 프로그램에 필요한 것은?\n",
        "2. 어떤 기능을 넣을 것인지?\n",
        "3. 어떤 데이터를 저장할 것인지? # 우리한테 핵심 -> 데이터가 저장되야 분석! -> 제안하거나 추가적으로 데이터를 얻을 수 있게 해야한다.\n",
        "4. 기능은 몇개나 필요한지? # 기능 분석 \n",
        "5. (고객관점) 어떤 연령층이 사용할 것인지? # \n",
        "6. 기타 등등\n",
        "\n",
        "# -> 향후 전산요청서 / 전산개발서 같은것을들 작성할때가 있을 것임 "
      ],
      "metadata": {
        "id": "JnqQL_UW4Pot"
      },
      "execution_count": null,
      "outputs": []
    },
    {
      "cell_type": "code",
      "source": [
        "간단한게 보면 노트앱의 필요는 다음과 같다.\n",
        "\n",
        "1. 노트는 뭐든 쓸수 있어야 한다. - 어떤 단어든 사용가능\n",
        "2. 사용자가 사용할 수 있어야 한다. - 비사용자는 접근 불가 ?\n",
        "3. 노트북은 제목이나 소제목등을 쓸수도 있다.\n",
        "4. 트위터 같은 경우는 300자 / 그외에 한 페이지당 쓸수 있는 제한을 둘수 도 있다.\n",
        "5. 노트는 노트북에 사용된다.\n",
        "6. 노트가 300페이지가 이상이 되면 더 추가할수 없다."
      ],
      "metadata": {
        "id": "qdirGU9W6F90"
      },
      "execution_count": null,
      "outputs": []
    },
    {
      "cell_type": "code",
      "source": [
        "[그러면 필요한 것들을 생각해보자]\n",
        "\n",
        "1. 객체 -  사용자, 노트, 노트북\n",
        "* 사용자 정보는 얼마나 받을건지?\n",
        "* 노트 -> 지우거나 추가하는 기능 필요\n",
        "# * 300페이지 정의\n",
        "* 수정기능도 필요하지 않을까 등등\n",
        "\n",
        "노트기능 클래스로 만들기 "
      ],
      "metadata": {
        "id": "JBpl3cup6fCs"
      },
      "execution_count": null,
      "outputs": []
    },
    {
      "cell_type": "code",
      "source": [
        "# 노트 기능 중에서 노트!!\n",
        "\n",
        "# 노트 -> 무언가를 쓰는 기능\n",
        "# 맨처음 시작될때 구성\n",
        "# 노트는 노트북의 일부\n",
        "\n",
        "class Note():\n",
        "  '''맨처음은 초기화를 시켜야하기 때문에 write = none'''\n",
        "  def __init__(self, write = None):\n",
        "    self.write = write\n",
        "  ''' 쓰는 기능 추가 '''\n",
        "  def write_function(self, write):\n",
        "    self.write = write\n",
        "  '''모두 지우는 기능 추가'''\n",
        "  def remove_all(self):\n",
        "    self.write = \"\"\n",
        "  ''' 작성된 내용을 볼 수 있게'''\n",
        "  def __str__(self):\n",
        "    return self.write\n"
      ],
      "metadata": {
        "id": "ksgsYJqK6qaG"
      },
      "execution_count": null,
      "outputs": []
    },
    {
      "cell_type": "code",
      "source": [
        "# 노트북은 노트보다 조금 더 어렵죠? 한번 따라가면서 볼게요\n",
        "\n",
        "# 노트북의 기능은 ?\n",
        "\n",
        "# 1) 노트북의 제목\n",
        "# 2) 페이지수 \n",
        "# 3) 노트의 저장\n",
        "\n",
        "class NoteBook():\n",
        "  '''모든 기능을 저장하기 위해 다음과 같이 __init__에 모두 입력'''\n",
        "  def __init__(self, title):\n",
        "    self.title = title\n",
        "    self.page_number = 1\n",
        "    self.notes = {} # 딕셔너리 형으로 선언 Note Page Number를 Key로 설정해서 쉽게 찾기 위함\n",
        "\n",
        "  ''' 새로운 노트를 노트북에 추가하는 함수'''\n",
        "  ''' 지금은 되게 기본 기능만 추가했지만 실제 기능구현시 많은 것을 고려해야함 '''\n",
        "  ''' 7페이지면 8페이지에 추가되는 형태로 일단 구현'''\n",
        "  def add_note(self, note, page = 0):\n",
        "    if self.page_number < 300:\n",
        "      if page == 0:\n",
        "        self.note[self.page_number] = note\n",
        "        self.page_number += 1\n",
        "      \n",
        "      else:\n",
        "        self.notes = {page : note}\n",
        "        self.page_number += 1\n",
        "    else:\n",
        "      print(\"페이지가 300페이지가 넘어서 추가할 수 없어요\")\n",
        "\n",
        "  ''' 특정 페이지 번호에 있는 노트를 제거하는 함수'''\n",
        "\n",
        "  # 딕셔너리의 Key가 있는지 확인하고, 있다면 삭제 없으면 프린트문 사용해서 경고문장 출력\n",
        "  def remove_note(self, page_number):\n",
        "    if page_number in self.notes.keys():\n",
        "      return self.notes.pop(page_number)\n",
        "    else:\n",
        "      print(\"삭제된 노트입니다.\")\n",
        "  \n",
        "  # 현재 노트 페이지 출력\n",
        "  def get_number_of_page(self):\n",
        "    return len(self.notes.keys())\n",
        "\n",
        "####### 실습 종료      #########\n",
        "##############################"
      ],
      "metadata": {
        "id": "OgMa7YL_7p4z"
      },
      "execution_count": null,
      "outputs": []
    },
    {
      "cell_type": "code",
      "source": [
        "import os\n",
        "os.chdir('/content/')"
      ],
      "metadata": {
        "id": "-hzGJwjB_Sg1"
      },
      "execution_count": null,
      "outputs": []
    },
    {
      "cell_type": "code",
      "source": [
        "from notebook import Note\n",
        "from notebook import NoteBook"
      ],
      "metadata": {
        "id": "NIsPwYDH_cxG"
      },
      "execution_count": null,
      "outputs": []
    },
    {
      "cell_type": "code",
      "source": [
        "note_book_01 = Note(\"안녕하세요 김진환입니다.\")"
      ],
      "metadata": {
        "id": "mtYykw_vBr_4"
      },
      "execution_count": null,
      "outputs": []
    },
    {
      "cell_type": "code",
      "source": [
        "print(note_book_01)"
      ],
      "metadata": {
        "colab": {
          "base_uri": "https://localhost:8080/"
        },
        "id": "0TK502YeBHJT",
        "outputId": "f226d75f-b563-4b72-fcd8-cc2962ac9fa5"
      },
      "execution_count": null,
      "outputs": [
        {
          "output_type": "stream",
          "name": "stdout",
          "text": [
            "안녕하세요 김진환입니다.\n"
          ]
        }
      ]
    },
    {
      "cell_type": "code",
      "source": [
        "note_book_02 = Note(\"저는 축구를 좋아합니다.\")"
      ],
      "metadata": {
        "id": "PjPh_lGJDOAx"
      },
      "execution_count": null,
      "outputs": []
    },
    {
      "cell_type": "code",
      "source": [
        "print(note_book_02)"
      ],
      "metadata": {
        "colab": {
          "base_uri": "https://localhost:8080/"
        },
        "id": "RfIEVWQcDRVh",
        "outputId": "0e90bb9e-3a6f-4248-cf16-17731648e833"
      },
      "execution_count": null,
      "outputs": [
        {
          "output_type": "stream",
          "name": "stdout",
          "text": [
            "저는 축구를 좋아합니다.\n"
          ]
        }
      ]
    },
    {
      "cell_type": "code",
      "source": [
        "note_book_02.remove_all()"
      ],
      "metadata": {
        "id": "Yg42Q2RTDSbq"
      },
      "execution_count": null,
      "outputs": []
    },
    {
      "cell_type": "code",
      "source": [
        "print(note_book_02)"
      ],
      "metadata": {
        "colab": {
          "base_uri": "https://localhost:8080/"
        },
        "id": "78IGrDhRDWyE",
        "outputId": "d3304151-fe9f-45bd-a2bb-10f1e22ea737"
      },
      "execution_count": null,
      "outputs": [
        {
          "output_type": "stream",
          "name": "stdout",
          "text": [
            "\n"
          ]
        }
      ]
    },
    {
      "cell_type": "code",
      "source": [
        "# 노트북 사용하기\n",
        "# 넘어가겠습니다.\n",
        "my_story = NoteBook(\"나의 이야기\")"
      ],
      "metadata": {
        "id": "zDqE2W-pDjKn"
      },
      "execution_count": null,
      "outputs": []
    },
    {
      "cell_type": "code",
      "source": [
        "my_story.add_note(note_book_01)"
      ],
      "metadata": {
        "colab": {
          "base_uri": "https://localhost:8080/",
          "height": 308
        },
        "id": "c0ddCfjrDjGQ",
        "outputId": "2a31392a-c585-40c8-cbce-b563940dc209"
      },
      "execution_count": null,
      "outputs": [
        {
          "output_type": "error",
          "ename": "AttributeError",
          "evalue": "ignored",
          "traceback": [
            "\u001b[0;31m---------------------------------------------------------------------------\u001b[0m",
            "\u001b[0;31mAttributeError\u001b[0m                            Traceback (most recent call last)",
            "\u001b[0;32m<ipython-input-12-8ea9ae64af71>\u001b[0m in \u001b[0;36m<cell line: 1>\u001b[0;34m()\u001b[0m\n\u001b[0;32m----> 1\u001b[0;31m \u001b[0mmy_story\u001b[0m\u001b[0;34m.\u001b[0m\u001b[0madd_note\u001b[0m\u001b[0;34m(\u001b[0m\u001b[0mnote_book_01\u001b[0m\u001b[0;34m)\u001b[0m\u001b[0;34m\u001b[0m\u001b[0;34m\u001b[0m\u001b[0m\n\u001b[0m",
            "\u001b[0;32m/content/notebook.py\u001b[0m in \u001b[0;36madd_note\u001b[0;34m(self, note, page)\u001b[0m\n\u001b[1;32m     49\u001b[0m     \u001b[0;32mif\u001b[0m \u001b[0mself\u001b[0m\u001b[0;34m.\u001b[0m\u001b[0mpage_number\u001b[0m \u001b[0;34m<\u001b[0m \u001b[0;36m300\u001b[0m\u001b[0;34m:\u001b[0m\u001b[0;34m\u001b[0m\u001b[0;34m\u001b[0m\u001b[0m\n\u001b[1;32m     50\u001b[0m       \u001b[0;32mif\u001b[0m \u001b[0mpage\u001b[0m \u001b[0;34m==\u001b[0m \u001b[0;36m0\u001b[0m\u001b[0;34m:\u001b[0m\u001b[0;34m\u001b[0m\u001b[0;34m\u001b[0m\u001b[0m\n\u001b[0;32m---> 51\u001b[0;31m         \u001b[0mself\u001b[0m\u001b[0;34m.\u001b[0m\u001b[0mnote\u001b[0m\u001b[0;34m[\u001b[0m\u001b[0mself\u001b[0m\u001b[0;34m.\u001b[0m\u001b[0mpage_number\u001b[0m\u001b[0;34m]\u001b[0m \u001b[0;34m=\u001b[0m \u001b[0mnote\u001b[0m\u001b[0;34m\u001b[0m\u001b[0;34m\u001b[0m\u001b[0m\n\u001b[0m\u001b[1;32m     52\u001b[0m         \u001b[0mself\u001b[0m\u001b[0;34m.\u001b[0m\u001b[0mpage_number\u001b[0m \u001b[0;34m+=\u001b[0m \u001b[0;36m1\u001b[0m\u001b[0;34m\u001b[0m\u001b[0;34m\u001b[0m\u001b[0m\n\u001b[1;32m     53\u001b[0m \u001b[0;34m\u001b[0m\u001b[0m\n",
            "\u001b[0;31mAttributeError\u001b[0m: 'NoteBook' object has no attribute 'note'"
          ]
        }
      ]
    },
    {
      "cell_type": "code",
      "source": [
        "# 1. 내가 노트앱 개발자 서비스 기획라면 어떤 것을 더 개발했을까?\n",
        "# 2. 기존 노트앱의 한계는 무엇일까?\n",
        "# 3. 노트앱을 통해 얻을 수 있는 데이터는 무엇일까?"
      ],
      "metadata": {
        "id": "lDJqNUeJDcPF"
      },
      "execution_count": null,
      "outputs": []
    },
    {
      "cell_type": "markdown",
      "source": [
        "#4. 클래스의 요소에 대해서 좀더 점검해보자!"
      ],
      "metadata": {
        "id": "Myjz8pV8FA8O"
      }
    },
    {
      "cell_type": "markdown",
      "source": [
        "## 4.1 클래스 기본"
      ],
      "metadata": {
        "id": "k6SfP9wFhOfQ"
      }
    },
    {
      "cell_type": "code",
      "source": [
        "# 클래스 기본 \n",
        "\n",
        "class SoccerPlayer(object): \n",
        "#클래스를 사용한 다음 단어의 앞글자가 대문자가 되도록 클래스 이름을 작성한뒤 object를 괄호 안에 넣는다."
      ],
      "metadata": {
        "id": "gVSW77HOFFdX"
      },
      "execution_count": null,
      "outputs": []
    },
    {
      "cell_type": "code",
      "source": [
        "# 빈 클래스 만들기\n",
        "class empty_class:\n",
        "  pass"
      ],
      "metadata": {
        "id": "-Vb-YhDpFfl9"
      },
      "execution_count": null,
      "outputs": []
    },
    {
      "cell_type": "code",
      "source": [
        "# 클래스 실행 예시 1\n",
        "\n",
        "class Singer:\n",
        "  def sing(self):\n",
        "    return \"Ditto\"\n",
        "\n",
        "new_jeans = Singer()\n",
        "new_jeans.sing() # Singer라는 클래스 안에 있는 sing 함수를 불러온 것"
      ],
      "metadata": {
        "colab": {
          "base_uri": "https://localhost:8080/",
          "height": 56
        },
        "id": "S4pV12PqFhg6",
        "outputId": "d70b9f3a-7560-429e-bc40-d49b49afb0f6"
      },
      "execution_count": null,
      "outputs": [
        {
          "output_type": "execute_result",
          "data": {
            "text/plain": [
              "'Ditto'"
            ],
            "application/vnd.google.colaboratory.intrinsic+json": {
              "type": "string"
            }
          },
          "metadata": {},
          "execution_count": 13
        }
      ]
    },
    {
      "cell_type": "markdown",
      "source": [
        "## 4.2 커스텀 클래스 활용"
      ],
      "metadata": {
        "id": "qAZuH26ThR9r"
      }
    },
    {
      "cell_type": "code",
      "source": [
        "# [커스텀 클래스 활용 예시 1]\n",
        "\n",
        "# 여러분들이 회원가입을 위한 것이나 데이터 처리를 할 경우 유저 데이터에 대해서 새롭게 쌓으려고 한다면\n",
        "# 이름, 성별, 나이 등등 필요할 것 -> self.이를 인스턴스 변수라 칭하자!!\n",
        "\n",
        "# 만약에 데이터 마트를 구축한다. 라고 하면 이를 가지고 사용자 정보를 출력하거나\n",
        "# 그리고 만약 마케팅을 한다라고 하면 다음과 같은 기능들이 있어야 할것이다.\n",
        "# * 사용자에게 나이에 맞게 메일을 보낸다.\n",
        "\n",
        "### 구글 폼 -> 마케팅 -> 정보를 받아서 -> 추첨 -> 공지 -> \n",
        "\n",
        "# * 사용자에게 특정시간에 어떠한 마케팅을 한다.\n",
        "\n",
        "### -> 분석 준비 x "
      ],
      "metadata": {
        "id": "6mylILTxFxjk"
      },
      "execution_count": null,
      "outputs": []
    },
    {
      "cell_type": "code",
      "source": [
        "# 클래스 정의\n",
        "class User:\n",
        "  \"\"\" 사용자 클래스 \"\"\"\n",
        "\n",
        "  def __init__(self, name, mail):\n",
        "    \"\"\" 초기화 처리 \"\"\"\n",
        "    self.name = name\n",
        "    self.mail = mail\n",
        "\n",
        "  def print_user_info(self):\n",
        "    \"\"\" 사용자 정보를 print로 출력 \"\"\"\n",
        "    print(\" \" + self.name)\n",
        "    print(\" \" + self.mail)\n",
        "\n",
        "# User 타입 객체 생성\n",
        "user1 = User(\"User1\", \"User1@naver.kr\")\n",
        "\n",
        "# User 타입 객체 생성\n",
        "print(user1.name)\n",
        "\n",
        "# User 타입 객체 생성\n",
        "user1.print_user_info()\n",
        "\n",
        "# User 타입 객체 생성\n",
        "user1.mail = \"new_user1@naver.com\"\n",
        "\n",
        "# 메서드\n",
        "user1.print_user_info()"
      ],
      "metadata": {
        "colab": {
          "base_uri": "https://localhost:8080/"
        },
        "id": "D8GX49mrF_9n",
        "outputId": "d8458543-0d04-41b6-d986-d6403e52ae28"
      },
      "execution_count": null,
      "outputs": [
        {
          "output_type": "stream",
          "name": "stdout",
          "text": [
            "User1\n",
            " User1\n",
            " User1@naver.kr\n",
            " User1\n",
            " new_user1@naver.com\n"
          ]
        }
      ]
    },
    {
      "cell_type": "code",
      "source": [
        "# 커스텀 클래스 예시 2\n",
        "\n",
        "class Pokemon_pi:\n",
        "  # 피카츄의 능력치 \n",
        "  strength = 20\n",
        "  dexterity = 25\n",
        "  vitality = 20\n",
        "  energy = 15\n",
        "  volt = 100\n",
        "\n",
        "  def attact(self):\n",
        "    return 'GiGiGic'\n",
        "\n",
        "#만약 이 파일을 Nintendo.py라는 곳에 저장한뒤에 불러올수 있다.\n",
        "\n",
        "#import Nintendo\n",
        "#Jiwoo = Nintendo.Pokemon_pi\n",
        "#JinHwan = Nintendo.Pokemon_pi\n",
        "\n",
        "# 지우도 피카츄를 가지고 나도 피카츄를 가지게 된 상황\n",
        "# 마약 공격을 하려면\n",
        "\n",
        "Jiwoo = Pokemon_pi()\n",
        "JinHwan = Pokemon_pi()\n",
        "\n",
        "print(Jiwoo.attact())\n",
        "\n",
        "pika = [Jiwoo.strength,Jiwoo.volt] \n",
        "print(pika)"
      ],
      "metadata": {
        "colab": {
          "base_uri": "https://localhost:8080/"
        },
        "id": "ZYEapOS2HF65",
        "outputId": "6e2b72a7-d560-4461-c81c-6bc0fe05ef0c"
      },
      "execution_count": null,
      "outputs": [
        {
          "output_type": "stream",
          "name": "stdout",
          "text": [
            "GiGiGic\n",
            "[20, 100]\n"
          ]
        }
      ]
    },
    {
      "cell_type": "code",
      "source": [
        "# 피카츄 레벨 업!!\n",
        "pika_level2 = Pokemon_pi()\n",
        "pika_level2.level_up()\n",
        "pika_level2_stat = [pika_level2.strength, pika_level2.dexterity, pika_level2.vitality, pika_level2.energy, pika_level2.volt] \n",
        "print(pika_level2_stat)"
      ],
      "metadata": {
        "id": "1buiH1sSHYwL"
      },
      "execution_count": null,
      "outputs": []
    },
    {
      "cell_type": "markdown",
      "source": [
        "## 4.3 self"
      ],
      "metadata": {
        "id": "dqOolFwrhYfD"
      }
    },
    {
      "cell_type": "code",
      "source": [
        "# self는 바로 그 클래스의 객체를 나타낸다. \n",
        "# 한마디로 메서드를 정의할때는 항상 self라는 인자를 써준다고 생각하면 됩니다. -> x "
      ],
      "metadata": {
        "id": "_4dNQ-yaH0Me"
      },
      "execution_count": null,
      "outputs": []
    },
    {
      "cell_type": "code",
      "source": [
        "# Self.name과 name의 차이 \n",
        "\n",
        "class ClassExample:\n",
        "    @staticmethod\n",
        "    def call(self, name):  # 함수\n",
        "        self.name = \"self\" + name  # self.name으로 파라미터와 구분\n",
        "        print(\"self : \" + self.name + \" param : \" + name)\n",
        "\n",
        "\n",
        "a = ClassExample()  # 객체화 (ClassExample의 정보를 a에 담음)\n",
        "a.call(a, \"철수\")"
      ],
      "metadata": {
        "colab": {
          "base_uri": "https://localhost:8080/"
        },
        "id": "rD-P23z3H_2r",
        "outputId": "cf3f5899-62ba-4451-86c3-fea867b1a1d7"
      },
      "execution_count": null,
      "outputs": [
        {
          "output_type": "stream",
          "name": "stdout",
          "text": [
            "self : self철수 param : 철수\n"
          ]
        }
      ]
    },
    {
      "cell_type": "markdown",
      "source": [
        "## 4,4 init"
      ],
      "metadata": {
        "id": "VT96Kz3lhdSQ"
      }
    },
    {
      "cell_type": "code",
      "source": [
        "# 4. init 생성자\n",
        "\n",
        "# 생성자는 따로 호출되지 않아도 자동으로 호출되는 메서드로 초기화 메서드라고도 함"
      ],
      "metadata": {
        "id": "M0Gs7OhdIDRY"
      },
      "execution_count": null,
      "outputs": []
    },
    {
      "cell_type": "code",
      "source": [
        "# 생성자는 호출만 되어도 자동으로 수행된다.\n",
        "class Person:\n",
        "    def __init__(self):\n",
        "        print(\"태어남..\")\n",
        "\n",
        "p = Person()"
      ],
      "metadata": {
        "colab": {
          "base_uri": "https://localhost:8080/"
        },
        "id": "5Of0cF1DIY9n",
        "outputId": "303b5977-7243-435f-88f1-49764f51e63a"
      },
      "execution_count": null,
      "outputs": [
        {
          "output_type": "stream",
          "name": "stdout",
          "text": [
            "태어남..\n"
          ]
        }
      ]
    },
    {
      "cell_type": "code",
      "source": [
        "class MyClass:\n",
        "    count = 0\n",
        "\n",
        "    def __init__(self):\n",
        "        MyClass.count += 1\n",
        "\n",
        "    def get_count(self):\n",
        "        return MyClass.count\n",
        "\n",
        "a = MyClass()\n",
        "b = MyClass()\n",
        "c = MyClass()\n",
        "\n",
        "print(a.get_count()) #3번 호출되었기 때문에 3이 나오게 된다.\n",
        "\n",
        "print(MyClass.count) #직접 호출도 가능하다."
      ],
      "metadata": {
        "colab": {
          "base_uri": "https://localhost:8080/"
        },
        "id": "jVMtpsCrIcLP",
        "outputId": "9735aed0-62be-4b21-864f-01d5c87a136e"
      },
      "execution_count": null,
      "outputs": [
        {
          "output_type": "stream",
          "name": "stdout",
          "text": [
            "3\n",
            "3\n"
          ]
        }
      ]
    },
    {
      "cell_type": "markdown",
      "source": [
        "## 4.5 str"
      ],
      "metadata": {
        "id": "8jx4BYdehglk"
      }
    },
    {
      "cell_type": "code",
      "source": [
        "# 4.5 str 생성자\n",
        "\n",
        "class text_bot:\n",
        "  def __init__(self, name, job):\n",
        "    self.name = name\n",
        "    self.job = job\n",
        "\n",
        "  def __str__(self):\n",
        "    return \"내 이름은 %s이고, 내 직업은 %s 입니다.\"%(self.name, self.job)\n",
        "\n",
        "introduce = text_bot(\"김진환\",\"데이터 분석가\")\n",
        "print(introduce)"
      ],
      "metadata": {
        "colab": {
          "base_uri": "https://localhost:8080/"
        },
        "id": "8GA07HexJMDq",
        "outputId": "94195912-bfc9-431e-def1-269bd5628360"
      },
      "execution_count": null,
      "outputs": [
        {
          "output_type": "stream",
          "name": "stdout",
          "text": [
            "내 이름은 김진환이고, 내 직업은 데이터 분석가 입니다.\n"
          ]
        }
      ]
    },
    {
      "cell_type": "markdown",
      "source": [
        "## 4.6 인스턴스 변수"
      ],
      "metadata": {
        "id": "EpqZQGH-iY-F"
      }
    },
    {
      "cell_type": "code",
      "source": [
        "#인스턴스 변수 예시\n",
        "\n",
        "class pokamon_select:\n",
        "  def __init__(self, name, hp, damage):\n",
        "    self.name = name\n",
        "    self.hp = hp\n",
        "    self.damage = damage\n",
        "\n",
        "#인스턴스 변수 사용하기\n",
        "\n",
        "pokamon_1 = pokamon_select(\"피카츄\", 40, 5) # 피카츄만의 인스턴스 변수 정의\n",
        "pokamon_2 = pokamon_select(\"이상해씨\", 20, 2) # 이상해씨만의 인스터스 변수 정의\n"
      ],
      "metadata": {
        "id": "w0cnjfIYIfVq"
      },
      "execution_count": null,
      "outputs": []
    },
    {
      "cell_type": "code",
      "source": [
        "pokamon_1.name"
      ],
      "metadata": {
        "colab": {
          "base_uri": "https://localhost:8080/",
          "height": 56
        },
        "id": "uADDYmMBJmR2",
        "outputId": "e0bcadf6-3891-482e-e432-61dc276d6cc4"
      },
      "execution_count": null,
      "outputs": [
        {
          "output_type": "execute_result",
          "data": {
            "text/plain": [
              "'피카츄'"
            ],
            "application/vnd.google.colaboratory.intrinsic+json": {
              "type": "string"
            }
          },
          "metadata": {},
          "execution_count": 24
        }
      ]
    },
    {
      "cell_type": "code",
      "source": [
        "# [클래스 속성과 인스턴스 속성의 차이점]"
      ],
      "metadata": {
        "id": "Z6aL4ZVmJnC4"
      },
      "execution_count": null,
      "outputs": []
    },
    {
      "cell_type": "code",
      "source": [
        "## 클래스 속성과 인스턴스 속성의 차이점\n",
        "\n",
        "# 클래스 속성 사용시 누적이 됨\n",
        "class Person:\n",
        "    bag = []\n",
        " \n",
        "    def put_bag(self, stuff):\n",
        "        self.bag.append(stuff)\n",
        " \n",
        "james = Person()\n",
        "james.put_bag('책')\n",
        " \n",
        "maria = Person()\n",
        "maria.put_bag('열쇠')\n",
        " \n",
        "print(james.bag)\n",
        "print(maria.bag)"
      ],
      "metadata": {
        "colab": {
          "base_uri": "https://localhost:8080/"
        },
        "id": "oeOOcVJcJyRQ",
        "outputId": "6f7487ba-13c3-446b-98c7-6a682571224a"
      },
      "execution_count": null,
      "outputs": [
        {
          "output_type": "stream",
          "name": "stdout",
          "text": [
            "['책', '열쇠']\n",
            "['책', '열쇠']\n"
          ]
        }
      ]
    },
    {
      "cell_type": "code",
      "source": [
        "#인스턴스 속성 사용시 각자 구성이 됨\n",
        "\n",
        "class Person:\n",
        "    def __init__(self):\n",
        "        self.bag = []\n",
        " \n",
        "    def put_bag(self, stuff):\n",
        "        self.bag.append(stuff)\n",
        " \n",
        "james = Person()\n",
        "james.put_bag('책')\n",
        " \n",
        "maria = Person()\n",
        "maria.put_bag('열쇠')\n",
        " \n",
        "print(james.bag)\n",
        "print(maria.bag)\n",
        "\n",
        "# ['책']\n",
        "# ['열쇠']"
      ],
      "metadata": {
        "colab": {
          "base_uri": "https://localhost:8080/"
        },
        "id": "8dR6hTHdJ0wX",
        "outputId": "e062e3c3-2aff-452f-f27b-483441fd7238"
      },
      "execution_count": null,
      "outputs": [
        {
          "output_type": "stream",
          "name": "stdout",
          "text": [
            "['책']\n",
            "['열쇠']\n"
          ]
        }
      ]
    },
    {
      "cell_type": "markdown",
      "source": [
        "## 4.7 메서드"
      ],
      "metadata": {
        "id": "fEMGfyjXlI3I"
      }
    },
    {
      "cell_type": "code",
      "source": [
        "# 메서드란?\n",
        "\n",
        "메서드는 클래스 내부에 정의한 함수로, 클래스 안에 여러개를 만들수 있음, \n",
        "* 메서드가 일반 함수와 다른점은 전달값 부분에 첫번째로 self를 넣는다는 점 \n",
        "* 메서드 안에서 self.로 인스턴스 변수에 접근할 수 있음"
      ],
      "metadata": {
        "id": "921-4zsOKEXx"
      },
      "execution_count": null,
      "outputs": []
    },
    {
      "cell_type": "code",
      "source": [
        "class pokamon_select_update:\n",
        "  def __init__(self, name, hp, damage):\n",
        "    self.name = name\n",
        "    self.hp = hp\n",
        "    self.damage = damage\n",
        "\n",
        "  def attack(self, who):\n",
        "    print(who, \"를 공격합니다.\", self.damage, \"만큼 데미지를 입혔습니다.\") #self에 영향을 받는게 있으면 self를 사용하고, 변수명에도 self를 적용시킨다.\n",
        "\n",
        "pokamon_1 = pokamon_select_update(\"피카츄\", 40, 5) # 피카츄만의 인스턴스 변수 정의\n",
        "pokamon_1.attack(\"파이리\")\n",
        "\n",
        "# 파이리 를 공격합니다. 5 만큼 데미지를 입혔습니다."
      ],
      "metadata": {
        "colab": {
          "base_uri": "https://localhost:8080/"
        },
        "id": "vC7MGx5nW590",
        "outputId": "22992d63-3342-4bb3-8f36-8bd1b1587085"
      },
      "execution_count": null,
      "outputs": [
        {
          "output_type": "stream",
          "name": "stdout",
          "text": [
            "파이리 를 공격합니다. 5 만큼 데미지를 입혔습니다.\n"
          ]
        }
      ]
    },
    {
      "cell_type": "code",
      "source": [
        "## 정적 메서드란?\n",
        "\n",
        "# 다음과 같이 메서드 위에 @staticmethod 을 붙이고, 매개변수에 self를 지정하지 않는다.\n",
        "# @는 데코레이터 -> 설명 필요"
      ],
      "metadata": {
        "id": "fm_mCgAnXHAa"
      },
      "execution_count": null,
      "outputs": []
    },
    {
      "cell_type": "code",
      "source": [
        "class Calc:\n",
        "    @staticmethod\n",
        "    def add(a, b):\n",
        "        print(a + b)\n",
        " \n",
        "    @staticmethod\n",
        "    def mul(a, b):\n",
        "        print(a * b)\n",
        " \n",
        "Calc.add(10, 20)    # 클래스에서 바로 메서드 호출\n",
        "Calc.mul(10, 20)    # 클래스에서 바로 메서드 호출\n",
        "\n",
        "# 정잭 메서드는 self를 받지 않으므로 인스턴스 속성에는 접근할 수 없음"
      ],
      "metadata": {
        "colab": {
          "base_uri": "https://localhost:8080/"
        },
        "id": "S3EPAPJvXZoW",
        "outputId": "d1dcb010-56fa-447d-e831-9256af17e008"
      },
      "execution_count": null,
      "outputs": [
        {
          "output_type": "stream",
          "name": "stdout",
          "text": [
            "30\n",
            "200\n"
          ]
        }
      ]
    },
    {
      "cell_type": "code",
      "source": [
        "## 클래스 메서드란?\n",
        "\n",
        "클래스 메서드는 다음과 같이 메서드 위에 @classmethod를 붙인다. \n",
        "이때 클래스 매서드에는 cls를 지정합니다. -> cls는 class에서 따옴"
      ],
      "metadata": {
        "id": "mU0Q0bdmXj_Y"
      },
      "execution_count": null,
      "outputs": []
    },
    {
      "cell_type": "code",
      "source": [
        "class Person:\n",
        "    count = 0    # 클래스 속성\n",
        "\n",
        "    def __init__(self):\n",
        "        Person.count += 1    # 인스턴스가 만들어질 때\n",
        "                             # 클래스 속성 count에 1을 더함\n",
        " \n",
        "    @classmethod\n",
        "    def print_count(cls): # cls = Person\n",
        "        print('{0}명 생성되었습니다.'.format(cls.count))    # cls로 클래스 속성에 접근"
      ],
      "metadata": {
        "id": "j8gbPTtlXyx_"
      },
      "execution_count": null,
      "outputs": []
    },
    {
      "cell_type": "code",
      "source": [
        "james = Person()\n",
        "maria = Person()\n",
        " \n",
        "Person.print_count()    # 2명 생성되었습니다."
      ],
      "metadata": {
        "colab": {
          "base_uri": "https://localhost:8080/"
        },
        "id": "xUk3MDVLX-N_",
        "outputId": "72d45633-6460-4e5b-ac80-ec4217a67018"
      },
      "execution_count": null,
      "outputs": [
        {
          "output_type": "stream",
          "name": "stdout",
          "text": [
            "2명 생성되었습니다.\n"
          ]
        }
      ]
    },
    {
      "cell_type": "code",
      "source": [
        "# cls가 사용되는 순간 현재 class의 클래스 속성에 count에 접근할 수 있음\n",
        "# 그래서 print_count 메서드를 호출하면 ~명이 생성되었습니다. 이 출력\n",
        "# Person,print_count()가 그 결과\n",
        "\n",
        "# 클래스 메서드는 정적 메서드 처럼 인스턴스 없이 호출 가능\n",
        "\n",
        "# 그러나 클래스 메서드는 메서드 안에서 클래스 속성이나 클래스 메서드에 접근할때 사용됨\n",
        "# cls는 가장 중요한 부분인데 메서드 안에서 현재 클래스의 인스턴스를 만들수도 있음"
      ],
      "metadata": {
        "id": "JvzX_UCtYB-C"
      },
      "execution_count": null,
      "outputs": []
    },
    {
      "cell_type": "code",
      "source": [
        "class Person:\n",
        "    count = 0    # 클래스 속성\n",
        " \n",
        "    def __init__(self):\n",
        "        Person.count += 1    # 인스턴스가 만들어질 때\n",
        "                             # 클래스 속성 count에 1을 더함\n",
        " \n",
        "    @classmethod\n",
        "    def print_count(cls):\n",
        "        print('{0}명 생성되었습니다.'.format(cls.count))    # cls로 클래스 속성에 접근\n",
        "     \n",
        "     \n",
        "    @classmethod\n",
        "    def create(cls):\n",
        "        p = cls()    # cls()로 인스턴스 생성 = Person\n",
        "        return p\n",
        "        \n",
        " \n",
        "james = Person()\n",
        "maria = Person()\n",
        "Person.print_count()    # 2명 생성되었습니다."
      ],
      "metadata": {
        "colab": {
          "base_uri": "https://localhost:8080/"
        },
        "id": "NKXBI9rrYtGB",
        "outputId": "d23a00dc-1836-4f82-fd43-0e9eee6fa640"
      },
      "execution_count": null,
      "outputs": [
        {
          "output_type": "stream",
          "name": "stdout",
          "text": [
            "2명 생성되었습니다.\n"
          ]
        }
      ]
    },
    {
      "cell_type": "code",
      "source": [
        "Person.create()  # cls()로 p라는 인스턴스 생성 -> 현재 Person 클래스를 불러옴\n",
        "Person.print_count()    # 3명 생성되었습니다."
      ],
      "metadata": {
        "colab": {
          "base_uri": "https://localhost:8080/"
        },
        "id": "v9aWECoIY9ZB",
        "outputId": "2e45e6e5-17b9-45bf-9e5f-88f48fa648b4"
      },
      "execution_count": null,
      "outputs": [
        {
          "output_type": "stream",
          "name": "stdout",
          "text": [
            "3명 생성되었습니다.\n"
          ]
        }
      ]
    },
    {
      "cell_type": "code",
      "source": [],
      "metadata": {
        "colab": {
          "base_uri": "https://localhost:8080/"
        },
        "id": "4ElFaOMMZDTu",
        "outputId": "2f054fc8-5678-4e3e-93d2-39c4c66a68d1"
      },
      "execution_count": null,
      "outputs": [
        {
          "output_type": "stream",
          "name": "stdout",
          "text": [
            "child\n",
            "parent\n"
          ]
        }
      ]
    },
    {
      "cell_type": "code",
      "source": [
        "# 비공개 속성\n",
        "\n",
        "# 클래스 바깥에서는 접근할 수 없고 클래스 내에서만 사용하는 속성으로\n",
        "# 고객이 중요하게 생각하는 정보 요즘 같이 인터넷뱅킹, 스마트뱅킹, 비트코인지갑 등이 많은 이때에는 \n",
        "# 더더욱이 잔액관리가 중요합니다.\n",
        "\n",
        "# 이러한 정보를 사용하는 방법은 속성이름 앞에 __속성명 으로 사용하면 됩니다."
      ],
      "metadata": {
        "id": "6KY7os8UZioB"
      },
      "execution_count": null,
      "outputs": []
    },
    {
      "cell_type": "code",
      "source": [
        "# 비공개 속성 실습\n",
        "\n",
        "class Person:\n",
        "    def __init__(self, name, age, address, wallet):\n",
        "        self.name = name\n",
        "        self.age = age\n",
        "        self.address = address\n",
        "        self.__wallet = wallet    # 변수 앞에 __를 붙여서 비공개 속성으로 만듦\n",
        " \n",
        "    def pay(self, amount):\n",
        "        self.__wallet -= amount   # 비공개 속성은 클래스 안의 메서드에서만 접근할 수 있음\n",
        "        print(amount, '원을 출금하여', self.__wallet, '원 남았네요.')\n",
        " \n",
        "maria = Person('마리아', 20, '서울시 서초구 반포동', 10000)\n",
        "maria.pay(3000)"
      ],
      "metadata": {
        "colab": {
          "base_uri": "https://localhost:8080/"
        },
        "id": "wQT7p-bRZWmU",
        "outputId": "3ef40163-15f1-4953-a122-a3c0766d77a6"
      },
      "execution_count": null,
      "outputs": [
        {
          "output_type": "stream",
          "name": "stdout",
          "text": [
            "3000 원을 출금하여 7000 원 남았네요.\n"
          ]
        }
      ]
    },
    {
      "cell_type": "code",
      "source": [
        "# 일반 속성은 제대로 불러와짐\n",
        "maria.name"
      ],
      "metadata": {
        "colab": {
          "base_uri": "https://localhost:8080/",
          "height": 56
        },
        "id": "lt_emdo7a3Q6",
        "outputId": "859524cd-7af4-4c70-cd04-eb3ebaf3be4e"
      },
      "execution_count": null,
      "outputs": [
        {
          "output_type": "execute_result",
          "data": {
            "text/plain": [
              "'마리아'"
            ],
            "application/vnd.google.colaboratory.intrinsic+json": {
              "type": "string"
            }
          },
          "metadata": {},
          "execution_count": 13
        }
      ]
    },
    {
      "cell_type": "code",
      "source": [
        "# 비공개 속성은 불러올수가 없음\n",
        "maria.__wallet\n",
        "maria.wallet"
      ],
      "metadata": {
        "id": "t5azfSjRbCvV"
      },
      "execution_count": null,
      "outputs": []
    },
    {
      "cell_type": "code",
      "source": [
        "# 비공개 속성 불러오기?\n",
        "maria.__dict__  "
      ],
      "metadata": {
        "id": "crUviBidkpi0"
      },
      "execution_count": null,
      "outputs": []
    },
    {
      "cell_type": "code",
      "source": [
        "#(참고) 속성뿐만 아니라 메서드도 이름이 __로 시작되면 바깥에서 호출이 불가\n",
        "\n",
        "class Person:\n",
        "    def __greeting(self):\n",
        "        print('Hello')\n",
        " \n",
        "    def hello(self):\n",
        "        self.__greeting()    # 클래스 안에서는 비공개 메서드를 호출할 수 있음\n",
        " \n",
        "james = Person()\n",
        "james.__greeting()    # 에러: 클래스 바깥에서는 비공개 메서드를 호출할 수 없음"
      ],
      "metadata": {
        "id": "2SCBYxFDbIag"
      },
      "execution_count": null,
      "outputs": []
    },
    {
      "cell_type": "markdown",
      "source": [
        "## 4.9 어떤 클래스의 인스턴스 인가?"
      ],
      "metadata": {
        "id": "VQRtF1iDlVAq"
      }
    },
    {
      "cell_type": "code",
      "source": [
        "## 4.9 어떤 클래스의 인스턴스 인가?\n",
        "\n",
        "# 일단 객체(인스턴스)가 어떤 클래스로 부터 만들어졌는지 확인할 수 있게 isinstance()함수를 제공합니다. \n",
        "# isinstance()함수는 첫번째 매개변수에 객체(인스턴스), 두번째매개변수에 클래스를 입력합니다.\n",
        "\n",
        "# isinstance(인스턴스, 클래스)"
      ],
      "metadata": {
        "id": "Q1jivow8bafi"
      },
      "execution_count": null,
      "outputs": []
    },
    {
      "cell_type": "code",
      "source": [
        "# 이때 인스턴스가 해당 클래스를 기반으로 만들어졌으면 True 전혀 상관이 없으면 False를 리턴합니다.\n",
        "\n",
        "# Student 클래스 선언\n",
        "class Student:\n",
        "  def __init__(self):\n",
        "    pass\n",
        "\n",
        "# Student 선언\n",
        "student = Student()\n",
        "\n",
        "# 인스턴스 확인하기\n",
        "print(f\"{isinstance(student, Student)} 입니다.\")"
      ],
      "metadata": {
        "colab": {
          "base_uri": "https://localhost:8080/"
        },
        "id": "PSxy0IfYbt-8",
        "outputId": "b75d35d7-bcb7-4864-dab4-0fc08bee5e7a"
      },
      "execution_count": null,
      "outputs": [
        {
          "output_type": "stream",
          "name": "stdout",
          "text": [
            "True 입니다.\n"
          ]
        }
      ]
    },
    {
      "cell_type": "markdown",
      "source": [
        "## 연습문제"
      ],
      "metadata": {
        "id": "0n-cSpwHld4m"
      }
    },
    {
      "cell_type": "code",
      "source": [
        "# 연습문제 01\n",
        "\n",
        "class SoccerPlayer:\n",
        "  def __init__(self, name, position, back_number):\n",
        "    self.name = name\n",
        "    self.position = position\n",
        "    self.back_number = back_number\n",
        "\n",
        "  def change_back_number(self, back_number):\n",
        "    self.back_number = back_number\n",
        "\n",
        "player1 = SoccerPlayer(\"KangInLee\", \"MF\", \"7\")\n",
        "print(f\"현재 선수의 등번호는 {player1.back_number} 입니다.\")\n",
        "player1.change_back_number(5)\n",
        "\n",
        "# 1) 현재 선수의 등번호는?\n",
        "# 2) 에러 발생\n",
        "# 3) 현재 선수의 등번호는 5 입니다.\n",
        "# 4) 현재 선수의 등번호는 None 입니다.\n",
        "# 5) 현재 선수의 등번호는 7 입니다."
      ],
      "metadata": {
        "colab": {
          "base_uri": "https://localhost:8080/"
        },
        "id": "4ye_1Wjsb-Ql",
        "outputId": "395d08d5-6ca0-4239-de29-1c841962e309"
      },
      "execution_count": null,
      "outputs": [
        {
          "output_type": "stream",
          "name": "stdout",
          "text": [
            "현재 선수의 등번호는 7 입니다.\n",
            "현재 선수의 등번호는 5 입니다.\n"
          ]
        }
      ]
    },
    {
      "cell_type": "code",
      "source": [
        "# 연습문제 01\n",
        "# 연습문제 02 - 1\n",
        "\n",
        "class house_password():\n",
        "  def __init__(self):\n",
        "    self.password = 9999 # -> 1234\n",
        "\n",
        "  def set_password(self, new_password):\n",
        "    self.password = new_password\n",
        "    print(\"패스워드가 변경되었습니다.\")\n",
        "\n",
        "  def get_password(self):\n",
        "    print(f\"현재 패스워드는 {password}입니다.\")\n",
        "\n",
        "my_house = house_password()\n",
        "my_house.get_password() #여기서 오류 password가 없음;;??\n",
        "my_house.set_password(1234)\n",
        "print(my_house.password)"
      ],
      "metadata": {
        "colab": {
          "base_uri": "https://localhost:8080/"
        },
        "id": "MMqwqV0KxqdZ",
        "outputId": "b1479c33-3c13-40b2-954b-3ac28c3b5117"
      },
      "execution_count": null,
      "outputs": [
        {
          "output_type": "stream",
          "name": "stdout",
          "text": [
            "현재 패스워드는 9999입니다.\n",
            "패스워드가 변경되었습니다.\n",
            "1234\n"
          ]
        }
      ]
    },
    {
      "cell_type": "code",
      "source": [
        "# 연습문제 02-2 \n",
        "\n",
        "class house_password():\n",
        "  def __init__(self):\n",
        "    self.__password = 9999\n",
        "  def set_password(self, new_password):\n",
        "    self.__password = new_password\n",
        "    print(\"패스워드가 변경되었습니다.\")\n",
        "#self를 넣어야 제대로 작동 그러나 또 오류\n",
        "  def get_password(self):\n",
        "    print(f\"현재 패스워드는 {self.__password}입니다.\")\n",
        "\n",
        "my_house = house_password()\n",
        "my_house.get_password()\n",
        "my_house.set_password(1234)\n",
        "print(my_house.password) "
      ],
      "metadata": {
        "colab": {
          "base_uri": "https://localhost:8080/",
          "height": 256
        },
        "id": "_c1J8RJSyOq2",
        "outputId": "2b2e1b21-a71f-4a19-d586-be4d247d3eb7"
      },
      "execution_count": null,
      "outputs": [
        {
          "output_type": "stream",
          "name": "stdout",
          "text": [
            "현재 패스워드는 9999입니다.\n",
            "패스워드가 변경되었습니다.\n"
          ]
        },
        {
          "output_type": "error",
          "ename": "AttributeError",
          "evalue": "ignored",
          "traceback": [
            "\u001b[0;31m---------------------------------------------------------------------------\u001b[0m",
            "\u001b[0;31mAttributeError\u001b[0m                            Traceback (most recent call last)",
            "\u001b[0;32m<ipython-input-23-7bbf07c626ad>\u001b[0m in \u001b[0;36m<cell line: 16>\u001b[0;34m()\u001b[0m\n\u001b[1;32m     14\u001b[0m \u001b[0mmy_house\u001b[0m\u001b[0;34m.\u001b[0m\u001b[0mget_password\u001b[0m\u001b[0;34m(\u001b[0m\u001b[0;34m)\u001b[0m\u001b[0;34m\u001b[0m\u001b[0;34m\u001b[0m\u001b[0m\n\u001b[1;32m     15\u001b[0m \u001b[0mmy_house\u001b[0m\u001b[0;34m.\u001b[0m\u001b[0mset_password\u001b[0m\u001b[0;34m(\u001b[0m\u001b[0;36m1234\u001b[0m\u001b[0;34m)\u001b[0m\u001b[0;34m\u001b[0m\u001b[0;34m\u001b[0m\u001b[0m\n\u001b[0;32m---> 16\u001b[0;31m \u001b[0mprint\u001b[0m\u001b[0;34m(\u001b[0m\u001b[0mmy_house\u001b[0m\u001b[0;34m.\u001b[0m\u001b[0mpassword\u001b[0m\u001b[0;34m)\u001b[0m\u001b[0;34m\u001b[0m\u001b[0;34m\u001b[0m\u001b[0m\n\u001b[0m",
            "\u001b[0;31mAttributeError\u001b[0m: 'house_password' object has no attribute 'password'"
          ]
        }
      ]
    },
    {
      "cell_type": "code",
      "source": [
        "1. 현재 패스워드는 9999입니다.\n",
        "패스워드가 변경되었습니다.\n",
        "9999\n",
        "2. 현재 패스워드는 9999입니다.\n",
        "패스워드가 변경되었습니다.\n",
        "1234\n",
        "3. 현재 패스워드는 9999입니다.\n",
        "9999\n",
        "패스워드가 변경되었습니다.\n",
        "4. 현재 패스워드는 9999입니다.\n",
        "1234\n",
        "패스워드가 변경되었습니다.\n",
        "5. 현재 패스워드는 9999입니다.\n",
        "패스워드가 변경되었습니다.\n",
        "에러"
      ],
      "metadata": {
        "id": "JOUWqUa10LZd"
      },
      "execution_count": null,
      "outputs": []
    },
    {
      "cell_type": "code",
      "source": [
        "# 연습문제 02-3 \n",
        "\n",
        "class house_password():\n",
        "  def __init__(self):\n",
        "    self.password = 9999\n",
        "\n",
        "  def set_password(self, new_password):\n",
        "    self.password = new_password\n",
        "    print(\"패스워드가 변경되었습니다.\")\n",
        "\n",
        "  def get_password(self):\n",
        "    print(f\"현재 패스워드는 {self.password}입니다.\")\n",
        "\n",
        "my_house = house_password()\n",
        "my_house.get_password()\n",
        "my_house.set_password(1234)\n",
        "print(my_house.password)"
      ],
      "metadata": {
        "colab": {
          "base_uri": "https://localhost:8080/"
        },
        "id": "702nDiIo2K-y",
        "outputId": "3eba9b82-5a14-4026-a012-12c0437cdff5"
      },
      "execution_count": null,
      "outputs": [
        {
          "output_type": "stream",
          "name": "stdout",
          "text": [
            "현재 패스워드는 9999입니다.\n",
            "패스워드가 변경되었습니다.\n",
            "1234\n"
          ]
        }
      ]
    },
    {
      "cell_type": "code",
      "source": [
        "# 연습문제 03\n",
        "\n",
        "class Terran(object):\n",
        "  def __init__(self, mineral):\n",
        "    self.scv = 4\n",
        "    self.marine = 0\n",
        "    self.medic = 0\n",
        "    self.mineral = mineral #50\n",
        "\n",
        "  def command(self, SCV = False):\n",
        "    self.mineral += 8*self.scv # 32 -> 82\n",
        "    if SCV:\n",
        "      self.scv += 1 # 4 -> 5\n",
        "      self.mineral -= 10 # 82 -> 72\n",
        " \n",
        "  def barrack(self, Marine=False, Medic =False):\n",
        "    self.mineral += 8 * self.scv # 40 - 40 = 0\n",
        "\n",
        "    if Medic:\n",
        "      self.medic += 1\n",
        "      self.mineral -= 25\n",
        "    \n",
        "    if Marine:\n",
        "      self.marine += 1\n",
        "      self.mineral -= 15\n",
        "\n",
        "  def check_source(self):\n",
        "    print(f\"Mineral이 {self.mineral}만큼 있습니다.\")"
      ],
      "metadata": {
        "id": "6OviV_QA2Otg"
      },
      "execution_count": null,
      "outputs": []
    },
    {
      "cell_type": "code",
      "source": [
        "SlayerS_BoxeR = Terran(50) v\n",
        "SlayerS_BoxeR.command(True) \n",
        "SlayerS_BoxeR.barrack(True, True)\n",
        "SlayerS_BoxeR.check_source()"
      ],
      "metadata": {
        "colab": {
          "base_uri": "https://localhost:8080/"
        },
        "id": "-e26W1q72cb-",
        "outputId": "c3bfbce8-117b-49c7-a231-5cd9938f04e5"
      },
      "execution_count": null,
      "outputs": [
        {
          "output_type": "stream",
          "name": "stdout",
          "text": [
            "Mineral이 72만큼 있습니다.\n"
          ]
        }
      ]
    },
    {
      "cell_type": "markdown",
      "source": [
        "## 피카츄"
      ],
      "metadata": {
        "id": "njMKEMbhljj9"
      }
    },
    {
      "cell_type": "code",
      "source": [
        "class pokemon_select:\n",
        "  def __init__(self, name, hp, attack, defense, s_attack, s_defense, speed):\n",
        "    # 메서드에 정의한 변수는 인스턴스 변수\n",
        "    self.name = name \n",
        "    self.hp = hp\n",
        "    self.defense = defense\n",
        "    self.s_attack = s_attack\n",
        "    self.s_defense = s_defense\n",
        "    self.speed = speed\n",
        "    print(f\"{self.name}을 생성했습니다.\")\n",
        "    print(f\"체력은 {self.hp}, 공격력은 {self.defense}, 방어력은 {self.defense}, 특수공격은 {self.s_attack}, 특수방어는 {self.s_defense}, 민첩성은 {self.speed} 입니다.\")"
      ],
      "metadata": {
        "id": "yKwgqgxz4ofk"
      },
      "execution_count": null,
      "outputs": []
    },
    {
      "cell_type": "code",
      "source": [
        "# 다시 만들어 볼까요??\n",
        "# 더이상 변수명은 많이 안만들어도 되고 일일히 수정하지 않아도되요^^\n",
        "\n",
        "pikachu_025 = pokemon_select(\"피카츄\", 35, 55, 40, 50, 50, 90)\n",
        "charmander_004 = pokemon_select(\"파이리\", 35, 52, 43, 60, 50, 65)\n",
        "squirtle_007 = pokemon_select(\"꼬부기\", 44, 48, 65, 50, 64, 43)"
      ],
      "metadata": {
        "colab": {
          "base_uri": "https://localhost:8080/"
        },
        "id": "XbHpcK679dqG",
        "outputId": "8deb23d0-d069-4d1e-fa92-2c7e4445360b"
      },
      "execution_count": null,
      "outputs": [
        {
          "output_type": "stream",
          "name": "stdout",
          "text": [
            "피카츄을 생성했습니다.\n",
            "체력은 35, 공격력은 40, 방어력은 40, 특수공격은 50, 특수방어는 50, 민첩성은 90 입니다.\n",
            "파이리을 생성했습니다.\n",
            "체력은 35, 공격력은 43, 방어력은 43, 특수공격은 60, 특수방어는 50, 민첩성은 65 입니다.\n",
            "꼬부기을 생성했습니다.\n",
            "체력은 44, 공격력은 65, 방어력은 65, 특수공격은 50, 특수방어는 64, 민첩성은 43 입니다.\n"
          ]
        }
      ]
    },
    {
      "cell_type": "code",
      "source": [
        "# 그러면 만약 전체 값중 일부만 넣는다면?\n",
        "pikachu_025_test = pokemon_select(\"피카츄\", 35, 55, 40, 50) "
      ],
      "metadata": {
        "colab": {
          "base_uri": "https://localhost:8080/"
        },
        "id": "T407BIne9knl",
        "outputId": "437036f7-1449-4177-9118-7c8a17aa6f72"
      },
      "execution_count": null,
      "outputs": [
        {
          "output_type": "stream",
          "name": "stdout",
          "text": [
            "피카츄을 생성했습니다.\n",
            "체력은 35, 공격력은 40, 방어력은 40, 특수공격은 50, 특수방어는 50, 민첩성은 90 입니다.\n"
          ]
        }
      ]
    },
    {
      "cell_type": "code",
      "source": [
        "# 생성된 피카츄\n",
        "pikachu_025 = pokemon_select(\"피카츄\", 35, 55, 40, 50, 50, 90)\n"
      ],
      "metadata": {
        "colab": {
          "base_uri": "https://localhost:8080/"
        },
        "id": "PGd76c2G-Lx7",
        "outputId": "2702657f-cb79-407b-e274-1a12bfc7bdcd"
      },
      "execution_count": null,
      "outputs": [
        {
          "output_type": "stream",
          "name": "stdout",
          "text": [
            "피카츄을 생성했습니다.\n",
            "체력은 35, 공격력은 40, 방어력은 40, 특수공격은 50, 특수방어는 50, 민첩성은 90 입니다.\n"
          ]
        }
      ]
    },
    {
      "cell_type": "code",
      "source": [
        "pikachu_025.name"
      ],
      "metadata": {
        "colab": {
          "base_uri": "https://localhost:8080/",
          "height": 56
        },
        "id": "tprlcib5-dWI",
        "outputId": "1e37af10-500a-4894-95e4-d75395713365"
      },
      "execution_count": null,
      "outputs": [
        {
          "output_type": "execute_result",
          "data": {
            "text/plain": [
              "'피카츄'"
            ],
            "application/vnd.google.colaboratory.intrinsic+json": {
              "type": "string"
            }
          },
          "metadata": {},
          "execution_count": 34
        }
      ]
    },
    {
      "cell_type": "code",
      "source": [
        "# 생성된 피카츄의 능력치 데이터에 접근 및 레벨업 추가!!\n",
        "pikachu_025.level_up = True"
      ],
      "metadata": {
        "id": "Z9_ks_mo-e9M"
      },
      "execution_count": null,
      "outputs": []
    },
    {
      "cell_type": "code",
      "source": [
        "pikachu_025.level_up"
      ],
      "metadata": {
        "colab": {
          "base_uri": "https://localhost:8080/"
        },
        "id": "qNKczjX6-sU2",
        "outputId": "b8a089af-8c29-4693-b10a-83681fef6db9"
      },
      "execution_count": null,
      "outputs": [
        {
          "output_type": "execute_result",
          "data": {
            "text/plain": [
              "True"
            ]
          },
          "metadata": {},
          "execution_count": 36
        }
      ]
    },
    {
      "cell_type": "code",
      "source": [
        "# 피카츄를 라이츄로 진화시키기!!\n",
        "\n",
        "if pikachu_025.level_up == True:\n",
        "  print(\"피카츄는 라이츄로 진화할수 있습니다. 레벨업을 하시겠습니까?\")"
      ],
      "metadata": {
        "colab": {
          "base_uri": "https://localhost:8080/"
        },
        "id": "8KiGRyyV-vGM",
        "outputId": "5a08f5ee-0c23-42b0-adcb-b0c5c7cc9bd2"
      },
      "execution_count": null,
      "outputs": [
        {
          "output_type": "stream",
          "name": "stdout",
          "text": [
            "피카츄는 라이츄로 진화할수 있습니다. 레벨업을 하시겠습니까?\n"
          ]
        }
      ]
    },
    {
      "cell_type": "code",
      "source": [
        "# 위의 문장을 좀 더 게임처럼 만들면 어떻게 할까요?\n",
        "\n",
        "if pikachu_025.level_up == True:\n",
        "  level_up_check = input(\"피카츄는 라이츄로 진화할수 있습니다. 레벨업을 하시겠습니까?\")\n",
        "  if level_up_check == \"예\":\n",
        "    print(\"라이츄로 진화했습니다.\")\n",
        "  else:\n",
        "    print(\"아직 피카츄가 좋아! 다음 기회에 진화해주세요\") \n",
        "\n",
        "# 하지만 이 기능은 피카츄에게만 단독으로 부여된거라\n",
        "# 다른 포켓몬은 활용할 수 없어요"
      ],
      "metadata": {
        "colab": {
          "base_uri": "https://localhost:8080/"
        },
        "id": "obmUrL8t-5vn",
        "outputId": "48452db7-490f-4eae-d12f-50cc23c1b896"
      },
      "execution_count": null,
      "outputs": [
        {
          "output_type": "stream",
          "name": "stdout",
          "text": [
            "피카츄는 라이츄로 진화할수 있습니다. 레벨업을 하시겠습니까?예\n",
            "라이츄로 진화했습니다.\n"
          ]
        }
      ]
    },
    {
      "cell_type": "code",
      "source": [
        "class pokemon_select:\n",
        "  def __init__(self, name, hp, attack, defense, s_attack, s_defense, speed):\n",
        "    # 메서드에 정의한 변수는 인스턴스 변수\n",
        "    self.name = name \n",
        "    self.hp = hp\n",
        "    self.attack = attack\n",
        "    self.defense = defense\n",
        "    self.s_attack = s_attack\n",
        "    self.s_defense = s_defense\n",
        "    self.speed = speed\n",
        "    print(f\"{self.name}을 생성했습니다.\")\n",
        "    print(f\"체력은 {self.hp}, 공격력은 {self.defense}, 방어력은 {self.defense}, 특수공격은 {self.s_attack}, 특수방어는 {self.s_defense}, 민첩성은 {self.speed} 입니다.\")\n",
        " \n",
        "  def attacked(self, name, attack_basic, attack):\n",
        "    print(f'{self.name}이(가) {attack_basic}을 했습니다. 데미지는 {self.attack} 만큼 피해를 주었습니다.' )\n",
        "\n",
        "  def damaged(self, damage):\n",
        "    print(f\"{self.name}가 {damage}만큼 피해를 입었습니다.\")\n",
        "    self.hp -= damage\n",
        "    # 남은 채력 출력\n",
        "    print(f\"현재 {self.name}의 체력은 {self.hp}이(가) 남았습니다. \")\n",
        "    if self.hp <= 0:\n",
        "      print(f\"{self.name}의 체력이 0이 되었습니다. 게임을 다시 시작해주세요\")"
      ],
      "metadata": {
        "id": "P8lr90ZM_Cgd"
      },
      "execution_count": null,
      "outputs": []
    },
    {
      "cell_type": "code",
      "source": [
        "# 생성된 피카츄\n",
        "pikachu_025 = pokemon_select(\"피카츄\", 35, 55, 40, 50, 50, 90)"
      ],
      "metadata": {
        "colab": {
          "base_uri": "https://localhost:8080/"
        },
        "id": "luA2v0-6_kPA",
        "outputId": "d509b65a-01ba-4016-fc46-989b04c4ba4e"
      },
      "execution_count": null,
      "outputs": [
        {
          "output_type": "stream",
          "name": "stdout",
          "text": [
            "피카츄을 생성했습니다.\n",
            "체력은 35, 공격력은 40, 방어력은 40, 특수공격은 50, 특수방어는 50, 민첩성은 90 입니다.\n"
          ]
        }
      ]
    },
    {
      "cell_type": "code",
      "source": [
        "# 상대방의 방어력은 아직 반영 안함\n",
        "pikachu_025.attacked(pikachu_025.name, \"기본공격\", pikachu_025.attack)"
      ],
      "metadata": {
        "colab": {
          "base_uri": "https://localhost:8080/"
        },
        "id": "zP2YVniq_tdl",
        "outputId": "19b89967-06d2-48a6-a6cf-06a4d2ab82ff"
      },
      "execution_count": null,
      "outputs": [
        {
          "output_type": "stream",
          "name": "stdout",
          "text": [
            "피카츄이(가) 기본공격을 했습니다. 데미지는 55 만큼 피해를 주었습니다.\n"
          ]
        }
      ]
    },
    {
      "cell_type": "code",
      "source": [
        "# 상대방의 공격력은 아직 반영 안함\n",
        "pikachu_025.damaged(30)"
      ],
      "metadata": {
        "colab": {
          "base_uri": "https://localhost:8080/"
        },
        "id": "h-8hfMU2_2l3",
        "outputId": "13bb768e-ecc3-4dba-9bb6-506cab137f30"
      },
      "execution_count": null,
      "outputs": [
        {
          "output_type": "stream",
          "name": "stdout",
          "text": [
            "피카츄가 30만큼 피해를 입었습니다.\n",
            "현재 피카츄의 체력은 5이(가) 남았습니다. \n"
          ]
        }
      ]
    },
    {
      "cell_type": "code",
      "source": [
        "# 다시 상대편 차례라 공격\n",
        "pikachu_025.damaged(5)"
      ],
      "metadata": {
        "colab": {
          "base_uri": "https://localhost:8080/"
        },
        "id": "BtKgV-KL_-0j",
        "outputId": "8a2b28fb-1254-4f50-f29f-0c339d1781c3"
      },
      "execution_count": null,
      "outputs": [
        {
          "output_type": "stream",
          "name": "stdout",
          "text": [
            "피카츄가 5만큼 피해를 입었습니다.\n",
            "현재 피카츄의 체력은 0이(가) 남았습니다. \n",
            "피카츄의 체력이 0이 되었습니다. 게임을 다시 시작해주세요\n"
          ]
        }
      ]
    },
    {
      "cell_type": "markdown",
      "source": [
        "## 연습문제2"
      ],
      "metadata": {
        "id": "JMVpKpF8lp6u"
      }
    },
    {
      "cell_type": "code",
      "source": [
        "# 6.2 차량 등록기 클래스 생성\n",
        "\n",
        "1. 총 주차 가능 대수인 capacity는 객체를 생성할때 전달받아 인스턴스 변수로 정의\n",
        "2. 현재 등록된 차량을 관리하는 count는 객체를 생성하여 0으로 정의\n",
        "3. 객체를 생성할때 등록 가능한 대수 출력\n",
        "4. 차를 신규 등록하는 register()메서드 생성\n",
        "5. 신규 등록시 등록 현황을 출력\n",
        "6. 총 주차가능대수가 초과할 경우 “등록할 수 없습니다.” 메세지 출력"
      ],
      "metadata": {
        "colab": {
          "base_uri": "https://localhost:8080/",
          "height": 152
        },
        "id": "2e_9uv0nACTv",
        "outputId": "6f3db433-c722-4d27-8360-983c60b789d7"
      },
      "execution_count": null,
      "outputs": [
        {
          "output_type": "error",
          "ename": "SyntaxError",
          "evalue": "ignored",
          "traceback": [
            "\u001b[0;36m  File \u001b[0;32m\"<ipython-input-44-6baf7d51f624>\"\u001b[0;36m, line \u001b[0;32m2\u001b[0m\n\u001b[0;31m    2. 현재 등록된 차량을 관리하는 count는 객체를 생성하여 0으로 정의\u001b[0m\n\u001b[0m                                       ^\u001b[0m\n\u001b[0;31mSyntaxError\u001b[0m\u001b[0;31m:\u001b[0m invalid decimal literal\n"
          ]
        }
      ]
    },
    {
      "cell_type": "code",
      "source": [
        "class ParkingManager:\n",
        "  # 주차정보 초기화\n",
        "  def __init__(self, capacity):\n",
        "    self.capacity = capacity # 총 주차 가능 대수\n",
        "    self.count = 0 #현재 등록된 차량수\n",
        "    print(f\"총 {capacity}대를 등록할 수 있어요\")\n",
        "  # 신규 차량 등록\n",
        "  def register(self):\n",
        "    if self.count >= self.capacity: #5\n",
        "      print(\"모두 등록되었어요...\")\n",
        "      return \n",
        "    self.count += 1\n",
        "    print(f'신규 차량이 등록되었습니다. ({self.count}/{self.capacity})')\n",
        "\n",
        "#테스트\n",
        "\n",
        "manager = ParkingManager(5)\n",
        "for i in range(6):\n",
        "  manager.register()\n",
        "\n"
      ],
      "metadata": {
        "colab": {
          "base_uri": "https://localhost:8080/"
        },
        "id": "yacZeCikAbzj",
        "outputId": "338f6ace-905c-489e-a860-718b05aabc5e"
      },
      "execution_count": null,
      "outputs": [
        {
          "output_type": "stream",
          "name": "stdout",
          "text": [
            "총 5대를 등록할 수 있어요\n",
            "신규 차량이 등록되었습니다. (1/5)\n",
            "신규 차량이 등록되었습니다. (2/5)\n",
            "신규 차량이 등록되었습니다. (3/5)\n",
            "신규 차량이 등록되었습니다. (4/5)\n",
            "신규 차량이 등록되었습니다. (5/5)\n",
            "모두 등록되었어요...\n"
          ]
        }
      ]
    },
    {
      "cell_type": "code",
      "source": [
        "## 6.3 부동산 프로그램 클래스로 만들기 - 공인중계사용\n",
        "\n",
        "1. self 생성자로 인스턴스 변수를 정의합니다.\n",
        "2. 매물정보를 표시하는 show_detail에서는 인스턴스 변수를 출력하여 부동산 정보를 표시하게 합니다.\n",
        "3. 네이버 부동산/생각해서 자신이 관심있는 매물 3가지의 정보를 받아 몇가지 매물이 있는 지 확인하고, 각 부동산 정보를 출력합니다."
      ],
      "metadata": {
        "id": "BjUnlackD_K_"
      },
      "execution_count": null,
      "outputs": []
    },
    {
      "cell_type": "code",
      "source": [
        "class RealEstate:\n",
        "    def __init__(self, address, price, rooms):\n",
        "        self.address = address\n",
        "        self.price = price\n",
        "        self.rooms = rooms\n",
        "    \n",
        "    def show_detail(self):\n",
        "        print(\"주소:\", self.address)\n",
        "        print(\"가격:\", self.price)\n",
        "        print(\"방수:\", self.rooms)\n",
        "\n",
        "# 부동산 정보 입력\n",
        "property1 = RealEstate(\"서울시 강남구 A동 101호\", \"10억원\", 3)\n",
        "property2 = RealEstate(\"서울시 강북구 B동 202호\", \"5억원\", 2)\n",
        "property3 = RealEstate(\"서울시 송파구 C동 303호\", \"7억원\", 4)\n",
        "\n",
        "# 부동산 정보 출력\n",
        "property1.show_detail()\n",
        "print(\"---------------------\")\n",
        "property2.show_detail()\n",
        "print(\"---------------------\")\n",
        "property3.show_detail()"
      ],
      "metadata": {
        "colab": {
          "base_uri": "https://localhost:8080/"
        },
        "id": "o3O271MHJrK-",
        "outputId": "130d792e-2ffa-413f-c18b-44cb45896936"
      },
      "execution_count": null,
      "outputs": [
        {
          "output_type": "stream",
          "name": "stdout",
          "text": [
            "주소: 서울시 강남구 A동 101호\n",
            "가격: 10억원\n",
            "방수: 3\n",
            "---------------------\n",
            "주소: 서울시 강북구 B동 202호\n",
            "가격: 5억원\n",
            "방수: 2\n",
            "---------------------\n",
            "주소: 서울시 송파구 C동 303호\n",
            "가격: 7억원\n",
            "방수: 4\n"
          ]
        }
      ]
    },
    {
      "cell_type": "code",
      "source": [
        "#해당 코드를 사용해서 부동산 코드를 만드세요\n",
        "\n",
        "class House:\n",
        "\n",
        "#매출 초기화 : 위치, 건물종류 , 매물종류, 가격, 준공연도\n",
        "  def __init__(self, location, house_type, deal_type, price, completion_year):\n",
        "\t  pass\n",
        "\n",
        "#매출 정보 표시\n",
        "  def show_detail(self):\n",
        "\t\tpass"
      ],
      "metadata": {
        "id": "dLX6Lg4uEqMf"
      },
      "execution_count": null,
      "outputs": []
    },
    {
      "cell_type": "code",
      "source": [
        "class House:\n",
        "  #매출 초기화 : 위치, 건물종류 , 매물종류, 가격, 준공연도\n",
        "  def __init__(self, location, house_type, deal_type, price, completion_year):\n",
        "    self.location = location\n",
        "    self.house_type = house_type\n",
        "    self.deal_type = deal_type\n",
        "    self.price = price\n",
        "    self.completion_year = completion_year\n",
        "\n",
        "  #매출 정보 표시\n",
        "  def show_detail(self):\n",
        "    print(self.location, self.house_type, self.deal_type, self.price, self.completion_year)\n",
        "\n",
        "houses = []\n",
        "house1 = House(\"강남\", \"아파트\", \"매매\", \"10.5억\", \"2010년\")\n",
        "house2 = House(\"강남\", \"빌라\", \"전세\", \"12.5억\", \"2015년\")\n",
        "house3 = House(\"강남\", \"빌라\", \"전세\", \"12.5억\", \"2015년\")\n",
        "\n",
        "houses.append(house1)\n",
        "houses.append(house2)\n",
        "houses.append(house3)\n",
        "\n",
        "print(f\"총 {len(houses)} 개의 매물이 있습니다.\")\n",
        "\n",
        "for house in houses:\n",
        "  house.show_detail()"
      ],
      "metadata": {
        "colab": {
          "base_uri": "https://localhost:8080/"
        },
        "id": "DXWFeYfuJvqw",
        "outputId": "c410bd4f-f8ca-450b-e0f9-94a5a82e5eae"
      },
      "execution_count": null,
      "outputs": [
        {
          "output_type": "stream",
          "name": "stdout",
          "text": [
            "총 3 개의 매물이 있습니다.\n",
            "강남 아파트 매매 10.5억 2010년\n",
            "강남 빌라 전세 12.5억 2015년\n",
            "강남 빌라 전세 12.5억 2015년\n"
          ]
        }
      ]
    },
    {
      "cell_type": "code",
      "source": [
        "총 3 개의 매물이 있습니다.\n",
        "강남 아파트 매매 10.5억 2010년\n",
        "강남 빌라 전세 12.5억 2015년\n",
        "강남 빌라 전세 12.5억 2015년"
      ],
      "metadata": {
        "id": "utk8eJkbEsck"
      },
      "execution_count": null,
      "outputs": []
    },
    {
      "cell_type": "markdown",
      "source": [
        "# 상속"
      ],
      "metadata": {
        "id": "N1bA2qD-l2Ds"
      }
    },
    {
      "cell_type": "markdown",
      "source": [
        "이제 클래스의 기초가 끝났습니다 ㅎㅎ\n",
        "\n",
        "상속은 어떤 클래스가 다른 클래스의 성질을 물려받는것.\n",
        "유산을 상속 받는것과 동일하다고 생각하며 됨\n",
        "\n",
        "어떤 클래스를 만들때 처음부터 다른 클래스로 부터 상속받게 만들면 좀더 쓸만한 클래스를 만들수 있음\n",
        "\n",
        "* 기능을 물려줌 - base class(기반 클래스) - 부모 클래스, 슈퍼클래스\n",
        "* 상속을 받아 새롭게 만듬 - derived class(파생 클래스) - 자식 클래스, 서브 클래스\n",
        "\n",
        "[상속을 사용하는 이유]\n",
        "\n",
        "* 결국 기존 기능을 재사용하고, 중복되는 기능을 만들지 않아도 되기 때문"
      ],
      "metadata": {
        "id": "EMxZx8iRLcUa"
      }
    },
    {
      "cell_type": "code",
      "source": [
        "# 기본 문법\n",
        "\n",
        "# inheritance 상속\n",
        "\n",
        "class Person(object):\n",
        "  pass\n",
        "\n",
        "# class라는 예약어 다음에 클래스명으로 Person을 쓰고, \n",
        "# ()안에 object를 입력하였다.\n",
        "# 여기서 object가 바로 부모 클래스이다.\n",
        "\n",
        "# 사실 object는 파이썬에서 사용하는 \n",
        "# 가장 기본 객체(base object - 기반 객체라고도 함)\n",
        "# 파이썬 언어는 객체지향 프로그래밍을 모든 변수는 객체이다.\n",
        "\n",
        "# 예를 들어 파이썬의 문자열 형 변수에 대해 다음과 같이 객체 이름을 확인할 수 있다.\n",
        "\n",
        "a = 'abc'\n",
        "type(a) -> class 'str'\n",
        "\n",
        "# 지금까지 'abc'를 우리는 문자열형 문자열 자료라고 불렀는데, \n",
        "# 내부적으로는 객체로 처리된것이다.\n",
        "# 파이썬의 모든 객체는 object객체를 상속한다."
      ],
      "metadata": {
        "id": "0dYT7nAgL2nQ"
      },
      "execution_count": null,
      "outputs": []
    },
    {
      "cell_type": "code",
      "source": [
        "class 기반클래스이름:\n",
        "    코드\n",
        " \n",
        "class 파생클래스이름(기반클래스이름):\n",
        "    코드"
      ],
      "metadata": {
        "id": "CArYwKRmL_kM"
      },
      "execution_count": null,
      "outputs": []
    },
    {
      "cell_type": "code",
      "source": [
        "class Person(object):\n",
        "  def __init__(self, name, age):\n",
        "    self.name = name\n",
        "    self.age = age\n",
        "\n",
        "class Korean(Person):\n",
        "  pass\n",
        "\n",
        "first_korean = Korean(\"Dawon\",4)\n",
        "print(first_korean.age)"
      ],
      "metadata": {
        "colab": {
          "base_uri": "https://localhost:8080/"
        },
        "id": "FevC-cDiMGro",
        "outputId": "a4f0006f-3364-4e6f-a938-a936fea27099"
      },
      "execution_count": null,
      "outputs": [
        {
          "output_type": "stream",
          "name": "stdout",
          "text": [
            "4\n"
          ]
        }
      ]
    },
    {
      "cell_type": "code",
      "source": [
        "# 이 코드는 먼저 Person class를 생성한 것\n",
        "# Person 클래스는 생성자 __init__() 함수를 만들어 name과 age를 만들었다는 것은 이제 알것이다.\n",
        "\n",
        "# 여기서 중요한 것은 지금까지는 그러지 않았지만 클래스안에 클래스를 볼수 있다.\n",
        "##### Korean클래스를 만들면서 Person클래스를 상속받는것이다.\n",
        "\n",
        "# 그리고 pass를 사용하여 별도의 내용 없이 클래스만 존재하는 것을 만들었다.\n",
        "# 결국 Korean은 아무런 내용이 없는 클래스인데, Korean(Person)을 사용하게 되면서\n",
        "# Korean은 Person이 가지고 있는 생성자를 그래도 사용할수 있게 된것이다."
      ],
      "metadata": {
        "id": "HiP5VmNWMYZF"
      },
      "execution_count": null,
      "outputs": []
    },
    {
      "cell_type": "code",
      "source": [
        "# 예제를 하나더 살펴보자\n",
        "\n",
        "class Person(object): # 부모 클래스 선언\n",
        "  #초기 메서드\n",
        "  def __init__(self, name, age, gender):\n",
        "    self.name = name\n",
        "    self.age = age\n",
        "    self.gender = gender\n",
        "  #출력 메서드\n",
        "  def about_me(self): # 메서드 선언\n",
        "    print(f\"안녕하세요 제 이름은 {name}이고, 나이는 {age}이고, 성별은 {gender}입니다.\")"
      ],
      "metadata": {
        "id": "HcxY_TzDMu2g"
      },
      "execution_count": null,
      "outputs": []
    },
    {
      "cell_type": "code",
      "source": [
        "# 클래스를 하나 더 만들어 보자! 상속받을 클래스이다.\n",
        "\n",
        "class Empolyee(Person):\n",
        "  # Employee 초기 메서드\n",
        "  def __init__(self, name, age, gender, salary, hire_date):\n",
        "    # Person의 초기메서드\n",
        "    super().__init__(name, age, gender) #부모클래스의 인스턴스 함수를 그대로 사용한다.\n",
        "    self.salary = salary\n",
        "    self.hire_date = hire_date\n",
        "  \n",
        "  def do_work(self):\n",
        "    print(\"근무시간 이에요\")\n",
        "\n",
        "  def about_me(self):\n",
        "    super().about_me()\n",
        "    print(f\"저의 월급은 {self.salary}이고, 제 입사날짜는 {self.hire_date}입니다.\")"
      ],
      "metadata": {
        "id": "P1Hkk64dM7w0"
      },
      "execution_count": null,
      "outputs": []
    },
    {
      "cell_type": "code",
      "source": [
        "# Person 클래스가 단순히 사람에 대한 정보를 정의했다면 \n",
        "# Employee 클래스는 사람에 대한 정의를 부모 클래스도 부터 받아서, 입사날짜와 월급에 대한 변수를 추가하였습니다.\n",
        "# 즉 부모클래스의 __init__함수를 재정의 했습니다.\n",
        "\n",
        "# 이때 부모 클래스의 __init__()함수를 그대로 사용하려면 별도의 __init__함수를 만들지 않아도 됩니다.\n",
        "# 하지만 기존 함수를 사용하면서 새로운 내용을 추가하려면 자식 클래스에 __init__함수를 생성할때 super().__init__(매개변수)라고 입력합니다.\n",
        "# 여기서 super는 부모클래스를 가르키고, 즉, 부모 클래스의 __init__()함수를 그대로 사용한다는 뜻이다.\n",
        "\n",
        "# 슈퍼맨이 돌아왔다라는 TV프로그램을 생각하시면 좀더 빠르게 기억하지 않을까 싶습니다.\n",
        "\n",
        "# 그리고 그 아래에는 자식 클래스에 필요한 새로운 변수를 추가합니다.\n",
        "# 이러한 함수의 재정의를 오버라이딩이라고 합니다.\n",
        "\n",
        "# 오버라이딩이란 상속 시 함수 이름과 필요한 매개변수는 그대로 유지되면서 함수의 수행 코드는 변경하는 것이다.\n",
        "# 같은 방식으로 about_me() 함수가 오버라이딩 된 것을 확인할 수 있다.\n",
        "# Person과 Employee에 대한 설명을 추가한 것이다.\n",
        "\n",
        "# 위 코드들은 설명의 용이성을 위해 텍스트 형태의 설명만 추가하였지만 실제로는 프로그램에 사용하기 위한 다양한 기능이 추가될 수 있다.\n",
        "\n",
        "# do_work처럼 자식 클래스에만 필요한 새로운 함수를 생성할 수도 있습니다.\n",
        "# 앞서 설명했듯 자식 클래스는 부모 클래스보다 더 많은 일들을 합니다.\n",
        "# 따라서 자식 클래스를 설정할때는 부모클래스보다 더 많은 일을 수행할수 있게 코드를 작성해야합니다.\n",
        "\n",
        "# 이외에도 다양한 상속기능을 지원합니다.\n",
        "# 1개이상의 클래스 특징을 상속하는, 다중상속의 개념도 있는데 이는 데이터 분석단계에서는 필요하지 않기 때문에 밑에서 예시만 배우고 넘어가기로 합니다."
      ],
      "metadata": {
        "id": "ZK2kLw_-NWFe"
      },
      "execution_count": null,
      "outputs": []
    },
    {
      "cell_type": "code",
      "source": [
        "# 예제2. 피카츄에서 라이츄로 진화하기\n",
        "\n",
        "class Pikachu:\n",
        "    def skill(self):\n",
        "        print('전기충격')\n",
        " \n",
        "class Lichu(Pikachu):\n",
        "    def new_skill(self):\n",
        "        print('몸통 박치기')\n",
        " \n",
        "Jiwoo = Lichu()\n",
        "Jiwoo.skill()    # 안녕하세요.: 기반 클래스 Person의 메서드 호출\n",
        "Jiwoo.new_skill()       # 공부하기: 파생 클래스 Student에 추가한 study 메서드\n",
        "\n",
        "#원래 Lichu에는 전기충격이 없지만 Pikachu의 속성을 그대로 가져왔으므로 호출할수 있었음"
      ],
      "metadata": {
        "colab": {
          "base_uri": "https://localhost:8080/"
        },
        "id": "66VvwYKXOJCc",
        "outputId": "9b8bdec4-bc30-400a-8aed-8ea57b082a63"
      },
      "execution_count": null,
      "outputs": [
        {
          "output_type": "stream",
          "name": "stdout",
          "text": [
            "전기충격\n",
            "몸통 박치기\n"
          ]
        }
      ]
    },
    {
      "cell_type": "code",
      "source": [
        "# 상속 관계 확인\n",
        "issubclass(Lichu, Pikachu) # 순서를 지켜야함 거꾸로 하면 False가 나옴"
      ],
      "metadata": {
        "colab": {
          "base_uri": "https://localhost:8080/"
        },
        "id": "PrSsKFlMOSA1",
        "outputId": "d1693d9b-4b13-421f-d2e5-39b50d432641"
      },
      "execution_count": null,
      "outputs": [
        {
          "output_type": "execute_result",
          "data": {
            "text/plain": [
              "True"
            ]
          },
          "metadata": {},
          "execution_count": 51
        }
      ]
    },
    {
      "cell_type": "code",
      "source": [
        "# 기반클래스 속성 사용하기"
      ],
      "metadata": {
        "colab": {
          "base_uri": "https://localhost:8080/"
        },
        "id": "111dVbKCOl9R",
        "outputId": "96e61a17-f4b4-48fc-acc0-df9c8fec2227"
      },
      "execution_count": null,
      "outputs": [
        {
          "output_type": "execute_result",
          "data": {
            "text/plain": [
              "False"
            ]
          },
          "metadata": {},
          "execution_count": 52
        }
      ]
    },
    {
      "cell_type": "markdown",
      "source": [
        "아번에는 기반 클래스에 들어있는 인스턴스 속성을 사용해보겠습니다. 다음과 같이 Person 클래스에 hello 속성이 있고, Person 클래스를 상속받아 Student 클래스를 만듭니다. 그다음에 Student로 인스턴스를 만들고 hello 속성에 접근해봅니다."
      ],
      "metadata": {
        "id": "qtrCNbwzO5u3"
      }
    },
    {
      "cell_type": "code",
      "source": [
        "class Person:\n",
        "    def __init__(self):\n",
        "        print('Person __init__')\n",
        "        self.hello = '안녕하세요.'\n",
        " \n",
        "class Student(Person):\n",
        "    def __init__(self):\n",
        "        print('Student __init__')\n",
        "        self.school = '데이터 분석 스쿨 입니다.'\n",
        " \n",
        "james = Student()\n",
        "print(james.school)\n",
        "print(james.hello)    # 기반 클래스의 속성을 출력하려고 하면 에러가 발생함\n",
        "\n",
        "# 왜 오류가 났을까? 위에서는 됐던거 같은데;;\n",
        "# Person의 __init__메서드가 호출되지 않았기 때문에 \n",
        "# Student의 안녕하세요도 출력되지 않아 속성도 많들어지지 않음"
      ],
      "metadata": {
        "colab": {
          "base_uri": "https://localhost:8080/",
          "height": 291
        },
        "id": "Xr6lKmc7Ooa3",
        "outputId": "e13945b0-d972-4b2d-c8b1-24f689c01f66"
      },
      "execution_count": null,
      "outputs": [
        {
          "output_type": "stream",
          "name": "stdout",
          "text": [
            "Student __init__\n",
            "데이터 분석 스쿨 입니다.\n"
          ]
        },
        {
          "output_type": "error",
          "ename": "AttributeError",
          "evalue": "ignored",
          "traceback": [
            "\u001b[0;31m---------------------------------------------------------------------------\u001b[0m",
            "\u001b[0;31mAttributeError\u001b[0m                            Traceback (most recent call last)",
            "\u001b[0;32m<ipython-input-53-bc9c3af4a569>\u001b[0m in \u001b[0;36m<cell line: 13>\u001b[0;34m()\u001b[0m\n\u001b[1;32m     11\u001b[0m \u001b[0mjames\u001b[0m \u001b[0;34m=\u001b[0m \u001b[0mStudent\u001b[0m\u001b[0;34m(\u001b[0m\u001b[0;34m)\u001b[0m\u001b[0;34m\u001b[0m\u001b[0;34m\u001b[0m\u001b[0m\n\u001b[1;32m     12\u001b[0m \u001b[0mprint\u001b[0m\u001b[0;34m(\u001b[0m\u001b[0mjames\u001b[0m\u001b[0;34m.\u001b[0m\u001b[0mschool\u001b[0m\u001b[0;34m)\u001b[0m\u001b[0;34m\u001b[0m\u001b[0;34m\u001b[0m\u001b[0m\n\u001b[0;32m---> 13\u001b[0;31m \u001b[0mprint\u001b[0m\u001b[0;34m(\u001b[0m\u001b[0mjames\u001b[0m\u001b[0;34m.\u001b[0m\u001b[0mhello\u001b[0m\u001b[0;34m)\u001b[0m    \u001b[0;31m# 기반 클래스의 속성을 출력하려고 하면 에러가 발생함\u001b[0m\u001b[0;34m\u001b[0m\u001b[0;34m\u001b[0m\u001b[0m\n\u001b[0m\u001b[1;32m     14\u001b[0m \u001b[0;34m\u001b[0m\u001b[0m\n\u001b[1;32m     15\u001b[0m \u001b[0;31m# 왜 오류가 났을까? 위에서는 됐던거 같은데;;\u001b[0m\u001b[0;34m\u001b[0m\u001b[0;34m\u001b[0m\u001b[0m\n",
            "\u001b[0;31mAttributeError\u001b[0m: 'Student' object has no attribute 'hello'"
          ]
        }
      ]
    },
    {
      "cell_type": "code",
      "source": [
        "#super()를 사용하지 않으려면?\n",
        "#파생되는 클래스에서 __init__메서드를 생략하면 자동 호출됨\n",
        "#그래서 맨처음 클래스에서 봤던 예제에서 Pikachu의 속성이 가져오게 됨\n",
        "\n",
        "class Person:\n",
        "    def __init__(self):\n",
        "        print('Person __init__')\n",
        "        self.hello = '안녕하세요.'\n",
        " \n",
        "class Student(Person):\n",
        "    pass\n",
        " \n",
        "james = Student()\n",
        "print(james.hello)"
      ],
      "metadata": {
        "colab": {
          "base_uri": "https://localhost:8080/"
        },
        "id": "RNkVHtIfPHrM",
        "outputId": "a1866f77-063f-4e3a-ac3c-aa496dd7e852"
      },
      "execution_count": null,
      "outputs": [
        {
          "output_type": "stream",
          "name": "stdout",
          "text": [
            "Person __init__\n",
            "안녕하세요.\n"
          ]
        }
      ]
    },
    {
      "cell_type": "code",
      "source": [
        "# super()를 활용하여 __init__ 메서드 호출\n",
        "\n",
        "class Person:\n",
        "    def __init__(self):\n",
        "        print('Person __init__')\n",
        "        self.hello = '안녕하세요.'\n",
        " \n",
        "class Student(Person):\n",
        "    def __init__(self):\n",
        "        print('Student __init__')\n",
        "        super().__init__()                # super()로 기반 클래스의 __init__ 메서드 호출\n",
        "        self.school = '파이썬 코딩 도장'\n",
        " \n",
        "james = Student()\n",
        "print(james.school)\n",
        "print(james.hello)"
      ],
      "metadata": {
        "colab": {
          "base_uri": "https://localhost:8080/"
        },
        "id": "7d9ODzeaP6YT",
        "outputId": "cae5cb31-937a-4e72-b20a-cabf1cb9d6da"
      },
      "execution_count": null,
      "outputs": [
        {
          "output_type": "stream",
          "name": "stdout",
          "text": [
            "Student __init__\n",
            "Person __init__\n",
            "파이썬 코딩 도장\n",
            "안녕하세요.\n"
          ]
        }
      ]
    },
    {
      "cell_type": "code",
      "source": [
        "# __test 비공개 속성 - 가시성/은닉성\n",
        "\n",
        "객체의 정보를 볼 수 있는 레벨을 조절해서 객체의 정보접근을 숨기는 것을 말합니다.\n",
        "이 특징은 캡슐화, 정보은닉과 연결되어있습니다.\n",
        "\n",
        "객체의 재사용을 하려면 결국 각 객체가 무슨 역할을 하는지 알아야합니다.\n",
        "그러나 동시에 구현의 세부적인 내용을 알필요는 없죠\n",
        "\n",
        "단지 사용하는 방법을 일단 알며 됩니다. 이러한 개념을 캡슐화라고하며, 객체의 세부내용은 모른체 객체의 사용법만 알고 사용한다는 뜻입니다.\n",
        "이렇게 사용되는 프로그램이 꽤 많죠;; ㅎㅎ\n",
        "\n",
        "동시에 핵심적인 정보는 숨겨야할 때가 있습니다. 이를 정보 은닉이라고 합니다. 외부에서 코드 내부를 볼 수 없게 하기 위한 개념인거죠\n",
        "뭐.. 어쨋든 캡슐화와 정보은닉은 결국 코드의 내부 구현을 잘해서 외부에서도 쉽게 사용되지만 세부적인 내용은 모르게 하는 측면해서 비슷한 의미로 사용됩니다."
      ],
      "metadata": {
        "id": "u2nA1dP8QBKg"
      },
      "execution_count": null,
      "outputs": []
    },
    {
      "cell_type": "markdown",
      "source": [
        "## 상속 연습문제"
      ],
      "metadata": {
        "id": "8kagY8WUl9-S"
      }
    },
    {
      "cell_type": "code",
      "source": [
        "# 연습문제 #1.\n",
        "\n",
        "class Marvel(object):\n",
        "  def __init__(self, name, characteristic):\n",
        "    self.name = name\n",
        "    self.characteristic = characteristic\n",
        "\n",
        "  def __str__(self):\n",
        "    return f\"나의 마블 캐릭터 이름은 {self.name}입니다. 저의 특수 능력치는 {self.characteristic} 입니다.\"\n",
        "\n",
        "class Villain(Marvel):\n",
        "  pass\n",
        "\n",
        "first_villain = Villain(\"타노스\",\"인피티니 건틀랫\")\n",
        "print(first_villain)\n",
        "\n",
        "#1) 나의 마블 캐릭터 이름은 타노스입니다. 저의 특수 능력치는 인피티니 건틀랫 입니다.\n",
        "#2) 나의 마블 캐릭터 이름은 타노스입니다. 저의 특수 능력치는 None 입니다.\n",
        "#3) None\n",
        "#4) pass\n",
        "#5) 에러발생"
      ],
      "metadata": {
        "colab": {
          "base_uri": "https://localhost:8080/"
        },
        "id": "nC7zX5AZQH0h",
        "outputId": "5fae0871-1f25-419f-b3ba-06d67e8596f0"
      },
      "execution_count": null,
      "outputs": [
        {
          "output_type": "stream",
          "name": "stdout",
          "text": [
            "나의 마블 캐릭터 이름은 타노스입니다. 저의 특수 능력치는 인피티니 건틀랫 입니다.\n"
          ]
        }
      ]
    },
    {
      "cell_type": "code",
      "source": [
        "class TV(object):\n",
        "  def __init__(self, size, year, company):\n",
        "    self.size = size\n",
        "    self.year = year\n",
        "    self.company = company\n",
        "\n",
        "  def describe(self):\n",
        "    print(self.company + \"에서 만든\" + self.year + \"년형\" + self.size + \"인치 TV\")\n",
        "\n",
        "class Laptop(TV):\n",
        "  def describe(self):\n",
        "    print(self.company + \"에서 만든\"  + self.year + \"년형\" + self.size + \"인치 노트북\")\n",
        "\n",
        "LG_TV = TV(\"32\", \"2022\", \"LG\")\n",
        "LG_TV.describe()\n",
        "\n",
        "samsung_microwave = Laptop(\"15\", \"2023\", \"Samsung\")\n",
        "samsung_microwave.describe()\n",
        "\n",
        "\n",
        "#1. LG에서 만든 2022년형15인치 TV\n",
        "#   Samsung에서 만든2023년형32인치 노트북\n",
        "\n",
        "#2. LG에서 만든 2022년형15인치 TV\n",
        "#   Samsung에서 만든 2023년형 15인치 노트북\n",
        "\n",
        "#3. LG에서 만든 2022년형 32인치 TV\n",
        "#   Samsung에서 만든 2023년형 32인치 노트북\n",
        "\n",
        "#4. LG에서 만든 2022년형 32인치 TV\n",
        "#   Samsung에서 만든 2023년형 15인치 노트북\n",
        "\n",
        "#5. LG에서 만든 2023년형 32인치 TV\n",
        "#   Samsung에서 만든 2022년형 15인치 노트북"
      ],
      "metadata": {
        "id": "GuhAVYKHR_Nh"
      },
      "execution_count": null,
      "outputs": []
    },
    {
      "cell_type": "code",
      "source": [
        "class Company:\n",
        "  def __init__(self):\n",
        "    self.work = True\n",
        "    self.name = 'Jane'\n",
        "    self.company_name = 'woman'\n",
        "\n",
        "  def retire(self):\n",
        "    self.work = False\n",
        "\n",
        "class Employee(Company):\n",
        "  def __init__(self, name, company_name):\n",
        "    super().__init__()\n",
        "    self.name = name\n",
        "    self.company_name = company_name\n",
        "\n",
        "  def introduce(self):\n",
        "    if self.work == True:\n",
        "      print('취업 성공')\n",
        "      print(f'이름은 {self.name} 입니다.') \n",
        "      print(f'회사는 {self.company_name} 입니다.') \n",
        "\n",
        "    if self.work == False:\n",
        "      print(f'직업을 구하는 중..')\n",
        "\n",
        "em = Employee('김진환', '위니브')\n",
        "em.retire()\n",
        "em.introduce()\n",
        "Employee('김진환', '위니브').introduce()"
      ],
      "metadata": {
        "colab": {
          "base_uri": "https://localhost:8080/"
        },
        "id": "7IzznMklS5ql",
        "outputId": "d4ddb5ed-63e9-4954-a683-4afce5ac7eb2"
      },
      "execution_count": null,
      "outputs": [
        {
          "output_type": "stream",
          "name": "stdout",
          "text": [
            "직업을 구하는 중..\n",
            "취업 성공\n",
            "이름은 김진환 입니다.\n",
            "회사는 위니브 입니다.\n"
          ]
        }
      ]
    },
    {
      "cell_type": "code",
      "source": [],
      "metadata": {
        "id": "PRGw76-mULf4"
      },
      "execution_count": null,
      "outputs": []
    }
  ]
}