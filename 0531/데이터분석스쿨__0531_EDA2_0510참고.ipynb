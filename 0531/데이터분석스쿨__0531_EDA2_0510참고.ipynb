{
  "nbformat": 4,
  "nbformat_minor": 0,
  "metadata": {
    "colab": {
      "provenance": []
    },
    "kernelspec": {
      "name": "python3",
      "display_name": "Python 3"
    },
    "language_info": {
      "name": "python"
    }
  },
  "cells": [
    {
      "cell_type": "markdown",
      "source": [
        "# EDA part2\n"
      ],
      "metadata": {
        "id": "dllfhdwfK7el"
      }
    },
    {
      "cell_type": "code",
      "source": [
        "!pip install koreanize-matplotlib"
      ],
      "metadata": {
        "id": "GFyNwjJvK7K-"
      },
      "execution_count": null,
      "outputs": []
    },
    {
      "cell_type": "code",
      "execution_count": null,
      "metadata": {
        "id": "W9nFdJukG2f7"
      },
      "outputs": [],
      "source": [
        "import pandas as pd\n",
        "import matplotlib.pyplot as plt\n",
        "import koreanize_matplotlib"
      ]
    },
    {
      "cell_type": "code",
      "source": [
        "place = pd.read_excel('jeju_place.xlsx')\n",
        "place.head()"
      ],
      "metadata": {
        "id": "GcpTSF5lLP2Q"
      },
      "execution_count": null,
      "outputs": []
    },
    {
      "cell_type": "code",
      "source": [
        "place.info()"
      ],
      "metadata": {
        "id": "_gHoSApSLtvQ"
      },
      "execution_count": null,
      "outputs": []
    },
    {
      "cell_type": "code",
      "source": [
        "place.describe()"
      ],
      "metadata": {
        "id": "GEu7n8z3LukI"
      },
      "execution_count": null,
      "outputs": []
    },
    {
      "cell_type": "code",
      "source": [
        "# 순위 칼럼을 인덱스로\n",
        "place = place.set_index('순위')\n",
        "place"
      ],
      "metadata": {
        "id": "fKUj6ptoLuh5"
      },
      "execution_count": null,
      "outputs": []
    },
    {
      "cell_type": "code",
      "source": [
        "# 광역시/도에 제주도만 있는 지 확인  -> drop\n",
        "place['광역시/도'].unique()"
      ],
      "metadata": {
        "colab": {
          "base_uri": "https://localhost:8080/"
        },
        "id": "HJziOALLLufe",
        "outputId": "2ef93719-03a6-48ce-e5ad-5f9dcd23aabf"
      },
      "execution_count": null,
      "outputs": [
        {
          "output_type": "execute_result",
          "data": {
            "text/plain": [
              "array(['제주특별자치도'], dtype=object)"
            ]
          },
          "metadata": {},
          "execution_count": 9
        }
      ]
    },
    {
      "cell_type": "code",
      "source": [
        "place = place.drop('광역시/도', axis=1)\n",
        "place"
      ],
      "metadata": {
        "id": "Cza7_IAZLuc1"
      },
      "execution_count": null,
      "outputs": []
    },
    {
      "cell_type": "code",
      "source": [
        "# 장소데이터 -> 중분류 여러 개 -> drop(x) -> 중분류 기준으로 데이터를 나눠볼 순 있다.\n",
        "place['중분류 카테고리'].unique"
      ],
      "metadata": {
        "colab": {
          "base_uri": "https://localhost:8080/"
        },
        "id": "CZzd5xVFLuaa",
        "outputId": "3ff95511-0466-40eb-b018-e568f6a91b6d"
      },
      "execution_count": null,
      "outputs": [
        {
          "output_type": "execute_result",
          "data": {
            "text/plain": [
              "<bound method Series.unique of 0       기타관광\n",
              "1         쇼핑\n",
              "2         쇼핑\n",
              "3       자연관광\n",
              "4       자연관광\n",
              "       ...  \n",
              "495    레저스포츠\n",
              "496     기타관광\n",
              "497     역사관광\n",
              "498     문화관광\n",
              "499    레저스포츠\n",
              "Name: 중분류 카테고리, Length: 500, dtype: object>"
            ]
          },
          "metadata": {},
          "execution_count": 16
        }
      ]
    },
    {
      "cell_type": "code",
      "source": [
        "place.isna().sum()"
      ],
      "metadata": {
        "colab": {
          "base_uri": "https://localhost:8080/"
        },
        "id": "LMFjfMloNICw",
        "outputId": "a618be98-1e04-4bcc-a70a-e9db092955ea"
      },
      "execution_count": null,
      "outputs": [
        {
          "output_type": "execute_result",
          "data": {
            "text/plain": [
              "순위          0\n",
              "관광지명        0\n",
              "시/군/구       0\n",
              "도로명주소       0\n",
              "중분류 카테고리    0\n",
              "소분류 카테고리    0\n",
              "검색건수        0\n",
              "dtype: int64"
            ]
          },
          "metadata": {},
          "execution_count": 19
        }
      ]
    },
    {
      "cell_type": "code",
      "source": [
        "# 중분류\n",
        "mid_cat = place['중분류 카테고리'].value_counts() # 제주도 관광지 검색 중 자연관광 영역이 가장 많이 검색됐다."
      ],
      "metadata": {
        "id": "339EGHaFLuYI"
      },
      "execution_count": null,
      "outputs": []
    },
    {
      "cell_type": "code",
      "source": [
        "plt.bar(mid_cat.index, mid_cat)\n",
        "plt.show()"
      ],
      "metadata": {
        "colab": {
          "base_uri": "https://localhost:8080/",
          "height": 429
        },
        "id": "THW6nvPmLuVf",
        "outputId": "de58e60a-4e07-4649-fb54-036092e2988a"
      },
      "execution_count": null,
      "outputs": [
        {
          "output_type": "display_data",
          "data": {
            "text/plain": [
              "<Figure size 640x480 with 1 Axes>"
            ],
            "image/png": "[encoded data removed]"
          },
          "metadata": {}
        }
      ]
    },
    {
      "cell_type": "code",
      "source": [
        "low_cat = place['소분류 카테고리'].value_counts()\n",
        "low_cat"
      ],
      "metadata": {
        "colab": {
          "base_uri": "https://localhost:8080/"
        },
        "id": "-8tLEw5KLuSg",
        "outputId": "d27e0448-6cb9-4f3b-ea63-2f278604e0c4"
      },
      "execution_count": null,
      "outputs": [
        {
          "output_type": "execute_result",
          "data": {
            "text/plain": [
              "자연경관(하천/해양)    79\n",
              "기타관광           61\n",
              "육상레저스포츠        50\n",
              "전시시설           43\n",
              "자연경관(산)        38\n",
              "테마공원           29\n",
              "도시공원           27\n",
              "시장             18\n",
              "데이트코스          18\n",
              "기타레저스포츠        16\n",
              "교통시설           15\n",
              "수상레저스포츠        13\n",
              "복합관광시설         13\n",
              "공연시설           12\n",
              "자연공원           11\n",
              "역사유적지           9\n",
              "대형마트            9\n",
              "기타문화관광지         8\n",
              "자연관광(산)         8\n",
              "농/산/어촌체험        6\n",
              "종교성지            5\n",
              "면세점             3\n",
              "랜드마크관광          3\n",
              "자연생태            2\n",
              "레저스포츠시설         2\n",
              "웰니스관광           1\n",
              "쇼핑몰             1\n",
              "Name: 소분류 카테고리, dtype: int64"
            ]
          },
          "metadata": {},
          "execution_count": 22
        }
      ]
    },
    {
      "cell_type": "code",
      "source": [
        "plt.bar(low_cat.index,low_cat)\n",
        "plt.xticks(rotation=90)\n",
        "plt.show"
      ],
      "metadata": {
        "colab": {
          "base_uri": "https://localhost:8080/",
          "height": 553
        },
        "id": "-ARwULRSNtoO",
        "outputId": "912330d9-9a32-4471-be9b-02ffa2d29b9a"
      },
      "execution_count": null,
      "outputs": [
        {
          "output_type": "execute_result",
          "data": {
            "text/plain": [
              "<function matplotlib.pyplot.show(close=None, block=None)>"
            ]
          },
          "metadata": {},
          "execution_count": 23
        },
        {
          "output_type": "display_data",
          "data": {
            "text/plain": [
              "<Figure size 640x480 with 1 Axes>"
            ],
            "image/png": "[encoded data removed]"
          },
          "metadata": {}
        }
      ]
    },
    {
      "cell_type": "code",
      "source": [
        "# pie chart: 전체에서 부분이 어느 정도 차지하고 있느냐\n",
        "\n",
        "# 중분류\n",
        "plt.subplot(1,2,1)\n",
        "plt.pie(mid_cat, labels=mid_cat.index)\n",
        "\n",
        "# 소분류\n",
        "plt.subplot(1,2,2)\n",
        "plt.pie(low_cat, labels=low_cat.index)\n",
        "plt.show()\n"
      ],
      "metadata": {
        "colab": {
          "base_uri": "https://localhost:8080/",
          "height": 262
        },
        "id": "HiJrTM33Ntkh",
        "outputId": "bba2aab5-c16b-45ac-edf0-b97525e82aef"
      },
      "execution_count": null,
      "outputs": [
        {
          "output_type": "display_data",
          "data": {
            "text/plain": [
              "<Figure size 640x480 with 2 Axes>"
            ],
            "image/png": "[encoded data removed]"
          },
          "metadata": {}
        }
      ]
    },
    {
      "cell_type": "code",
      "source": [
        "# 소분류 카테고리의 경우 -> 상위 10개 값만 이용\n",
        "print(low_cat.head(10))\n",
        "# print(low_cat[:10])"
      ],
      "metadata": {
        "colab": {
          "base_uri": "https://localhost:8080/"
        },
        "id": "YsWJrQNaNth9",
        "outputId": "f745de09-b764-4dc5-c61d-d22642baabe6"
      },
      "execution_count": null,
      "outputs": [
        {
          "output_type": "execute_result",
          "data": {
            "text/plain": [
              "자연경관(하천/해양)    79\n",
              "기타관광           61\n",
              "육상레저스포츠        50\n",
              "전시시설           43\n",
              "자연경관(산)        38\n",
              "테마공원           29\n",
              "도시공원           27\n",
              "시장             18\n",
              "데이트코스          18\n",
              "기타레저스포츠        16\n",
              "Name: 소분류 카테고리, dtype: int64"
            ]
          },
          "metadata": {},
          "execution_count": 30
        }
      ]
    },
    {
      "cell_type": "code",
      "source": [
        "# place 데이터프레임에서 소분류 상위 10개 값\n",
        "\n",
        "# place['소분류 카테고리'].head(10)\n",
        "# place['소분류 카테고리'].value_counts\n",
        "# a = place['소분류 카테고리'].value_counts().to_frame()\n",
        "# a[:10]\n",
        "# order_low = place['소분류 카테고리'].value_counts().head(10)\n",
        "# place[['소분류 카테고리', '검색건수']][place['소분류 카테고리'].value_counts().head(10).values]\n",
        "# low_cat = place['소분류 카테고리'].value_counts()\n",
        "# low_cat_df = pd.DataFrame(low_cat)\n",
        "# low_cat_df\n",
        "\n",
        "# place['소분류 카테고리'].value_counts().head(10).to_frame()\n",
        "\n",
        "# 기존에 가지고 있던 데이터셋 기준이 아니라 새롭게 정렬 -> 조건이 될 수 없다.\n",
        "# place['소분류 카테고리'].value_counts().head(10)\n",
        "\n",
        "top_low = place['소분류 카테고리'].value_counts().head(10).index\n",
        "top_low"
      ],
      "metadata": {
        "id": "1ZO0jDb5NtfW"
      },
      "execution_count": null,
      "outputs": []
    },
    {
      "cell_type": "code",
      "source": [
        "place[place[\"소분류 카테고리\"].isin(place[\"소분류 카테고리\"].value_counts()[:10].index)]"
      ],
      "metadata": {
        "colab": {
          "base_uri": "https://localhost:8080/",
          "height": 467
        },
        "id": "EMIiIE3MVsvU",
        "outputId": "83318eb1-ee5d-41e0-8bbb-2f7e91e9b4e4"
      },
      "execution_count": null,
      "outputs": [
        {
          "output_type": "execute_result",
          "data": {
            "text/plain": [
              "      순위       관광지명 시/군/구                    도로명주소 중분류 카테고리     소분류 카테고리  \\\n",
              "1      2     동문재래시장   제주시       제주 제주시 관덕로14길 20-0       쇼핑           시장   \n",
              "2      3  서귀포매일올레시장  서귀포시     제주 서귀포시 중앙로62번길 18-0       쇼핑           시장   \n",
              "3      4     함덕해수욕장   제주시       제주 제주시 조함해안로 525-0     자연관광  자연경관(하천/해양)   \n",
              "4      5      성산일출봉  서귀포시       제주 서귀포시 일출로 284-12     자연관광      자연경관(산)   \n",
              "5      6     협재해수욕장   제주시                   제주 제주시     자연관광  자연경관(하천/해양)   \n",
              "..   ...        ...   ...                      ...      ...          ...   \n",
              "490  491    새미은총의동산   제주시                   제주 제주시     문화관광         도시공원   \n",
              "493  492     금능해안도로   제주시                   제주 제주시     기타관광        데이트코스   \n",
              "494  495     조천만세동산   제주시                   제주 제주시     문화관광         도시공원   \n",
              "496  497      쉬리의언덕  서귀포시                  제주 서귀포시     기타관광         기타관광   \n",
              "499  500     쇠와꽃승마장  서귀포시  제주 서귀포시 섭지코지로25번길 88-17    레저스포츠      육상레저스포츠   \n",
              "\n",
              "       검색건수  \n",
              "1    301089  \n",
              "2    267930  \n",
              "3    195477  \n",
              "4    195037  \n",
              "5    186252  \n",
              "..      ...  \n",
              "490    1936  \n",
              "493    1923  \n",
              "494    1913  \n",
              "496    1908  \n",
              "499    1895  \n",
              "\n",
              "[379 rows x 7 columns]"
            ],
            "text/html": [
              "\n",
              "  <div id=\"df-5806b355-a284-4a7e-986d-faca05859750\">\n",
              "    <div class=\"colab-df-container\">\n",
              "      <div>\n",
              "<style scoped>\n",
              "    .dataframe tbody tr th:only-of-type {\n",
              "        vertical-align: middle;\n",
              "    }\n",
              "\n",
              "    .dataframe tbody tr th {\n",
              "        vertical-align: top;\n",
              "    }\n",
              "\n",
              "    .dataframe thead th {\n",
              "        text-align: right;\n",
              "    }\n",
              "</style>\n",
              "<table border=\"1\" class=\"dataframe\">\n",
              "  <thead>\n",
              "    <tr style=\"text-align: right;\">\n",
              "      <th></th>\n",
              "      <th>순위</th>\n",
              "      <th>관광지명</th>\n",
              "      <th>시/군/구</th>\n",
              "      <th>도로명주소</th>\n",
              "      <th>중분류 카테고리</th>\n",
              "      <th>소분류 카테고리</th>\n",
              "      <th>검색건수</th>\n",
              "    </tr>\n",
              "  </thead>\n",
              "  <tbody>\n",
              "    <tr>\n",
              "      <th>1</th>\n",
              "      <td>2</td>\n",
              "      <td>동문재래시장</td>\n",
              "      <td>제주시</td>\n",
              "      <td>제주 제주시 관덕로14길 20-0</td>\n",
              "      <td>쇼핑</td>\n",
              "      <td>시장</td>\n",
              "      <td>301089</td>\n",
              "    </tr>\n",
              "    <tr>\n",
              "      <th>2</th>\n",
              "      <td>3</td>\n",
              "      <td>서귀포매일올레시장</td>\n",
              "      <td>서귀포시</td>\n",
              "      <td>제주 서귀포시 중앙로62번길 18-0</td>\n",
              "      <td>쇼핑</td>\n",
              "      <td>시장</td>\n",
              "      <td>267930</td>\n",
              "    </tr>\n",
              "    <tr>\n",
              "      <th>3</th>\n",
              "      <td>4</td>\n",
              "      <td>함덕해수욕장</td>\n",
              "      <td>제주시</td>\n",
              "      <td>제주 제주시 조함해안로 525-0</td>\n",
              "      <td>자연관광</td>\n",
              "      <td>자연경관(하천/해양)</td>\n",
              "      <td>195477</td>\n",
              "    </tr>\n",
              "    <tr>\n",
              "      <th>4</th>\n",
              "      <td>5</td>\n",
              "      <td>성산일출봉</td>\n",
              "      <td>서귀포시</td>\n",
              "      <td>제주 서귀포시 일출로 284-12</td>\n",
              "      <td>자연관광</td>\n",
              "      <td>자연경관(산)</td>\n",
              "      <td>195037</td>\n",
              "    </tr>\n",
              "    <tr>\n",
              "      <th>5</th>\n",
              "      <td>6</td>\n",
              "      <td>협재해수욕장</td>\n",
              "      <td>제주시</td>\n",
              "      <td>제주 제주시</td>\n",
              "      <td>자연관광</td>\n",
              "      <td>자연경관(하천/해양)</td>\n",
              "      <td>186252</td>\n",
              "    </tr>\n",
              "    <tr>\n",
              "      <th>...</th>\n",
              "      <td>...</td>\n",
              "      <td>...</td>\n",
              "      <td>...</td>\n",
              "      <td>...</td>\n",
              "      <td>...</td>\n",
              "      <td>...</td>\n",
              "      <td>...</td>\n",
              "    </tr>\n",
              "    <tr>\n",
              "      <th>490</th>\n",
              "      <td>491</td>\n",
              "      <td>새미은총의동산</td>\n",
              "      <td>제주시</td>\n",
              "      <td>제주 제주시</td>\n",
              "      <td>문화관광</td>\n",
              "      <td>도시공원</td>\n",
              "      <td>1936</td>\n",
              "    </tr>\n",
              "    <tr>\n",
              "      <th>493</th>\n",
              "      <td>492</td>\n",
              "      <td>금능해안도로</td>\n",
              "      <td>제주시</td>\n",
              "      <td>제주 제주시</td>\n",
              "      <td>기타관광</td>\n",
              "      <td>데이트코스</td>\n",
              "      <td>1923</td>\n",
              "    </tr>\n",
              "    <tr>\n",
              "      <th>494</th>\n",
              "      <td>495</td>\n",
              "      <td>조천만세동산</td>\n",
              "      <td>제주시</td>\n",
              "      <td>제주 제주시</td>\n",
              "      <td>문화관광</td>\n",
              "      <td>도시공원</td>\n",
              "      <td>1913</td>\n",
              "    </tr>\n",
              "    <tr>\n",
              "      <th>496</th>\n",
              "      <td>497</td>\n",
              "      <td>쉬리의언덕</td>\n",
              "      <td>서귀포시</td>\n",
              "      <td>제주 서귀포시</td>\n",
              "      <td>기타관광</td>\n",
              "      <td>기타관광</td>\n",
              "      <td>1908</td>\n",
              "    </tr>\n",
              "    <tr>\n",
              "      <th>499</th>\n",
              "      <td>500</td>\n",
              "      <td>쇠와꽃승마장</td>\n",
              "      <td>서귀포시</td>\n",
              "      <td>제주 서귀포시 섭지코지로25번길 88-17</td>\n",
              "      <td>레저스포츠</td>\n",
              "      <td>육상레저스포츠</td>\n",
              "      <td>1895</td>\n",
              "    </tr>\n",
              "  </tbody>\n",
              "</table>\n",
              "<p>379 rows × 7 columns</p>\n",
              "</div>\n",
              "      <button class=\"colab-df-convert\" onclick=\"convertToInteractive('df-5806b355-a284-4a7e-986d-faca05859750')\"\n",
              "              title=\"Convert this dataframe to an interactive table.\"\n",
              "              style=\"display:none;\">\n",
              "        \n",
              "  <svg xmlns=\"http://www.w3.org/2000/svg\" height=\"24px\"viewBox=\"0 0 24 24\"\n",
              "       width=\"24px\">\n",
              "    <path d=\"M0 0h24v24H0V0z\" fill=\"none\"/>\n",
              "    <path d=\"M18.56 5.44l.94 2.06.94-2.06 2.06-.94-2.06-.94-.94-2.06-.94 2.06-2.06.94zm-11 1L8.5 8.5l.94-2.06 2.06-.94-2.06-.94L8.5 2.5l-.94 2.06-2.06.94zm10 10l.94 2.06.94-2.06 2.06-.94-2.06-.94-.94-2.06-.94 2.06-2.06.94z\"/><path d=\"M17.41 7.96l-1.37-1.37c-.4-.4-.92-.59-1.43-.59-.52 0-1.04.2-1.43.59L10.3 9.45l-7.72 7.72c-.78.78-.78 2.05 0 2.83L4 21.41c.39.39.9.59 1.41.59.51 0 1.02-.2 1.41-.59l7.78-7.78 2.81-2.81c.8-.78.8-2.07 0-2.86zM5.41 20L4 18.59l7.72-7.72 1.47 1.35L5.41 20z\"/>\n",
              "  </svg>\n",
              "      </button>\n",
              "      \n",
              "  <style>\n",
              "    .colab-df-container {\n",
              "      display:flex;\n",
              "      flex-wrap:wrap;\n",
              "      gap: 12px;\n",
              "    }\n",
              "\n",
              "    .colab-df-convert {\n",
              "      background-color: #E8F0FE;\n",
              "      border: none;\n",
              "      border-radius: 50%;\n",
              "      cursor: pointer;\n",
              "      display: none;\n",
              "      fill: #1967D2;\n",
              "      height: 32px;\n",
              "      padding: 0 0 0 0;\n",
              "      width: 32px;\n",
              "    }\n",
              "\n",
              "    .colab-df-convert:hover {\n",
              "      background-color: #E2EBFA;\n",
              "      box-shadow: 0px 1px 2px rgba(60, 64, 67, 0.3), 0px 1px 3px 1px rgba(60, 64, 67, 0.15);\n",
              "      fill: #174EA6;\n",
              "    }\n",
              "\n",
              "    [theme=dark] .colab-df-convert {\n",
              "      background-color: #3B4455;\n",
              "      fill: #D2E3FC;\n",
              "    }\n",
              "\n",
              "    [theme=dark] .colab-df-convert:hover {\n",
              "      background-color: #434B5C;\n",
              "      box-shadow: 0px 1px 3px 1px rgba(0, 0, 0, 0.15);\n",
              "      filter: drop-shadow(0px 1px 2px rgba(0, 0, 0, 0.3));\n",
              "      fill: #FFFFFF;\n",
              "    }\n",
              "  </style>\n",
              "\n",
              "      <script>\n",
              "        const buttonEl =\n",
              "          document.querySelector('#df-5806b355-a284-4a7e-986d-faca05859750 button.colab-df-convert');\n",
              "        buttonEl.style.display =\n",
              "          google.colab.kernel.accessAllowed ? 'block' : 'none';\n",
              "\n",
              "        async function convertToInteractive(key) {\n",
              "          const element = document.querySelector('#df-5806b355-a284-4a7e-986d-faca05859750');\n",
              "          const dataTable =\n",
              "            await google.colab.kernel.invokeFunction('convertToInteractive',\n",
              "                                                     [key], {});\n",
              "          if (!dataTable) return;\n",
              "\n",
              "          const docLinkHtml = 'Like what you see? Visit the ' +\n",
              "            '<a target=\"_blank\" href=https://colab.research.google.com/notebooks/data_table.ipynb>data table notebook</a>'\n",
              "            + ' to learn more about interactive tables.';\n",
              "          element.innerHTML = '';\n",
              "          dataTable['output_type'] = 'display_data';\n",
              "          await google.colab.output.renderOutput(dataTable, element);\n",
              "          const docLink = document.createElement('div');\n",
              "          docLink.innerHTML = docLinkHtml;\n",
              "          element.appendChild(docLink);\n",
              "        }\n",
              "      </script>\n",
              "    </div>\n",
              "  </div>\n",
              "  "
            ]
          },
          "metadata": {},
          "execution_count": 35
        }
      ]
    },
    {
      "cell_type": "code",
      "source": [
        "# 자연경관\n",
        "nature = place[place['소분류 카테고리'] == '자연경관(하천/해양)']\n",
        "nature"
      ],
      "metadata": {
        "colab": {
          "base_uri": "https://localhost:8080/",
          "height": 423
        },
        "id": "u91TGUI4Ntcw",
        "outputId": "a251af75-1aa8-465d-cc14-f37c1857aa6d"
      },
      "execution_count": null,
      "outputs": [
        {
          "output_type": "execute_result",
          "data": {
            "text/plain": [
              "      순위    관광지명 시/군/구               도로명주소 중분류 카테고리     소분류 카테고리    검색건수\n",
              "3      4  함덕해수욕장   제주시  제주 제주시 조함해안로 525-0     자연관광  자연경관(하천/해양)  195477\n",
              "5      6  협재해수욕장   제주시              제주 제주시     자연관광  자연경관(하천/해양)  186252\n",
              "6      7  이호테우해변   제주시              제주 제주시     자연관광  자연경관(하천/해양)  134970\n",
              "9     10  곽지해수욕장   제주시              제주 제주시     자연관광  자연경관(하천/해양)  111702\n",
              "21    22  김녕해수욕장   제주시   제주 제주시 해맞이해안로 7-6     자연관광  자연경관(하천/해양)   78488\n",
              "..   ...     ...   ...                 ...      ...          ...     ...\n",
              "454  455     하효항  서귀포시    제주 서귀포시 쇠소깍로 0-0     자연관광  자연경관(하천/해양)    2292\n",
              "473  474   구두미포구  서귀포시             제주 서귀포시     자연관광  자연경관(하천/해양)    2068\n",
              "482  483     제주항   제주시     제주 제주시 임항로 97-0     자연관광  자연경관(하천/해양)    1997\n",
              "484  485    김녕포구   제주시              제주 제주시     자연관광  자연경관(하천/해양)    1974\n",
              "488  489   동일리포구  서귀포시             제주 서귀포시     자연관광  자연경관(하천/해양)    1943\n",
              "\n",
              "[79 rows x 7 columns]"
            ],
            "text/html": [
              "\n",
              "  <div id=\"df-df75915e-1e1c-423a-8bd4-26924658ff47\">\n",
              "    <div class=\"colab-df-container\">\n",
              "      <div>\n",
              "<style scoped>\n",
              "    .dataframe tbody tr th:only-of-type {\n",
              "        vertical-align: middle;\n",
              "    }\n",
              "\n",
              "    .dataframe tbody tr th {\n",
              "        vertical-align: top;\n",
              "    }\n",
              "\n",
              "    .dataframe thead th {\n",
              "        text-align: right;\n",
              "    }\n",
              "</style>\n",
              "<table border=\"1\" class=\"dataframe\">\n",
              "  <thead>\n",
              "    <tr style=\"text-align: right;\">\n",
              "      <th></th>\n",
              "      <th>순위</th>\n",
              "      <th>관광지명</th>\n",
              "      <th>시/군/구</th>\n",
              "      <th>도로명주소</th>\n",
              "      <th>중분류 카테고리</th>\n",
              "      <th>소분류 카테고리</th>\n",
              "      <th>검색건수</th>\n",
              "    </tr>\n",
              "  </thead>\n",
              "  <tbody>\n",
              "    <tr>\n",
              "      <th>3</th>\n",
              "      <td>4</td>\n",
              "      <td>함덕해수욕장</td>\n",
              "      <td>제주시</td>\n",
              "      <td>제주 제주시 조함해안로 525-0</td>\n",
              "      <td>자연관광</td>\n",
              "      <td>자연경관(하천/해양)</td>\n",
              "      <td>195477</td>\n",
              "    </tr>\n",
              "    <tr>\n",
              "      <th>5</th>\n",
              "      <td>6</td>\n",
              "      <td>협재해수욕장</td>\n",
              "      <td>제주시</td>\n",
              "      <td>제주 제주시</td>\n",
              "      <td>자연관광</td>\n",
              "      <td>자연경관(하천/해양)</td>\n",
              "      <td>186252</td>\n",
              "    </tr>\n",
              "    <tr>\n",
              "      <th>6</th>\n",
              "      <td>7</td>\n",
              "      <td>이호테우해변</td>\n",
              "      <td>제주시</td>\n",
              "      <td>제주 제주시</td>\n",
              "      <td>자연관광</td>\n",
              "      <td>자연경관(하천/해양)</td>\n",
              "      <td>134970</td>\n",
              "    </tr>\n",
              "    <tr>\n",
              "      <th>9</th>\n",
              "      <td>10</td>\n",
              "      <td>곽지해수욕장</td>\n",
              "      <td>제주시</td>\n",
              "      <td>제주 제주시</td>\n",
              "      <td>자연관광</td>\n",
              "      <td>자연경관(하천/해양)</td>\n",
              "      <td>111702</td>\n",
              "    </tr>\n",
              "    <tr>\n",
              "      <th>21</th>\n",
              "      <td>22</td>\n",
              "      <td>김녕해수욕장</td>\n",
              "      <td>제주시</td>\n",
              "      <td>제주 제주시 해맞이해안로 7-6</td>\n",
              "      <td>자연관광</td>\n",
              "      <td>자연경관(하천/해양)</td>\n",
              "      <td>78488</td>\n",
              "    </tr>\n",
              "    <tr>\n",
              "      <th>...</th>\n",
              "      <td>...</td>\n",
              "      <td>...</td>\n",
              "      <td>...</td>\n",
              "      <td>...</td>\n",
              "      <td>...</td>\n",
              "      <td>...</td>\n",
              "      <td>...</td>\n",
              "    </tr>\n",
              "    <tr>\n",
              "      <th>454</th>\n",
              "      <td>455</td>\n",
              "      <td>하효항</td>\n",
              "      <td>서귀포시</td>\n",
              "      <td>제주 서귀포시 쇠소깍로 0-0</td>\n",
              "      <td>자연관광</td>\n",
              "      <td>자연경관(하천/해양)</td>\n",
              "      <td>2292</td>\n",
              "    </tr>\n",
              "    <tr>\n",
              "      <th>473</th>\n",
              "      <td>474</td>\n",
              "      <td>구두미포구</td>\n",
              "      <td>서귀포시</td>\n",
              "      <td>제주 서귀포시</td>\n",
              "      <td>자연관광</td>\n",
              "      <td>자연경관(하천/해양)</td>\n",
              "      <td>2068</td>\n",
              "    </tr>\n",
              "    <tr>\n",
              "      <th>482</th>\n",
              "      <td>483</td>\n",
              "      <td>제주항</td>\n",
              "      <td>제주시</td>\n",
              "      <td>제주 제주시 임항로 97-0</td>\n",
              "      <td>자연관광</td>\n",
              "      <td>자연경관(하천/해양)</td>\n",
              "      <td>1997</td>\n",
              "    </tr>\n",
              "    <tr>\n",
              "      <th>484</th>\n",
              "      <td>485</td>\n",
              "      <td>김녕포구</td>\n",
              "      <td>제주시</td>\n",
              "      <td>제주 제주시</td>\n",
              "      <td>자연관광</td>\n",
              "      <td>자연경관(하천/해양)</td>\n",
              "      <td>1974</td>\n",
              "    </tr>\n",
              "    <tr>\n",
              "      <th>488</th>\n",
              "      <td>489</td>\n",
              "      <td>동일리포구</td>\n",
              "      <td>서귀포시</td>\n",
              "      <td>제주 서귀포시</td>\n",
              "      <td>자연관광</td>\n",
              "      <td>자연경관(하천/해양)</td>\n",
              "      <td>1943</td>\n",
              "    </tr>\n",
              "  </tbody>\n",
              "</table>\n",
              "<p>79 rows × 7 columns</p>\n",
              "</div>\n",
              "      <button class=\"colab-df-convert\" onclick=\"convertToInteractive('df-df75915e-1e1c-423a-8bd4-26924658ff47')\"\n",
              "              title=\"Convert this dataframe to an interactive table.\"\n",
              "              style=\"display:none;\">\n",
              "        \n",
              "  <svg xmlns=\"http://www.w3.org/2000/svg\" height=\"24px\"viewBox=\"0 0 24 24\"\n",
              "       width=\"24px\">\n",
              "    <path d=\"M0 0h24v24H0V0z\" fill=\"none\"/>\n",
              "    <path d=\"M18.56 5.44l.94 2.06.94-2.06 2.06-.94-2.06-.94-.94-2.06-.94 2.06-2.06.94zm-11 1L8.5 8.5l.94-2.06 2.06-.94-2.06-.94L8.5 2.5l-.94 2.06-2.06.94zm10 10l.94 2.06.94-2.06 2.06-.94-2.06-.94-.94-2.06-.94 2.06-2.06.94z\"/><path d=\"M17.41 7.96l-1.37-1.37c-.4-.4-.92-.59-1.43-.59-.52 0-1.04.2-1.43.59L10.3 9.45l-7.72 7.72c-.78.78-.78 2.05 0 2.83L4 21.41c.39.39.9.59 1.41.59.51 0 1.02-.2 1.41-.59l7.78-7.78 2.81-2.81c.8-.78.8-2.07 0-2.86zM5.41 20L4 18.59l7.72-7.72 1.47 1.35L5.41 20z\"/>\n",
              "  </svg>\n",
              "      </button>\n",
              "      \n",
              "  <style>\n",
              "    .colab-df-container {\n",
              "      display:flex;\n",
              "      flex-wrap:wrap;\n",
              "      gap: 12px;\n",
              "    }\n",
              "\n",
              "    .colab-df-convert {\n",
              "      background-color: #E8F0FE;\n",
              "      border: none;\n",
              "      border-radius: 50%;\n",
              "      cursor: pointer;\n",
              "      display: none;\n",
              "      fill: #1967D2;\n",
              "      height: 32px;\n",
              "      padding: 0 0 0 0;\n",
              "      width: 32px;\n",
              "    }\n",
              "\n",
              "    .colab-df-convert:hover {\n",
              "      background-color: #E2EBFA;\n",
              "      box-shadow: 0px 1px 2px rgba(60, 64, 67, 0.3), 0px 1px 3px 1px rgba(60, 64, 67, 0.15);\n",
              "      fill: #174EA6;\n",
              "    }\n",
              "\n",
              "    [theme=dark] .colab-df-convert {\n",
              "      background-color: #3B4455;\n",
              "      fill: #D2E3FC;\n",
              "    }\n",
              "\n",
              "    [theme=dark] .colab-df-convert:hover {\n",
              "      background-color: #434B5C;\n",
              "      box-shadow: 0px 1px 3px 1px rgba(0, 0, 0, 0.15);\n",
              "      filter: drop-shadow(0px 1px 2px rgba(0, 0, 0, 0.3));\n",
              "      fill: #FFFFFF;\n",
              "    }\n",
              "  </style>\n",
              "\n",
              "      <script>\n",
              "        const buttonEl =\n",
              "          document.querySelector('#df-df75915e-1e1c-423a-8bd4-26924658ff47 button.colab-df-convert');\n",
              "        buttonEl.style.display =\n",
              "          google.colab.kernel.accessAllowed ? 'block' : 'none';\n",
              "\n",
              "        async function convertToInteractive(key) {\n",
              "          const element = document.querySelector('#df-df75915e-1e1c-423a-8bd4-26924658ff47');\n",
              "          const dataTable =\n",
              "            await google.colab.kernel.invokeFunction('convertToInteractive',\n",
              "                                                     [key], {});\n",
              "          if (!dataTable) return;\n",
              "\n",
              "          const docLinkHtml = 'Like what you see? Visit the ' +\n",
              "            '<a target=\"_blank\" href=https://colab.research.google.com/notebooks/data_table.ipynb>data table notebook</a>'\n",
              "            + ' to learn more about interactive tables.';\n",
              "          element.innerHTML = '';\n",
              "          dataTable['output_type'] = 'display_data';\n",
              "          await google.colab.output.renderOutput(dataTable, element);\n",
              "          const docLink = document.createElement('div');\n",
              "          docLink.innerHTML = docLinkHtml;\n",
              "          element.appendChild(docLink);\n",
              "        }\n",
              "      </script>\n",
              "    </div>\n",
              "  </div>\n",
              "  "
            ]
          },
          "metadata": {},
          "execution_count": 33
        }
      ]
    },
    {
      "cell_type": "code",
      "source": [
        "nature['검색건수'].sum()"
      ],
      "metadata": {
        "id": "5YnS2NcwNtZF"
      },
      "execution_count": null,
      "outputs": []
    },
    {
      "cell_type": "code",
      "source": [
        "nature['관광지명'].unique() # nature 자연경관 -> 바다에 관련된 정보"
      ],
      "metadata": {
        "id": "tEJqZWTzNtWb"
      },
      "execution_count": null,
      "outputs": []
    },
    {
      "cell_type": "code",
      "source": [
        "# 관광지 초점 -> 항구, 포구, 염점, 부두, 저수기 .. 제외 -> 해수욕장\n",
        "\n",
        "# '항' 삭제\n",
        "nature = nature.drop(labels=nature[nature['관광지명'].str[-1]== '항'].index, axis=0)"
      ],
      "metadata": {
        "id": "4xZ1BFU3WZuW"
      },
      "execution_count": null,
      "outputs": []
    },
    {
      "cell_type": "code",
      "source": [
        "nature['관광지명'].unique()"
      ],
      "metadata": {
        "colab": {
          "base_uri": "https://localhost:8080/"
        },
        "id": "guwhGTBfWZrq",
        "outputId": "93a81c58-d450-469c-c769-acc4439b9c9c"
      },
      "execution_count": null,
      "outputs": [
        {
          "output_type": "execute_result",
          "data": {
            "text/plain": [
              "array(['함덕해수욕장', '협재해수욕장', '이호테우해변', '곽지해수욕장', '김녕해수욕장', '금능해수욕장',\n",
              "       '중문색달해변', '월정리해변', '표선해수욕장', '광치기해변', '사계해수욕장', '세화해수욕장', '판포포구',\n",
              "       '제주항제6부두', '삼양해수욕장', '제주항제4부두', '황우지해안', '화순금모래해변', '법환포구', '한담해변',\n",
              "       '홍조단괴해빈', '논짓물', '검멀레해수욕장', '구엄리돌염전', '하도해수욕장', '평대리해수욕장',\n",
              "       '신양섭지해수욕장', '코난비치', '비양도', '오조포구', '제주항제2부두', '제주항제3부두', '보목포구',\n",
              "       '신창풍차해안', '가파도', '하고수동해수욕장', '대평포구', '차귀도', '신도포구', '강정포구', '코난해변',\n",
              "       '용수리포구', '제주항제9부두', '월령포구', '자구내포구', '구엄포구', '종달리해변', '제주항제7부두',\n",
              "       '하모해수욕장', '세기알해변', '고내포구', '차귀도포구', '쇠소깍해변', '월평포구', '대포포구',\n",
              "       '남원포구', '신흥해수욕장', '영락리방파제', '용담포구', '소금막해변', '수산저수지', '구두미포구',\n",
              "       '김녕포구', '동일리포구'], dtype=object)"
            ]
          },
          "metadata": {},
          "execution_count": 37
        }
      ]
    },
    {
      "cell_type": "code",
      "source": [
        "# '포구' 삭제\n",
        "nature = nature.drop(labels=nature[nature['관광지명'].str[-2:]== '포구'].index, axis=0)\n",
        "nature['관광지명'].unique()"
      ],
      "metadata": {
        "colab": {
          "base_uri": "https://localhost:8080/"
        },
        "id": "4dEjqNAJWZm4",
        "outputId": "ca0edfa0-cd47-4510-f00e-c449dc5ef223"
      },
      "execution_count": null,
      "outputs": [
        {
          "output_type": "execute_result",
          "data": {
            "text/plain": [
              "array(['함덕해수욕장', '협재해수욕장', '이호테우해변', '곽지해수욕장', '김녕해수욕장', '금능해수욕장',\n",
              "       '중문색달해변', '월정리해변', '표선해수욕장', '광치기해변', '사계해수욕장', '세화해수욕장',\n",
              "       '제주항제6부두', '삼양해수욕장', '제주항제4부두', '황우지해안', '화순금모래해변', '한담해변',\n",
              "       '홍조단괴해빈', '논짓물', '검멀레해수욕장', '구엄리돌염전', '하도해수욕장', '평대리해수욕장',\n",
              "       '신양섭지해수욕장', '코난비치', '비양도', '제주항제2부두', '제주항제3부두', '신창풍차해안', '가파도',\n",
              "       '하고수동해수욕장', '차귀도', '코난해변', '제주항제9부두', '종달리해변', '제주항제7부두', '하모해수욕장',\n",
              "       '세기알해변', '쇠소깍해변', '신흥해수욕장', '영락리방파제', '소금막해변', '수산저수지'],\n",
              "      dtype=object)"
            ]
          },
          "metadata": {},
          "execution_count": 38
        }
      ]
    },
    {
      "cell_type": "code",
      "source": [
        "# 부두로 끝나는곳 지우기\n",
        "nature = nature.drop(labels=nature[nature['관광지명'].str[-2:]== '부두'].index, axis=0)\n",
        "nature['관광지명'].unique()\n",
        "\n",
        "# 염전\n",
        "nature = nature.drop(labels=nature[nature['관광지명'].str[-2:]== '염전'].index, axis=0)\n",
        "nature['관광지명'].unique()\n",
        "\n",
        "# 저수지\n",
        "nature = nature.drop(labels=nature[nature['관광지명'].str[-3:]== '저수지'].index, axis=0)\n",
        "nature['관광지명'].unique()\n",
        "\n",
        "# 방파제\n",
        "nature = nature.drop(labels=nature[nature['관광지명'].str[-3:]== '방파제'].index, axis=0)\n",
        "nature['관광지명'].unique()"
      ],
      "metadata": {
        "colab": {
          "base_uri": "https://localhost:8080/"
        },
        "id": "HA3HwxURWZkK",
        "outputId": "3399ff56-ef88-44b7-ab96-6bab0d979d4f"
      },
      "execution_count": null,
      "outputs": [
        {
          "output_type": "execute_result",
          "data": {
            "text/plain": [
              "array(['함덕해수욕장', '협재해수욕장', '이호테우해변', '곽지해수욕장', '김녕해수욕장', '금능해수욕장',\n",
              "       '중문색달해변', '월정리해변', '표선해수욕장', '광치기해변', '사계해수욕장', '세화해수욕장', '삼양해수욕장',\n",
              "       '황우지해안', '화순금모래해변', '한담해변', '홍조단괴해빈', '논짓물', '검멀레해수욕장', '하도해수욕장',\n",
              "       '평대리해수욕장', '신양섭지해수욕장', '코난비치', '비양도', '신창풍차해안', '가파도', '하고수동해수욕장',\n",
              "       '차귀도', '코난해변', '종달리해변', '하모해수욕장', '세기알해변', '쇠소깍해변', '신흥해수욕장',\n",
              "       '소금막해변'], dtype=object)"
            ]
          },
          "metadata": {},
          "execution_count": 41
        }
      ]
    },
    {
      "cell_type": "code",
      "source": [
        "# 정리된 바다 데이터의 기초 통계 확인\n",
        "nature.describe()"
      ],
      "metadata": {
        "id": "PQ7YydfwWZgw"
      },
      "execution_count": null,
      "outputs": []
    },
    {
      "cell_type": "code",
      "source": [
        "# q1, q2, q3 * 1.5 -> 초과: 이상치 -> 검색량이 너무 많다 -> 혼잡도가 높다.\n",
        "\n",
        "plt.boxplot(nature['검색건수'])\n",
        "plt.show()"
      ],
      "metadata": {
        "colab": {
          "base_uri": "https://localhost:8080/",
          "height": 429
        },
        "id": "1bvsVkSTaFzI",
        "outputId": "e84102c3-1f62-493c-e3b4-0cfa1847386e"
      },
      "execution_count": null,
      "outputs": [
        {
          "output_type": "display_data",
          "data": {
            "text/plain": [
              "<Figure size 640x480 with 1 Axes>"
            ],
            "image/png": "[encoded data removed]"
          },
          "metadata": {}
        }
      ]
    },
    {
      "cell_type": "code",
      "source": [
        "# 상위 경계값 -> 혼잡도가 높다\n",
        "# q3 - q1\n",
        "IQR = 53093 - 6737\n",
        "upper_IQR = (IQR * 1.5) + 53093\n",
        "upper_IQR"
      ],
      "metadata": {
        "colab": {
          "base_uri": "https://localhost:8080/"
        },
        "id": "q8njkfI2aGQm",
        "outputId": "c302f4b4-595a-4eb4-de07-a84b0cecb912"
      },
      "execution_count": null,
      "outputs": [
        {
          "output_type": "execute_result",
          "data": {
            "text/plain": [
              "122627.0"
            ]
          },
          "metadata": {},
          "execution_count": 52
        }
      ]
    },
    {
      "cell_type": "code",
      "source": [
        "import numpy as np"
      ],
      "metadata": {
        "id": "vnLiNhpBaGDN"
      },
      "execution_count": null,
      "outputs": []
    },
    {
      "cell_type": "code",
      "source": [
        "# 상위 경계값을 초과하는 값들을 지워준다.\n",
        "# 이상치이기 때문에 인기가 많고 혼잡할 것이다.\n",
        "nature['혼잡도'] = np.where(nature['검색건수'] > upper_IQR, '혼잡', '보통')\n",
        "nature"
      ],
      "metadata": {
        "colab": {
          "base_uri": "https://localhost:8080/",
          "height": 1000
        },
        "id": "GOoqZYMhaF_8",
        "outputId": "4f6767fd-6c4b-4870-d409-6dcb7950236f"
      },
      "execution_count": null,
      "outputs": [
        {
          "output_type": "execute_result",
          "data": {
            "text/plain": [
              "      순위      관광지명 시/군/구                  도로명주소 중분류 카테고리     소분류 카테고리    검색건수  \\\n",
              "3      4    함덕해수욕장   제주시     제주 제주시 조함해안로 525-0     자연관광  자연경관(하천/해양)  195477   \n",
              "5      6    협재해수욕장   제주시                 제주 제주시     자연관광  자연경관(하천/해양)  186252   \n",
              "6      7    이호테우해변   제주시                 제주 제주시     자연관광  자연경관(하천/해양)  134970   \n",
              "9     10    곽지해수욕장   제주시                 제주 제주시     자연관광  자연경관(하천/해양)  111702   \n",
              "21    22    김녕해수욕장   제주시      제주 제주시 해맞이해안로 7-6     자연관광  자연경관(하천/해양)   78488   \n",
              "22    23    금능해수욕장   제주시      제주 제주시 금능길 119-10     자연관광  자연경관(하천/해양)   77609   \n",
              "28    29    중문색달해변  서귀포시  제주 서귀포시 중문관광로72번길 0-0     자연관광  자연경관(하천/해양)   61889   \n",
              "31    32     월정리해변   제주시                 제주 제주시     자연관광  자연경관(하천/해양)   58431   \n",
              "32    33    표선해수욕장  서귀포시                제주 서귀포시     자연관광  자연경관(하천/해양)   56866   \n",
              "39    40     광치기해변  서귀포시                제주 서귀포시     자연관광  자연경관(하천/해양)   49320   \n",
              "42    43    사계해수욕장  서귀포시                제주 서귀포시     자연관광  자연경관(하천/해양)   48751   \n",
              "57    58    세화해수욕장   제주시       제주 제주시 충렬로 141-1     자연관광  자연경관(하천/해양)   36179   \n",
              "70    71    삼양해수욕장   제주시                 제주 제주시     자연관광  자연경관(하천/해양)   28251   \n",
              "104  105     황우지해안  서귀포시                제주 서귀포시     자연관광  자연경관(하천/해양)   17177   \n",
              "107  108   화순금모래해변  서귀포시                제주 서귀포시     자연관광  자연경관(하천/해양)   16811   \n",
              "125  126      한담해변   제주시                 제주 제주시     자연관광  자연경관(하천/해양)   14499   \n",
              "143  144    홍조단괴해빈   제주시                 제주 제주시     자연관광  자연경관(하천/해양)   13253   \n",
              "144  145       논짓물  서귀포시                제주 서귀포시     자연관광  자연경관(하천/해양)   13206   \n",
              "147  148   검멀레해수욕장   제주시                 제주 제주시     자연관광  자연경관(하천/해양)   12947   \n",
              "206  207    하도해수욕장   제주시                 제주 제주시     자연관광  자연경관(하천/해양)    8812   \n",
              "214  215   평대리해수욕장   제주시                 제주 제주시     자연관광  자연경관(하천/해양)    8531   \n",
              "217  218  신양섭지해수욕장  서귀포시     제주 서귀포시 섭지코지로 88-0     자연관광  자연경관(하천/해양)    8364   \n",
              "220  221      코난비치   제주시                 제주 제주시     자연관광  자연경관(하천/해양)    8144   \n",
              "221  222       비양도   제주시                 제주 제주시     자연관광  자연경관(하천/해양)    8129   \n",
              "244  245    신창풍차해안   제주시                 제주 제주시     자연관광  자연경관(하천/해양)    7060   \n",
              "250  251       가파도  서귀포시                제주 서귀포시     자연관광  자연경관(하천/해양)    6890   \n",
              "262  263  하고수동해수욕장   제주시     제주 제주시 우도해안길 440-0     자연관광  자연경관(하천/해양)    6584   \n",
              "290  291       차귀도   제주시                 제주 제주시     자연관광  자연경관(하천/해양)    5465   \n",
              "308  309      코난해변   제주시                 제주 제주시     자연관광  자연경관(하천/해양)    4930   \n",
              "355  356     종달리해변   제주시                 제주 제주시     자연관광  자연경관(하천/해양)    3860   \n",
              "357  358    하모해수욕장  서귀포시                제주 서귀포시     자연관광  자연경관(하천/해양)    3807   \n",
              "364  365     세기알해변   제주시                 제주 제주시     자연관광  자연경관(하천/해양)    3713   \n",
              "390  391     쇠소깍해변  서귀포시                제주 서귀포시     자연관광  자연경관(하천/해양)    3311   \n",
              "415  416    신흥해수욕장   제주시       제주 제주시 조함해안로 0-0     자연관광  자연경관(하천/해양)    2837   \n",
              "424  425     소금막해변  서귀포시                제주 서귀포시     자연관광  자연경관(하천/해양)    2751   \n",
              "\n",
              "    혼잡도  \n",
              "3    혼잡  \n",
              "5    혼잡  \n",
              "6    혼잡  \n",
              "9    보통  \n",
              "21   보통  \n",
              "22   보통  \n",
              "28   보통  \n",
              "31   보통  \n",
              "32   보통  \n",
              "39   보통  \n",
              "42   보통  \n",
              "57   보통  \n",
              "70   보통  \n",
              "104  보통  \n",
              "107  보통  \n",
              "125  보통  \n",
              "143  보통  \n",
              "144  보통  \n",
              "147  보통  \n",
              "206  보통  \n",
              "214  보통  \n",
              "217  보통  \n",
              "220  보통  \n",
              "221  보통  \n",
              "244  보통  \n",
              "250  보통  \n",
              "262  보통  \n",
              "290  보통  \n",
              "308  보통  \n",
              "355  보통  \n",
              "357  보통  \n",
              "364  보통  \n",
              "390  보통  \n",
              "415  보통  \n",
              "424  보통  "
            ],
            "text/html": [
              "\n",
              "  <div id=\"df-9210eb0e-28b8-4175-b707-3ecf2e4158b4\">\n",
              "    <div class=\"colab-df-container\">\n",
              "      <div>\n",
              "<style scoped>\n",
              "    .dataframe tbody tr th:only-of-type {\n",
              "        vertical-align: middle;\n",
              "    }\n",
              "\n",
              "    .dataframe tbody tr th {\n",
              "        vertical-align: top;\n",
              "    }\n",
              "\n",
              "    .dataframe thead th {\n",
              "        text-align: right;\n",
              "    }\n",
              "</style>\n",
              "<table border=\"1\" class=\"dataframe\">\n",
              "  <thead>\n",
              "    <tr style=\"text-align: right;\">\n",
              "      <th></th>\n",
              "      <th>순위</th>\n",
              "      <th>관광지명</th>\n",
              "      <th>시/군/구</th>\n",
              "      <th>도로명주소</th>\n",
              "      <th>중분류 카테고리</th>\n",
              "      <th>소분류 카테고리</th>\n",
              "      <th>검색건수</th>\n",
              "      <th>혼잡도</th>\n",
              "    </tr>\n",
              "  </thead>\n",
              "  <tbody>\n",
              "    <tr>\n",
              "      <th>3</th>\n",
              "      <td>4</td>\n",
              "      <td>함덕해수욕장</td>\n",
              "      <td>제주시</td>\n",
              "      <td>제주 제주시 조함해안로 525-0</td>\n",
              "      <td>자연관광</td>\n",
              "      <td>자연경관(하천/해양)</td>\n",
              "      <td>195477</td>\n",
              "      <td>혼잡</td>\n",
              "    </tr>\n",
              "    <tr>\n",
              "      <th>5</th>\n",
              "      <td>6</td>\n",
              "      <td>협재해수욕장</td>\n",
              "      <td>제주시</td>\n",
              "      <td>제주 제주시</td>\n",
              "      <td>자연관광</td>\n",
              "      <td>자연경관(하천/해양)</td>\n",
              "      <td>186252</td>\n",
              "      <td>혼잡</td>\n",
              "    </tr>\n",
              "    <tr>\n",
              "      <th>6</th>\n",
              "      <td>7</td>\n",
              "      <td>이호테우해변</td>\n",
              "      <td>제주시</td>\n",
              "      <td>제주 제주시</td>\n",
              "      <td>자연관광</td>\n",
              "      <td>자연경관(하천/해양)</td>\n",
              "      <td>134970</td>\n",
              "      <td>혼잡</td>\n",
              "    </tr>\n",
              "    <tr>\n",
              "      <th>9</th>\n",
              "      <td>10</td>\n",
              "      <td>곽지해수욕장</td>\n",
              "      <td>제주시</td>\n",
              "      <td>제주 제주시</td>\n",
              "      <td>자연관광</td>\n",
              "      <td>자연경관(하천/해양)</td>\n",
              "      <td>111702</td>\n",
              "      <td>보통</td>\n",
              "    </tr>\n",
              "    <tr>\n",
              "      <th>21</th>\n",
              "      <td>22</td>\n",
              "      <td>김녕해수욕장</td>\n",
              "      <td>제주시</td>\n",
              "      <td>제주 제주시 해맞이해안로 7-6</td>\n",
              "      <td>자연관광</td>\n",
              "      <td>자연경관(하천/해양)</td>\n",
              "      <td>78488</td>\n",
              "      <td>보통</td>\n",
              "    </tr>\n",
              "    <tr>\n",
              "      <th>22</th>\n",
              "      <td>23</td>\n",
              "      <td>금능해수욕장</td>\n",
              "      <td>제주시</td>\n",
              "      <td>제주 제주시 금능길 119-10</td>\n",
              "      <td>자연관광</td>\n",
              "      <td>자연경관(하천/해양)</td>\n",
              "      <td>77609</td>\n",
              "      <td>보통</td>\n",
              "    </tr>\n",
              "    <tr>\n",
              "      <th>28</th>\n",
              "      <td>29</td>\n",
              "      <td>중문색달해변</td>\n",
              "      <td>서귀포시</td>\n",
              "      <td>제주 서귀포시 중문관광로72번길 0-0</td>\n",
              "      <td>자연관광</td>\n",
              "      <td>자연경관(하천/해양)</td>\n",
              "      <td>61889</td>\n",
              "      <td>보통</td>\n",
              "    </tr>\n",
              "    <tr>\n",
              "      <th>31</th>\n",
              "      <td>32</td>\n",
              "      <td>월정리해변</td>\n",
              "      <td>제주시</td>\n",
              "      <td>제주 제주시</td>\n",
              "      <td>자연관광</td>\n",
              "      <td>자연경관(하천/해양)</td>\n",
              "      <td>58431</td>\n",
              "      <td>보통</td>\n",
              "    </tr>\n",
              "    <tr>\n",
              "      <th>32</th>\n",
              "      <td>33</td>\n",
              "      <td>표선해수욕장</td>\n",
              "      <td>서귀포시</td>\n",
              "      <td>제주 서귀포시</td>\n",
              "      <td>자연관광</td>\n",
              "      <td>자연경관(하천/해양)</td>\n",
              "      <td>56866</td>\n",
              "      <td>보통</td>\n",
              "    </tr>\n",
              "    <tr>\n",
              "      <th>39</th>\n",
              "      <td>40</td>\n",
              "      <td>광치기해변</td>\n",
              "      <td>서귀포시</td>\n",
              "      <td>제주 서귀포시</td>\n",
              "      <td>자연관광</td>\n",
              "      <td>자연경관(하천/해양)</td>\n",
              "      <td>49320</td>\n",
              "      <td>보통</td>\n",
              "    </tr>\n",
              "    <tr>\n",
              "      <th>42</th>\n",
              "      <td>43</td>\n",
              "      <td>사계해수욕장</td>\n",
              "      <td>서귀포시</td>\n",
              "      <td>제주 서귀포시</td>\n",
              "      <td>자연관광</td>\n",
              "      <td>자연경관(하천/해양)</td>\n",
              "      <td>48751</td>\n",
              "      <td>보통</td>\n",
              "    </tr>\n",
              "    <tr>\n",
              "      <th>57</th>\n",
              "      <td>58</td>\n",
              "      <td>세화해수욕장</td>\n",
              "      <td>제주시</td>\n",
              "      <td>제주 제주시 충렬로 141-1</td>\n",
              "      <td>자연관광</td>\n",
              "      <td>자연경관(하천/해양)</td>\n",
              "      <td>36179</td>\n",
              "      <td>보통</td>\n",
              "    </tr>\n",
              "    <tr>\n",
              "      <th>70</th>\n",
              "      <td>71</td>\n",
              "      <td>삼양해수욕장</td>\n",
              "      <td>제주시</td>\n",
              "      <td>제주 제주시</td>\n",
              "      <td>자연관광</td>\n",
              "      <td>자연경관(하천/해양)</td>\n",
              "      <td>28251</td>\n",
              "      <td>보통</td>\n",
              "    </tr>\n",
              "    <tr>\n",
              "      <th>104</th>\n",
              "      <td>105</td>\n",
              "      <td>황우지해안</td>\n",
              "      <td>서귀포시</td>\n",
              "      <td>제주 서귀포시</td>\n",
              "      <td>자연관광</td>\n",
              "      <td>자연경관(하천/해양)</td>\n",
              "      <td>17177</td>\n",
              "      <td>보통</td>\n",
              "    </tr>\n",
              "    <tr>\n",
              "      <th>107</th>\n",
              "      <td>108</td>\n",
              "      <td>화순금모래해변</td>\n",
              "      <td>서귀포시</td>\n",
              "      <td>제주 서귀포시</td>\n",
              "      <td>자연관광</td>\n",
              "      <td>자연경관(하천/해양)</td>\n",
              "      <td>16811</td>\n",
              "      <td>보통</td>\n",
              "    </tr>\n",
              "    <tr>\n",
              "      <th>125</th>\n",
              "      <td>126</td>\n",
              "      <td>한담해변</td>\n",
              "      <td>제주시</td>\n",
              "      <td>제주 제주시</td>\n",
              "      <td>자연관광</td>\n",
              "      <td>자연경관(하천/해양)</td>\n",
              "      <td>14499</td>\n",
              "      <td>보통</td>\n",
              "    </tr>\n",
              "    <tr>\n",
              "      <th>143</th>\n",
              "      <td>144</td>\n",
              "      <td>홍조단괴해빈</td>\n",
              "      <td>제주시</td>\n",
              "      <td>제주 제주시</td>\n",
              "      <td>자연관광</td>\n",
              "      <td>자연경관(하천/해양)</td>\n",
              "      <td>13253</td>\n",
              "      <td>보통</td>\n",
              "    </tr>\n",
              "    <tr>\n",
              "      <th>144</th>\n",
              "      <td>145</td>\n",
              "      <td>논짓물</td>\n",
              "      <td>서귀포시</td>\n",
              "      <td>제주 서귀포시</td>\n",
              "      <td>자연관광</td>\n",
              "      <td>자연경관(하천/해양)</td>\n",
              "      <td>13206</td>\n",
              "      <td>보통</td>\n",
              "    </tr>\n",
              "    <tr>\n",
              "      <th>147</th>\n",
              "      <td>148</td>\n",
              "      <td>검멀레해수욕장</td>\n",
              "      <td>제주시</td>\n",
              "      <td>제주 제주시</td>\n",
              "      <td>자연관광</td>\n",
              "      <td>자연경관(하천/해양)</td>\n",
              "      <td>12947</td>\n",
              "      <td>보통</td>\n",
              "    </tr>\n",
              "    <tr>\n",
              "      <th>206</th>\n",
              "      <td>207</td>\n",
              "      <td>하도해수욕장</td>\n",
              "      <td>제주시</td>\n",
              "      <td>제주 제주시</td>\n",
              "      <td>자연관광</td>\n",
              "      <td>자연경관(하천/해양)</td>\n",
              "      <td>8812</td>\n",
              "      <td>보통</td>\n",
              "    </tr>\n",
              "    <tr>\n",
              "      <th>214</th>\n",
              "      <td>215</td>\n",
              "      <td>평대리해수욕장</td>\n",
              "      <td>제주시</td>\n",
              "      <td>제주 제주시</td>\n",
              "      <td>자연관광</td>\n",
              "      <td>자연경관(하천/해양)</td>\n",
              "      <td>8531</td>\n",
              "      <td>보통</td>\n",
              "    </tr>\n",
              "    <tr>\n",
              "      <th>217</th>\n",
              "      <td>218</td>\n",
              "      <td>신양섭지해수욕장</td>\n",
              "      <td>서귀포시</td>\n",
              "      <td>제주 서귀포시 섭지코지로 88-0</td>\n",
              "      <td>자연관광</td>\n",
              "      <td>자연경관(하천/해양)</td>\n",
              "      <td>8364</td>\n",
              "      <td>보통</td>\n",
              "    </tr>\n",
              "    <tr>\n",
              "      <th>220</th>\n",
              "      <td>221</td>\n",
              "      <td>코난비치</td>\n",
              "      <td>제주시</td>\n",
              "      <td>제주 제주시</td>\n",
              "      <td>자연관광</td>\n",
              "      <td>자연경관(하천/해양)</td>\n",
              "      <td>8144</td>\n",
              "      <td>보통</td>\n",
              "    </tr>\n",
              "    <tr>\n",
              "      <th>221</th>\n",
              "      <td>222</td>\n",
              "      <td>비양도</td>\n",
              "      <td>제주시</td>\n",
              "      <td>제주 제주시</td>\n",
              "      <td>자연관광</td>\n",
              "      <td>자연경관(하천/해양)</td>\n",
              "      <td>8129</td>\n",
              "      <td>보통</td>\n",
              "    </tr>\n",
              "    <tr>\n",
              "      <th>244</th>\n",
              "      <td>245</td>\n",
              "      <td>신창풍차해안</td>\n",
              "      <td>제주시</td>\n",
              "      <td>제주 제주시</td>\n",
              "      <td>자연관광</td>\n",
              "      <td>자연경관(하천/해양)</td>\n",
              "      <td>7060</td>\n",
              "      <td>보통</td>\n",
              "    </tr>\n",
              "    <tr>\n",
              "      <th>250</th>\n",
              "      <td>251</td>\n",
              "      <td>가파도</td>\n",
              "      <td>서귀포시</td>\n",
              "      <td>제주 서귀포시</td>\n",
              "      <td>자연관광</td>\n",
              "      <td>자연경관(하천/해양)</td>\n",
              "      <td>6890</td>\n",
              "      <td>보통</td>\n",
              "    </tr>\n",
              "    <tr>\n",
              "      <th>262</th>\n",
              "      <td>263</td>\n",
              "      <td>하고수동해수욕장</td>\n",
              "      <td>제주시</td>\n",
              "      <td>제주 제주시 우도해안길 440-0</td>\n",
              "      <td>자연관광</td>\n",
              "      <td>자연경관(하천/해양)</td>\n",
              "      <td>6584</td>\n",
              "      <td>보통</td>\n",
              "    </tr>\n",
              "    <tr>\n",
              "      <th>290</th>\n",
              "      <td>291</td>\n",
              "      <td>차귀도</td>\n",
              "      <td>제주시</td>\n",
              "      <td>제주 제주시</td>\n",
              "      <td>자연관광</td>\n",
              "      <td>자연경관(하천/해양)</td>\n",
              "      <td>5465</td>\n",
              "      <td>보통</td>\n",
              "    </tr>\n",
              "    <tr>\n",
              "      <th>308</th>\n",
              "      <td>309</td>\n",
              "      <td>코난해변</td>\n",
              "      <td>제주시</td>\n",
              "      <td>제주 제주시</td>\n",
              "      <td>자연관광</td>\n",
              "      <td>자연경관(하천/해양)</td>\n",
              "      <td>4930</td>\n",
              "      <td>보통</td>\n",
              "    </tr>\n",
              "    <tr>\n",
              "      <th>355</th>\n",
              "      <td>356</td>\n",
              "      <td>종달리해변</td>\n",
              "      <td>제주시</td>\n",
              "      <td>제주 제주시</td>\n",
              "      <td>자연관광</td>\n",
              "      <td>자연경관(하천/해양)</td>\n",
              "      <td>3860</td>\n",
              "      <td>보통</td>\n",
              "    </tr>\n",
              "    <tr>\n",
              "      <th>357</th>\n",
              "      <td>358</td>\n",
              "      <td>하모해수욕장</td>\n",
              "      <td>서귀포시</td>\n",
              "      <td>제주 서귀포시</td>\n",
              "      <td>자연관광</td>\n",
              "      <td>자연경관(하천/해양)</td>\n",
              "      <td>3807</td>\n",
              "      <td>보통</td>\n",
              "    </tr>\n",
              "    <tr>\n",
              "      <th>364</th>\n",
              "      <td>365</td>\n",
              "      <td>세기알해변</td>\n",
              "      <td>제주시</td>\n",
              "      <td>제주 제주시</td>\n",
              "      <td>자연관광</td>\n",
              "      <td>자연경관(하천/해양)</td>\n",
              "      <td>3713</td>\n",
              "      <td>보통</td>\n",
              "    </tr>\n",
              "    <tr>\n",
              "      <th>390</th>\n",
              "      <td>391</td>\n",
              "      <td>쇠소깍해변</td>\n",
              "      <td>서귀포시</td>\n",
              "      <td>제주 서귀포시</td>\n",
              "      <td>자연관광</td>\n",
              "      <td>자연경관(하천/해양)</td>\n",
              "      <td>3311</td>\n",
              "      <td>보통</td>\n",
              "    </tr>\n",
              "    <tr>\n",
              "      <th>415</th>\n",
              "      <td>416</td>\n",
              "      <td>신흥해수욕장</td>\n",
              "      <td>제주시</td>\n",
              "      <td>제주 제주시 조함해안로 0-0</td>\n",
              "      <td>자연관광</td>\n",
              "      <td>자연경관(하천/해양)</td>\n",
              "      <td>2837</td>\n",
              "      <td>보통</td>\n",
              "    </tr>\n",
              "    <tr>\n",
              "      <th>424</th>\n",
              "      <td>425</td>\n",
              "      <td>소금막해변</td>\n",
              "      <td>서귀포시</td>\n",
              "      <td>제주 서귀포시</td>\n",
              "      <td>자연관광</td>\n",
              "      <td>자연경관(하천/해양)</td>\n",
              "      <td>2751</td>\n",
              "      <td>보통</td>\n",
              "    </tr>\n",
              "  </tbody>\n",
              "</table>\n",
              "</div>\n",
              "      <button class=\"colab-df-convert\" onclick=\"convertToInteractive('df-9210eb0e-28b8-4175-b707-3ecf2e4158b4')\"\n",
              "              title=\"Convert this dataframe to an interactive table.\"\n",
              "              style=\"display:none;\">\n",
              "        \n",
              "  <svg xmlns=\"http://www.w3.org/2000/svg\" height=\"24px\"viewBox=\"0 0 24 24\"\n",
              "       width=\"24px\">\n",
              "    <path d=\"M0 0h24v24H0V0z\" fill=\"none\"/>\n",
              "    <path d=\"M18.56 5.44l.94 2.06.94-2.06 2.06-.94-2.06-.94-.94-2.06-.94 2.06-2.06.94zm-11 1L8.5 8.5l.94-2.06 2.06-.94-2.06-.94L8.5 2.5l-.94 2.06-2.06.94zm10 10l.94 2.06.94-2.06 2.06-.94-2.06-.94-.94-2.06-.94 2.06-2.06.94z\"/><path d=\"M17.41 7.96l-1.37-1.37c-.4-.4-.92-.59-1.43-.59-.52 0-1.04.2-1.43.59L10.3 9.45l-7.72 7.72c-.78.78-.78 2.05 0 2.83L4 21.41c.39.39.9.59 1.41.59.51 0 1.02-.2 1.41-.59l7.78-7.78 2.81-2.81c.8-.78.8-2.07 0-2.86zM5.41 20L4 18.59l7.72-7.72 1.47 1.35L5.41 20z\"/>\n",
              "  </svg>\n",
              "      </button>\n",
              "      \n",
              "  <style>\n",
              "    .colab-df-container {\n",
              "      display:flex;\n",
              "      flex-wrap:wrap;\n",
              "      gap: 12px;\n",
              "    }\n",
              "\n",
              "    .colab-df-convert {\n",
              "      background-color: #E8F0FE;\n",
              "      border: none;\n",
              "      border-radius: 50%;\n",
              "      cursor: pointer;\n",
              "      display: none;\n",
              "      fill: #1967D2;\n",
              "      height: 32px;\n",
              "      padding: 0 0 0 0;\n",
              "      width: 32px;\n",
              "    }\n",
              "\n",
              "    .colab-df-convert:hover {\n",
              "      background-color: #E2EBFA;\n",
              "      box-shadow: 0px 1px 2px rgba(60, 64, 67, 0.3), 0px 1px 3px 1px rgba(60, 64, 67, 0.15);\n",
              "      fill: #174EA6;\n",
              "    }\n",
              "\n",
              "    [theme=dark] .colab-df-convert {\n",
              "      background-color: #3B4455;\n",
              "      fill: #D2E3FC;\n",
              "    }\n",
              "\n",
              "    [theme=dark] .colab-df-convert:hover {\n",
              "      background-color: #434B5C;\n",
              "      box-shadow: 0px 1px 3px 1px rgba(0, 0, 0, 0.15);\n",
              "      filter: drop-shadow(0px 1px 2px rgba(0, 0, 0, 0.3));\n",
              "      fill: #FFFFFF;\n",
              "    }\n",
              "  </style>\n",
              "\n",
              "      <script>\n",
              "        const buttonEl =\n",
              "          document.querySelector('#df-9210eb0e-28b8-4175-b707-3ecf2e4158b4 button.colab-df-convert');\n",
              "        buttonEl.style.display =\n",
              "          google.colab.kernel.accessAllowed ? 'block' : 'none';\n",
              "\n",
              "        async function convertToInteractive(key) {\n",
              "          const element = document.querySelector('#df-9210eb0e-28b8-4175-b707-3ecf2e4158b4');\n",
              "          const dataTable =\n",
              "            await google.colab.kernel.invokeFunction('convertToInteractive',\n",
              "                                                     [key], {});\n",
              "          if (!dataTable) return;\n",
              "\n",
              "          const docLinkHtml = 'Like what you see? Visit the ' +\n",
              "            '<a target=\"_blank\" href=https://colab.research.google.com/notebooks/data_table.ipynb>data table notebook</a>'\n",
              "            + ' to learn more about interactive tables.';\n",
              "          element.innerHTML = '';\n",
              "          dataTable['output_type'] = 'display_data';\n",
              "          await google.colab.output.renderOutput(dataTable, element);\n",
              "          const docLink = document.createElement('div');\n",
              "          docLink.innerHTML = docLinkHtml;\n",
              "          element.appendChild(docLink);\n",
              "        }\n",
              "      </script>\n",
              "    </div>\n",
              "  </div>\n",
              "  "
            ]
          },
          "metadata": {},
          "execution_count": 53
        }
      ]
    },
    {
      "cell_type": "code",
      "source": [
        "# 제주시, 서귀포시 바다\n",
        "j = nature[nature['시/군/구'] == '제주시']\n",
        "j.head()"
      ],
      "metadata": {
        "colab": {
          "base_uri": "https://localhost:8080/",
          "height": 206
        },
        "id": "MXOLFfUgaF9c",
        "outputId": "e1340db7-5f09-4d20-921d-1ba99eb204f4"
      },
      "execution_count": null,
      "outputs": [
        {
          "output_type": "execute_result",
          "data": {
            "text/plain": [
              "    순위    관광지명 시/군/구               도로명주소 중분류 카테고리     소분류 카테고리    검색건수 혼잡도\n",
              "3    4  함덕해수욕장   제주시  제주 제주시 조함해안로 525-0     자연관광  자연경관(하천/해양)  195477  혼잡\n",
              "5    6  협재해수욕장   제주시              제주 제주시     자연관광  자연경관(하천/해양)  186252  혼잡\n",
              "6    7  이호테우해변   제주시              제주 제주시     자연관광  자연경관(하천/해양)  134970  혼잡\n",
              "9   10  곽지해수욕장   제주시              제주 제주시     자연관광  자연경관(하천/해양)  111702  보통\n",
              "21  22  김녕해수욕장   제주시   제주 제주시 해맞이해안로 7-6     자연관광  자연경관(하천/해양)   78488  보통"
            ],
            "text/html": [
              "\n",
              "  <div id=\"df-9ced6c8c-6e55-45e8-955f-9f348d48bf51\">\n",
              "    <div class=\"colab-df-container\">\n",
              "      <div>\n",
              "<style scoped>\n",
              "    .dataframe tbody tr th:only-of-type {\n",
              "        vertical-align: middle;\n",
              "    }\n",
              "\n",
              "    .dataframe tbody tr th {\n",
              "        vertical-align: top;\n",
              "    }\n",
              "\n",
              "    .dataframe thead th {\n",
              "        text-align: right;\n",
              "    }\n",
              "</style>\n",
              "<table border=\"1\" class=\"dataframe\">\n",
              "  <thead>\n",
              "    <tr style=\"text-align: right;\">\n",
              "      <th></th>\n",
              "      <th>순위</th>\n",
              "      <th>관광지명</th>\n",
              "      <th>시/군/구</th>\n",
              "      <th>도로명주소</th>\n",
              "      <th>중분류 카테고리</th>\n",
              "      <th>소분류 카테고리</th>\n",
              "      <th>검색건수</th>\n",
              "      <th>혼잡도</th>\n",
              "    </tr>\n",
              "  </thead>\n",
              "  <tbody>\n",
              "    <tr>\n",
              "      <th>3</th>\n",
              "      <td>4</td>\n",
              "      <td>함덕해수욕장</td>\n",
              "      <td>제주시</td>\n",
              "      <td>제주 제주시 조함해안로 525-0</td>\n",
              "      <td>자연관광</td>\n",
              "      <td>자연경관(하천/해양)</td>\n",
              "      <td>195477</td>\n",
              "      <td>혼잡</td>\n",
              "    </tr>\n",
              "    <tr>\n",
              "      <th>5</th>\n",
              "      <td>6</td>\n",
              "      <td>협재해수욕장</td>\n",
              "      <td>제주시</td>\n",
              "      <td>제주 제주시</td>\n",
              "      <td>자연관광</td>\n",
              "      <td>자연경관(하천/해양)</td>\n",
              "      <td>186252</td>\n",
              "      <td>혼잡</td>\n",
              "    </tr>\n",
              "    <tr>\n",
              "      <th>6</th>\n",
              "      <td>7</td>\n",
              "      <td>이호테우해변</td>\n",
              "      <td>제주시</td>\n",
              "      <td>제주 제주시</td>\n",
              "      <td>자연관광</td>\n",
              "      <td>자연경관(하천/해양)</td>\n",
              "      <td>134970</td>\n",
              "      <td>혼잡</td>\n",
              "    </tr>\n",
              "    <tr>\n",
              "      <th>9</th>\n",
              "      <td>10</td>\n",
              "      <td>곽지해수욕장</td>\n",
              "      <td>제주시</td>\n",
              "      <td>제주 제주시</td>\n",
              "      <td>자연관광</td>\n",
              "      <td>자연경관(하천/해양)</td>\n",
              "      <td>111702</td>\n",
              "      <td>보통</td>\n",
              "    </tr>\n",
              "    <tr>\n",
              "      <th>21</th>\n",
              "      <td>22</td>\n",
              "      <td>김녕해수욕장</td>\n",
              "      <td>제주시</td>\n",
              "      <td>제주 제주시 해맞이해안로 7-6</td>\n",
              "      <td>자연관광</td>\n",
              "      <td>자연경관(하천/해양)</td>\n",
              "      <td>78488</td>\n",
              "      <td>보통</td>\n",
              "    </tr>\n",
              "  </tbody>\n",
              "</table>\n",
              "</div>\n",
              "      <button class=\"colab-df-convert\" onclick=\"convertToInteractive('df-9ced6c8c-6e55-45e8-955f-9f348d48bf51')\"\n",
              "              title=\"Convert this dataframe to an interactive table.\"\n",
              "              style=\"display:none;\">\n",
              "        \n",
              "  <svg xmlns=\"http://www.w3.org/2000/svg\" height=\"24px\"viewBox=\"0 0 24 24\"\n",
              "       width=\"24px\">\n",
              "    <path d=\"M0 0h24v24H0V0z\" fill=\"none\"/>\n",
              "    <path d=\"M18.56 5.44l.94 2.06.94-2.06 2.06-.94-2.06-.94-.94-2.06-.94 2.06-2.06.94zm-11 1L8.5 8.5l.94-2.06 2.06-.94-2.06-.94L8.5 2.5l-.94 2.06-2.06.94zm10 10l.94 2.06.94-2.06 2.06-.94-2.06-.94-.94-2.06-.94 2.06-2.06.94z\"/><path d=\"M17.41 7.96l-1.37-1.37c-.4-.4-.92-.59-1.43-.59-.52 0-1.04.2-1.43.59L10.3 9.45l-7.72 7.72c-.78.78-.78 2.05 0 2.83L4 21.41c.39.39.9.59 1.41.59.51 0 1.02-.2 1.41-.59l7.78-7.78 2.81-2.81c.8-.78.8-2.07 0-2.86zM5.41 20L4 18.59l7.72-7.72 1.47 1.35L5.41 20z\"/>\n",
              "  </svg>\n",
              "      </button>\n",
              "      \n",
              "  <style>\n",
              "    .colab-df-container {\n",
              "      display:flex;\n",
              "      flex-wrap:wrap;\n",
              "      gap: 12px;\n",
              "    }\n",
              "\n",
              "    .colab-df-convert {\n",
              "      background-color: #E8F0FE;\n",
              "      border: none;\n",
              "      border-radius: 50%;\n",
              "      cursor: pointer;\n",
              "      display: none;\n",
              "      fill: #1967D2;\n",
              "      height: 32px;\n",
              "      padding: 0 0 0 0;\n",
              "      width: 32px;\n",
              "    }\n",
              "\n",
              "    .colab-df-convert:hover {\n",
              "      background-color: #E2EBFA;\n",
              "      box-shadow: 0px 1px 2px rgba(60, 64, 67, 0.3), 0px 1px 3px 1px rgba(60, 64, 67, 0.15);\n",
              "      fill: #174EA6;\n",
              "    }\n",
              "\n",
              "    [theme=dark] .colab-df-convert {\n",
              "      background-color: #3B4455;\n",
              "      fill: #D2E3FC;\n",
              "    }\n",
              "\n",
              "    [theme=dark] .colab-df-convert:hover {\n",
              "      background-color: #434B5C;\n",
              "      box-shadow: 0px 1px 3px 1px rgba(0, 0, 0, 0.15);\n",
              "      filter: drop-shadow(0px 1px 2px rgba(0, 0, 0, 0.3));\n",
              "      fill: #FFFFFF;\n",
              "    }\n",
              "  </style>\n",
              "\n",
              "      <script>\n",
              "        const buttonEl =\n",
              "          document.querySelector('#df-9ced6c8c-6e55-45e8-955f-9f348d48bf51 button.colab-df-convert');\n",
              "        buttonEl.style.display =\n",
              "          google.colab.kernel.accessAllowed ? 'block' : 'none';\n",
              "\n",
              "        async function convertToInteractive(key) {\n",
              "          const element = document.querySelector('#df-9ced6c8c-6e55-45e8-955f-9f348d48bf51');\n",
              "          const dataTable =\n",
              "            await google.colab.kernel.invokeFunction('convertToInteractive',\n",
              "                                                     [key], {});\n",
              "          if (!dataTable) return;\n",
              "\n",
              "          const docLinkHtml = 'Like what you see? Visit the ' +\n",
              "            '<a target=\"_blank\" href=https://colab.research.google.com/notebooks/data_table.ipynb>data table notebook</a>'\n",
              "            + ' to learn more about interactive tables.';\n",
              "          element.innerHTML = '';\n",
              "          dataTable['output_type'] = 'display_data';\n",
              "          await google.colab.output.renderOutput(dataTable, element);\n",
              "          const docLink = document.createElement('div');\n",
              "          docLink.innerHTML = docLinkHtml;\n",
              "          element.appendChild(docLink);\n",
              "        }\n",
              "      </script>\n",
              "    </div>\n",
              "  </div>\n",
              "  "
            ]
          },
          "metadata": {},
          "execution_count": 55
        }
      ]
    },
    {
      "cell_type": "code",
      "source": [
        "# 제주시, 서귀포시 바다\n",
        "s = nature[nature['시/군/구'] == '서귀포시']\n",
        "s.head()"
      ],
      "metadata": {
        "colab": {
          "base_uri": "https://localhost:8080/",
          "height": 250
        },
        "id": "90bQiGLoaF4c",
        "outputId": "2e52b1c5-c5ad-43b0-f62e-8dd84b6c16f1"
      },
      "execution_count": null,
      "outputs": [
        {
          "output_type": "execute_result",
          "data": {
            "text/plain": [
              "      순위    관광지명 시/군/구                  도로명주소 중분류 카테고리     소분류 카테고리   검색건수 혼잡도\n",
              "28    29  중문색달해변  서귀포시  제주 서귀포시 중문관광로72번길 0-0     자연관광  자연경관(하천/해양)  61889  보통\n",
              "32    33  표선해수욕장  서귀포시                제주 서귀포시     자연관광  자연경관(하천/해양)  56866  보통\n",
              "39    40   광치기해변  서귀포시                제주 서귀포시     자연관광  자연경관(하천/해양)  49320  보통\n",
              "42    43  사계해수욕장  서귀포시                제주 서귀포시     자연관광  자연경관(하천/해양)  48751  보통\n",
              "104  105   황우지해안  서귀포시                제주 서귀포시     자연관광  자연경관(하천/해양)  17177  보통"
            ],
            "text/html": [
              "\n",
              "  <div id=\"df-e4f0c05b-55d4-4449-9166-dede6a540d47\">\n",
              "    <div class=\"colab-df-container\">\n",
              "      <div>\n",
              "<style scoped>\n",
              "    .dataframe tbody tr th:only-of-type {\n",
              "        vertical-align: middle;\n",
              "    }\n",
              "\n",
              "    .dataframe tbody tr th {\n",
              "        vertical-align: top;\n",
              "    }\n",
              "\n",
              "    .dataframe thead th {\n",
              "        text-align: right;\n",
              "    }\n",
              "</style>\n",
              "<table border=\"1\" class=\"dataframe\">\n",
              "  <thead>\n",
              "    <tr style=\"text-align: right;\">\n",
              "      <th></th>\n",
              "      <th>순위</th>\n",
              "      <th>관광지명</th>\n",
              "      <th>시/군/구</th>\n",
              "      <th>도로명주소</th>\n",
              "      <th>중분류 카테고리</th>\n",
              "      <th>소분류 카테고리</th>\n",
              "      <th>검색건수</th>\n",
              "      <th>혼잡도</th>\n",
              "    </tr>\n",
              "  </thead>\n",
              "  <tbody>\n",
              "    <tr>\n",
              "      <th>28</th>\n",
              "      <td>29</td>\n",
              "      <td>중문색달해변</td>\n",
              "      <td>서귀포시</td>\n",
              "      <td>제주 서귀포시 중문관광로72번길 0-0</td>\n",
              "      <td>자연관광</td>\n",
              "      <td>자연경관(하천/해양)</td>\n",
              "      <td>61889</td>\n",
              "      <td>보통</td>\n",
              "    </tr>\n",
              "    <tr>\n",
              "      <th>32</th>\n",
              "      <td>33</td>\n",
              "      <td>표선해수욕장</td>\n",
              "      <td>서귀포시</td>\n",
              "      <td>제주 서귀포시</td>\n",
              "      <td>자연관광</td>\n",
              "      <td>자연경관(하천/해양)</td>\n",
              "      <td>56866</td>\n",
              "      <td>보통</td>\n",
              "    </tr>\n",
              "    <tr>\n",
              "      <th>39</th>\n",
              "      <td>40</td>\n",
              "      <td>광치기해변</td>\n",
              "      <td>서귀포시</td>\n",
              "      <td>제주 서귀포시</td>\n",
              "      <td>자연관광</td>\n",
              "      <td>자연경관(하천/해양)</td>\n",
              "      <td>49320</td>\n",
              "      <td>보통</td>\n",
              "    </tr>\n",
              "    <tr>\n",
              "      <th>42</th>\n",
              "      <td>43</td>\n",
              "      <td>사계해수욕장</td>\n",
              "      <td>서귀포시</td>\n",
              "      <td>제주 서귀포시</td>\n",
              "      <td>자연관광</td>\n",
              "      <td>자연경관(하천/해양)</td>\n",
              "      <td>48751</td>\n",
              "      <td>보통</td>\n",
              "    </tr>\n",
              "    <tr>\n",
              "      <th>104</th>\n",
              "      <td>105</td>\n",
              "      <td>황우지해안</td>\n",
              "      <td>서귀포시</td>\n",
              "      <td>제주 서귀포시</td>\n",
              "      <td>자연관광</td>\n",
              "      <td>자연경관(하천/해양)</td>\n",
              "      <td>17177</td>\n",
              "      <td>보통</td>\n",
              "    </tr>\n",
              "  </tbody>\n",
              "</table>\n",
              "</div>\n",
              "      <button class=\"colab-df-convert\" onclick=\"convertToInteractive('df-e4f0c05b-55d4-4449-9166-dede6a540d47')\"\n",
              "              title=\"Convert this dataframe to an interactive table.\"\n",
              "              style=\"display:none;\">\n",
              "        \n",
              "  <svg xmlns=\"http://www.w3.org/2000/svg\" height=\"24px\"viewBox=\"0 0 24 24\"\n",
              "       width=\"24px\">\n",
              "    <path d=\"M0 0h24v24H0V0z\" fill=\"none\"/>\n",
              "    <path d=\"M18.56 5.44l.94 2.06.94-2.06 2.06-.94-2.06-.94-.94-2.06-.94 2.06-2.06.94zm-11 1L8.5 8.5l.94-2.06 2.06-.94-2.06-.94L8.5 2.5l-.94 2.06-2.06.94zm10 10l.94 2.06.94-2.06 2.06-.94-2.06-.94-.94-2.06-.94 2.06-2.06.94z\"/><path d=\"M17.41 7.96l-1.37-1.37c-.4-.4-.92-.59-1.43-.59-.52 0-1.04.2-1.43.59L10.3 9.45l-7.72 7.72c-.78.78-.78 2.05 0 2.83L4 21.41c.39.39.9.59 1.41.59.51 0 1.02-.2 1.41-.59l7.78-7.78 2.81-2.81c.8-.78.8-2.07 0-2.86zM5.41 20L4 18.59l7.72-7.72 1.47 1.35L5.41 20z\"/>\n",
              "  </svg>\n",
              "      </button>\n",
              "      \n",
              "  <style>\n",
              "    .colab-df-container {\n",
              "      display:flex;\n",
              "      flex-wrap:wrap;\n",
              "      gap: 12px;\n",
              "    }\n",
              "\n",
              "    .colab-df-convert {\n",
              "      background-color: #E8F0FE;\n",
              "      border: none;\n",
              "      border-radius: 50%;\n",
              "      cursor: pointer;\n",
              "      display: none;\n",
              "      fill: #1967D2;\n",
              "      height: 32px;\n",
              "      padding: 0 0 0 0;\n",
              "      width: 32px;\n",
              "    }\n",
              "\n",
              "    .colab-df-convert:hover {\n",
              "      background-color: #E2EBFA;\n",
              "      box-shadow: 0px 1px 2px rgba(60, 64, 67, 0.3), 0px 1px 3px 1px rgba(60, 64, 67, 0.15);\n",
              "      fill: #174EA6;\n",
              "    }\n",
              "\n",
              "    [theme=dark] .colab-df-convert {\n",
              "      background-color: #3B4455;\n",
              "      fill: #D2E3FC;\n",
              "    }\n",
              "\n",
              "    [theme=dark] .colab-df-convert:hover {\n",
              "      background-color: #434B5C;\n",
              "      box-shadow: 0px 1px 3px 1px rgba(0, 0, 0, 0.15);\n",
              "      filter: drop-shadow(0px 1px 2px rgba(0, 0, 0, 0.3));\n",
              "      fill: #FFFFFF;\n",
              "    }\n",
              "  </style>\n",
              "\n",
              "      <script>\n",
              "        const buttonEl =\n",
              "          document.querySelector('#df-e4f0c05b-55d4-4449-9166-dede6a540d47 button.colab-df-convert');\n",
              "        buttonEl.style.display =\n",
              "          google.colab.kernel.accessAllowed ? 'block' : 'none';\n",
              "\n",
              "        async function convertToInteractive(key) {\n",
              "          const element = document.querySelector('#df-e4f0c05b-55d4-4449-9166-dede6a540d47');\n",
              "          const dataTable =\n",
              "            await google.colab.kernel.invokeFunction('convertToInteractive',\n",
              "                                                     [key], {});\n",
              "          if (!dataTable) return;\n",
              "\n",
              "          const docLinkHtml = 'Like what you see? Visit the ' +\n",
              "            '<a target=\"_blank\" href=https://colab.research.google.com/notebooks/data_table.ipynb>data table notebook</a>'\n",
              "            + ' to learn more about interactive tables.';\n",
              "          element.innerHTML = '';\n",
              "          dataTable['output_type'] = 'display_data';\n",
              "          await google.colab.output.renderOutput(dataTable, element);\n",
              "          const docLink = document.createElement('div');\n",
              "          docLink.innerHTML = docLinkHtml;\n",
              "          element.appendChild(docLink);\n",
              "        }\n",
              "      </script>\n",
              "    </div>\n",
              "  </div>\n",
              "  "
            ]
          },
          "metadata": {},
          "execution_count": 56
        }
      ]
    },
    {
      "cell_type": "code",
      "source": [
        "# groupby  숫자가 있고 비교하고싶을 때 사용?\n",
        "groupby_city = nature.groupby('시/군/구')['검색건수'].sum()\n",
        "groupby_city"
      ],
      "metadata": {
        "colab": {
          "base_uri": "https://localhost:8080/"
        },
        "id": "xae1UVuifAB7",
        "outputId": "17481307-6b45-4608-9760-a1cd7f92d0ea"
      },
      "execution_count": null,
      "outputs": [
        {
          "output_type": "execute_result",
          "data": {
            "text/plain": [
              "시/군/구\n",
              "서귀포시     289143\n",
              "제주시     1016123\n",
              "Name: 검색건수, dtype: int64"
            ]
          },
          "metadata": {},
          "execution_count": 57
        }
      ]
    },
    {
      "cell_type": "code",
      "source": [
        "# nature 검색수 안에서 제주시, 서귀포시가 어느 정도 검색량을 차지하고 있는지\n",
        "labels = ['서귀포시','제주시']\n",
        "plt.pie(groupby_city, labels=labels)\n",
        "plt.show()"
      ],
      "metadata": {
        "colab": {
          "base_uri": "https://localhost:8080/",
          "height": 406
        },
        "id": "S2VsmDLCfOjE",
        "outputId": "1748555c-5fa3-41ab-acec-e09dc61b24e3"
      },
      "execution_count": null,
      "outputs": [
        {
          "output_type": "display_data",
          "data": {
            "text/plain": [
              "<Figure size 640x480 with 1 Axes>"
            ],
            "image/png": "[encoded data removed]"
          },
          "metadata": {}
        }
      ]
    },
    {
      "cell_type": "markdown",
      "source": [
        "# 코로나 지역별 데이터"
      ],
      "metadata": {
        "id": "6LEtHysVkXR3"
      }
    },
    {
      "cell_type": "code",
      "source": [
        "region = pd.read_csv('region.csv')\n",
        "region.head()"
      ],
      "metadata": {
        "colab": {
          "base_uri": "https://localhost:8080/",
          "height": 354
        },
        "id": "88EF7njZkXu7",
        "outputId": "0b41f6b0-5b10-4f98-b6bf-6ab62c558e2f"
      },
      "execution_count": null,
      "outputs": [
        {
          "output_type": "execute_result",
          "data": {
            "text/plain": [
              "          day   서울  부산    대구  인천  광주  대전  울산  세종   경기  강원  충북  충남  전북  전남  \\\n",
              "0  2020-03-01   82  81  2569   6   9  13  17   1   84   7  11  60   5   3   \n",
              "1  2020-03-02   91  88  3081   7   9  14  20   1   92  19  11  78   6   5   \n",
              "2  2020-03-03   98  90  3601   7  11  14  20   1   94  20  11  81   7   5   \n",
              "3  2020-03-04   99  93  4006   9  13  15  23   1  101  21  11  82   7   5   \n",
              "4  2020-03-05  103  92  4326   9  14  16  23   1  110  23  12  86   7   5   \n",
              "\n",
              "    경북  경남  제주  검역  총확진자수  \n",
              "0  514  62   2   0   3526  \n",
              "1  624  64   2   0   4212  \n",
              "2  685  64   3   0   4812  \n",
              "3  774  65   3   0   5328  \n",
              "4  861  74   4   0   5766  "
            ],
            "text/html": [
              "\n",
              "  <div id=\"df-7779673b-0ae4-4c19-ae1d-9416da1c1244\">\n",
              "    <div class=\"colab-df-container\">\n",
              "      <div>\n",
              "<style scoped>\n",
              "    .dataframe tbody tr th:only-of-type {\n",
              "        vertical-align: middle;\n",
              "    }\n",
              "\n",
              "    .dataframe tbody tr th {\n",
              "        vertical-align: top;\n",
              "    }\n",
              "\n",
              "    .dataframe thead th {\n",
              "        text-align: right;\n",
              "    }\n",
              "</style>\n",
              "<table border=\"1\" class=\"dataframe\">\n",
              "  <thead>\n",
              "    <tr style=\"text-align: right;\">\n",
              "      <th></th>\n",
              "      <th>day</th>\n",
              "      <th>서울</th>\n",
              "      <th>부산</th>\n",
              "      <th>대구</th>\n",
              "      <th>인천</th>\n",
              "      <th>광주</th>\n",
              "      <th>대전</th>\n",
              "      <th>울산</th>\n",
              "      <th>세종</th>\n",
              "      <th>경기</th>\n",
              "      <th>강원</th>\n",
              "      <th>충북</th>\n",
              "      <th>충남</th>\n",
              "      <th>전북</th>\n",
              "      <th>전남</th>\n",
              "      <th>경북</th>\n",
              "      <th>경남</th>\n",
              "      <th>제주</th>\n",
              "      <th>검역</th>\n",
              "      <th>총확진자수</th>\n",
              "    </tr>\n",
              "  </thead>\n",
              "  <tbody>\n",
              "    <tr>\n",
              "      <th>0</th>\n",
              "      <td>2020-03-01</td>\n",
              "      <td>82</td>\n",
              "      <td>81</td>\n",
              "      <td>2569</td>\n",
              "      <td>6</td>\n",
              "      <td>9</td>\n",
              "      <td>13</td>\n",
              "      <td>17</td>\n",
              "      <td>1</td>\n",
              "      <td>84</td>\n",
              "      <td>7</td>\n",
              "      <td>11</td>\n",
              "      <td>60</td>\n",
              "      <td>5</td>\n",
              "      <td>3</td>\n",
              "      <td>514</td>\n",
              "      <td>62</td>\n",
              "      <td>2</td>\n",
              "      <td>0</td>\n",
              "      <td>3526</td>\n",
              "    </tr>\n",
              "    <tr>\n",
              "      <th>1</th>\n",
              "      <td>2020-03-02</td>\n",
              "      <td>91</td>\n",
              "      <td>88</td>\n",
              "      <td>3081</td>\n",
              "      <td>7</td>\n",
              "      <td>9</td>\n",
              "      <td>14</td>\n",
              "      <td>20</td>\n",
              "      <td>1</td>\n",
              "      <td>92</td>\n",
              "      <td>19</td>\n",
              "      <td>11</td>\n",
              "      <td>78</td>\n",
              "      <td>6</td>\n",
              "      <td>5</td>\n",
              "      <td>624</td>\n",
              "      <td>64</td>\n",
              "      <td>2</td>\n",
              "      <td>0</td>\n",
              "      <td>4212</td>\n",
              "    </tr>\n",
              "    <tr>\n",
              "      <th>2</th>\n",
              "      <td>2020-03-03</td>\n",
              "      <td>98</td>\n",
              "      <td>90</td>\n",
              "      <td>3601</td>\n",
              "      <td>7</td>\n",
              "      <td>11</td>\n",
              "      <td>14</td>\n",
              "      <td>20</td>\n",
              "      <td>1</td>\n",
              "      <td>94</td>\n",
              "      <td>20</td>\n",
              "      <td>11</td>\n",
              "      <td>81</td>\n",
              "      <td>7</td>\n",
              "      <td>5</td>\n",
              "      <td>685</td>\n",
              "      <td>64</td>\n",
              "      <td>3</td>\n",
              "      <td>0</td>\n",
              "      <td>4812</td>\n",
              "    </tr>\n",
              "    <tr>\n",
              "      <th>3</th>\n",
              "      <td>2020-03-04</td>\n",
              "      <td>99</td>\n",
              "      <td>93</td>\n",
              "      <td>4006</td>\n",
              "      <td>9</td>\n",
              "      <td>13</td>\n",
              "      <td>15</td>\n",
              "      <td>23</td>\n",
              "      <td>1</td>\n",
              "      <td>101</td>\n",
              "      <td>21</td>\n",
              "      <td>11</td>\n",
              "      <td>82</td>\n",
              "      <td>7</td>\n",
              "      <td>5</td>\n",
              "      <td>774</td>\n",
              "      <td>65</td>\n",
              "      <td>3</td>\n",
              "      <td>0</td>\n",
              "      <td>5328</td>\n",
              "    </tr>\n",
              "    <tr>\n",
              "      <th>4</th>\n",
              "      <td>2020-03-05</td>\n",
              "      <td>103</td>\n",
              "      <td>92</td>\n",
              "      <td>4326</td>\n",
              "      <td>9</td>\n",
              "      <td>14</td>\n",
              "      <td>16</td>\n",
              "      <td>23</td>\n",
              "      <td>1</td>\n",
              "      <td>110</td>\n",
              "      <td>23</td>\n",
              "      <td>12</td>\n",
              "      <td>86</td>\n",
              "      <td>7</td>\n",
              "      <td>5</td>\n",
              "      <td>861</td>\n",
              "      <td>74</td>\n",
              "      <td>4</td>\n",
              "      <td>0</td>\n",
              "      <td>5766</td>\n",
              "    </tr>\n",
              "  </tbody>\n",
              "</table>\n",
              "</div>\n",
              "      <button class=\"colab-df-convert\" onclick=\"convertToInteractive('df-7779673b-0ae4-4c19-ae1d-9416da1c1244')\"\n",
              "              title=\"Convert this dataframe to an interactive table.\"\n",
              "              style=\"display:none;\">\n",
              "        \n",
              "  <svg xmlns=\"http://www.w3.org/2000/svg\" height=\"24px\"viewBox=\"0 0 24 24\"\n",
              "       width=\"24px\">\n",
              "    <path d=\"M0 0h24v24H0V0z\" fill=\"none\"/>\n",
              "    <path d=\"M18.56 5.44l.94 2.06.94-2.06 2.06-.94-2.06-.94-.94-2.06-.94 2.06-2.06.94zm-11 1L8.5 8.5l.94-2.06 2.06-.94-2.06-.94L8.5 2.5l-.94 2.06-2.06.94zm10 10l.94 2.06.94-2.06 2.06-.94-2.06-.94-.94-2.06-.94 2.06-2.06.94z\"/><path d=\"M17.41 7.96l-1.37-1.37c-.4-.4-.92-.59-1.43-.59-.52 0-1.04.2-1.43.59L10.3 9.45l-7.72 7.72c-.78.78-.78 2.05 0 2.83L4 21.41c.39.39.9.59 1.41.59.51 0 1.02-.2 1.41-.59l7.78-7.78 2.81-2.81c.8-.78.8-2.07 0-2.86zM5.41 20L4 18.59l7.72-7.72 1.47 1.35L5.41 20z\"/>\n",
              "  </svg>\n",
              "      </button>\n",
              "      \n",
              "  <style>\n",
              "    .colab-df-container {\n",
              "      display:flex;\n",
              "      flex-wrap:wrap;\n",
              "      gap: 12px;\n",
              "    }\n",
              "\n",
              "    .colab-df-convert {\n",
              "      background-color: #E8F0FE;\n",
              "      border: none;\n",
              "      border-radius: 50%;\n",
              "      cursor: pointer;\n",
              "      display: none;\n",
              "      fill: #1967D2;\n",
              "      height: 32px;\n",
              "      padding: 0 0 0 0;\n",
              "      width: 32px;\n",
              "    }\n",
              "\n",
              "    .colab-df-convert:hover {\n",
              "      background-color: #E2EBFA;\n",
              "      box-shadow: 0px 1px 2px rgba(60, 64, 67, 0.3), 0px 1px 3px 1px rgba(60, 64, 67, 0.15);\n",
              "      fill: #174EA6;\n",
              "    }\n",
              "\n",
              "    [theme=dark] .colab-df-convert {\n",
              "      background-color: #3B4455;\n",
              "      fill: #D2E3FC;\n",
              "    }\n",
              "\n",
              "    [theme=dark] .colab-df-convert:hover {\n",
              "      background-color: #434B5C;\n",
              "      box-shadow: 0px 1px 3px 1px rgba(0, 0, 0, 0.15);\n",
              "      filter: drop-shadow(0px 1px 2px rgba(0, 0, 0, 0.3));\n",
              "      fill: #FFFFFF;\n",
              "    }\n",
              "  </style>\n",
              "\n",
              "      <script>\n",
              "        const buttonEl =\n",
              "          document.querySelector('#df-7779673b-0ae4-4c19-ae1d-9416da1c1244 button.colab-df-convert');\n",
              "        buttonEl.style.display =\n",
              "          google.colab.kernel.accessAllowed ? 'block' : 'none';\n",
              "\n",
              "        async function convertToInteractive(key) {\n",
              "          const element = document.querySelector('#df-7779673b-0ae4-4c19-ae1d-9416da1c1244');\n",
              "          const dataTable =\n",
              "            await google.colab.kernel.invokeFunction('convertToInteractive',\n",
              "                                                     [key], {});\n",
              "          if (!dataTable) return;\n",
              "\n",
              "          const docLinkHtml = 'Like what you see? Visit the ' +\n",
              "            '<a target=\"_blank\" href=https://colab.research.google.com/notebooks/data_table.ipynb>data table notebook</a>'\n",
              "            + ' to learn more about interactive tables.';\n",
              "          element.innerHTML = '';\n",
              "          dataTable['output_type'] = 'display_data';\n",
              "          await google.colab.output.renderOutput(dataTable, element);\n",
              "          const docLink = document.createElement('div');\n",
              "          docLink.innerHTML = docLinkHtml;\n",
              "          element.appendChild(docLink);\n",
              "        }\n",
              "      </script>\n",
              "    </div>\n",
              "  </div>\n",
              "  "
            ]
          },
          "metadata": {},
          "execution_count": 59
        }
      ]
    },
    {
      "cell_type": "code",
      "source": [
        "region.shape"
      ],
      "metadata": {
        "colab": {
          "base_uri": "https://localhost:8080/"
        },
        "id": "Nlv6BsK2kYCI",
        "outputId": "e633dfba-cbe5-4b0a-a4dc-85b160d1ca38"
      },
      "execution_count": null,
      "outputs": [
        {
          "output_type": "execute_result",
          "data": {
            "text/plain": [
              "(32, 20)"
            ]
          },
          "metadata": {},
          "execution_count": 61
        }
      ]
    },
    {
      "cell_type": "code",
      "source": [
        "# set index\n",
        "region = region.set_index('day')\n",
        "region"
      ],
      "metadata": {
        "id": "jgkml8HBkYAN"
      },
      "execution_count": null,
      "outputs": []
    },
    {
      "cell_type": "code",
      "source": [
        "region.info()"
      ],
      "metadata": {
        "id": "JbpwCHaGkX96"
      },
      "execution_count": null,
      "outputs": []
    },
    {
      "cell_type": "code",
      "source": [
        "# weather_df.index = pd.to_datetime(weather_df.index, format='%Y-%m-%d')\n",
        "region.index = pd.to_datetime(region.index, format='%Y-%m-%d')\n",
        "region.head()"
      ],
      "metadata": {
        "colab": {
          "base_uri": "https://localhost:8080/",
          "height": 386
        },
        "id": "VQs2YDNDkX7Z",
        "outputId": "891bda8f-dca3-41ea-8f86-474a20497a18"
      },
      "execution_count": null,
      "outputs": [
        {
          "output_type": "execute_result",
          "data": {
            "text/plain": [
              "             서울  부산    대구  인천  광주  대전  울산  세종   경기  강원  충북  충남  전북  전남   경북  \\\n",
              "day                                                                           \n",
              "2020-03-01   82  81  2569   6   9  13  17   1   84   7  11  60   5   3  514   \n",
              "2020-03-02   91  88  3081   7   9  14  20   1   92  19  11  78   6   5  624   \n",
              "2020-03-03   98  90  3601   7  11  14  20   1   94  20  11  81   7   5  685   \n",
              "2020-03-04   99  93  4006   9  13  15  23   1  101  21  11  82   7   5  774   \n",
              "2020-03-05  103  92  4326   9  14  16  23   1  110  23  12  86   7   5  861   \n",
              "\n",
              "            경남  제주  검역  총확진자수  \n",
              "day                            \n",
              "2020-03-01  62   2   0   3526  \n",
              "2020-03-02  64   2   0   4212  \n",
              "2020-03-03  64   3   0   4812  \n",
              "2020-03-04  65   3   0   5328  \n",
              "2020-03-05  74   4   0   5766  "
            ],
            "text/html": [
              "\n",
              "  <div id=\"df-47fe02fa-3aed-4d86-9c3a-9fae4853f729\">\n",
              "    <div class=\"colab-df-container\">\n",
              "      <div>\n",
              "<style scoped>\n",
              "    .dataframe tbody tr th:only-of-type {\n",
              "        vertical-align: middle;\n",
              "    }\n",
              "\n",
              "    .dataframe tbody tr th {\n",
              "        vertical-align: top;\n",
              "    }\n",
              "\n",
              "    .dataframe thead th {\n",
              "        text-align: right;\n",
              "    }\n",
              "</style>\n",
              "<table border=\"1\" class=\"dataframe\">\n",
              "  <thead>\n",
              "    <tr style=\"text-align: right;\">\n",
              "      <th></th>\n",
              "      <th>서울</th>\n",
              "      <th>부산</th>\n",
              "      <th>대구</th>\n",
              "      <th>인천</th>\n",
              "      <th>광주</th>\n",
              "      <th>대전</th>\n",
              "      <th>울산</th>\n",
              "      <th>세종</th>\n",
              "      <th>경기</th>\n",
              "      <th>강원</th>\n",
              "      <th>충북</th>\n",
              "      <th>충남</th>\n",
              "      <th>전북</th>\n",
              "      <th>전남</th>\n",
              "      <th>경북</th>\n",
              "      <th>경남</th>\n",
              "      <th>제주</th>\n",
              "      <th>검역</th>\n",
              "      <th>총확진자수</th>\n",
              "    </tr>\n",
              "    <tr>\n",
              "      <th>day</th>\n",
              "      <th></th>\n",
              "      <th></th>\n",
              "      <th></th>\n",
              "      <th></th>\n",
              "      <th></th>\n",
              "      <th></th>\n",
              "      <th></th>\n",
              "      <th></th>\n",
              "      <th></th>\n",
              "      <th></th>\n",
              "      <th></th>\n",
              "      <th></th>\n",
              "      <th></th>\n",
              "      <th></th>\n",
              "      <th></th>\n",
              "      <th></th>\n",
              "      <th></th>\n",
              "      <th></th>\n",
              "      <th></th>\n",
              "    </tr>\n",
              "  </thead>\n",
              "  <tbody>\n",
              "    <tr>\n",
              "      <th>2020-03-01</th>\n",
              "      <td>82</td>\n",
              "      <td>81</td>\n",
              "      <td>2569</td>\n",
              "      <td>6</td>\n",
              "      <td>9</td>\n",
              "      <td>13</td>\n",
              "      <td>17</td>\n",
              "      <td>1</td>\n",
              "      <td>84</td>\n",
              "      <td>7</td>\n",
              "      <td>11</td>\n",
              "      <td>60</td>\n",
              "      <td>5</td>\n",
              "      <td>3</td>\n",
              "      <td>514</td>\n",
              "      <td>62</td>\n",
              "      <td>2</td>\n",
              "      <td>0</td>\n",
              "      <td>3526</td>\n",
              "    </tr>\n",
              "    <tr>\n",
              "      <th>2020-03-02</th>\n",
              "      <td>91</td>\n",
              "      <td>88</td>\n",
              "      <td>3081</td>\n",
              "      <td>7</td>\n",
              "      <td>9</td>\n",
              "      <td>14</td>\n",
              "      <td>20</td>\n",
              "      <td>1</td>\n",
              "      <td>92</td>\n",
              "      <td>19</td>\n",
              "      <td>11</td>\n",
              "      <td>78</td>\n",
              "      <td>6</td>\n",
              "      <td>5</td>\n",
              "      <td>624</td>\n",
              "      <td>64</td>\n",
              "      <td>2</td>\n",
              "      <td>0</td>\n",
              "      <td>4212</td>\n",
              "    </tr>\n",
              "    <tr>\n",
              "      <th>2020-03-03</th>\n",
              "      <td>98</td>\n",
              "      <td>90</td>\n",
              "      <td>3601</td>\n",
              "      <td>7</td>\n",
              "      <td>11</td>\n",
              "      <td>14</td>\n",
              "      <td>20</td>\n",
              "      <td>1</td>\n",
              "      <td>94</td>\n",
              "      <td>20</td>\n",
              "      <td>11</td>\n",
              "      <td>81</td>\n",
              "      <td>7</td>\n",
              "      <td>5</td>\n",
              "      <td>685</td>\n",
              "      <td>64</td>\n",
              "      <td>3</td>\n",
              "      <td>0</td>\n",
              "      <td>4812</td>\n",
              "    </tr>\n",
              "    <tr>\n",
              "      <th>2020-03-04</th>\n",
              "      <td>99</td>\n",
              "      <td>93</td>\n",
              "      <td>4006</td>\n",
              "      <td>9</td>\n",
              "      <td>13</td>\n",
              "      <td>15</td>\n",
              "      <td>23</td>\n",
              "      <td>1</td>\n",
              "      <td>101</td>\n",
              "      <td>21</td>\n",
              "      <td>11</td>\n",
              "      <td>82</td>\n",
              "      <td>7</td>\n",
              "      <td>5</td>\n",
              "      <td>774</td>\n",
              "      <td>65</td>\n",
              "      <td>3</td>\n",
              "      <td>0</td>\n",
              "      <td>5328</td>\n",
              "    </tr>\n",
              "    <tr>\n",
              "      <th>2020-03-05</th>\n",
              "      <td>103</td>\n",
              "      <td>92</td>\n",
              "      <td>4326</td>\n",
              "      <td>9</td>\n",
              "      <td>14</td>\n",
              "      <td>16</td>\n",
              "      <td>23</td>\n",
              "      <td>1</td>\n",
              "      <td>110</td>\n",
              "      <td>23</td>\n",
              "      <td>12</td>\n",
              "      <td>86</td>\n",
              "      <td>7</td>\n",
              "      <td>5</td>\n",
              "      <td>861</td>\n",
              "      <td>74</td>\n",
              "      <td>4</td>\n",
              "      <td>0</td>\n",
              "      <td>5766</td>\n",
              "    </tr>\n",
              "  </tbody>\n",
              "</table>\n",
              "</div>\n",
              "      <button class=\"colab-df-convert\" onclick=\"convertToInteractive('df-47fe02fa-3aed-4d86-9c3a-9fae4853f729')\"\n",
              "              title=\"Convert this dataframe to an interactive table.\"\n",
              "              style=\"display:none;\">\n",
              "        \n",
              "  <svg xmlns=\"http://www.w3.org/2000/svg\" height=\"24px\"viewBox=\"0 0 24 24\"\n",
              "       width=\"24px\">\n",
              "    <path d=\"M0 0h24v24H0V0z\" fill=\"none\"/>\n",
              "    <path d=\"M18.56 5.44l.94 2.06.94-2.06 2.06-.94-2.06-.94-.94-2.06-.94 2.06-2.06.94zm-11 1L8.5 8.5l.94-2.06 2.06-.94-2.06-.94L8.5 2.5l-.94 2.06-2.06.94zm10 10l.94 2.06.94-2.06 2.06-.94-2.06-.94-.94-2.06-.94 2.06-2.06.94z\"/><path d=\"M17.41 7.96l-1.37-1.37c-.4-.4-.92-.59-1.43-.59-.52 0-1.04.2-1.43.59L10.3 9.45l-7.72 7.72c-.78.78-.78 2.05 0 2.83L4 21.41c.39.39.9.59 1.41.59.51 0 1.02-.2 1.41-.59l7.78-7.78 2.81-2.81c.8-.78.8-2.07 0-2.86zM5.41 20L4 18.59l7.72-7.72 1.47 1.35L5.41 20z\"/>\n",
              "  </svg>\n",
              "      </button>\n",
              "      \n",
              "  <style>\n",
              "    .colab-df-container {\n",
              "      display:flex;\n",
              "      flex-wrap:wrap;\n",
              "      gap: 12px;\n",
              "    }\n",
              "\n",
              "    .colab-df-convert {\n",
              "      background-color: #E8F0FE;\n",
              "      border: none;\n",
              "      border-radius: 50%;\n",
              "      cursor: pointer;\n",
              "      display: none;\n",
              "      fill: #1967D2;\n",
              "      height: 32px;\n",
              "      padding: 0 0 0 0;\n",
              "      width: 32px;\n",
              "    }\n",
              "\n",
              "    .colab-df-convert:hover {\n",
              "      background-color: #E2EBFA;\n",
              "      box-shadow: 0px 1px 2px rgba(60, 64, 67, 0.3), 0px 1px 3px 1px rgba(60, 64, 67, 0.15);\n",
              "      fill: #174EA6;\n",
              "    }\n",
              "\n",
              "    [theme=dark] .colab-df-convert {\n",
              "      background-color: #3B4455;\n",
              "      fill: #D2E3FC;\n",
              "    }\n",
              "\n",
              "    [theme=dark] .colab-df-convert:hover {\n",
              "      background-color: #434B5C;\n",
              "      box-shadow: 0px 1px 3px 1px rgba(0, 0, 0, 0.15);\n",
              "      filter: drop-shadow(0px 1px 2px rgba(0, 0, 0, 0.3));\n",
              "      fill: #FFFFFF;\n",
              "    }\n",
              "  </style>\n",
              "\n",
              "      <script>\n",
              "        const buttonEl =\n",
              "          document.querySelector('#df-47fe02fa-3aed-4d86-9c3a-9fae4853f729 button.colab-df-convert');\n",
              "        buttonEl.style.display =\n",
              "          google.colab.kernel.accessAllowed ? 'block' : 'none';\n",
              "\n",
              "        async function convertToInteractive(key) {\n",
              "          const element = document.querySelector('#df-47fe02fa-3aed-4d86-9c3a-9fae4853f729');\n",
              "          const dataTable =\n",
              "            await google.colab.kernel.invokeFunction('convertToInteractive',\n",
              "                                                     [key], {});\n",
              "          if (!dataTable) return;\n",
              "\n",
              "          const docLinkHtml = 'Like what you see? Visit the ' +\n",
              "            '<a target=\"_blank\" href=https://colab.research.google.com/notebooks/data_table.ipynb>data table notebook</a>'\n",
              "            + ' to learn more about interactive tables.';\n",
              "          element.innerHTML = '';\n",
              "          dataTable['output_type'] = 'display_data';\n",
              "          await google.colab.output.renderOutput(dataTable, element);\n",
              "          const docLink = document.createElement('div');\n",
              "          docLink.innerHTML = docLinkHtml;\n",
              "          element.appendChild(docLink);\n",
              "        }\n",
              "      </script>\n",
              "    </div>\n",
              "  </div>\n",
              "  "
            ]
          },
          "metadata": {},
          "execution_count": 64
        }
      ]
    },
    {
      "cell_type": "code",
      "source": [
        "region.info()"
      ],
      "metadata": {
        "id": "E58hEdU2lT4n"
      },
      "execution_count": null,
      "outputs": []
    },
    {
      "cell_type": "code",
      "source": [
        "region.isnull().sum()"
      ],
      "metadata": {
        "colab": {
          "base_uri": "https://localhost:8080/"
        },
        "id": "q_oLkIkolT2I",
        "outputId": "78fb691f-e44a-46fa-cefd-39ad603aa364"
      },
      "execution_count": null,
      "outputs": [
        {
          "output_type": "execute_result",
          "data": {
            "text/plain": [
              "서울       0\n",
              "부산       0\n",
              "대구       0\n",
              "인천       0\n",
              "광주       0\n",
              "대전       0\n",
              "울산       0\n",
              "세종       0\n",
              "경기       0\n",
              "강원       0\n",
              "충북       0\n",
              "충남       0\n",
              "전북       0\n",
              "전남       0\n",
              "경북       0\n",
              "경남       0\n",
              "제주       0\n",
              "검역       0\n",
              "총확진자수    0\n",
              "dtype: int64"
            ]
          },
          "metadata": {},
          "execution_count": 67
        }
      ]
    },
    {
      "cell_type": "code",
      "source": [
        "# 전국 확진자수\n",
        "# region.iloc[0:2]  # iloc -> 행으로 접근한 열\n",
        "# cities = ['서울', '부산', '대구', '인천', '광주', '대전']\n",
        "cities = region.loc[:, region.columns[:-1]]"
      ],
      "metadata": {
        "id": "ah5vjFZhlTzx"
      },
      "execution_count": null,
      "outputs": []
    },
    {
      "cell_type": "code",
      "source": [
        "region.columns[:-1]"
      ],
      "metadata": {
        "colab": {
          "base_uri": "https://localhost:8080/"
        },
        "id": "cucXvQ1KkX3e",
        "outputId": "5632a166-61cf-408f-bddf-ba3e4807d33c"
      },
      "execution_count": null,
      "outputs": [
        {
          "output_type": "execute_result",
          "data": {
            "text/plain": [
              "Index(['서울', '부산', '대구', '인천', '광주', '대전', '울산', '세종', '경기', '강원', '충북', '충남',\n",
              "       '전북', '전남', '경북', '경남', '제주', '검역'],\n",
              "      dtype='object')"
            ]
          },
          "metadata": {},
          "execution_count": 74
        }
      ]
    },
    {
      "cell_type": "code",
      "source": [
        "total = region.loc[:,'총확진자수']\n",
        "total.head()"
      ],
      "metadata": {
        "colab": {
          "base_uri": "https://localhost:8080/"
        },
        "id": "biFnLcAKkXyp",
        "outputId": "c7573a3c-a1fb-474a-c110-6d72bfabf9fe"
      },
      "execution_count": null,
      "outputs": [
        {
          "output_type": "execute_result",
          "data": {
            "text/plain": [
              "day\n",
              "2020-03-01    3526\n",
              "2020-03-02    4212\n",
              "2020-03-03    4812\n",
              "2020-03-04    5328\n",
              "2020-03-05    5766\n",
              "Name: 총확진자수, dtype: int64"
            ]
          },
          "metadata": {},
          "execution_count": 72
        }
      ]
    },
    {
      "cell_type": "code",
      "source": [
        "# bar graph\n",
        "\n",
        "plt.bar(total.index, total)\n",
        "plt.show()"
      ],
      "metadata": {
        "colab": {
          "base_uri": "https://localhost:8080/",
          "height": 447
        },
        "id": "Rkua9gR5oTxi",
        "outputId": "c3ab753f-5758-4699-ee04-b984c28e5270"
      },
      "execution_count": null,
      "outputs": [
        {
          "output_type": "execute_result",
          "data": {
            "text/plain": [
              "<module 'matplotlib.pyplot' from '/usr/local/lib/python3.10/dist-packages/matplotlib/pyplot.py'>"
            ]
          },
          "metadata": {},
          "execution_count": 73
        },
        {
          "output_type": "display_data",
          "data": {
            "text/plain": [
              "<Figure size 640x480 with 1 Axes>"
            ],
            "image/png": "[encoded data removed]"
          },
          "metadata": {}
        }
      ]
    },
    {
      "cell_type": "code",
      "source": [
        "# 지역별 그래프\n",
        "# 지역(y)만 다르고 인덱스(x) 동일\n",
        "# 하나의 영역 안에 여러 그래프\n",
        "# Index(['서울', '부산', '대구', '인천', '광주', '대전', '울산', '세종', '경기', '강원', '충북', '충남',\n",
        "#       '전북', '전남', '경북', '경남', '제주', '검역'],\n",
        "#      dtype='object')\n",
        "\n",
        "plt.xticks(rotation=90)\n",
        "plt.plot(cities)\n",
        "# plt.plot(cities['부산'])\n",
        "plt.show()\n",
        "'''\n",
        "그래프가 식별이 잘 되지 않을 때,\n",
        "그래프의 범위를 바꿔주거나 or 그래프를 사용\n",
        "'''"
      ],
      "metadata": {
        "colab": {
          "base_uri": "https://localhost:8080/",
          "height": 496
        },
        "id": "M-OoeQtboi3a",
        "outputId": "06d4706b-0780-467e-cbab-3e026128f395"
      },
      "execution_count": null,
      "outputs": [
        {
          "output_type": "display_data",
          "data": {
            "text/plain": [
              "<Figure size 640x480 with 1 Axes>"
            ],
            "image/png": "[encoded data removed]"
          },
          "metadata": {}
        }
      ]
    },
    {
      "cell_type": "code",
      "source": [
        "# 시간 흐름에 따른 확진자 수 누적 그래프\n",
        "# plt.stackplot(x, y1, y2, y3 , ... , labels=)\n",
        "y1 = cities['서울']\n",
        "y2 = cities['대구']\n",
        "y3 = cities['부산']\n",
        "y4 = cities['인천']\n",
        "y5 = cities['광주']\n",
        "labels = ['서울', '대구', '부산', '인천', '광주']\n",
        "colors = ['red', 'black']\n",
        "\n",
        "# 누적 그래프 -> 어떤 게 누적될 것인지 -> 시간 순에 따라 정렬\n",
        "# 쌓이는 방향, 시간순에 따라 쌓이는 부분 -> 각 지역별 데이터마다 누적 확인\n",
        "plt.stackplot(cities.index, y2)  # 값이 큰 데이터 먼저 출력?\n",
        "plt.stackplot(cities.index, y1)\n",
        "plt.stackplot(cities.index, y3)\n",
        "plt.stackplot(cities.index, y4)\n",
        "plt.stackplot(cities.index, y5)\n",
        "\n",
        "# plt.xlim([])\n",
        "plt.ylim([0, 1000])  # y축 범위 0~1000으로 설정\n",
        "# plt.axis([x최소, x최대, y최소, y최대]) 이렇게 설정도 가\n",
        "\n",
        "plt.xticks(rotation=90)  # 가로 표시 설정?\n",
        "# plt.legend(loc='upper left')\n",
        "plt.show()"
      ],
      "metadata": {
        "colab": {
          "base_uri": "https://localhost:8080/",
          "height": 498
        },
        "id": "4p5wYRVcoi1F",
        "outputId": "d485b725-94af-4cb2-958b-21065d0cb713"
      },
      "execution_count": 94,
      "outputs": [
        {
          "output_type": "display_data",
          "data": {
            "text/plain": [
              "<Figure size 640x480 with 1 Axes>"
            ],
            "image/png": "[encoded data removed]"
          },
          "metadata": {}
        }
      ]
    },
    {
      "cell_type": "code",
      "source": [
        "# 제주 지역 확진자\n",
        "region.head()"
      ],
      "metadata": {
        "id": "ZicTYT8Noiu9"
      },
      "execution_count": null,
      "outputs": []
    },
    {
      "cell_type": "code",
      "source": [
        "jeju = region['제주']  # 인덱스 / 확진자 수  -> 시리즈 형태"
      ],
      "metadata": {
        "id": "xj4bZbz0oiqY"
      },
      "execution_count": 97,
      "outputs": []
    },
    {
      "cell_type": "code",
      "source": [
        "plt.plot(jeju)\n",
        "plt.show()"
      ],
      "metadata": {
        "colab": {
          "base_uri": "https://localhost:8080/",
          "height": 429
        },
        "id": "zJVmCiJDA2jD",
        "outputId": "29815c7d-c5c5-422e-927f-7fd5c7aa5a49"
      },
      "execution_count": 98,
      "outputs": [
        {
          "output_type": "display_data",
          "data": {
            "text/plain": [
              "<Figure size 640x480 with 1 Axes>"
            ],
            "image/png": "[encoded data removed]"
          },
          "metadata": {}
        }
      ]
    },
    {
      "cell_type": "code",
      "source": [
        "# 데이터 시각화 -> 어떤 구간에 (큰)변화가 있는 지\n",
        "plt.bar(jeju.index, jeju)\n",
        "plt.xticks(rotation=90)\n",
        "\n",
        "plt.show()\n",
        "\n",
        "## 변화폭을 민감하게 살펴보자\n",
        "# 마스크 해지 -> (코로나)감염이 얼마 증가 감소\n",
        "# 독감, 폐렴은 얼마나 증가하는지"
      ],
      "metadata": {
        "colab": {
          "base_uri": "https://localhost:8080/",
          "height": 493
        },
        "id": "jz3ROjo8A3VN",
        "outputId": "af706b53-73e1-4dda-ee89-c3b0c63db395"
      },
      "execution_count": 110,
      "outputs": [
        {
          "output_type": "display_data",
          "data": {
            "text/plain": [
              "<Figure size 640x480 with 1 Axes>"
            ],
            "image/png": "[encoded data removed]"
          },
          "metadata": {}
        }
      ]
    },
    {
      "cell_type": "code",
      "source": [
        "plt.plot(jeju)\n",
        "# annotation -> 선그래프에 표시할 때\n",
        "# plt.annotate('변화', xy=(x,y), xytext=(), arrowprops={}})\n",
        "# xy=(x,y) -> 부분의,  xytext=() -> 의 값을, arrowprops={}} ->의 화살표 모양으로\n",
        "# plt.annotate('변화', xy=(25,6), xytext=(25,6), arrowprops={'color':'green'})\n",
        "plt.show()"
      ],
      "metadata": {
        "id": "yLQfz8p9A3Ry"
      },
      "execution_count": null,
      "outputs": []
    },
    {
      "cell_type": "code",
      "source": [
        "# 코로나 지역별 데이터\n",
        "# 지역명 -> 실제 좌표의 위치\n",
        "# 좌표 데이터 -> 시청, 도청 -> 위도, 경도\n",
        "loc = {\n",
        "  '서울' : [37.566418, 126.977950],#서울시청\n",
        "  '부산' : [35.180152, 129.074980],#부산시청\n",
        "  '대구' : [35.871468, 128.601757],#대구시청\n",
        "  '인천' : [37.456445, 126.705873],#인천시청\n",
        "  '광주' : [35.160068, 126.851426],#광주광역시청\n",
        "  '대전' : [36.350664, 127.384819],#대전시청\n",
        "  '울산' : [35.539772, 129.311486],#울산시청\n",
        "  '세종' : [36.480838, 127.289181],#세종시청\n",
        "  '경기' : [37.275221, 127.009382],#경기도청\n",
        "  '강원' : [37.885300, 127.729835],#강원(강원도청)\n",
        "  '충북' : [36.635947, 127.491345],#충북도청\n",
        "  '충남' : [36.658826, 126.672849],#충남도청\n",
        "  '전북' : [35.820599, 127.108759],#전북도청\n",
        "  '전남' : [34.816351, 126.462924],#전남도청\n",
        "  '경북' : [36.574108, 128.509303],#경북도청\n",
        "  '경남' : [35.238398, 128.692371],#경남도청\n",
        "  '제주' : [33.3617007, 126.511657]#제주\n",
        "    }\n",
        "type(loc)"
      ],
      "metadata": {
        "colab": {
          "base_uri": "https://localhost:8080/"
        },
        "id": "WEprNfIlA3Pk",
        "outputId": "98451b80-d0e2-4d44-b5c2-e5c8f2016dac"
      },
      "execution_count": 126,
      "outputs": [
        {
          "output_type": "execute_result",
          "data": {
            "text/plain": [
              "dict"
            ]
          },
          "metadata": {},
          "execution_count": 126
        }
      ]
    },
    {
      "cell_type": "code",
      "source": [
        "# 위도: latitude, 경도: longitude\n",
        "loc = pd.DataFrame(loc).T\n",
        "loc.columns = ['lat','lon']\n",
        "loc"
      ],
      "metadata": {
        "colab": {
          "base_uri": "https://localhost:8080/",
          "height": 582
        },
        "id": "E_w84PeSA3Nu",
        "outputId": "111a677b-79a3-40e4-de0e-fb4d4f23d87a"
      },
      "execution_count": 131,
      "outputs": [
        {
          "output_type": "execute_result",
          "data": {
            "text/plain": [
              "          lat         lon\n",
              "서울  37.566418  126.977950\n",
              "부산  35.180152  129.074980\n",
              "대구  35.871468  128.601757\n",
              "인천  37.456445  126.705873\n",
              "광주  35.160068  126.851426\n",
              "대전  36.350664  127.384819\n",
              "울산  35.539772  129.311486\n",
              "세종  36.480838  127.289181\n",
              "경기  37.275221  127.009382\n",
              "강원  37.885300  127.729835\n",
              "충북  36.635947  127.491345\n",
              "충남  36.658826  126.672849\n",
              "전북  35.820599  127.108759\n",
              "전남  34.816351  126.462924\n",
              "경북  36.574108  128.509303\n",
              "경남  35.238398  128.692371\n",
              "제주  33.361701  126.511657"
            ],
            "text/html": [
              "\n",
              "  <div id=\"df-dc4da9b5-6cb7-4cd9-8b23-7acef18bea29\">\n",
              "    <div class=\"colab-df-container\">\n",
              "      <div>\n",
              "<style scoped>\n",
              "    .dataframe tbody tr th:only-of-type {\n",
              "        vertical-align: middle;\n",
              "    }\n",
              "\n",
              "    .dataframe tbody tr th {\n",
              "        vertical-align: top;\n",
              "    }\n",
              "\n",
              "    .dataframe thead th {\n",
              "        text-align: right;\n",
              "    }\n",
              "</style>\n",
              "<table border=\"1\" class=\"dataframe\">\n",
              "  <thead>\n",
              "    <tr style=\"text-align: right;\">\n",
              "      <th></th>\n",
              "      <th>lat</th>\n",
              "      <th>lon</th>\n",
              "    </tr>\n",
              "  </thead>\n",
              "  <tbody>\n",
              "    <tr>\n",
              "      <th>서울</th>\n",
              "      <td>37.566418</td>\n",
              "      <td>126.977950</td>\n",
              "    </tr>\n",
              "    <tr>\n",
              "      <th>부산</th>\n",
              "      <td>35.180152</td>\n",
              "      <td>129.074980</td>\n",
              "    </tr>\n",
              "    <tr>\n",
              "      <th>대구</th>\n",
              "      <td>35.871468</td>\n",
              "      <td>128.601757</td>\n",
              "    </tr>\n",
              "    <tr>\n",
              "      <th>인천</th>\n",
              "      <td>37.456445</td>\n",
              "      <td>126.705873</td>\n",
              "    </tr>\n",
              "    <tr>\n",
              "      <th>광주</th>\n",
              "      <td>35.160068</td>\n",
              "      <td>126.851426</td>\n",
              "    </tr>\n",
              "    <tr>\n",
              "      <th>대전</th>\n",
              "      <td>36.350664</td>\n",
              "      <td>127.384819</td>\n",
              "    </tr>\n",
              "    <tr>\n",
              "      <th>울산</th>\n",
              "      <td>35.539772</td>\n",
              "      <td>129.311486</td>\n",
              "    </tr>\n",
              "    <tr>\n",
              "      <th>세종</th>\n",
              "      <td>36.480838</td>\n",
              "      <td>127.289181</td>\n",
              "    </tr>\n",
              "    <tr>\n",
              "      <th>경기</th>\n",
              "      <td>37.275221</td>\n",
              "      <td>127.009382</td>\n",
              "    </tr>\n",
              "    <tr>\n",
              "      <th>강원</th>\n",
              "      <td>37.885300</td>\n",
              "      <td>127.729835</td>\n",
              "    </tr>\n",
              "    <tr>\n",
              "      <th>충북</th>\n",
              "      <td>36.635947</td>\n",
              "      <td>127.491345</td>\n",
              "    </tr>\n",
              "    <tr>\n",
              "      <th>충남</th>\n",
              "      <td>36.658826</td>\n",
              "      <td>126.672849</td>\n",
              "    </tr>\n",
              "    <tr>\n",
              "      <th>전북</th>\n",
              "      <td>35.820599</td>\n",
              "      <td>127.108759</td>\n",
              "    </tr>\n",
              "    <tr>\n",
              "      <th>전남</th>\n",
              "      <td>34.816351</td>\n",
              "      <td>126.462924</td>\n",
              "    </tr>\n",
              "    <tr>\n",
              "      <th>경북</th>\n",
              "      <td>36.574108</td>\n",
              "      <td>128.509303</td>\n",
              "    </tr>\n",
              "    <tr>\n",
              "      <th>경남</th>\n",
              "      <td>35.238398</td>\n",
              "      <td>128.692371</td>\n",
              "    </tr>\n",
              "    <tr>\n",
              "      <th>제주</th>\n",
              "      <td>33.361701</td>\n",
              "      <td>126.511657</td>\n",
              "    </tr>\n",
              "  </tbody>\n",
              "</table>\n",
              "</div>\n",
              "      <button class=\"colab-df-convert\" onclick=\"convertToInteractive('df-dc4da9b5-6cb7-4cd9-8b23-7acef18bea29')\"\n",
              "              title=\"Convert this dataframe to an interactive table.\"\n",
              "              style=\"display:none;\">\n",
              "        \n",
              "  <svg xmlns=\"http://www.w3.org/2000/svg\" height=\"24px\"viewBox=\"0 0 24 24\"\n",
              "       width=\"24px\">\n",
              "    <path d=\"M0 0h24v24H0V0z\" fill=\"none\"/>\n",
              "    <path d=\"M18.56 5.44l.94 2.06.94-2.06 2.06-.94-2.06-.94-.94-2.06-.94 2.06-2.06.94zm-11 1L8.5 8.5l.94-2.06 2.06-.94-2.06-.94L8.5 2.5l-.94 2.06-2.06.94zm10 10l.94 2.06.94-2.06 2.06-.94-2.06-.94-.94-2.06-.94 2.06-2.06.94z\"/><path d=\"M17.41 7.96l-1.37-1.37c-.4-.4-.92-.59-1.43-.59-.52 0-1.04.2-1.43.59L10.3 9.45l-7.72 7.72c-.78.78-.78 2.05 0 2.83L4 21.41c.39.39.9.59 1.41.59.51 0 1.02-.2 1.41-.59l7.78-7.78 2.81-2.81c.8-.78.8-2.07 0-2.86zM5.41 20L4 18.59l7.72-7.72 1.47 1.35L5.41 20z\"/>\n",
              "  </svg>\n",
              "      </button>\n",
              "      \n",
              "  <style>\n",
              "    .colab-df-container {\n",
              "      display:flex;\n",
              "      flex-wrap:wrap;\n",
              "      gap: 12px;\n",
              "    }\n",
              "\n",
              "    .colab-df-convert {\n",
              "      background-color: #E8F0FE;\n",
              "      border: none;\n",
              "      border-radius: 50%;\n",
              "      cursor: pointer;\n",
              "      display: none;\n",
              "      fill: #1967D2;\n",
              "      height: 32px;\n",
              "      padding: 0 0 0 0;\n",
              "      width: 32px;\n",
              "    }\n",
              "\n",
              "    .colab-df-convert:hover {\n",
              "      background-color: #E2EBFA;\n",
              "      box-shadow: 0px 1px 2px rgba(60, 64, 67, 0.3), 0px 1px 3px 1px rgba(60, 64, 67, 0.15);\n",
              "      fill: #174EA6;\n",
              "    }\n",
              "\n",
              "    [theme=dark] .colab-df-convert {\n",
              "      background-color: #3B4455;\n",
              "      fill: #D2E3FC;\n",
              "    }\n",
              "\n",
              "    [theme=dark] .colab-df-convert:hover {\n",
              "      background-color: #434B5C;\n",
              "      box-shadow: 0px 1px 3px 1px rgba(0, 0, 0, 0.15);\n",
              "      filter: drop-shadow(0px 1px 2px rgba(0, 0, 0, 0.3));\n",
              "      fill: #FFFFFF;\n",
              "    }\n",
              "  </style>\n",
              "\n",
              "      <script>\n",
              "        const buttonEl =\n",
              "          document.querySelector('#df-dc4da9b5-6cb7-4cd9-8b23-7acef18bea29 button.colab-df-convert');\n",
              "        buttonEl.style.display =\n",
              "          google.colab.kernel.accessAllowed ? 'block' : 'none';\n",
              "\n",
              "        async function convertToInteractive(key) {\n",
              "          const element = document.querySelector('#df-dc4da9b5-6cb7-4cd9-8b23-7acef18bea29');\n",
              "          const dataTable =\n",
              "            await google.colab.kernel.invokeFunction('convertToInteractive',\n",
              "                                                     [key], {});\n",
              "          if (!dataTable) return;\n",
              "\n",
              "          const docLinkHtml = 'Like what you see? Visit the ' +\n",
              "            '<a target=\"_blank\" href=https://colab.research.google.com/notebooks/data_table.ipynb>data table notebook</a>'\n",
              "            + ' to learn more about interactive tables.';\n",
              "          element.innerHTML = '';\n",
              "          dataTable['output_type'] = 'display_data';\n",
              "          await google.colab.output.renderOutput(dataTable, element);\n",
              "          const docLink = document.createElement('div');\n",
              "          docLink.innerHTML = docLinkHtml;\n",
              "          element.appendChild(docLink);\n",
              "        }\n",
              "      </script>\n",
              "    </div>\n",
              "  </div>\n",
              "  "
            ]
          },
          "metadata": {},
          "execution_count": 131
        }
      ]
    },
    {
      "cell_type": "code",
      "source": [
        "# 지도 관련 라이브러리\n",
        "!pip install folium"
      ],
      "metadata": {
        "id": "N9YsfHoGA3Lm"
      },
      "execution_count": null,
      "outputs": []
    },
    {
      "cell_type": "code",
      "source": [
        "import folium"
      ],
      "metadata": {
        "id": "OdGkjE85GTuv"
      },
      "execution_count": 133,
      "outputs": []
    },
    {
      "cell_type": "code",
      "source": [
        "# map_osm = folium.Map(location=[위도,경도])\n",
        "map_osm = folium.Map(location=[33.361701,126.511657], zoom_start=10)\n",
        "map_osm"
      ],
      "metadata": {
        "colab": {
          "base_uri": "https://localhost:8080/",
          "height": 519
        },
        "id": "xDgo11unGTrN",
        "outputId": "b4ebaf12-8150-48de-9982-1615399e4e4b"
      },
      "execution_count": 286,
      "outputs": [
        {
          "output_type": "execute_result",
          "data": {
            "text/plain": [
              "<folium.folium.Map at 0x7ff355db0640>"
            ],
            "text/html": [
              "<div style=\"width:100%;\"><div style=\"position:relative;width:100%;height:0;padding-bottom:60%;\"><span style=\"color:#565656\">Make this Notebook Trusted to load map: File -> Trust Notebook</span><iframe srcdoc=\"&lt;!DOCTYPE html&gt;\n",
              "&lt;html&gt;\n",
              "&lt;head&gt;\n",
              "    \n",
              "    &lt;meta http-equiv=&quot;content-type&quot; content=&quot;text/html; charset=UTF-8&quot; /&gt;\n",
              "    \n",
              "        &lt;script&gt;\n",
              "            L_NO_TOUCH = false;\n",
              "            L_DISABLE_3D = false;\n",
              "        &lt;/script&gt;\n",
              "    \n",
              "    &lt;style&gt;html, body {width: 100%;height: 100%;margin: 0;padding: 0;}&lt;/style&gt;\n",
              "    &lt;style&gt;#map {position:absolute;top:0;bottom:0;right:0;left:0;}&lt;/style&gt;\n",
              "    &lt;script src=&quot;https://cdn.jsdelivr.net/npm/leaflet@1.9.3/dist/leaflet.js&quot;&gt;&lt;/script&gt;\n",
              "    &lt;script src=&quot;https://code.jquery.com/jquery-1.12.4.min.js&quot;&gt;&lt;/script&gt;\n",
              "    &lt;script src=&quot;https://cdn.jsdelivr.net/npm/bootstrap@5.2.2/dist/js/bootstrap.bundle.min.js&quot;&gt;&lt;/script&gt;\n",
              "    &lt;script src=&quot;https://cdnjs.cloudflare.com/ajax/libs/Leaflet.awesome-markers/2.0.2/leaflet.awesome-markers.js&quot;&gt;&lt;/script&gt;\n",
              "    &lt;link rel=&quot;stylesheet&quot; href=&quot;https://cdn.jsdelivr.net/npm/leaflet@1.9.3/dist/leaflet.css&quot;/&gt;\n",
              "    &lt;link rel=&quot;stylesheet&quot; href=&quot;https://cdn.jsdelivr.net/npm/bootstrap@5.2.2/dist/css/bootstrap.min.css&quot;/&gt;\n",
              "    &lt;link rel=&quot;stylesheet&quot; href=&quot;https://netdna.bootstrapcdn.com/bootstrap/3.0.0/css/bootstrap.min.css&quot;/&gt;\n",
              "    &lt;link rel=&quot;stylesheet&quot; href=&quot;https://cdn.jsdelivr.net/npm/@fortawesome/fontawesome-free@6.2.0/css/all.min.css&quot;/&gt;\n",
              "    &lt;link rel=&quot;stylesheet&quot; href=&quot;https://cdnjs.cloudflare.com/ajax/libs/Leaflet.awesome-markers/2.0.2/leaflet.awesome-markers.css&quot;/&gt;\n",
              "    &lt;link rel=&quot;stylesheet&quot; href=&quot;https://cdn.jsdelivr.net/gh/python-visualization/folium/folium/templates/leaflet.awesome.rotate.min.css&quot;/&gt;\n",
              "    \n",
              "            &lt;meta name=&quot;viewport&quot; content=&quot;width=device-width,\n",
              "                initial-scale=1.0, maximum-scale=1.0, user-scalable=no&quot; /&gt;\n",
              "            &lt;style&gt;\n",
              "                #map_997fd00e8be672a3aacca6fac3a90512 {\n",
              "                    position: relative;\n",
              "                    width: 100.0%;\n",
              "                    height: 100.0%;\n",
              "                    left: 0.0%;\n",
              "                    top: 0.0%;\n",
              "                }\n",
              "                .leaflet-container { font-size: 1rem; }\n",
              "            &lt;/style&gt;\n",
              "        \n",
              "&lt;/head&gt;\n",
              "&lt;body&gt;\n",
              "    \n",
              "    \n",
              "            &lt;div class=&quot;folium-map&quot; id=&quot;map_997fd00e8be672a3aacca6fac3a90512&quot; &gt;&lt;/div&gt;\n",
              "        \n",
              "&lt;/body&gt;\n",
              "&lt;script&gt;\n",
              "    \n",
              "    \n",
              "            var map_997fd00e8be672a3aacca6fac3a90512 = L.map(\n",
              "                &quot;map_997fd00e8be672a3aacca6fac3a90512&quot;,\n",
              "                {\n",
              "                    center: [33.361701, 126.511657],\n",
              "                    crs: L.CRS.EPSG3857,\n",
              "                    zoom: 10,\n",
              "                    zoomControl: true,\n",
              "                    preferCanvas: false,\n",
              "                }\n",
              "            );\n",
              "\n",
              "            \n",
              "\n",
              "        \n",
              "    \n",
              "            var tile_layer_d6ffd77bbfb69df8b6d49dc8f12b121f = L.tileLayer(\n",
              "                &quot;https://{s}.tile.openstreetmap.org/{z}/{x}/{y}.png&quot;,\n",
              "                {&quot;attribution&quot;: &quot;Data by \\u0026copy; \\u003ca target=\\&quot;_blank\\&quot; href=\\&quot;http://openstreetmap.org\\&quot;\\u003eOpenStreetMap\\u003c/a\\u003e, under \\u003ca target=\\&quot;_blank\\&quot; href=\\&quot;http://www.openstreetmap.org/copyright\\&quot;\\u003eODbL\\u003c/a\\u003e.&quot;, &quot;detectRetina&quot;: false, &quot;maxNativeZoom&quot;: 18, &quot;maxZoom&quot;: 18, &quot;minZoom&quot;: 0, &quot;noWrap&quot;: false, &quot;opacity&quot;: 1, &quot;subdomains&quot;: &quot;abc&quot;, &quot;tms&quot;: false}\n",
              "            ).addTo(map_997fd00e8be672a3aacca6fac3a90512);\n",
              "        \n",
              "&lt;/script&gt;\n",
              "&lt;/html&gt;\" style=\"position:absolute;width:100%;height:100%;left:0;top:0;border:none !important;\" allowfullscreen webkitallowfullscreen mozallowfullscreen></iframe></div></div>"
            ]
          },
          "metadata": {},
          "execution_count": 286
        }
      ]
    },
    {
      "cell_type": "code",
      "source": [
        "# 지도 위에 해당하는 지역의 확진자수를 표시\n",
        "from folium.plugins import MarkerCluster\n",
        "\n",
        "# 마커 클러스터 사용을 위한 선언\n",
        "marker_cluster = MarkerCluster().add_to(map_osm)\n",
        "\n",
        "# folium.Marker([위도,경도], popup=, icon = folium.Icon(color='red',icon='start')).add_to(marker_cluster)\n",
        "jeju = [33.361701,126.511657]\n",
        "#folium.Marker(jeju, popup=jeju, icon=folium.Icon(color='red', icon='star')).add_to(marker_cluster)\n",
        "\n",
        "map_osm"
      ],
      "metadata": {
        "colab": {
          "base_uri": "https://localhost:8080/",
          "height": 519
        },
        "id": "pSTw_zNXGTo4",
        "outputId": "a18fd53d-45ce-469a-c381-c1e8a2454161"
      },
      "execution_count": 288,
      "outputs": [
        {
          "output_type": "execute_result",
          "data": {
            "text/plain": [
              "<folium.folium.Map at 0x7ff355db0640>"
            ],
            "text/html": [
              "<div style=\"width:100%;\"><div style=\"position:relative;width:100%;height:0;padding-bottom:60%;\"><span style=\"color:#565656\">Make this Notebook Trusted to load map: File -> Trust Notebook</span><iframe srcdoc=\"&lt;!DOCTYPE html&gt;\n",
              "&lt;html&gt;\n",
              "&lt;head&gt;\n",
              "    \n",
              "    &lt;meta http-equiv=&quot;content-type&quot; content=&quot;text/html; charset=UTF-8&quot; /&gt;\n",
              "    \n",
              "        &lt;script&gt;\n",
              "            L_NO_TOUCH = false;\n",
              "            L_DISABLE_3D = false;\n",
              "        &lt;/script&gt;\n",
              "    \n",
              "    &lt;style&gt;html, body {width: 100%;height: 100%;margin: 0;padding: 0;}&lt;/style&gt;\n",
              "    &lt;style&gt;#map {position:absolute;top:0;bottom:0;right:0;left:0;}&lt;/style&gt;\n",
              "    &lt;script src=&quot;https://cdn.jsdelivr.net/npm/leaflet@1.9.3/dist/leaflet.js&quot;&gt;&lt;/script&gt;\n",
              "    &lt;script src=&quot;https://code.jquery.com/jquery-1.12.4.min.js&quot;&gt;&lt;/script&gt;\n",
              "    &lt;script src=&quot;https://cdn.jsdelivr.net/npm/bootstrap@5.2.2/dist/js/bootstrap.bundle.min.js&quot;&gt;&lt;/script&gt;\n",
              "    &lt;script src=&quot;https://cdnjs.cloudflare.com/ajax/libs/Leaflet.awesome-markers/2.0.2/leaflet.awesome-markers.js&quot;&gt;&lt;/script&gt;\n",
              "    &lt;link rel=&quot;stylesheet&quot; href=&quot;https://cdn.jsdelivr.net/npm/leaflet@1.9.3/dist/leaflet.css&quot;/&gt;\n",
              "    &lt;link rel=&quot;stylesheet&quot; href=&quot;https://cdn.jsdelivr.net/npm/bootstrap@5.2.2/dist/css/bootstrap.min.css&quot;/&gt;\n",
              "    &lt;link rel=&quot;stylesheet&quot; href=&quot;https://netdna.bootstrapcdn.com/bootstrap/3.0.0/css/bootstrap.min.css&quot;/&gt;\n",
              "    &lt;link rel=&quot;stylesheet&quot; href=&quot;https://cdn.jsdelivr.net/npm/@fortawesome/fontawesome-free@6.2.0/css/all.min.css&quot;/&gt;\n",
              "    &lt;link rel=&quot;stylesheet&quot; href=&quot;https://cdnjs.cloudflare.com/ajax/libs/Leaflet.awesome-markers/2.0.2/leaflet.awesome-markers.css&quot;/&gt;\n",
              "    &lt;link rel=&quot;stylesheet&quot; href=&quot;https://cdn.jsdelivr.net/gh/python-visualization/folium/folium/templates/leaflet.awesome.rotate.min.css&quot;/&gt;\n",
              "    \n",
              "            &lt;meta name=&quot;viewport&quot; content=&quot;width=device-width,\n",
              "                initial-scale=1.0, maximum-scale=1.0, user-scalable=no&quot; /&gt;\n",
              "            &lt;style&gt;\n",
              "                #map_997fd00e8be672a3aacca6fac3a90512 {\n",
              "                    position: relative;\n",
              "                    width: 100.0%;\n",
              "                    height: 100.0%;\n",
              "                    left: 0.0%;\n",
              "                    top: 0.0%;\n",
              "                }\n",
              "                .leaflet-container { font-size: 1rem; }\n",
              "            &lt;/style&gt;\n",
              "        \n",
              "    &lt;script src=&quot;https://cdnjs.cloudflare.com/ajax/libs/leaflet.markercluster/1.1.0/leaflet.markercluster.js&quot;&gt;&lt;/script&gt;\n",
              "    &lt;link rel=&quot;stylesheet&quot; href=&quot;https://cdnjs.cloudflare.com/ajax/libs/leaflet.markercluster/1.1.0/MarkerCluster.css&quot;/&gt;\n",
              "    &lt;link rel=&quot;stylesheet&quot; href=&quot;https://cdnjs.cloudflare.com/ajax/libs/leaflet.markercluster/1.1.0/MarkerCluster.Default.css&quot;/&gt;\n",
              "&lt;/head&gt;\n",
              "&lt;body&gt;\n",
              "    \n",
              "    \n",
              "            &lt;div class=&quot;folium-map&quot; id=&quot;map_997fd00e8be672a3aacca6fac3a90512&quot; &gt;&lt;/div&gt;\n",
              "        \n",
              "&lt;/body&gt;\n",
              "&lt;script&gt;\n",
              "    \n",
              "    \n",
              "            var map_997fd00e8be672a3aacca6fac3a90512 = L.map(\n",
              "                &quot;map_997fd00e8be672a3aacca6fac3a90512&quot;,\n",
              "                {\n",
              "                    center: [33.361701, 126.511657],\n",
              "                    crs: L.CRS.EPSG3857,\n",
              "                    zoom: 10,\n",
              "                    zoomControl: true,\n",
              "                    preferCanvas: false,\n",
              "                }\n",
              "            );\n",
              "\n",
              "            \n",
              "\n",
              "        \n",
              "    \n",
              "            var tile_layer_d6ffd77bbfb69df8b6d49dc8f12b121f = L.tileLayer(\n",
              "                &quot;https://{s}.tile.openstreetmap.org/{z}/{x}/{y}.png&quot;,\n",
              "                {&quot;attribution&quot;: &quot;Data by \\u0026copy; \\u003ca target=\\&quot;_blank\\&quot; href=\\&quot;http://openstreetmap.org\\&quot;\\u003eOpenStreetMap\\u003c/a\\u003e, under \\u003ca target=\\&quot;_blank\\&quot; href=\\&quot;http://www.openstreetmap.org/copyright\\&quot;\\u003eODbL\\u003c/a\\u003e.&quot;, &quot;detectRetina&quot;: false, &quot;maxNativeZoom&quot;: 18, &quot;maxZoom&quot;: 18, &quot;minZoom&quot;: 0, &quot;noWrap&quot;: false, &quot;opacity&quot;: 1, &quot;subdomains&quot;: &quot;abc&quot;, &quot;tms&quot;: false}\n",
              "            ).addTo(map_997fd00e8be672a3aacca6fac3a90512);\n",
              "        \n",
              "    \n",
              "            var marker_cluster_20fb9a14e36e76ea735234f2836c4a42 = L.markerClusterGroup(\n",
              "                {}\n",
              "            );\n",
              "            map_997fd00e8be672a3aacca6fac3a90512.addLayer(marker_cluster_20fb9a14e36e76ea735234f2836c4a42);\n",
              "        \n",
              "&lt;/script&gt;\n",
              "&lt;/html&gt;\" style=\"position:absolute;width:100%;height:100%;left:0;top:0;border:none !important;\" allowfullscreen webkitallowfullscreen mozallowfullscreen></iframe></div></div>"
            ]
          },
          "metadata": {},
          "execution_count": 288
        }
      ]
    },
    {
      "cell_type": "code",
      "source": [
        "region.sum()"
      ],
      "metadata": {
        "id": "tOWRW7_Qt4he"
      },
      "execution_count": null,
      "outputs": []
    },
    {
      "cell_type": "code",
      "source": [
        "# 각 지역별로 마커찍기\n",
        "# 지역별 확진자 합\n",
        "\n",
        "# 지도 관련 라이브러리\n",
        "!pip install folium\n",
        "import folium\n",
        "\n",
        "# map_osm = folium.Map(location=[위도,경도])\n",
        "map_osm = folium.Map(location=[33.361701,126.511657], zoom_start=10)\n",
        "\n",
        "# 지도 위에 해당하는 지역의 확진자수를 표시\n",
        "from folium.plugins import MarkerCluster\n",
        "\n",
        "# 마커 클러스터 사용을 위한 선언\n",
        "marker_cluster = MarkerCluster().add_to(map_osm)\n",
        "\n",
        "# folium.Marker([위도,경도], popup=, icon = folium.Icon(color='red',icon='start')).add_to(marker_cluster)\n",
        "\n",
        "seoul = [37.566418, 126.977950]\n",
        "busan = [35.180152, 129.074980]\n",
        "daegu = [35.871468, 128.601757]\n",
        "incheon = [37.456445, 126.705873]\n",
        "gwangju = [35.160068, 126.851426]\n",
        "daejeon = [36.350664, 127.384819]\n",
        "ulsan = [35.539772, 129.311486]\n",
        "sejong = [36.480838, 127.289181]\n",
        "gyeonggi = [37.275221, 127.009382]\n",
        "gangwon = [37.885300, 127.729835]\n",
        "chungbuk = [36.635947, 127.491345]\n",
        "chungnam = [36.658826, 126.672849]\n",
        "jeonbuk = [35.820599, 127.108759]\n",
        "jeonnam = [34.816351, 126.462924]\n",
        "gyeongbuk = [36.574108, 128.509303]\n",
        "gyeongnam = [35.238398, 128.692371]\n",
        "jeju = [33.361701,126.511657]\n",
        "\n",
        "folium.Marker(seoul, popup=8092, icon=folium.Icon(color='red', icon='star')).add_to(marker_cluster)\n",
        "folium.Marker(busan, popup=3329, icon=folium.Icon(color='red', icon='star')).add_to(marker_cluster)\n",
        "folium.Marker(daegu, popup=182656, icon=folium.Icon(color='red', icon='star')).add_to(marker_cluster)\n",
        "folium.Marker(incheon, popup=975, icon=folium.Icon(color='red', icon='star')).add_to(marker_cluster)\n",
        "folium.Marker(gwangju, popup=522, icon=folium.Icon(color='red', icon='star')).add_to(marker_cluster)\n",
        "folium.Marker(daejeon, popup=727, icon=folium.Icon(color='red', icon='star')).add_to(marker_cluster)\n",
        "folium.Marker(ulsan, popup=963, icon=folium.Icon(color='red', icon='star')).add_to(marker_cluster)\n",
        "folium.Marker(sejong, popup=888, icon=folium.Icon(color='red', icon='star')).add_to(marker_cluster)\n",
        "folium.Marker(gyeonggi, popup=8404, icon=folium.Icon(color='red', icon='star')).add_to(marker_cluster)\n",
        "folium.Marker(gangwon, popup=906, icon=folium.Icon(color='red', icon='star')).add_to(marker_cluster)\n",
        "folium.Marker(chungbuk, popup=941, icon=folium.Icon(color='red', icon='star')).add_to(marker_cluster)\n",
        "folium.Marker(chungnam, popup=3518, icon=folium.Icon(color='red', icon='star')).add_to(marker_cluster)\n",
        "folium.Marker(jeonbuk, popup=277, icon=folium.Icon(color='red', icon='star')).add_to(marker_cluster)\n",
        "folium.Marker(jeonnam, popup=181, icon=folium.Icon(color='red', icon='star')).add_to(marker_cluster)\n",
        "folium.Marker(gyeongbuk, popup=35736, icon=folium.Icon(color='red', icon='star')).add_to(marker_cluster)\n",
        "folium.Marker(gyeongnam, popup=2692, icon=folium.Icon(color='red', icon='star')).add_to(marker_cluster)\n",
        "folium.Marker(jeju, popup=152, icon=folium.Icon(color='red', icon='star')).add_to(marker_cluster)\n",
        "\n",
        "map_osm"
      ],
      "metadata": {
        "colab": {
          "base_uri": "https://localhost:8080/",
          "height": 519
        },
        "id": "2XDXmY9PGTjZ",
        "outputId": "d23e1f2c-ee64-4f7a-b035-973cb6e4bcf9"
      },
      "execution_count": 289,
      "outputs": [
        {
          "output_type": "execute_result",
          "data": {
            "text/plain": [
              "<folium.folium.Map at 0x7ff355db0640>"
            ],
            "text/html": [
              "<div style=\"width:100%;\"><div style=\"position:relative;width:100%;height:0;padding-bottom:60%;\"><span style=\"color:#565656\">Make this Notebook Trusted to load map: File -> Trust Notebook</span><iframe srcdoc=\"&lt;!DOCTYPE html&gt;\n",
              "&lt;html&gt;\n",
              "&lt;head&gt;\n",
              "    \n",
              "    &lt;meta http-equiv=&quot;content-type&quot; content=&quot;text/html; charset=UTF-8&quot; /&gt;\n",
              "    \n",
              "        &lt;script&gt;\n",
              "            L_NO_TOUCH = false;\n",
              "            L_DISABLE_3D = false;\n",
              "        &lt;/script&gt;\n",
              "    \n",
              "    &lt;style&gt;html, body {width: 100%;height: 100%;margin: 0;padding: 0;}&lt;/style&gt;\n",
              "    &lt;style&gt;#map {position:absolute;top:0;bottom:0;right:0;left:0;}&lt;/style&gt;\n",
              "    &lt;script src=&quot;https://cdn.jsdelivr.net/npm/leaflet@1.9.3/dist/leaflet.js&quot;&gt;&lt;/script&gt;\n",
              "    &lt;script src=&quot;https://code.jquery.com/jquery-1.12.4.min.js&quot;&gt;&lt;/script&gt;\n",
              "    &lt;script src=&quot;https://cdn.jsdelivr.net/npm/bootstrap@5.2.2/dist/js/bootstrap.bundle.min.js&quot;&gt;&lt;/script&gt;\n",
              "    &lt;script src=&quot;https://cdnjs.cloudflare.com/ajax/libs/Leaflet.awesome-markers/2.0.2/leaflet.awesome-markers.js&quot;&gt;&lt;/script&gt;\n",
              "    &lt;link rel=&quot;stylesheet&quot; href=&quot;https://cdn.jsdelivr.net/npm/leaflet@1.9.3/dist/leaflet.css&quot;/&gt;\n",
              "    &lt;link rel=&quot;stylesheet&quot; href=&quot;https://cdn.jsdelivr.net/npm/bootstrap@5.2.2/dist/css/bootstrap.min.css&quot;/&gt;\n",
              "    &lt;link rel=&quot;stylesheet&quot; href=&quot;https://netdna.bootstrapcdn.com/bootstrap/3.0.0/css/bootstrap.min.css&quot;/&gt;\n",
              "    &lt;link rel=&quot;stylesheet&quot; href=&quot;https://cdn.jsdelivr.net/npm/@fortawesome/fontawesome-free@6.2.0/css/all.min.css&quot;/&gt;\n",
              "    &lt;link rel=&quot;stylesheet&quot; href=&quot;https://cdnjs.cloudflare.com/ajax/libs/Leaflet.awesome-markers/2.0.2/leaflet.awesome-markers.css&quot;/&gt;\n",
              "    &lt;link rel=&quot;stylesheet&quot; href=&quot;https://cdn.jsdelivr.net/gh/python-visualization/folium/folium/templates/leaflet.awesome.rotate.min.css&quot;/&gt;\n",
              "    \n",
              "            &lt;meta name=&quot;viewport&quot; content=&quot;width=device-width,\n",
              "                initial-scale=1.0, maximum-scale=1.0, user-scalable=no&quot; /&gt;\n",
              "            &lt;style&gt;\n",
              "                #map_997fd00e8be672a3aacca6fac3a90512 {\n",
              "                    position: relative;\n",
              "                    width: 100.0%;\n",
              "                    height: 100.0%;\n",
              "                    left: 0.0%;\n",
              "                    top: 0.0%;\n",
              "                }\n",
              "                .leaflet-container { font-size: 1rem; }\n",
              "            &lt;/style&gt;\n",
              "        \n",
              "    &lt;script src=&quot;https://cdnjs.cloudflare.com/ajax/libs/leaflet.markercluster/1.1.0/leaflet.markercluster.js&quot;&gt;&lt;/script&gt;\n",
              "    &lt;link rel=&quot;stylesheet&quot; href=&quot;https://cdnjs.cloudflare.com/ajax/libs/leaflet.markercluster/1.1.0/MarkerCluster.css&quot;/&gt;\n",
              "    &lt;link rel=&quot;stylesheet&quot; href=&quot;https://cdnjs.cloudflare.com/ajax/libs/leaflet.markercluster/1.1.0/MarkerCluster.Default.css&quot;/&gt;\n",
              "&lt;/head&gt;\n",
              "&lt;body&gt;\n",
              "    \n",
              "    \n",
              "            &lt;div class=&quot;folium-map&quot; id=&quot;map_997fd00e8be672a3aacca6fac3a90512&quot; &gt;&lt;/div&gt;\n",
              "        \n",
              "&lt;/body&gt;\n",
              "&lt;script&gt;\n",
              "    \n",
              "    \n",
              "            var map_997fd00e8be672a3aacca6fac3a90512 = L.map(\n",
              "                &quot;map_997fd00e8be672a3aacca6fac3a90512&quot;,\n",
              "                {\n",
              "                    center: [33.361701, 126.511657],\n",
              "                    crs: L.CRS.EPSG3857,\n",
              "                    zoom: 10,\n",
              "                    zoomControl: true,\n",
              "                    preferCanvas: false,\n",
              "                }\n",
              "            );\n",
              "\n",
              "            \n",
              "\n",
              "        \n",
              "    \n",
              "            var tile_layer_d6ffd77bbfb69df8b6d49dc8f12b121f = L.tileLayer(\n",
              "                &quot;https://{s}.tile.openstreetmap.org/{z}/{x}/{y}.png&quot;,\n",
              "                {&quot;attribution&quot;: &quot;Data by \\u0026copy; \\u003ca target=\\&quot;_blank\\&quot; href=\\&quot;http://openstreetmap.org\\&quot;\\u003eOpenStreetMap\\u003c/a\\u003e, under \\u003ca target=\\&quot;_blank\\&quot; href=\\&quot;http://www.openstreetmap.org/copyright\\&quot;\\u003eODbL\\u003c/a\\u003e.&quot;, &quot;detectRetina&quot;: false, &quot;maxNativeZoom&quot;: 18, &quot;maxZoom&quot;: 18, &quot;minZoom&quot;: 0, &quot;noWrap&quot;: false, &quot;opacity&quot;: 1, &quot;subdomains&quot;: &quot;abc&quot;, &quot;tms&quot;: false}\n",
              "            ).addTo(map_997fd00e8be672a3aacca6fac3a90512);\n",
              "        \n",
              "    \n",
              "            var marker_cluster_20fb9a14e36e76ea735234f2836c4a42 = L.markerClusterGroup(\n",
              "                {}\n",
              "            );\n",
              "            map_997fd00e8be672a3aacca6fac3a90512.addLayer(marker_cluster_20fb9a14e36e76ea735234f2836c4a42);\n",
              "        \n",
              "    \n",
              "            var marker_3a3d3a99b9014a7ec78781a0615f6633 = L.marker(\n",
              "                [37.566418, 126.97795],\n",
              "                {}\n",
              "            ).addTo(marker_cluster_20fb9a14e36e76ea735234f2836c4a42);\n",
              "        \n",
              "    \n",
              "            var icon_ec2c6a20a262a1a364580b097333d210 = L.AwesomeMarkers.icon(\n",
              "                {&quot;extraClasses&quot;: &quot;fa-rotate-0&quot;, &quot;icon&quot;: &quot;star&quot;, &quot;iconColor&quot;: &quot;white&quot;, &quot;markerColor&quot;: &quot;red&quot;, &quot;prefix&quot;: &quot;glyphicon&quot;}\n",
              "            );\n",
              "            marker_3a3d3a99b9014a7ec78781a0615f6633.setIcon(icon_ec2c6a20a262a1a364580b097333d210);\n",
              "        \n",
              "    \n",
              "        var popup_9273878e19ecd93e8594bb4d9d3c29ca = L.popup({&quot;maxWidth&quot;: &quot;100%&quot;});\n",
              "\n",
              "        \n",
              "            \n",
              "                var html_8d5355d66604792eac43ec55a38fc1c2 = $(`&lt;div id=&quot;html_8d5355d66604792eac43ec55a38fc1c2&quot; style=&quot;width: 100.0%; height: 100.0%;&quot;&gt;8092&lt;/div&gt;`)[0];\n",
              "                popup_9273878e19ecd93e8594bb4d9d3c29ca.setContent(html_8d5355d66604792eac43ec55a38fc1c2);\n",
              "            \n",
              "        \n",
              "\n",
              "        marker_3a3d3a99b9014a7ec78781a0615f6633.bindPopup(popup_9273878e19ecd93e8594bb4d9d3c29ca)\n",
              "        ;\n",
              "\n",
              "        \n",
              "    \n",
              "    \n",
              "            var marker_a1999295bddff92a587ef6be31d56477 = L.marker(\n",
              "                [35.180152, 129.07498],\n",
              "                {}\n",
              "            ).addTo(marker_cluster_20fb9a14e36e76ea735234f2836c4a42);\n",
              "        \n",
              "    \n",
              "            var icon_2cdd99b524ffd94aa8e01deab199144b = L.AwesomeMarkers.icon(\n",
              "                {&quot;extraClasses&quot;: &quot;fa-rotate-0&quot;, &quot;icon&quot;: &quot;star&quot;, &quot;iconColor&quot;: &quot;white&quot;, &quot;markerColor&quot;: &quot;red&quot;, &quot;prefix&quot;: &quot;glyphicon&quot;}\n",
              "            );\n",
              "            marker_a1999295bddff92a587ef6be31d56477.setIcon(icon_2cdd99b524ffd94aa8e01deab199144b);\n",
              "        \n",
              "    \n",
              "        var popup_5865acb7abb72fdeb704e0b0bb832695 = L.popup({&quot;maxWidth&quot;: &quot;100%&quot;});\n",
              "\n",
              "        \n",
              "            \n",
              "                var html_05b6e7f48d08408e7b50ebd96a8dffc7 = $(`&lt;div id=&quot;html_05b6e7f48d08408e7b50ebd96a8dffc7&quot; style=&quot;width: 100.0%; height: 100.0%;&quot;&gt;3329&lt;/div&gt;`)[0];\n",
              "                popup_5865acb7abb72fdeb704e0b0bb832695.setContent(html_05b6e7f48d08408e7b50ebd96a8dffc7);\n",
              "            \n",
              "        \n",
              "\n",
              "        marker_a1999295bddff92a587ef6be31d56477.bindPopup(popup_5865acb7abb72fdeb704e0b0bb832695)\n",
              "        ;\n",
              "\n",
              "        \n",
              "    \n",
              "    \n",
              "            var marker_75401e222dc70cfab7a025df5abd8671 = L.marker(\n",
              "                [35.871468, 128.601757],\n",
              "                {}\n",
              "            ).addTo(marker_cluster_20fb9a14e36e76ea735234f2836c4a42);\n",
              "        \n",
              "    \n",
              "            var icon_f0ec3bfce6f808b7fbbb1943169dbd3f = L.AwesomeMarkers.icon(\n",
              "                {&quot;extraClasses&quot;: &quot;fa-rotate-0&quot;, &quot;icon&quot;: &quot;star&quot;, &quot;iconColor&quot;: &quot;white&quot;, &quot;markerColor&quot;: &quot;red&quot;, &quot;prefix&quot;: &quot;glyphicon&quot;}\n",
              "            );\n",
              "            marker_75401e222dc70cfab7a025df5abd8671.setIcon(icon_f0ec3bfce6f808b7fbbb1943169dbd3f);\n",
              "        \n",
              "    \n",
              "        var popup_0252cb09774adcdb7886d9aa1437dffb = L.popup({&quot;maxWidth&quot;: &quot;100%&quot;});\n",
              "\n",
              "        \n",
              "            \n",
              "                var html_88e724ed42ee21bf8033aad2fec99416 = $(`&lt;div id=&quot;html_88e724ed42ee21bf8033aad2fec99416&quot; style=&quot;width: 100.0%; height: 100.0%;&quot;&gt;182656&lt;/div&gt;`)[0];\n",
              "                popup_0252cb09774adcdb7886d9aa1437dffb.setContent(html_88e724ed42ee21bf8033aad2fec99416);\n",
              "            \n",
              "        \n",
              "\n",
              "        marker_75401e222dc70cfab7a025df5abd8671.bindPopup(popup_0252cb09774adcdb7886d9aa1437dffb)\n",
              "        ;\n",
              "\n",
              "        \n",
              "    \n",
              "    \n",
              "            var marker_6ae0e69b0e69445db2582084659ecbaa = L.marker(\n",
              "                [37.456445, 126.705873],\n",
              "                {}\n",
              "            ).addTo(marker_cluster_20fb9a14e36e76ea735234f2836c4a42);\n",
              "        \n",
              "    \n",
              "            var icon_c0fa10375061132dfc7e25225414b5ab = L.AwesomeMarkers.icon(\n",
              "                {&quot;extraClasses&quot;: &quot;fa-rotate-0&quot;, &quot;icon&quot;: &quot;star&quot;, &quot;iconColor&quot;: &quot;white&quot;, &quot;markerColor&quot;: &quot;red&quot;, &quot;prefix&quot;: &quot;glyphicon&quot;}\n",
              "            );\n",
              "            marker_6ae0e69b0e69445db2582084659ecbaa.setIcon(icon_c0fa10375061132dfc7e25225414b5ab);\n",
              "        \n",
              "    \n",
              "        var popup_4483a31a7b853bef523289e443158529 = L.popup({&quot;maxWidth&quot;: &quot;100%&quot;});\n",
              "\n",
              "        \n",
              "            \n",
              "                var html_09b6d6be3f983a940978ec590912be5d = $(`&lt;div id=&quot;html_09b6d6be3f983a940978ec590912be5d&quot; style=&quot;width: 100.0%; height: 100.0%;&quot;&gt;975&lt;/div&gt;`)[0];\n",
              "                popup_4483a31a7b853bef523289e443158529.setContent(html_09b6d6be3f983a940978ec590912be5d);\n",
              "            \n",
              "        \n",
              "\n",
              "        marker_6ae0e69b0e69445db2582084659ecbaa.bindPopup(popup_4483a31a7b853bef523289e443158529)\n",
              "        ;\n",
              "\n",
              "        \n",
              "    \n",
              "    \n",
              "            var marker_811ce2e2d1beffd7d0af95c62ce32d8c = L.marker(\n",
              "                [35.160068, 126.851426],\n",
              "                {}\n",
              "            ).addTo(marker_cluster_20fb9a14e36e76ea735234f2836c4a42);\n",
              "        \n",
              "    \n",
              "            var icon_fd7d1018c49f8b4b9c00f613c327d1b1 = L.AwesomeMarkers.icon(\n",
              "                {&quot;extraClasses&quot;: &quot;fa-rotate-0&quot;, &quot;icon&quot;: &quot;star&quot;, &quot;iconColor&quot;: &quot;white&quot;, &quot;markerColor&quot;: &quot;red&quot;, &quot;prefix&quot;: &quot;glyphicon&quot;}\n",
              "            );\n",
              "            marker_811ce2e2d1beffd7d0af95c62ce32d8c.setIcon(icon_fd7d1018c49f8b4b9c00f613c327d1b1);\n",
              "        \n",
              "    \n",
              "        var popup_3df4dbd9a66e6ee1370b7af31d93591c = L.popup({&quot;maxWidth&quot;: &quot;100%&quot;});\n",
              "\n",
              "        \n",
              "            \n",
              "                var html_29fe852f692673691d92cad43e8a0a60 = $(`&lt;div id=&quot;html_29fe852f692673691d92cad43e8a0a60&quot; style=&quot;width: 100.0%; height: 100.0%;&quot;&gt;522&lt;/div&gt;`)[0];\n",
              "                popup_3df4dbd9a66e6ee1370b7af31d93591c.setContent(html_29fe852f692673691d92cad43e8a0a60);\n",
              "            \n",
              "        \n",
              "\n",
              "        marker_811ce2e2d1beffd7d0af95c62ce32d8c.bindPopup(popup_3df4dbd9a66e6ee1370b7af31d93591c)\n",
              "        ;\n",
              "\n",
              "        \n",
              "    \n",
              "    \n",
              "            var marker_72361ff554b31473829d583649ad2316 = L.marker(\n",
              "                [36.350664, 127.384819],\n",
              "                {}\n",
              "            ).addTo(marker_cluster_20fb9a14e36e76ea735234f2836c4a42);\n",
              "        \n",
              "    \n",
              "            var icon_1ca6b3102d1edb13250949265ad8c69e = L.AwesomeMarkers.icon(\n",
              "                {&quot;extraClasses&quot;: &quot;fa-rotate-0&quot;, &quot;icon&quot;: &quot;star&quot;, &quot;iconColor&quot;: &quot;white&quot;, &quot;markerColor&quot;: &quot;red&quot;, &quot;prefix&quot;: &quot;glyphicon&quot;}\n",
              "            );\n",
              "            marker_72361ff554b31473829d583649ad2316.setIcon(icon_1ca6b3102d1edb13250949265ad8c69e);\n",
              "        \n",
              "    \n",
              "        var popup_6715751c600ccd3eaae5e6c18ef284fd = L.popup({&quot;maxWidth&quot;: &quot;100%&quot;});\n",
              "\n",
              "        \n",
              "            \n",
              "                var html_2eab5925b7e185588ea81a938b0cc9dc = $(`&lt;div id=&quot;html_2eab5925b7e185588ea81a938b0cc9dc&quot; style=&quot;width: 100.0%; height: 100.0%;&quot;&gt;727&lt;/div&gt;`)[0];\n",
              "                popup_6715751c600ccd3eaae5e6c18ef284fd.setContent(html_2eab5925b7e185588ea81a938b0cc9dc);\n",
              "            \n",
              "        \n",
              "\n",
              "        marker_72361ff554b31473829d583649ad2316.bindPopup(popup_6715751c600ccd3eaae5e6c18ef284fd)\n",
              "        ;\n",
              "\n",
              "        \n",
              "    \n",
              "    \n",
              "            var marker_358e97576dad26dd50d9af13fba07987 = L.marker(\n",
              "                [35.539772, 129.311486],\n",
              "                {}\n",
              "            ).addTo(marker_cluster_20fb9a14e36e76ea735234f2836c4a42);\n",
              "        \n",
              "    \n",
              "            var icon_b614cc47352c023f5a2edd029f30b74d = L.AwesomeMarkers.icon(\n",
              "                {&quot;extraClasses&quot;: &quot;fa-rotate-0&quot;, &quot;icon&quot;: &quot;star&quot;, &quot;iconColor&quot;: &quot;white&quot;, &quot;markerColor&quot;: &quot;red&quot;, &quot;prefix&quot;: &quot;glyphicon&quot;}\n",
              "            );\n",
              "            marker_358e97576dad26dd50d9af13fba07987.setIcon(icon_b614cc47352c023f5a2edd029f30b74d);\n",
              "        \n",
              "    \n",
              "        var popup_b4a37c8c7542339fc12e3aa7260c43c5 = L.popup({&quot;maxWidth&quot;: &quot;100%&quot;});\n",
              "\n",
              "        \n",
              "            \n",
              "                var html_01b6d535d4a2184b72f0ccdb37f574a6 = $(`&lt;div id=&quot;html_01b6d535d4a2184b72f0ccdb37f574a6&quot; style=&quot;width: 100.0%; height: 100.0%;&quot;&gt;963&lt;/div&gt;`)[0];\n",
              "                popup_b4a37c8c7542339fc12e3aa7260c43c5.setContent(html_01b6d535d4a2184b72f0ccdb37f574a6);\n",
              "            \n",
              "        \n",
              "\n",
              "        marker_358e97576dad26dd50d9af13fba07987.bindPopup(popup_b4a37c8c7542339fc12e3aa7260c43c5)\n",
              "        ;\n",
              "\n",
              "        \n",
              "    \n",
              "    \n",
              "            var marker_7377ea0d716076fe6fc38dabe5765101 = L.marker(\n",
              "                [36.480838, 127.289181],\n",
              "                {}\n",
              "            ).addTo(marker_cluster_20fb9a14e36e76ea735234f2836c4a42);\n",
              "        \n",
              "    \n",
              "            var icon_250872f8119d69427352a62d47ff1621 = L.AwesomeMarkers.icon(\n",
              "                {&quot;extraClasses&quot;: &quot;fa-rotate-0&quot;, &quot;icon&quot;: &quot;star&quot;, &quot;iconColor&quot;: &quot;white&quot;, &quot;markerColor&quot;: &quot;red&quot;, &quot;prefix&quot;: &quot;glyphicon&quot;}\n",
              "            );\n",
              "            marker_7377ea0d716076fe6fc38dabe5765101.setIcon(icon_250872f8119d69427352a62d47ff1621);\n",
              "        \n",
              "    \n",
              "        var popup_b4507849c258610af109a4077ba02262 = L.popup({&quot;maxWidth&quot;: &quot;100%&quot;});\n",
              "\n",
              "        \n",
              "            \n",
              "                var html_54bd4af95eb6c0a718359446c8b945e1 = $(`&lt;div id=&quot;html_54bd4af95eb6c0a718359446c8b945e1&quot; style=&quot;width: 100.0%; height: 100.0%;&quot;&gt;888&lt;/div&gt;`)[0];\n",
              "                popup_b4507849c258610af109a4077ba02262.setContent(html_54bd4af95eb6c0a718359446c8b945e1);\n",
              "            \n",
              "        \n",
              "\n",
              "        marker_7377ea0d716076fe6fc38dabe5765101.bindPopup(popup_b4507849c258610af109a4077ba02262)\n",
              "        ;\n",
              "\n",
              "        \n",
              "    \n",
              "    \n",
              "            var marker_86671046157374beb9ff2ab64aaa7140 = L.marker(\n",
              "                [37.275221, 127.009382],\n",
              "                {}\n",
              "            ).addTo(marker_cluster_20fb9a14e36e76ea735234f2836c4a42);\n",
              "        \n",
              "    \n",
              "            var icon_9bcc92815fe27656f17ba3d8b74b8ffd = L.AwesomeMarkers.icon(\n",
              "                {&quot;extraClasses&quot;: &quot;fa-rotate-0&quot;, &quot;icon&quot;: &quot;star&quot;, &quot;iconColor&quot;: &quot;white&quot;, &quot;markerColor&quot;: &quot;red&quot;, &quot;prefix&quot;: &quot;glyphicon&quot;}\n",
              "            );\n",
              "            marker_86671046157374beb9ff2ab64aaa7140.setIcon(icon_9bcc92815fe27656f17ba3d8b74b8ffd);\n",
              "        \n",
              "    \n",
              "        var popup_42b0080b97eab6e53487e7616ff5e89b = L.popup({&quot;maxWidth&quot;: &quot;100%&quot;});\n",
              "\n",
              "        \n",
              "            \n",
              "                var html_ed70e182be897227c91fd098bad45a40 = $(`&lt;div id=&quot;html_ed70e182be897227c91fd098bad45a40&quot; style=&quot;width: 100.0%; height: 100.0%;&quot;&gt;8404&lt;/div&gt;`)[0];\n",
              "                popup_42b0080b97eab6e53487e7616ff5e89b.setContent(html_ed70e182be897227c91fd098bad45a40);\n",
              "            \n",
              "        \n",
              "\n",
              "        marker_86671046157374beb9ff2ab64aaa7140.bindPopup(popup_42b0080b97eab6e53487e7616ff5e89b)\n",
              "        ;\n",
              "\n",
              "        \n",
              "    \n",
              "    \n",
              "            var marker_7ef926666ea35aff0d4c303fadd372ee = L.marker(\n",
              "                [37.8853, 127.729835],\n",
              "                {}\n",
              "            ).addTo(marker_cluster_20fb9a14e36e76ea735234f2836c4a42);\n",
              "        \n",
              "    \n",
              "            var icon_4322d734f53da793ddcd17b1a9cd64ce = L.AwesomeMarkers.icon(\n",
              "                {&quot;extraClasses&quot;: &quot;fa-rotate-0&quot;, &quot;icon&quot;: &quot;star&quot;, &quot;iconColor&quot;: &quot;white&quot;, &quot;markerColor&quot;: &quot;red&quot;, &quot;prefix&quot;: &quot;glyphicon&quot;}\n",
              "            );\n",
              "            marker_7ef926666ea35aff0d4c303fadd372ee.setIcon(icon_4322d734f53da793ddcd17b1a9cd64ce);\n",
              "        \n",
              "    \n",
              "        var popup_82b9ae3bae2e9c56ae0b3396a3eedd84 = L.popup({&quot;maxWidth&quot;: &quot;100%&quot;});\n",
              "\n",
              "        \n",
              "            \n",
              "                var html_3dcda1514578392eed2359bc2e9cd80c = $(`&lt;div id=&quot;html_3dcda1514578392eed2359bc2e9cd80c&quot; style=&quot;width: 100.0%; height: 100.0%;&quot;&gt;906&lt;/div&gt;`)[0];\n",
              "                popup_82b9ae3bae2e9c56ae0b3396a3eedd84.setContent(html_3dcda1514578392eed2359bc2e9cd80c);\n",
              "            \n",
              "        \n",
              "\n",
              "        marker_7ef926666ea35aff0d4c303fadd372ee.bindPopup(popup_82b9ae3bae2e9c56ae0b3396a3eedd84)\n",
              "        ;\n",
              "\n",
              "        \n",
              "    \n",
              "    \n",
              "            var marker_684c859191036852773a581a0244ed9f = L.marker(\n",
              "                [36.635947, 127.491345],\n",
              "                {}\n",
              "            ).addTo(marker_cluster_20fb9a14e36e76ea735234f2836c4a42);\n",
              "        \n",
              "    \n",
              "            var icon_5ae8670195ad18145bd88e3442faa90d = L.AwesomeMarkers.icon(\n",
              "                {&quot;extraClasses&quot;: &quot;fa-rotate-0&quot;, &quot;icon&quot;: &quot;star&quot;, &quot;iconColor&quot;: &quot;white&quot;, &quot;markerColor&quot;: &quot;red&quot;, &quot;prefix&quot;: &quot;glyphicon&quot;}\n",
              "            );\n",
              "            marker_684c859191036852773a581a0244ed9f.setIcon(icon_5ae8670195ad18145bd88e3442faa90d);\n",
              "        \n",
              "    \n",
              "        var popup_3af53d67165c00be6d215069eb426e7c = L.popup({&quot;maxWidth&quot;: &quot;100%&quot;});\n",
              "\n",
              "        \n",
              "            \n",
              "                var html_6c96066ac6a0c86c5c6d7cc718c915cc = $(`&lt;div id=&quot;html_6c96066ac6a0c86c5c6d7cc718c915cc&quot; style=&quot;width: 100.0%; height: 100.0%;&quot;&gt;941&lt;/div&gt;`)[0];\n",
              "                popup_3af53d67165c00be6d215069eb426e7c.setContent(html_6c96066ac6a0c86c5c6d7cc718c915cc);\n",
              "            \n",
              "        \n",
              "\n",
              "        marker_684c859191036852773a581a0244ed9f.bindPopup(popup_3af53d67165c00be6d215069eb426e7c)\n",
              "        ;\n",
              "\n",
              "        \n",
              "    \n",
              "    \n",
              "            var marker_55920139107bf8a91c1aa79424496a85 = L.marker(\n",
              "                [36.658826, 126.672849],\n",
              "                {}\n",
              "            ).addTo(marker_cluster_20fb9a14e36e76ea735234f2836c4a42);\n",
              "        \n",
              "    \n",
              "            var icon_cb48ac381c5c55bf70f23a7db9c6919d = L.AwesomeMarkers.icon(\n",
              "                {&quot;extraClasses&quot;: &quot;fa-rotate-0&quot;, &quot;icon&quot;: &quot;star&quot;, &quot;iconColor&quot;: &quot;white&quot;, &quot;markerColor&quot;: &quot;red&quot;, &quot;prefix&quot;: &quot;glyphicon&quot;}\n",
              "            );\n",
              "            marker_55920139107bf8a91c1aa79424496a85.setIcon(icon_cb48ac381c5c55bf70f23a7db9c6919d);\n",
              "        \n",
              "    \n",
              "        var popup_3714f50c4a5cdfcd9667aeba155859e2 = L.popup({&quot;maxWidth&quot;: &quot;100%&quot;});\n",
              "\n",
              "        \n",
              "            \n",
              "                var html_1dd37ecd60b334e71a2792774f5644bc = $(`&lt;div id=&quot;html_1dd37ecd60b334e71a2792774f5644bc&quot; style=&quot;width: 100.0%; height: 100.0%;&quot;&gt;3518&lt;/div&gt;`)[0];\n",
              "                popup_3714f50c4a5cdfcd9667aeba155859e2.setContent(html_1dd37ecd60b334e71a2792774f5644bc);\n",
              "            \n",
              "        \n",
              "\n",
              "        marker_55920139107bf8a91c1aa79424496a85.bindPopup(popup_3714f50c4a5cdfcd9667aeba155859e2)\n",
              "        ;\n",
              "\n",
              "        \n",
              "    \n",
              "    \n",
              "            var marker_5ec81c47a3c7a7071bfd82cdabc92a7b = L.marker(\n",
              "                [35.820599, 127.108759],\n",
              "                {}\n",
              "            ).addTo(marker_cluster_20fb9a14e36e76ea735234f2836c4a42);\n",
              "        \n",
              "    \n",
              "            var icon_dbdbedf3cc90b5b6c71f79c56ac84e1f = L.AwesomeMarkers.icon(\n",
              "                {&quot;extraClasses&quot;: &quot;fa-rotate-0&quot;, &quot;icon&quot;: &quot;star&quot;, &quot;iconColor&quot;: &quot;white&quot;, &quot;markerColor&quot;: &quot;red&quot;, &quot;prefix&quot;: &quot;glyphicon&quot;}\n",
              "            );\n",
              "            marker_5ec81c47a3c7a7071bfd82cdabc92a7b.setIcon(icon_dbdbedf3cc90b5b6c71f79c56ac84e1f);\n",
              "        \n",
              "    \n",
              "        var popup_f3dcab41726363234ab09041462ed709 = L.popup({&quot;maxWidth&quot;: &quot;100%&quot;});\n",
              "\n",
              "        \n",
              "            \n",
              "                var html_a6c824e6605fd2a00ac06cb936f0914d = $(`&lt;div id=&quot;html_a6c824e6605fd2a00ac06cb936f0914d&quot; style=&quot;width: 100.0%; height: 100.0%;&quot;&gt;277&lt;/div&gt;`)[0];\n",
              "                popup_f3dcab41726363234ab09041462ed709.setContent(html_a6c824e6605fd2a00ac06cb936f0914d);\n",
              "            \n",
              "        \n",
              "\n",
              "        marker_5ec81c47a3c7a7071bfd82cdabc92a7b.bindPopup(popup_f3dcab41726363234ab09041462ed709)\n",
              "        ;\n",
              "\n",
              "        \n",
              "    \n",
              "    \n",
              "            var marker_535e4920a770bd23441c9ad0aeb72783 = L.marker(\n",
              "                [34.816351, 126.462924],\n",
              "                {}\n",
              "            ).addTo(marker_cluster_20fb9a14e36e76ea735234f2836c4a42);\n",
              "        \n",
              "    \n",
              "            var icon_25052067fdfa64dc524d6c14e9d304b8 = L.AwesomeMarkers.icon(\n",
              "                {&quot;extraClasses&quot;: &quot;fa-rotate-0&quot;, &quot;icon&quot;: &quot;star&quot;, &quot;iconColor&quot;: &quot;white&quot;, &quot;markerColor&quot;: &quot;red&quot;, &quot;prefix&quot;: &quot;glyphicon&quot;}\n",
              "            );\n",
              "            marker_535e4920a770bd23441c9ad0aeb72783.setIcon(icon_25052067fdfa64dc524d6c14e9d304b8);\n",
              "        \n",
              "    \n",
              "        var popup_7cedbf4952506a8afc0232bbfdd1b7da = L.popup({&quot;maxWidth&quot;: &quot;100%&quot;});\n",
              "\n",
              "        \n",
              "            \n",
              "                var html_ae91f384fa7ed2ffeef46a012efae02b = $(`&lt;div id=&quot;html_ae91f384fa7ed2ffeef46a012efae02b&quot; style=&quot;width: 100.0%; height: 100.0%;&quot;&gt;181&lt;/div&gt;`)[0];\n",
              "                popup_7cedbf4952506a8afc0232bbfdd1b7da.setContent(html_ae91f384fa7ed2ffeef46a012efae02b);\n",
              "            \n",
              "        \n",
              "\n",
              "        marker_535e4920a770bd23441c9ad0aeb72783.bindPopup(popup_7cedbf4952506a8afc0232bbfdd1b7da)\n",
              "        ;\n",
              "\n",
              "        \n",
              "    \n",
              "    \n",
              "            var marker_042aec438a1e91a9c31879465cb4e548 = L.marker(\n",
              "                [36.574108, 128.509303],\n",
              "                {}\n",
              "            ).addTo(marker_cluster_20fb9a14e36e76ea735234f2836c4a42);\n",
              "        \n",
              "    \n",
              "            var icon_4309b3af27648dbd10db4ac694bc081e = L.AwesomeMarkers.icon(\n",
              "                {&quot;extraClasses&quot;: &quot;fa-rotate-0&quot;, &quot;icon&quot;: &quot;star&quot;, &quot;iconColor&quot;: &quot;white&quot;, &quot;markerColor&quot;: &quot;red&quot;, &quot;prefix&quot;: &quot;glyphicon&quot;}\n",
              "            );\n",
              "            marker_042aec438a1e91a9c31879465cb4e548.setIcon(icon_4309b3af27648dbd10db4ac694bc081e);\n",
              "        \n",
              "    \n",
              "        var popup_d458408e3c4886a3be2868bcb2c9ac08 = L.popup({&quot;maxWidth&quot;: &quot;100%&quot;});\n",
              "\n",
              "        \n",
              "            \n",
              "                var html_f2a2eb22a23b986d7abfd9dc401c7ef7 = $(`&lt;div id=&quot;html_f2a2eb22a23b986d7abfd9dc401c7ef7&quot; style=&quot;width: 100.0%; height: 100.0%;&quot;&gt;35736&lt;/div&gt;`)[0];\n",
              "                popup_d458408e3c4886a3be2868bcb2c9ac08.setContent(html_f2a2eb22a23b986d7abfd9dc401c7ef7);\n",
              "            \n",
              "        \n",
              "\n",
              "        marker_042aec438a1e91a9c31879465cb4e548.bindPopup(popup_d458408e3c4886a3be2868bcb2c9ac08)\n",
              "        ;\n",
              "\n",
              "        \n",
              "    \n",
              "    \n",
              "            var marker_0a45fccf54c85e3470efffad34586668 = L.marker(\n",
              "                [35.238398, 128.692371],\n",
              "                {}\n",
              "            ).addTo(marker_cluster_20fb9a14e36e76ea735234f2836c4a42);\n",
              "        \n",
              "    \n",
              "            var icon_10fd951f3310da6b47295bffc9def80b = L.AwesomeMarkers.icon(\n",
              "                {&quot;extraClasses&quot;: &quot;fa-rotate-0&quot;, &quot;icon&quot;: &quot;star&quot;, &quot;iconColor&quot;: &quot;white&quot;, &quot;markerColor&quot;: &quot;red&quot;, &quot;prefix&quot;: &quot;glyphicon&quot;}\n",
              "            );\n",
              "            marker_0a45fccf54c85e3470efffad34586668.setIcon(icon_10fd951f3310da6b47295bffc9def80b);\n",
              "        \n",
              "    \n",
              "        var popup_ab19da17216cf84213f7348288ca5d33 = L.popup({&quot;maxWidth&quot;: &quot;100%&quot;});\n",
              "\n",
              "        \n",
              "            \n",
              "                var html_d5a0a0593a59953e72310397915248ff = $(`&lt;div id=&quot;html_d5a0a0593a59953e72310397915248ff&quot; style=&quot;width: 100.0%; height: 100.0%;&quot;&gt;2692&lt;/div&gt;`)[0];\n",
              "                popup_ab19da17216cf84213f7348288ca5d33.setContent(html_d5a0a0593a59953e72310397915248ff);\n",
              "            \n",
              "        \n",
              "\n",
              "        marker_0a45fccf54c85e3470efffad34586668.bindPopup(popup_ab19da17216cf84213f7348288ca5d33)\n",
              "        ;\n",
              "\n",
              "        \n",
              "    \n",
              "    \n",
              "            var marker_87d487a4303405bef29dea917447f66d = L.marker(\n",
              "                [33.361701, 126.511657],\n",
              "                {}\n",
              "            ).addTo(marker_cluster_20fb9a14e36e76ea735234f2836c4a42);\n",
              "        \n",
              "    \n",
              "            var icon_93444262336d623b25ec7ab41d77232f = L.AwesomeMarkers.icon(\n",
              "                {&quot;extraClasses&quot;: &quot;fa-rotate-0&quot;, &quot;icon&quot;: &quot;star&quot;, &quot;iconColor&quot;: &quot;white&quot;, &quot;markerColor&quot;: &quot;red&quot;, &quot;prefix&quot;: &quot;glyphicon&quot;}\n",
              "            );\n",
              "            marker_87d487a4303405bef29dea917447f66d.setIcon(icon_93444262336d623b25ec7ab41d77232f);\n",
              "        \n",
              "    \n",
              "        var popup_b3525a1a69e38e0a4f1ef71d283e1bf7 = L.popup({&quot;maxWidth&quot;: &quot;100%&quot;});\n",
              "\n",
              "        \n",
              "            \n",
              "                var html_fee72514fbeffd8f9f143d8769001e42 = $(`&lt;div id=&quot;html_fee72514fbeffd8f9f143d8769001e42&quot; style=&quot;width: 100.0%; height: 100.0%;&quot;&gt;152&lt;/div&gt;`)[0];\n",
              "                popup_b3525a1a69e38e0a4f1ef71d283e1bf7.setContent(html_fee72514fbeffd8f9f143d8769001e42);\n",
              "            \n",
              "        \n",
              "\n",
              "        marker_87d487a4303405bef29dea917447f66d.bindPopup(popup_b3525a1a69e38e0a4f1ef71d283e1bf7)\n",
              "        ;\n",
              "\n",
              "        \n",
              "    \n",
              "&lt;/script&gt;\n",
              "&lt;/html&gt;\" style=\"position:absolute;width:100%;height:100%;left:0;top:0;border:none !important;\" allowfullscreen webkitallowfullscreen mozallowfullscreen></iframe></div></div>"
            ]
          },
          "metadata": {},
          "execution_count": 289
        }
      ]
    },
    {
      "cell_type": "markdown",
      "source": [
        "# 코로나 한국 데이터"
      ],
      "metadata": {
        "id": "v4Q7DPcUNBzK"
      }
    },
    {
      "cell_type": "code",
      "source": [
        "kr = pd.read_csv('total_.csv')\n",
        "kr.head()"
      ],
      "metadata": {
        "id": "AVXfCtkjGTgV"
      },
      "execution_count": null,
      "outputs": []
    },
    {
      "cell_type": "code",
      "source": [
        "kr.tail()"
      ],
      "metadata": {
        "id": "ngsmTx8fGTdo"
      },
      "execution_count": null,
      "outputs": []
    },
    {
      "cell_type": "code",
      "source": [
        "kr = kr.set_index('date')\n",
        "kr.head()"
      ],
      "metadata": {
        "id": "_XuczBsKM7tc"
      },
      "execution_count": null,
      "outputs": []
    },
    {
      "cell_type": "code",
      "source": [
        "kr.info()"
      ],
      "metadata": {
        "id": "YJxDaiYlM7qB"
      },
      "execution_count": null,
      "outputs": []
    },
    {
      "cell_type": "code",
      "source": [
        "kr.describe()"
      ],
      "metadata": {
        "colab": {
          "base_uri": "https://localhost:8080/",
          "height": 300
        },
        "id": "_OndxnRoM7oG",
        "outputId": "b4f7c07d-a464-46e0-f8a1-595d2649c4d4"
      },
      "execution_count": 149,
      "outputs": [
        {
          "output_type": "execute_result",
          "data": {
            "text/plain": [
              "                  총계          확진자        격리해제          격리중          사망  \\\n",
              "count      32.000000    32.000000    32.00000    32.000000   32.000000   \n",
              "mean   272659.468750  7892.531250  1952.28125  5851.031250   86.062500   \n",
              "std     96168.245376  1661.299996  1962.49330  1213.763847   44.247061   \n",
              "min     96985.000000  3526.000000    30.00000  3479.000000   17.000000   \n",
              "25%    194593.000000  7320.000000   157.00000  4728.750000   50.750000   \n",
              "50%    280610.000000  8278.500000  1269.00000  5984.500000   78.000000   \n",
              "75%    350910.500000  9062.000000  3562.75000  6971.500000  121.500000   \n",
              "max    421547.000000  9887.000000  5567.00000  7470.000000  165.000000   \n",
              "\n",
              "                검사중          결과 음성  \n",
              "count     32.000000      32.000000  \n",
              "mean   18708.312500  246058.656250  \n",
              "std     5765.846459   99218.729994  \n",
              "min    13531.000000   61037.000000  \n",
              "25%    15384.750000  169335.500000  \n",
              "50%    16738.500000  256201.000000  \n",
              "75%    18749.000000  326699.000000  \n",
              "max    35555.000000  395075.000000  "
            ],
            "text/html": [
              "\n",
              "  <div id=\"df-049f05a6-6cc3-47db-aa3e-836941e1ed10\">\n",
              "    <div class=\"colab-df-container\">\n",
              "      <div>\n",
              "<style scoped>\n",
              "    .dataframe tbody tr th:only-of-type {\n",
              "        vertical-align: middle;\n",
              "    }\n",
              "\n",
              "    .dataframe tbody tr th {\n",
              "        vertical-align: top;\n",
              "    }\n",
              "\n",
              "    .dataframe thead th {\n",
              "        text-align: right;\n",
              "    }\n",
              "</style>\n",
              "<table border=\"1\" class=\"dataframe\">\n",
              "  <thead>\n",
              "    <tr style=\"text-align: right;\">\n",
              "      <th></th>\n",
              "      <th>총계</th>\n",
              "      <th>확진자</th>\n",
              "      <th>격리해제</th>\n",
              "      <th>격리중</th>\n",
              "      <th>사망</th>\n",
              "      <th>검사중</th>\n",
              "      <th>결과 음성</th>\n",
              "    </tr>\n",
              "  </thead>\n",
              "  <tbody>\n",
              "    <tr>\n",
              "      <th>count</th>\n",
              "      <td>32.000000</td>\n",
              "      <td>32.000000</td>\n",
              "      <td>32.00000</td>\n",
              "      <td>32.000000</td>\n",
              "      <td>32.000000</td>\n",
              "      <td>32.000000</td>\n",
              "      <td>32.000000</td>\n",
              "    </tr>\n",
              "    <tr>\n",
              "      <th>mean</th>\n",
              "      <td>272659.468750</td>\n",
              "      <td>7892.531250</td>\n",
              "      <td>1952.28125</td>\n",
              "      <td>5851.031250</td>\n",
              "      <td>86.062500</td>\n",
              "      <td>18708.312500</td>\n",
              "      <td>246058.656250</td>\n",
              "    </tr>\n",
              "    <tr>\n",
              "      <th>std</th>\n",
              "      <td>96168.245376</td>\n",
              "      <td>1661.299996</td>\n",
              "      <td>1962.49330</td>\n",
              "      <td>1213.763847</td>\n",
              "      <td>44.247061</td>\n",
              "      <td>5765.846459</td>\n",
              "      <td>99218.729994</td>\n",
              "    </tr>\n",
              "    <tr>\n",
              "      <th>min</th>\n",
              "      <td>96985.000000</td>\n",
              "      <td>3526.000000</td>\n",
              "      <td>30.00000</td>\n",
              "      <td>3479.000000</td>\n",
              "      <td>17.000000</td>\n",
              "      <td>13531.000000</td>\n",
              "      <td>61037.000000</td>\n",
              "    </tr>\n",
              "    <tr>\n",
              "      <th>25%</th>\n",
              "      <td>194593.000000</td>\n",
              "      <td>7320.000000</td>\n",
              "      <td>157.00000</td>\n",
              "      <td>4728.750000</td>\n",
              "      <td>50.750000</td>\n",
              "      <td>15384.750000</td>\n",
              "      <td>169335.500000</td>\n",
              "    </tr>\n",
              "    <tr>\n",
              "      <th>50%</th>\n",
              "      <td>280610.000000</td>\n",
              "      <td>8278.500000</td>\n",
              "      <td>1269.00000</td>\n",
              "      <td>5984.500000</td>\n",
              "      <td>78.000000</td>\n",
              "      <td>16738.500000</td>\n",
              "      <td>256201.000000</td>\n",
              "    </tr>\n",
              "    <tr>\n",
              "      <th>75%</th>\n",
              "      <td>350910.500000</td>\n",
              "      <td>9062.000000</td>\n",
              "      <td>3562.75000</td>\n",
              "      <td>6971.500000</td>\n",
              "      <td>121.500000</td>\n",
              "      <td>18749.000000</td>\n",
              "      <td>326699.000000</td>\n",
              "    </tr>\n",
              "    <tr>\n",
              "      <th>max</th>\n",
              "      <td>421547.000000</td>\n",
              "      <td>9887.000000</td>\n",
              "      <td>5567.00000</td>\n",
              "      <td>7470.000000</td>\n",
              "      <td>165.000000</td>\n",
              "      <td>35555.000000</td>\n",
              "      <td>395075.000000</td>\n",
              "    </tr>\n",
              "  </tbody>\n",
              "</table>\n",
              "</div>\n",
              "      <button class=\"colab-df-convert\" onclick=\"convertToInteractive('df-049f05a6-6cc3-47db-aa3e-836941e1ed10')\"\n",
              "              title=\"Convert this dataframe to an interactive table.\"\n",
              "              style=\"display:none;\">\n",
              "        \n",
              "  <svg xmlns=\"http://www.w3.org/2000/svg\" height=\"24px\"viewBox=\"0 0 24 24\"\n",
              "       width=\"24px\">\n",
              "    <path d=\"M0 0h24v24H0V0z\" fill=\"none\"/>\n",
              "    <path d=\"M18.56 5.44l.94 2.06.94-2.06 2.06-.94-2.06-.94-.94-2.06-.94 2.06-2.06.94zm-11 1L8.5 8.5l.94-2.06 2.06-.94-2.06-.94L8.5 2.5l-.94 2.06-2.06.94zm10 10l.94 2.06.94-2.06 2.06-.94-2.06-.94-.94-2.06-.94 2.06-2.06.94z\"/><path d=\"M17.41 7.96l-1.37-1.37c-.4-.4-.92-.59-1.43-.59-.52 0-1.04.2-1.43.59L10.3 9.45l-7.72 7.72c-.78.78-.78 2.05 0 2.83L4 21.41c.39.39.9.59 1.41.59.51 0 1.02-.2 1.41-.59l7.78-7.78 2.81-2.81c.8-.78.8-2.07 0-2.86zM5.41 20L4 18.59l7.72-7.72 1.47 1.35L5.41 20z\"/>\n",
              "  </svg>\n",
              "      </button>\n",
              "      \n",
              "  <style>\n",
              "    .colab-df-container {\n",
              "      display:flex;\n",
              "      flex-wrap:wrap;\n",
              "      gap: 12px;\n",
              "    }\n",
              "\n",
              "    .colab-df-convert {\n",
              "      background-color: #E8F0FE;\n",
              "      border: none;\n",
              "      border-radius: 50%;\n",
              "      cursor: pointer;\n",
              "      display: none;\n",
              "      fill: #1967D2;\n",
              "      height: 32px;\n",
              "      padding: 0 0 0 0;\n",
              "      width: 32px;\n",
              "    }\n",
              "\n",
              "    .colab-df-convert:hover {\n",
              "      background-color: #E2EBFA;\n",
              "      box-shadow: 0px 1px 2px rgba(60, 64, 67, 0.3), 0px 1px 3px 1px rgba(60, 64, 67, 0.15);\n",
              "      fill: #174EA6;\n",
              "    }\n",
              "\n",
              "    [theme=dark] .colab-df-convert {\n",
              "      background-color: #3B4455;\n",
              "      fill: #D2E3FC;\n",
              "    }\n",
              "\n",
              "    [theme=dark] .colab-df-convert:hover {\n",
              "      background-color: #434B5C;\n",
              "      box-shadow: 0px 1px 3px 1px rgba(0, 0, 0, 0.15);\n",
              "      filter: drop-shadow(0px 1px 2px rgba(0, 0, 0, 0.3));\n",
              "      fill: #FFFFFF;\n",
              "    }\n",
              "  </style>\n",
              "\n",
              "      <script>\n",
              "        const buttonEl =\n",
              "          document.querySelector('#df-049f05a6-6cc3-47db-aa3e-836941e1ed10 button.colab-df-convert');\n",
              "        buttonEl.style.display =\n",
              "          google.colab.kernel.accessAllowed ? 'block' : 'none';\n",
              "\n",
              "        async function convertToInteractive(key) {\n",
              "          const element = document.querySelector('#df-049f05a6-6cc3-47db-aa3e-836941e1ed10');\n",
              "          const dataTable =\n",
              "            await google.colab.kernel.invokeFunction('convertToInteractive',\n",
              "                                                     [key], {});\n",
              "          if (!dataTable) return;\n",
              "\n",
              "          const docLinkHtml = 'Like what you see? Visit the ' +\n",
              "            '<a target=\"_blank\" href=https://colab.research.google.com/notebooks/data_table.ipynb>data table notebook</a>'\n",
              "            + ' to learn more about interactive tables.';\n",
              "          element.innerHTML = '';\n",
              "          dataTable['output_type'] = 'display_data';\n",
              "          await google.colab.output.renderOutput(dataTable, element);\n",
              "          const docLink = document.createElement('div');\n",
              "          docLink.innerHTML = docLinkHtml;\n",
              "          element.appendChild(docLink);\n",
              "        }\n",
              "      </script>\n",
              "    </div>\n",
              "  </div>\n",
              "  "
            ]
          },
          "metadata": {},
          "execution_count": 149
        }
      ]
    },
    {
      "cell_type": "code",
      "source": [
        "kr.index = pd.to_datetime(kr.index, format='%Y-%m-%d')\n",
        "kr.info()"
      ],
      "metadata": {
        "colab": {
          "base_uri": "https://localhost:8080/"
        },
        "id": "NsJ2ZqphNW2u",
        "outputId": "deb62385-2b57-4bba-a809-0d8fcff1f140"
      },
      "execution_count": 271,
      "outputs": [
        {
          "output_type": "stream",
          "name": "stdout",
          "text": [
            "<class 'pandas.core.frame.DataFrame'>\n",
            "DatetimeIndex: 32 entries, 2020-03-01 to 2020-04-01\n",
            "Data columns (total 7 columns):\n",
            " #   Column  Non-Null Count  Dtype\n",
            "---  ------  --------------  -----\n",
            " 0   총계      32 non-null     int64\n",
            " 1   확진자     32 non-null     int64\n",
            " 2   격리해제    32 non-null     int64\n",
            " 3   격리중     32 non-null     int64\n",
            " 4   사망      32 non-null     int64\n",
            " 5   검사중     32 non-null     int64\n",
            " 6   결과 음성   32 non-null     int64\n",
            "dtypes: int64(7)\n",
            "memory usage: 2.0 KB\n"
          ]
        }
      ]
    },
    {
      "cell_type": "code",
      "source": [
        "kr.isnull().sum()"
      ],
      "metadata": {
        "colab": {
          "base_uri": "https://localhost:8080/"
        },
        "id": "rQWDQvhFNXyj",
        "outputId": "74135837-b2c4-42d4-a72b-96f77b1409b3"
      },
      "execution_count": 152,
      "outputs": [
        {
          "output_type": "execute_result",
          "data": {
            "text/plain": [
              "총계       0\n",
              "확진자      0\n",
              "격리해제     0\n",
              "격리중      0\n",
              "사망       0\n",
              "검사중      0\n",
              "결과 음성    0\n",
              "dtype: int64"
            ]
          },
          "metadata": {},
          "execution_count": 152
        }
      ]
    },
    {
      "cell_type": "code",
      "source": [
        "# 확진자 (양성)\n",
        "print(kr['확진자'])\n",
        "print(kr['결과 음성'])"
      ],
      "metadata": {
        "colab": {
          "base_uri": "https://localhost:8080/"
        },
        "id": "axH8O_GeNXvj",
        "outputId": "7e112226-6b65-4c65-9c83-2946200c1e13"
      },
      "execution_count": 156,
      "outputs": [
        {
          "output_type": "stream",
          "name": "stdout",
          "text": [
            "date\n",
            "2020-03-01    3526\n",
            "2020-03-02    4212\n",
            "2020-03-03    4812\n",
            "2020-03-04    5328\n",
            "2020-03-05    5766\n",
            "2020-03-06    6284\n",
            "2020-03-07    6767\n",
            "2020-03-08    7134\n",
            "2020-03-09    7382\n",
            "2020-03-10    7513\n",
            "2020-03-11    7755\n",
            "2020-03-12    7869\n",
            "2020-03-13    7979\n",
            "2020-03-14    8086\n",
            "2020-03-15    8162\n",
            "2020-03-16    8236\n",
            "2020-03-17    8321\n",
            "2020-03-18    8413\n",
            "2020-03-19    8565\n",
            "2020-03-20    8652\n",
            "2020-03-21    8799\n",
            "2020-03-22    8897\n",
            "2020-03-23    8961\n",
            "2020-03-24    9037\n",
            "2020-03-25    9137\n",
            "2020-03-26    9241\n",
            "2020-03-27    9332\n",
            "2020-03-28    9478\n",
            "2020-03-29    9583\n",
            "2020-03-30    9661\n",
            "2020-03-31    9786\n",
            "2020-04-01    9887\n",
            "Name: 확진자, dtype: int64\n",
            "date\n",
            "2020-03-01     61037\n",
            "2020-03-02     71580\n",
            "2020-03-03     85484\n",
            "2020-03-04    102965\n",
            "2020-03-05    118965\n",
            "2020-03-06    136624\n",
            "2020-03-07    151802\n",
            "2020-03-08    162008\n",
            "2020-03-09    171778\n",
            "2020-03-10    184179\n",
            "2020-03-11    196100\n",
            "2020-03-12    209402\n",
            "2020-03-13    222728\n",
            "2020-03-14    235615\n",
            "2020-03-15    243778\n",
            "2020-03-16    251297\n",
            "2020-03-17    261105\n",
            "2020-03-18    270888\n",
            "2020-03-19    282555\n",
            "2020-03-20    292487\n",
            "2020-03-21    303006\n",
            "2020-03-22    308343\n",
            "2020-03-23    315447\n",
            "2020-03-24    324105\n",
            "2020-03-25    334481\n",
            "2020-03-26    341332\n",
            "2020-03-27    352410\n",
            "2020-03-28    361883\n",
            "2020-03-29    369530\n",
            "2020-03-30    372002\n",
            "2020-03-31    383886\n",
            "2020-04-01    395075\n",
            "Name: 결과 음성, dtype: int64\n"
          ]
        }
      ]
    },
    {
      "cell_type": "code",
      "source": [
        "# 데이터 타입들 중 칼럼들이 서로 상관성이 있거나 반대 성향(경향)이 있으면 서로 비교 -> 상관관계, 계수\n",
        "pos = kr['확진자']\n",
        "neg = kr['결과 음성']"
      ],
      "metadata": {
        "id": "Nu9Cx9KiNXuM"
      },
      "execution_count": 209,
      "outputs": []
    },
    {
      "cell_type": "code",
      "source": [
        "plt.plot(pos)\n",
        "plt.plot(neg, 'o')\n",
        "\n",
        "plt.show()"
      ],
      "metadata": {
        "colab": {
          "base_uri": "https://localhost:8080/",
          "height": 429
        },
        "id": "pFCC1ix6NXs4",
        "outputId": "0d028928-8d5e-47f4-ecbd-87382716b9f5"
      },
      "execution_count": 160,
      "outputs": [
        {
          "output_type": "display_data",
          "data": {
            "text/plain": [
              "<Figure size 640x480 with 1 Axes>"
            ],
            "image/png": "[encoded data removed]"
          },
          "metadata": {}
        }
      ]
    },
    {
      "cell_type": "code",
      "source": [],
      "metadata": {
        "id": "l4xdkMYgNXrV"
      },
      "execution_count": 173,
      "outputs": []
    },
    {
      "cell_type": "code",
      "source": [
        "# 두 데이터(칼럼)를 합쳐서 하나의 결과를 도출\n",
        "# 확진자 수 중 사망 -> 치사율\n",
        "# 확진자 수: pos\n",
        "pos\n",
        "death = kr['사망']\n",
        "# death / pos * 100 -> 비율\n",
        "\n",
        "# 치사율\n",
        "d_p = round((death / pos) * 100,2)\n",
        "d_p.head()"
      ],
      "metadata": {
        "colab": {
          "base_uri": "https://localhost:8080/"
        },
        "id": "fkfGadDhZ8Ea",
        "outputId": "025de070-c175-40b5-8a51-6c8366612923"
      },
      "execution_count": 210,
      "outputs": [
        {
          "output_type": "execute_result",
          "data": {
            "text/plain": [
              "date\n",
              "2020-03-01    0.48\n",
              "2020-03-02    0.52\n",
              "2020-03-03    0.58\n",
              "2020-03-04    0.60\n",
              "2020-03-05    0.61\n",
              "dtype: float64"
            ]
          },
          "metadata": {},
          "execution_count": 210
        }
      ]
    },
    {
      "cell_type": "code",
      "source": [
        "# 완치율\n",
        "# 확진자 수\n",
        "# 격리해제 수\n",
        "rec = kr['격리해제']\n",
        "\n",
        "# rec / pos * 100 -> 비율\n",
        "\n",
        "r_p = round((rec / pos) * 100,2)\n",
        "r_p.head()"
      ],
      "metadata": {
        "colab": {
          "base_uri": "https://localhost:8080/"
        },
        "id": "FiOZ_TX0aRW-",
        "outputId": "8a36b038-7b39-45a9-fbb1-589a9d11932a"
      },
      "execution_count": 211,
      "outputs": [
        {
          "output_type": "execute_result",
          "data": {
            "text/plain": [
              "date\n",
              "2020-03-01    0.85\n",
              "2020-03-02    0.74\n",
              "2020-03-03    0.71\n",
              "2020-03-04    0.77\n",
              "2020-03-05    1.53\n",
              "dtype: float64"
            ]
          },
          "metadata": {},
          "execution_count": 211
        }
      ]
    },
    {
      "cell_type": "code",
      "source": [
        "# 치명율, 완치율 -> 그래프로 그려봤을 때 완치율이 눈에 띄게(유의미하게) 증가\n",
        "\n",
        "plt.plot(d_p)\n",
        "plt.plot(r_p)\n",
        "plt.show()"
      ],
      "metadata": {
        "colab": {
          "base_uri": "https://localhost:8080/",
          "height": 429
        },
        "id": "H6lT2lwJaj4B",
        "outputId": "960a1a8a-b5e8-4bc8-d287-6a497fc4775c"
      },
      "execution_count": 180,
      "outputs": [
        {
          "output_type": "display_data",
          "data": {
            "text/plain": [
              "<Figure size 640x480 with 1 Axes>"
            ],
            "image/png": "[encoded data removed]"
          },
          "metadata": {}
        }
      ]
    },
    {
      "cell_type": "code",
      "source": [
        "# 3월 데이터\n",
        "# 사망율, 완치율 -> 파이\n",
        "\n",
        "# 4월 데이터\n",
        "# 사망율, 완치율 -> 파이"
      ],
      "metadata": {
        "id": "L07OaIONNXmH"
      },
      "execution_count": null,
      "outputs": []
    },
    {
      "cell_type": "code",
      "source": [
        "# 사망율과 완치율을 표현 가능\n",
        "\n",
        "# 시계열 데이터 -> 흐름, 변화"
      ],
      "metadata": {
        "id": "kMaH12nOQ81m"
      },
      "execution_count": null,
      "outputs": []
    },
    {
      "cell_type": "code",
      "source": [
        "# 양성 음성 -> 반대되는 데이터\n",
        "# 가로(x):시간,  세로(y): 수\n",
        "# 가로: 비교할 데이터 -> 양성, 음성\n",
        "# 추가 설명: index(datetime) + timedelta\n",
        "# w = 0.25\n",
        "plt.xticks(rotation=90)\n",
        "plt.bar(neg.index, neg)\n",
        "plt.bar(pos.index, pos)\n",
        "\n",
        "plt.show()"
      ],
      "metadata": {
        "colab": {
          "base_uri": "https://localhost:8080/",
          "height": 493
        },
        "id": "b0dgJiBNQ9Sx",
        "outputId": "4ecc9c6c-b8b0-4e63-e372-f9cf031bab4b"
      },
      "execution_count": 167,
      "outputs": [
        {
          "output_type": "display_data",
          "data": {
            "text/plain": [
              "<Figure size 640x480 with 1 Axes>"
            ],
            "image/png": "[encoded data removed]"
          },
          "metadata": {}
        }
      ]
    },
    {
      "cell_type": "code",
      "source": [
        "plt.barh(kr.index, -pos)      # barh -> 아래 그래프처럼 나오게 할 때\n",
        "plt.barh(kr.index, neg)\n",
        "\n",
        "plt.show()"
      ],
      "metadata": {
        "colab": {
          "base_uri": "https://localhost:8080/",
          "height": 429
        },
        "id": "bMgvtbZAQ9Xj",
        "outputId": "dc2bc237-f7e2-494f-a2e4-bc548049fe22"
      },
      "execution_count": 166,
      "outputs": [
        {
          "output_type": "display_data",
          "data": {
            "text/plain": [
              "<Figure size 640x480 with 1 Axes>"
            ],
            "image/png": "[encoded data removed]"
          },
          "metadata": {}
        }
      ]
    },
    {
      "cell_type": "code",
      "source": [
        "# 양성(총 합), 음성(총 합)\n",
        "sum_p = pos.sum()\n",
        "sum_p\n",
        "\n",
        "sum_n = neg.sum()\n",
        "sum_n"
      ],
      "metadata": {
        "colab": {
          "base_uri": "https://localhost:8080/"
        },
        "id": "4S_oF6c8Q9c_",
        "outputId": "24159e4c-0f09-44a0-ae73-a6efc7c3523b"
      },
      "execution_count": 205,
      "outputs": [
        {
          "output_type": "execute_result",
          "data": {
            "text/plain": [
              "7873877"
            ]
          },
          "metadata": {},
          "execution_count": 205
        }
      ]
    },
    {
      "cell_type": "code",
      "source": [
        "plt.bar('postive',sum_p)\n",
        "plt.bar('negative',sum_n)\n",
        "plt.show()  # 비교되는 두 가지는 딱 두 가지가 시각적으로 들어오게"
      ],
      "metadata": {
        "colab": {
          "base_uri": "https://localhost:8080/",
          "height": 443
        },
        "id": "ATItNE0YQ9kE",
        "outputId": "fe23054d-6c7a-4a26-ca10-51c6c4328496"
      },
      "execution_count": 171,
      "outputs": [
        {
          "output_type": "display_data",
          "data": {
            "text/plain": [
              "<Figure size 640x480 with 1 Axes>"
            ],
            "image/png": "[encoded data removed]"
          },
          "metadata": {}
        }
      ]
    },
    {
      "cell_type": "code",
      "source": [
        "# 사망자 수, 치명율\n",
        "\n",
        "death.head()"
      ],
      "metadata": {
        "colab": {
          "base_uri": "https://localhost:8080/"
        },
        "id": "yE_smitUM7lc",
        "outputId": "612fb37f-d903-40d5-ed78-61e724e547c2"
      },
      "execution_count": 181,
      "outputs": [
        {
          "output_type": "execute_result",
          "data": {
            "text/plain": [
              "date\n",
              "2020-03-01    17\n",
              "2020-03-02    22\n",
              "2020-03-03    28\n",
              "2020-03-04    32\n",
              "2020-03-05    35\n",
              "Name: 사망, dtype: int64"
            ]
          },
          "metadata": {},
          "execution_count": 181
        }
      ]
    },
    {
      "cell_type": "code",
      "source": [
        "d_p.head()"
      ],
      "metadata": {
        "colab": {
          "base_uri": "https://localhost:8080/"
        },
        "id": "Rp_4jCs_M7jC",
        "outputId": "d3c17d85-93e3-443a-fed4-f527693ca191"
      },
      "execution_count": 182,
      "outputs": [
        {
          "output_type": "execute_result",
          "data": {
            "text/plain": [
              "date\n",
              "2020-03-01    0.48\n",
              "2020-03-02    0.52\n",
              "2020-03-03    0.58\n",
              "2020-03-04    0.60\n",
              "2020-03-05    0.61\n",
              "dtype: float64"
            ]
          },
          "metadata": {},
          "execution_count": 182
        }
      ]
    },
    {
      "cell_type": "code",
      "source": [
        "plt.subplot(1,2,1)\n",
        "plt.bar(death.index, death)\n",
        "\n",
        "plt.subplot(1,2,2)\n",
        "plt.plot(d_p, '-r')\n",
        "plt.show()"
      ],
      "metadata": {
        "colab": {
          "base_uri": "https://localhost:8080/",
          "height": 429
        },
        "id": "XZvR06JKbps1",
        "outputId": "970c1015-b468-4f45-a44e-0ee17355a027"
      },
      "execution_count": 185,
      "outputs": [
        {
          "output_type": "display_data",
          "data": {
            "text/plain": [
              "<Figure size 640x480 with 2 Axes>"
            ],
            "image/png": "[encoded data removed]"
          },
          "metadata": {}
        }
      ]
    },
    {
      "cell_type": "code",
      "source": [
        "# 전체 - 부분\n",
        "# 어떤 값이 전체에서 어느 정도 차지하고 있느냐\n",
        "\n",
        "# 시계열 -> 변화, 흐름\n",
        "# 1. 경향(성)  -> 크게 변하는 시점 (상승, 하강, 반복)\n",
        "# 2. 비율 -> 시간에 흐름에 따라 특정한 부분이 얼마나 영향을 끼치고 있는지: 흐름, 변화\n",
        "\n",
        "\n",
        "# 확진자 중 사망자(얼마나), 완치자(얼마나): 일별\n",
        "# 격리중, 격리 해제 비율\n",
        "# 검사 중 양성, 음성 비율\n",
        "# 주말 전 후 양성 비율 변화\n",
        "# 주말 전 후 검사량"
      ],
      "metadata": {
        "id": "ARSLZnuYbpkD"
      },
      "execution_count": null,
      "outputs": []
    },
    {
      "cell_type": "code",
      "source": [
        "# 확진자 중 사망자(얼마나), 완치자(얼마나): 일별\n",
        "print(death.head())  # 사망\n",
        "print(rec.head())  # 격리해제"
      ],
      "metadata": {
        "colab": {
          "base_uri": "https://localhost:8080/"
        },
        "id": "GY7PeyYybphJ",
        "outputId": "b92b26ee-bb4a-4c28-d852-e4e07eb0206d"
      },
      "execution_count": 273,
      "outputs": [
        {
          "output_type": "stream",
          "name": "stdout",
          "text": [
            "date\n",
            "2020-03-01    17\n",
            "2020-03-02    22\n",
            "2020-03-03    28\n",
            "2020-03-04    32\n",
            "2020-03-05    35\n",
            "Name: 사망, dtype: int64\n",
            "date\n",
            "2020-03-01    30\n",
            "2020-03-02    31\n",
            "2020-03-03    34\n",
            "2020-03-04    41\n",
            "2020-03-05    88\n",
            "Name: 격리해제, dtype: int64\n"
          ]
        }
      ]
    },
    {
      "cell_type": "code",
      "source": [
        "plt.figure(figsize=(15, 8))\n",
        "\n",
        "plt.subplot(1, 2, 1)\n",
        "plt.bar(death.index, death)\n",
        "# d_p\n",
        "\n",
        "plt.subplot(1, 2, 2)\n",
        "plt.bar(rec.index, rec)\n",
        "# r_p\n",
        "\n",
        "plt.show()"
      ],
      "metadata": {
        "colab": {
          "base_uri": "https://localhost:8080/",
          "height": 464
        },
        "id": "LFwyC6gvbpeq",
        "outputId": "a001fd54-9fe8-46b9-ebeb-84e8fae60895"
      },
      "execution_count": 274,
      "outputs": [
        {
          "output_type": "display_data",
          "data": {
            "text/plain": [
              "<Figure size 1500x800 with 2 Axes>"
            ],
            "image/png": "[encoded data removed]"
          },
          "metadata": {}
        }
      ]
    },
    {
      "cell_type": "code",
      "source": [
        "# 확진자\n",
        "plt.subplot(1,2 ,1)\n",
        "plt.bar(pos.index, pos)\n",
        "# plt,plot(pos) 선그래프\n",
        "\n",
        "# 치사율, 완치율\n",
        "plt.subplot(1,2 ,2)\n",
        "plt.plot(d_p, '-r')\n",
        "plt.plot(r_p, '--g')\n",
        "\n",
        "plt.show()\n",
        "\n",
        "# 확진자는 계속 증가한다.\n",
        "# 사망, 격리해제 증가\n",
        "# 확진자 증가와 완치자가 증가하는 경향이 훨씬 유사하다."
      ],
      "metadata": {
        "colab": {
          "base_uri": "https://localhost:8080/",
          "height": 295
        },
        "id": "RiRYpOTsgvY8",
        "outputId": "6950278d-4bde-4c77-8137-cbf252196116"
      },
      "execution_count": 219,
      "outputs": [
        {
          "output_type": "display_data",
          "data": {
            "text/plain": [
              "<Figure size 400x300 with 2 Axes>"
            ],
            "image/png": "[encoded data removed]"
          },
          "metadata": {}
        }
      ]
    },
    {
      "cell_type": "code",
      "source": [
        "x1 = death.index\n",
        "print(x1.shape)\n",
        "\n",
        "y1 = np.array(death)\n",
        "print(y1.shape)\n",
        "\n",
        "y2 = np.array(d_p)\n",
        "print(y2)"
      ],
      "metadata": {
        "colab": {
          "base_uri": "https://localhost:8080/"
        },
        "id": "LP0bAGX0mpAw",
        "outputId": "dcf34de8-2706-4c4f-ec04-8c8c9f9f73e0"
      },
      "execution_count": 255,
      "outputs": [
        {
          "output_type": "stream",
          "name": "stdout",
          "text": [
            "(32,)\n",
            "(32,)\n",
            "[0.48 0.52 0.58 0.6  0.61 0.67 0.65 0.7  0.69 0.72 0.77 0.84 0.84 0.89\n",
            " 0.92 0.91 0.97 1.   1.06 1.09 1.16 1.17 1.24 1.33 1.38 1.42 1.49 1.52\n",
            " 1.59 1.64 1.66 1.67]\n"
          ]
        }
      ]
    },
    {
      "cell_type": "code",
      "source": [
        "# 보조축을 이용하여 두 그래프 합치기\n",
        "# 1. 데이터 준비\n",
        "x1 = death.index\n",
        "y1 = np.array(death)\n",
        "y2 = np.array(d_p)\n",
        "\n",
        "# 2. 그래프 그리기\n",
        "fig, ax1 = plt.subplots()\n",
        "\n",
        "ax1.plot(x1, y2, 'or')\n",
        "ax1.set_ylim(0, 5)           # 오른쪽 y축 범위\n",
        "ax1.set_xlabel('Date')       # x축 범례\n",
        "ax1.set_ylabel('Death_per')  # 왼쪽 y축 범례\n",
        "plt.xticks(x1[::7],rotation=90)          # 7일 간격으로 x축 눈금 표시\n",
        "\n",
        "ax2 = ax1.twinx()\n",
        "ax2.bar(x1, y1, color='blue', width=0.5)\n",
        "ax2.set_ylim(0, 200)\n",
        "ax2.set_ylabel(r'Death')\n",
        "\n",
        "plt.show()"
      ],
      "metadata": {
        "colab": {
          "base_uri": "https://localhost:8080/",
          "height": 404
        },
        "id": "wROcdwBalOfw",
        "outputId": "1eff4907-6096-4620-f279-41993bd26a42"
      },
      "execution_count": 270,
      "outputs": [
        {
          "output_type": "display_data",
          "data": {
            "text/plain": [
              "<Figure size 400x300 with 2 Axes>"
            ],
            "image/png": "[encoded data removed]"
          },
          "metadata": {}
        }
      ]
    }
  ]
}