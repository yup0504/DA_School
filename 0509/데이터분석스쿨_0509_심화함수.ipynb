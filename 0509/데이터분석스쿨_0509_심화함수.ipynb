{
  "nbformat": 4,
  "nbformat_minor": 0,
  "metadata": {
    "colab": {
      "provenance": []
    },
    "kernelspec": {
      "name": "python3",
      "display_name": "Python 3"
    },
    "language_info": {
      "name": "python"
    }
  },
  "cells": [
    {
      "cell_type": "markdown",
      "source": [
        "# *args **kwargs 사용하는 이유\n",
        "\n"
      ],
      "metadata": {
        "id": "KpVZEkdLvbyV"
      }
    },
    {
      "cell_type": "code",
      "execution_count": null,
      "metadata": {
        "id": "Q1JZjIN5p5Gi"
      },
      "outputs": [],
      "source": [
        "def test(*arg, **kwarg)"
      ]
    },
    {
      "cell_type": "code",
      "source": [
        "# 어떤 입력이든 에러가 없이 어떤 값이든 받도록 도와주기 위함\n",
        "# * -> 가변인자"
      ],
      "metadata": {
        "id": "L3CjZrmJwav8"
      },
      "execution_count": null,
      "outputs": []
    },
    {
      "cell_type": "code",
      "source": [
        "# *arg 예제 1.\n",
        "\n",
        "def add(x,y):\n",
        "  return x + y\n",
        "\n",
        "add(3,4)\n",
        "\n",
        "# add(3,4,7)  값이 두개가 아니라 3개를 입력하면 에러가 뜸"
      ],
      "metadata": {
        "id": "Ms9MtIkLwatt"
      },
      "execution_count": null,
      "outputs": []
    },
    {
      "cell_type": "code",
      "source": [
        "def add(*x):\n",
        "  return sum(x)\n",
        "\n",
        "add(1,3,5)\n",
        "\n",
        "# *x -> x의 값이 하나가 아니라여러 가지가 가능"
      ],
      "metadata": {
        "colab": {
          "base_uri": "https://localhost:8080/"
        },
        "id": "gHvBGnN0wara",
        "outputId": "dedfb1a1-005f-47f0-85a6-12fd1a0e15e6"
      },
      "execution_count": null,
      "outputs": [
        {
          "output_type": "execute_result",
          "data": {
            "text/plain": [
              "9"
            ]
          },
          "metadata": {},
          "execution_count": 1
        }
      ]
    },
    {
      "cell_type": "code",
      "source": [
        "## **는???\n",
        "\n",
        "add(1,2, x = \"3\")"
      ],
      "metadata": {
        "colab": {
          "base_uri": "https://localhost:8080/",
          "height": 211
        },
        "id": "Su7dXIh_wao-",
        "outputId": "a21b1ba2-a999-4da5-d5e8-194679c86994"
      },
      "execution_count": null,
      "outputs": [
        {
          "output_type": "error",
          "ename": "TypeError",
          "evalue": "ignored",
          "traceback": [
            "\u001b[0;31m---------------------------------------------------------------------------\u001b[0m",
            "\u001b[0;31mTypeError\u001b[0m                                 Traceback (most recent call last)",
            "\u001b[0;32m<ipython-input-2-19506c60dad7>\u001b[0m in \u001b[0;36m<cell line: 3>\u001b[0;34m()\u001b[0m\n\u001b[1;32m      1\u001b[0m \u001b[0;31m## **는???\u001b[0m\u001b[0;34m\u001b[0m\u001b[0;34m\u001b[0m\u001b[0m\n\u001b[1;32m      2\u001b[0m \u001b[0;34m\u001b[0m\u001b[0m\n\u001b[0;32m----> 3\u001b[0;31m \u001b[0madd\u001b[0m\u001b[0;34m(\u001b[0m\u001b[0;36m1\u001b[0m\u001b[0;34m,\u001b[0m\u001b[0;36m2\u001b[0m\u001b[0;34m,\u001b[0m \u001b[0mx\u001b[0m \u001b[0;34m=\u001b[0m \u001b[0;34m\"3\"\u001b[0m\u001b[0;34m)\u001b[0m\u001b[0;34m\u001b[0m\u001b[0;34m\u001b[0m\u001b[0m\n\u001b[0m",
            "\u001b[0;31mTypeError\u001b[0m: add() got an unexpected keyword argument 'x'"
          ]
        }
      ]
    },
    {
      "cell_type": "code",
      "source": [
        "def add_2(*x, y = \"0\"):\n",
        "  return sum(x) + int(y) #\"3\"-> 3 \n",
        "\n",
        "add_2(1,2, y = \"3\")"
      ],
      "metadata": {
        "colab": {
          "base_uri": "https://localhost:8080/"
        },
        "id": "ZegDZdqhwamY",
        "outputId": "617b9b66-ede3-4f0c-fa12-a05bf9b25718"
      },
      "execution_count": null,
      "outputs": [
        {
          "output_type": "execute_result",
          "data": {
            "text/plain": [
              "6"
            ]
          },
          "metadata": {},
          "execution_count": 3
        }
      ]
    },
    {
      "cell_type": "code",
      "source": [
        "# 2. **의 사용방법\n",
        "\n",
        "def param(**kwargs):\n",
        "  print(kwargs)"
      ],
      "metadata": {
        "id": "NSjtD66dwaju"
      },
      "execution_count": null,
      "outputs": []
    },
    {
      "cell_type": "code",
      "source": [
        "param(max_depth = 0.6)"
      ],
      "metadata": {
        "colab": {
          "base_uri": "https://localhost:8080/"
        },
        "id": "6F0a4qZnz5BT",
        "outputId": "e7c959fd-d55e-4021-d87b-8c4a370cccb4"
      },
      "execution_count": null,
      "outputs": [
        {
          "output_type": "stream",
          "name": "stdout",
          "text": [
            "{'max_depth': 0.6}\n"
          ]
        }
      ]
    },
    {
      "cell_type": "code",
      "source": [
        "param(max_depth = 0.6 , gamma = 3)"
      ],
      "metadata": {
        "colab": {
          "base_uri": "https://localhost:8080/"
        },
        "id": "Lv-N5E1oz4-7",
        "outputId": "87195ea7-0d80-4ebc-ca18-ff77cf2703d0"
      },
      "execution_count": null,
      "outputs": [
        {
          "output_type": "stream",
          "name": "stdout",
          "text": [
            "{'max_depth': 0.6, 'gamma': 3}\n"
          ]
        }
      ]
    },
    {
      "cell_type": "code",
      "source": [
        "## 그래서 두가지를 같이 쓰게 되면\n",
        "\n",
        "def function(*a, **b):\n",
        "  print(a)\n",
        "  print(b)\n",
        "\n",
        "# 어떻게든 오류가 나지 않고, 값을 받아오겠다.\n",
        "\n",
        "function(41)"
      ],
      "metadata": {
        "colab": {
          "base_uri": "https://localhost:8080/"
        },
        "id": "Uv522Jhrz48f",
        "outputId": "3c18bc61-7fc1-4245-9b6a-4493390828ea"
      },
      "execution_count": null,
      "outputs": [
        {
          "output_type": "stream",
          "name": "stdout",
          "text": [
            "(41,)\n",
            "{}\n"
          ]
        },
        {
          "output_type": "execute_result",
          "data": {
            "text/plain": [
              "NoneType"
            ]
          },
          "metadata": {},
          "execution_count": 2
        }
      ]
    },
    {
      "cell_type": "code",
      "source": [
        "function(1,2,3,4,5)\n",
        "\n",
        "# (1, 2, 3, 4, 5)\n",
        "# {}"
      ],
      "metadata": {
        "id": "ktx9z1ECz9bI"
      },
      "execution_count": null,
      "outputs": []
    },
    {
      "cell_type": "code",
      "source": [
        "function(x=3)\n",
        "\n",
        "# ()\n",
        "# {'x': 3}"
      ],
      "metadata": {
        "id": "8WQ-yLjMz9Yx"
      },
      "execution_count": null,
      "outputs": []
    },
    {
      "cell_type": "code",
      "source": [
        "function(x=3, y=4)\n",
        "\n",
        "# ()\n",
        "# {'x': 3, 'y': 4}"
      ],
      "metadata": {
        "id": "V33XeKlSz9T0"
      },
      "execution_count": null,
      "outputs": []
    },
    {
      "cell_type": "code",
      "source": [
        "function(1,2,3,4,5, x=3, y=4)\n",
        "\n",
        "# (1, 2, 3, 4, 5)\n",
        "# {'x': 3, 'y': 4}"
      ],
      "metadata": {
        "id": "bVbXbLI302Aa"
      },
      "execution_count": null,
      "outputs": []
    },
    {
      "cell_type": "code",
      "source": [
        "function(x=3,y=4, 1,2,3,4,5)\n",
        "\n",
        "# 순서가 맞지 않아서 오류가 나옴"
      ],
      "metadata": {
        "id": "0-Q-F6ZY01-R"
      },
      "execution_count": null,
      "outputs": []
    },
    {
      "cell_type": "code",
      "source": [
        "function(a=4) \n",
        "\n",
        "# ()\n",
        "# {'a': 4}"
      ],
      "metadata": {
        "id": "RqTDPtX80179"
      },
      "execution_count": null,
      "outputs": []
    },
    {
      "cell_type": "markdown",
      "source": [
        "# args / kwangs\n",
        "\n",
        "https://engineer-mole.tistory.com/279\n",
        "\n",
        "파이썬 함수에서는 인수 개수를 변경할 수 있다.\n",
        "위치 인수에 대해 첫번째, 두번째는 필수, 세번째 이후는 선택으로 정할 수 있는데, 임의로 개수가 변하는 인수를 가변 길이 인수라 부르고, *를 붙이면 가변 길이 인수가 된다. 지정한 인수가 튜플로 지정이 되고, args라는 변수명을 많이 사용한다.\n",
        "\n",
        "* 결국 동시에 여러 입력값을 주고 싶을때 사용한다.\n",
        "* 아무 이름이나 사용해도 되긴한다. *만 붙이면\n",
        "* Tuple처럼 사용이 가능하다. 굳이 리스트나 튜플로 변경하지 않아도 된다.\n",
        "* 가변인자는 들어오는 인자의 갯수가 언제나 변할 수 있다."
      ],
      "metadata": {
        "id": "9Gmxwtpm6kMO"
      }
    },
    {
      "cell_type": "code",
      "source": [
        "# args 예시 1\n",
        "def a_test(a, *args):    # 인자? 앞에 *인 경우 패킹\n",
        "  print(a, args)\n",
        "\n",
        "a_test(1,2,3,4,5,6)\n",
        "\n",
        "# 1 (2, 3, 4, 5, 6)     # 값이 묶임"
      ],
      "metadata": {
        "id": "OUxYbWqJ015R"
      },
      "execution_count": null,
      "outputs": []
    },
    {
      "cell_type": "code",
      "source": [
        "# kwargs 예시 1\n",
        "# 헷갈리시지 말라고 내드린 문제입니다.\n",
        "\n",
        "def b_test(a, *kwargs):\n",
        "  print(a, kwargs)\n",
        "\n",
        "b_test(1,b=2,c=3,d=4,e=5,f=6)\n",
        "\n",
        "# *가 하나이기 때문에 딕셔너리가 불가능해서 오류가 나옴\n",
        "# * 뒤의 이름이 중요한게 아니라 *의 개수가 중요"
      ],
      "metadata": {
        "id": "_bgUHgjm6nYQ"
      },
      "execution_count": null,
      "outputs": []
    },
    {
      "cell_type": "code",
      "source": [
        "# 변수 앞에 별표를 붙이는건 언패킹 \n",
        "# args 예시 2\n",
        "\n",
        "def c_test(a, args):\n",
        "  print(a, *args)\n",
        "\n",
        "c_test(1,(2,3,4,5,6))"
      ],
      "metadata": {
        "colab": {
          "base_uri": "https://localhost:8080/"
        },
        "id": "OIPtdWix6nS9",
        "outputId": "1e8df601-365a-4685-d4a3-99ca64a95561"
      },
      "execution_count": null,
      "outputs": [
        {
          "output_type": "stream",
          "name": "stdout",
          "text": [
            "1 2 3 4 5 6\n"
          ]
        }
      ]
    },
    {
      "cell_type": "code",
      "source": [
        "# 변수의 언패킹\n",
        "a, b, c =([1,2],[3,4],[5,6])"
      ],
      "metadata": {
        "id": "rosPTqGB012u"
      },
      "execution_count": null,
      "outputs": []
    },
    {
      "cell_type": "code",
      "source": [
        "print(a)\n",
        "print(b)\n",
        "print(c)"
      ],
      "metadata": {
        "colab": {
          "base_uri": "https://localhost:8080/"
        },
        "id": "I0GXggEP9MER",
        "outputId": "93bd4cdf-1eb7-43a4-c2d2-79fa2b9de584"
      },
      "execution_count": null,
      "outputs": [
        {
          "output_type": "stream",
          "name": "stdout",
          "text": [
            "[1, 2]\n",
            "[3, 4]\n",
            "[5, 6]\n"
          ]
        }
      ]
    },
    {
      "cell_type": "code",
      "source": [
        "data = ([1,2],[3,4],[5,6])\n",
        "print(*data)"
      ],
      "metadata": {
        "colab": {
          "base_uri": "https://localhost:8080/"
        },
        "id": "0XpDINfX9L_r",
        "outputId": "bbd95433-82f1-4d52-c00b-b28fa31ec2f7"
      },
      "execution_count": null,
      "outputs": [
        {
          "output_type": "stream",
          "name": "stdout",
          "text": [
            "[1, 2] [3, 4] [5, 6]\n"
          ]
        }
      ]
    },
    {
      "cell_type": "code",
      "source": [
        "def print_args(*args):\n",
        "  print(args)\n",
        "  for x in args:\n",
        "    print(x)\n",
        "\n",
        "print_args(100, True, 'leehojun')"
      ],
      "metadata": {
        "colab": {
          "base_uri": "https://localhost:8080/"
        },
        "id": "Xrj6z_S_9L9d",
        "outputId": "c47de496-9d8f-445f-f875-d84db6cdaa0d"
      },
      "execution_count": null,
      "outputs": [
        {
          "output_type": "stream",
          "name": "stdout",
          "text": [
            "(100, True, 'leehojun')\n",
            "100\n",
            "True\n",
            "leehojun\n"
          ]
        }
      ]
    },
    {
      "cell_type": "code",
      "source": [
        "def func(x, y, *args):\n",
        "  print(f\"첫번째값은 {x}\")\n",
        "  print(f\"두번째값은 {y}\")\n",
        "  if args:\n",
        "    print(f\"세번째 이후의 값은 {args}\")\n",
        "\n",
        "func(1,2)"
      ],
      "metadata": {
        "id": "d4wXgKhf9L7M"
      },
      "execution_count": null,
      "outputs": []
    },
    {
      "cell_type": "code",
      "source": [
        "func(1,2,3,4,5)"
      ],
      "metadata": {
        "id": "nZZwbehs9L40"
      },
      "execution_count": null,
      "outputs": []
    },
    {
      "cell_type": "markdown",
      "source": [
        "kwargs\n",
        "\n",
        "**kwargs는 딕셔너리 형태로 가변인수를 받을 수 있는 방법입니다. \n",
        "\n",
        "사용방법은 args와 동일하고, args는 튜플형식으로 받지만\n",
        "kwargs는 딕셔너리 형태로 받는다는 특징이 있습니다."
      ],
      "metadata": {
        "id": "LjBmnzdl-oUb"
      }
    },
    {
      "cell_type": "code",
      "source": [
        "def print_kwargs(a, **kwargs):\n",
        "  print(a)\n",
        "  print(kwargs)\n",
        "  for i in kwargs:\n",
        "    print(i)\n",
        "\n",
        "print_kwargs(100, name = 'leehojun', age = 10)"
      ],
      "metadata": {
        "colab": {
          "base_uri": "https://localhost:8080/"
        },
        "id": "7GORdyW401zX",
        "outputId": "7ea6ec5d-6750-44a8-f479-2e2d265354e5"
      },
      "execution_count": null,
      "outputs": [
        {
          "output_type": "stream",
          "name": "stdout",
          "text": [
            "100\n",
            "{'name': 'leehojun', 'age': 10}\n",
            "name\n",
            "age\n"
          ]
        }
      ]
    },
    {
      "cell_type": "code",
      "source": [
        "def func(x, y, **kwargs):\n",
        "  print(f\"첫번째 인자는 x\")\n",
        "  print(f\"두번째 인자는 y\")\n",
        "  if kwargs:\n",
        "    print(f\"세 번째 이후의 인수 : {kwargs}\")\n",
        "\n",
        "func(x=1, y=2)"
      ],
      "metadata": {
        "id": "UEwkPeef-nIh"
      },
      "execution_count": null,
      "outputs": []
    },
    {
      "cell_type": "code",
      "source": [
        "func(x=1, y=2, z = 3, w= 4)"
      ],
      "metadata": {
        "id": "fFrGb7L8-nGq"
      },
      "execution_count": null,
      "outputs": []
    },
    {
      "cell_type": "markdown",
      "source": [
        "args와 kwargs의 응용\n",
        "\n",
        "앞에는 args형식으로 뒤에는 kwargs형식으로 받게되면 정상적으로 작동합니다. 파라미터를 넣을때 순서를 바꾸거나 혼합하면 에러가 발생됩니다."
      ],
      "metadata": {
        "id": "M4WGB36K-tP_"
      }
    },
    {
      "cell_type": "code",
      "source": [
        "# 아래 예제는 파라미터의 값을 선언해서 보내는 형식으로 구성되어 있습니다. \n",
        "# 예제 뿐만 아니라 다양하게 실습해 보시기 바랍니다.\n",
        "\n",
        "def print_args_kwargs(*args, **kwargs):\n",
        "    print('args:', args)\n",
        "    for x in args:\n",
        "        print(x)\n",
        "    print('kwargs:', kwargs)\n",
        "    for x in kwargs:\n",
        "        print(x)\n",
        "        print(kwargs[x])\n",
        "\n",
        "inputlist=[100, True, 'leehojun']\n",
        "inputdic={'score':100, 'name':'leehojun', 'age':'10'}\n",
        "print_args_kwargs(*inputlist)\n",
        "print('--------')\n",
        "print_args_kwargs(**inputdic)\n",
        "print('--------')\n",
        "print_args_kwargs(*inputlist, **inputdic)"
      ],
      "metadata": {
        "id": "SljA9o0l-nEV"
      },
      "execution_count": null,
      "outputs": []
    },
    {
      "cell_type": "code",
      "source": [
        "# 가변 길이 위치 인수와 키워드 인수의 조합\n",
        "\n",
        "# 가변 길이 위치 인수와 키워드 인수 조합\n",
        "def func(x, *args, **kwargs):\n",
        "    print(x)\n",
        "    print(args)\n",
        "    print(kwargs)\n",
        "\n",
        "\n",
        "print(\"---첫 번째 인수만 지정한 결과---\")\n",
        "func(1)\n",
        "\n",
        "print(\"---길이가 변하는 인수를 지정한 결과---\")\n",
        "func(1, 100, 200, 300, a=\"X\", b=\"Y\", c=\"Z\")"
      ],
      "metadata": {
        "id": "KqrcdzXv-nCI"
      },
      "execution_count": null,
      "outputs": []
    },
    {
      "cell_type": "code",
      "source": [
        "def 가격계산(할인율, *구매가_목록):\n",
        "  \"\"\"구매가 목록을 합산하고, 할인율을 반영해서 가격을 계산한다.\"\"\"\n",
        "  return (1- 할인율) * sum(구매가_목록)\n",
        "\n",
        "가격계산(0.25, 10000)\n",
        "\n",
        "가격계산(0.25, 10000, 15000, 25000)"
      ],
      "metadata": {
        "id": "ZcY80SAb-m_Z"
      },
      "execution_count": null,
      "outputs": []
    },
    {
      "cell_type": "code",
      "source": [
        "# 기타 *의 활용법\n",
        "\n",
        "one, two, *three = 1,2,3,4,5\n",
        "print(one, two, three) #three = 리스트\n"
      ],
      "metadata": {
        "id": "HwPysXnK-m86"
      },
      "execution_count": null,
      "outputs": []
    },
    {
      "cell_type": "code",
      "source": [
        "# 자료형 리스트\n",
        "a_1 = [1,2,3]\n",
        "print(*a_1)"
      ],
      "metadata": {
        "id": "YGmZKKWYFTnA"
      },
      "execution_count": null,
      "outputs": []
    },
    {
      "cell_type": "code",
      "source": [
        "a_2 = (1,2,3)\n",
        "print(*a_2)"
      ],
      "metadata": {
        "id": "2_PTQ3eEFTk_"
      },
      "execution_count": null,
      "outputs": []
    },
    {
      "cell_type": "code",
      "source": [
        "# 시퀀스 언패킹 1 - 리스트 튜플\n",
        "# 함수 호출시 위치인수 지정하기 - 함수 사용시 적용할수 있음\n",
        "\n",
        "def func(x, y, z):\n",
        "  print(x, y ,z)\n",
        "  return x + y + z\n",
        "\n",
        "# 언패킹 되는 함수 x,y,z\n",
        "param = [1,2,3] # 리스트가 풀리게 된다.\n",
        "w = func(*param)\n",
        "print(w)\n"
      ],
      "metadata": {
        "id": "YAdwZjN7FTis"
      },
      "execution_count": null,
      "outputs": []
    },
    {
      "cell_type": "code",
      "source": [
        "w = func(*[1,2,3])\n",
        "print(w)"
      ],
      "metadata": {
        "id": "ZDUD_QnaFTgV"
      },
      "execution_count": null,
      "outputs": []
    },
    {
      "cell_type": "code",
      "source": [
        "# 키워드 인수 데이터를 받아올때\n",
        "\n",
        "def func(x,y,z):\n",
        "  print(x,y,z)\n",
        "  return x + y + z\n",
        "\n",
        "params = {\"x\" : 1, \"y\" : 2, \"z\" : 3}\n",
        "w = func(**params)\n",
        "print(w)"
      ],
      "metadata": {
        "id": "9lJT9FkXFTeK"
      },
      "execution_count": null,
      "outputs": []
    },
    {
      "cell_type": "code",
      "source": [
        "# 함수 호출시 인자가 더 많은 경우\n",
        "\n",
        "def func(x, y, z, a1,b1,c1):\n",
        "  print(x,y,z,a1,b1,c1)\n",
        "  return x + y + z + a1 + b1 + c1\n",
        "\n",
        "param1 = [1,2,3]\n",
        "param2 = {\"x\" : 1, \"y\" : 2, \"z\" : 3}\n",
        "w = func(*param1, **param2)\n",
        "print(w)"
      ],
      "metadata": {
        "id": "yw472YlEFTbz"
      },
      "execution_count": null,
      "outputs": []
    },
    {
      "cell_type": "code",
      "source": [
        "def func(x, y, z, a1, b1, c1):\n",
        "  print(x, y, z, a1, b1, c1)\n",
        "  return x + y + z + a1 + b1 + c1\n",
        "\n",
        "param1 = [1,2,3]\n",
        "param2 = {\"a1\" : 1, \"b1\" : 2, \"c1\" : 3}\n",
        "w = func(*param1, **param2)\n",
        "print(w)"
      ],
      "metadata": {
        "id": "GT8eBkWqFTZL"
      },
      "execution_count": null,
      "outputs": []
    },
    {
      "cell_type": "code",
      "source": [
        "def counter(*args):\n",
        "  count = len(args)\n",
        "  return count\n",
        "\n",
        "print(counter([\"test\",\"hello\",\"python\"]))\n",
        "\n",
        "# 1. 1개        값이 하나하나하나로 들어오기 때문에 len(args) = 1이 나옴\n",
        "# 2. 2개\n",
        "# 3. 3개\n",
        "# 4. 4개\n",
        "# 5. 5개"
      ],
      "metadata": {
        "colab": {
          "base_uri": "https://localhost:8080/"
        },
        "id": "jHu6gvhPG7KZ",
        "outputId": "248ed4cc-e306-4557-e1f0-a76718c5abd5"
      },
      "execution_count": null,
      "outputs": [
        {
          "output_type": "stream",
          "name": "stdout",
          "text": [
            "1\n"
          ]
        }
      ]
    },
    {
      "cell_type": "code",
      "source": [
        "def counter(args):\n",
        "  count = len(args)\n",
        "  return count\n",
        "\n",
        "print(counter([\"test\",\"hello\",\"python\"]))\n",
        "\n",
        "# 1. 1개  \n",
        "# 2. 2개\n",
        "# 3. 3개        값이 묶여서 들어오기 때문에 len(args) = 3\n",
        "# 4. 4개\n",
        "# 5. 5개"
      ],
      "metadata": {
        "id": "0yelnfFGHaiF"
      },
      "execution_count": null,
      "outputs": []
    },
    {
      "cell_type": "code",
      "source": [
        "# 날짜변수 다루기 예제\n",
        "\n",
        "def data_to_string(y,m,d):\n",
        "  \"\"\"연도, 월, 일을 입력받아서 yyyy년, m월 d일로 반환한다.\"\"\"\n",
        "  return str(y) + \"년\" + str(m) + \"월\" + str(d) + \"일\"\n",
        "\n",
        "# 기본 함수값 불러오기\n",
        "\n",
        "date = (2023,5,8)\n",
        "data_to_string(date[0], date[1], date[2])"
      ],
      "metadata": {
        "id": "Mu2wTbGmKxYE"
      },
      "execution_count": null,
      "outputs": []
    },
    {
      "cell_type": "code",
      "source": [
        "# 언패킹 \n",
        "data_to_string(*date)"
      ],
      "metadata": {
        "id": "qzQHSdCeKxVv"
      },
      "execution_count": null,
      "outputs": []
    },
    {
      "cell_type": "code",
      "source": [
        "data_to_string(*[2023,5,8])"
      ],
      "metadata": {
        "id": "8RAJeB1zKxTc"
      },
      "execution_count": null,
      "outputs": []
    },
    {
      "cell_type": "code",
      "source": [
        "data_to_string(2023, *(5,8))"
      ],
      "metadata": {
        "id": "KOo4MtaEKxQ5"
      },
      "execution_count": null,
      "outputs": []
    },
    {
      "cell_type": "code",
      "source": [
        "# **사용 언패킹 날짜 예제\n",
        "\n",
        "date = {'y' : 1917, 'm' :9, 'd' : 4}\n",
        "\n",
        "data_to_string(date['y'], date['m'], date['d'])"
      ],
      "metadata": {
        "id": "49HWRDyyK146"
      },
      "execution_count": null,
      "outputs": []
    },
    {
      "cell_type": "code",
      "source": [
        "# 언패킹 함수\n",
        "\n",
        "data_to_string(**date)"
      ],
      "metadata": {
        "id": "S98ongmCK12r"
      },
      "execution_count": null,
      "outputs": []
    },
    {
      "cell_type": "code",
      "source": [
        "# 함수를 변수로 다루기\n",
        "\n",
        "def add_num(x, y):\n",
        "  return x + y\n",
        "\n",
        "# 변수에 대입할 수 있음\n",
        "x = add_num\n",
        "\n",
        "# 함수를 실행\n",
        "z = x(100, 200)\n",
        "print(z)"
      ],
      "metadata": {
        "id": "Hy7Zyf5NK10W"
      },
      "execution_count": null,
      "outputs": []
    },
    {
      "cell_type": "code",
      "source": [
        "# 어떤 함수가 몇번 호출되었는지 확인 실행할때!!\n",
        "\n",
        "def outer_function():\n",
        "  \"\"\" 외부 함수 \"\"\"\n",
        "\n",
        "  def inner_function():\n",
        "    \"\"\"내부 함수\"\"\"\n",
        "    count = 0\n",
        "    count += 1   \n",
        "    print(f\"실행횟수가 {count}회 실행되었습니다.\")\n",
        "\n",
        "  return inner_function\n",
        "\n",
        "func1 = outer_function()\n",
        "\n",
        "# 함수 실행\n",
        "func1()\n",
        "func1()\n",
        "func1()"
      ],
      "metadata": {
        "id": "lX4AdcnyKpOA"
      },
      "execution_count": null,
      "outputs": []
    },
    {
      "cell_type": "code",
      "source": [
        "# 어떤 함수가 몇번 호출되었는지 확인 실행할때!!\n",
        "\n",
        "def outer_function():\n",
        "  \"\"\" 외부 함수 \"\"\"\n",
        "  count = 0\n",
        "  def inner_function():\n",
        "    \"\"\"내부 함수\"\"\"\n",
        "    nonlocal count # 이 nonlocal 함수는 저장이 가능한 함수 count값을 저장 \n",
        "    count += 1   \n",
        "    print(f\"실행횟수가 {count}회 실행되었습니다.\")\n",
        "\n",
        "  return inner_function\n",
        "\n",
        "func1 = outer_function()\n",
        "\n",
        "# 함수 실행\n",
        "func1()\n",
        "func1()\n",
        "func1()"
      ],
      "metadata": {
        "id": "J0WPVeHgNME3"
      },
      "execution_count": null,
      "outputs": []
    },
    {
      "cell_type": "code",
      "source": [
        "# 데코레이터 사용\n",
        "# 데코레이터 고유 기능 - 기본 함수를 변경하지않고 기능을 추가할 수 있다.\n",
        "\n",
        "def add_message(f):\n",
        "  \"\"\"함수 앞뒤로 시작/종료 메세지를 추가한다.\"\"\"\n",
        "\n",
        "  def new_func():\n",
        "    print(\"처리를 시작합니다.\")\n",
        "    f()\n",
        "    print(\"처리를 종료합니다.\")\n",
        "  \n",
        "  return new_func\n",
        "\n",
        "def sample_func():\n",
        "  \"\"\"실행메세지를 표시하는 함수\"\"\"\n",
        "  print(\"sample_func 함수 처리를 실행합니다.\")\n",
        "\n",
        "# sample_func에 대해 추가한 함수를 실행\n",
        "\n",
        "deco_func = add_message(sample_func)\n",
        "\n",
        "deco_func()\n"
      ],
      "metadata": {
        "id": "FP_HYpL_NNBq"
      },
      "execution_count": null,
      "outputs": []
    },
    {
      "cell_type": "code",
      "source": [
        "처리를 시작합니다.\n",
        "sample_func 함수 처리를 실행합니다.\n",
        "처리를 종료합니다."
      ],
      "metadata": {
        "id": "gscJfodhNM_V"
      },
      "execution_count": null,
      "outputs": []
    },
    {
      "cell_type": "markdown",
      "source": [
        "# 람다식\n",
        "\n",
        "lambda()는 익명함수, 이름이 없는 함수"
      ],
      "metadata": {
        "id": "K2pxO_EXNPLv"
      }
    },
    {
      "cell_type": "code",
      "source": [
        "hojun = print\n",
        "hojun('hello world')\n",
        "\n",
        "# print를 hojun으로 받고, Print함수를 호출할 수 있다.\n",
        "# 즉, 이름이 있는 것은 변수로 지정할 수 있다."
      ],
      "metadata": {
        "id": "AzGJi2bENQJO"
      },
      "execution_count": null,
      "outputs": []
    },
    {
      "cell_type": "code",
      "source": [
        "def add(x,y):\n",
        "  return x + y\n",
        "def sub():\n",
        "  pass\n",
        "def div():\n",
        "  pass\n",
        "def mul():\n",
        "  pass\n",
        "\n",
        "calculator = [add, sub, div, mul]\n",
        "print(calculator[0](10,20))"
      ],
      "metadata": {
        "id": "kNp0jUE1NQrV"
      },
      "execution_count": null,
      "outputs": []
    },
    {
      "cell_type": "markdown",
      "source": [
        "우선 add, sub, div, mul이라는 사칙연산을 수행하는 함수를 선언해주었습니다. 그 다음 각 함수들의 이름을 calculator라는 배열에 넣어주었고, print로 0번째 배열을 호출하였더니 함수 add의 결과값인 30이 나오게 되었습니다.\n",
        "\n",
        "우리가 일반적으로 사용할 수 있는 변수의 위치에 ( )(괄호)만 사용하지 않는다면 변수처럼 사용할 수 있으며, 호출할 때는 '( )'(괄호)를 사용해줍니다.\n",
        "\n",
        "그럼 lambda함수는 왜 익명함수 일까요? 이름이 있는 함수들과는 다르게 매우 간결하게 작성할 수 있기 때문입니다."
      ],
      "metadata": {
        "id": "fvkZAsGSQOlP"
      }
    },
    {
      "cell_type": "code",
      "source": [
        "# 람다식 람다함수\n",
        "lambda 매개변수 : 결과"
      ],
      "metadata": {
        "id": "K8hhD_ViNQn2"
      },
      "execution_count": null,
      "outputs": []
    },
    {
      "cell_type": "code",
      "source": [
        "# 예제\n",
        "# x라는 매개변수가 들어오면 x ** 2를 해서 return\n",
        "\n",
        "제곱 = lambda x : x **2\n",
        "제곱(3)"
      ],
      "metadata": {
        "id": "DPA1UmV2NQla"
      },
      "execution_count": null,
      "outputs": []
    },
    {
      "cell_type": "code",
      "source": [
        "(lambda x : x ** 2)(3)"
      ],
      "metadata": {
        "id": "GQhz0xTPNQjG"
      },
      "execution_count": null,
      "outputs": []
    },
    {
      "cell_type": "code",
      "source": [
        "# 하나 더 보면 예제 2\n",
        "\n",
        "def f(x, y):\n",
        "  return x + y\n",
        "\n",
        "print(f(1,4))"
      ],
      "metadata": {
        "id": "S5j3IGn6NQgi"
      },
      "execution_count": null,
      "outputs": []
    },
    {
      "cell_type": "code",
      "source": [
        "f = lambda x, y : x + y\n",
        "print(f(1,4))"
      ],
      "metadata": {
        "id": "h5BuoybeNQeS"
      },
      "execution_count": null,
      "outputs": []
    },
    {
      "cell_type": "code",
      "source": [
        "print(f(1))"
      ],
      "metadata": {
        "id": "RUc04_98QT-D"
      },
      "execution_count": null,
      "outputs": []
    },
    {
      "cell_type": "code",
      "source": [
        "func = lambda x : \"*\" + str(x) + \"*\"\n",
        "\n",
        "print(func(\"바나나\"))"
      ],
      "metadata": {
        "id": "GR7eucF2QT7y"
      },
      "execution_count": null,
      "outputs": []
    },
    {
      "cell_type": "markdown",
      "source": [
        "# Map 함수\n",
        "\n",
        "lambda 함수와 가장 많이 조합되어 이용하는 함수입니다. 간단히 설명드리도록 할게요.\n",
        "\n",
        "방금 위에서 만들었던 매개변수를 제곱하여 return하는 함수를 만들어 볼겁니다. 그런데 아까 위에서 작성했던 예제는 하나의 값만 받고 하나의 값만 리턴할 수 있었죠?\n",
        "\n",
        "여러값이 들어오게 된다면 어떻게 해야할까요?"
      ],
      "metadata": {
        "id": "Ye2Pe9u-QW8U"
      }
    },
    {
      "cell_type": "code",
      "source": [
        "# 1번째 방법 map\n",
        "\n",
        "def 제곱(x):\n",
        "  return x ** 2\n",
        "\n",
        "list(map(제곱, [1,2,3,4]))"
      ],
      "metadata": {
        "id": "54OjvikSQT5l"
      },
      "execution_count": null,
      "outputs": []
    },
    {
      "cell_type": "code",
      "source": [
        "# 2번째 방법 map\n",
        "\n",
        "list(map(lambda x : x ** 2, [1,2,3,4]))"
      ],
      "metadata": {
        "id": "iUEev21pQT3c"
      },
      "execution_count": null,
      "outputs": []
    },
    {
      "cell_type": "code",
      "source": [
        "# 다른 예시\n",
        "\n",
        "ex = [1,2,3,4,5]\n",
        "f = lambda x : x ** 2\n",
        "\n",
        "print(list(map(f, ex)))\n",
        "\n",
        "# 위 코드에서는 먼저 ex라는 리스트를 먼저 만들고, 입력된 값을 제곱하는 람다함수 f를 생성하였습니다.\n",
        "# 결국 Map은 mapping을 생각해보면 편한데, map(함수 이름, 리스트 데이터)라는 형태에 맞춰 함수 F에 ex의 요소를 매핑하라라는 뜻이다."
      ],
      "metadata": {
        "id": "-E_uazCMQT0l"
      },
      "execution_count": null,
      "outputs": []
    },
    {
      "cell_type": "code",
      "source": [
        "# 1.1 제너레이터 사용\n",
        "\n",
        "# 파이썬 3.x 버전부터는 반드시 list(map(f, ex)) 리스트를 꼭 붙여야 리스트 형태로 자료 붙여지게되요\n",
        "# map(f, ex) -> list(map(f, ex))\n",
        "# 제너레이터 장점은 시퀀스 자료형의 데이터를 처리할때 실행 시점의 값을 생성해서 효율적으로 메모리를 관리할 수 있게 합니다."
      ],
      "metadata": {
        "id": "Mhk0cuBEQTyJ"
      },
      "execution_count": null,
      "outputs": []
    },
    {
      "cell_type": "code",
      "source": [
        "# 리스트가 없으면?\n",
        "\n",
        "ex = [1,2,3,4,5]\n",
        "f = lambda x : x**2\n",
        "for value in map(f,ex):\n",
        "  print(value)"
      ],
      "metadata": {
        "id": "3CFjR9wwktNR"
      },
      "execution_count": null,
      "outputs": []
    },
    {
      "cell_type": "code",
      "source": [
        "# 무언가의 값을 추가하기 위해서는 append\n",
        "new_list = []\n",
        "ex = [1,2,3,4,5]\n",
        "f = lambda x : x**2\n",
        "for value in map(f,ex):\n",
        "  new_list.append(value)"
      ],
      "metadata": {
        "id": "Z_RzggZHktLI"
      },
      "execution_count": null,
      "outputs": []
    },
    {
      "cell_type": "code",
      "source": [
        "new_list"
      ],
      "metadata": {
        "id": "Ai0CZh53ktI2"
      },
      "execution_count": null,
      "outputs": []
    },
    {
      "cell_type": "code",
      "source": [
        "ex = [1,2,3,4,5]\n",
        "f = lambda x : x ** 2\n",
        "\n",
        "print(list(map(f, ex)))"
      ],
      "metadata": {
        "id": "qV4wBahEktGO"
      },
      "execution_count": null,
      "outputs": []
    },
    {
      "cell_type": "code",
      "source": [
        "# 리스트 컴프리 핸션\n",
        "\n",
        "ex = [1,2,3,4,5]\n",
        "[x ** 2 for x in ex]"
      ],
      "metadata": {
        "id": "qA6ENyXtktDw"
      },
      "execution_count": null,
      "outputs": []
    },
    {
      "cell_type": "code",
      "source": [
        "# lambda함수의 filter 기능\n",
        "# 조건문\n",
        "\n",
        "list(filter(lambda x : x > 50, range(100)))"
      ],
      "metadata": {
        "id": "ElMz0VOgmgo6"
      },
      "execution_count": null,
      "outputs": []
    },
    {
      "cell_type": "code",
      "source": [
        "# map함수와 비슷하지만 자주 언급되는 reduce함수\n",
        "\n",
        "reduce함수는 map함수와 용법은 다른고, 형제같은 함수가\n",
        "reduce 함수를 모두 적용한 다음에, 모든 값을 통합하는 함수입니다.\n"
      ],
      "metadata": {
        "id": "kq-5INIKmgmg"
      },
      "execution_count": null,
      "outputs": []
    },
    {
      "cell_type": "code",
      "source": [
        "from functools import reduce\n",
        "\n",
        "print(reduce(lambda x, y : x + y, [1,2,3,4,5]))\n",
        "\n",
        "#1번째 계산\n",
        "#x = 1 y = 2 결과 3\n",
        "\n",
        "#2번째 계산\n",
        "#x = 3 y = 3 결과 6\n",
        "\n",
        "#3번째 계산\n",
        "#x = 6 y = 4 결과 10\n",
        "\n",
        "#4번째 계산\n",
        "#x = 10 y = 5 결과 15"
      ],
      "metadata": {
        "id": "peBAxqVRmgkI"
      },
      "execution_count": null,
      "outputs": []
    },
    {
      "cell_type": "code",
      "source": [
        "x = 0\n",
        "for y in [1,2,3,4,5]:\n",
        "  x += y\n",
        "\n",
        "print(x)"
      ],
      "metadata": {
        "id": "j_YpVrp6mgh7"
      },
      "execution_count": null,
      "outputs": []
    },
    {
      "cell_type": "markdown",
      "source": [
        "# 1. 은행에서 적금통장을 개설하고, 입금/출금/잔액확인"
      ],
      "metadata": {
        "id": "BUiEBst0oEyM"
      }
    },
    {
      "cell_type": "code",
      "source": [
        "# 전산개발요구서\n",
        "# 데이터를 어디서 받아와야하는지 !! \n",
        "# 1) 현재 우리가 가지고 있는 데이터는 무엇인지?\n",
        "# 2) 만들수 있는 데이터나 가공할 수 있는 데이터가 추가로 있는지?\n",
        "# 3) 아예 가져올수 없는지 -> 새롭게 개발할건지, 아예 안쓸것인지\n",
        "\n",
        "#1. 은행계좌 만들기\n",
        "\n",
        "def open_account():\n",
        "  print('새로운 계좌를 개설합니다.')\n",
        "\n",
        "open_account()"
      ],
      "metadata": {
        "id": "HM3bN__VoGPH"
      },
      "execution_count": null,
      "outputs": []
    },
    {
      "cell_type": "code",
      "source": [
        "# 2. 입금하기\n",
        "\n",
        "def deposit(money, balance): #money 입금 받을 돈 / balance 잔액\n",
        "  print(f'{money}이 입금되었습니다. 잔액은 {money + balance}입니다.')\n",
        "  return money + balance\n",
        "\n",
        "balance = 0\n",
        "balance = deposit(5000, balance)"
      ],
      "metadata": {
        "id": "IwEIaKW9oGia"
      },
      "execution_count": null,
      "outputs": []
    },
    {
      "cell_type": "code",
      "source": [],
      "metadata": {
        "id": "-mX9LhOooGgT"
      },
      "execution_count": null,
      "outputs": []
    },
    {
      "cell_type": "code",
      "source": [
        "# 3. 출금하기\n",
        "\n",
        "def withdraw(balance, money):\n",
        "  if balance >= money:\n",
        "    print(f'{money}원을 출금했습니다. 잔액은 {balance - money} 입니다.')\n",
        "    return balance - money\n",
        "  else:\n",
        "    print(f'잔액이 부족합니다. 뽑을 수 있는 잔액은 {balance}입니다.')\n",
        "\n",
        "  \n",
        "balance = withdraw(balance, 2000)"
      ],
      "metadata": {
        "id": "FUnoBIP-oGdz"
      },
      "execution_count": null,
      "outputs": []
    },
    {
      "cell_type": "code",
      "source": [
        "balance"
      ],
      "metadata": {
        "id": "0YS5tasDrPWQ"
      },
      "execution_count": null,
      "outputs": []
    },
    {
      "cell_type": "code",
      "source": [
        "# 4. 수수료 부과하기\n",
        "def withdraw_other(balance, money):\n",
        "\n",
        "  commission = 500\n",
        "  print(f'업무시간외에는 수수료가 필요합니다 {money}를 출금하여 수수료가 {commission} 만큼 발생해서 잔액은 {balance - money - commission}입니다.')\n",
        "  return balance - money - commission\n",
        "\n",
        "withdraw_other(balance, 1000)\n"
      ],
      "metadata": {
        "id": "Dq1zPwt8rNk3"
      },
      "execution_count": null,
      "outputs": []
    },
    {
      "cell_type": "markdown",
      "source": [
        "# 연습문제 1.\n",
        "철수가 은행에 취업을 해서 처음 업무지시를 받은건 새로운 적금상품에 추가로 돈을 입금할 경우 자동으로 원금과 이자가 더해지도록 로직을 구현해야하는 상황\n",
        "\n",
        "이때 함수를 사용하여서 기능을 구현하고, 모두 구현이 된 경우 입금이 완료되었습니다 메세지를 뜨게 하고\n",
        "조건 : 적금 금리는 3.0%이고, 이자 산식은 원금 * 금리(간단하게 계산)"
      ],
      "metadata": {
        "id": "VGI-lmj1rQ63"
      }
    },
    {
      "cell_type": "code",
      "source": [
        "# 전산개발요구서\n",
        "# 데이터를 어디서 받아와야하는지 !! \n",
        "# 1) 현재 우리가 가지고 있는 데이터는 무엇인지?\n",
        "# 2) 만들수 있는 데이터나 가공할 수 있는 데이터가 추가로 있는지?\n",
        "# 3) 아예 가져올수 없는지 -> 새롭게 개발할건지, 아예 안쓸것인지\n",
        "\n",
        "#1. 은행계좌 만들기\n",
        "\n",
        "def open_account():\n",
        "  print('새로운 계좌를 개설합니다.')\n",
        "\n",
        "open_account()"
      ],
      "metadata": {
        "colab": {
          "base_uri": "https://localhost:8080/"
        },
        "id": "cje29FdVrNiQ",
        "outputId": "a9c688f9-e9f7-4d8d-b7ec-e7e093fca6b5"
      },
      "execution_count": null,
      "outputs": [
        {
          "output_type": "stream",
          "name": "stdout",
          "text": [
            "새로운 계좌를 개설합니다.\n"
          ]
        }
      ]
    },
    {
      "cell_type": "code",
      "source": [
        "# 2. 입금하기\n",
        "\n",
        "def deposit(money, balance): #money 입금 받을 돈 / balance 잔액\n",
        "  print(f'{money}이 입금이 완료되었습니다. 잔액은 {(money + balance)*rate}입니다.')\n",
        "  return money + balance\n",
        "\n",
        "rate = 1.03   # 이자\n",
        "balance = 0\n",
        "balance = deposit(5000, balance)"
      ],
      "metadata": {
        "colab": {
          "base_uri": "https://localhost:8080/"
        },
        "id": "UiaMu0JprNfu",
        "outputId": "02803a15-981e-4d35-8d21-605e9a5b66f4"
      },
      "execution_count": null,
      "outputs": [
        {
          "output_type": "stream",
          "name": "stdout",
          "text": [
            "5000이 입금되었습니다. 잔액은 5150.0입니다.\n"
          ]
        }
      ]
    },
    {
      "cell_type": "code",
      "source": [
        "# 연습문제 1.\n",
        "# x - 원래 있었던 금액\n",
        "# y - 새로 불입한 금액\n",
        "# z - 이자 3% 4% -> 10000 * 3%(-> 0.03) = 300\n",
        "\n",
        "def service_sum_amount(x,y,z):\n",
        "  if y > 0:\n",
        "    return int(x + y + (y * z/100))  \n",
        "\n",
        "print(service_sum_amount(0, 5000, 3.0))"
      ],
      "metadata": {
        "id": "xWlMO-kQsTi6"
      },
      "execution_count": null,
      "outputs": []
    },
    {
      "cell_type": "code",
      "source": [
        "def service_price():\n",
        "  service = input('서비스의 종류를 입력하세요 기본/프리미엄/올인원')\n",
        "  valueprice = input('부가세 포함여부? y/n')\n",
        "  if valueprice == 'y':\n",
        "    if service == '기본':\n",
        "      result = 300000 * 1.1\n",
        "    elif service == '프리미엄':\n",
        "      result = 600000 * 1.1\n",
        "    elif service == '올인원':\n",
        "      result = 1000000 * 1.1\n",
        "  else:\n",
        "    print(\"비용이 발생되지 않았습니다.\")\n",
        "  print(f\"{result}만원 입니다.\")\n",
        "  #print(f\"{round(result,1)}만원입니다.)"
      ],
      "metadata": {
        "id": "XmNymVK7wv3m"
      },
      "execution_count": null,
      "outputs": []
    },
    {
      "cell_type": "code",
      "source": [
        "##########################################\n",
        "# 스페이스 어드벤처 게임\n",
        "# 벤 & 쉬무엘 만듦\n",
        "##########################################\n",
        " \n",
        "# 플레이어 환영 메시지\n",
        "def doWelcome():\n",
        "    # 텍스트 출력하기\n",
        "    print(\"탐험가 여러분을 환영합니다!\")\n",
        "    print(\"혼란스러운 상태에서 잠을 깬 여러분은 아무것도 떠오르지 않습니다.\")\n",
        "    print(\"방문까지 겨우 기어가 손잡이를 돌렸더니 문이 열립니다.\")\n",
        "    print(\"밖으로 나가 봐도 모든 것이 낯설기만 합니다.\")\n",
        "    print(\"바깥 풍경은 척박하고 황량한 붉은 흙만이 흩날릴 뿐입니다.\")\n",
        "    print(\"우주복을 입은 자신을 발견하곤 모든 것이 궁금해집니다.\")\n",
        " \n",
        "# 장소: 출발점\n",
        "def doStart():\n",
        "    # 텍스트 출력하기\n",
        "    print(\"주위를 둘러봐도 붉은 사막과 바위 더미와 먼지뿐입니다.\")\n",
        "    print(\"여러분 앞에는 이상하게 생긴 팔각형 구조물이 있습니다.\")\n",
        "    print(\"가까이 가니 삐 소리가 들립니다. 그리곤 멈춥니다. 아니, 계속됩니다.\")\n",
        "    # 플레이어 행동 선택 프롬프트\n",
        "    choice = \" \"\n",
        "    while not choice in \"PSBR\":\n",
        "        print(\"여러분이 할 수 있는 일:\")\n",
        "        print(\"P = 바위 더미를 조사한다\")\n",
        "        print(\"S = 구조물에 접근한다\")\n",
        "        print(\"B = 삐 소리가 나는 곳으로 간다\")\n",
        "        print(\"R = 도망간다!\")\n",
        "        choice = input(\"무엇을 하고 싶으세요? [P/S/B/R]\").strip().upper()\n",
        "    # 행동 실행하기\n",
        "    if choice == 'P':\n",
        "        doBoulders()\n",
        "    elif choice == 'S':\n",
        "        doStructure()\n",
        "    elif choice == 'B':\n",
        "        doBeeping()\n",
        "    elif choice == 'R':\n",
        "        doRun()\n",
        "\n",
        "# 장소: 바위 더미\n",
        "# 인벤토리 시스템 구현용 개발자 메모 \n",
        "# 이곳이 열쇠가 숨겨진 장소가 됩니다.\n",
        "def doBoulders():\n",
        "    # 텍스트 출력하기\n",
        "    print(\"정말인가요? 그건 바위 더미입니다.\")\n",
        "    print(\"크고 무겁고 단순한 바위입니다.\")\n",
        "    # 시작 위치로 돌아가기\n",
        "    doStart()\n",
        "\n",
        "# 장소: 구조물\n",
        "def doStructure():\n",
        "    # 텍스트 출력하기\n",
        "    print(\"여러분은 이상한 구조물을 조사합니다.\")\n",
        "    print(\"안에서는 오싹하면서도 기이한 소리가 들립니다.\")\n",
        "    print(\"문도 없고 창문도 없습니다.\")\n",
        "    print(\"아니, 문처럼 보여서 한번 열어 보려고 합니다.\")\n",
        "    print(\"그리고 삐 소리가 들립니다. 어디서 나는 소리일까요?\")\n",
        "    # 플레이어 행동 선택 프롬프트\n",
        "    choice = \" \"\n",
        "    while not choice in \"SDBR\":\n",
        "        print(\"여러분이 할 수 있는 일:\")\n",
        "        print(\"S = 시작 지점으로 돌아간다\")\n",
        "        print(\"D = 문을 연다\")\n",
        "        print(\"B = 삐 소리가 나는 곳으로 간다\")\n",
        "        print(\"R = 도망간다!\")\n",
        "        choice = input(\"무엇을 하고 싶으세요? [S/D/B/R]\").strip().upper()\n",
        "    # 행동 실행하기\n",
        "    if choice == 'S':\n",
        "        doStart()\n",
        "    elif choice == 'D':\n",
        "        doStructureDoor()\n",
        "    elif choice == 'B':\n",
        "        doBeeping()\n",
        "    elif choice == 'R':\n",
        "        doRun()\n",
        " \n",
        "# 장소: 구조물 입구\n",
        "# 인벤토리 시스템 구현용 개발자 메모 \n",
        "# 열쇠가 있을 때만 열 수 있습니다.\n",
        "def doStructureDoor():\n",
        "    # 텍스트 출력하기\n",
        "    print(\"문은 잠긴 듯합니다.\")\n",
        "    print(\"둥근 구멍이 보입니다. 열쇠 구멍일까요?\")\n",
        "    print(\"그쪽으로 손을 내밀지만 파란빛이 번쩍이며 닫혀 버립니다!\")\n",
        "    print(\"계획한 대로는 잘 안 되는군요.\")\n",
        "    # 플레이어 행동 선택 프롬프트\n",
        "    choice = \" \"\n",
        "    while not choice in \"SR\":\n",
        "        print(\"여러분이 할 수 있는 일:\")\n",
        "        print(\"S = 구조물로 돌아간다\")\n",
        "        print(\"R = 도망간다!\")\n",
        "        choice = input(\"무엇을 하고 싶으세요? [S/R]\").strip().upper()\n",
        "    # 행동 실행하기\n",
        "    if choice == 'S':\n",
        "        doStructure()\n",
        "    elif choice == 'R':\n",
        "        doRun()\n",
        " \n",
        "# 장소: 삐 소리 탐색하기\n",
        "def doBeeping():\n",
        "    pass\n",
        " \n",
        "# 플레이어가 도망가기를 선택하기\n",
        "def doRun():\n",
        "    # 텍스트 출력하기\n",
        "    print(\"한동안 달립니다.\")\n",
        "    print(\"그리곤 허공에 뜬 자신을 발견합니다. 아래로, 아래로, 아래로.\")\n",
        "    print(\"아주 깊은 골짜기로 떨어지며 다시는 빛을 보지 못하리라는 생각이 듭니다.\")\n",
        "    print(\"그리 용감한 행동은 아니었네요. 그렇죠?\")\n",
        "    # 사망, 게임 끝내기\n",
        "    gameOver()\n",
        "\n",
        "# 게임 끝내기\n",
        "def gameOver():\n",
        "    print(\"게임 오버!\")\n",
        " \n",
        "# 실제 게임 시작은 이곳에서\n",
        "# 환영 메시지 출력하기\n",
        "doWelcome()\n",
        "# 게임 시작하기\n",
        "doStart()"
      ],
      "metadata": {
        "id": "0vna_zGewwxZ"
      },
      "execution_count": null,
      "outputs": []
    },
    {
      "cell_type": "markdown",
      "source": [
        "# 패킹과 언패킹 복습"
      ],
      "metadata": {
        "id": "nii8cs1a7HhR"
      }
    },
    {
      "cell_type": "code",
      "source": [
        "# 패킹 : 여러 개의 데이터를 컬렉션(리스트, 튜플, 딕셔너리)으로 묶어 변수에 대입"
      ],
      "metadata": {
        "id": "cyFohu0b7F77"
      },
      "execution_count": null,
      "outputs": []
    },
    {
      "cell_type": "code",
      "source": [
        "# 언패킹 : 언패킹은 컬렉션(리스트, 튜플, 딕셔너리) 속의 요소들을 여러 개의 변수에 나누어 대입하는 것이다.\n",
        "\n",
        "test = *[1,2,3] -> # 1 2 3\n",
        "def abc(a,b,c)"
      ],
      "metadata": {
        "id": "MokA56vR7F5g"
      },
      "execution_count": null,
      "outputs": []
    },
    {
      "cell_type": "code",
      "source": [
        "# 언패킹 시 변수의 갯수와 요소의 갯수가 일치해야 한다. \n",
        "# 불필요한 값을 언더바를 사용하여 생략할 수도 있다.\n",
        "\n",
        "# a, _, _, d, e = numbers  # 필요 없는 요소를 _ 변수에 대입"
      ],
      "metadata": {
        "id": "7OvacDzt7F3S"
      },
      "execution_count": null,
      "outputs": []
    },
    {
      "cell_type": "code",
      "source": [
        "        #1번 데이터 주민번호 / 2번 데이터 성별 / 3번 데이터 나이 / 4번 입금내역 / 5번 출금내역\n",
        "numbers = (1, 2, 3, 4, 5)  # 패킹"
      ],
      "metadata": {
        "id": "REBf917g7FzZ"
      },
      "execution_count": null,
      "outputs": []
    },
    {
      "cell_type": "code",
      "source": [
        "print(a)\n",
        "print(b)\n",
        "print(c)\n",
        "print(d)\n",
        "print(e)"
      ],
      "metadata": {
        "id": "Y0mh5hwq7FxH"
      },
      "execution_count": null,
      "outputs": []
    },
    {
      "cell_type": "code",
      "source": [
        "numbers"
      ],
      "metadata": {
        "id": "PJF88myi7Fu4"
      },
      "execution_count": null,
      "outputs": []
    },
    {
      "cell_type": "code",
      "source": [
        "_, _, _, d, e = numbers  # 필요 없는 요소를 _ 변수에 대입"
      ],
      "metadata": {
        "id": "Lk2NZeYx7Fsu"
      },
      "execution_count": null,
      "outputs": []
    },
    {
      "cell_type": "code",
      "source": [
        "# *의 목적은 \n",
        "# 1) 남은 요소를 모두 대입하기 위함\n",
        "\n",
        "# 덧셈을 하는 함수를 만들었는데\n",
        "def sum_def(*arg):\n",
        "  return sum(arg)\n",
        "\n",
        "sum_def(1,2,3,4,10,40,50)\n",
        "\n",
        "# 2) 오류가 나지 않게 하기 위함"
      ],
      "metadata": {
        "id": "WrjsKkNV7Fqc"
      },
      "execution_count": null,
      "outputs": []
    },
    {
      "cell_type": "code",
      "source": [
        "# 변수 내에서 설명\n",
        "\n",
        "# 남은 요소 대입받기\n",
        "# 언패킹 시, 좌변의 변수 중 하나에 별 기호(*)를 붙이면, \n",
        "# 남은 요소 전체를 리스트에 담아 대입한다.\n",
        "\n",
        "a, b, *rest = numbers     # 1, 2를 제외한 나머지를 rest에 대입\n",
        "print(a, b, rest)\n",
        "#1 2 [3, 4, 5]\n",
        "\n",
        "a, *rest, e = numbers     # 1, 5를 제외한 나머지를 rest에 대입\n",
        "print(rest)\n",
        "#[2, 3, 4]"
      ],
      "metadata": {
        "id": "DoWIL0YU7FoG"
      },
      "execution_count": null,
      "outputs": []
    },
    {
      "cell_type": "code",
      "source": [
        "print(a)\n",
        "print(b)\n",
        "print(rest)"
      ],
      "metadata": {
        "id": "-u6iGzpS7Fly"
      },
      "execution_count": null,
      "outputs": []
    },
    {
      "cell_type": "code",
      "source": [
        "a, *rest, e = numbers     # 1, 5를 제외한 나머지를 rest에 대입\n",
        "print(rest)\n",
        "#[2, 3, 4]"
      ],
      "metadata": {
        "id": "30sOQr9E9NHm"
      },
      "execution_count": null,
      "outputs": []
    },
    {
      "cell_type": "code",
      "source": [
        "# 위치 인자와 언패킹 사용하기\n",
        "# 함수에 인자를 순서대로 넣는 방식은 위치 인자(positional argument)라고\n",
        "# 한다. 변수를 할당 받을때 일반적으로 사용하는 방식이다."
      ],
      "metadata": {
        "id": "j4PVctYw9NFb"
      },
      "execution_count": null,
      "outputs": []
    },
    {
      "cell_type": "code",
      "source": [
        "print(10, 20, 30) \n",
        "\n",
        "# 순서가 중요한 함수인 경우에는 위치 인자를 사용할때 주의 해야 한다.(머신러닝, 딥러닝)"
      ],
      "metadata": {
        "id": "gRkSYZOY9NC0"
      },
      "execution_count": null,
      "outputs": []
    },
    {
      "cell_type": "code",
      "source": [
        "x = [10, 20, 30]\n",
        "\n",
        "print(x)"
      ],
      "metadata": {
        "id": "27NO8T7j9NAo"
      },
      "execution_count": null,
      "outputs": []
    },
    {
      "cell_type": "code",
      "source": [
        "print(*x)\n",
        "\n",
        "# 변수에 *를 사용할때는 리스트, 튜플, 딕셔러니가 언패킹 된다."
      ],
      "metadata": {
        "id": "gvJxvP5N9M-c"
      },
      "execution_count": null,
      "outputs": []
    },
    {
      "cell_type": "code",
      "source": [
        "# 가변인자(*args) 만들기\n",
        "\n",
        "def 함수이름(*매개변수):\n",
        "    코드"
      ],
      "metadata": {
        "id": "xTkffgte9M8P"
      },
      "execution_count": null,
      "outputs": []
    },
    {
      "cell_type": "code",
      "source": [
        "# 패킹 예시\n",
        "def print_numbers(*args):\n",
        "  for arg in args:\n",
        "    print(arg)"
      ],
      "metadata": {
        "id": "t9GheWWu9M5o"
      },
      "execution_count": 5,
      "outputs": []
    },
    {
      "cell_type": "code",
      "source": [
        "print_numbers(1,2,3,4)"
      ],
      "metadata": {
        "colab": {
          "base_uri": "https://localhost:8080/"
        },
        "id": "PzyLnBfm9rqT",
        "outputId": "a4974716-c05e-4604-aa6c-b99334b95488"
      },
      "execution_count": 6,
      "outputs": [
        {
          "output_type": "stream",
          "name": "stdout",
          "text": [
            "1\n",
            "2\n",
            "3\n",
            "4\n"
          ]
        }
      ]
    },
    {
      "cell_type": "code",
      "source": [
        "# 패킹 예시\n",
        "def print_numbers(*args):\n",
        "  print(args)\n",
        "  for arg in args:\n",
        "    print(arg)"
      ],
      "metadata": {
        "id": "4UKVN0Yx9suB"
      },
      "execution_count": 7,
      "outputs": []
    },
    {
      "cell_type": "code",
      "source": [
        "print_numbers(1,2,3,4)"
      ],
      "metadata": {
        "colab": {
          "base_uri": "https://localhost:8080/"
        },
        "id": "cmdgtSLQ9yY1",
        "outputId": "4ce47d74-af23-43ac-d302-1836cc6a9da6"
      },
      "execution_count": 8,
      "outputs": [
        {
          "output_type": "stream",
          "name": "stdout",
          "text": [
            "(1, 2, 3, 4)\n",
            "1\n",
            "2\n",
            "3\n",
            "4\n"
          ]
        }
      ]
    },
    {
      "cell_type": "code",
      "source": [
        "# 기본 for\n",
        "\n",
        "for arg in [1,2,3,4]:\n",
        "  print(arg)"
      ],
      "metadata": {
        "id": "ISyOJv_f9M24"
      },
      "execution_count": null,
      "outputs": []
    },
    {
      "cell_type": "code",
      "source": [
        "x = [10]\n",
        "print_numbers(*x)\n",
        "# 같은 상황\n",
        "x = 10\n",
        "print_numbers(x)"
      ],
      "metadata": {
        "id": "e9QDyIrY-oY2"
      },
      "execution_count": null,
      "outputs": []
    },
    {
      "cell_type": "code",
      "source": [
        "x = [10]\n",
        "print_numbers(x)"
      ],
      "metadata": {
        "colab": {
          "base_uri": "https://localhost:8080/"
        },
        "id": "7PtIeria-rqa",
        "outputId": "1b493ace-9c3d-419e-84ba-8f10d343ed04"
      },
      "execution_count": 9,
      "outputs": [
        {
          "output_type": "stream",
          "name": "stdout",
          "text": [
            "([10],)\n",
            "[10]\n"
          ]
        }
      ]
    },
    {
      "cell_type": "code",
      "source": [
        "# 키워드 인자 사용하기 딕셔너리 패킹\n",
        "\n",
        "# 매개변수에 이름으로 일치시키는 인자를 키워드 인자라고 한다.\n",
        "# 함수를 호출할 때 인자의 값 뿐만 아니라 \n",
        "# 그 이름까지 명시적으로 지정해서 전달하는 방식이다. \n",
        "# 인자의 순서와 용도를 매번 기억하지 않아도 되서 편리하다. -> 키워드를 알아야 하니까 불편하다"
      ],
      "metadata": {
        "id": "j4wY_sbJ-roM"
      },
      "execution_count": null,
      "outputs": []
    },
    {
      "cell_type": "code",
      "source": [
        "def personal_info(name, age, address):\n",
        "  print('이름: ', name)\n",
        "  print('나이: ', age)\n",
        "  print('주소: ', address)\n",
        "\n",
        "personal_info(name='홍길동', \n",
        "              age=30, \n",
        "              address='경기도 시흥시')"
      ],
      "metadata": {
        "colab": {
          "base_uri": "https://localhost:8080/"
        },
        "id": "ULi0hWm8Dcy4",
        "outputId": "8231a6d4-be00-4d97-d114-41dce4e84ba8"
      },
      "execution_count": 12,
      "outputs": [
        {
          "output_type": "stream",
          "name": "stdout",
          "text": [
            "이름:  홍길동\n",
            "나이:  30\n",
            "주소:  경기도 시흥시\n"
          ]
        }
      ]
    },
    {
      "cell_type": "code",
      "source": [
        "list = *[10,20,30]\n",
        "a = 10\n",
        "b = 20\n",
        "c = 30"
      ],
      "metadata": {
        "id": "lr0J0oNnDcwu"
      },
      "execution_count": null,
      "outputs": []
    },
    {
      "cell_type": "code",
      "source": [
        "x = {'name': '홍길동', \n",
        "     'age': 30, \n",
        "     'address': '경기도 시흥시'}\n",
        "\n",
        "personal_info(**x) # 변수에 **를 붙이면 딕셔너리 형태가 언패킹된다."
      ],
      "metadata": {
        "colab": {
          "base_uri": "https://localhost:8080/"
        },
        "id": "eAJxkrh6DcuR",
        "outputId": "b028b670-72a7-44a7-e93d-f2010e559ae9"
      },
      "execution_count": 13,
      "outputs": [
        {
          "output_type": "stream",
          "name": "stdout",
          "text": [
            "이름:  홍길동\n",
            "나이:  30\n",
            "주소:  경기도 시흥시\n"
          ]
        }
      ]
    },
    {
      "cell_type": "code",
      "source": [
        "# 키워드 가변인자(**kwargs) 만들기\n",
        "\n",
        "# 키워드 인자와 딕셔너리 언패킹의 개념은 키워드 가변인자함수를 만들때 사용한다."
      ],
      "metadata": {
        "id": "pLpodX6z-rla"
      },
      "execution_count": null,
      "outputs": []
    },
    {
      "cell_type": "code",
      "source": [
        "# 자료 형이 딕셔너리 일때\n",
        "\n",
        "def personal_info(**kwargs):\n",
        "  print(kwargs)\n",
        "  for kw, arg in kwargs.items():\n",
        "    print(kw, ': ', arg, sep='')"
      ],
      "metadata": {
        "id": "dHkyKthB-rcG"
      },
      "execution_count": null,
      "outputs": []
    },
    {
      "cell_type": "code",
      "source": [
        "# 값을 한 개 넣어도 되고, 세 개 넣어도 됩니다.\n",
        "personal_info(name='홍길동')"
      ],
      "metadata": {
        "id": "ZzxqHl9tDy9n"
      },
      "execution_count": null,
      "outputs": []
    },
    {
      "cell_type": "code",
      "source": [
        "personal_info(name='홍길동', \n",
        "              age=30, \n",
        "              address='경기도 시흥시')"
      ],
      "metadata": {
        "id": "5JNY5sUuD0F1"
      },
      "execution_count": null,
      "outputs": []
    },
    {
      "cell_type": "code",
      "source": [
        "x = {'name': '홍길동'}\n",
        "\n",
        "personal_info(**x) # name='홍길동'\n",
        "{'name': '홍길동'}"
      ],
      "metadata": {
        "id": "ncxvyPebEcX0"
      },
      "execution_count": null,
      "outputs": []
    },
    {
      "cell_type": "code",
      "source": [
        "# name: 홍길동\n",
        "y = {'name': '홍길동', 'age': 30, 'address': '서울시 용산구 이촌동'}\n",
        "personal_info(**y)\n",
        "#name: 홍길동\n",
        "#age: 30\n",
        "#address: 서울시 용산구 이촌동"
      ],
      "metadata": {
        "id": "lh0vLVFLEdfF"
      },
      "execution_count": null,
      "outputs": []
    },
    {
      "cell_type": "code",
      "source": [
        "def personal_info(**kwargs):\n",
        "  if 'name' in kwargs:    # in으로 딕셔너리 안에 특정 키가 있는지 확인\n",
        "    print('이름: ', kwargs['name'])\n",
        "  if 'age' in kwargs:\n",
        "    print('나이: ', kwargs['age'])"
      ],
      "metadata": {
        "id": "ZyRc_qLQEeYv"
      },
      "execution_count": null,
      "outputs": []
    },
    {
      "cell_type": "code",
      "source": [
        "personal_info(name='홍길동', \n",
        "              age=30, \n",
        "              address='경기도 시흥시')"
      ],
      "metadata": {
        "id": "qbTQ9Sl_EfgY"
      },
      "execution_count": null,
      "outputs": []
    },
    {
      "cell_type": "code",
      "source": [
        "# 예제 1.\n",
        "\n",
        "arg_printer(a=4, 2, 4, 5)\n",
        "\n",
        "#python은 위치인수 뒤에 키워드인수가 오게 됩니다. \n",
        "#함수를 호출할때는 이점을 염두에 두어야합니다.\n",
        "#다음과 같이 사용하면 에러가 나게 됩니다. \n",
        "#SyntaxError: positional argument follows keyword argument"
      ],
      "metadata": {
        "id": "SeY_wtb4F8mZ"
      },
      "execution_count": null,
      "outputs": []
    },
    {
      "cell_type": "code",
      "source": [
        "#위치 인자 (non-default)\n",
        "#위치 인자 (default)\n",
        "#/ (위치 인자들 어딘가에 존재한다)\n",
        "#위치 가변 인자 (*args)\n",
        "#키워드 전용 인자 (기본값 유무는 상관 없다)\n",
        "#키워드 전용 가변 인자 (**kwargs)"
      ],
      "metadata": {
        "id": "OPUL5NcSF8jx"
      },
      "execution_count": null,
      "outputs": []
    },
    {
      "cell_type": "code",
      "source": [
        "# 예제 2.\n",
        "# 결론적으로 *args 및 *kwargs 를 사용하여 변수를 패킹할 수 있습니다.\n",
        "\n",
        "def arg_printer(*args): # 패킹 * 튜플 형태로 패킹된다.\n",
        "  print(args)\n",
        "\n",
        "list = [1,4,5]\n",
        "arg_printer(*list) # 언패킹"
      ],
      "metadata": {
        "id": "2mS5NU9PF8g9"
      },
      "execution_count": null,
      "outputs": []
    },
    {
      "cell_type": "code",
      "source": [
        "# 예제 3.\n",
        "\n",
        "lst = [1,4,5]\n",
        "tpl = ('a','b', 4)\n",
        "\n",
        "arg_printer(*lst, *tpl, 5, 6) # 언패킹"
      ],
      "metadata": {
        "id": "13VnXJJjF8es"
      },
      "execution_count": null,
      "outputs": []
    },
    {
      "cell_type": "code",
      "source": [
        "# 예제 4. 다음과 같이 사용하면 언패킹 되었다가 다시 패킹되는 형태로 변경된다.\n",
        "\n",
        "def arg_printer(**kwargs):\n",
        "   print(kwargs)\n",
        "\n",
        "dct = {'param1':5, 'param2':8}\n",
        "arg_printer(**dct)"
      ],
      "metadata": {
        "id": "VwKaEFMHF8cH"
      },
      "execution_count": null,
      "outputs": []
    },
    {
      "cell_type": "code",
      "source": [
        "# 예제 5. \n",
        "# 또한 추가 키워드 인수를 사전과 함께 전달하면 결합되어 \n",
        "# kwargs 딕셔너리에 저장됩니다.\n",
        "dct = {'param1':5, 'param2':8} \n",
        "arg_printer(param3=9, **dct)"
      ],
      "metadata": {
        "id": "6op0NIiAGB8o"
      },
      "execution_count": null,
      "outputs": []
    },
    {
      "cell_type": "code",
      "source": [
        "# 우리가 다룬 내용을 요약하면 다음과 같습니다.\n",
        "\n",
        "#함수에는 위치 인수(값으로만 선언됨)와 키워드 인수(이름과 기본값으로 선언됨)인 \n",
        "#두 가지 유형의 인수가 있습니다.\n",
        "\n",
        "#함수가 호출될 때 위치 인수에 대한 값이 제공되어야 합니다. \n",
        "#키워드 인수는 선택 사항입니다(지정하지 않으면 기본값을 사용함).\n",
        "\n",
        "#함수 내에서의 *args는 명시적으로 정의되지 않은 위치 인수를 수집하여 튜플에 저장합니다.\n",
        "\n",
        "#함수 내에서의 **kwargs는 *args와 동일하지만 키워드 인수에 대해 수행합니다. \n",
        "#키워드 인수는 이름-값 쌍으로 저장되기 때문에 딕셔너리에 저장됩니다.\n",
        "\n",
        "#Python은 위치 인수가 키워드 인수를 따르는 것을 허용하지 않습니다. \n",
        "#따라서 먼저 위치 인수를 선언한 다음 키워드 인수를 선언합니다. # *args **kwargs"
      ],
      "metadata": {
        "id": "PWr-6RSYGB5w"
      },
      "execution_count": null,
      "outputs": []
    },
    {
      "cell_type": "code",
      "source": [
        "# 연습 문제 1.\n",
        "\n",
        "# 다음 함수 식을 고려해서\n",
        "# 두개 이상의 숫자를 합산하는 다음 함수를 만드세요 *arg 사용\n",
        "\n",
        "# 함수로 구현\n",
        "def addition(a, b):\n",
        "   return a + b\n",
        "print(addition(3,4))"
      ],
      "metadata": {
        "id": "75IbwbShGB2l"
      },
      "execution_count": null,
      "outputs": []
    },
    {
      "cell_type": "code",
      "source": [
        "# 같이 풀어보기\n",
        "\n",
        "def addition_args(*args):\n",
        "  result = 0\n",
        "  #args = (1,4)\n",
        "  for i in args:\n",
        "    result += i\n",
        "  return result \n",
        "\n",
        "print(addition_args())\n",
        "print(addition_args(1,4))\n",
        "print(addition_args(1,4,3,5,2))"
      ],
      "metadata": {
        "id": "b1kcKMWEGBz6"
      },
      "execution_count": null,
      "outputs": []
    },
    {
      "cell_type": "code",
      "source": [
        "# 연습문제 2. 다음 코드를 실행했을때의 빈칸과 값을 구하시오\n",
        "\n",
        "def arg_printer(a, b, ####):\n",
        "   print(f'a is {a}')\n",
        "   print(f'b is {b}')\n",
        "   print(f'args are {args}')\n",
        "arg_printer(3, 4, 5, 8, 3)\n",
        "\n",
        "1. *args / a is 3 / b is 4 / args are 5,8,3\n",
        "2. **kwargs / a is 3 / b is 4 / args are 5,8,3\n",
        "3. *args / a is 3 / b is 4 / args are (5,8,3)            # 정답\n",
        "4. **kwargs / a is 3 / b is 4 / args are (5,8,3)\n",
        "5. *args / a is () / b is () / args are 3,4,5,8,3"
      ],
      "metadata": {
        "id": "dHqIro_cHWo1"
      },
      "execution_count": null,
      "outputs": []
    },
    {
      "cell_type": "code",
      "source": [
        "# 연습문제 3. option이 True일때와 False일때의 값을 구하시오\n",
        "def addition(a, b, *args, option=False):\n",
        "   result = 0\n",
        "   if option:\n",
        "      for i in args:\n",
        "        result += i\n",
        "      return a + b + result\n",
        "   else:\n",
        "      return result\n",
        "\n",
        "print(addition(1,4,5,6,7))"
      ],
      "metadata": {
        "colab": {
          "base_uri": "https://localhost:8080/"
        },
        "id": "XgGv9JizIIcF",
        "outputId": "da5d0972-0f9d-403e-f20e-2d7fd1979615"
      },
      "execution_count": 20,
      "outputs": [
        {
          "output_type": "stream",
          "name": "stdout",
          "text": [
            "0\n"
          ]
        }
      ]
    },
    {
      "cell_type": "code",
      "source": [
        "# 연습문제 4. 다음 결과는?\n",
        "\n",
        "def arg_printer(a, b, option=True, **kwargs): \n",
        "   print(a, b) \n",
        "   print(option) \n",
        "   print(kwargs)\n",
        "arg_printer(3, 4, param1=5, param2=6) \n",
        "\n",
        "#1. 3 4\n",
        "    5\n",
        "    6\n",
        "\n",
        "#2. 3 4\n",
        "    5 6\n",
        "\n",
        "#3. 3 4\n",
        "    True\n",
        "    {'param1' : 5, 'param2' : 6}\n",
        "\n",
        "#4. 3 4\n",
        "    True\n",
        "    {'param1' : 5} \n",
        "    {'param2' : 6}    \n",
        "\n",
        "#5. 3 4 True\n",
        "    {'param1' : 5} \n",
        "    {'param2' : 6} "
      ],
      "metadata": {
        "colab": {
          "base_uri": "https://localhost:8080/"
        },
        "id": "SFcsJK_vIG1l",
        "outputId": "7d8faf96-d877-4640-eef1-cb6cb92b01a8"
      },
      "execution_count": 21,
      "outputs": [
        {
          "output_type": "stream",
          "name": "stdout",
          "text": [
            "3 4\n",
            "True\n",
            "{'param1': 5, 'param2': 6}\n"
          ]
        }
      ]
    },
    {
      "cell_type": "code",
      "source": [
        "# 연습문제 5\n",
        "\n",
        "def arg_printer(a, b, *args, option=True, **kwargs): \n",
        "   print(a, b) \n",
        "   print(args) \n",
        "   print(option) \n",
        "   print(kwargs)\n",
        "arg_printer(1, 4, 6, 5, param1=5, param2=6) \n",
        "\n",
        "#1. 1 4\n",
        "    (6,)\n",
        "    (5,)\n",
        "    True\n",
        "    {'param1' : 5} \n",
        "    {'param2' : 6}  \n",
        "#2. [1, 4]\n",
        "    (6, 5)\n",
        "    True\n",
        "    {'param1': 5, 'param2': 6} \n",
        "#3. 1, 4\n",
        "    (6, 5)\n",
        "    True\n",
        "    {'param1': 5, 'param2': 6}\n",
        "#4. (1, 4)\n",
        "    (6, 5)\n",
        "    True\n",
        "    {'param1': 5, 'param2': 6} \n",
        "\n",
        "#5. (1, 4)\n",
        "    (6, 5)\n",
        "    True\n",
        "    {'param1': 5}\n",
        "    {'param2': 6}"
      ],
      "metadata": {
        "colab": {
          "base_uri": "https://localhost:8080/"
        },
        "id": "AzTG_b5GKYOZ",
        "outputId": "0edfd04e-a93f-47b5-affb-681fd4cbc173"
      },
      "execution_count": 22,
      "outputs": [
        {
          "output_type": "stream",
          "name": "stdout",
          "text": [
            "1 4\n",
            "(6, 5)\n",
            "True\n",
            "{'param1': 5, 'param2': 6}\n"
          ]
        }
      ]
    },
    {
      "cell_type": "code",
      "source": [
        "# 에러를 고쳐보자!!\n",
        "\n",
        "def func_param_with_var_args(name, age, *args):\n",
        "    print(\"name=\",end=\"\"), print(name)\n",
        "    print(\"age=\",end=\"\"), print(age)\n",
        "    print(\"args=\",end=\"\"), print(args)\n",
        "\n",
        "func_param_with_var_args(\"정우성\", 20, \"01012341234\", \"seoul\")"
      ],
      "metadata": {
        "colab": {
          "base_uri": "https://localhost:8080/"
        },
        "id": "NSf8Eo6SLPWW",
        "outputId": "aa731ecd-c73b-4ab9-d4e9-0e12211daf2c"
      },
      "execution_count": 27,
      "outputs": [
        {
          "output_type": "stream",
          "name": "stdout",
          "text": [
            "name=정우성\n",
            "age=20\n",
            "args=('01012341234', 'seoul')\n"
          ]
        }
      ]
    },
    {
      "cell_type": "code",
      "source": [
        "# 에러를 고치자 2\n",
        "\n",
        "def func_param_with_kwargs(name, age, address=0, **kwargs):\n",
        "    print(\"name=\",end=\"\"), print(name)\n",
        "    print(\"age=\",end=\"\"), print(age)\n",
        "    print(\"kwargs=\",end=\"\"), print(kwargs)\n",
        "    print(\"address=\",end=\"\"), print(address)\n",
        "\n",
        "func_param_with_kwargs(\"정우성\", \"20\", mobile=\"01012341234\", address=\"seoul\")"
      ],
      "metadata": {
        "id": "nQwLZUWdM2d_"
      },
      "execution_count": null,
      "outputs": []
    },
    {
      "cell_type": "code",
      "source": [
        "# 에러를 고치자 3\n",
        "def mixed_params(name=\"아이유\", *args, age, **kwargs, address):\n",
        "    print(\"name=\",end=\"\"), print(name)\n",
        "    print(\"args=\",end=\"\"), print(args)\n",
        "    print(\"age=\",end=\"\"), print(age)\n",
        "    print(\"kwargs=\",end=\"\"), print(kwargs)\n",
        "    print(\"address=\",end=\"\"), print(address)\n",
        "\n",
        "mixed_params(20, \"정우성\", \"01012341234\", \"male\", mobile=\"01012341234\", address=\"seoul\")"
      ],
      "metadata": {
        "id": "NyST0zPPRuH0"
      },
      "execution_count": null,
      "outputs": []
    },
    {
      "cell_type": "code",
      "source": [
        "# 에러를 고치자 3 풀이\n",
        "def mixed_params(age, name=\"아이유\", *args, address, **kwargs):\n",
        "    print(\"name=\",end=\"\"), print(name) \n",
        "    print(\"args=\",end=\"\"), print(args)\n",
        "    print(\"age=\",end=\"\"), print(age)\n",
        "    print(\"kwargs=\",end=\"\"), print(kwargs)\n",
        "    print(\"address=\",end=\"\"), print(address)\n",
        "\n",
        "mixed_params(20, \"정우성\", \"01012341234\", \"male\", mobile=\"01012341234\", address=\"seoul\")"
      ],
      "metadata": {
        "colab": {
          "base_uri": "https://localhost:8080/"
        },
        "id": "LnIA-Ao7RwtU",
        "outputId": "9f5edb40-0670-4f63-e5d7-18c92712e12d"
      },
      "execution_count": 41,
      "outputs": [
        {
          "output_type": "stream",
          "name": "stdout",
          "text": [
            "name=정우성\n",
            "args=('01012341234', 'male')\n",
            "age=20\n",
            "kwargs={'mobile': '01012341234'}\n",
            "address=seoul\n"
          ]
        }
      ]
    },
    {
      "cell_type": "code",
      "source": [
        "#위치 인자 (non-default)\n",
        "#위치 인자 (default)\n",
        "#/ (위치 인자들 어딘가에 존재한다)\n",
        "#위치 가변 인자 (*args)\n",
        "#키워드 전용 인자 (기본값 유무는 상관 없다)\n",
        "#키워드 전용 가변 인자 (**kwargs)"
      ],
      "metadata": {
        "id": "EYLvvCH0Sk68"
      },
      "execution_count": null,
      "outputs": []
    }
  ]
}