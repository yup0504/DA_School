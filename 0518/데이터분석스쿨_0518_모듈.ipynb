{
  "nbformat": 4,
  "nbformat_minor": 0,
  "metadata": {
    "colab": {
      "provenance": []
    },
    "kernelspec": {
      "name": "python3",
      "display_name": "Python 3"
    },
    "language_info": {
      "name": "python"
    }
  },
  "cells": [
    {
      "cell_type": "markdown",
      "source": [
        "## 1. 모듈"
      ],
      "metadata": {
        "id": "K5iWqKvLJ3kI"
      }
    },
    {
      "cell_type": "code",
      "execution_count": null,
      "metadata": {
        "id": "sqKaQVxiD-mC"
      },
      "outputs": [],
      "source": [
        "[모듈이란?]\n",
        "\n",
        "파이썬에서 이미 작성된 프로그램을 모듈이라고 생각하면 쉬움\n",
        "그 프로그램의 묶음은 패키지이다.\n",
        "\n",
        "쉬운 예로 레고블럭 하나하나가 모듈이라고 생각하면 되고 그것이 모여 하나의 큰 모듈 및 패키지 완성품을 만들 수 있고, \n",
        "이러한 개념은 스마트폰이나 자동차등 생활 곳곳에서 볼 수 있음\n",
        "\n",
        "그러면 프로그래밍에서의 모듈은 무엇일까? -> 작은 프로그램의 조각을 뜻한다. 각 모듈은 저마다의 역할이 있다.\n",
        "\n",
        "우리는 이미 많은 모듈을 사용했었다. random 모듈 time 모듈 등 import를 해서 사용이 가능하고 기본적으로 파이썬에 내장되어있는 모듈을 위주로 사용했었다."
      ]
    },
    {
      "cell_type": "code",
      "source": [
        "[패키지란?]\n",
        "\n",
        "# 패키지란?\n",
        "\n",
        "패키지는 쉽게 모듈의 묶음이다. from을 통해 모듈을 호출하는 경우가 있었는데\n",
        "이는 패키지는 출력하기 위한 수단이다.\n",
        "\n",
        "하나의 패키지 안에는 보통 여러 모듈이 있다.\n",
        "\n",
        "여러분들도 좋은 패키지가 많이 구현이 되어있기 때문에 앞으로 그런 패키지를 공부할것이고 데이터 분석에 활용할것임\n",
        "\n",
        "여러분들도 그러한 패키지를 만들어서 사회에 공헌했으면 하는 바램도 있음\n",
        "\n",
        "그러면 일단 우리가 사용했던 모듈과 더 살펴봐야할 모듈을 배워보고, 모듈을 직접 만들어 보자!!"
      ],
      "metadata": {
        "id": "_CDxry4AFBaS"
      },
      "execution_count": null,
      "outputs": []
    },
    {
      "cell_type": "markdown",
      "source": [
        "## 1.1 모듈과 패키지 사용하는 법\n",
        "\n",
        "지금까지 파이썬 코드를 작성하면서 input, print 등의 내장 함수(built-in function)를 주로 사용했는데, 내장 함수만으로는 할 수 있는게 별로 없습니다. 그래서 좀 더 복잡한 프로그램을 만들려면 파이썬의 모듈과 패키지를 사용해야 합니다. 우리가 책 중간 중간에 사용했던 random, turtle, pickle 등이 바로 모듈과 패키지입니다.\n",
        "\n",
        "모듈(module)은 각종 변수, 함수, 클래스를 담고 있는 파일이고, 패키지(package)는 여러 모듈을 묶은 것입니다. 파이썬을 설치할 때 다양한 모듈과 패키지가 기본으로 설치됩니다. 만약 기본 모듈과 패키지로 부족하다면 다른 사람이 만든 유명 모듈과 패키지를 설치해서 쓸 수도 있습니다."
      ],
      "metadata": {
        "id": "lhOvtPJcFCzh"
      }
    },
    {
      "cell_type": "code",
      "source": [
        "# 모듈 예시 - 1\n",
        "import math \n",
        "\n",
        "math.pi"
      ],
      "metadata": {
        "id": "1VSyPu9AFD6x"
      },
      "execution_count": null,
      "outputs": []
    },
    {
      "cell_type": "code",
      "source": [
        "math.sqrt(4)"
      ],
      "metadata": {
        "id": "xV9IlRGdFE-n"
      },
      "execution_count": null,
      "outputs": []
    },
    {
      "cell_type": "code",
      "source": [
        "# 모듈의 에러\n",
        "\n",
        "ModuleNotFoundError: No module named ...: \n",
        "모듈의 이름이 잘못되었을 때 발생하는 에러입니다. 모듈 이름이 맞는지 확인해주세요.\n",
        "\n",
        "AttributeError: module ... has no attribute ...: \n",
        "모듈의 변수나 함수의 이름을 잘못되었을 때 발생하는 에러입니다. 변수, 함수의 이름이 맞는지 확인해주세요."
      ],
      "metadata": {
        "id": "wVtK_VaAFF30"
      },
      "execution_count": null,
      "outputs": []
    },
    {
      "cell_type": "code",
      "source": [
        "# Import as로 모듈 이름을 정할 수 있다.\n",
        "\n",
        "import 모듈 as 이름"
      ],
      "metadata": {
        "id": "xBr68PFrFp-s"
      },
      "execution_count": null,
      "outputs": []
    },
    {
      "cell_type": "code",
      "source": [
        "import math as ma"
      ],
      "metadata": {
        "id": "5UustY9PFrFb"
      },
      "execution_count": null,
      "outputs": []
    },
    {
      "cell_type": "code",
      "source": [
        "ma.sqrt(4.0)"
      ],
      "metadata": {
        "id": "Q5TNPwliFsG1"
      },
      "execution_count": null,
      "outputs": []
    },
    {
      "cell_type": "code",
      "source": [
        "# 모듈의 일부만 가져오는 \n",
        "\n",
        "from 모듈 import 함수\n",
        "from 모듈 import 클래스"
      ],
      "metadata": {
        "id": "E9opwaJMFtBK"
      },
      "execution_count": null,
      "outputs": []
    },
    {
      "cell_type": "code",
      "source": [
        "from math import sqrt"
      ],
      "metadata": {
        "id": "F_9UH-XjFuWx"
      },
      "execution_count": null,
      "outputs": []
    },
    {
      "cell_type": "code",
      "source": [
        "sqrt(4.0)"
      ],
      "metadata": {
        "id": "b8sMC7KMFvV0"
      },
      "execution_count": null,
      "outputs": []
    },
    {
      "cell_type": "code",
      "source": [
        "# 이름을 지정할 수 있다.\n",
        "from math import sqrt "
      ],
      "metadata": {
        "id": "wvlCVSbWJTLf"
      },
      "execution_count": null,
      "outputs": []
    },
    {
      "cell_type": "markdown",
      "source": [
        "##1.2 패키지 가져오기"
      ],
      "metadata": {
        "id": "BAZIv9b_JXwg"
      }
    },
    {
      "cell_type": "code",
      "source": [
        "import urllib.request"
      ],
      "metadata": {
        "id": "eEWbcD8DJZqJ"
      },
      "execution_count": null,
      "outputs": []
    },
    {
      "cell_type": "code",
      "source": [
        "response = urllib.request.urlopen('http://www.google.co.kr')"
      ],
      "metadata": {
        "id": "Z22STs_lJa1D"
      },
      "execution_count": null,
      "outputs": []
    },
    {
      "cell_type": "code",
      "source": [
        "response.status  # 200 이면 정상"
      ],
      "metadata": {
        "id": "s8BReEWvJaxy"
      },
      "execution_count": null,
      "outputs": []
    },
    {
      "cell_type": "code",
      "source": [
        "import urllib.request as r"
      ],
      "metadata": {
        "id": "T76aTn27JauI"
      },
      "execution_count": null,
      "outputs": []
    },
    {
      "cell_type": "code",
      "source": [
        "from urllib.request import Request, urlopen"
      ],
      "metadata": {
        "id": "UqstUwviJhEh"
      },
      "execution_count": null,
      "outputs": []
    },
    {
      "cell_type": "code",
      "source": [
        "from urllib.request import *"
      ],
      "metadata": {
        "id": "X3RPXSn5JhCh"
      },
      "execution_count": null,
      "outputs": []
    },
    {
      "cell_type": "code",
      "source": [
        "from 패키지.모듈 import 변수 as 이름, 함수 as 이름, 클래스 as 이름"
      ],
      "metadata": {
        "id": "G8Ts5thqJhAi"
      },
      "execution_count": null,
      "outputs": []
    },
    {
      "cell_type": "code",
      "source": [
        "!pip install Faker"
      ],
      "metadata": {
        "id": "Bw1OMTniJg9o"
      },
      "execution_count": null,
      "outputs": []
    },
    {
      "cell_type": "code",
      "source": [
        "# 이번에는 pip을 사용하여 유용한 외부 라이브러리중 하나인 faker를 설치하고 사용해 보자. \n",
        "# faker는 테스트용 가짜 데이터를 생성할 때 사용하는 라이브러리이다.\n",
        "\n",
        "# 만약 다음과 같은 형식의 테스트 데이터 30건이 필요하다고 가정해 보자. \n",
        "# 직접 데이터를 작성하지 말고 좀 더 편리한 방법으로 테스트 데이터를 만들려면 어떻게 해야 할까?"
      ],
      "metadata": {
        "id": "oXFYEI61Jg66"
      },
      "execution_count": null,
      "outputs": []
    },
    {
      "cell_type": "code",
      "source": [
        "[(이름1, 주소1), (이름2, 주소2), ..., (이름30, 주소30)]"
      ],
      "metadata": {
        "id": "jrAJdNS2Jg4J"
      },
      "execution_count": null,
      "outputs": []
    },
    {
      "cell_type": "code",
      "source": [
        "from faker import Faker\n",
        "fake = Faker()\n",
        "fake.name()"
      ],
      "metadata": {
        "colab": {
          "base_uri": "https://localhost:8080/",
          "height": 35
        },
        "id": "ve2Xes3NKUa-",
        "outputId": "aa338c78-c628-48f3-94a0-5190e6c6de0b"
      },
      "execution_count": null,
      "outputs": [
        {
          "output_type": "execute_result",
          "data": {
            "text/plain": [
              "'Olivia Davis'"
            ],
            "application/vnd.google.colaboratory.intrinsic+json": {
              "type": "string"
            }
          },
          "metadata": {},
          "execution_count": 2
        }
      ]
    },
    {
      "cell_type": "code",
      "source": [
        "fake = Faker('ko-KR')  # 한국이름\n",
        "fake.name()"
      ],
      "metadata": {
        "id": "eyhCkY-UKdw6"
      },
      "execution_count": null,
      "outputs": []
    },
    {
      "cell_type": "code",
      "source": [
        "fake.address()"
      ],
      "metadata": {
        "id": "jOj-K6CkKi8D"
      },
      "execution_count": null,
      "outputs": []
    },
    {
      "cell_type": "code",
      "source": [
        "test_data = [(fake.name(), fake.address()) for i in range(30)]\n",
        "test_data"
      ],
      "metadata": {
        "id": "ZvjN_QLFKmDi"
      },
      "execution_count": null,
      "outputs": []
    },
    {
      "cell_type": "code",
      "source": [
        "test_data1 = [(fake.pyint(min_value=0, max_value=45)) for i in range(6)]\n",
        "test_data1"
      ],
      "metadata": {
        "colab": {
          "base_uri": "https://localhost:8080/"
        },
        "id": "_LZIXjPzL9Xu",
        "outputId": "ae6f05fa-2198-4478-fe1a-1e8b948ac96a"
      },
      "execution_count": null,
      "outputs": [
        {
          "output_type": "execute_result",
          "data": {
            "text/plain": [
              "[3, 27, 12, 25, 38, 25]"
            ]
          },
          "metadata": {},
          "execution_count": 17
        }
      ]
    },
    {
      "cell_type": "code",
      "source": [
        "# 항목\t설명\n",
        "# fake.name()\t이름\n",
        "# fake.address()\t주소\n",
        "# fake.postcode()\t우편 번호\n",
        "# fake.country()\t국가명\n",
        "# fake.company()\t회사명\n",
        "# fake.job()\t직업명\n",
        "# fake.phone_number()\t휴대 전화 번호\n",
        "# fake.email()\t이메일 주소\n",
        "# fake.user_name()\t사용자명\n",
        "# fake.pyint(min_value=0, max_value=100)\t0부터 100 사이의 임의의 숫자\n",
        "# fake.ipv4_private()\tIP 주소\n",
        "# fake.text()\t임의의 문장 (한글 임의의 문장은 fake.catch_phrase() 사용)\n",
        "# fake.color_name()\t색상명"
      ],
      "metadata": {
        "id": "J-fL-gxwLseO"
      },
      "execution_count": null,
      "outputs": []
    },
    {
      "cell_type": "code",
      "source": [
        "# [모듈 만들기]\n",
        "\n",
        "theater_module.py 라는 파이썬 파일을 만들어서 이 파일에 사람수에 따른 영화표 가격을 계산하는 함수 3개를 정의하려고한다.\n",
        "코드는 다음과 같다. \n",
        "이 파일은 사람 수에 따른 영화표 가격을 계산하는 함수 3개입니다.\n",
        "첫번째 price는 1인당 영화표 1만원, 두번째는 학생할인으로 20% 할인, 세번째는 VIP석으로 1.5만원으로 출력합니다."
      ],
      "metadata": {
        "id": "3czxIpFgRGuP"
      },
      "execution_count": null,
      "outputs": []
    },
    {
      "cell_type": "code",
      "source": [
        "#경로설정\n",
        "import os\n",
        "os.chdir(\"/content/\")"
      ],
      "metadata": {
        "id": "KNgNZihURIkH"
      },
      "execution_count": 18,
      "outputs": []
    },
    {
      "cell_type": "code",
      "source": [
        "import theater_module_test as tmt"
      ],
      "metadata": {
        "id": "JUxGpcbyRsmh"
      },
      "execution_count": 20,
      "outputs": []
    },
    {
      "cell_type": "code",
      "source": [
        "tmt.price(2)"
      ],
      "metadata": {
        "colab": {
          "base_uri": "https://localhost:8080/"
        },
        "id": "Y2HPcXrQR6bY",
        "outputId": "8ef8eedc-92a6-4a59-ce29-4c1f7c4df332"
      },
      "execution_count": 23,
      "outputs": [
        {
          "output_type": "stream",
          "name": "stdout",
          "text": [
            "영화표 가격은 20000 입니다.\n"
          ]
        }
      ]
    },
    {
      "cell_type": "code",
      "source": [
        "# 패키지 만들기"
      ],
      "metadata": {
        "id": "xTjiDrsHS-pW"
      },
      "execution_count": null,
      "outputs": []
    },
    {
      "cell_type": "code",
      "source": [
        "import os\n",
        "os.chdir(\"/content/\")"
      ],
      "metadata": {
        "id": "z6eVrMFSUv8-"
      },
      "execution_count": null,
      "outputs": []
    },
    {
      "cell_type": "code",
      "source": [
        "import pkg_ex.seoul"
      ],
      "metadata": {
        "id": "E1USRDXCVE-N"
      },
      "execution_count": 25,
      "outputs": []
    },
    {
      "cell_type": "code",
      "source": [
        "trip = pkg_ex.seoul.SeoulPkg()\n",
        "trip.detail()"
      ],
      "metadata": {
        "colab": {
          "base_uri": "https://localhost:8080/"
        },
        "id": "esiZIygxVGmN",
        "outputId": "80a109bf-9c0b-4f20-dad6-6bea8deb4684"
      },
      "execution_count": 26,
      "outputs": [
        {
          "output_type": "stream",
          "name": "stdout",
          "text": [
            "[서울 도심 패키지] 호캉스 100만원\n"
          ]
        }
      ]
    },
    {
      "cell_type": "code",
      "source": [
        "# 주의 import문을 사용할때는 대상이 모듈이나 패키지여야하고, 클래스나 함수는 가져올수 없음\n",
        "import pkg_ex.seoul.SeoulPkg"
      ],
      "metadata": {
        "id": "nSAHPE5XVMY0"
      },
      "execution_count": null,
      "outputs": []
    },
    {
      "cell_type": "code",
      "source": [
        "# 만약 from import 문을 사용하면 함수, 클래스, 모듈, 패키지 모두 가져올수 있음\n",
        "from pkg_ex.seoul import SeoulPkg \n",
        "\n",
        "trip_n = SeoulPkg()\n",
        "trip_n.detail()"
      ],
      "metadata": {
        "id": "ZRx9LJqEVXDW"
      },
      "execution_count": null,
      "outputs": []
    },
    {
      "cell_type": "code",
      "source": [
        "from pkg_ex import japan\n",
        "trip_n2 = japan.OsakaPkg()\n",
        "trip_n2.detail()"
      ],
      "metadata": {
        "id": "ja9KZwbVVX6D"
      },
      "execution_count": null,
      "outputs": []
    },
    {
      "cell_type": "markdown",
      "source": [
        "## 모듈 공개 설정"
      ],
      "metadata": {
        "id": "GjINVHwmWAEL"
      }
    },
    {
      "cell_type": "code",
      "source": [
        "# 우리는 보통 모든 패키지를 불러올때 다음과 같이 사용하죠\n",
        "from random import *"
      ],
      "metadata": {
        "id": "HbfK5V0MWFzr"
      },
      "execution_count": 1,
      "outputs": []
    },
    {
      "cell_type": "code",
      "source": [
        "from pkg_ex import * #seoul, japan"
      ],
      "metadata": {
        "id": "d8SpRs4FWG0l"
      },
      "execution_count": 1,
      "outputs": []
    },
    {
      "cell_type": "code",
      "source": [
        "trip_ex = seoul.SeoulPkg() #서울의 서울 패키지\n",
        "trip_ex.detail()"
      ],
      "metadata": {
        "colab": {
          "base_uri": "https://localhost:8080/"
        },
        "id": "v5XE_cDOWNip",
        "outputId": "d29a70a3-eaa0-4d37-885a-b6fdbf7b5b48"
      },
      "execution_count": 2,
      "outputs": [
        {
          "output_type": "stream",
          "name": "stdout",
          "text": [
            "[서울 도심 패키지] 호캉스 100만원\n"
          ]
        }
      ]
    },
    {
      "cell_type": "code",
      "source": [
        "# 아까와 같이 실행했는데 다음과 같이 오류가 뜨게 됩니다. import 할때 *로 표시한다는 것은\n",
        "# pkg_ex에 있는 모든 기능을 가져다 쓴다는 뜻인데 왜 실행이 안됐을까요?\n",
        "\n",
        "# 아직 공개설정이 안되서 그렇습니다.\n",
        "# 패키지는 공개범위를 설정할 수 있습니다.\n",
        "# 여러분께서도 공개하고 싶지 않은 것에 대해서는 사용할 수 없게 비공개로 둘수도 있어요\n",
        "\n",
        "# 앞서 아무 기능을 하지 않았던 __init__.py를 기억할텐데 다음과 같이 설정하면 공개설정을 할 수 있어요"
      ],
      "metadata": {
        "id": "MiMrMcI5WTvC"
      },
      "execution_count": null,
      "outputs": []
    },
    {
      "cell_type": "code",
      "source": [
        "# 재정의 후 다시 실행\n",
        "\n",
        "from pkg_ex import *\n",
        "\n",
        "trip_ex2 = japan.OsakaPkg() #일본의 오사카 패키지\n",
        "trip_ex2.detail()"
      ],
      "metadata": {
        "colab": {
          "base_uri": "https://localhost:8080/"
        },
        "id": "AAfdurTSWUXY",
        "outputId": "b64057f8-1230-48ac-b93b-8ef1485ed564"
      },
      "execution_count": 2,
      "outputs": [
        {
          "output_type": "stream",
          "name": "stdout",
          "text": [
            "[오사카] 유니버셜 패키지 100만원\n"
          ]
        }
      ]
    },
    {
      "cell_type": "code",
      "source": [
        "if __name__ == \"__main__\":\n",
        "  pass\n",
        "else:\n",
        "  pass"
      ],
      "metadata": {
        "id": "eaBa9xFOWUVF"
      },
      "execution_count": 3,
      "outputs": []
    },
    {
      "cell_type": "code",
      "source": [
        "__name__은 현재 모듈의 이름을 값으로 가지는 내장 변수입니다. \n",
        "그래서 앞의 코드와 같이 작성하면 파일이 실행될때 if문이 실행되게 되고, \n",
        "__main__이 아닌 그 모듈의 이름을 가져오게 됩니다."
      ],
      "metadata": {
        "id": "UOcvTFT3WURX"
      },
      "execution_count": null,
      "outputs": []
    },
    {
      "cell_type": "code",
      "source": [
        "# pkg_ex 패키지의 seoul.py에서 SeoulPkg() 클래스 정의 아래에 다음과 같이 코드를 쓰면\n",
        "# __name__변수가 __main__일때 \n",
        "# 모듈을 직접 실행하는 경우에는 if문에서 출력문과 함께 detail() 메서드를 호출하고\n",
        "# 그렇지 않으면 else문으로 호출 안내 문구를 넣어봅시다."
      ],
      "metadata": {
        "id": "lmdSv7nvWUL5"
      },
      "execution_count": null,
      "outputs": []
    },
    {
      "cell_type": "code",
      "source": [
        "# 다음과 같이 실행하면 else문이 출력될것입니다.\n",
        "# 런타임 초기화\n",
        "\n",
        "import pkg_ex.seoul_new"
      ],
      "metadata": {
        "id": "DLk52UV7Y4kl"
      },
      "execution_count": null,
      "outputs": []
    },
    {
      "cell_type": "code",
      "source": [
        "#파일명 seoul_new.py\n",
        "\n",
        "class SeoulPkg:\n",
        "  def detail(self):\n",
        "    print(\"[서울 도심 패키지] 호캉스 100만원\")\n",
        "\n",
        "if __name__ == \"__main__\":\n",
        "  print(\"seoul 모듈 직접 실행되었습니다.\")\n",
        "  trip_seoul = SeoulPkg()\n",
        "  trip_seoul.detail()\n",
        "else:\n",
        "  print(\"외부에서 seoul 모듈 실행되었습니다.\")"
      ],
      "metadata": {
        "id": "4OBV58LcXxzY"
      },
      "execution_count": null,
      "outputs": []
    }
  ]
}