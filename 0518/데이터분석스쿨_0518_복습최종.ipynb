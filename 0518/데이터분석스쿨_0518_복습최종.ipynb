{
  "nbformat": 4,
  "nbformat_minor": 0,
  "metadata": {
    "colab": {
      "provenance": []
    },
    "kernelspec": {
      "name": "python3",
      "display_name": "Python 3"
    },
    "language_info": {
      "name": "python"
    }
  },
  "cells": [
    {
      "cell_type": "markdown",
      "source": [
        "# 1. 함수 복습"
      ],
      "metadata": {
        "id": "ZhsUJLWeMjfx"
      }
    },
    {
      "cell_type": "code",
      "execution_count": null,
      "metadata": {
        "id": "Aga4lcfSLcKG"
      },
      "outputs": [],
      "source": [
        "# 함수 정의\n",
        "\n",
        "def add(x, y):\n",
        "\tvalue = x + y\n",
        "\treturn value\n",
        "\n",
        "add(3,4)"
      ]
    },
    {
      "cell_type": "code",
      "source": [
        "# 가장 선호\n",
        "x = add(3,4)\n",
        "print(x)"
      ],
      "metadata": {
        "id": "cx825-E6Nz-n"
      },
      "execution_count": null,
      "outputs": []
    },
    {
      "cell_type": "code",
      "source": [
        "print(add(3,4))"
      ],
      "metadata": {
        "id": "GboMU--TNz8V"
      },
      "execution_count": null,
      "outputs": []
    },
    {
      "cell_type": "code",
      "source": [
        "# 위치 인수의 예시\n",
        "\n",
        "def sum_tax(price, unit, fee, tax_rate):\n",
        "  return price * unit + fee + tax_rate\n",
        "\n",
        "x = sum_tax(1000,2000,3000,4000)\n",
        "\n",
        "print(x)"
      ],
      "metadata": {
        "id": "tCrYEnPPNz55"
      },
      "execution_count": null,
      "outputs": []
    },
    {
      "cell_type": "code",
      "source": [
        "def sum_tax(price, unit, fee, tax_rate):\n",
        "  return price * unit + fee + tax_rate\n",
        "\n",
        "x = sum_tax(3000,1000,2000,4000)\n",
        "\n",
        "print(x)"
      ],
      "metadata": {
        "id": "4W_fAEK5PJeo"
      },
      "execution_count": null,
      "outputs": []
    },
    {
      "cell_type": "code",
      "source": [
        "# 키워드 인수 예제 \n",
        "x = sum_tax(price = 1000, unit = 2000,fee = 3000,tax_rate = 4000)\n",
        "\n",
        "print(x)"
      ],
      "metadata": {
        "id": "aSxDEMA2PJcq"
      },
      "execution_count": null,
      "outputs": []
    },
    {
      "cell_type": "code",
      "source": [
        "# 키워드 인수 + 위치 인수 예제 \n",
        "x = sum_tax(1000, 200, fee = 3000, 4000)\n",
        "\n",
        "print(x)"
      ],
      "metadata": {
        "id": "tvFhD-89PJaH"
      },
      "execution_count": null,
      "outputs": []
    },
    {
      "cell_type": "code",
      "source": [
        "# * arg의 예시\n",
        "\n",
        "def func(x, y , *args):\n",
        "  print(x)\n",
        "  print(y)\n",
        "  if args:\n",
        "    print(args)\n",
        "\n",
        "func(1, 2)"
      ],
      "metadata": {
        "id": "edpRUIr9PJXZ"
      },
      "execution_count": null,
      "outputs": []
    },
    {
      "cell_type": "code",
      "source": [
        "# *args를 사용하면 남은 3,4,5 에 대해서 튜플로 패킹한다.\n",
        "func(1,2,3,4,5)"
      ],
      "metadata": {
        "id": "h8F6smFtQZ20"
      },
      "execution_count": null,
      "outputs": []
    },
    {
      "cell_type": "code",
      "source": [
        "# **kwargs 예제 \n",
        "\n",
        "def func(x, y , **kwargs):\n",
        "  print(x)\n",
        "  print(y)\n",
        "  if kwargs:\n",
        "    print(kwargs)\n",
        "\n",
        "func(x = 1, y = 2, z = 3)\n",
        "print()\n",
        "# 딕셔너리 형태로 패킹\n",
        "func(x = 1,y = 2,z = 3,w = 4,r = 5)"
      ],
      "metadata": {
        "id": "jhfp-24gT4JU"
      },
      "execution_count": null,
      "outputs": []
    },
    {
      "cell_type": "code",
      "source": [
        "# *과 **의 조합\n",
        "\n",
        "def func(a, *args, **kwargs):\n",
        "  print(a)\n",
        "  print(args)\n",
        "  print(kwargs)\n",
        "\n",
        "func(1, 100, 200 ,x = 1, y = 2)\n",
        "print()\n",
        "func(1, 100, 200, x = 1,y = 2,z = 3,w = 4,r = 5)"
      ],
      "metadata": {
        "id": "aEQtnGeyT56u"
      },
      "execution_count": null,
      "outputs": []
    },
    {
      "cell_type": "code",
      "source": [
        "# 함수 바깥에서의 *와 **는 언패킹이 된다.\n",
        "\n",
        "# [리스트, 튜플 언패킹]\n",
        "\n",
        "def func(x, y, z):\n",
        "  print(x, y, z)\n",
        "  return x + y + z\n",
        "\n",
        "params = [1,2,3] # -> func(1,2,3)\n",
        "\n",
        "w = func(*params)\n",
        "print(w)"
      ],
      "metadata": {
        "id": "qr-TaZF2T68f"
      },
      "execution_count": null,
      "outputs": []
    },
    {
      "cell_type": "code",
      "source": [
        "# 딕셔너리 언패킹\n",
        "\n",
        "def func(x,y,z):\n",
        "  print(x,y,z)\n",
        "  return x + y+ z\n",
        "\n",
        "params = {\"x\" : 1, \"y\" : 2, \"z\" : 3} # -> func(1,2,3)\n",
        "w = func(**params)\n",
        "print(w)"
      ],
      "metadata": {
        "id": "MZMQrWL0T717"
      },
      "execution_count": null,
      "outputs": []
    },
    {
      "cell_type": "code",
      "source": [
        "# 언패킹 결합\n",
        "\n",
        "def func(x,y,z,a,b):\n",
        "  print(x,y,z,a,b)\n",
        "  return x+y+z+a+b\n",
        "\n",
        "params1 = [1,2,3]\n",
        "params2 = {\"a\" : 4, \"b\" : 5}\n",
        "w = func(*params1, **params2)\n",
        "print(w)"
      ],
      "metadata": {
        "id": "tMIIgOefT84K"
      },
      "execution_count": null,
      "outputs": []
    },
    {
      "cell_type": "code",
      "source": [
        "# 함수의 변수화\n",
        "\n",
        "def add_num(x,y):\n",
        "  return x+y\n",
        "\n",
        "f = add_num\n",
        "\n",
        "y \n",
        "x = f(100,200)\n",
        "print(x)"
      ],
      "metadata": {
        "id": "EHkqm_EvT9xN"
      },
      "execution_count": null,
      "outputs": []
    },
    {
      "cell_type": "code",
      "source": [
        "# 데코레이터\n",
        "def uppercase_decorator(func):\n",
        "    def wrapper():\n",
        "        result = func().upper()\n",
        "        return result\n",
        "    return wrapper\n",
        "\n",
        "def say_hello():\n",
        "    return \"hello\"\n",
        "\n",
        "print(say_hello())  # 출력: HELLO"
      ],
      "metadata": {
        "id": "Z-g8cQ0kY6iJ"
      },
      "execution_count": null,
      "outputs": []
    },
    {
      "cell_type": "code",
      "source": [
        "def uppercase_decorator(func):\n",
        "    def wrapper():\n",
        "        result = func().upper()\n",
        "        return result\n",
        "    return wrapper\n",
        "\n",
        "@uppercase_decorator\n",
        "def say_hello():\n",
        "    return \"hello\"\n",
        "\n",
        "print(say_hello())  # 출력: HELLO"
      ],
      "metadata": {
        "id": "2FfD4icaY6dZ"
      },
      "execution_count": null,
      "outputs": []
    },
    {
      "cell_type": "code",
      "source": [
        "# 제너레이터 예시\n",
        "\n",
        "# 파이썬에서는 제너레이터라는 기능도 제공합니다. \n",
        "# 제너레이터를 사용하면 함수를 처리하는 도중에 잠시 중단하고, \n",
        "# 값을 반환할 수 있으며, 이를 yield라고도 부릅니다. \n",
        "# 이후 필요에 따라 처리를 할 수도 있습니다.\n",
        "\n",
        "# 제너레이터 함수의 반환값은 generator 타입 변수입니다. \n",
        "# 제너레이터 객체는 next함수를 이용해 다음 값을 반환할 수 있습니다."
      ],
      "metadata": {
        "id": "8RkoLvFFbhCq"
      },
      "execution_count": null,
      "outputs": []
    },
    {
      "cell_type": "code",
      "source": [
        "def sample_generator():\n",
        "  \"\"\"제너레이터 함수\"\"\"\n",
        "  print(\"처리 시작\")\n",
        "  print(\"처리 재개\")\n",
        "  print(\"처리 재개\")\n",
        "\n",
        "gen_obj = sample_generator() #제너레이터 객체 생성"
      ],
      "metadata": {
        "id": "6KHNNVrDbiEt"
      },
      "execution_count": null,
      "outputs": []
    },
    {
      "cell_type": "code",
      "source": [
        "def sample_generator():\n",
        "  \"\"\"제너레이터 함수\"\"\"\n",
        "  print(\"처리 시작\")\n",
        "  yield \"아침 먹자\"\n",
        "  print(\"처리 재개\")\n",
        "  yield \"점심 먹자\"\n",
        "  print(\"처리 재개\")\n",
        "  yield \"저녁 먹자\"\n",
        "\n",
        "gen_obj = sample_generator() #제너레이터 객체 생성\n",
        "print(next(gen_obj))"
      ],
      "metadata": {
        "id": "uQCU9RkybjBb"
      },
      "execution_count": null,
      "outputs": []
    },
    {
      "cell_type": "code",
      "source": [
        "print(next(gen_obj))"
      ],
      "metadata": {
        "id": "v1zgMKo0bkUd"
      },
      "execution_count": null,
      "outputs": []
    },
    {
      "cell_type": "code",
      "source": [
        "print(next(gen_obj))"
      ],
      "metadata": {
        "id": "H5-ZHRRfbkiY"
      },
      "execution_count": null,
      "outputs": []
    },
    {
      "cell_type": "code",
      "source": [
        "# next로 호출될때까지 실행이 중단되는것을 볼 수 있습니다. \n",
        "# 그리고 다시 next로 실행하면 yield가 실행되는것까지 재개되는것을 볼 수 있습니다. "
      ],
      "metadata": {
        "id": "G7G5CMMcblvd"
      },
      "execution_count": null,
      "outputs": []
    },
    {
      "cell_type": "markdown",
      "source": [
        "# 2. 클래스 복습"
      ],
      "metadata": {
        "id": "Z94PHCd_bbvQ"
      }
    },
    {
      "cell_type": "code",
      "source": [
        "class 클래스명:\n",
        "  def __init__(self, 인수):\n",
        "    self.인수 = 인수\n",
        "\n",
        "  def 메서드명(self,인수):\n",
        "    메서드 행동"
      ],
      "metadata": {
        "id": "qXjCEiQSbmkz"
      },
      "execution_count": null,
      "outputs": []
    },
    {
      "cell_type": "code",
      "source": [
        "# 객체 = 클래스명(인수) - 객체 생성\n",
        "# 객체.인스턴스변수 인스턴스변수에 접근\n",
        "# 객체.메서드명(인수) 메서드 호출"
      ],
      "metadata": {
        "id": "tmqRoc9tbqJY"
      },
      "execution_count": null,
      "outputs": []
    },
    {
      "cell_type": "code",
      "source": [
        "# 클래스 예시\n",
        "class User:\n",
        "\n",
        "  def __init__(self, name, mail):\n",
        "    \"\"\" 초기화 처리\"\"\"\n",
        "    self.name = name\n",
        "    self.mail = mail\n",
        "\n",
        "  def print_user_info(self):\n",
        "    \"\"\" 사용자 정보를 Print로 출력\"\"\"\n",
        "    print(self.name) \n",
        "    print(self.mail)"
      ],
      "metadata": {
        "id": "VQR_benedWIi"
      },
      "execution_count": null,
      "outputs": []
    },
    {
      "cell_type": "code",
      "source": [
        "# 객체 생성\n",
        "# 객체 = 클래스명(인수) - 객체 생성\n",
        "user = User(\"User1\", \"222@naver.com\")"
      ],
      "metadata": {
        "id": "CFm7TXBxdWGU"
      },
      "execution_count": null,
      "outputs": []
    },
    {
      "cell_type": "code",
      "source": [
        "# 인스턴스 변수 호출\n",
        "user.mail"
      ],
      "metadata": {
        "id": "vQISrNb3dWEF"
      },
      "execution_count": null,
      "outputs": []
    },
    {
      "cell_type": "code",
      "source": [
        "#메서드 호출\n",
        "user.print_user_info()"
      ],
      "metadata": {
        "id": "3GQU1DRvdWBq"
      },
      "execution_count": null,
      "outputs": []
    },
    {
      "cell_type": "code",
      "source": [
        "#인스턴스 변수 갱신\n",
        "user.name = \"User2\"\n",
        "#메서드 재호출 - 갱신 확인\n",
        "user.print_user_info()"
      ],
      "metadata": {
        "id": "1BxObmvTdV-z"
      },
      "execution_count": null,
      "outputs": []
    },
    {
      "cell_type": "code",
      "source": [
        "# 클래스 예시\n",
        "class User:\n",
        "\n",
        "  def __init__(self, name, mail):\n",
        "    \"\"\" 초기화 처리\"\"\"\n",
        "    self.name = name\n",
        "    self.mail = mail\n",
        "\n",
        "  def print_user_info(self, address):\n",
        "    \"\"\" 사용자 정보를 Print로 출력\"\"\"\n",
        "    print(self.name) \n",
        "    print(self.mail)\n",
        "    print(address)"
      ],
      "metadata": {
        "id": "qrEaWJdsd3QG"
      },
      "execution_count": null,
      "outputs": []
    },
    {
      "cell_type": "code",
      "source": [
        "# 객체 생성\n",
        "# 객체 = 클래스명(인수) - 객체 생성\n",
        "user = User(\"User1\", \"222@naver.com\")"
      ],
      "metadata": {
        "id": "DX6ir8cpd4cy"
      },
      "execution_count": null,
      "outputs": []
    },
    {
      "cell_type": "code",
      "source": [
        "user.print_user_info('서울특별시')"
      ],
      "metadata": {
        "id": "5STt9ArUd5lE"
      },
      "execution_count": null,
      "outputs": []
    },
    {
      "cell_type": "code",
      "source": [
        "# 클래스 상속\n",
        "\n",
        "class 클래스명(상속할 클래스)\n",
        "  def __init__(self, 인수):\n",
        "    super().__init__(인수)\n",
        "    상속받은 클래스에서의 초기화처리"
      ],
      "metadata": {
        "id": "pzCdzmdhe4KR"
      },
      "execution_count": null,
      "outputs": []
    },
    {
      "cell_type": "code",
      "source": [
        "# 부모 클래스\n",
        "class User:\n",
        "\n",
        "  def __init__(self, name, mail):\n",
        "    \"\"\" 초기화 처리\"\"\"\n",
        "    self.name = name\n",
        "    self.mail = mail\n",
        "\n",
        "  def print_user_info(self):\n",
        "    \"\"\" 사용자 정보를 Print로 출력\"\"\"\n",
        "    print(self.name)\n",
        "    print(self.mail)"
      ],
      "metadata": {
        "id": "Sm9ZpsJWe5Ep"
      },
      "execution_count": null,
      "outputs": []
    },
    {
      "cell_type": "code",
      "source": [
        "# 상속 받을 자녀 클래스\n",
        "class StudentUser(User): # StudentUser가 상속 받음\n",
        "\n",
        "  def __init__(self, name, mail, grade):\n",
        "    # 자녀클래스에서도 __init__을 통해서 초기화 메서드를 생성하려면\n",
        "    # super().__init__(인자)로 작성해야 부모 클래스 인자값을 사용 가능. 기능만 사용할거면 super 필요x?\n",
        "    super().__init__(name, mail)\n",
        "    self.grade = grade\n",
        "\n",
        "  def answer_question(self):\n",
        "    print(\"문제에 대답합니다.\")\n",
        "\n",
        "  def print_grade(self):\n",
        "    print(self.grade, self.name, self.mail)"
      ],
      "metadata": {
        "id": "OdeDgGA5e6N3"
      },
      "execution_count": null,
      "outputs": []
    },
    {
      "cell_type": "code",
      "source": [
        "student = StudentUser(\"Student1\", \"Student1@1.1\", 3)"
      ],
      "metadata": {
        "id": "DjgHv9pwhI1d"
      },
      "execution_count": null,
      "outputs": []
    },
    {
      "cell_type": "code",
      "source": [
        "#상속받은 User메서드 실행\n",
        "student.print_user_info()"
      ],
      "metadata": {
        "id": "WKCLL5WIhKAW"
      },
      "execution_count": null,
      "outputs": []
    },
    {
      "cell_type": "code",
      "source": [
        "#StudentUser메서드 실행\n",
        "student.answer_question()\n",
        "student.print_grade()"
      ],
      "metadata": {
        "id": "P42i1qBohK-b"
      },
      "execution_count": null,
      "outputs": []
    },
    {
      "cell_type": "code",
      "source": [
        "# 메서드 종류"
      ],
      "metadata": {
        "id": "WeYDtWMehK53"
      },
      "execution_count": null,
      "outputs": []
    },
    {
      "cell_type": "markdown",
      "source": [
        "인스턴스 메서드 - self로 설정한 클래스 기본 메서드 인스턴스 변수와 클래스변수에 접근가능\n",
        "\n",
        "클래스 메서드 - 인스턴스를 생성하지 않고 접근할 수 있는 메서드로 클래스 변수에 접근할 수 있지만 인스턴스 변수에는 접근할 수 없다. \n",
        "\n",
        "클래스 메서드를 정의할때는 @classmethod 데커레이터를 추가합니다. 그리고 첫번째 인수에 클래스 객체가 자동으로 설정됩니다.\n",
        "\n",
        "정적 메서드 - 클래스 메서드와 동일하게 인스턴스를 생성하지 않고 접근할 수 있지만 인스턴스 변수와 클래스변수 모두에 접근할 수 없습니다. @staticmethod 데커레이터를 추가하며, 실질적으로 함수와 같은것이라고 보면되는데, 함수를 적절한 클래스에 포함시키는 편이 설계상으로 바람직할때 사용합니다."
      ],
      "metadata": {
        "id": "ec_UlRQvhNHC"
      }
    },
    {
      "cell_type": "code",
      "source": [
        "# 비공개 메서드\n",
        "\n",
        "class Sample():\n",
        "  def __init__(self, val1):\n",
        "    self.__instance_val1 = val1\n",
        "\n",
        "  def __private_method(self):\n",
        "    print(self.__instance_val1)\n",
        "\n",
        "s = Sample(10)\n",
        "print(s.__instance_val1)\n",
        "\n",
        "s.__private_method()"
      ],
      "metadata": {
        "id": "QYduNdLRhSj5"
      },
      "execution_count": null,
      "outputs": []
    },
    {
      "cell_type": "code",
      "source": [
        "# 특수 메서드"
      ],
      "metadata": {
        "id": "P5Cb84ZXis98"
      },
      "execution_count": null,
      "outputs": []
    },
    {
      "cell_type": "code",
      "source": [
        "# str 메서드 - 객체 표시용 문자열\n",
        "# repr 메서드 - 객체 정보를 나타내는 문자열"
      ],
      "metadata": {
        "id": "gHL-1c3AiuO7"
      },
      "execution_count": null,
      "outputs": []
    },
    {
      "cell_type": "code",
      "source": [
        "class User:\n",
        "  def __init__(self, name, mail):\n",
        "    self.name = name\n",
        "    self.mail = mail\n",
        "\n",
        "  def __str__(self):\n",
        "    return self.name + self.mail\n",
        "\n",
        "  def __repr__(self):\n",
        "    return str({'name' : self.name, 'mail' : self.mail})\n",
        "\n",
        "user = User(\"홍길동\", \"happy@naever.com\")\n",
        "print(user)\n",
        "print(repr(user))"
      ],
      "metadata": {
        "id": "vKf0gOUuivXf"
      },
      "execution_count": null,
      "outputs": []
    },
    {
      "cell_type": "markdown",
      "source": [
        "# 3. 정규표현식 복습"
      ],
      "metadata": {
        "id": "CMhgb_N9np5N"
      }
    },
    {
      "cell_type": "code",
      "source": [
        "# 정규표현식 기본\n",
        "\n",
        "# re -> 모듈을 불러와야 수행가능\n",
        "import re\n",
        "\n",
        "# [raw 문자열 사용]\n",
        "\n",
        "# 파이썬에서는 정규표현식 문자열을 사용할때 이스케이프가 필요한 메타문자가 있다. \n",
        "# 그래서 raw문자 사용을 권한다.\n",
        "\n",
        "# 만약 \\my-host\\라는 문자가 있는 경우\\\n",
        "# raw문자열이 없으면 \\\\\\\\my-host\\\\\\\\가 되지만\n",
        "# raw문자열을 사용하면 \\\\my-host\\\\가 된다.  앞에 r을 붙이면 된다."
      ],
      "metadata": {
        "id": "9q1zX6nknsgr"
      },
      "execution_count": null,
      "outputs": []
    },
    {
      "cell_type": "code",
      "source": [
        "# findall\n",
        "\n",
        "# 지정한 정규표현식에 일치하는 문자열을 리스트로 반환\n",
        "# findall 함수를 사용하면 지정한 조건에 일치하는 문자열을 리스트로 얻을 수 있다."
      ],
      "metadata": {
        "id": "vhXGoyjComvq"
      },
      "execution_count": null,
      "outputs": []
    },
    {
      "cell_type": "code",
      "source": [
        "import re\n",
        "\n",
        "text1 = \"In the face of ambiguity, refuse the temptation to guess\"\n",
        "match_list = re.findall(r\"t.\", text1)\n",
        "#2글자를 찾되 첫글자가 t\n",
        "\n",
        "print(match_list)"
      ],
      "metadata": {
        "id": "yqknQJhFpJSM"
      },
      "execution_count": null,
      "outputs": []
    },
    {
      "cell_type": "code",
      "source": [
        "# sub\n",
        "\n",
        "# 정규표현식으로 치환한 값을 반영하여 문자열을 반환\n",
        "\n",
        "import re\n",
        "\n",
        "text = \"Beautiful is better than ugly\"\n",
        "#sub(대체 해야할 문자 / 대체 할 문자 / 데이터)\n",
        "replaced = re.sub(r\" \", \"_\", text) # text 내용의 공백을 _로 바꿈. 공백문자는 \\s로도 쓰입니다.\n",
        "print(replaced)"
      ],
      "metadata": {
        "id": "wANsYVedpffO"
      },
      "execution_count": null,
      "outputs": []
    },
    {
      "cell_type": "code",
      "source": [
        "# 정규표현식으로 텍스트 분할하기\n",
        "\n",
        "# split함수를 사용하면 정규 표현식에 일치한 위치에서 분할한 문자열 리스트를 얻을 수 있습니다.\n",
        "\n",
        "text = 'Simple is Best'\n",
        "# ^ -> 문자의 시작 \n",
        "# + 직전 정규표현식을 1회이상 반복\n",
        "replaced = re.split((r\"[^a-zA-Z]+\"), text)\n",
        "print(replaced)\n",
        "\n",
        "#[^a-zA-Z0-9]+는 정규 표현식(regular expression)에서 사용되는 특수한 패턴으로, \n",
        "#알파벳 대소문자와 숫자가 아닌 문자들이 하나 이상 연속해서 나타나는 경우를 의미합니다.\n",
        "# 결국 공백을 구분자로 해서 분리"
      ],
      "metadata": {
        "id": "1wBUwfRNpfZm"
      },
      "execution_count": null,
      "outputs": []
    },
    {
      "cell_type": "code",
      "source": [
        "# 정규표현식의 그룹은 데이터 분석 할때 자주 사용하는 기능으로\n",
        "# 원하는 객체를 그루핑할 수 있다라는 장점이 있습니다.\n",
        "\n",
        "# 제품 -> [0-9]+\n",
        "# 카탈로그 코드 [0-9A-Z]+\n",
        "# 제품명 .*\n",
        "# 구분 문자 공백\n",
        "\n",
        "# ([0-9]+) +([ 0-9 A-Z]+) +(.*)\n",
        "\n",
        "#홈쇼핑#\n",
        "text = \"\"\"\n",
        "101 CF001 커피 \n",
        "102 CF002 커피(대용량)\n",
        "201 TE01 홍차\n",
        "202 TE02 홍차(대용량)\n",
        "\"\"\"\n",
        "#group 1 \n",
        "#group 2\n",
        "#group 3\n",
        "items = re.findall(r'([0-9]+) +([ 0-9 A-Z]+) +(.*)', text)\n",
        "print(items)"
      ],
      "metadata": {
        "id": "dSskq2vxs24b"
      },
      "execution_count": null,
      "outputs": []
    },
    {
      "cell_type": "code",
      "source": [
        "# 정규표현식 일치하는 부분 확인\n",
        "\n",
        "# search함수 - 정규표현식과 일치하는 첫번째 위치정보가 저장된 Match객체를 반환"
      ],
      "metadata": {
        "id": "Sl-nhTbTs8OQ"
      },
      "execution_count": null,
      "outputs": []
    },
    {
      "cell_type": "code",
      "source": [
        "# 정규표현식과 일치하는 부분 확인\n",
        "\n",
        "# re 모듈의 serach함수는 정규표현식과 일치하는 첫 번째 위치 정보가 저장된 Match 객체를 반환\n",
        "# Match 객체를 사용하면 일치하는 위치의 문자열과 함께 시작 및 종료 위치 정보 확보 가능\n",
        "\n",
        "# match객체\n",
        "# start , end , group, groups 튜플 그룹\n",
        "\n",
        "import re\n",
        "\n",
        "text = 'Error should never pass silently'\n",
        "\n",
        "m_obj = re.search(r\"p...\", text)\n",
        "\n",
        "print(m_obj.group()) # 일치 문자열 ()로 묶인 것인 없음\n",
        "print(m_obj.start()) # 시작 인덱스\n",
        "print(m_obj.end()) # 끝 인덱스"
      ],
      "metadata": {
        "id": "wOkWRk4ys-yT"
      },
      "execution_count": null,
      "outputs": []
    },
    {
      "cell_type": "code",
      "source": [
        "import re\n",
        "\n",
        "text = 'Errors should never pass silently'\n",
        "# 1번 그룹 - n.... n다음에 4글자가 아무거나\n",
        "# 2번 그룹 - P... n다음에 3글자가 아무거나\n",
        "\n",
        "m_obj = re.search(r\"(n....) (p...)\", text)\n",
        "print(m_obj.group())\n",
        "print(m_obj.groups())\n",
        "\n",
        "print(m_obj.start()) # 시작 인덱스\n",
        "print(m_obj.end()) # 끝 인덱스"
      ],
      "metadata": {
        "id": "MTAh3Od4vpyk"
      },
      "execution_count": null,
      "outputs": []
    },
    {
      "cell_type": "code",
      "source": [
        "# Greedy Lazy"
      ],
      "metadata": {
        "id": "G1wGoDWztZbn"
      },
      "execution_count": null,
      "outputs": []
    },
    {
      "cell_type": "code",
      "source": [
        "# Greedy, Lazy 사용하기\n",
        "# 정규표현식이 패턴에 일치하는 문자열을 추출할때\n",
        "# 일치하는 최대한의 범위를 추출하는 상태를 greedy(탐욕)이라고 한다.\n",
        "\n",
        "# 최소한은  Lazy라고 하는데 파이썬은 기본적으로 greedy하지만\n",
        "# ?를 붙이는 순간 Lazy해진다. \n",
        "\n",
        "import re\n",
        "\n",
        "text = 'In the face of ambiguity, refuse the temptation to guess'\n",
        "\n",
        "match_list = re.findall(r\"t.*\\s\", text) # t에서 아무문자나 해서 직전까지 0번 반복되어 공백까지\n",
        "print(match_list)\n",
        "\n",
        "# ?를 붙이면 t에서 가장 가까운 공백까지만 일치하는 것을 찾는 것을 볼 수 있음"
      ],
      "metadata": {
        "id": "kMGjR12xv1Ad"
      },
      "execution_count": null,
      "outputs": []
    },
    {
      "cell_type": "code",
      "source": [
        "import re\n",
        "\n",
        "text = 'In the face of ambiguity, refuse the temptation to guess'\n",
        "\n",
        "match_list = re.findall(r\"t.*?\\s\", text) # t에서 아무문자나 해서 직전까지 0번 반복되어 공백까지\n",
        "print(match_list)"
      ],
      "metadata": {
        "id": "8nfsX80jvpuB"
      },
      "execution_count": null,
      "outputs": []
    }
  ]
}