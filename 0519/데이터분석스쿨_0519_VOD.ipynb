{
  "nbformat": 4,
  "nbformat_minor": 0,
  "metadata": {
    "colab": {
      "provenance": []
    },
    "kernelspec": {
      "name": "python3",
      "display_name": "Python 3"
    },
    "language_info": {
      "name": "python"
    }
  },
  "cells": [
    {
      "cell_type": "code",
      "execution_count": null,
      "metadata": {
        "id": "KRQumaZ9T-m_"
      },
      "outputs": [],
      "source": [
        "# 메뉴 추천받기\n",
        "\n",
        "import random\n",
        "\n",
        "print(random.choice(['된장찌개','피자','제육볶음']))\n",
        "\n",
        "# if를 사용하여 곱빼기 주문\n",
        "\n",
        "import random\n",
        "\n",
        "food = random.choice([\"된장찌개\",\"피자\",\"제육볶음\"])\n",
        "\n",
        "if(food == \"제육볶음\"):\n",
        "  print(\"곱배기 주세요\")\n",
        "else:\n",
        "  print(\"그냥 주세요\")\n",
        "  \n",
        "print(\"종료\")"
      ]
    },
    {
      "cell_type": "code",
      "source": [
        "# 30번 추천받기\n",
        "\n",
        "i = [\"된장찌개\",\"제육볶음\",\"치킨\",\"떡볶이\",\"라면\"]\n",
        "for x in range(30):\n",
        "    print(random.choice(i))"
      ],
      "metadata": {
        "id": "_-vPUl-2bQDj"
      },
      "execution_count": null,
      "outputs": []
    },
    {
      "cell_type": "code",
      "source": [
        "# 딕셔너리\n",
        "information = {\"고향\":\"구리\", \"취미\":\"영화관람\", \"좋아하는 음식\":\"빵\"}\n",
        "print(information)\n",
        "print(information.get(\"취미\"))\n",
        "\n",
        "# 내용 추가\n",
        "information[\"직업\"] = \"학생\"\n",
        "\n",
        "# 내용 삭제\n",
        "del information[\"좋아하는 음식\"]\n",
        "\n",
        "# 딕셔너리 출력\n",
        "information = {\"고향\":\"수원\", \"취미\":\"영화관람\", \"좋아하는 음식\":\"국수\"}\n",
        "for x, y in information.items():\n",
        "    print(x)\n",
        "    print(y)"
      ],
      "metadata": {
        "id": "HkOczR2-hslH"
      },
      "execution_count": null,
      "outputs": []
    },
    {
      "cell_type": "code",
      "source": [
        "# 리스트 (중복가능, 순서 개념o)\n",
        "foods = [\"된장찌개\", \"피자\", \"제육볶음\"]\n",
        "print(foods[1])  # 피자\n",
        "print(foods[-1])  # 제육볶음   ['-3'. '-2'. '-1']\n",
        "\n",
        "# 값 추가/제거\n",
        "foods.append('김밥') # 추가\n",
        "del foods[1]  # 제거\n",
        "\n",
        "# 리스트 출력하기\n",
        "foods = [\"된장찌개\", \"피자\", \"제육볶음\"]\n",
        "for x in foods:\n",
        "    print(x)"
      ],
      "metadata": {
        "id": "k1zVgSimhx2m"
      },
      "execution_count": null,
      "outputs": []
    },
    {
      "cell_type": "code",
      "source": [
        "# while과 input을 이용한 값 추가\n",
        "lunch = [\"된장찌개\", \"피자\", \"제육볶음\", \"짜장면\"]\n",
        "\n",
        "while True:   # 무한루프라 값을 추가하고 ctrl+c로 종료해야됨\n",
        "  item = input(\"음식을 추가 해주세요 : \")  # item에 값이 추가됨\n",
        "  lunch.append(item) # item의 값을 lunch에 추가\n",
        "  print(lunch)"
      ],
      "metadata": {
        "id": "e-M6w1XP3Ude"
      },
      "execution_count": null,
      "outputs": []
    },
    {
      "cell_type": "code",
      "source": [
        "import random\n",
        "import time\n",
        "\n",
        "# q로 무한루프 끝내기 / list를 set형태로 바꾸기\n",
        "lunch = [\"된장찌개\", \"피자\", \"제육볶음\", \"짜장면\"]\n",
        "\n",
        "while True:\n",
        "    print(lunch)\n",
        "    item = input(\"음식을 추가 해주세요 : \")\n",
        "    if(item == \"q\"):\n",
        "        break\n",
        "    else:\n",
        "        lunch.append(item)\n",
        "print(lunch)\n",
        "\n",
        "set_lunch = set(lunch)\n",
        "\n",
        "# 차집합을 이용한 값 삭제\n",
        "while True:\n",
        "    print(set_lunch)\n",
        "    item = input(\"음식을 삭제해주세요 : \")\n",
        "    if(item == \"q\"):\n",
        "        break\n",
        "    else:\n",
        "        set_lunch = set_lunch - set([item])\n",
        "\n",
        "print(set_lunch, \"중에서 선택합니다.\")\n",
        "\n",
        "# 5초 뒤에 출력\n",
        "for i in range(5):\n",
        "  print((5-i))\n",
        "  time.sleep(1)   # 1초 기다리기\n",
        "\n",
        "print(random.choice(list(set_lunch)))"
      ],
      "metadata": {
        "id": "l3USS27M3hk5"
      },
      "execution_count": null,
      "outputs": []
    },
    {
      "cell_type": "code",
      "source": [
        "# set (중복 불가, 순서 개념x)\n",
        "foods = [\"된장찌개\", \"피자\", \"제육볶음\"]\n",
        "foods_set = set(foods)   # foods 리스트로 foods_set 셋 만들기\n",
        "print(foods_set)\n",
        "\n",
        "foods = [\"된장찌개\", \"피자\", \"제육볶음\", \"제육볶음\"]\n",
        "foods_set1 = set(foods)\n",
        "print(foods_set1)  # 중복된 값은 하나만 나옴\n",
        "print(foods)       # 중복된 값도 다 나옴\n",
        "\n",
        "# 합집합\n",
        "menu1 = set([\"된장찌개\", \"피자\", \"제육볶음\"])\n",
        "menu2 = set([\"된장찌개\", \"떡국\", \"김밥\"])\n",
        "menu3 = menu1 | menu2  # | 합집합\n",
        "print(menu3)\n",
        "\n",
        "# 교집합\n",
        "menu1 = set([\"된장찌개\", \"피자\", \"제육볶음\"])\n",
        "menu2 = set([\"된장찌개\", \"떡국\", \"김밥\"])\n",
        "menu3 = menu1 & menu2  # & 교집합\n",
        "print(menu3)\n",
        "\n",
        "# 차집합\n",
        "menu1 = set([\"된장찌개\", \"피자\", \"제육볶음\"])\n",
        "menu2 = set([\"된장찌개\", \"떡국\", \"김밥\"])\n",
        "menu3 = menu1 - menu2  # - 차집합(집합과 집합끼리 가능)\n",
        "print(menu3)"
      ],
      "metadata": {
        "id": "toKGYNovkWWu"
      },
      "execution_count": null,
      "outputs": []
    },
    {
      "cell_type": "code",
      "source": [
        "# 문자를 집합으로 바꾸기\n",
        "\n",
        "# 문자를 리스트로 바꾸고 set으로 바꾼다.\n",
        "set_lunch = set([\"된장찌개\", \"피자\", \"제육볶음\", \"짜장면\"])\n",
        "item = \"짜장면\"\n",
        "print(set_lunch - set([item]))"
      ],
      "metadata": {
        "id": "7dJ7S3_60mBY"
      },
      "execution_count": null,
      "outputs": []
    },
    {
      "cell_type": "code",
      "source": [
        "# 이상형이 뭐에요? 딕셔너리 형태로?\n",
        "\n",
        "# key값 받기\n",
        "total_dictionary = {}\n",
        "while True:\n",
        "    question = input(\"질문을 입력해주세요 : \")\n",
        "    if question == \"q\":\n",
        "        break\n",
        "    else:\n",
        "        total_dictionary[question] = \"\"\n",
        "\n",
        "# value값 받기\n",
        "for i in total_dictionary:\n",
        "    print(i)\n",
        "    answer = input(\"답변을 입력해주세요 : \")\n",
        "    total_dictionary[i] = answer   # total_dictionarty[key값]\n",
        "print(total_dictionary)"
      ],
      "metadata": {
        "id": "JWYPKipk0rjm"
      },
      "execution_count": null,
      "outputs": []
    },
    {
      "cell_type": "code",
      "source": [
        "# 이상형이 뭐에요? 딕셔너리 형태로?\n",
        "\n",
        "# key값 받기\n",
        "total_list = []\n",
        "\n",
        "while True:\n",
        "    question = input(\"질문을 입력해주세요 : \")\n",
        "    if question == \"q\":\n",
        "        break\n",
        "    else:\n",
        "      total_list.append({\"질문\": question, \"답변\" : \"\"})   # 일단 빈 문자열이 value\n",
        "\n",
        "# value값 받기\n",
        "for i in total_list:\n",
        "    # print(i) 로 입력하면 \"질문\": 취미는? 이런 식으로 나옴\n",
        "    print(i[\"질문\"]) \n",
        "    answer = input(\"답변을 입력해주세요 : \")\n",
        "    i[\"답변\"] = answer\n",
        "print(total_list)\n"
      ],
      "metadata": {
        "id": "8AEYPC33Ru8o"
      },
      "execution_count": null,
      "outputs": []
    }
  ]
}